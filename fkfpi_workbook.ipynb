{
 "cells": [
  {
   "cell_type": "code",
   "execution_count": 1,
   "metadata": {
    "collapsed": true
   },
   "outputs": [],
   "source": [
    "import numpy as np\n",
    "import pandas as pd\n",
    "pd.options.display.max_rows = 5\n",
    "import matplotlib.pyplot as plt\n",
    "import gvar as gv\n",
    "import fkfpi_lib as flib"
   ]
  },
  {
   "cell_type": "code",
   "execution_count": 2,
   "metadata": {
    "collapsed": true
   },
   "outputs": [],
   "source": [
    "switches = dict()\n",
    "switches['ensemble'] = ['l1648f211b580m013m065m838','l2448f211b580m0064m0640m828','l3248f211b580m00235m0647m831',\n",
    "                'l2464f211b600m0170m0509m635','l2464f211b600m0130m0509m635','l2464f211b600m0102m0509m635','l2464f211b600m00507m0507m628','l3264f211b600m00507m0507m628','l4064f211b600m00507m0507m628', 'l4864f211b600m00184m0507m628',\n",
    "                'l3296f211b630m0074m037m440','l4896f211b630m00363m0363m430']\n",
    "\n",
    "switches['ansatz'] = dict()\n",
    "switches['ansatz']['type'] = 'xpt' # Type of fit: 'xpt' or 'MA'\n",
    "switches['ansatz']['truncation'] = 4 # Order to truncate series\n",
    "switches['ansatz']['FV'] = False # True turns on NLO FV correction\n",
    "switches['ansatz']['xsb'] = False # True turns on O(a) discretization\n",
    "switches['ansatz']['alpha'] = False # True turns on O(alpha_s a^2) discretization"
   ]
  },
  {
   "cell_type": "code",
   "execution_count": 3,
   "metadata": {
    "collapsed": true
   },
   "outputs": [],
   "source": [
    "# Set priors for Xpt\n",
    "priors = dict()\n",
    "priors['L5'] = gv.gvar(0.0, 10.0)\n",
    "priors['s2'] = gv.gvar(0.0, 10.0)\n",
    "# Physical parameters from PDG\n",
    "phys_params = dict()\n",
    "# http://pdg.lbl.gov/2016/tables/rpp2016-tab-mesons-light.pdf\n",
    "phys_params['mpi'] = gv.gvar(139.57018, 0.00035) # mpi +/- [MeV]"
   ]
  },
  {
   "cell_type": "code",
   "execution_count": 4,
   "metadata": {},
   "outputs": [],
   "source": [
    "data = pd.read_csv('./github_fkfpi_v1.csv')\n",
    "hisq_params = pd.read_csv('./hisq_params.csv')"
   ]
  },
  {
   "cell_type": "code",
   "execution_count": 5,
   "metadata": {},
   "outputs": [],
   "source": [
    "fmt_data = flib.format_data(switches,data,hisq_params,priors)"
   ]
  },
  {
   "cell_type": "code",
   "execution_count": 6,
   "metadata": {},
   "outputs": [],
   "source": [
    "fit = flib.fit_data(switches,fmt_data,phys_params)"
   ]
  },
  {
   "cell_type": "code",
   "execution_count": 8,
   "metadata": {},
   "outputs": [
    {
     "name": "stdout",
     "output_type": "stream",
     "text": [
      "Least Square Fit:\n",
      "  chi2/dof [dof] = 6.7 [12]    Q = 4.2e-12    logGBF = -0.89753\n",
      "\n",
      "Parameters:\n",
      "             L5    0.000687 (43)       [        0 (10) ]  \n",
      "             s2   -0.000498 (79)       [        0 (10) ]  \n",
      "          mpi 0     0.23610 (29)       [  0.23609 (29) ]  \n",
      "              1     0.16542 (22)       [  0.16543 (22) ]  \n",
      "              2     0.09958 (44)       [  0.10093 (48) ]  **\n",
      "              3     0.24335 (15)       [  0.24339 (15) ]  \n",
      "              4     0.21444 (15)       [  0.21438 (15) ]  \n",
      "              5     0.18873 (22)       [  0.18862 (23) ]  \n",
      "              6     0.13572 (32)       [  0.13556 (32) ]  \n",
      "              7     0.13426 (17)       [  0.13427 (17) ]  \n",
      "              8     0.13403 (15)       [  0.13402 (15) ]  \n",
      "              9     0.08116 (23)       [  0.08128 (24) ]  \n",
      "             10     0.14069 (12)       [  0.14074 (12) ]  \n",
      "             11    0.097866 (63)       [ 0.097896 (63) ]  \n",
      "          mka 0     0.40456 (23)       [  0.40460 (25) ]  \n",
      "              1     0.38689 (19)       [  0.38691 (21) ]  \n",
      "              2     0.37764 (23)       [  0.37796 (23) ]  *\n",
      "              3     0.34356 (13)       [  0.34341 (14) ]  *\n",
      "              4     0.33327 (14)       [  0.33309 (16) ]  *\n",
      "              5     0.32436 (18)       [  0.32416 (21) ]  \n",
      "              6     0.31030 (21)       [  0.31044 (22) ]  \n",
      "              7     0.31005 (16)       [  0.31003 (17) ]  \n",
      "              8     0.31036 (16)       [  0.31018 (19) ]  \n",
      "              9     0.30191 (20)       [  0.30204 (22) ]  \n",
      "             10     0.24100 (12)       [  0.24110 (14) ]  \n",
      "             11    0.228605 (86)       [ 0.228703 (91) ]  *\n",
      "          mss 0     0.51874 (17)       [  0.51875 (17) ]  \n",
      "              1     0.51494 (13)       [  0.51495 (14) ]  \n",
      "              2     0.51314 (13)       [  0.51314 (13) ]  \n",
      "              3     0.42079 (13)       [  0.42073 (13) ]  \n",
      "              4     0.41979 (13)       [  0.41971 (13) ]  \n",
      "              5     0.41810 (16)       [  0.41803 (16) ]  \n",
      "              6     0.41571 (14)       [  0.41576 (15) ]  \n",
      "              7     0.41539 (12)       [  0.41539 (12) ]  \n",
      "              8     0.41561 (11)       [  0.41557 (12) ]  \n",
      "              9     0.41418 (11)       [  0.41420 (11) ]  \n",
      "             10     0.31167 (10)       [  0.31170 (11) ]  \n",
      "             11    0.309327 (69)       [ 0.309358 (70) ]  \n",
      "          aw0 0     0.88040 (30)       [  0.88040 (30) ]  \n",
      "              1     0.88040 (30)       [  0.88040 (30) ]  \n",
      "              2     0.88039 (30)       [  0.88040 (30) ]  \n",
      "              3     0.70361 (50)       [  0.70360 (50) ]  \n",
      "              4     0.70361 (50)       [  0.70360 (50) ]  \n",
      "              5     0.70361 (50)       [  0.70360 (50) ]  \n",
      "              6     0.70359 (50)       [  0.70360 (50) ]  \n",
      "              7     0.70360 (50)       [  0.70360 (50) ]  \n",
      "              8     0.70360 (50)       [  0.70360 (50) ]  \n",
      "              9     0.70360 (50)       [  0.70360 (50) ]  \n",
      "             10     0.51050 (30)       [  0.51050 (30) ]  \n",
      "             11     0.51050 (30)       [  0.51050 (30) ]  \n",
      "\n",
      "Settings:\n",
      "  svdcut/n = 1e-12/0    tol = (1e-08*,1e-10,1e-10)    (itns/time = 11/0.1)\n",
      "\n"
     ]
    }
   ],
   "source": [
    "print(fit)"
   ]
  },
  {
   "cell_type": "code",
   "execution_count": null,
   "metadata": {
    "collapsed": true
   },
   "outputs": [],
   "source": []
  }
 ],
 "metadata": {
  "kernelspec": {
   "display_name": "Python 3",
   "language": "python",
   "name": "python3"
  },
  "language_info": {
   "codemirror_mode": {
    "name": "ipython",
    "version": 3
   },
   "file_extension": ".py",
   "mimetype": "text/x-python",
   "name": "python",
   "nbconvert_exporter": "python",
   "pygments_lexer": "ipython3",
   "version": "3.6.1"
  }
 },
 "nbformat": 4,
 "nbformat_minor": 2
}
