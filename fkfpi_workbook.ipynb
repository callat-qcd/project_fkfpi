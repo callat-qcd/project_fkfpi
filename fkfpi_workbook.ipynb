{
 "cells": [
  {
   "cell_type": "code",
   "execution_count": 1,
   "metadata": {},
   "outputs": [
    {
     "name": "stdout",
     "output_type": "stream",
     "text": [
      "python version: 3.6.1 |Anaconda 4.4.0 (x86_64)| (default, May 11 2017, 13:04:09) \n",
      "[GCC 4.2.1 Compatible Apple LLVM 6.0 (clang-600.0.57)]\n",
      "pandas version: 0.20.1\n",
      "numpy  version: 1.12.1\n",
      "gvar   version: 8.3.2\n"
     ]
    }
   ],
   "source": [
    "from __future__ import print_function\n",
    "import sys\n",
    "import numpy as np\n",
    "import pandas as pd\n",
    "pd.options.display.max_rows = 5\n",
    "import matplotlib.pyplot as plt\n",
    "import gvar as gv\n",
    "import fkfpi_lib as flib\n",
    "print(\"python version:\", sys.version)\n",
    "print(\"pandas version:\", pd.__version__)\n",
    "print(\"numpy  version:\", np.__version__)\n",
    "print(\"gvar   version:\", gv.__version__)"
   ]
  },
  {
   "cell_type": "code",
   "execution_count": 2,
   "metadata": {
    "collapsed": true
   },
   "outputs": [],
   "source": [
    "switches = dict()\n",
    "switches['ensemble'] = [\n",
    "    'a15m310','a12m310','a09m310',\n",
    "    'a15m220','a12m220','a09m220','a12m220S','a12m220L',\n",
    "    'a15m130','a12m130']\n",
    "switches['ansatz'] = dict()\n",
    "switches['ansatz']['FV'] = True # True turns on NLO FV correction\n",
    "switches['ansatz']['type'] = 'MA' # Type of fit: 'xpt' or 'MA'\n",
    "switches['ansatz']['a2dm'] = 'avg' # avg or individual\n",
    "switches['scale'] = 'PK' # PP, PK, KK, LamChi = 4 * pi * sqrt(FA * FB)"
   ]
  },
  {
   "cell_type": "code",
   "execution_count": 3,
   "metadata": {
    "collapsed": true
   },
   "outputs": [],
   "source": [
    "# Set priors for Xpt\n",
    "priors = dict()\n",
    "priors['L5'] = gv.gvar(0.0, 1.0)\n",
    "priors['s2'] = gv.gvar(0.0, 1.0)\n",
    "# Physical parameters from PDG\n",
    "phys_p = dict()\n",
    "# http://pdg.lbl.gov/2016/tables/rpp2016-tab-mesons-light.pdf\n",
    "phys_p['mpi'] = gv.gvar(134.8, 0.3) #FLAG 2017 (16)\n",
    "phys_p['mka'] = gv.gvar(494.2 , 0.3) #FLAG 2017 (16)\n",
    "phys_p['F0'] = gv.gvar(80,20) #FLAG use of F0 in SU(2) correction for FK/Fpi\n",
    "phys_p['meta'] = gv.gvar(547.862,0.017) #PDG\n",
    "# http://pdg.lbl.gov/2015/reviews/rpp2015-rev-pseudoscalar-meson-decay-cons.pdf\n",
    "phys_p['Fpi'] = gv.gvar(130.2/np.sqrt(2), 1.7/np.sqrt(2)) #PDG fpi+ eq(16)\n",
    "phys_p['Fka'] = gv.gvar(155.6/np.sqrt(2), 0.4/np.sqrt(2)) #PDG fK++ eq(16)\n",
    "if switches['scale'] == 'PK':\n",
    "    phys_p['Lchi'] = 4*np.pi*np.sqrt(phys_p['Fpi']*phys_p['Fka'])\n",
    "elif switches['scale'] == 'PP':\n",
    "    phys_p['Lchi'] = 4*np.pi*phys_p['Fpi']\n",
    "elif switches['scale'] == 'KK':\n",
    "    phys_p['Lchi'] = 4*np.pi*phys_p['Fka']\n",
    "# FLAG FK/Fpi\n",
    "flag_FKFpi = gv.gvar(1.1933, 0.0029)"
   ]
  },
  {
   "cell_type": "code",
   "execution_count": 4,
   "metadata": {
    "collapsed": true
   },
   "outputs": [],
   "source": [
    "data = pd.read_csv('./github_fkfpi_v1.csv')\n",
    "hisq_params = pd.read_csv('./hisq_params.csv')\n",
    "mixed_params = pd.read_csv('./github_mixed_v1.csv')"
   ]
  },
  {
   "cell_type": "code",
   "execution_count": 5,
   "metadata": {
    "scrolled": true
   },
   "outputs": [],
   "source": [
    "fmt_data = flib.format_data(switches,data,mixed_params,hisq_params,priors)\n",
    "#print(fmt_data)"
   ]
  },
  {
   "cell_type": "code",
   "execution_count": 6,
   "metadata": {},
   "outputs": [
    {
     "name": "stdout",
     "output_type": "stream",
     "text": [
      "[0.3062(13) 0.21899(92) 0.14814(37) 0.2557(19) 0.17711(85) 0.10889(26)\n",
      " 0.17711(85) 0.17711(85) 0.2274(38) 0.1494(13)]\n",
      "[0.03373(59) 0.01077(36) 0.00197(14) 0.03034(62) 0.01084(28) 0.001504(93)\n",
      " 0.01055(30) 0.01077(30) 0.03252(82) 0.01136(32)]\n"
     ]
    }
   ],
   "source": [
    "print(fmt_data['p']['mju'])\n",
    "print(fmt_data['p']['a2dm'])"
   ]
  },
  {
   "cell_type": "code",
   "execution_count": 7,
   "metadata": {},
   "outputs": [],
   "source": [
    "fit = flib.fit_data(switches,fmt_data,phys_p)"
   ]
  },
  {
   "cell_type": "code",
   "execution_count": 8,
   "metadata": {
    "scrolled": false
   },
   "outputs": [
    {
     "name": "stdout",
     "output_type": "stream",
     "text": [
      "Least Square Fit:\n",
      "  chi2/dof [dof] = 3.7 [10]    Q = 6.2e-05    logGBF = 21.823\n",
      "\n",
      "Parameters:\n",
      "             L5   0.0002219 (83)       [     0.0 (1.0) ]  \n",
      "             s2      -2e-16 +- 1       [     0.0 (1.0) ]  \n",
      "          mpi 0     0.23615 (29)       [  0.23609 (29) ]  \n",
      "              1     0.18863 (22)       [  0.18862 (23) ]  \n",
      "              2     0.14065 (12)       [  0.14074 (12) ]  \n",
      "              3     0.16544 (22)       [  0.16543 (22) ]  \n",
      "              4     0.13424 (17)       [  0.13427 (17) ]  \n",
      "              5    0.097904 (62)       [ 0.097896 (63) ]  \n",
      "              6     0.13554 (32)       [  0.13556 (32) ]  \n",
      "              7     0.13403 (15)       [  0.13402 (15) ]  \n",
      "              8     0.10046 (44)       [  0.10093 (48) ]  \n",
      "              9     0.08143 (23)       [  0.08128 (24) ]  \n",
      "          mka 0     0.40430 (23)       [  0.40460 (25) ]  *\n",
      "              1     0.32417 (19)       [  0.32416 (21) ]  \n",
      "              2     0.24092 (12)       [  0.24110 (14) ]  *\n",
      "              3     0.38702 (20)       [  0.38691 (21) ]  \n",
      "              4     0.31013 (16)       [  0.31003 (17) ]  \n",
      "              5    0.228729 (85)       [ 0.228703 (91) ]  \n",
      "              6     0.31045 (21)       [  0.31044 (22) ]  \n",
      "              7     0.31045 (16)       [  0.31018 (19) ]  *\n",
      "              8     0.37785 (23)       [  0.37796 (23) ]  \n",
      "              9     0.30218 (20)       [  0.30204 (22) ]  \n",
      "          mss 0     0.51868 (17)       [  0.51875 (17) ]  \n",
      "              1     0.41803 (16)       [  0.41803 (16) ]  \n",
      "              2     0.31165 (10)       [  0.31170 (11) ]  \n",
      "              3     0.51498 (13)       [  0.51495 (14) ]  \n",
      "              4     0.41541 (12)       [  0.41539 (12) ]  \n",
      "              5    0.309367 (69)       [ 0.309358 (70) ]  \n",
      "              6     0.41577 (15)       [  0.41576 (15) ]  \n",
      "              7     0.41563 (12)       [  0.41557 (12) ]  \n",
      "              8     0.51314 (13)       [  0.51314 (13) ]  \n",
      "              9     0.41422 (11)       [  0.41420 (11) ]  \n",
      "          aw0 0     0.88040 (30)       [  0.88040 (30) ]  \n",
      "              1     0.70360 (50)       [  0.70360 (50) ]  \n",
      "              2     0.51050 (30)       [  0.51050 (30) ]  \n",
      "              3     0.88040 (30)       [  0.88040 (30) ]  \n",
      "              4     0.70360 (50)       [  0.70360 (50) ]  \n",
      "              5     0.51050 (30)       [  0.51050 (30) ]  \n",
      "              6     0.70360 (50)       [  0.70360 (50) ]  \n",
      "              7     0.70360 (50)       [  0.70360 (50) ]  \n",
      "              8     0.88040 (30)       [  0.88040 (30) ]  \n",
      "              9     0.70360 (50)       [  0.70360 (50) ]  \n",
      "          mju 0      0.3054 (12)       [   0.3062 (13) ]  \n",
      "              1     0.21902 (90)       [  0.21899 (92) ]  \n",
      "              2     0.14797 (37)       [  0.14814 (37) ]  \n",
      "              3      0.2561 (19)       [   0.2557 (19) ]  \n",
      "              4     0.17728 (85)       [  0.17711 (85) ]  \n",
      "              5     0.10891 (26)       [  0.10889 (26) ]  \n",
      "              6     0.17713 (85)       [  0.17711 (85) ]  \n",
      "              7     0.17734 (85)       [  0.17711 (85) ]  \n",
      "              8      0.2262 (37)       [   0.2274 (38) ]  \n",
      "              9      0.1495 (13)       [   0.1494 (13) ]  \n",
      "          mjs 0     0.43416 (94)       [  0.43463 (95) ]  \n",
      "              1     0.33462 (93)       [  0.33459 (95) ]  \n",
      "              2     0.24258 (41)       [  0.24270 (42) ]  \n",
      "              3     0.41109 (95)       [  0.41090 (96) ]  \n",
      "              4     0.31902 (78)       [  0.31877 (79) ]  \n",
      "              5     0.23007 (34)       [  0.23003 (34) ]  \n",
      "              6     0.31879 (79)       [  0.31877 (79) ]  \n",
      "              7     0.31900 (79)       [  0.31877 (79) ]  \n",
      "              8      0.3981 (15)       [   0.3985 (15) ]  \n",
      "              9     0.30842 (87)       [  0.30824 (87) ]  \n",
      "          mru 0      0.4502 (11)       [   0.4508 (11) ]  \n",
      "              1     0.34401 (95)       [  0.34397 (98) ]  \n",
      "              2     0.24676 (50)       [  0.24697 (51) ]  \n",
      "              3      0.4312 (16)       [   0.4309 (16) ]  \n",
      "              4     0.33189 (88)       [  0.33162 (89) ]  \n",
      "              5     0.23292 (38)       [  0.23288 (38) ]  \n",
      "              6     0.33164 (88)       [  0.33162 (89) ]  \n",
      "              7     0.33191 (88)       [  0.33162 (89) ]  \n",
      "              8      0.4285 (20)       [   0.4291 (21) ]  \n",
      "              9      0.3264 (13)       [   0.3260 (13) ]  \n",
      "          mrs 0     0.54871 (68)       [  0.54895 (69) ]  \n",
      "              1     0.43053 (43)       [  0.43052 (44) ]  \n",
      "              2     0.31496 (30)       [  0.31505 (30) ]  \n",
      "              3     0.54182 (54)       [  0.54172 (55) ]  \n",
      "              4     0.42814 (33)       [  0.42803 (34) ]  \n",
      "              5     0.31132 (21)       [  0.31130 (21) ]  \n",
      "              6     0.42804 (34)       [  0.42803 (34) ]  \n",
      "              7     0.42812 (33)       [  0.42803 (34) ]  \n",
      "              8     0.54270 (57)       [  0.54282 (57) ]  \n",
      "              9     0.42722 (34)       [  0.42718 (34) ]  \n",
      "         a2dm 0     0.03346 (59)       [  0.03373 (59) ]  \n",
      "              1     0.01078 (35)       [  0.01077 (36) ]  \n",
      "              2     0.00196 (14)       [  0.00197 (14) ]  \n",
      "              3     0.03049 (61)       [  0.03034 (62) ]  \n",
      "              4     0.01093 (27)       [  0.01084 (28) ]  \n",
      "              5    0.001510 (92)       [ 0.001504 (93) ]  \n",
      "              6     0.01055 (30)       [  0.01055 (30) ]  \n",
      "              7     0.01080 (30)       [  0.01077 (30) ]  \n",
      "              8     0.03222 (81)       [  0.03252 (82) ]  \n",
      "              9     0.01142 (32)       [  0.01136 (32) ]  \n",
      "         a2di 0      0.1002 (97)       [    0.087 (11) ]  *\n",
      "              1      0.0311 (26)       [   0.0312 (26) ]  \n",
      "              2     0.00519 (42)       [  0.00515 (42) ]  \n",
      "              3      0.0792 (92)       [    0.086 (10) ]  \n",
      "              4      0.0292 (25)       [   0.0300 (25) ]  \n",
      "              5     0.00494 (40)       [  0.00496 (40) ]  \n",
      "              6      0.0308 (26)       [   0.0309 (26) ]  \n",
      "              7      0.0295 (25)       [   0.0303 (25) ]  \n",
      "              8      0.0950 (91)       [    0.084 (10) ]  *\n",
      "              9      0.0295 (25)       [   0.0304 (25) ]  \n",
      "\n",
      "Settings:\n",
      "  svdcut/n = 1e-12/10    tol = (1e-08*,1e-10,1e-10)    (itns/time = 27/0.3)\n",
      "\n"
     ]
    }
   ],
   "source": [
    "print(fit)"
   ]
  },
  {
   "cell_type": "code",
   "execution_count": 9,
   "metadata": {},
   "outputs": [
    {
     "name": "stdout",
     "output_type": "stream",
     "text": [
      "prediction from LQCD\n",
      "FK / Fpi =  1.1804(13)\n",
      "FK+/Fpi+ =  1.1782(13)\n",
      "prediction from LQCD + meta_PDG\n",
      "FK / Fpi =  1.1775(13)\n",
      "FK+/Fpi+ =  1.1752(13)\n",
      "None\n"
     ]
    }
   ],
   "source": [
    "print(flib.fkfpi_phys(phys_p,fit))"
   ]
  },
  {
   "cell_type": "code",
   "execution_count": null,
   "metadata": {
    "collapsed": true
   },
   "outputs": [],
   "source": []
  }
 ],
 "metadata": {
  "kernelspec": {
   "display_name": "Python 3",
   "language": "python",
   "name": "python3"
  },
  "language_info": {
   "codemirror_mode": {
    "name": "ipython",
    "version": 3
   },
   "file_extension": ".py",
   "mimetype": "text/x-python",
   "name": "python",
   "nbconvert_exporter": "python",
   "pygments_lexer": "ipython3",
   "version": "3.6.1"
  }
 },
 "nbformat": 4,
 "nbformat_minor": 2
}
