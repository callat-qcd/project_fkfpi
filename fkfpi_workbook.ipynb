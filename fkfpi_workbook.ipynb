{
 "cells": [
  {
   "cell_type": "code",
   "execution_count": 1,
   "metadata": {},
   "outputs": [
    {
     "name": "stdout",
     "output_type": "stream",
     "text": [
      "python version: 3.6.5 |Anaconda, Inc.| (default, Apr 26 2018, 08:42:37) \n",
      "[GCC 4.2.1 Compatible Clang 4.0.1 (tags/RELEASE_401/final)]\n",
      "numpy  version: 1.16.1\n",
      "gvar   version: 9.0.2\n"
     ]
    }
   ],
   "source": [
    "from __future__ import print_function\n",
    "import sys\n",
    "import numpy as np\n",
    "import tables as h5\n",
    "#import pandas as pd\n",
    "#pd.options.display.max_rows = 30\n",
    "import matplotlib.pyplot as plt\n",
    "%matplotlib notebook\n",
    "import gvar as gv\n",
    "import fkfpi_lib as flib\n",
    "import input_params as ip\n",
    "print(\"python version:\", sys.version)\n",
    "#print(\"pandas version:\", pd.__version__)\n",
    "print(\"numpy  version:\", np.__version__)\n",
    "print(\"gvar   version:\", gv.__version__)"
   ]
  },
  {
   "cell_type": "code",
   "execution_count": 2,
   "metadata": {},
   "outputs": [],
   "source": [
    "switches = ip.switches\n",
    "# To override default choices of fit type and ensembles, set override=True and adjust here\n",
    "override=False\n",
    "if override:\n",
    "    switches['ensemble'] = [\n",
    "        'a15m400','a12m400','a09m400',\n",
    "        'a15m350','a12m350','a09m350',\n",
    "        'a15m310','a12m310','a09m310',\n",
    "        'a15m220','a12m220','a09m220','a12m220S','a12m220L',\n",
    "        'a12m130','a15m130']\n",
    "    switches['ansatz'] = dict()\n",
    "    switches['ansatz']['FV'] = True # True turns on NLO FV correction\n",
    "    switches['ansatz']['type'] = 'xpt' # Type of fit: 'xpt' or 'MA'\n",
    "    switches['ansatz']['a2dm'] = 'individual' # avg or individual\n",
    "    switches['scale'] = 'PK' # PP, PK, KK, LamChi = 4 * pi * sqrt(FA * FB)\n",
    "    switches['debug'] = True"
   ]
  },
  {
   "cell_type": "code",
   "execution_count": null,
   "metadata": {},
   "outputs": [],
   "source": [
    "# Set priors for Xpt\n",
    "priors = ip.priors\n",
    "if override:\n",
    "    priors['L5']  = gv.gvar(0.0, 1.0)\n",
    "    priors['s4']  = gv.gvar(0.0, 1.0)\n",
    "    priors['c4']  = gv.gvar(0.0, 1.0)\n",
    "    priors['d4']  = gv.gvar(0.0, 1.0)\n",
    "    priors['e4']  = gv.gvar(0.0, 1.0)\n",
    "    priors['s6']  = gv.gvar(0.0, 1.0)\n",
    "    priors['sc6'] = gv.gvar(0.0, 1.0)\n",
    "    priors['sd6'] = gv.gvar(0.0, 1.0)\n",
    "    priors['se6'] = gv.gvar(0.0, 1.0)\n",
    "# Physical parameters from PDG\n",
    "phys_p = ip.phys_p\n",
    "# FLAG FK/Fpi\n",
    "flag_FKFpi = ip.flag_FKFpi"
   ]
  },
  {
   "cell_type": "code",
   "execution_count": null,
   "metadata": {
    "scrolled": true
   },
   "outputs": [],
   "source": [
    "data = h5.open_file('FK_Fpi_data.h5','r')\n",
    "fmt_data = flib.format_h5_data(switches,data,priors)\n",
    "data.close()"
   ]
  },
  {
   "cell_type": "code",
   "execution_count": null,
   "metadata": {},
   "outputs": [],
   "source": [
    "data = pd.read_csv('./github_fkfpi_v2.csv')\n",
    "hisq_params = pd.read_csv('./hisq_params.csv')\n",
    "mixed_params = pd.read_csv('./github_mixed_v1.csv')\n",
    "data.groupby('ensemble').describe()"
   ]
  },
  {
   "cell_type": "code",
   "execution_count": null,
   "metadata": {
    "scrolled": true
   },
   "outputs": [],
   "source": [
    "fmt_data = flib.format_data(switches,data,mixed_params,hisq_params,priors)\n",
    "#print(fmt_data)\n",
    "print(fmt_data['y'])"
   ]
  },
  {
   "cell_type": "code",
   "execution_count": null,
   "metadata": {},
   "outputs": [],
   "source": [
    "jr = ['ju','ru','js','rs']\n",
    "mrks = ['s','o','d','H']\n",
    "shift = [-0.003,-0.001,0.001,0.003]\n",
    "fig = plt.figure('w0_DMix',figsize=(7,4.326237))\n",
    "ax = plt.axes([0.15,0.15,0.8,0.8])\n",
    "colors ={'a15m400':'#ec5d57','a15m350':'#ec5d57','a15m310':'#ec5d57','a15m220':'#ec5d57','a15m130':'#ec5d57',\n",
    "        'a12m400':'#70bf41','a12m350':'#70bf41','a12m310':'#70bf41','a12m220':'#70bf41','a12m130':'#70bf41','a12m220S':'#70bf41','a12m220L':'#70bf41',\n",
    "        'a09m400':'#51a7f9','a09m350':'#51a7f9','a09m310':'#51a7f9','a09m220':'#51a7f9'}\n",
    "for i,e in enumerate(switches['ensemble']):\n",
    "    epi = fmt_data['p']['mpi'][i]/fmt_data['x']['Lchi'][i]\n",
    "    for j,mix in enumerate(jr):\n",
    "        wMix = fmt_data['p']['wMix_'+mix][i]\n",
    "        ax.errorbar(epi.mean+shift[j],wMix.mean,yerr=wMix.sdev,color=colors[e],marker=mrks[j],elinewidth=1,capsize=3,mfc='none')"
   ]
  },
  {
   "cell_type": "code",
   "execution_count": null,
   "metadata": {},
   "outputs": [],
   "source": [
    "fit = flib.fit_data(switches,fmt_data,phys_p)\n",
    "print(fit.format(maxline=True))"
   ]
  },
  {
   "cell_type": "code",
   "execution_count": null,
   "metadata": {
    "scrolled": false
   },
   "outputs": [],
   "source": [
    "fig = plt.figure('FK/Fpi',figsize=(7,4.326237))\n",
    "ax = plt.axes([0.15,0.15,0.8,0.8])\n",
    "colors ={'a15m400':'#ec5d57','a15m350':'#ec5d57','a15m310':'#ec5d57','a15m220':'#ec5d57','a15m130':'#ec5d57',\n",
    "        'a12m400':'#70bf41','a12m350':'#70bf41','a12m310':'#70bf41','a12m220':'#70bf41','a12m130':'#70bf41','a12m220S':'#70bf41','a12m220L':'#70bf41',\n",
    "        'a09m400':'#51a7f9','a09m350':'#51a7f9','a09m310':'#51a7f9','a09m220':'#51a7f9'}\n",
    "for i,e in enumerate(switches['ensemble']):\n",
    "    epi = fmt_data['p']['mpi'][i]/fmt_data['x']['Lchi'][i]\n",
    "    print('%8s %s %s' %(e,str(fmt_data['y'][i]),str(fit.fcn(fit.x,fit.p)[i])))\n",
    "    ax.errorbar(epi.mean,fmt_data['y'][i].mean,yerr=fmt_data['y'][i].sdev,color=colors[e],marker='o',elinewidth=1,capsize=3,mfc='none')\n",
    "    ax.errorbar(epi.mean+.005,fit.fcn(fit.x,fit.p)[i].mean,yerr=fit.fcn(fit.x,fit.p)[i].sdev,color=colors[e],marker='s',elinewidth=1,capsize=3,mfc='none')\n",
    "fkp = flib.fkfpi_phys(phys_p,fit)\n",
    "ax.errorbar((phys_p['mpi']/(4.*np.pi*phys_p['Fpi'])).mean,fkp.mean,yerr=fkp.sdev,color='magenta',marker='*',elinewidth=1,capsize=3,mfc='none')\n",
    "ax.errorbar((phys_p['mpi']/(4.*np.pi*phys_p['Fpi'])).mean,1.193,yerr=0.003,color='black',marker='*',elinewidth=1,capsize=3,mfc='none')\n",
    "plt.savefig('FKFpi_vs_epi.pdf',transparent=True)"
   ]
  },
  {
   "cell_type": "code",
   "execution_count": null,
   "metadata": {},
   "outputs": [],
   "source": []
  },
  {
   "cell_type": "code",
   "execution_count": null,
   "metadata": {},
   "outputs": [],
   "source": []
  }
 ],
 "metadata": {
  "kernelspec": {
   "display_name": "Python 3",
   "language": "python",
   "name": "python3"
  },
  "language_info": {
   "codemirror_mode": {
    "name": "ipython",
    "version": 3
   },
   "file_extension": ".py",
   "mimetype": "text/x-python",
   "name": "python",
   "nbconvert_exporter": "python",
   "pygments_lexer": "ipython3",
   "version": "3.6.5"
  }
 },
 "nbformat": 4,
 "nbformat_minor": 2
}
