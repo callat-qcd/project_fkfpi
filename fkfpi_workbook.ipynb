{
 "cells": [
  {
   "cell_type": "code",
   "execution_count": 1,
   "metadata": {
    "collapsed": false
   },
   "outputs": [
    {
     "name": "stdout",
     "output_type": "stream",
     "text": [
      "python version: 2.7.14 (default, Jan  6 2018, 12:15:00) \n",
      "[GCC 4.2.1 Compatible Apple LLVM 9.0.0 (clang-900.0.39.2)]\n",
      "pandas version: 0.20.3\n",
      "numpy  version: 1.13.1\n",
      "gvar   version: 8.2.2\n"
     ]
    }
   ],
   "source": [
    "from __future__ import print_function\n",
    "import sys\n",
    "import numpy as np\n",
    "import pandas as pd\n",
    "pd.options.display.max_rows = 5\n",
    "import matplotlib.pyplot as plt\n",
    "import gvar as gv\n",
    "import fkfpi_lib as flib\n",
    "print(\"python version:\", sys.version)\n",
    "print(\"pandas version:\", pd.__version__)\n",
    "print(\"numpy  version:\", np.__version__)\n",
    "print(\"gvar   version:\", gv.__version__)"
   ]
  },
  {
   "cell_type": "code",
   "execution_count": 2,
   "metadata": {
    "collapsed": true
   },
   "outputs": [],
   "source": [
    "switches = dict()\n",
    "switches['ensemble'] = [\n",
    "    'a15m310','a12m310','a09m310',\n",
    "    'a15m220','a12m220','a09m220','a12m220S','a12m220L',\n",
    "    'a15m130','a12m130']\n",
    "switches['ansatz'] = dict()\n",
    "switches['ansatz']['FV'] = True # True turns on NLO FV correction\n",
    "switches['ansatz']['type'] = 'MA' # Type of fit: 'xpt' or 'MA'\n",
    "switches['ansatz']['a2dm'] = 'avg' # avg or individual\n",
    "switches['scale'] = 'PP' # PP, PK, KK, LamChi = 4 * pi * sqrt(FA * FB)"
   ]
  },
  {
   "cell_type": "code",
   "execution_count": 3,
   "metadata": {
    "collapsed": true
   },
   "outputs": [],
   "source": [
    "# Set priors for Xpt\n",
    "priors = dict()\n",
    "priors['L5'] = gv.gvar(0.0, 1.0)\n",
    "priors['s2'] = gv.gvar(0.0, 1.0)\n",
    "# Physical parameters from PDG\n",
    "phys_p = dict()\n",
    "# http://pdg.lbl.gov/2016/tables/rpp2016-tab-mesons-light.pdf\n",
    "phys_p['mpi'] = gv.gvar(134.8, 0.3) #FLAG 2017 (16)\n",
    "phys_p['mka'] = gv.gvar(494.2 , 0.3) #FLAG 2017 (16)\n",
    "phys_p['F0'] = gv.gvar(80,20) #FLAG use of F0 in SU(2) correction for FK/Fpi\n",
    "phys_p['meta'] = gv.gvar(547.862,0.017) #PDG\n",
    "# http://pdg.lbl.gov/2015/reviews/rpp2015-rev-pseudoscalar-meson-decay-cons.pdf\n",
    "phys_p['Fpi'] = gv.gvar(130.2/np.sqrt(2), 1.7/np.sqrt(2)) #PDG fpi+ eq(16)\n",
    "phys_p['Fka'] = gv.gvar(155.6/np.sqrt(2), 0.4/np.sqrt(2)) #PDG fK++ eq(16)\n",
    "if switches['scale'] == 'PK':\n",
    "    phys_p['Lchi'] = 4*np.pi*np.sqrt(phys_p['Fpi']*phys_p['Fka'])\n",
    "elif switches['scale'] == 'PP':\n",
    "    phys_p['Lchi'] = 4*np.pi*phys_p['Fpi']\n",
    "elif switches['scale'] == 'KK':\n",
    "    phys_p['Lchi'] = 4*np.pi*phys_p['Fka']\n",
    "# FLAG FK/Fpi\n",
    "flag_FKFpi = gv.gvar(1.1933, 0.0029)"
   ]
  },
  {
   "cell_type": "code",
   "execution_count": 4,
   "metadata": {
    "collapsed": true
   },
   "outputs": [],
   "source": [
    "data = pd.read_csv('./github_fkfpi_v1.csv')\n",
    "hisq_params = pd.read_csv('./hisq_params.csv')\n",
    "mixed_params = pd.read_csv('./github_mixed_v1.csv')"
   ]
  },
  {
   "cell_type": "code",
   "execution_count": 5,
   "metadata": {
    "collapsed": true,
    "scrolled": true
   },
   "outputs": [],
   "source": [
    "fmt_data = flib.format_data(switches,data,mixed_params,hisq_params,priors)\n",
    "#print(fmt_data)"
   ]
  },
  {
   "cell_type": "code",
   "execution_count": 11,
   "metadata": {
    "collapsed": false
   },
   "outputs": [
    {
     "name": "stdout",
     "output_type": "stream",
     "text": [
      "Least Square Fit:\n",
      "  chi2/dof [dof] = 5.6 [10]    Q = 2.4e-08    logGBF = 12.128\n",
      "\n",
      "Parameters:\n",
      "         a2dm 0     0.03328 (58)       [  0.03373 (59) ]  \n",
      "              1     0.01071 (35)       [  0.01077 (36) ]  \n",
      "              2     0.00195 (14)       [  0.00197 (14) ]  \n",
      "              3     0.03046 (60)       [  0.03034 (62) ]  \n",
      "              4     0.01095 (27)       [  0.01084 (28) ]  \n",
      "              5    0.001522 (92)       [ 0.001504 (93) ]  \n",
      "              6     0.01057 (30)       [  0.01055 (30) ]  \n",
      "              7     0.01081 (30)       [  0.01077 (30) ]  \n",
      "              8     0.03230 (81)       [  0.03252 (82) ]  \n",
      "              9     0.01147 (32)       [  0.01136 (32) ]  \n",
      "          mka 0     0.40416 (23)       [  0.40460 (25) ]  *\n",
      "              1     0.32409 (19)       [  0.32416 (21) ]  \n",
      "              2     0.24089 (12)       [  0.24110 (14) ]  *\n",
      "              3     0.38699 (20)       [  0.38691 (21) ]  \n",
      "              4     0.31014 (16)       [  0.31003 (17) ]  \n",
      "              5    0.228768 (85)       [ 0.228703 (91) ]  \n",
      "              6     0.31047 (21)       [  0.31044 (22) ]  \n",
      "              7     0.31046 (16)       [  0.31018 (19) ]  *\n",
      "              8     0.37789 (23)       [  0.37796 (23) ]  \n",
      "              9     0.30226 (20)       [  0.30204 (22) ]  *\n",
      "          mrs 0     0.54856 (68)       [  0.54895 (69) ]  \n",
      "              1     0.43044 (43)       [  0.43052 (44) ]  \n",
      "              2     0.31494 (30)       [  0.31505 (30) ]  \n",
      "              3     0.54180 (54)       [  0.54172 (55) ]  \n",
      "              4     0.42816 (33)       [  0.42803 (34) ]  \n",
      "              5     0.31136 (21)       [  0.31130 (21) ]  \n",
      "              6     0.42805 (34)       [  0.42803 (34) ]  \n",
      "              7     0.42813 (33)       [  0.42803 (34) ]  \n",
      "              8     0.54274 (57)       [  0.54282 (57) ]  \n",
      "              9     0.42725 (34)       [  0.42718 (34) ]  \n",
      "         a2di 0      0.1081 (96)       [    0.087 (11) ]  **\n",
      "              1      0.0314 (26)       [   0.0312 (26) ]  \n",
      "              2     0.00520 (42)       [  0.00515 (42) ]  \n",
      "              3      0.0804 (90)       [    0.086 (10) ]  \n",
      "              4      0.0290 (25)       [   0.0300 (25) ]  \n",
      "              5     0.00491 (40)       [  0.00496 (40) ]  \n",
      "              6      0.0305 (26)       [   0.0309 (26) ]  \n",
      "              7      0.0294 (25)       [   0.0303 (25) ]  \n",
      "              8      0.0921 (88)       [    0.084 (10) ]  \n",
      "              9      0.0287 (25)       [   0.0304 (25) ]  \n",
      "             s2      -2e-16 +- 1       [     0.0 (1.0) ]  \n",
      "          mru 0      0.4498 (11)       [   0.4508 (11) ]  \n",
      "              1     0.34378 (95)       [  0.34397 (98) ]  \n",
      "              2     0.24671 (50)       [  0.24697 (51) ]  \n",
      "              3      0.4311 (16)       [   0.4309 (16) ]  \n",
      "              4     0.33196 (87)       [  0.33162 (89) ]  \n",
      "              5     0.23299 (38)       [  0.23288 (38) ]  \n",
      "              6     0.33169 (88)       [  0.33162 (89) ]  \n",
      "              7     0.33195 (88)       [  0.33162 (89) ]  \n",
      "              8      0.4287 (20)       [   0.4291 (21) ]  \n",
      "              9      0.3266 (13)       [   0.3260 (13) ]  \n",
      "          mss 0     0.51864 (17)       [  0.51875 (17) ]  \n",
      "              1     0.41800 (16)       [  0.41803 (16) ]  \n",
      "              2     0.31164 (10)       [  0.31170 (11) ]  \n",
      "              3     0.51497 (13)       [  0.51495 (14) ]  \n",
      "              4     0.41542 (12)       [  0.41539 (12) ]  \n",
      "              5    0.309381 (69)       [ 0.309358 (70) ]  \n",
      "              6     0.41577 (15)       [  0.41576 (15) ]  \n",
      "              7     0.41564 (12)       [  0.41557 (12) ]  \n",
      "              9     0.41423 (11)       [  0.41420 (11) ]  \n",
      "          mju 0      0.3051 (12)       [   0.3062 (13) ]  \n",
      "              1     0.21883 (90)       [  0.21899 (92) ]  \n",
      "              2     0.14793 (37)       [  0.14814 (37) ]  \n",
      "              3      0.2560 (19)       [   0.2557 (19) ]  \n",
      "              4     0.17732 (85)       [  0.17711 (85) ]  \n",
      "              5     0.10895 (26)       [  0.10889 (26) ]  \n",
      "              6     0.17718 (85)       [  0.17711 (85) ]  \n",
      "              7     0.17737 (85)       [  0.17711 (85) ]  \n",
      "              8      0.2266 (37)       [   0.2274 (38) ]  \n",
      "              9      0.1496 (13)       [   0.1494 (13) ]  \n",
      "             L5   0.0001780 (75)       [     0.0 (1.0) ]  \n",
      "          mjs 0     0.43389 (93)       [  0.43463 (95) ]  \n",
      "              1     0.33444 (93)       [  0.33459 (95) ]  \n",
      "              2     0.24254 (41)       [  0.24270 (42) ]  \n",
      "              3     0.41105 (95)       [  0.41090 (96) ]  \n",
      "              4     0.31907 (78)       [  0.31877 (79) ]  \n",
      "              5     0.23013 (33)       [  0.23003 (34) ]  \n",
      "              6     0.31884 (79)       [  0.31877 (79) ]  \n",
      "              7     0.31903 (79)       [  0.31877 (79) ]  \n",
      "              8      0.3983 (15)       [   0.3985 (15) ]  \n",
      "              9     0.30856 (87)       [  0.30824 (87) ]  \n",
      "          mpi 0     0.23618 (29)       [  0.23609 (29) ]  \n",
      "              1     0.18858 (22)       [  0.18862 (23) ]  \n",
      "              2     0.14064 (12)       [  0.14074 (12) ]  \n",
      "              3     0.16544 (22)       [  0.16543 (22) ]  \n",
      "              4     0.13423 (17)       [  0.13427 (17) ]  \n",
      "              5    0.097918 (62)       [ 0.097896 (63) ]  \n",
      "              6     0.13551 (32)       [  0.13556 (32) ]  \n",
      "              7     0.13403 (15)       [  0.13402 (15) ]  \n",
      "              8     0.10064 (45)       [  0.10093 (48) ]  \n",
      "              9     0.08151 (23)       [  0.08128 (24) ]  \n",
      "\n",
      "Fit:\n",
      "      key         y[key]       f(p)[key]\n",
      "----------------------------------------\n",
      "        0    1.0969 (14)    1.09124 (71)  ****\n",
      "        1    1.1003 (15)    1.09921 (65)  \n",
      "        2    1.1093 (16)    1.10476 (64)  **\n",
      "        3    1.1255 (18)     1.1270 (10)  \n",
      "        4    1.1302 (21)    1.13434 (84)  **\n",
      "        5    1.1433 (17)    1.14640 (77)  *\n",
      "        6    1.1325 (27)    1.13437 (90)  \n",
      "        7    1.1276 (28)    1.13483 (89)  **\n",
      "        8    1.1680 (41)     1.1621 (18)  *\n",
      "        9    1.1593 (35)     1.1692 (12)  **\n",
      "\n",
      "Settings:\n",
      "  svdcut/n = 1e-12/10    tol = (1e-08*,1e-10,1e-10)    (itns/time = 29/0.2)\n",
      "\n"
     ]
    }
   ],
   "source": [
    "fit = flib.fit_data(switches,fmt_data,phys_p)\n",
    "print(fit.format(maxline=True,pstyle='m'))"
   ]
  },
  {
   "cell_type": "code",
   "execution_count": 24,
   "metadata": {
    "collapsed": false
   },
   "outputs": [
    {
     "name": "stdout",
     "output_type": "stream",
     "text": [
      " a15m310 1.0969(14) 1.09124(71)\n",
      " a12m310 1.1003(15) 1.09921(65)\n",
      " a09m310 1.1093(16) 1.10476(64)\n",
      " a15m220 1.1255(18) 1.1270(10)\n",
      " a12m220 1.1302(21) 1.13434(84)\n",
      " a09m220 1.1433(17) 1.14640(77)\n",
      "a12m220S 1.1325(27) 1.13437(90)\n",
      "a12m220L 1.1276(28) 1.13483(89)\n",
      " a15m130 1.1680(41) 1.1621(18)\n",
      " a12m130 1.1593(35) 1.1692(12)\n"
     ]
    }
   ],
   "source": [
    "for i,e in enumerate(switches['ensemble']):\n",
    "    print('%8s %s %s' %(e,str(fmt_data['y'][i]),str(fit.fcn(fit.x,fit.p)[i])))"
   ]
  },
  {
   "cell_type": "code",
   "execution_count": 7,
   "metadata": {
    "collapsed": false
   },
   "outputs": [
    {
     "name": "stdout",
     "output_type": "stream",
     "text": [
      "prediction from LQCD\n",
      "FK / Fpi =  1.1884(18)\n",
      "FK+/Fpi+ =  1.1860(18)\n",
      "prediction from LQCD + meta_PDG\n",
      "FK / Fpi =  1.1858(19)\n",
      "FK+/Fpi+ =  1.1834(19)\n",
      "None\n"
     ]
    }
   ],
   "source": [
    "print(flib.fkfpi_phys(phys_p,fit))"
   ]
  },
  {
   "cell_type": "code",
   "execution_count": null,
   "metadata": {
    "collapsed": true
   },
   "outputs": [],
   "source": []
  }
 ],
 "metadata": {
  "kernelspec": {
   "display_name": "Python 2",
   "language": "python",
   "name": "python2"
  },
  "language_info": {
   "codemirror_mode": {
    "name": "ipython",
    "version": 2
   },
   "file_extension": ".py",
   "mimetype": "text/x-python",
   "name": "python",
   "nbconvert_exporter": "python",
   "pygments_lexer": "ipython2",
   "version": "2.7.14"
  }
 },
 "nbformat": 4,
 "nbformat_minor": 2
}
