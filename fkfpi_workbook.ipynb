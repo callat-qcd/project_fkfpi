{
 "cells": [
  {
   "cell_type": "code",
   "execution_count": 1,
   "metadata": {
    "collapsed": true
   },
   "outputs": [],
   "source": [
    "from __future__ import print_function\n",
    "\n",
    "import numpy as np\n",
    "import pandas as pd\n",
    "pd.options.display.max_rows = 5\n",
    "import matplotlib.pyplot as plt\n",
    "import gvar as gv\n",
    "import fkfpi_lib as flib"
   ]
  },
  {
   "cell_type": "code",
   "execution_count": 2,
   "metadata": {
    "collapsed": true
   },
   "outputs": [],
   "source": [
    "switches = dict()\n",
    "switches['ensemble'] = [\n",
    "    'a15m310','a12m310','a09m310',\n",
    "    'a15m220','a12m220','a09m220','a12m220S','a12m220L',\n",
    "    'a15m130','a12m130']\n",
    "\n",
    "switches['ansatz'] = dict()\n",
    "switches['ansatz']['FV'] = True # True turns on NLO FV correction\n",
    "switches['ansatz']['type'] = 'MA' # Type of fit: 'xpt' or 'MA'\n",
    "switches['scale'] = 'PK' # PP, PK, KK, LamChi = 4 * pi * sqrt(FA * FB)"
   ]
  },
  {
   "cell_type": "code",
   "execution_count": 3,
   "metadata": {
    "collapsed": true
   },
   "outputs": [],
   "source": [
    "# Set priors for Xpt\n",
    "priors = dict()\n",
    "priors['L5'] = gv.gvar(0.0, 1.0)\n",
    "priors['s2'] = gv.gvar(0.0, 1.0)\n",
    "# Physical parameters from PDG\n",
    "phys_p = dict()\n",
    "# http://pdg.lbl.gov/2016/tables/rpp2016-tab-mesons-light.pdf\n",
    "phys_p['mpi'] = gv.gvar(134.8, 0.3) #FLAG 2017 (16)\n",
    "phys_p['mka'] = gv.gvar(494.2 , 0.3) #FLAG 2017 (16)\n",
    "phys_p['F0'] = gv.gvar(80,20) #FLAG use of F0 in SU(2) correction for FK/Fpi\n",
    "phys_p['meta'] = gv.gvar(547.862,0.017) #PDG\n",
    "# http://pdg.lbl.gov/2015/reviews/rpp2015-rev-pseudoscalar-meson-decay-cons.pdf\n",
    "phys_p['Fpi'] = gv.gvar(130.2/np.sqrt(2), 1.7/np.sqrt(2)) #PDG fpi+ eq(16)\n",
    "phys_p['Fka'] = gv.gvar(155.6/np.sqrt(2), 0.4/np.sqrt(2)) #PDG fK++ eq(16)\n",
    "if switches['scale'] == 'PK':\n",
    "    phys_p['Lchi'] = 4*np.pi*np.sqrt(phys_p['Fpi']*phys_p['Fka'])\n",
    "elif switches['scale'] == 'PP':\n",
    "    phys_p['Lchi'] = 4*np.pi*phys_p['Fpi']\n",
    "elif switches['scale'] == 'KK':\n",
    "    phys_p['Lchi'] = 4*np.pi*phys_p['Fka']\n",
    "# FLAG FK/Fpi\n",
    "flag_FKFpi = gv.gvar(1.1933, 0.0029)"
   ]
  },
  {
   "cell_type": "code",
   "execution_count": 4,
   "metadata": {
    "collapsed": true
   },
   "outputs": [],
   "source": [
    "data = pd.read_csv('./github_fkfpi_v1.csv')\n",
    "hisq_params = pd.read_csv('./hisq_params.csv')"
   ]
  },
  {
   "cell_type": "code",
   "execution_count": 5,
   "metadata": {
    "collapsed": false
   },
   "outputs": [
    {
     "name": "stdout",
     "output_type": "stream",
     "text": [
      "{'y': array([1.0955(14), 1.0998(15), 1.1088(16), 1.1257(18), 1.1299(21),\n",
      "       1.1430(17), 1.1306(27), 1.1275(28), 1.1713(41), 1.1598(35)], dtype=object), 'x': {'Lchi': array([ 0.99302805,  0.81068306,  0.60252409,  0.96968323,  0.78381563,\n",
      "        0.57536441,  0.78544483,  0.78404416,  0.96388758,  0.77102255]), 'mpiL': array([ 3.77737891,  4.52684875,  4.5036145 ,  3.97023563,  4.29651393,\n",
      "        4.69899125,  3.25337141,  5.36074159,  3.22977757,  3.90131993])}, 'p': {'mka': array([0.40460(25), 0.32416(21), 0.24110(14), 0.38691(21), 0.31003(17),\n",
      "       0.228703(91), 0.31044(22), 0.31018(19), 0.37796(23), 0.30204(22)], dtype=object), 'a2di': array([0.087(11), 0.0312(26), 0.00515(42), 0.086(10), 0.0300(25),\n",
      "       0.00496(40), 0.0309(26), 0.0303(25), 0.084(10), 0.0304(25)], dtype=object), 's2': 0.0(1.0), 'mss': array([0.51875(17), 0.41803(16), 0.31170(11), 0.51495(14), 0.41539(12),\n",
      "       0.309358(70), 0.41576(15), 0.41557(12), 0.51314(13), 0.41420(11)], dtype=object), 'aw0': array([0.88040(30), 0.70360(50), 0.51050(30), 0.88040(30), 0.70360(50),\n",
      "       0.51050(30), 0.70360(50), 0.70360(50), 0.88040(30), 0.70360(50)], dtype=object), 'L5': 0.0(1.0), 'a2dm': array([0.0386(36), 0.0176(14), 0.00521(46), 0.0386(36), 0.0176(14),\n",
      "       0.00521(46), 0.0176(14), 0.0176(14), 0.0386(36), 0.0176(14)], dtype=object), 'mpi': array([0.23609(29), 0.18862(23), 0.14074(12), 0.16543(22), 0.13427(17),\n",
      "       0.097896(63), 0.13556(32), 0.13402(15), 0.10093(48), 0.08128(24)], dtype=object)}}\n"
     ]
    }
   ],
   "source": [
    "fmt_data = flib.format_data(switches,data,hisq_params,priors)\n",
    "print(fmt_data)"
   ]
  },
  {
   "cell_type": "code",
   "execution_count": 6,
   "metadata": {
    "collapsed": false
   },
   "outputs": [],
   "source": [
    "fit = flib.fit_data(switches,fmt_data,phys_p)"
   ]
  },
  {
   "cell_type": "code",
   "execution_count": 7,
   "metadata": {
    "collapsed": false,
    "scrolled": false
   },
   "outputs": [
    {
     "name": "stdout",
     "output_type": "stream",
     "text": [
      "Least Square Fit:\n",
      "  chi2/dof [dof] = 1.5 [10]    Q = 0.13    logGBF = 30.734\n",
      "\n",
      "Parameters:\n",
      "          mka 0    0.40462 (24)      [  0.40460 (25) ]  \n",
      "              1    0.32417 (19)      [  0.32416 (21) ]  \n",
      "              2    0.24097 (13)      [  0.24110 (14) ]  \n",
      "              3    0.38698 (20)      [  0.38691 (21) ]  \n",
      "              4    0.31007 (16)      [  0.31003 (17) ]  \n",
      "              5   0.228679 (87)      [ 0.228703 (91) ]  \n",
      "              6    0.31046 (21)      [  0.31044 (22) ]  \n",
      "              7    0.31033 (17)      [  0.31018 (19) ]  \n",
      "              8    0.37788 (23)      [  0.37796 (23) ]  \n",
      "              9    0.30210 (20)      [  0.30204 (22) ]  \n",
      "         a2di 0      0.086 (10)      [    0.087 (11) ]  \n",
      "              1     0.0311 (26)      [   0.0312 (26) ]  \n",
      "              2    0.00518 (42)      [  0.00515 (42) ]  \n",
      "              3      0.083 (10)      [    0.086 (10) ]  \n",
      "              4     0.0297 (25)      [   0.0300 (25) ]  \n",
      "              5    0.00498 (40)      [  0.00496 (40) ]  \n",
      "              6     0.0309 (26)      [   0.0309 (26) ]  \n",
      "              7     0.0299 (25)      [   0.0303 (25) ]  \n",
      "              8     0.0904 (97)      [    0.084 (10) ]  \n",
      "              9     0.0301 (25)      [   0.0304 (25) ]  \n",
      "             s2     -6e-17 +- 1      [     0.0 (1.0) ]  \n",
      "          mss 0    0.51876 (17)      [  0.51875 (17) ]  \n",
      "              1    0.41803 (16)      [  0.41803 (16) ]  \n",
      "              2    0.31166 (10)      [  0.31170 (11) ]  \n",
      "              3    0.51496 (14)      [  0.51495 (14) ]  \n",
      "              4    0.41540 (12)      [  0.41539 (12) ]  \n",
      "              5   0.309350 (69)      [ 0.309358 (70) ]  \n",
      "              6    0.41577 (15)      [  0.41576 (15) ]  \n",
      "              7    0.41561 (12)      [  0.41557 (12) ]  \n",
      "              8    0.51314 (13)      [  0.51314 (13) ]  \n",
      "              9    0.41421 (11)      [  0.41420 (11) ]  \n",
      "          aw0 0    0.88040 (30)      [  0.88040 (30) ]  \n",
      "              1    0.70360 (50)      [  0.70360 (50) ]  \n",
      "              2    0.51050 (30)      [  0.51050 (30) ]  \n",
      "              3    0.88040 (30)      [  0.88040 (30) ]  \n",
      "              4    0.70360 (50)      [  0.70360 (50) ]  \n",
      "              5    0.51050 (30)      [  0.51050 (30) ]  \n",
      "              6    0.70360 (50)      [  0.70360 (50) ]  \n",
      "              7    0.70360 (50)      [  0.70360 (50) ]  \n",
      "              8    0.88040 (30)      [  0.88040 (30) ]  \n",
      "              9    0.70360 (50)      [  0.70360 (50) ]  \n",
      "             L5   0.000302 (10)      [     0.0 (1.0) ]  \n",
      "         a2dm 0     0.0395 (24)      [   0.0386 (36) ]  \n",
      "              1     0.0178 (12)      [   0.0176 (14) ]  \n",
      "              2    0.00481 (42)      [  0.00521 (46) ]  \n",
      "              3     0.0417 (24)      [   0.0386 (36) ]  \n",
      "              4     0.0184 (11)      [   0.0176 (14) ]  \n",
      "              5    0.00499 (39)      [  0.00521 (46) ]  \n",
      "              6     0.0178 (12)      [   0.0176 (14) ]  \n",
      "              7     0.0187 (12)      [   0.0176 (14) ]  \n",
      "              8     0.0341 (30)      [   0.0386 (36) ]  *\n",
      "              9     0.0182 (12)      [   0.0176 (14) ]  \n",
      "          mpi 0    0.23608 (29)      [  0.23609 (29) ]  \n",
      "              1    0.18863 (22)      [  0.18862 (23) ]  \n",
      "              2    0.14068 (12)      [  0.14074 (12) ]  \n",
      "              3    0.16544 (22)      [  0.16543 (22) ]  \n",
      "              4    0.13425 (17)      [  0.13427 (17) ]  \n",
      "              5   0.097888 (63)      [ 0.097896 (63) ]  \n",
      "              6    0.13554 (32)      [  0.13556 (32) ]  \n",
      "              7    0.13403 (15)      [  0.13402 (15) ]  \n",
      "              8    0.10056 (45)      [  0.10093 (48) ]  \n",
      "              9    0.08134 (23)      [  0.08128 (24) ]  \n",
      "\n",
      "Settings:\n",
      "  svdcut/n = 1e-12/0    tol = (1e-08*,1e-10,1e-10)    (itns/time = 8/0.1)\n",
      "\n"
     ]
    }
   ],
   "source": [
    "print(fit)"
   ]
  },
  {
   "cell_type": "code",
   "execution_count": 8,
   "metadata": {
    "collapsed": false
   },
   "outputs": [
    {
     "name": "stdout",
     "output_type": "stream",
     "text": [
      "prediction from LQCD\n",
      "FK / Fpi =  1.1875(14)\n",
      "FK+/Fpi+ =  1.1852(15)\n",
      "prediction from LQCD + meta_PDG\n",
      "FK / Fpi =  1.1846(15)\n",
      "FK+/Fpi+ =  1.1822(15)\n",
      "None\n"
     ]
    }
   ],
   "source": [
    "print(flib.fkfpi_phys(phys_p,fit))"
   ]
  },
  {
   "cell_type": "code",
   "execution_count": null,
   "metadata": {
    "collapsed": true
   },
   "outputs": [],
   "source": []
  }
 ],
 "metadata": {
  "kernelspec": {
   "display_name": "Python 2",
   "language": "python",
   "name": "python2"
  },
  "language_info": {
   "codemirror_mode": {
    "name": "ipython",
    "version": 2
   },
   "file_extension": ".py",
   "mimetype": "text/x-python",
   "name": "python",
   "nbconvert_exporter": "python",
   "pygments_lexer": "ipython2",
   "version": "2.7.14"
  }
 },
 "nbformat": 4,
 "nbformat_minor": 2
}
