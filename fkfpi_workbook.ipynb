{
 "cells": [
  {
   "cell_type": "code",
   "execution_count": 1,
   "metadata": {},
   "outputs": [
    {
     "name": "stdout",
     "output_type": "stream",
     "text": [
      "python version: 3.6.5 |Anaconda, Inc.| (default, Apr 26 2018, 08:42:37) \n",
      "[GCC 4.2.1 Compatible Clang 4.0.1 (tags/RELEASE_401/final)]\n",
      "numpy  version: 1.16.1\n",
      "gvar   version: 9.0.2\n"
     ]
    }
   ],
   "source": [
    "from __future__ import print_function\n",
    "import sys\n",
    "import numpy as np\n",
    "import tables as h5\n",
    "#import pandas as pd\n",
    "#pd.options.display.max_rows = 30\n",
    "import matplotlib.pyplot as plt\n",
    "%matplotlib notebook\n",
    "import gvar as gv\n",
    "import fkfpi_lib as flib\n",
    "import input_params as ip\n",
    "print(\"python version:\", sys.version)\n",
    "#print(\"pandas version:\", pd.__version__)\n",
    "print(\"numpy  version:\", np.__version__)\n",
    "print(\"gvar   version:\", gv.__version__)"
   ]
  },
  {
   "cell_type": "code",
   "execution_count": 2,
   "metadata": {},
   "outputs": [],
   "source": [
    "switches = ip.switches\n",
    "# To override default choices of fit type and ensembles, set override=True and adjust here\n",
    "override=False\n",
    "if override:\n",
    "    switches['ensembles'] = [\n",
    "        'a15m400','a12m400','a09m400',\n",
    "        'a15m350','a12m350','a09m350',\n",
    "        'a15m310','a12m310','a09m310',\n",
    "        'a15m220','a12m220','a09m220','a12m220S','a12m220L',\n",
    "        'a12m130','a15m130']\n",
    "    switches['ansatz'] = dict()\n",
    "    switches['ansatz']['FV'] = True # True turns on NLO FV correction\n",
    "    switches['ansatz']['model'] = 'xpt' # Type of fit: 'xpt' or 'MA'\n",
    "    switches['ansatz']['a2dm'] = 'individual' # avg or individual\n",
    "    switches['scale'] = 'PK' # PP, PK, KK, LamChi = 4 * pi * sqrt(FA * FB)\n",
    "    switches['debug'] = True"
   ]
  },
  {
   "cell_type": "code",
   "execution_count": 3,
   "metadata": {},
   "outputs": [],
   "source": [
    "# Set priors for Xpt\n",
    "priors = ip.priors\n",
    "if override:\n",
    "    priors['L5']  = gv.gvar(0.0, 1.0)\n",
    "    priors['s4']  = gv.gvar(0.0, 1.0)\n",
    "    priors['c4']  = gv.gvar(0.0, 1.0)\n",
    "    priors['d4']  = gv.gvar(0.0, 1.0)\n",
    "    priors['e4']  = gv.gvar(0.0, 1.0)\n",
    "    priors['s6']  = gv.gvar(0.0, 1.0)\n",
    "    priors['sc6'] = gv.gvar(0.0, 1.0)\n",
    "    priors['sd6'] = gv.gvar(0.0, 1.0)\n",
    "    priors['se6'] = gv.gvar(0.0, 1.0)\n",
    "# Physical parameters from PDG\n",
    "phys_p = ip.phys_p\n",
    "# FLAG FK/Fpi\n",
    "flag_FKFpi = ip.flag_FKFpi"
   ]
  },
  {
   "cell_type": "code",
   "execution_count": 4,
   "metadata": {
    "scrolled": true
   },
   "outputs": [
    {
     "name": "stdout",
     "output_type": "stream",
     "text": [
      "a15m400\n",
      "{'mpi': 0.30283(31),'mk': 0.42723(27),'mss': 0.52194(22),'mju': 0.3596(23),'mjs': 0.4582(36),'mrs': 0.5538(18),'mru': 0.4711(20),'FK': 0.085012(91),'Fpi': 0.07934(12),'Fss': 0.089882(69)}\n",
      "data_dict\n",
      "{'x': {'Lchi': 1.0320290042384965}, 'y': {'Fka/Fpi': 1.07151(89)}, 'p': {'mpi': 0.30283(31), 'mka': 0.42723(27), 'mss': 0.52194(22)}}\n",
      "a12m400\n",
      "{'mpi': 0.24346(16),'mk': 0.34341(14),'mss': 0.42073(13),'mju': 0.2679(16),'mjs': 0.3548(11),'mrs': 0.43206(70),'mru': 0.3621(12),'FK': 0.069762(68),'Fpi': 0.06492(11),'Fss': 0.074263(62)}\n",
      "data_dict\n",
      "{'x': {'Lchi': 0.8457170958924262}, 'y': {'Fka/Fpi': 1.0745(17)}, 'p': {'mpi': 0.24346(16), 'mka': 0.34341(14), 'mss': 0.42073(13)}}\n",
      "a09m400\n",
      "{'mpi': 0.18114(15),'mk': 0.25522(13),'mss': 0.31327(11),'mju': 0.18737(90),'mjs': 0.2575(11),'mrs': 0.31589(62),'mru': 0.26040(82),'FK': 0.052260(67),'Fpi': 0.048341(75),'Fss': 0.056143(58)}\n",
      "data_dict\n",
      "{'x': {'Lchi': 0.6316201903904318}, 'y': {'Fka/Fpi': 1.08107(94)}, 'p': {'mpi': 0.18114(15), 'mka': 0.25522(13), 'mss': 0.31327(11)}}\n",
      "a15m350\n",
      "{'mpi': 0.26475(30),'mk': 0.41371(28),'mss': 0.52010(23),'mju': 0.3311(35),'mjs': 0.4465(30),'mrs': 0.5529(17),'mru': 0.4592(38),'FK': 0.083674(85),'Fpi': 0.07686(11),'Fss': 0.089120(67)}\n",
      "data_dict\n",
      "{'x': {'Lchi': 1.007746226587112}, 'y': {'Fka/Fpi': 1.08868(87)}, 'p': {'mpi': 0.26475(30), 'mka': 0.41371(28), 'mss': 0.52010(23)}}\n",
      "a12m350\n",
      "{'mpi': 0.21397(20),'mk': 0.33309(16),'mss': 0.41971(13),'mju': 0.2404(13),'mjs': 0.3454(17),'mrs': 0.4319(11),'mru': 0.3519(28),'FK': 0.068504(74),'Fpi': 0.06292(14),'Fss': 0.073649(64)}\n",
      "data_dict\n",
      "{'x': {'Lchi': 0.8249947258307659}, 'y': {'Fka/Fpi': 1.0888(27)}, 'p': {'mpi': 0.21397(20), 'mka': 0.33309(16), 'mss': 0.41971(13)}}\n",
      "a09m350\n",
      "{'mpi': 0.15783(20),'mk': 0.24697(12),'mss': 0.31245(11),'mju': 0.16561(68),'mjs': 0.24997(83),'mrs': 0.31601(53),'mru': 0.25285(61),'FK': 0.051247(65),'Fpi': 0.046600(84),'Fss': 0.055733(56)}\n",
      "data_dict\n",
      "{'x': {'Lchi': 0.6140999374730262}, 'y': {'Fka/Fpi': 1.0997(10)}, 'p': {'mpi': 0.15783(20), 'mka': 0.24697(12), 'mss': 0.31245(11)}}\n",
      "a15m310\n",
      "{'mpi': 0.23609(29),'mk': 0.40460(25),'mss': 0.51875(17),'mju': 0.3062(13),'mjs': 0.43463(95),'mrs': 0.54895(69),'mru': 0.4508(11),'FK': 0.082935(88),'Fpi': 0.075286(89),'Fss': 0.088543(56)}\n",
      "data_dict\n",
      "{'x': {'Lchi': 0.9929654841333148}, 'y': {'Fka/Fpi': 1.1016(13)}, 'p': {'mpi': 0.23609(29), 'mka': 0.40460(25), 'mss': 0.51875(17)}}\n",
      "a12m310\n",
      "{'mpi': 0.18868(17),'mk': 0.32416(21),'mss': 0.41803(16),'mju': 0.21899(92),'mjs': 0.33459(95),'mrs': 0.43052(44),'mru': 0.34397(98),'FK': 0.067710(95),'Fpi': 0.06132(11),'Fss': 0.073212(90)}\n",
      "data_dict\n",
      "{'x': {'Lchi': 0.8097185349329713}, 'y': {'Fka/Fpi': 1.1042(21)}, 'p': {'mpi': 0.18868(17), 'mka': 0.32416(21), 'mss': 0.41803(16)}}\n",
      "a09m310\n",
      "{'mpi': 0.14074(12),'mk': 0.24110(14),'mss': 0.31170(11),'mju': 0.14814(37),'mjs': 0.24270(42),'mrs': 0.31505(30),'mru': 0.24697(51),'FK': 0.050535(83),'Fpi': 0.045492(68),'Fss': 0.055409(68)}\n",
      "data_dict\n",
      "{'x': {'Lchi': 0.6025233262925284}, 'y': {'Fka/Fpi': 1.1108(16)}, 'p': {'mpi': 0.14074(12), 'mka': 0.24110(14), 'mss': 0.31170(11)}}\n",
      "a15m220\n",
      "{'mpi': 0.16531(19),'mk': 0.38691(21),'mss': 0.51495(14),'mju': 0.2557(19),'mjs': 0.41090(96),'mrs': 0.54172(55),'mru': 0.4309(16),'FK': 0.08196(10),'Fpi': 0.072743(84),'Fss': 0.087702(64)}\n",
      "data_dict\n",
      "{'x': {'Lchi': 0.9702752592963186}, 'y': {'Fka/Fpi': 1.1266(15)}, 'p': {'mpi': 0.16531(19), 'mka': 0.38691(21), 'mss': 0.51495(14)}}\n",
      "a12m220\n",
      "{'mpi': 0.13427(17),'mk': 0.31003(17),'mss': 0.41539(12),'mju': 0.17711(85),'mjs': 0.31877(79),'mrs': 0.42803(34),'mru': 0.33162(89),'FK': 0.06634(11),'Fpi': 0.05864(13),'Fss': 0.07232(10)}\n",
      "data_dict\n",
      "{'x': {'Lchi': 0.7837835757471268}, 'y': {'Fka/Fpi': 1.1314(23)}, 'p': {'mpi': 0.13427(17), 'mka': 0.31003(17), 'mss': 0.41539(12)}}\n",
      "a09m220\n",
      "{'mpi': 0.097896(63),'mk': 0.228703(91),'mss': 0.309358(70),'mju': 0.10889(26),'mjs': 0.23003(34),'mrs': 0.31130(21),'mru': 0.23288(38),'FK': 0.048968(74),'Fpi': 0.042810(79),'Fss': 0.054679(75)}\n",
      "data_dict\n",
      "{'x': {'Lchi': 0.5753601697503821}, 'y': {'Fka/Fpi': 1.1439(18)}, 'p': {'mpi': 0.097896(63), 'mka': 0.228703(91), 'mss': 0.309358(70)}}\n",
      "a12m220S\n",
      "{'mpi': 0.13556(32),'mk': 0.31044(22),'mss': 0.41576(15),'mju': 0.17711(85),'mjs': 0.31877(79),'mrs': 0.42803(34),'mru': 0.33162(89),'FK': 0.06670(11),'Fpi': 0.05856(16),'Fss': 0.07252(10)}\n",
      "data_dict\n",
      "{'x': {'Lchi': 0.7853396513210742}, 'y': {'Fka/Fpi': 1.1389(27)}, 'p': {'mpi': 0.13556(32), 'mka': 0.31044(22), 'mss': 0.41576(15)}}\n",
      "a12m220L\n",
      "{'mpi': 0.13402(15),'mk': 0.31018(19),'mss': 0.41557(12),'mju': 0.17711(85),'mjs': 0.31877(79),'mrs': 0.42803(34),'mru': 0.33162(89),'FK': 0.06626(17),'Fpi': 0.05875(13),'Fss': 0.07238(13)}\n",
      "data_dict\n",
      "{'x': {'Lchi': 0.7840184297210844}, 'y': {'Fka/Fpi': 1.1279(29)}, 'p': {'mpi': 0.13402(15), 'mka': 0.31018(19), 'mss': 0.41557(12)}}\n",
      "a12m130\n",
      "{'mpi': 0.08128(24),'mk': 0.30204(22),'mss': 0.41420(11),'mju': 0.1494(13),'mjs': 0.30824(87),'mrs': 0.42718(34),'mru': 0.3260(13),'FK': 0.06610(17),'Fpi': 0.05696(17),'Fss': 0.07191(14)}\n",
      "data_dict\n",
      "{'x': {'Lchi': 0.7710900115329543}, 'y': {'Fka/Fpi': 1.1605(38)}, 'p': {'mpi': 0.08128(24), 'mka': 0.30204(22), 'mss': 0.41420(11)}}\n",
      "a15m130\n",
      "{'mpi': 0.10093(48),'mk': 0.37796(23),'mss': 0.51314(13),'mju': 0.2274(38),'mjs': 0.3985(15),'mrs': 0.54282(57),'mru': 0.4291(21),'FK': 0.08313(19),'Fpi': 0.07077(24),'Fss': 0.087197(94)}\n",
      "data_dict\n",
      "{'x': {'Lchi': 0.9638497301801753}, 'y': {'Fka/Fpi': 1.1746(42)}, 'p': {'mpi': 0.10093(48), 'mka': 0.37796(23), 'mss': 0.51314(13)}}\n"
     ]
    }
   ],
   "source": [
    "data = h5.open_file('FK_Fpi_data.h5','r')\n",
    "fmt_data = flib.format_h5_data(switches,data,priors)\n",
    "data.close()"
   ]
  },
  {
   "cell_type": "code",
   "execution_count": null,
   "metadata": {},
   "outputs": [],
   "source": [
    "data = pd.read_csv('./github_fkfpi_v2.csv')\n",
    "hisq_params = pd.read_csv('./hisq_params.csv')\n",
    "mixed_params = pd.read_csv('./github_mixed_v1.csv')\n",
    "data.groupby('ensemble').describe()"
   ]
  },
  {
   "cell_type": "code",
   "execution_count": null,
   "metadata": {
    "scrolled": true
   },
   "outputs": [],
   "source": [
    "fmt_data = flib.format_data(switches,data,mixed_params,hisq_params,priors)\n",
    "#print(fmt_data)\n",
    "print(fmt_data['y'])"
   ]
  },
  {
   "cell_type": "code",
   "execution_count": null,
   "metadata": {},
   "outputs": [],
   "source": [
    "jr = ['ju','ru','js','rs']\n",
    "mrks = ['s','o','d','H']\n",
    "shift = [-0.003,-0.001,0.001,0.003]\n",
    "fig = plt.figure('w0_DMix',figsize=(7,4.326237))\n",
    "ax = plt.axes([0.15,0.15,0.8,0.8])\n",
    "colors ={'a15m400':'#ec5d57','a15m350':'#ec5d57','a15m310':'#ec5d57','a15m220':'#ec5d57','a15m130':'#ec5d57',\n",
    "        'a12m400':'#70bf41','a12m350':'#70bf41','a12m310':'#70bf41','a12m220':'#70bf41','a12m130':'#70bf41','a12m220S':'#70bf41','a12m220L':'#70bf41',\n",
    "        'a09m400':'#51a7f9','a09m350':'#51a7f9','a09m310':'#51a7f9','a09m220':'#51a7f9'}\n",
    "for i,e in enumerate(switches['ensemble']):\n",
    "    epi = fmt_data['p']['mpi'][i]/fmt_data['x']['Lchi'][i]\n",
    "    for j,mix in enumerate(jr):\n",
    "        wMix = fmt_data['p']['wMix_'+mix][i]\n",
    "        ax.errorbar(epi.mean+shift[j],wMix.mean,yerr=wMix.sdev,color=colors[e],marker=mrks[j],elinewidth=1,capsize=3,mfc='none')"
   ]
  },
  {
   "cell_type": "code",
   "execution_count": null,
   "metadata": {},
   "outputs": [],
   "source": [
    "fit = flib.fit_data(switches,fmt_data,phys_p)\n",
    "print(fit.format(maxline=True))"
   ]
  },
  {
   "cell_type": "code",
   "execution_count": null,
   "metadata": {
    "scrolled": false
   },
   "outputs": [],
   "source": [
    "fig = plt.figure('FK/Fpi',figsize=(7,4.326237))\n",
    "ax = plt.axes([0.15,0.15,0.8,0.8])\n",
    "colors ={'a15m400':'#ec5d57','a15m350':'#ec5d57','a15m310':'#ec5d57','a15m220':'#ec5d57','a15m130':'#ec5d57',\n",
    "        'a12m400':'#70bf41','a12m350':'#70bf41','a12m310':'#70bf41','a12m220':'#70bf41','a12m130':'#70bf41','a12m220S':'#70bf41','a12m220L':'#70bf41',\n",
    "        'a09m400':'#51a7f9','a09m350':'#51a7f9','a09m310':'#51a7f9','a09m220':'#51a7f9'}\n",
    "for i,e in enumerate(switches['ensemble']):\n",
    "    epi = fmt_data['p']['mpi'][i]/fmt_data['x']['Lchi'][i]\n",
    "    print('%8s %s %s' %(e,str(fmt_data['y'][i]),str(fit.fcn(fit.x,fit.p)[i])))\n",
    "    ax.errorbar(epi.mean,fmt_data['y'][i].mean,yerr=fmt_data['y'][i].sdev,color=colors[e],marker='o',elinewidth=1,capsize=3,mfc='none')\n",
    "    ax.errorbar(epi.mean+.005,fit.fcn(fit.x,fit.p)[i].mean,yerr=fit.fcn(fit.x,fit.p)[i].sdev,color=colors[e],marker='s',elinewidth=1,capsize=3,mfc='none')\n",
    "fkp = flib.fkfpi_phys(phys_p,fit)\n",
    "ax.errorbar((phys_p['mpi']/(4.*np.pi*phys_p['Fpi'])).mean,fkp.mean,yerr=fkp.sdev,color='magenta',marker='*',elinewidth=1,capsize=3,mfc='none')\n",
    "ax.errorbar((phys_p['mpi']/(4.*np.pi*phys_p['Fpi'])).mean,1.193,yerr=0.003,color='black',marker='*',elinewidth=1,capsize=3,mfc='none')\n",
    "plt.savefig('FKFpi_vs_epi.pdf',transparent=True)"
   ]
  },
  {
   "cell_type": "code",
   "execution_count": null,
   "metadata": {},
   "outputs": [],
   "source": []
  },
  {
   "cell_type": "code",
   "execution_count": null,
   "metadata": {},
   "outputs": [],
   "source": []
  }
 ],
 "metadata": {
  "kernelspec": {
   "display_name": "Python 3",
   "language": "python",
   "name": "python3"
  },
  "language_info": {
   "codemirror_mode": {
    "name": "ipython",
    "version": 3
   },
   "file_extension": ".py",
   "mimetype": "text/x-python",
   "name": "python",
   "nbconvert_exporter": "python",
   "pygments_lexer": "ipython3",
   "version": "3.6.5"
  }
 },
 "nbformat": 4,
 "nbformat_minor": 2
}
