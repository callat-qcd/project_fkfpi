{
 "cells": [
  {
   "cell_type": "code",
   "execution_count": 1,
   "metadata": {
    "collapsed": true
   },
   "outputs": [],
   "source": [
    "import numpy as np\n",
    "import pandas as pd\n",
    "pd.options.display.max_rows = 5\n",
    "import matplotlib.pyplot as plt\n",
    "import gvar as gv\n",
    "import fkfpi_lib as flib"
   ]
  },
  {
   "cell_type": "code",
   "execution_count": 2,
   "metadata": {
    "collapsed": true
   },
   "outputs": [],
   "source": [
    "switches = dict()\n",
    "switches['ensemble'] = ['l1648f211b580m013m065m838','l2448f211b580m0064m0640m828','l3248f211b580m00235m0647m831',\n",
    "                'l2464f211b600m0170m0509m635','l2464f211b600m0130m0509m635','l2464f211b600m0102m0509m635','l2464f211b600m00507m0507m628','l3264f211b600m00507m0507m628','l4064f211b600m00507m0507m628', 'l4864f211b600m00184m0507m628',\n",
    "                'l3296f211b630m0074m037m440','l4896f211b630m00363m0363m430']\n",
    "\n",
    "switches['ansatz'] = dict()\n",
    "switches['ansatz']['type'] = 'MA' # Type of fit: 'xpt' or 'MA'\n",
    "switches['ansatz']['truncation'] = 4 # Order to truncate series\n",
    "switches['ansatz']['FV'] = False # True turns on NLO FV correction\n",
    "switches['ansatz']['xsb'] = False # True turns on O(a) discretization\n",
    "switches['ansatz']['alpha'] = False # True turns on O(alpha_s a^2) discretization"
   ]
  },
  {
   "cell_type": "code",
   "execution_count": 3,
   "metadata": {
    "collapsed": true
   },
   "outputs": [],
   "source": [
    "# Set priors for Xpt\n",
    "priors = dict()\n",
    "priors['L5'] = gv.gvar(0.0, 10.0)\n",
    "priors['s2'] = gv.gvar(0.0, 10.0)\n",
    "# Physical parameters from PDG\n",
    "phys_params = dict()\n",
    "# http://pdg.lbl.gov/2016/tables/rpp2016-tab-mesons-light.pdf\n",
    "phys_params['mpi'] = gv.gvar(139.57018, 0.00035) # mpi +/- [MeV]"
   ]
  },
  {
   "cell_type": "code",
   "execution_count": 4,
   "metadata": {
    "collapsed": true
   },
   "outputs": [],
   "source": [
    "data = pd.read_csv('./github_fkfpi_v1.csv')\n",
    "hisq_params = pd.read_csv('./hisq_params.csv')"
   ]
  },
  {
   "cell_type": "code",
   "execution_count": 5,
   "metadata": {},
   "outputs": [
    {
     "name": "stdout",
     "output_type": "stream",
     "text": [
      "{'x': array([ 1.40435373,  1.37133917,  1.36314289,  1.19618295,  1.16617205,\n",
      "        1.14647898,  1.11078674,  1.1084827 ,  1.10880589,  1.09039055,\n",
      "        0.85209774,  0.81368816]), 'y': array([1.1015(14), 1.1281(18), 1.1746(41), 1.0743(11), 1.08987(94),\n",
      "       1.1017(15), 1.1386(27), 1.1314(21), 1.1279(28), 1.1609(35),\n",
      "       1.1108(16), 1.1439(17)], dtype=object), 'p': {'L5': 0(10), 's2': 0(10), 'mpi': array([0.23609(29), 0.16543(22), 0.10093(48), 0.24339(15), 0.21438(15),\n",
      "       0.18862(23), 0.13556(32), 0.13427(17), 0.13402(15), 0.08128(24),\n",
      "       0.14074(12), 0.097896(63)], dtype=object), 'mka': array([0.40460(25), 0.38691(21), 0.37796(23), 0.34341(14), 0.33309(16),\n",
      "       0.32416(21), 0.31044(22), 0.31003(17), 0.31018(19), 0.30204(22),\n",
      "       0.24110(14), 0.228703(91)], dtype=object), 'mss': array([0.51875(17), 0.51495(14), 0.51314(13), 0.42073(13), 0.41971(13),\n",
      "       0.41803(16), 0.41576(15), 0.41539(12), 0.41557(12), 0.41420(11),\n",
      "       0.31170(11), 0.309358(70)], dtype=object), 'aw0': array([0.88040(30), 0.88040(30), 0.88040(30), 0.70360(50), 0.70360(50),\n",
      "       0.70360(50), 0.70360(50), 0.70360(50), 0.70360(50), 0.70360(50),\n",
      "       0.51050(30), 0.51050(30)], dtype=object), 'a2di': array([0.368(44), 0.368(44), 0.368(44), 0.207(17), 0.207(17), 0.207(17),\n",
      "       0.207(17), 0.207(17), 0.207(17), 0.207(17), 0.0631(51), 0.0631(51)], dtype=object), 'a2dm': array([0.0439(41), 0.0439(41), 0.0439(41), 0.0250(20), 0.0250(20),\n",
      "       0.0250(20), 0.0250(20), 0.0250(20), 0.0250(20), 0.0250(20),\n",
      "       0.01020(90), 0.01020(90)], dtype=object)}}\n"
     ]
    }
   ],
   "source": [
    "fmt_data = flib.format_data(switches,data,hisq_params,priors)\n",
    "print(fmt_data)"
   ]
  },
  {
   "cell_type": "code",
   "execution_count": 6,
   "metadata": {},
   "outputs": [
    {
     "name": "stdout",
     "output_type": "stream",
     "text": [
      "[ 0.287744    0.2968656   0.29861515  0.24061925  0.24957308  0.25489956\n",
      "  0.2667866   0.26771054  0.26767531  0.27438635  0.18456181  0.19581322]\n",
      "logs: [-0.98228059 -0.95415651 -0.92468879 -1.26200482 -1.27122962 -1.27673726\n",
      " -1.26132968 -1.25487778 -1.25567835 -1.22516349 -4.20756046 -4.6464487 ]\n",
      "[0.287744(0) 0.296866(0) 0.298615(0) 0.240619(0) 0.249573(0) 0.2549(0)\n",
      " 0.266787(0) 0.267711(0) 0.267675(0) 0.274386(0) 0.184562(0) 0.195813(0)]\n",
      "logs: [-0.982281(0) -0.954157(0) -0.924689(0) -1.262(0) -1.27123(0) -1.27674(0)\n",
      " -1.26133(0) -1.25488(0) -1.25568(0) -1.22516(0) -4.20756(0) -4.64645(0)]\n",
      "[-0.92587287 -1.64504321 -2.17477466 -0.42094066 -0.49645602 -0.58490482\n",
      " -0.85667622 -0.98713882 -1.01559351 -1.17516992  0.09088512  0.07567338]\n",
      "logs: [        nan         nan         nan         nan         nan         nan\n",
      "         nan         nan         nan         nan -0.07283107  0.48912618]\n",
      "[-0.925873(0) -1.64504(0) -2.17477(0) -0.420941(0) -0.496456(0)\n",
      " -0.584905(0) -0.856676(0) -0.987139(0) -1.01559(0) -1.17517(0)\n",
      " 0.0908851(0) 0.0756734(0)]\n",
      "logs: [nan +- nan nan +- nan nan +- nan nan +- nan nan +- nan nan +- nan\n",
      " nan +- nan nan +- nan nan +- nan nan +- nan -0.0728311(0) 0.489126(0)]\n"
     ]
    },
    {
     "name": "stderr",
     "output_type": "stream",
     "text": [
      "/Users/cchang5/Physics/c51/project_fkfpi/fkfpi_lib.py:157: RuntimeWarning: invalid value encountered in log\n",
      "  c = 3./8.*self.eX2*np.log(self.eX2)\n",
      "/Users/cchang5/anaconda/envs/pyqcd3/lib/python3.6/site-packages/numpy/linalg/linalg.py:1757: RuntimeWarning: invalid value encountered in slogdet\n",
      "  sign, logdet = _umath_linalg.slogdet(a, signature=signature)\n",
      "/Users/cchang5/anaconda/envs/pyqcd3/lib/python3.6/site-packages/lsqfit/__init__.py:627: UserWarning: det(fit.cov) < 0 --- roundoff errors? Try an svd cut.\n",
      "  warnings.warn('det(fit.cov) < 0 --- roundoff errors? Try an svd cut.')\n"
     ]
    }
   ],
   "source": [
    "fit = flib.fit_data(switches,fmt_data,phys_params)"
   ]
  },
  {
   "cell_type": "code",
   "execution_count": 7,
   "metadata": {},
   "outputs": [
    {
     "ename": "ValueError",
     "evalue": "cannot convert float NaN to integer",
     "output_type": "error",
     "traceback": [
      "\u001b[0;31m---------------------------------------------------------------------------\u001b[0m",
      "\u001b[0;31mValueError\u001b[0m                                Traceback (most recent call last)",
      "\u001b[0;32m<ipython-input-7-da1d8c951995>\u001b[0m in \u001b[0;36m<module>\u001b[0;34m()\u001b[0m\n\u001b[0;32m----> 1\u001b[0;31m \u001b[0mprint\u001b[0m\u001b[0;34m(\u001b[0m\u001b[0mfit\u001b[0m\u001b[0;34m)\u001b[0m\u001b[0;34m\u001b[0m\u001b[0m\n\u001b[0m",
      "\u001b[0;32m/Users/cchang5/anaconda/envs/pyqcd3/lib/python3.6/site-packages/lsqfit/__init__.py\u001b[0m in \u001b[0;36m__str__\u001b[0;34m(self)\u001b[0m\n\u001b[1;32m    687\u001b[0m \u001b[0;34m\u001b[0m\u001b[0m\n\u001b[1;32m    688\u001b[0m     \u001b[0;32mdef\u001b[0m \u001b[0m__str__\u001b[0m\u001b[0;34m(\u001b[0m\u001b[0mself\u001b[0m\u001b[0;34m)\u001b[0m\u001b[0;34m:\u001b[0m\u001b[0;34m\u001b[0m\u001b[0m\n\u001b[0;32m--> 689\u001b[0;31m         \u001b[0;32mreturn\u001b[0m \u001b[0mself\u001b[0m\u001b[0;34m.\u001b[0m\u001b[0mformat\u001b[0m\u001b[0;34m(\u001b[0m\u001b[0;34m)\u001b[0m\u001b[0;34m\u001b[0m\u001b[0m\n\u001b[0m\u001b[1;32m    690\u001b[0m \u001b[0;34m\u001b[0m\u001b[0m\n\u001b[1;32m    691\u001b[0m     \u001b[0;32mdef\u001b[0m \u001b[0mcheck_roundoff\u001b[0m\u001b[0;34m(\u001b[0m\u001b[0mself\u001b[0m\u001b[0;34m,\u001b[0m \u001b[0mrtol\u001b[0m\u001b[0;34m=\u001b[0m\u001b[0;36m0.25\u001b[0m\u001b[0;34m,\u001b[0m \u001b[0matol\u001b[0m\u001b[0;34m=\u001b[0m\u001b[0;36m1e-6\u001b[0m\u001b[0;34m)\u001b[0m\u001b[0;34m:\u001b[0m\u001b[0;34m\u001b[0m\u001b[0m\n",
      "\u001b[0;32m/Users/cchang5/anaconda/envs/pyqcd3/lib/python3.6/site-packages/lsqfit/__init__.py\u001b[0m in \u001b[0;36mformat\u001b[0;34m(self, maxline, pstyle, nline)\u001b[0m\n\u001b[1;32m    930\u001b[0m                 \u001b[0;32melse\u001b[0m\u001b[0;34m:\u001b[0m\u001b[0;34m\u001b[0m\u001b[0m\n\u001b[1;32m    931\u001b[0m                     \u001b[0mprior\u001b[0m \u001b[0;34m=\u001b[0m \u001b[0mself\u001b[0m\u001b[0;34m.\u001b[0m\u001b[0mp0\u001b[0m \u001b[0;34m+\u001b[0m \u001b[0m_gvar\u001b[0m\u001b[0;34m.\u001b[0m\u001b[0mgvar\u001b[0m\u001b[0;34m(\u001b[0m\u001b[0;36m0\u001b[0m\u001b[0;34m,\u001b[0m\u001b[0mfloat\u001b[0m\u001b[0;34m(\u001b[0m\u001b[0;34m'inf'\u001b[0m\u001b[0;34m)\u001b[0m\u001b[0;34m)\u001b[0m\u001b[0;34m\u001b[0m\u001b[0m\n\u001b[0;32m--> 932\u001b[0;31m             \u001b[0mdata\u001b[0m \u001b[0;34m=\u001b[0m \u001b[0mcollect\u001b[0m\u001b[0;34m(\u001b[0m\u001b[0mself\u001b[0m\u001b[0;34m.\u001b[0m\u001b[0mpalt\u001b[0m\u001b[0;34m,\u001b[0m \u001b[0mprior\u001b[0m\u001b[0;34m,\u001b[0m \u001b[0mstyle\u001b[0m\u001b[0;34m=\u001b[0m\u001b[0mpstyle\u001b[0m\u001b[0;34m,\u001b[0m \u001b[0mstride\u001b[0m\u001b[0;34m=\u001b[0m\u001b[0;36m1\u001b[0m\u001b[0;34m,\u001b[0m \u001b[0mextend\u001b[0m\u001b[0;34m=\u001b[0m\u001b[0mself\u001b[0m\u001b[0;34m.\u001b[0m\u001b[0mextend\u001b[0m\u001b[0;34m)\u001b[0m\u001b[0;34m\u001b[0m\u001b[0m\n\u001b[0m\u001b[1;32m    933\u001b[0m             \u001b[0mw1\u001b[0m\u001b[0;34m,\u001b[0m \u001b[0mw2\u001b[0m\u001b[0;34m,\u001b[0m \u001b[0mw3\u001b[0m \u001b[0;34m=\u001b[0m \u001b[0mcollect\u001b[0m\u001b[0;34m.\u001b[0m\u001b[0mwidth\u001b[0m\u001b[0;34m\u001b[0m\u001b[0m\n\u001b[1;32m    934\u001b[0m             fst = \"%%%ds%s%%%ds%s[ %%%ds ]\" % (\n",
      "\u001b[0;32m/Users/cchang5/anaconda/envs/pyqcd3/lib/python3.6/site-packages/lsqfit/__init__.py\u001b[0m in \u001b[0;36mcollect\u001b[0;34m(v1, v2, style, stride, extend)\u001b[0m\n\u001b[1;32m    834\u001b[0m                             \u001b[0mct\u001b[0m \u001b[0;34m+=\u001b[0m \u001b[0;36m1\u001b[0m\u001b[0;34m\u001b[0m\u001b[0m\n\u001b[1;32m    835\u001b[0m                             \u001b[0;32mcontinue\u001b[0m\u001b[0;34m\u001b[0m\u001b[0m\n\u001b[0;32m--> 836\u001b[0;31m                         \u001b[0mstars\u001b[0m\u001b[0;34m.\u001b[0m\u001b[0mappend\u001b[0m\u001b[0;34m(\u001b[0m\u001b[0mnstar\u001b[0m\u001b[0;34m(\u001b[0m\u001b[0mv1\u001b[0m\u001b[0;34m[\u001b[0m\u001b[0mk\u001b[0m\u001b[0;34m]\u001b[0m\u001b[0;34m,\u001b[0m \u001b[0mv2\u001b[0m\u001b[0;34m[\u001b[0m\u001b[0mk\u001b[0m\u001b[0;34m]\u001b[0m\u001b[0;34m)\u001b[0m\u001b[0;34m)\u001b[0m\u001b[0;34m\u001b[0m\u001b[0m\n\u001b[0m\u001b[1;32m    837\u001b[0m                         \u001b[0mans\u001b[0m\u001b[0;34m.\u001b[0m\u001b[0mappend\u001b[0m\u001b[0;34m(\u001b[0m\u001b[0;34m[\u001b[0m\u001b[0mktag\u001b[0m\u001b[0;34m,\u001b[0m \u001b[0mv1fmt\u001b[0m\u001b[0;34m,\u001b[0m \u001b[0mv2fmt\u001b[0m\u001b[0;34m]\u001b[0m\u001b[0;34m)\u001b[0m\u001b[0;34m\u001b[0m\u001b[0m\n\u001b[1;32m    838\u001b[0m                         \u001b[0mw\u001b[0m \u001b[0;34m=\u001b[0m \u001b[0;34m[\u001b[0m\u001b[0mlen\u001b[0m\u001b[0;34m(\u001b[0m\u001b[0mai\u001b[0m\u001b[0;34m)\u001b[0m \u001b[0;32mfor\u001b[0m \u001b[0mai\u001b[0m \u001b[0;32min\u001b[0m \u001b[0mans\u001b[0m\u001b[0;34m[\u001b[0m\u001b[0;34m-\u001b[0m\u001b[0;36m1\u001b[0m\u001b[0;34m]\u001b[0m\u001b[0;34m]\u001b[0m\u001b[0;34m\u001b[0m\u001b[0m\n",
      "\u001b[0;32m/Users/cchang5/anaconda/envs/pyqcd3/lib/python3.6/site-packages/lsqfit/__init__.py\u001b[0m in \u001b[0;36mnstar\u001b[0;34m(v1, v2)\u001b[0m\n\u001b[1;32m    796\u001b[0m             \u001b[0;32mdef\u001b[0m \u001b[0mnstar\u001b[0m\u001b[0;34m(\u001b[0m\u001b[0mv1\u001b[0m\u001b[0;34m,\u001b[0m \u001b[0mv2\u001b[0m\u001b[0;34m)\u001b[0m\u001b[0;34m:\u001b[0m\u001b[0;34m\u001b[0m\u001b[0m\n\u001b[1;32m    797\u001b[0m                 \u001b[0msdev\u001b[0m \u001b[0;34m=\u001b[0m \u001b[0mmax\u001b[0m\u001b[0;34m(\u001b[0m\u001b[0mv1\u001b[0m\u001b[0;34m.\u001b[0m\u001b[0msdev\u001b[0m\u001b[0;34m,\u001b[0m \u001b[0mv2\u001b[0m\u001b[0;34m.\u001b[0m\u001b[0msdev\u001b[0m\u001b[0;34m)\u001b[0m\u001b[0;34m\u001b[0m\u001b[0m\n\u001b[0;32m--> 798\u001b[0;31m                 \u001b[0mnstar\u001b[0m \u001b[0;34m=\u001b[0m \u001b[0mint\u001b[0m\u001b[0;34m(\u001b[0m\u001b[0mabs\u001b[0m\u001b[0;34m(\u001b[0m\u001b[0mv1\u001b[0m\u001b[0;34m.\u001b[0m\u001b[0mmean\u001b[0m \u001b[0;34m-\u001b[0m \u001b[0mv2\u001b[0m\u001b[0;34m.\u001b[0m\u001b[0mmean\u001b[0m\u001b[0;34m)\u001b[0m \u001b[0;34m/\u001b[0m \u001b[0msdev\u001b[0m\u001b[0;34m)\u001b[0m\u001b[0;34m\u001b[0m\u001b[0m\n\u001b[0m\u001b[1;32m    799\u001b[0m                 \u001b[0;32mif\u001b[0m \u001b[0mnstar\u001b[0m \u001b[0;34m>\u001b[0m \u001b[0;36m5\u001b[0m\u001b[0;34m:\u001b[0m\u001b[0;34m\u001b[0m\u001b[0m\n\u001b[1;32m    800\u001b[0m                     \u001b[0mnstar\u001b[0m \u001b[0;34m=\u001b[0m \u001b[0;36m5\u001b[0m\u001b[0;34m\u001b[0m\u001b[0m\n",
      "\u001b[0;31mValueError\u001b[0m: cannot convert float NaN to integer"
     ]
    }
   ],
   "source": [
    "print(fit)"
   ]
  },
  {
   "cell_type": "code",
   "execution_count": null,
   "metadata": {
    "collapsed": true
   },
   "outputs": [],
   "source": []
  }
 ],
 "metadata": {
  "kernelspec": {
   "display_name": "Python 3",
   "language": "python",
   "name": "python3"
  },
  "language_info": {
   "codemirror_mode": {
    "name": "ipython",
    "version": 3
   },
   "file_extension": ".py",
   "mimetype": "text/x-python",
   "name": "python",
   "nbconvert_exporter": "python",
   "pygments_lexer": "ipython3",
   "version": "3.6.1"
  }
 },
 "nbformat": 4,
 "nbformat_minor": 2
}
