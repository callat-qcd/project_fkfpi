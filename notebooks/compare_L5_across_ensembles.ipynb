{
 "cells": [
  {
   "cell_type": "code",
   "execution_count": 1,
   "metadata": {
    "collapsed": true
   },
   "outputs": [],
   "source": [
    "import numpy as np\n",
    "import gvar as gv\n",
    "import lsqfit\n",
    "import sys\n",
    "import os\n",
    "import matplotlib\n",
    "import matplotlib.pyplot as plt\n",
    "import pandas as pd\n",
    "import h5py\n",
    "import time\n",
    "from collections import OrderedDict\n",
    "\n",
    "sys.path.append(\"../\")\n",
    "from fitter import data_loader as dl\n",
    "from fitter import bootstrapper as bs\n",
    "from fitter import fitter as fit\n",
    "from fitter import special_functions as sf\n",
    "\n",
    "for j in range(10): # Sometimes this needs to be loaded twice...\n",
    "    matplotlib.rcParams['figure.figsize'] = [10, 10]"
   ]
  },
  {
   "cell_type": "code",
   "execution_count": 177,
   "metadata": {},
   "outputs": [
    {
     "data": {
      "text/plain": [
       "<module 'fitter.special_functions' from '../fitter\\special_functions.pyc'>"
      ]
     },
     "execution_count": 177,
     "metadata": {},
     "output_type": "execute_result"
    }
   ],
   "source": [
    "reload(bs)\n",
    "reload(dl)\n",
    "reload(fit)\n",
    "reload(sf)"
   ]
  },
  {
   "cell_type": "markdown",
   "metadata": {},
   "source": [
    "### w/e"
   ]
  },
  {
   "cell_type": "code",
   "execution_count": 188,
   "metadata": {
    "collapsed": true
   },
   "outputs": [],
   "source": [
    "p_dict = {\n",
    "    'order' : {\n",
    "        'fit' : 'nlo',\n",
    "        'vol' : 0 # max 10\n",
    "    }, \n",
    "    'bs_N' : 1,  # if 0, use full list\n",
    "    'F2' : 'FKFpi', #'FKfpi', 'FpiFpi', 'FKFK'\n",
    "\n",
    "    'use_prior' : False,\n",
    "\n",
    "\n",
    "    'make_plots' : True,\n",
    "    'show_error_ellipses' : False,\n",
    "    'show_bs_histograms' : False,\n",
    "\n",
    "    'save_prior' : False,\n",
    "    'save_results' : True,\n",
    "}"
   ]
  },
  {
   "cell_type": "code",
   "execution_count": 198,
   "metadata": {
    "scrolled": true
   },
   "outputs": [
    {
     "name": "stdout",
     "output_type": "stream",
     "text": [
      "ma-taylor a09m220\n",
      "Using default prior.\n",
      "Making fits...\n",
      "100% complete Time (s):  0.0460000038147\n",
      "Compiling results...\n",
      "\n",
      "Total time (s):  0.111999988556 \n",
      "\n",
      "ma-taylor a09m310\n",
      "Using default prior.\n",
      "Making fits...\n",
      "100% complete Time (s):  0.0350000858307\n",
      "Compiling results...\n",
      "\n",
      "Total time (s):  0.124000072479 \n",
      "\n",
      "ma-taylor a09m350\n",
      "Using default prior.\n",
      "Making fits...\n",
      "100% complete Time (s):  0.0549998283386\n",
      "Compiling results...\n",
      "\n",
      "Total time (s):  0.12900018692 \n",
      "\n",
      "ma-taylor a09m400\n",
      "Using default prior.\n",
      "Making fits...\n",
      "100% complete Time (s):  0.0480000972748\n",
      "Compiling results...\n",
      "\n",
      "Total time (s):  0.15299987793 \n",
      "\n",
      "ma-taylor a12m130\n",
      "Using default prior.\n",
      "Making fits...\n",
      "100% complete Time (s):  0.0499999523163\n",
      "Compiling results...\n",
      "\n",
      "Total time (s):  0.144999980927 \n",
      "\n",
      "ma-taylor a12m220\n",
      "Using default prior.\n",
      "Making fits...\n",
      "100% complete Time (s):  0.0479998588562\n",
      "Compiling results...\n",
      "\n",
      "Total time (s):  0.139999866486 \n",
      "\n",
      "ma-taylor a12m220S\n",
      "Using default prior.\n",
      "Making fits...\n",
      "100% complete Time (s):  0.0419998168945\n",
      "Compiling results...\n",
      "\n",
      "Total time (s):  0.126000165939 \n",
      "\n",
      "ma-taylor a12m220L\n",
      "Using default prior.\n",
      "Making fits...\n",
      "100% complete Time (s):  0.0440001487732\n",
      "Compiling results...\n",
      "\n",
      "Total time (s):  0.136999845505 \n",
      "\n",
      "ma-taylor a12m310\n",
      "Using default prior.\n",
      "Making fits...\n",
      "100% complete Time (s):  0.0409998893738\n",
      "Compiling results...\n",
      "\n",
      "Total time (s):  0.12700009346 \n",
      "\n",
      "ma-taylor a12m350\n",
      "Using default prior.\n",
      "Making fits...\n",
      "100% complete Time (s):  0.0529999732971\n",
      "Compiling results...\n",
      "\n",
      "Total time (s):  0.144999980927 \n",
      "\n",
      "ma-taylor a12m400\n",
      "Using default prior.\n",
      "Making fits...\n",
      "100% complete Time (s):  0.0629999637604\n",
      "Compiling results...\n",
      "\n",
      "Total time (s):  0.141999959946 \n",
      "\n",
      "ma-taylor a15m130\n",
      "Using default prior.\n",
      "Making fits...\n",
      "100% complete Time (s):  0.0529999732971\n",
      "Compiling results...\n",
      "\n",
      "Total time (s):  0.149999856949 \n",
      "\n",
      "ma-taylor a15m220\n",
      "Using default prior.\n",
      "Making fits...\n",
      "100% complete Time (s):  0.0419998168945\n",
      "Compiling results...\n",
      "\n",
      "Total time (s):  0.136000156403 \n",
      "\n",
      "ma-taylor a15m310\n",
      "Using default prior.\n",
      "Making fits...\n",
      "100% complete Time (s):  0.0409998893738\n",
      "Compiling results...\n",
      "\n",
      "Total time (s):  0.130999803543 \n",
      "\n",
      "ma-taylor a15m350\n",
      "Using default prior.\n",
      "Making fits...\n",
      "100% complete Time (s):  0.0510001182556\n",
      "Compiling results...\n",
      "\n",
      "Total time (s):  0.133999824524 \n",
      "\n",
      "ma-taylor a15m400\n",
      "Using default prior.\n",
      "Making fits...\n",
      "100% complete Time (s):  0.048999786377\n",
      "Compiling results...\n",
      "\n",
      "Total time (s):  0.141000032425 \n",
      "\n"
     ]
    }
   ],
   "source": [
    "abbrs =   [u'a09m220', u'a09m310', u'a09m350', u'a09m400', u'a12m130',\n",
    "           u'a12m220',  u'a12m220S', u'a12m220L', u'a12m310', u'a12m350',\n",
    "           u'a12m400', u'a15m130', u'a15m220', u'a15m310', u'a15m350', u'a15m400']\n",
    "\n",
    "#abbrs = ['a15m310']\n",
    "\n",
    "L5_by_ensemble = {'nm' : {}}\n",
    "\n",
    "for fit_type in ['ma-taylor']:#['xpt-taylor', 'ma-taylor']:\n",
    "    p_dict['fit_type'] = fit_type\n",
    "    L5_by_ensemble['nm'][fit_type] = {}\n",
    "    for abbr in abbrs:\n",
    "        p_dict['abbrs'] = [abbr]\n",
    "        print fit_type, abbr\n",
    "        \n",
    "        # Do fit\n",
    "        t0 = time.time()\n",
    "\n",
    "        # Load data\n",
    "        data_loader = dl.data_loader()\n",
    "        fit_data = data_loader.get_fit_data()\n",
    "\n",
    "        # Get prior\n",
    "        prior = None\n",
    "        if p_dict['use_prior']:\n",
    "            prior = data_loader.get_prior(p_dict['fit_type'])\n",
    "\n",
    "        # Make bootstrapper\n",
    "        bootstrapper = bs.bootstrapper(fit_data, prior=prior, order=p_dict['order'], F2=p_dict['F2'],\n",
    "                                       fit_type=p_dict['fit_type'], bs_N=p_dict['bs_N'], abbrs=p_dict['abbrs'])\n",
    "        t1 = time.time()\n",
    "        \n",
    "        L5_by_ensemble['nm'][fit_type][abbr] = gv.gvar(bootstrapper.get_fit_parameters('L_5'))\n",
    "\n",
    "        print \"\\nTotal time (s): \", t1 - t0, \"\\n\""
   ]
  },
  {
   "cell_type": "code",
   "execution_count": 186,
   "metadata": {},
   "outputs": [
    {
     "data": {
      "text/plain": [
       "array([ 1.17538145])"
      ]
     },
     "execution_count": 186,
     "metadata": {},
     "output_type": "execute_result"
    }
   ],
   "source": [
    "def test(self):\n",
    "    fit_data = {\n",
    "        'mpi' : [0.2360861817559181],\n",
    "        'mk' : [0.4046019504021037],\n",
    "        'mss' : [0.5187527801912314],\n",
    "        'mju' : [0.3061540585217501], \n",
    "        'mjs' : [0.4346334326859672],\n",
    "        'mru' : [0.4507718960348012],\n",
    "        'mrs' : [0.5489533322568679],\n",
    "        'aw0' : [0.8804],\n",
    "        'a2DI' : [1],\n",
    "        'lam2_chi' : [0.9859804526801081],\n",
    "        'L' : [0]\n",
    "    }\n",
    "    for key in fit_data.keys():\n",
    "        fit_data[key] = np.array(fit_data[key])\n",
    "    \n",
    "    fit_parameters = {'L_5' : 0.001}\n",
    "    \n",
    "    return self.fk_fpi_fit_fcn(fit_data=fit_data, fit_parameters=fit_parameters)\n",
    "\n",
    "test(bootstrapper)"
   ]
  },
  {
   "cell_type": "code",
   "execution_count": 57,
   "metadata": {},
   "outputs": [
    {
     "data": {
      "text/plain": [
       "{'L': array([16.00000(16)], dtype=object),\n",
       " 'a/w0': array([0.88040(30)], dtype=object),\n",
       " 'a2DI': array([0.087(11)], dtype=object),\n",
       " 'lam2_chi': array([0.9860(20)], dtype=object),\n",
       " 'mjs': array([0.43463(93)], dtype=object),\n",
       " 'mju': array([0.3061(13)], dtype=object),\n",
       " 'mk': array([0.40457(24)], dtype=object),\n",
       " 'mpi': array([0.23601(30)], dtype=object),\n",
       " 'mrs': array([0.54898(74)], dtype=object),\n",
       " 'mru': array([0.4508(12)], dtype=object),\n",
       " 'mss': array([0.51876(16)], dtype=object),\n",
       " 'y': [1.1015(19)]}"
      ]
     },
     "execution_count": 57,
     "metadata": {},
     "output_type": "execute_result"
    }
   ],
   "source": [
    "bootstrapper._make_fit_data(0)"
   ]
  },
  {
   "cell_type": "code",
   "execution_count": 55,
   "metadata": {},
   "outputs": [
    {
     "data": {
      "text/plain": [
       "{'a15m310': {u'FK': array([0.082934(93)], dtype=object),\n",
       "  u'Fpi': array([0.075290(96)], dtype=object),\n",
       "  'L': 16.00000(16),\n",
       "  'a/w0': 0.88040(30),\n",
       "  u'a2DI': 0.087(11),\n",
       "  'lam2_chi': array([0.9860(20)], dtype=object),\n",
       "  u'mjs': array([0.43463(93)], dtype=object),\n",
       "  u'mju': array([0.3061(13)], dtype=object),\n",
       "  u'mk': array([0.40457(24)], dtype=object),\n",
       "  u'mpi': array([0.23601(30)], dtype=object),\n",
       "  u'mrs': array([0.54898(74)], dtype=object),\n",
       "  u'mru': array([0.4508(12)], dtype=object),\n",
       "  u'mss': array([0.51876(16)], dtype=object)}}"
      ]
     },
     "execution_count": 55,
     "metadata": {},
     "output_type": "execute_result"
    }
   ],
   "source": [
    "bootstrapper.fit_data"
   ]
  },
  {
   "cell_type": "code",
   "execution_count": null,
   "metadata": {
    "collapsed": true
   },
   "outputs": [],
   "source": []
  },
  {
   "cell_type": "code",
   "execution_count": 162,
   "metadata": {},
   "outputs": [
    {
     "data": {
      "text/plain": [
       "0.078965319007776036"
      ]
     },
     "execution_count": 162,
     "metadata": {},
     "output_type": "execute_result"
    }
   ],
   "source": [
    "mpi = 0.1 \n",
    "mss = 0.2\n",
    "mx = 0.3\n",
    "mu = 1\n",
    "sf.fcn_K_m1m2m3((mpi, mss, mx), 0, mu, 0)"
   ]
  },
  {
   "cell_type": "code",
   "execution_count": 161,
   "metadata": {},
   "outputs": [
    {
     "data": {
      "text/plain": [
       "0.078965319007776147"
      ]
     },
     "execution_count": 161,
     "metadata": {},
     "output_type": "execute_result"
    }
   ],
   "source": [
    "mpi = 0.1 \n",
    "mss = 0.2\n",
    "mx = 0.3\n",
    "mu = 1\n",
    "\n",
    "def test((m1, m2, m3), L, mu, order):\n",
    "    output = (\n",
    "        1.0/((m1**2 - m2**2) *(m1**2 - m3**2)) *np.log((m1/mu)**2) *(m1 /( 4 *np.pi))**2\n",
    "        + 1.0/((m2**2 - m1**2) *(m2**2 - m3**2)) *np.log((m2/mu)**2) *(m2 /( 4 *np.pi))**2\n",
    "        + 1.0/((m3**2 - m1**2) *(m3**2 - m2**2)) *np.log((m3/mu)**2) *(m3 /( 4 *np.pi))**2\n",
    "    )\n",
    "    return output\n",
    "\n",
    "test((mpi, mss, mx), 0, mu, 0)"
   ]
  },
  {
   "cell_type": "code",
   "execution_count": 159,
   "metadata": {},
   "outputs": [
    {
     "data": {
      "text/plain": [
       "-374.89009641253915"
      ]
     },
     "execution_count": 159,
     "metadata": {},
     "output_type": "execute_result"
    }
   ],
   "source": [
    "-1918.8209108283713 + 2145.9172165788004 + -601.9864021629683"
   ]
  },
  {
   "cell_type": "code",
   "execution_count": null,
   "metadata": {
    "collapsed": true
   },
   "outputs": [],
   "source": []
  },
  {
   "cell_type": "code",
   "execution_count": null,
   "metadata": {
    "collapsed": true
   },
   "outputs": [],
   "source": []
  },
  {
   "cell_type": "code",
   "execution_count": null,
   "metadata": {
    "collapsed": true
   },
   "outputs": [],
   "source": []
  },
  {
   "cell_type": "code",
   "execution_count": 199,
   "metadata": {
    "collapsed": true
   },
   "outputs": [],
   "source": [
    "# Andre's results\n",
    "L5_by_ensemble['aw'] = {\n",
    "  'ma-taylor': {\n",
    "    u'a09m220': '0.000263(22)',\n",
    "    u'a09m310': '0.000334(24)',\n",
    "    u'a09m350': '0.000382(41)',\n",
    "    u'a09m400': '0.000392(19)',\n",
    "    u'a12m130': '0.000323(43)',\n",
    "    u'a12m220': '0.000290(29)',\n",
    "    u'a12m220L': '0.000245(36)',\n",
    "    u'a12m220S': '0.000389(34)',\n",
    "    u'a12m310': '0.000349(33)',\n",
    "    u'a12m350': '0.000317(48)',\n",
    "    u'a12m400': '0.000380(35)',\n",
    "    u'a15m130': '0.000599(54)',\n",
    "    u'a15m220': '0.000347(24)',\n",
    "    u'a15m310': '0.000441(21)',\n",
    "    u'a15m350': '0.000448(28)',\n",
    "    u'a15m400': '0.000429(28)'},\n",
    "\n",
    "  'xpt-taylor': {\n",
    "    u'a09m220': '0.000173(21)',\n",
    "    u'a09m310': '0.000256(23)',\n",
    "    u'a09m350': '0.000315(16)',\n",
    "    u'a09m400': '0.000334(18)',\n",
    "    u'a12m130': '-0.000011(41)',\n",
    "    u'a12m220': '0.000039(27)',\n",
    "    u'a12m220L': '-8(35)e-06',\n",
    "    u'a12m220S': '0.000144(33)',\n",
    "    u'a12m310': '0.000150(32)',\n",
    "    u'a12m350': '0.000146(45)',\n",
    "    u'a12m400': '0.000199(32)',\n",
    "    u'a15m130': '0.000139(46)',\n",
    "    u'a15m220': '-0.000042(19)',\n",
    "    u'a15m310': '0.000105(18)',\n",
    "    u'a15m350': '0.000126(14)',\n",
    "    u'a15m400': '0.000135(16)'}\n",
    "}\n",
    "L5_by_ensemble['aw']['ma-taylor'] = gv.gvar(L5_by_ensemble['aw']['ma-taylor'])\n",
    "L5_by_ensemble['aw']['xpt-taylor'] = gv.gvar(L5_by_ensemble['aw']['xpt-taylor'])"
   ]
  },
  {
   "cell_type": "markdown",
   "metadata": {},
   "source": [
    "### Make graph"
   ]
  },
  {
   "cell_type": "code",
   "execution_count": 201,
   "metadata": {
    "scrolled": false
   },
   "outputs": [],
   "source": [
    "def plot_comparison(L5_by_ensemble, fit_type):\n",
    "    y = 1\n",
    "    labels = np.array([])\n",
    "    for abbr in sorted(L5_by_ensemble['nm'][fit_type].keys()):\n",
    "        # NM\n",
    "        x = gv.mean(L5_by_ensemble['nm'][fit_type][abbr])\n",
    "        xerr = gv.sdev(L5_by_ensemble['nm'][fit_type][abbr])\n",
    "        plt.errorbar(x=x, y=y, xerr=xerr, yerr=0.0,\n",
    "                     color='C2', marker='o', capsize=0.0, mec='white', ms=10.0, alpha=0.6,\n",
    "                     ecolor='C3', elinewidth=10.0, label='NM')\n",
    "        y = y + 1\n",
    "\n",
    "        # AW\n",
    "        x = gv.mean(L5_by_ensemble['aw'][fit_type][abbr])\n",
    "\n",
    "        plt.errorbar(x=x, y=y, xerr=xerr, yerr=0.0,\n",
    "                     color='C0', marker='o', capsize=0.0, mec='white', ms=10.0, alpha=0.6,\n",
    "                     ecolor='C1', elinewidth=10.0, label='AW')\n",
    "        labels = np.append(labels, str(\"\"))\n",
    "        y = y + 1\n",
    "\n",
    "        labels = np.append(labels, str(abbr))\n",
    "        plt.axhline(y, ls='--')\n",
    "\n",
    "        y = y + 1\n",
    "        labels = np.append(labels, str(\"\"))\n",
    "\n",
    "    plt.yticks(1*range(len(labels)), labels, fontsize=15, rotation=45)\n",
    "    plt.ylim(-1, y)\n",
    "    plt.xlabel('L_5', fontsize = 24)\n",
    "    \n",
    "    # Remove duplicate labels in legend\n",
    "    handles, labels = plt.gca().get_legend_handles_labels()\n",
    "    by_label = OrderedDict(reversed(zip(labels, handles)))\n",
    "    plt.legend(by_label.values(), by_label.keys())\n",
    "    \n",
    "    fig = plt.gcf()\n",
    "    plt.close()\n",
    "    return fig\n",
    "\n",
    "#plot_comparison(L5_by_ensemble, 'ma-taylor')"
   ]
  },
  {
   "cell_type": "code",
   "execution_count": 120,
   "metadata": {},
   "outputs": [
    {
     "name": "stdout",
     "output_type": "stream",
     "text": [
      "L \t\t16.00000(16)\n",
      "a/w0 \t\t0.88040(30)\n",
      "a2DI \t\t0.087(11)\n",
      "lam2_chi \t\t0.9860(20)\n",
      "mjs \t\t0.43463(93)\n",
      "mju \t\t0.3061(13)\n",
      "mk \t\t0.40457(24)\n",
      "mpi \t\t0.23601(30)\n",
      "mrs \t\t0.54898(74)\n",
      "mru \t\t0.4508(12)\n",
      "mss \t\t0.51876(16)\n",
      "y \t\t1.1015(19)\n"
     ]
    }
   ],
   "source": [
    "temp = bootstrapper._make_fit_data(0)\n",
    "for key in sorted(temp.keys()):\n",
    "    print key, '\\t\\t', temp[key][0]"
   ]
  },
  {
   "cell_type": "code",
   "execution_count": null,
   "metadata": {
    "collapsed": true
   },
   "outputs": [],
   "source": []
  }
 ],
 "metadata": {
  "kernelspec": {
   "display_name": "Python 2",
   "language": "python",
   "name": "python2"
  },
  "language_info": {
   "codemirror_mode": {
    "name": "ipython",
    "version": 2
   },
   "file_extension": ".py",
   "mimetype": "text/x-python",
   "name": "python",
   "nbconvert_exporter": "python",
   "pygments_lexer": "ipython2",
   "version": "2.7.14"
  }
 },
 "nbformat": 4,
 "nbformat_minor": 2
}
