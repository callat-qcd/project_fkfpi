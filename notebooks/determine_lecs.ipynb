{
 "cells": [
  {
   "cell_type": "markdown",
   "metadata": {},
   "source": [
    "### Import Modules"
   ]
  },
  {
   "cell_type": "code",
   "execution_count": 1,
   "metadata": {},
   "outputs": [],
   "source": [
    "import numpy as np\n",
    "import gvar as gv\n",
    "import lsqfit\n",
    "import sys\n",
    "import os\n",
    "import matplotlib\n",
    "import matplotlib.pyplot as plt\n",
    "import pandas as pd\n",
    "import h5py\n",
    "\n",
    "sys.path.append(\"../\")\n",
    "from fitter import data_loader as dl\n",
    "from fitter import bootstrapper as bs\n",
    "from fitter import fitter as fit\n",
    "\n",
    "matplotlib.rcParams['figure.figsize'] = [10, 10]"
   ]
  },
  {
   "cell_type": "code",
   "execution_count": 406,
   "metadata": {},
   "outputs": [
    {
     "data": {
      "text/plain": [
       "<module 'fitter.fitter' from '../fitter\\fitter.pyc'>"
      ]
     },
     "execution_count": 406,
     "metadata": {},
     "output_type": "execute_result"
    }
   ],
   "source": [
    "reload(bs)\n",
    "reload(dl)\n",
    "reload(fit)"
   ]
  },
  {
   "cell_type": "markdown",
   "metadata": {},
   "source": [
    "### Load Data"
   ]
  },
  {
   "cell_type": "code",
   "execution_count": 407,
   "metadata": {},
   "outputs": [],
   "source": [
    "data_loader = dl.data_loader()\n",
    "\n",
    "fit_data = data_loader.get_fit_data()\n",
    "prior = data_loader.get_prior()\n",
    "\n",
    "bootstrapper = bs.bootstrapper(fit_data, prior=prior, order=1, bs_N=200)\n",
    "#bootstrapper.plot_parameters(xy_parameters=['a', 'm_pion'], color_parameter='V')\n",
    "#data_loader.save_plots(bootstrapper)\n",
    "#bootstrapper.plot_fit()"
   ]
  },
  {
   "cell_type": "markdown",
   "metadata": {},
   "source": [
    "### Bootstrap"
   ]
  },
  {
   "cell_type": "code",
   "execution_count": 408,
   "metadata": {},
   "outputs": [
    {
     "name": "stdout",
     "output_type": "stream",
     "text": [
      "Making fits...\n",
      "100% complete                                            Time (s):  3.17500019073\n",
      "Getting bs fit parameters...\n",
      "100% complete \n",
      "\n",
      "Fitting to order 1 \n",
      "Fitted/[Experimental] values at physical point:\n",
      "\n",
      "\t\tF_K / F_pi = 1.115(41) [1.201(46)]\n",
      "\n",
      "  Parameter    Result[0] / Prior[1]    Parameter    Result[0] / Prior[1]\n",
      "-----------------------------------  -----------------------------------\n",
      "     l_ju 0              -0.9 (1.1)       l_sj 0               1.0 (1.0)\n",
      "          1              -0.60 (50)            1               1.08 (50)\n",
      "     l_a2 0             -0.019 (77)       l_pi 0              -0.9 (1.9)\n",
      "          1            -0.009 (500)            1              -0.70 (50)\n",
      "    l_vol 0               0.40 (56)       l_ss 0              0.516 (87)\n",
      "          1               0.36 (50)            1               0.51 (50)\n",
      "   l_5lam 0             0.0001 (13)       l_ru 0               0.88 (68)\n",
      "          1           0.0005 (5000)            1               0.89 (50)\n",
      "      l_x 0             -0.395 (66)       l_rs 0              -1.9 (1.4)\n",
      "          1              -0.39 (50)            1              -1.34 (50)\n",
      "\n",
      "Total time (s):  28.1180000305 \n",
      "\n",
      "Least Square Fit:\n",
      "  chi2/dof [dof] = 3 [16]    Q = 3.9e-05    logGBF = 29.247\n",
      "\n",
      "Parameters:\n",
      "         l_5lam   0.00079 (36)      [ 0.0005 (5000) ]  \n",
      "           l_ju     -0.38 (37)      [    -0.60 (50) ]  \n",
      "           l_pi     -0.65 (42)      [    -0.70 (50) ]  \n",
      "           l_rs     -1.11 (44)      [    -1.34 (50) ]  \n",
      "           l_ru      0.79 (47)      [     0.89 (50) ]  \n",
      "           l_sj      1.27 (38)      [     1.08 (50) ]  \n",
      "           l_ss     0.548 (10)      [     0.51 (50) ]  \n",
      "            l_x   -0.4252 (76)      [    -0.39 (50) ]  \n",
      "           l_a2     0.009 (17)      [  -0.009 (500) ]  \n",
      "          l_vol      0.64 (16)      [     0.36 (50) ]  \n",
      "\n",
      "Settings:\n",
      "  svdcut/n = 1e-12/0    tol = (1e-08*,1e-10,1e-10)    (itns/time = 3/0.0)\n",
      "  fitter = scipy_least_squares    method = trf\n",
      "\n",
      "Done.\n"
     ]
    }
   ],
   "source": [
    "import time\n",
    "t0 = time.time()\n",
    "print bootstrapper\n",
    "t1 = time.time()\n",
    "print \"\\nTotal time (s): \", t1 - t0, \"\\n\"\n",
    "\n",
    "#squared = lambda x : x**2\n",
    "#bootstrapper.plot_fit(xfcn=squared, xlabel='$m_{\\pi}^2$ (MeV)$^2$')\n",
    "#bootstrapper.plot_fit()\n",
    "\n",
    "print bootstrapper.fits[0]\n",
    "\n",
    "data_loader.save_plots(bootstrapper.plot_fit_bar_graph())\n",
    "#data_loader.save_prior(bootstrapper.create_prior_from_fit())"
   ]
  },
  {
   "cell_type": "code",
   "execution_count": 434,
   "metadata": {
    "scrolled": false
   },
   "outputs": [],
   "source": [
    "# xy_parameters is an array (eg, ['mpi', 'Fpi'])\n",
    "def plot_parameters(self, xy_parameters, color_parameter=None,\n",
    "                    xfcn=None, xlabel=None, yfcn=None, ylabel=None, show_fit=True):\n",
    "    if xfcn is None:\n",
    "        xfcn = lambda x : 1 * x\n",
    "        xlabel = self._fmt_key_as_latex(xy_parameters[0])\n",
    "    else:\n",
    "        # Must also specify xlabel\n",
    "        xlabel = xlabel\n",
    "\n",
    "    if yfcn is None:\n",
    "        yfcn = lambda y : 1 * y\n",
    "        ylabel = self._fmt_key_as_latex(xy_parameters[1])\n",
    "    else:\n",
    "        # Must also specify ylabel\n",
    "        ylabel = ylabel\n",
    "\n",
    "    plot_data = {}\n",
    "    myfcn = [xfcn, yfcn]\n",
    "    for j, parameter in enumerate(xy_parameters):\n",
    "        if parameter in ['FK/Fpi', 'FK / Fpi']:\n",
    "            plot_data[j] = {abbr :  myfcn[j](self.fit_data[abbr]['FK'] /self.fit_data[abbr]['Fpi']) for abbr in self.abbrs}\n",
    "        else:\n",
    "            plot_data[j] = {abbr :  myfcn[j](self.fit_data[abbr][parameter]) for abbr in self.abbrs}\n",
    "\n",
    "\n",
    "    if color_parameter is None:\n",
    "        color_parameter = 'a'\n",
    "\n",
    "    if color_parameter in ['a']:\n",
    "        color_data = {abbr : np.repeat(self.fit_data[abbr]['aw0'][0]/self.w0, self.bs_N).ravel() for abbr in self.abbrs}\n",
    "    elif color_parameter in ['L']:\n",
    "        color_data = {abbr : np.repeat(gv.mean(self.fit_data[abbr][color_parameter]), self.bs_N).ravel() for abbr in self.abbrs}\n",
    "    elif color_parameter == 'V':\n",
    "        color_data = {abbr : gv.mean(self.fit_data[abbr][color_parameter]).ravel() for abbr in self.abbrs}\n",
    "    else:\n",
    "        color_data = {abbr : gv.mean(self.fit_data[abbr][color_parameter]).ravel() for abbr in self.abbrs}\n",
    "\n",
    "    # Color by lattice spacing/length\n",
    "    cmap = matplotlib.cm.get_cmap('rainbow')\n",
    "    min_max = lambda x : [np.min(x), np.max(x)]\n",
    "    minimum, maximum = min_max(np.concatenate([color_data[abbr] for abbr in self.abbrs]))\n",
    "    norm = matplotlib.colors.Normalize(vmin=minimum, vmax=maximum)\n",
    "\n",
    "    # Get scatter plot & color data\n",
    "    x = np.zeros(self.bs_N * len(self.abbrs))\n",
    "    y = np.zeros(self.bs_N * len(self.abbrs))\n",
    "    z = np.zeros(self.bs_N * len(self.abbrs))\n",
    "    for j, abbr in enumerate(self.abbrs):\n",
    "        x[j*self.bs_N:(j+1)*self.bs_N] = gv.mean(plot_data[0][abbr])\n",
    "        y[j*self.bs_N:(j+1)*self.bs_N] = gv.mean(plot_data[1][abbr])\n",
    "        z[j*self.bs_N:(j+1)*self.bs_N] = color_data[abbr]\n",
    "\n",
    "    sc = plt.scatter(x, y, c=z, vmin=minimum, vmax=maximum,\n",
    "                     cmap=cmap, rasterized=True, marker=\".\", alpha=100.0/self.bs_N)\n",
    "\n",
    "    if (show_fit) and (xy_parameters[1] in ['FK/Fpi', 'FK / Fpi']):\n",
    "        hbar_c = 197.327# used to convert to phys units\n",
    "        \n",
    "        #print xfcn(self.get_phys_point_data(xy_parameters[0])/hbar_c)\n",
    "        #plt.axvline(gv.mean(xfcn(self.get_phys_point_data(xy_parameters[0])/hbar_c)))\n",
    "        \n",
    "        colors = ['purple', 'green', 'red']\n",
    "        for j, a in enumerate([0.09, 0.12, 0.15]):\n",
    "            minimum = np.nanmin([np.nanmin(self.fit_data[abbr][xy_parameters[0]]) for abbr in self.fit_data.keys()])\n",
    "            maximum = np.nanmax([np.nanmax(self.fit_data[abbr][xy_parameters[0]]) for abbr in self.fit_data.keys()])\n",
    "            delta = maximum - minimum\n",
    "\n",
    "            #x = np.linspace(np.max((minimum - 0.05*delta, 0)), maximum + 0.05*delta)\n",
    "            x = np.linspace(0.0001, maximum + 0.05*delta)\n",
    "\n",
    "            \n",
    "            prepped_data = self.get_phys_point_data()\n",
    "            prepped_data[xy_parameters[0]] = x * hbar_c / a\n",
    "            prepped_data['aw0'] = a*self.w0\n",
    "\n",
    "            y = self.fk_fpi_fit_fcn(fit_data=prepped_data)\n",
    "\n",
    "            pm = lambda g, k : gv.mean(g) + k*gv.sdev(g)\n",
    "            plt.plot(xfcn(x), pm(y, 0), '--', color=colors[j], label='$a=$%s (fm)'%(str(a)))\n",
    "            plt.fill_between(xfcn(x), pm(y, -1), pm(y, 1), alpha=0.20, color=colors[j])\n",
    "            #plt.plot(xfcn(x), pm(y, -1), xfcn(x), pm(y, 1))\n",
    "            #plt.plot(x, pm(y, 0), '--', color=color, label='$a=$'+a)\n",
    "            #plt.plot(x, pm(y, -1), x, pm(y, 1), color=color)\n",
    "            \n",
    "        plt.legend()\n",
    "    \n",
    "    # Plot labels\n",
    "    plt.grid()\n",
    "    plt.xlabel(xlabel, fontsize = 24)\n",
    "    plt.ylabel(ylabel, fontsize = 24)\n",
    "\n",
    "    # Format colorbar\n",
    "    color_bar = plt.colorbar(sc)\n",
    "    color_bar.set_alpha(0.8)\n",
    "    color_bar.draw_all()\n",
    "    color_bar.set_label(self._fmt_key_as_latex(color_parameter), fontsize = 24)\n",
    "\n",
    "    # Set xlim, ylim -- only works if xy_parameters[i] is a vector, not a scalar\n",
    "\n",
    "    min_max = lambda x : [np.min(x), np.max(x)]\n",
    "    try:\n",
    "        xmin, xmax = min_max(np.concatenate([gv.mean(plot_data[0][abbr]) for abbr in self.abbrs]))\n",
    "        ymin, ymax = min_max(np.concatenate([gv.mean(plot_data[1][abbr]) for abbr in self.abbrs]))\n",
    "        xdelta = xmax - xmin\n",
    "        ydelta = ymax - ymin\n",
    "        plt.xlim(0, xmax+0.05*xdelta) #xmin-0.05*xdelta\n",
    "        plt.ylim(ymin-0.05*ydelta, ymax+0.05*ydelta)\n",
    "    except ValueError:\n",
    "        pass\n",
    "\n",
    "    fig = plt.gcf()\n",
    "    plt.close()\n",
    "    return fig\n",
    "\n",
    "squared = lambda x : x**2\n",
    "#plot_parameters(bootstrapper, xy_parameters=['mpi', 'FK/Fpi'], xfcn=squared, xlabel='$m_\\pi^2$', color_parameter='a')\n",
    "#plot_parameters(bootstrapper, xy_parameters=['FK', 'FK/Fpi'], color_parameter='a')"
   ]
  },
  {
   "cell_type": "code",
   "execution_count": null,
   "metadata": {
    "collapsed": true
   },
   "outputs": [],
   "source": []
  }
 ],
 "metadata": {
  "kernelspec": {
   "display_name": "Python 2",
   "language": "python",
   "name": "python2"
  },
  "language_info": {
   "codemirror_mode": {
    "name": "ipython",
    "version": 2
   },
   "file_extension": ".py",
   "mimetype": "text/x-python",
   "name": "python",
   "nbconvert_exporter": "python",
   "pygments_lexer": "ipython2",
   "version": "2.7.14"
  }
 },
 "nbformat": 4,
 "nbformat_minor": 2
}
