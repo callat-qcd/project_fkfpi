{
 "cells": [
  {
   "cell_type": "markdown",
   "metadata": {},
   "source": [
    "### Import Modules"
   ]
  },
  {
   "cell_type": "code",
   "execution_count": 203,
   "metadata": {},
   "outputs": [],
   "source": [
    "import numpy as np\n",
    "import gvar as gv\n",
    "import lsqfit\n",
    "import sys\n",
    "import os\n",
    "import matplotlib\n",
    "import matplotlib.pyplot as plt\n",
    "import pandas as pd\n",
    "import h5py\n",
    "import time\n",
    "\n",
    "\n",
    "sys.path.append(\"../\")\n",
    "import fitter.data_loader as dl\n",
    "import fitter.fit_manager as fm\n",
    "import fitter.fitter as fit\n",
    "import fitter.special_functions as sf\n",
    "\n",
    "for j in range(10): # Sometimes this needs to be loaded twice...\n",
    "    matplotlib.rcParams['figure.figsize'] = [10, 10]"
   ]
  },
  {
   "cell_type": "code",
   "execution_count": 204,
   "metadata": {},
   "outputs": [
    {
     "data": {
      "text/plain": [
       "<module 'fitter.fit_manager' from '../fitter/fit_manager.py'>"
      ]
     },
     "execution_count": 204,
     "metadata": {},
     "output_type": "execute_result"
    }
   ],
   "source": [
    "from importlib import reload\n",
    "reload(dl)\n",
    "reload(sf)\n",
    "reload(fit)\n",
    "reload(fm)"
   ]
  },
  {
   "cell_type": "markdown",
   "metadata": {},
   "source": [
    "### Specify fit parameters"
   ]
  },
  {
   "cell_type": "code",
   "execution_count": 208,
   "metadata": {},
   "outputs": [],
   "source": [
    "p_dict = {\n",
    "    'order' : {\n",
    "        'fit' : 'nnnlo', # 'nlo', 'nnlo', 'nnnlo'\n",
    "        'vol' : 0, # max 10\n",
    "        'exclude' : [], # put LECs here\n",
    "        \n",
    "        # semi-nnlo corrections\n",
    "        'include_alpha_s' : False,\n",
    "        'include_log' : False, \n",
    "        'include_log2' : False,\n",
    "        'include_sunset' : False,\n",
    "        \n",
    "        # nnnlo corrections\n",
    "        'include_latt_n3lo' : False,\n",
    "    }, \n",
    "    'fit_type' : 'poly', #'ma', 'ma-ratio', 'xpt', 'xpt-ratio', or 'poly'; experimental: 'simultaneous', 'ma-old'\n",
    "    'F2' : 'FpiFpi', #'FKFpi', 'FpiFpi', 'FKFK', 'F0F0' (HPQCD choice)\n",
    "    'use_bijnens_central_value' : True,\n",
    "    \n",
    "    'use_prior' : False,\n",
    "    'bias_correct' : True,\n",
    "    #'include_su2_isospin_corrrection' : False,\n",
    "    'abbrs' : [u'a06m310L', u'a09m220', u'a09m310', u'a09m350', u'a09m400', u'a12m130',\n",
    "           u'a12m220',  u'a12m220S', u'a12m220L', u'a12m310', u'a12m350',\n",
    "           u'a12m400',  u'a15m135XL', u'a15m220', u'a15m310', u'a15m350', 'a15m400'], # u'a15m130'\n",
    "    \n",
    "    'make_plots' : False,\n",
    "    'show_error_ellipses' : False,\n",
    "    \n",
    "    'save_results' : False,\n",
    "    'save_pickles' : False,\n",
    "    'output_name' : 'fit_results',\n",
    "}"
   ]
  },
  {
   "cell_type": "code",
   "execution_count": null,
   "metadata": {},
   "outputs": [],
   "source": []
  },
  {
   "cell_type": "code",
   "execution_count": 209,
   "metadata": {
    "scrolled": false
   },
   "outputs": [
    {
     "name": "stdout",
     "output_type": "stream",
     "text": [
      "Using default prior.\n",
      "Making fit...\n",
      "Done!\n",
      "Time (s):  0.40510082244873047\n",
      "\n",
      "Model: poly_FpiFpi_nnnlo_bijnens\n",
      "\n",
      "Fitted/[FLAG] values at physical point:\n",
      "\tF_K / F_pi = 0.896(55) [1.1907(21)]\t(delta_su2 = 0.0042(17))\n",
      "\n",
      "Parameters:\n",
      "            A_x      -0.71 (94)      [     0.0 (1.0) ]  \n",
      "            A_k      -1.4 (8.8)      [        0 (10) ]  \n",
      "            A_p       7.4 (8.6)      [        0 (10) ]  \n",
      "            A_a         94 (19)      [       0 (100) ]  \n",
      "           A_aa     -1259 (143)      [      0 (1000) ]  *\n",
      "           A_ak         53 (98)      [       0 (100) ]  \n",
      "           A_ap       -296 (51)      [       0 (100) ]  **\n",
      "           A_kk        166 (48)      [       0 (100) ]  *\n",
      "           A_kp        244 (55)      [       0 (100) ]  **\n",
      "           A_pp        280 (38)      [       0 (100) ]  **\n",
      "\n",
      "Least Square Fit:\n",
      "  chi2/dof [dof] = 9.2 [17]    Q = 9.6e-25    logGBF = -35.143\n",
      "\n",
      "Settings:\n",
      "  svdcut/n = 1e-12/0    tol = (1e-08*,1e-10,1e-10)    (itns/time = 21/0.4)\n",
      "\n",
      "Error Budget (relative error):\n",
      "\tdisc: 0.00648\tchiral: 0.0268\tpp_input: 0.0407\tstat: 0.0375\n",
      "\n",
      "Total time (s):  1.2674000263214111 \n",
      "\n"
     ]
    }
   ],
   "source": [
    "t0 = time.time()\n",
    "\n",
    "# Load data\n",
    "data_loader = dl.data_loader()\n",
    "fit_data = data_loader.get_fit_data()\n",
    "phys_point_data = data_loader.get_phys_point_data()\n",
    "\n",
    "# Get prior\n",
    "prior = None\n",
    "if p_dict['use_prior']:\n",
    "    prior = data_loader.get_prior(fit_type=p_dict['fit_type'], order=p_dict['order']['fit'], F2=p_dict['F2'], \n",
    "                  include_log=p_dict['order']['include_log'], include_log2=p_dict['order']['include_log2'], \n",
    "                  include_sunset=p_dict['order']['include_sunset'], include_alpha_s=p_dict['order']['include_alpha_s'], \n",
    "                  include_latt_n3lo=p_dict['order']['include_latt_n3lo'], include_FV=(p_dict['order']['vol'] > 6), \n",
    "                  use_bijnens_central_value=p_dict['use_bijnens_central_value']\n",
    "             )\n",
    "    \n",
    "# Make fit\n",
    "fit_manager = fm.fit_manager(fit_data, phys_point_data, prior=prior, **p_dict)\n",
    "\n",
    "if p_dict['make_plots']:\n",
    "    data_loader.save_plots(\n",
    "        fm.fit_manager.make_plots(\n",
    "            show_error_ellipses=p_dict['show_error_ellipses'], \n",
    "            show_bootstrap_histograms=p_dict['show_bs_histograms']),\n",
    "        output_filename='fits/'+fit_manager.fit_type+'_'+fit_manager.order['fit']\n",
    "    )\n",
    "else:\n",
    "    print(fit_manager)\n",
    "    \n",
    "if p_dict['save_results']:\n",
    "    data_loader.save_fit_info(fit_manager.fit_info,\n",
    "                              output_name=p_dict['output_name'], save_pickles=p_dict['save_pickles'])\n",
    "\n",
    "    \n",
    "    \n",
    "t1 = time.time()\n",
    "\n",
    "print(\"\\nTotal time (s): \", t1 - t0, \"\\n\")"
   ]
  },
  {
   "cell_type": "code",
   "execution_count": 214,
   "metadata": {},
   "outputs": [
    {
     "data": {
      "text/plain": [
       "OrderedDict([('FLAG',\n",
       "              {'posterior': {},\n",
       "               'error_budget': {},\n",
       "               'name': 'FLAG',\n",
       "               'FK/Fpi_pm': '1.1932(19)'})])"
      ]
     },
     "execution_count": 214,
     "metadata": {},
     "output_type": "execute_result"
    }
   ],
   "source": [
    "data_loader.get_fit_results('other_collabs')"
   ]
  },
  {
   "cell_type": "code",
   "execution_count": 210,
   "metadata": {},
   "outputs": [
    {
     "name": "stdout",
     "output_type": "stream",
     "text": [
      "Saving...\n",
      "{'name': array(['poly_FpiFpi_nnlo_bijnens', 'poly_FpiFpi_nnnlo_bijnens'],\n",
      "      dtype=object), 'FK/Fpi': array(['1.290(46)', 0.896(55)], dtype=object), 'delta_su2': array(['-0.0069(15)', 0.0042(17)], dtype=object), 'logGBF': array([-229.55757344607872, -35.143459258493934], dtype=object), 'chi2/df': array([32.83697724227291, 9.245049922859796], dtype=object), 'Q': array([9.775841134451409e-108, 9.606711303372008e-25], dtype=object), 'vol': array([0, 0], dtype=object), 'po:A_x': array(['-5.86(73)', -0.71(94)], dtype=object), 'po:L_4': array([nan, nan], dtype=object), 'po:L_5': array([nan, nan], dtype=object), 'po:L_1': array([nan, nan], dtype=object), 'po:L_2': array([nan, nan], dtype=object), 'po:L_3': array([nan, nan], dtype=object), 'po:L_6': array([nan, nan], dtype=object), 'po:L_7': array([nan, nan], dtype=object), 'po:L_8': array([nan, nan], dtype=object), 'po:L_9': array([nan, nan], dtype=object), 'po:A_a': array(['-18.8(1.4)', 94(19)], dtype=object), 'po:A_k': array(['69.2(4.2)', -1.4(8.8)], dtype=object), 'po:A_p': array(['63.95(78)', 7.4(8.6)], dtype=object), 'po:A_loga': array([nan, nan], dtype=object), 'po:A_aa': array([nan, -1259(143)], dtype=object), 'po:A_ak': array([nan, 53(98)], dtype=object), 'po:A_ap': array([nan, -296(51)], dtype=object), 'po:A_kk': array([nan, 166(48)], dtype=object), 'po:A_kp': array([nan, 244(55)], dtype=object), 'po:A_pp': array([nan, 280(38)], dtype=object), 'eb:disc': array([0.00016054951094831527, 0.005806157075131084], dtype=object), 'eb:chiral': array([0.004515797754313078, 0.02401044357312078], dtype=object), 'eb:pp_input': array([0.04407386003012728, 0.03649215323344931], dtype=object), 'eb:stat': array([0.01229205429038834, 0.033557539215212255], dtype=object)}\n",
      "Done.\n"
     ]
    }
   ],
   "source": [
    "data_loader.save_fit_info(fit_manager.fit_info, output_name='test', save_pickles=False)"
   ]
  },
  {
   "cell_type": "code",
   "execution_count": null,
   "metadata": {},
   "outputs": [],
   "source": []
  },
  {
   "cell_type": "code",
   "execution_count": 112,
   "metadata": {},
   "outputs": [
    {
     "data": {
      "text/plain": [
       "{'poly_FpiFpi_nnnlo_bijnens': {'name': 'poly_FpiFpi_nnnlo_bijnens',\n",
       "  'FK/Fpi': 0.896(55),\n",
       "  'delta_su2': 0.0042(17),\n",
       "  'logGBF': -35.143459258493934,\n",
       "  'chi2/df': 9.245049922859796,\n",
       "  'Q': 9.606711303372008e-25,\n",
       "  'prior': {'A_a': 0(100),\n",
       "   'A_aa': 0(1000),\n",
       "   'A_ak': 0(100),\n",
       "   'A_ap': 0(100),\n",
       "   'A_k': 0(10),\n",
       "   'A_kk': 0(100),\n",
       "   'A_kp': 0(100),\n",
       "   'A_p': 0(10),\n",
       "   'A_pp': 0(100),\n",
       "   'A_x': 0.0(1.0)},\n",
       "  'posterior': {'A_a': 94(19),\n",
       "   'A_aa': -1259(143),\n",
       "   'A_ak': 53(98),\n",
       "   'A_ap': -296(51),\n",
       "   'A_k': -1.4(8.8),\n",
       "   'A_kk': 166(48),\n",
       "   'A_kp': 244(55),\n",
       "   'A_p': 7.4(8.6),\n",
       "   'A_pp': 280(38),\n",
       "   'A_x': -0.71(94)},\n",
       "  'phys_point': {'a/w0': 0(0),\n",
       "   'a': 0(0),\n",
       "   'L': inf(0),\n",
       "   'alpha_s': 0(0),\n",
       "   'mpi': 134.80(30),\n",
       "   'mk': 494.20(30),\n",
       "   'mss': 685.78(44),\n",
       "   'a2DI': 0(0),\n",
       "   'Fpi': 92.07(57),\n",
       "   'FK': 109.96(49),\n",
       "   'w0': 0.175(10),\n",
       "   'FK/Fpi_pm': 1.1932(19),\n",
       "   'mju': 134.80(30),\n",
       "   'mru': 494.20(30),\n",
       "   'mjs': 494.20(30),\n",
       "   'mrs': 685.78(44),\n",
       "   'lam2_chi_kpi': 1.599(12)e+06,\n",
       "   'lam2_chi_pipi': 1.338(16)e+06,\n",
       "   'lam2_chi_kk': 1.909(17)e+06,\n",
       "   'lam2_chi_00': 1.3653(21)e+06,\n",
       "   'lam2_chi': 1.338(16)e+06},\n",
       "  'error_budget': {'disc': 0.005806157075131084,\n",
       "   'chiral': 0.02401044357312078,\n",
       "   'pp_input': 0.03649215323344931,\n",
       "   'stat': 0.033557539215212255}}}"
      ]
     },
     "execution_count": 112,
     "metadata": {},
     "output_type": "execute_result"
    }
   ],
   "source": [
    "temp = data_loader.get_fit_results('test')\n",
    "temp"
   ]
  },
  {
   "cell_type": "code",
   "execution_count": null,
   "metadata": {},
   "outputs": [],
   "source": [
    "['']"
   ]
  },
  {
   "cell_type": "code",
   "execution_count": 50,
   "metadata": {
    "scrolled": false
   },
   "outputs": [
    {
     "data": {
      "text/plain": [
       "OrderedDict([('poly_FpiFpi_nnnlo_bijnens',\n",
       "              {'posterior': {'A_c': nan,\n",
       "                'L_4': nan,\n",
       "                'L_5': nan,\n",
       "                'L_1': nan,\n",
       "                'L_2': nan,\n",
       "                'L_3': nan,\n",
       "                'L_6': nan,\n",
       "                'L_7': nan,\n",
       "                'L_8': nan,\n",
       "                'L_9': nan,\n",
       "                'A_a': '94(19)',\n",
       "                'A_k': '-1.4(8.8)',\n",
       "                'A_p': '7.4(8.6)',\n",
       "                'A_loga': nan,\n",
       "                'A_aa': '-1259(143)',\n",
       "                'A_ak': '53(98)',\n",
       "                'A_ap': '-296(51)',\n",
       "                'A_kk': '166(48)',\n",
       "                'A_kp': '244(55)',\n",
       "                'A_pp': '280(38)'},\n",
       "               'FK/Fpi': '0.896(55)',\n",
       "               'delta_su2': '0.0042(17)',\n",
       "               'logGBF': -35.14345925849393,\n",
       "               'chi2/df': 9.245049922859796,\n",
       "               'Q': 9.606711303372006e-25,\n",
       "               'vol': 0,\n",
       "               'A_aa.1': '-1259(143)'})])"
      ]
     },
     "execution_count": 50,
     "metadata": {},
     "output_type": "execute_result"
    }
   ],
   "source": [
    "temp = data_loader.get_fit_results('test')\n",
    "temp"
   ]
  },
  {
   "cell_type": "code",
   "execution_count": 13,
   "metadata": {},
   "outputs": [
    {
     "data": {
      "text/plain": [
       "{'name': 'poly_FpiFpi_nnnlo_bijnens',\n",
       " 'FK/Fpi': 0.896(55),\n",
       " 'delta_su2': 0.0042(17),\n",
       " 'logGBF': -35.143459258493934,\n",
       " 'chi2/df': 9.245049922859796,\n",
       " 'Q': 9.606711303372008e-25,\n",
       " 'vol': 0,\n",
       " 'phys_point': {'a/w0': 0(0),\n",
       "  'a': 0(0),\n",
       "  'L': inf(0),\n",
       "  'alpha_s': 0(0),\n",
       "  'mpi': 134.80(30),\n",
       "  'mk': 494.20(30),\n",
       "  'mss': 685.78(44),\n",
       "  'a2DI': 0(0),\n",
       "  'Fpi': 92.07(57),\n",
       "  'FK': 109.96(49),\n",
       "  'w0': 0.175(10),\n",
       "  'FK/Fpi_pm': 1.1932(19),\n",
       "  'mju': 134.80(30),\n",
       "  'mru': 494.20(30),\n",
       "  'mjs': 494.20(30),\n",
       "  'mrs': 685.78(44),\n",
       "  'lam2_chi_kpi': 1.599(12)e+06,\n",
       "  'lam2_chi_pipi': 1.338(16)e+06,\n",
       "  'lam2_chi_kk': 1.909(17)e+06,\n",
       "  'lam2_chi_00': 1.3653(21)e+06,\n",
       "  'lam2_chi': 1.338(16)e+06},\n",
       " 'error_budget': {'disc': 0.005806157075131084,\n",
       "  'chiral': 0.02401044357312078,\n",
       "  'pp_input': 0.03649215323344931,\n",
       "  'stat': 0.033557539215212255},\n",
       " 'prior': {'A_a': 0(100),\n",
       "  'A_aa': 0(1000),\n",
       "  'A_ak': 0(100),\n",
       "  'A_ap': 0(100),\n",
       "  'A_c': 0.0(1.0),\n",
       "  'A_k': 0(10),\n",
       "  'A_kk': 0(100),\n",
       "  'A_kp': 0(100),\n",
       "  'A_p': 0(10),\n",
       "  'A_pp': 0(100)},\n",
       " 'posterior': {'A_a': 94(19),\n",
       "  'A_aa': -1259(143),\n",
       "  'A_ak': 53(98),\n",
       "  'A_ap': -296(51),\n",
       "  'A_c': -0.71(94),\n",
       "  'A_k': -1.4(8.8),\n",
       "  'A_kk': 166(48),\n",
       "  'A_kp': 244(55),\n",
       "  'A_p': 7.4(8.6),\n",
       "  'A_pp': 280(38)}}"
      ]
     },
     "execution_count": 13,
     "metadata": {},
     "output_type": "execute_result"
    }
   ],
   "source": [
    "import yaml\n",
    "def test(fit_info):\n",
    "    output = {}\n",
    "    output['name'] = fit_info\n",
    "    \n",
    "test(fit_manager.fit_info)"
   ]
  },
  {
   "cell_type": "code",
   "execution_count": 12,
   "metadata": {},
   "outputs": [
    {
     "data": {
      "text/plain": [
       "{'name': 'poly_FpiFpi_nnnlo_bijnens',\n",
       " 'FK/Fpi': 0.896(55),\n",
       " 'delta_su2': 0.0042(17),\n",
       " 'logGBF': -35.143459258493934,\n",
       " 'chi2/df': 9.245049922859796,\n",
       " 'Q': 9.606711303372008e-25,\n",
       " 'vol': 0,\n",
       " 'phys_point': {'a/w0': 0(0),\n",
       "  'a': 0(0),\n",
       "  'L': inf(0),\n",
       "  'alpha_s': 0(0),\n",
       "  'mpi': 134.80(30),\n",
       "  'mk': 494.20(30),\n",
       "  'mss': 685.78(44),\n",
       "  'a2DI': 0(0),\n",
       "  'Fpi': 92.07(57),\n",
       "  'FK': 109.96(49),\n",
       "  'w0': 0.175(10),\n",
       "  'FK/Fpi_pm': 1.1932(19),\n",
       "  'mju': 134.80(30),\n",
       "  'mru': 494.20(30),\n",
       "  'mjs': 494.20(30),\n",
       "  'mrs': 685.78(44),\n",
       "  'lam2_chi_kpi': 1.599(12)e+06,\n",
       "  'lam2_chi_pipi': 1.338(16)e+06,\n",
       "  'lam2_chi_kk': 1.909(17)e+06,\n",
       "  'lam2_chi_00': 1.3653(21)e+06,\n",
       "  'lam2_chi': 1.338(16)e+06},\n",
       " 'error_budget': {'disc': 0.005806157075131084,\n",
       "  'chiral': 0.02401044357312078,\n",
       "  'pp_input': 0.03649215323344931,\n",
       "  'stat': 0.033557539215212255},\n",
       " 'prior': {'A_a': 0(100),\n",
       "  'A_aa': 0(1000),\n",
       "  'A_ak': 0(100),\n",
       "  'A_ap': 0(100),\n",
       "  'A_c': 0.0(1.0),\n",
       "  'A_k': 0(10),\n",
       "  'A_kk': 0(100),\n",
       "  'A_kp': 0(100),\n",
       "  'A_p': 0(10),\n",
       "  'A_pp': 0(100)},\n",
       " 'posterior': {'A_a': 94(19),\n",
       "  'A_aa': -1259(143),\n",
       "  'A_ak': 53(98),\n",
       "  'A_ap': -296(51),\n",
       "  'A_c': -0.71(94),\n",
       "  'A_k': -1.4(8.8),\n",
       "  'A_kk': 166(48),\n",
       "  'A_kp': 244(55),\n",
       "  'A_p': 7.4(8.6),\n",
       "  'A_pp': 280(38)}}"
      ]
     },
     "execution_count": 12,
     "metadata": {},
     "output_type": "execute_result"
    }
   ],
   "source": [
    "import yaml\n",
    "\n",
    "with open('tmp.yaml', 'w') as file:\n",
    "    yaml.dump(fit_manager.fit_info, file)\n",
    "fit_manager.fit_info"
   ]
  },
  {
   "cell_type": "code",
   "execution_count": 18,
   "metadata": {
    "scrolled": false
   },
   "outputs": [
    {
     "name": "stdout",
     "output_type": "stream",
     "text": [
      "Partial Errors:\n",
      "                  FK/Fpi\n",
      "------------------------\n",
      "          A_c:   0.00001\n",
      "     phys:mpi:   0.00050\n",
      "      phys:mk:   0.00185\n",
      "phys:lam2_chi:   0.01729\n",
      "         stat:   0.00098\n",
      "------------------------\n",
      "        total:   0.01742\n",
      "\n"
     ]
    }
   ],
   "source": [
    "print(fit_manager.fmt_error_budget())"
   ]
  },
  {
   "cell_type": "code",
   "execution_count": null,
   "metadata": {},
   "outputs": [],
   "source": []
  },
  {
   "cell_type": "code",
   "execution_count": 34,
   "metadata": {},
   "outputs": [
    {
     "ename": "NameError",
     "evalue": "name 'bootstrapper' is not defined",
     "output_type": "error",
     "traceback": [
      "\u001b[0;31m---------------------------------------------------------------------------\u001b[0m",
      "\u001b[0;31mNameError\u001b[0m                                 Traceback (most recent call last)",
      "\u001b[0;32m<ipython-input-34-f60586c39680>\u001b[0m in \u001b[0;36m<module>\u001b[0;34m\u001b[0m\n\u001b[1;32m     24\u001b[0m \u001b[0;34m\u001b[0m\u001b[0m\n\u001b[1;32m     25\u001b[0m \u001b[0;34m\u001b[0m\u001b[0m\n\u001b[0;32m---> 26\u001b[0;31m \u001b[0mbootstrapper\u001b[0m\u001b[0;34m.\u001b[0m\u001b[0mfk_fpi_fit_fcn\u001b[0m\u001b[0;34m(\u001b[0m\u001b[0mfit_data\u001b[0m\u001b[0;34m=\u001b[0m\u001b[0mfit_data\u001b[0m\u001b[0;34m,\u001b[0m \u001b[0mfit_parameters\u001b[0m\u001b[0;34m=\u001b[0m\u001b[0mfit_parameters\u001b[0m\u001b[0;34m,\u001b[0m \u001b[0mdebug\u001b[0m\u001b[0;34m=\u001b[0m\u001b[0;32mTrue\u001b[0m\u001b[0;34m)\u001b[0m\u001b[0;34m\u001b[0m\u001b[0;34m\u001b[0m\u001b[0m\n\u001b[0m",
      "\u001b[0;31mNameError\u001b[0m: name 'bootstrapper' is not defined"
     ]
    }
   ],
   "source": [
    "fit_data = {\n",
    "    'mpi' : 135.,\n",
    "    'mk' : 495.5,\n",
    "    'Fpi' : 92.2,\n",
    "    'FK' : 110.5,\n",
    "    'L' : np.inf, \n",
    "    'a/w0' : 0,\n",
    "}\n",
    "fit_data['lam2_chi'] = (4 *np.pi *fit_data['Fpi'])**2\n",
    "\n",
    "fit_parameters = {\n",
    "    'L_1' : 0.000372,\n",
    "    'L_2' : 0.000493,\n",
    "    'L_3' : -0.003070,\n",
    "    'L_4' : 0.000089,\n",
    "    'L_5' : 0.000377,\n",
    "    'L_6' : 0.000011,\n",
    "    'L_7' : -0.000340,\n",
    "    'L_8' : 0.000294,\n",
    "    'A_a' : 0.1,\n",
    "    'A_k' : -3.000000,\n",
    "    'A_p' : 4.000000\n",
    "}\n",
    "\n",
    "\n",
    "fit_manager.fk_fpi_fit_fcn(fit_data=fit_data, fit_parameters=fit_parameters, debug=True)"
   ]
  },
  {
   "cell_type": "code",
   "execution_count": null,
   "metadata": {
    "collapsed": true
   },
   "outputs": [],
   "source": []
  }
 ],
 "metadata": {
  "kernelspec": {
   "display_name": "Python 3",
   "language": "python",
   "name": "python3"
  },
  "language_info": {
   "codemirror_mode": {
    "name": "ipython",
    "version": 3
   },
   "file_extension": ".py",
   "mimetype": "text/x-python",
   "name": "python",
   "nbconvert_exporter": "python",
   "pygments_lexer": "ipython3",
   "version": "3.8.1"
  }
 },
 "nbformat": 4,
 "nbformat_minor": 2
}
