{
 "cells": [
  {
   "cell_type": "markdown",
   "metadata": {},
   "source": [
    "### Import Modules"
   ]
  },
  {
   "cell_type": "code",
   "execution_count": 33,
   "metadata": {},
   "outputs": [],
   "source": [
    "import numpy as np\n",
    "import gvar as gv\n",
    "import lsqfit\n",
    "import sys\n",
    "import os\n",
    "import matplotlib\n",
    "import matplotlib.pyplot as plt\n",
    "import pandas as pd\n",
    "import h5py\n",
    "import time\n",
    "\n",
    "\n",
    "sys.path.append(\"../\")\n",
    "import fitter.data_loader as dl\n",
    "import fitter.fit_manager as fm\n",
    "import fitter.fitter as fit\n",
    "import fitter.special_functions as sf\n",
    "\n",
    "for j in range(10): # Sometimes this needs to be loaded twice...\n",
    "    matplotlib.rcParams['figure.figsize'] = [10, 10]"
   ]
  },
  {
   "cell_type": "code",
   "execution_count": 43,
   "metadata": {},
   "outputs": [
    {
     "data": {
      "text/plain": [
       "<module 'fitter.fit_manager' from '../fitter/fit_manager.py'>"
      ]
     },
     "execution_count": 43,
     "metadata": {},
     "output_type": "execute_result"
    }
   ],
   "source": [
    "from importlib import reload\n",
    "reload(dl)\n",
    "reload(sf)\n",
    "reload(fit)\n",
    "reload(fm)"
   ]
  },
  {
   "cell_type": "markdown",
   "metadata": {},
   "source": [
    "### Specify fit parameters"
   ]
  },
  {
   "cell_type": "code",
   "execution_count": 44,
   "metadata": {},
   "outputs": [],
   "source": [
    "p_dict = {\n",
    "    'collection_name' : 'test', \n",
    "    \n",
    "    'model_info' : {\n",
    "        'fit_type' : 'xpt',\n",
    "        'order' : 'nnlo', # 'nlo', 'nnlo', 'nnnlo'\n",
    "        'F2' : 'FpiFpi', #'FKFpi', 'FpiFpi', 'FKFK', 'F0F0' (HPQCD choice)\n",
    "\n",
    "        'include_FV' : True, # max 10\n",
    "        'exclude' : [], # put LECs here\n",
    "        'use_bijnens_central_value' : False,\n",
    "        \n",
    "        # semi-nnlo corrections\n",
    "        'include_alpha_s' : False,\n",
    "        'include_log' : False, \n",
    "        'include_log2' : False,\n",
    "        'include_sunset' : False,\n",
    "        \n",
    "        # nnnlo corrections\n",
    "        'include_latt_n3lo' : True,\n",
    "        'include_latt_n4lo' : True,\n",
    "    }, \n",
    "     #'ma', 'ma-ratio', 'xpt', 'xpt-ratio', or 'poly'; experimental: 'simultaneous', 'ma-old'\n",
    "\n",
    "    'fast_susnet' : False,\n",
    "    'use_prior' : False,\n",
    "    'bias_correct' : True,\n",
    "    #'include_su2_isospin_corrrection' : False,\n",
    "    'abbrs' : [u'a06m310L', u'a09m220', u'a09m310', u'a09m350', u'a09m400', u'a12m130',\n",
    "           u'a12m220',  u'a12m220S', u'a12m220L', u'a12m310', u'a12m350',\n",
    "           u'a12m400',  u'a15m135XL', u'a15m220', u'a15m310', u'a15m350', 'a15m400'], # u'a15m130'\n",
    "    \n",
    "    'make_plots' : False,\n",
    "    'show_error_ellipses' : True,\n",
    "    \n",
    "    'save_results' : False,\n",
    "    'save_pickles' : True,\n",
    "    'output_name' : 'fit_results',\n",
    "}"
   ]
  },
  {
   "cell_type": "code",
   "execution_count": 45,
   "metadata": {
    "scrolled": false
   },
   "outputs": [
    {
     "name": "stdout",
     "output_type": "stream",
     "text": [
      "Using default prior.\n",
      "Making fit...\n",
      "False\n",
      "{'mjs': array([0.1619(11), 0.23041(55), 0.24277(50), 0.24979(51), 0.25812(59),\n",
      "       0.3080(15), 0.3185(12), 0.3185(12), 0.3185(12), 0.3344(10),\n",
      "       0.34452(72), 0.35614(82), 0.4057(56), 0.4117(17), 0.4349(16),\n",
      "       0.4462(14), 0.4591(24)], dtype=object),'mju': array([0.09564(82), 0.10927(86), 0.14838(64), 0.16544(56), 0.18782(47),\n",
      "       0.1492(20), 0.1772(14), 0.1772(14), 0.1772(14), 0.21883(89),\n",
      "       0.23038(81), 0.26784(64), 0.232(13), 0.2566(27), 0.3059(17),\n",
      "       0.3307(23), 0.3598(17)], dtype=object),'mk': array([0.162048(73), 0.228707(91), 0.24107(14), 0.24696(12), 0.25524(13),\n",
      "       0.30215(11), 0.31002(17), 0.31023(19), 0.31044(22), 0.32414(21),\n",
      "       0.33306(16), 0.34341(14), 0.38756(14), 0.38691(21), 0.40458(25),\n",
      "       0.41370(28), 0.42723(27)], dtype=object),'mpi': array([0.094560(58), 0.097903(63), 0.14072(12), 0.15787(20), 0.18116(15),\n",
      "       0.08128(16), 0.13430(17), 0.13403(15), 0.13562(32), 0.18871(17),\n",
      "       0.21397(20), 0.24347(16), 0.102931(69), 0.16533(19), 0.23602(29),\n",
      "       0.26474(30), 0.30282(31)], dtype=object),'mrs': array([0.2106(10), 0.31215(34), 0.31519(35), 0.31590(43), 0.31628(50),\n",
      "       0.42741(81), 0.4289(10), 0.4289(10), 0.4289(10), 0.43065(52),\n",
      "       0.43241(51), 0.43366(61), 0.5561(31), 0.54247(76), 0.5498(12),\n",
      "       0.5527(10), 0.5538(11)], dtype=object),'mru': array([0.1621(12), 0.23346(66), 0.2470(10), 0.25257(60), 0.26075(55),\n",
      "       0.3243(26), 0.3320(17), 0.3320(17), 0.3320(17), 0.34392(94),\n",
      "       0.3455(10), 0.36258(67), 0.4335(84), 0.4316(29), 0.4509(14),\n",
      "       0.4598(16), 0.4719(19)], dtype=object),'mss': array([0.209834(72), 0.309364(70), 0.31169(11), 0.31244(11), 0.31327(11),\n",
      "       0.41410(13), 0.41539(12), 0.41558(12), 0.41576(15), 0.41803(16),\n",
      "       0.41970(13), 0.42073(13), 0.52573(15), 0.51496(14), 0.51876(17),\n",
      "       0.52008(23), 0.52193(22)], dtype=object),'lam2_chi': array([0.14561(80), 0.2899(11), 0.32727(98), 0.3434(12), 0.3694(11),\n",
      "       0.5132(20), 0.5441(24), 0.5463(24), 0.5434(29), 0.5950(21),\n",
      "       0.6266(29), 0.6669(23), 0.8030(25), 0.8362(19), 0.8954(21),\n",
      "       0.9339(27), 0.9950(31)], dtype=object),'a/w0': array([0.33020(20), 0.51050(30), 0.51050(30), 0.51050(30), 0.51050(30),\n",
      "       0.70360(50), 0.70360(50), 0.70360(50), 0.70360(50), 0.70360(50),\n",
      "       0.70360(50), 0.70360(50), 0.88040(30), 0.88040(30), 0.88040(30),\n",
      "       0.88040(30), 0.88040(30)], dtype=object),'a2DI': array([0.000449(25), 0.00515(42), 0.00515(42), 0.00515(42), 0.00515(42),\n",
      "       0.0312(26), 0.0312(26), 0.0312(26), 0.0312(26), 0.0312(26),\n",
      "       0.0312(26), 0.0312(26), 0.087(11), 0.087(11), 0.087(11), 0.087(11),\n",
      "       0.087(11)], dtype=object),'L': array([72.000000(72), 48.000000(48), 32.000000(32), 32.000000(32),\n",
      "       32.000000(32), 48.000000(48), 32.000000(32), 40.000000(40),\n",
      "       24.000000(24), 24.000000(24), 24.000000(24), 24.000000(24),\n",
      "       48.000000(48), 24.000000(24), 16.000000(16), 16.000000(16),\n",
      "       16.000000(16)], dtype=object),'alpha_s': array([0.29985000(30), 0.43356000(43), 0.43356000(43), 0.43356000(43),\n",
      "       0.43356000(43), 0.53796000(54), 0.53796000(54), 0.53796000(54),\n",
      "       0.53796000(54), 0.53796000(54), 0.53796000(54), 0.53796000(54),\n",
      "       0.58801000(59), 0.58801000(59), 0.58801000(59), 0.58801000(59),\n",
      "       0.58801000(59)], dtype=object),'L_4': 0.0000(50),'L_5': 0.0000(50),'A_k': 0(10),'A_p': 0(10),'A_a': 0(100),'A_aa': 0(1000)}\n",
      "Done!\n",
      "Time (s):  0.7236406803131104\n",
      "\n",
      "Model: xpt_FpiFpi_nnlo_a4_FV\n",
      "\n",
      "Fitted/[FLAG] values at physical point:\n",
      "\tF_K / F_pi = 1.2071(36) [1.1959(20)]\t(delta_su2 = -0.00456(71))\n",
      "\n",
      "Parameters:\n",
      "            L_4    -0.0005 (34)      [   0.0000 (50) ]  \n",
      "            L_5    0.00093 (50)      [   0.0000 (50) ]  \n",
      "            A_k      -1.6 (6.6)      [        0 (10) ]  \n",
      "            A_p       5.4 (3.3)      [        0 (10) ]  \n",
      "            A_a     -10.1 (1.4)      [       0 (100) ]  \n",
      "           A_aa         87 (19)      [      0 (1000) ]  \n",
      "\n",
      "Least Square Fit:\n",
      "  chi2/dof [dof] = 0.89 [17]    Q = 0.58    logGBF = 61.772\n",
      "\n",
      "Settings:\n",
      "  svdcut/n = 1e-12/0    tol = (1e-08*,1e-10,1e-10)    (itns/time = 15/0.7)\n",
      "\n",
      "Error Budget (relative error):\n",
      "\tdisc: 5.75e-05\tchiral: 0.000151\tpp_input: 0.000483\tstat: 0.00294\n",
      "\n",
      "Total time (s):  1.7190709114074707 \n",
      "\n"
     ]
    }
   ],
   "source": [
    "t0 = time.time()\n",
    "\n",
    "# Load data\n",
    "data_loader = dl.data_loader()\n",
    "fit_data = data_loader.get_fit_data()\n",
    "phys_point_data = data_loader.get_phys_point_data()\n",
    "\n",
    "# Get prior\n",
    "prior = None\n",
    "if p_dict['use_prior']:\n",
    "    prior = data_loader.get_prior(**p_dict['model_info'], collection_name=p_dict['collection_name'])\n",
    "    \n",
    "# Make fit\n",
    "fit_manager = fm.fit_manager(fit_data, phys_point_data, prior=prior, **p_dict)\n",
    "\n",
    "if p_dict['make_plots']:\n",
    "    data_loader.save_plots(\n",
    "        fit_manager.make_plots(show_error_ellipses=p_dict['show_error_ellipses']),\n",
    "        output_filename=p_dict['collection_name']+'/fits/'+fit_manager.model\n",
    "    )\n",
    "else:\n",
    "    print(fit_manager)\n",
    "    \n",
    "if p_dict['save_results']:\n",
    "    data_loader.save_fit_info(\n",
    "        fit_manager.fit_info,\n",
    "        collection_name=p_dict['collection_name'], \n",
    "        save_pickles=p_dict['save_pickles']\n",
    "    )\n",
    "\n",
    "    \n",
    "    \n",
    "t1 = time.time()\n",
    "\n",
    "print(\"\\nTotal time (s): \", t1 - t0, \"\\n\")"
   ]
  },
  {
   "cell_type": "code",
   "execution_count": 41,
   "metadata": {
    "scrolled": false
   },
   "outputs": [
    {
     "name": "stdout",
     "output_type": "stream",
     "text": [
      "Partial Errors:\n",
      "                  FK/Fpi\n",
      "------------------------\n",
      "          A_a:   0.00004\n",
      "         A_aa:   0.00005\n",
      "          A_k:   0.00010\n",
      "          A_p:   0.00007\n",
      "          L_4:   0.00007\n",
      "          L_5:   0.00012\n",
      "     phys:mpi:   0.00014\n",
      "      phys:mk:   0.00009\n",
      "phys:lam2_chi:   0.00056\n",
      "         stat:   0.00355\n",
      "------------------------\n",
      "        total:   0.00360\n",
      "\n"
     ]
    }
   ],
   "source": [
    "print(fit_manager.fmt_error_budget())"
   ]
  },
  {
   "cell_type": "code",
   "execution_count": null,
   "metadata": {},
   "outputs": [],
   "source": []
  },
  {
   "cell_type": "code",
   "execution_count": 34,
   "metadata": {},
   "outputs": [
    {
     "ename": "NameError",
     "evalue": "name 'bootstrapper' is not defined",
     "output_type": "error",
     "traceback": [
      "\u001b[0;31m---------------------------------------------------------------------------\u001b[0m",
      "\u001b[0;31mNameError\u001b[0m                                 Traceback (most recent call last)",
      "\u001b[0;32m<ipython-input-34-f60586c39680>\u001b[0m in \u001b[0;36m<module>\u001b[0;34m\u001b[0m\n\u001b[1;32m     24\u001b[0m \u001b[0;34m\u001b[0m\u001b[0m\n\u001b[1;32m     25\u001b[0m \u001b[0;34m\u001b[0m\u001b[0m\n\u001b[0;32m---> 26\u001b[0;31m \u001b[0mbootstrapper\u001b[0m\u001b[0;34m.\u001b[0m\u001b[0mfk_fpi_fit_fcn\u001b[0m\u001b[0;34m(\u001b[0m\u001b[0mfit_data\u001b[0m\u001b[0;34m=\u001b[0m\u001b[0mfit_data\u001b[0m\u001b[0;34m,\u001b[0m \u001b[0mfit_parameters\u001b[0m\u001b[0;34m=\u001b[0m\u001b[0mfit_parameters\u001b[0m\u001b[0;34m,\u001b[0m \u001b[0mdebug\u001b[0m\u001b[0;34m=\u001b[0m\u001b[0;32mTrue\u001b[0m\u001b[0;34m)\u001b[0m\u001b[0;34m\u001b[0m\u001b[0;34m\u001b[0m\u001b[0m\n\u001b[0m",
      "\u001b[0;31mNameError\u001b[0m: name 'bootstrapper' is not defined"
     ]
    }
   ],
   "source": [
    "fit_data = {\n",
    "    'mpi' : 135.,\n",
    "    'mk' : 495.5,\n",
    "    'Fpi' : 92.2,\n",
    "    'FK' : 110.5,\n",
    "    'L' : np.inf, \n",
    "    'a/w0' : 0,\n",
    "}\n",
    "fit_data['lam2_chi'] = (4 *np.pi *fit_data['Fpi'])**2\n",
    "\n",
    "fit_parameters = {\n",
    "    'L_1' : 0.000372,\n",
    "    'L_2' : 0.000493,\n",
    "    'L_3' : -0.003070,\n",
    "    'L_4' : 0.000089,\n",
    "    'L_5' : 0.000377,\n",
    "    'L_6' : 0.000011,\n",
    "    'L_7' : -0.000340,\n",
    "    'L_8' : 0.000294,\n",
    "    'A_a' : 0.1,\n",
    "    'A_k' : -3.000000,\n",
    "    'A_p' : 4.000000\n",
    "}\n",
    "\n",
    "\n",
    "fit_manager.fk_fpi_fit_fcn(fit_data=fit_data, fit_parameters=fit_parameters, debug=True)"
   ]
  },
  {
   "cell_type": "code",
   "execution_count": null,
   "metadata": {
    "collapsed": true
   },
   "outputs": [],
   "source": []
  }
 ],
 "metadata": {
  "kernelspec": {
   "display_name": "Python 3",
   "language": "python",
   "name": "python3"
  },
  "language_info": {
   "codemirror_mode": {
    "name": "ipython",
    "version": 3
   },
   "file_extension": ".py",
   "mimetype": "text/x-python",
   "name": "python",
   "nbconvert_exporter": "python",
   "pygments_lexer": "ipython3",
   "version": "3.8.2"
  }
 },
 "nbformat": 4,
 "nbformat_minor": 2
}
