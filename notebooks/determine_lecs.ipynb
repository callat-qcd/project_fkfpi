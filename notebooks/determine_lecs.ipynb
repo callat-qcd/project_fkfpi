{
 "cells": [
  {
   "cell_type": "markdown",
   "metadata": {},
   "source": [
    "### Import Modules"
   ]
  },
  {
   "cell_type": "code",
   "execution_count": 26,
   "metadata": {
    "collapsed": true
   },
   "outputs": [],
   "source": [
    "import numpy as np\n",
    "import gvar as gv\n",
    "import lsqfit\n",
    "import sys\n",
    "import os\n",
    "import matplotlib\n",
    "import matplotlib.pyplot as plt\n",
    "import pandas as pd\n",
    "import h5py\n",
    "import time\n",
    "\n",
    "sys.path.append(\"../\")\n",
    "from fitter import data_loader as dl\n",
    "from fitter import bootstrapper as bs\n",
    "from fitter import fitter as fit\n",
    "from fitter import special_functions as sf\n",
    "\n",
    "for j in range(10): # Sometimes this needs to be loaded twice...\n",
    "    matplotlib.rcParams['figure.figsize'] = [10, 10]"
   ]
  },
  {
   "cell_type": "code",
   "execution_count": 32,
   "metadata": {},
   "outputs": [
    {
     "data": {
      "text/plain": [
       "<module 'fitter.special_functions' from '../fitter\\special_functions.pyc'>"
      ]
     },
     "execution_count": 32,
     "metadata": {},
     "output_type": "execute_result"
    }
   ],
   "source": [
    "reload(bs)\n",
    "reload(dl)\n",
    "reload(fit)\n",
    "reload(sf)"
   ]
  },
  {
   "cell_type": "markdown",
   "metadata": {},
   "source": [
    "### Specify fit parameters"
   ]
  },
  {
   "cell_type": "code",
   "execution_count": 40,
   "metadata": {
    "collapsed": true
   },
   "outputs": [],
   "source": [
    "p_dict = {\n",
    "    'order' : {\n",
    "        'fit' : 'nnlo', # 'nlo', 'nnlo', or 'nnnlo'\n",
    "        'vol' : 0, # max 10\n",
    "        'exclude' : [], # put LECs here\n",
    "        'include_log' : True, # alphaS\n",
    "        'include_log2' : True\n",
    "    }, \n",
    "    'bs_N' : 1,  # if 0, use full list\n",
    "    'fit_type' : 'ma', #'ma', 'ma-taylor, 'xpt', or 'xpt-taylor'; also 'simultaneous', 'ma-old'\n",
    "    'F2' : 'FKFpi', #'FKfpi', 'FpiFpi', 'FKFK'\n",
    "    'chained' : False,\n",
    "    \n",
    "    'use_prior' : False,\n",
    "    'abbrs' : [u'a09m220', u'a09m310', u'a09m350', u'a09m400', u'a12m130',\n",
    "           u'a12m220',  u'a12m220S', u'a12m220L', u'a12m310', u'a12m350',\n",
    "           u'a12m400',  u'a15m135XL', u'a15m220', u'a15m310', u'a15m350', 'a15m400'], # u'a15m130'\n",
    "    \n",
    "    'make_plots' : False,\n",
    "    'show_error_ellipses' : False,\n",
    "    'show_bs_histograms' : False,\n",
    "    \n",
    "    'save_prior' : False,\n",
    "    'save_results' : False,\n",
    "}"
   ]
  },
  {
   "cell_type": "markdown",
   "metadata": {},
   "source": [
    "### Do fit"
   ]
  },
  {
   "cell_type": "code",
   "execution_count": 41,
   "metadata": {
    "scrolled": false
   },
   "outputs": [
    {
     "name": "stdout",
     "output_type": "stream",
     "text": [
      "Using default prior.\n",
      "Making fits...\n",
      "Done!\n",
      "100% complete Time (s):  0.901999950409\n",
      "Compiling results...\n",
      "\n",
      "\n",
      "Fit type: ma (F^2 = FKFpi, bsN = 1)\n",
      "\n",
      "Fitting to nnlo \n",
      " with volume corrections O(0) \n",
      " chained: False \n",
      "Fitted/[FLAG] values at physical point (including SU(2) isospin corrections):\n",
      "\n",
      "F_K / F_pi = 1.1867(47) [1.1932(19)]   (delta_su2 = -0.00213(21))\n",
      "\n",
      "  Parameter    Result[0] / Prior[1]    Parameter    Result[0] / Prior[1]\n",
      "-----------------------------------  -----------------------------------\n",
      "      L_4 0             0.0040 (41)     A_loga 0              -0.3 (4.2)\n",
      "          1             0.0000 (50)            1               0.0 (5.0)\n",
      "      L_5 0             0.0008 (11)        A_a 0              -1.1 (2.9)\n",
      "          1             0.0000 (50)            1               0.0 (5.0)\n",
      "      A_p 0               0.3 (1.1)        A_k 0               1.3 (2.0)\n",
      "          1               0.0 (5.0)            1               0.0 (5.0)\n",
      "---\n",
      "boot0 fit results:\n",
      "Least Square Fit:\n",
      "  chi2/dof [dof] = 2.1 [16]    Q = 0.0075    logGBF = 56.711\n",
      "\n",
      "Settings:\n",
      "  svdcut/n = 1e-12/0    tol = (1e-08,1e-10,1e-10*)    (itns/time = 23/0.7)\n",
      "  fitter = scipy_least_squares    method = trf\n",
      "\n",
      "\n",
      "Total time (s):  1.54699993134 \n",
      "\n"
     ]
    }
   ],
   "source": [
    "t0 = time.time()\n",
    "\n",
    "# Load data\n",
    "data_loader = dl.data_loader()\n",
    "fit_data = data_loader.get_fit_data()\n",
    "\n",
    "# Get prior\n",
    "prior = None\n",
    "if p_dict['use_prior']:\n",
    "    prior = data_loader.get_prior(p_dict['fit_type'])\n",
    "\n",
    "# Make bootstrapper\n",
    "bootstrapper = bs.bootstrapper(fit_data, prior=prior, order=p_dict['order'], F2=p_dict['F2'], chain_fits=p_dict['chained'],\n",
    "                               fit_type=p_dict['fit_type'], bs_N=p_dict['bs_N'], abbrs=p_dict['abbrs'])\n",
    "\n",
    "if p_dict['make_plots']:\n",
    "    data_loader.save_plots(\n",
    "        bootstrapper.make_plots(\n",
    "            show_error_ellipses=p_dict['show_error_ellipses'], \n",
    "            show_bootstrap_histograms=p_dict['show_bs_histograms']),\n",
    "        output_filename='fits/'+bootstrapper.fit_type+'_'+bootstrapper.order['fit']\n",
    "    )\n",
    "else:\n",
    "    print bootstrapper\n",
    "    \n",
    "if p_dict['save_prior']:\n",
    "    print 'Saving prior...'\n",
    "    data_loader.save_prior(bootstrapper.create_prior_from_fit(), p_dict['fit_type'])\n",
    "    \n",
    "if p_dict['save_results']:\n",
    "    data_loader.save_fit_info(bootstrapper.get_fit_info())\n",
    "    \n",
    "    \n",
    "t1 = time.time()\n",
    "\n",
    "print \"\\nTotal time (s): \", t1 - t0, \"\\n\""
   ]
  },
  {
   "cell_type": "code",
   "execution_count": 35,
   "metadata": {},
   "outputs": [
    {
     "name": "stdout",
     "output_type": "stream",
     "text": [
      "0.0019417849006856534\n"
     ]
    }
   ],
   "source": [
    "print bootstrapper.fits[0].pmean['L_5']"
   ]
  },
  {
   "cell_type": "code",
   "execution_count": 11,
   "metadata": {},
   "outputs": [
    {
     "name": "stdout",
     "output_type": "stream",
     "text": [
      "1.16.5\n"
     ]
    }
   ],
   "source": [
    "print np.__version__"
   ]
  },
  {
   "cell_type": "code",
   "execution_count": 29,
   "metadata": {},
   "outputs": [
    {
     "name": "stdout",
     "output_type": "stream",
     "text": [
      "0.000434627622523\n"
     ]
    }
   ],
   "source": [
    "print bootstrapper.fits[0].pmean['L_5']"
   ]
  },
  {
   "cell_type": "code",
   "execution_count": 8,
   "metadata": {
    "collapsed": true
   },
   "outputs": [],
   "source": [
    "myfit = bootstrapper.fits[0]"
   ]
  },
  {
   "cell_type": "code",
   "execution_count": 9,
   "metadata": {},
   "outputs": [
    {
     "data": {
      "text/plain": [
       "'scipy_least_squares'"
      ]
     },
     "execution_count": 9,
     "metadata": {},
     "output_type": "execute_result"
    }
   ],
   "source": [
    "myfit.fitter"
   ]
  },
  {
   "cell_type": "code",
   "execution_count": null,
   "metadata": {
    "collapsed": true
   },
   "outputs": [],
   "source": []
  },
  {
   "cell_type": "code",
   "execution_count": 42,
   "metadata": {
    "scrolled": false
   },
   "outputs": [
    {
     "name": "stdout",
     "output_type": "stream",
     "text": [
      "ma-ratio_alphaS_logSq 1.1880(48)\n",
      "Least Square Fit:\n",
      "  chi2/dof [dof] = 2.1 [16]    Q = 0.0075    logGBF = 56.711\n",
      "\n",
      "Parameters:\n",
      "          mpi 0        0.097917 (63)         [   0.097896 (63) ]  \n",
      "              1         0.14074 (12)         [    0.14074 (12) ]  \n",
      "              2         0.15781 (20)         [    0.15783 (20) ]  \n",
      "              3         0.18114 (15)         [    0.18114 (15) ]  \n",
      "              4         0.08131 (17)         [    0.08134 (17) ]  \n",
      "              5         0.13423 (17)         [    0.13427 (17) ]  \n",
      "              6         0.13403 (15)         [    0.13402 (15) ]  \n",
      "              7         0.13575 (31)         [    0.13556 (32) ]  \n",
      "              8         0.18869 (17)         [    0.18868 (17) ]  \n",
      "              9         0.21400 (20)         [    0.21397 (20) ]  \n",
      "             10         0.24344 (16)         [    0.24346 (16) ]  \n",
      "             11         0.10282 (11)         [    0.10282 (12) ]  \n",
      "             12         0.16531 (19)         [    0.16531 (19) ]  \n",
      "             13         0.23611 (29)         [    0.23609 (29) ]  \n",
      "             14         0.26468 (29)         [    0.26475 (30) ]  \n",
      "             15         0.30284 (31)         [    0.30283 (31) ]  \n",
      "           mk 0        0.228772 (87)         [   0.228703 (91) ]  \n",
      "              1         0.24111 (12)         [    0.24110 (14) ]  \n",
      "              2         0.24692 (12)         [    0.24697 (12) ]  \n",
      "              3         0.25520 (12)         [    0.25522 (13) ]  \n",
      "              4         0.30207 (13)         [    0.30210 (14) ]  \n",
      "              5         0.31009 (16)         [    0.31003 (17) ]  \n",
      "              6         0.31044 (16)         [    0.31018 (19) ]  *\n",
      "              7         0.31034 (21)         [    0.31044 (22) ]  \n",
      "              8         0.32417 (20)         [    0.32416 (21) ]  \n",
      "              9         0.33312 (16)         [    0.33309 (16) ]  \n",
      "             10         0.34344 (14)         [    0.34341 (14) ]  \n",
      "             11         0.38744 (19)         [    0.38745 (22) ]  \n",
      "             12         0.38690 (20)         [    0.38691 (21) ]  \n",
      "             13         0.40433 (23)         [    0.40460 (25) ]  *\n",
      "             14         0.41364 (27)         [    0.41371 (28) ]  \n",
      "             15         0.42734 (26)         [    0.42723 (27) ]  \n",
      "          mss 0        0.309381 (69)         [   0.309358 (70) ]  \n",
      "              1         0.31170 (10)         [    0.31170 (11) ]  \n",
      "              2         0.31243 (11)         [    0.31245 (11) ]  \n",
      "              3         0.31325 (10)         [    0.31327 (11) ]  \n",
      "              4         0.41406 (14)         [    0.41406 (14) ]  \n",
      "              5         0.41540 (12)         [    0.41539 (12) ]  \n",
      "              6         0.41563 (11)         [    0.41557 (12) ]  \n",
      "              7         0.41573 (15)         [    0.41576 (15) ]  \n",
      "              8         0.41803 (16)         [    0.41803 (16) ]  \n",
      "              9         0.41972 (13)         [    0.41971 (13) ]  \n",
      "             10         0.42075 (13)         [    0.42073 (13) ]  \n",
      "             11         0.52573 (13)         [    0.52573 (13) ]  \n",
      "             12         0.51495 (14)         [    0.51495 (14) ]  \n",
      "             13         0.51869 (16)         [    0.51875 (17) ]  \n",
      "             14         0.52007 (23)         [    0.52010 (23) ]  \n",
      "             15         0.52201 (22)         [    0.52194 (22) ]  \n",
      "          mju 0         0.10894 (26)         [    0.10889 (26) ]  \n",
      "              1         0.14814 (37)         [    0.14814 (37) ]  \n",
      "              2         0.16532 (67)         [    0.16561 (68) ]  \n",
      "              3         0.18725 (88)         [    0.18737 (90) ]  \n",
      "              4          0.1493 (13)         [     0.1494 (13) ]  \n",
      "              5         0.17724 (85)         [    0.17711 (85) ]  \n",
      "              6         0.17732 (85)         [    0.17711 (85) ]  \n",
      "              7         0.17688 (85)         [    0.17711 (85) ]  \n",
      "              8         0.21902 (91)         [    0.21899 (92) ]  \n",
      "              9          0.2407 (13)         [     0.2404 (13) ]  \n",
      "             10          0.2683 (16)         [     0.2679 (16) ]  \n",
      "             11          0.2274 (36)         [     0.2274 (38) ]  \n",
      "             12          0.2556 (19)         [     0.2557 (19) ]  \n",
      "             13          0.3055 (12)         [     0.3062 (13) ]  \n",
      "             14          0.3292 (31)         [     0.3311 (35) ]  \n",
      "             15          0.3614 (22)         [     0.3596 (23) ]  \n",
      "          mjs 0         0.23003 (34)         [    0.23003 (34) ]  \n",
      "              1         0.24270 (42)         [    0.24270 (42) ]  \n",
      "              2         0.25004 (83)         [    0.24997 (83) ]  \n",
      "              3          0.2576 (11)         [     0.2575 (11) ]  \n",
      "              4         0.30827 (87)         [    0.30824 (87) ]  \n",
      "              5         0.31878 (79)         [    0.31877 (79) ]  \n",
      "              6         0.31876 (79)         [    0.31877 (79) ]  \n",
      "              7         0.31880 (79)         [    0.31877 (79) ]  \n",
      "              8         0.33458 (95)         [    0.33459 (95) ]  \n",
      "              9          0.3453 (17)         [     0.3454 (17) ]  \n",
      "             10          0.3549 (11)         [     0.3548 (11) ]  \n",
      "             11          0.3985 (15)         [     0.3985 (15) ]  \n",
      "             12         0.41090 (96)         [    0.41090 (96) ]  \n",
      "             13         0.43457 (95)         [    0.43463 (95) ]  \n",
      "             14          0.4464 (30)         [     0.4465 (30) ]  \n",
      "             15          0.4561 (35)         [     0.4582 (36) ]  \n",
      "          mru 0         0.23292 (38)         [    0.23288 (38) ]  \n",
      "              1         0.24697 (51)         [    0.24697 (51) ]  \n",
      "              2         0.25268 (61)         [    0.25285 (61) ]  \n",
      "              3         0.26030 (81)         [    0.26040 (82) ]  \n",
      "              4          0.3259 (13)         [     0.3260 (13) ]  \n",
      "              5         0.33173 (88)         [    0.33162 (89) ]  \n",
      "              6         0.33177 (89)         [    0.33162 (89) ]  \n",
      "              7         0.33151 (89)         [    0.33162 (89) ]  \n",
      "              8         0.34398 (98)         [    0.34397 (98) ]  \n",
      "              9          0.3523 (28)         [     0.3519 (28) ]  \n",
      "             10          0.3624 (12)         [     0.3621 (12) ]  \n",
      "             11          0.4291 (20)         [     0.4291 (21) ]  \n",
      "             12          0.4308 (16)         [     0.4309 (16) ]  \n",
      "             13          0.4504 (11)         [     0.4508 (11) ]  \n",
      "             14          0.4580 (36)         [     0.4592 (38) ]  \n",
      "             15          0.4724 (20)         [     0.4711 (20) ]  \n",
      "          mrs 0         0.31131 (21)         [    0.31130 (21) ]  \n",
      "              1         0.31505 (30)         [    0.31505 (30) ]  \n",
      "              2         0.31608 (53)         [    0.31601 (53) ]  \n",
      "              3         0.31586 (62)         [    0.31589 (62) ]  \n",
      "              4         0.42719 (34)         [    0.42718 (34) ]  \n",
      "              5         0.42806 (34)         [    0.42803 (34) ]  \n",
      "              6         0.42804 (34)         [    0.42803 (34) ]  \n",
      "              7         0.42803 (34)         [    0.42803 (34) ]  \n",
      "              8         0.43052 (44)         [    0.43052 (44) ]  \n",
      "              9          0.4320 (11)         [     0.4319 (11) ]  \n",
      "             10         0.43211 (70)         [    0.43206 (70) ]  \n",
      "             11         0.54282 (57)         [    0.54282 (57) ]  \n",
      "             12         0.54172 (55)         [    0.54172 (55) ]  \n",
      "             13         0.54895 (69)         [    0.54895 (69) ]  \n",
      "             14          0.5528 (17)         [     0.5529 (17) ]  \n",
      "             15          0.5533 (18)         [     0.5538 (18) ]  \n",
      "         a2DI 0         0.00513 (42)         [    0.00515 (42) ]  \n",
      "              1         0.00515 (42)         [    0.00515 (42) ]  \n",
      "              2         0.00517 (42)         [    0.00515 (42) ]  \n",
      "              3         0.00516 (42)         [    0.00515 (42) ]  \n",
      "              4          0.0313 (26)         [     0.0312 (26) ]  \n",
      "              5          0.0310 (26)         [     0.0312 (26) ]  \n",
      "              6          0.0309 (26)         [     0.0312 (26) ]  \n",
      "              7          0.0315 (26)         [     0.0312 (26) ]  \n",
      "              8          0.0312 (26)         [     0.0312 (26) ]  \n",
      "              9          0.0311 (26)         [     0.0312 (26) ]  \n",
      "             10          0.0311 (26)         [     0.0312 (26) ]  \n",
      "             11           0.087 (10)         [      0.087 (11) ]  \n",
      "             12           0.087 (10)         [      0.087 (11) ]  \n",
      "             13           0.089 (11)         [      0.087 (11) ]  \n",
      "             14           0.088 (11)         [      0.087 (11) ]  \n",
      "             15           0.085 (11)         [      0.087 (11) ]  \n",
      "     lam2_chi 0         0.33089 (99)         [    0.33104 (99) ]  \n",
      "              1         0.36307 (99)         [     0.3630 (10) ]  \n",
      "              2          0.3780 (11)         [     0.3771 (11) ]  \n",
      "              3          0.3991 (11)         [     0.3989 (11) ]  \n",
      "              4          0.5944 (20)         [     0.5941 (21) ]  \n",
      "              5          0.6138 (20)         [     0.6143 (20) ]  \n",
      "              6          0.6162 (24)         [     0.6147 (25) ]  \n",
      "              7          0.6186 (22)         [     0.6168 (24) ]  \n",
      "              8          0.6556 (17)         [     0.6556 (17) ]  \n",
      "              9          0.6792 (14)         [     0.6806 (17) ]  \n",
      "             10          0.7141 (15)         [     0.7152 (16) ]  \n",
      "             11          0.9326 (33)         [     0.9326 (33) ]  \n",
      "             12          0.9414 (18)         [     0.9414 (18) ]  \n",
      "             13          0.9861 (19)         [     0.9860 (19) ]  \n",
      "             14          1.0163 (23)         [     1.0156 (24) ]  \n",
      "             15          1.0627 (26)         [     1.0651 (27) ]  \n",
      "            L 0        48 +- 4.8e-05         [  48.000000 (48) ]  \n",
      "              1       32.000000 (32)         [  32.000000 (32) ]  \n",
      "              2       32.000000 (32)         [  32.000000 (32) ]  \n",
      "              3       32.000000 (32)         [  32.000000 (32) ]  \n",
      "              4        48 +- 4.8e-05         [  48.000000 (48) ]  \n",
      "              5        32 +- 3.2e-05         [  32.000000 (32) ]  \n",
      "              6       40.000000 (40)         [  40.000000 (40) ]  \n",
      "              7       24.000000 (24)         [  24.000000 (24) ]  \n",
      "              8        24 +- 2.4e-05         [  24.000000 (24) ]  \n",
      "              9        24 +- 2.4e-05         [  24.000000 (24) ]  \n",
      "             10       24.000000 (24)         [  24.000000 (24) ]  \n",
      "             11        48 +- 4.8e-05         [  48.000000 (48) ]  \n",
      "             12       24.000000 (24)         [  24.000000 (24) ]  \n",
      "             13       16.000000 (16)         [  16.000000 (16) ]  \n",
      "             14       16.000000 (16)         [  16.000000 (16) ]  \n",
      "             15        16 +- 1.6e-05         [  16.000000 (16) ]  \n",
      "         a/w0 0         0.51050 (30)         [    0.51050 (30) ]  \n",
      "              1         0.51050 (30)         [    0.51050 (30) ]  \n",
      "              2         0.51050 (30)         [    0.51050 (30) ]  \n",
      "              3         0.51050 (30)         [    0.51050 (30) ]  \n",
      "              4         0.70360 (50)         [    0.70360 (50) ]  \n",
      "              5         0.70360 (50)         [    0.70360 (50) ]  \n",
      "              6         0.70360 (50)         [    0.70360 (50) ]  \n",
      "              7         0.70360 (50)         [    0.70360 (50) ]  \n",
      "              8         0.70360 (50)         [    0.70360 (50) ]  \n",
      "              9         0.70360 (50)         [    0.70360 (50) ]  \n",
      "             10         0.70360 (50)         [    0.70360 (50) ]  \n",
      "             11         0.88040 (30)         [    0.88040 (30) ]  \n",
      "             12         0.88040 (30)         [    0.88040 (30) ]  \n",
      "             13         0.88040 (30)         [    0.88040 (30) ]  \n",
      "             14         0.88040 (30)         [    0.88040 (30) ]  \n",
      "             15         0.88040 (30)         [    0.88040 (30) ]  \n",
      "            L_4          0.0040 (41)         [     0.0000 (50) ]  \n",
      "            L_5          0.0008 (11)         [     0.0000 (50) ]  \n",
      "            A_a           -1.1 (2.9)         [       0.0 (5.0) ]  \n",
      "            A_k            1.3 (2.0)         [       0.0 (5.0) ]  \n",
      "            A_p            0.3 (1.1)         [       0.0 (5.0) ]  \n",
      "         A_loga           -0.3 (4.2)         [       0.0 (5.0) ]  \n",
      "      alpha_s 0   0.43356 +- 4.3e-07         [ 0.43356000 (43) ]  \n",
      "              1   0.43356 +- 4.3e-07         [ 0.43356000 (43) ]  \n",
      "              2      0.43356000 (43)         [ 0.43356000 (43) ]  \n",
      "              3      0.43356000 (43)         [ 0.43356000 (43) ]  \n",
      "              4      0.53796000 (54)         [ 0.53796000 (54) ]  \n",
      "              5   0.53796 +- 5.4e-07         [ 0.53796000 (54) ]  \n",
      "              6   0.53796 +- 5.4e-07         [ 0.53796000 (54) ]  \n",
      "              7      0.53796000 (54)         [ 0.53796000 (54) ]  \n",
      "              8   0.53796 +- 5.4e-07         [ 0.53796000 (54) ]  \n",
      "              9   0.53796 +- 5.4e-07         [ 0.53796000 (54) ]  \n",
      "             10   0.53796 +- 5.4e-07         [ 0.53796000 (54) ]  \n",
      "             11   0.58801 +- 5.9e-07         [ 0.58801000 (59) ]  \n",
      "             12   0.58801 +- 5.9e-07         [ 0.58801000 (59) ]  \n",
      "             13      0.58801000 (59)         [ 0.58801000 (59) ]  \n",
      "             14      0.58801000 (59)         [ 0.58801000 (59) ]  \n",
      "             15   0.58801 +- 5.9e-07         [ 0.58801000 (59) ]  \n",
      "\n",
      "Settings:\n",
      "  svdcut/n = 1e-12/0    tol = (1e-08,1e-10,1e-10*)    (itns/time = 23/0.7)\n",
      "  fitter = scipy_least_squares    method = trf\n",
      "\n"
     ]
    }
   ],
   "source": [
    "translator_dict = {\n",
    "    'xpt' : 'xpt-ratio', \n",
    "    'xpt-taylor' : 'xpt',\n",
    "    'ma' : 'ma-ratio', \n",
    "    'ma-taylor' : 'ma',\n",
    "}\n",
    "\n",
    "def make_table(bootstrapper):\n",
    "    name = translator_dict[bootstrapper.fit_type]\n",
    "    if bootstrapper.order['vol'] > 0:\n",
    "        name = name + '_FV'\n",
    "\n",
    "    if bootstrapper.order['include_log']:\n",
    "        name = name + '_alphaS'\n",
    "\n",
    "    if bootstrapper.order['include_log2']:\n",
    "        name = name + '_logSq'\n",
    "        \n",
    "    fit = bootstrapper.extrapolate_to_phys_point(include_su2_isospin_corrrection=False)\n",
    "    print name, fit\n",
    "    print bootstrapper.fits[0]\n",
    "    \n",
    "make_table(bootstrapper)"
   ]
  },
  {
   "cell_type": "code",
   "execution_count": null,
   "metadata": {
    "collapsed": true
   },
   "outputs": [],
   "source": []
  },
  {
   "cell_type": "code",
   "execution_count": 354,
   "metadata": {},
   "outputs": [
    {
     "name": "stdout",
     "output_type": "stream",
     "text": [
      "1.1853(37)\n"
     ]
    }
   ],
   "source": [
    "    def fk_fpi_fit_fcn(self, fit_data=None, fit_parameters=None, fit_type=None):\n",
    "        if fit_data is None:\n",
    "            fit_data = self.get_phys_point_data()\n",
    "        if fit_parameters is None:\n",
    "            fit_parameters = self.get_fit_parameters().copy()\n",
    "        if fit_type is None:\n",
    "            fit_type = 'xpt-taylor'\n",
    "\n",
    "        for key in fit_data.keys():\n",
    "            fit_parameters[key] = fit_data[key]\n",
    "            \n",
    "        temp_prior = self._randomize_prior(self.prior, j)\n",
    "        \n",
    "        temp_fitter = fit.fitter(fit_data=fit_data, prior=temp_prior, \n",
    "                                 order=self.order, fit_type=fit_type, chain_fits=self.chain_fits)\n",
    "        fitfcn = temp_fitter._make_models()[0].fitfcn\n",
    "        \n",
    "        print fitfcn(p=fit_parameters)\n",
    "\n",
    "        #return temp_fit.fcn(p=fit_parameters)[model_name]\n",
    "    \n",
    "    \n",
    "    fk_fpi_fit_fcn(bootstrapper)"
   ]
  },
  {
   "cell_type": "code",
   "execution_count": 266,
   "metadata": {
    "collapsed": true
   },
   "outputs": [],
   "source": [
    "fit = bootstrapper.fits[0]"
   ]
  },
  {
   "cell_type": "code",
   "execution_count": 270,
   "metadata": {},
   "outputs": [
    {
     "data": {
      "text/plain": [
       "{'A_a': 0.4(2.8),\n",
       " 'A_k': -0.9(2.4),\n",
       " 'A_loga': 1.1(4.2),\n",
       " 'A_p': 1.19(44),\n",
       " 'L_5': 0.00043(57)}"
      ]
     },
     "execution_count": 270,
     "metadata": {},
     "output_type": "execute_result"
    }
   ],
   "source": [
    "bootstrapper.get_fit_parameters()"
   ]
  },
  {
   "cell_type": "code",
   "execution_count": 280,
   "metadata": {},
   "outputs": [
    {
     "data": {
      "text/plain": [
       "array([[ 1.        , -0.99758431,  0.88976061],\n",
       "       [-0.99758431,  1.        , -0.90501669],\n",
       "       [ 0.88976061, -0.90501669,  1.        ]])"
      ]
     },
     "execution_count": 280,
     "metadata": {},
     "output_type": "execute_result"
    }
   ],
   "source": [
    "params = [bootstrapper.get_fit_parameters()[key] for key in ['L_5', 'A_k', 'A_p']]\n",
    "gv.evalcorr(params)"
   ]
  },
  {
   "cell_type": "code",
   "execution_count": 283,
   "metadata": {},
   "outputs": [
    {
     "data": {
      "text/plain": [
       "92.1(1.2)"
      ]
     },
     "execution_count": 283,
     "metadata": {},
     "output_type": "execute_result"
    }
   ],
   "source": [
    "gv.gvar(130.2/np.sqrt(2), 1.7/np.sqrt(2))"
   ]
  },
  {
   "cell_type": "code",
   "execution_count": 284,
   "metadata": {},
   "outputs": [
    {
     "data": {
      "text/plain": [
       "110.03(28)"
      ]
     },
     "execution_count": 284,
     "metadata": {},
     "output_type": "execute_result"
    }
   ],
   "source": [
    "gv.gvar(155.6/np.sqrt(2), 0.4/np.sqrt(2))"
   ]
  },
  {
   "cell_type": "code",
   "execution_count": null,
   "metadata": {
    "collapsed": true
   },
   "outputs": [],
   "source": [
    "phys_point['Fpi'] = gv.gvar(130.2/np.sqrt(2), 1.7/np.sqrt(2)) #PDG fpi+ eq(16)\n",
    "phys_point['FK']  = gv.gvar(155.6/np.sqrt(2), 0.4/np.sqrt(2)) #PDG fK++ eq(16)"
   ]
  },
  {
   "cell_type": "code",
   "execution_count": 355,
   "metadata": {},
   "outputs": [
    {
     "name": "stdout",
     "output_type": "stream",
     "text": [
      "a09m220 1.1439(18) 1.1456(14)\n",
      "a09m310 1.1108(16) 1.11142(71)\n",
      "a09m350 1.0997(10) 1.09829(71)\n",
      "a09m400 1.08107(94) 1.08069(73)\n",
      "a12m130 1.1646(26) 1.1622(16)\n",
      "a12m220 1.1314(23) 1.1334(11)\n",
      "a12m220L 1.1279(29) 1.1328(11)\n",
      "a12m220S 1.1389(27) 1.1359(12)\n",
      "a12m310 1.1042(21) 1.10516(82)\n",
      "a12m350 1.0888(27) 1.0926(10)\n",
      "a12m400 1.0745(17) 1.07627(89)\n",
      "a15m135XL 1.1584(28) 1.1573(21)\n",
      "a15m220 1.1266(15) 1.1269(12)\n",
      "a15m310 1.1016(13) 1.10020(88)\n",
      "a15m350 1.08868(87) 1.08843(78)\n",
      "a15m400 1.07151(89) 1.07206(80)\n"
     ]
    }
   ],
   "source": [
    "def test(self):\n",
    "    for abbr in self.abbrs:\n",
    "        print abbr, self.fit_data[abbr]['FK/Fpi'], self.extrapolate_to_ensemble(abbr)\n",
    "\n",
    "test(bootstrapper)"
   ]
  },
  {
   "cell_type": "markdown",
   "metadata": {},
   "source": [
    "### Or make all fits"
   ]
  },
  {
   "cell_type": "code",
   "execution_count": 44,
   "metadata": {
    "collapsed": true
   },
   "outputs": [],
   "source": [
    "p_dict = {\n",
    "    'order' : {\n",
    "        'vol' : 5, # max 10\n",
    "        'exclude' : [],\n",
    "        'include_log2' : True\n",
    "    }, \n",
    "    'bs_N' : 1,  # if 0, use full list\n",
    "    'F2' : 'FKFpi', #'FKfpi', 'FpiFpi', 'FKFK'\n",
    "    'chained' : True,\n",
    "\n",
    "    'use_prior' : True,\n",
    "    'abbrs' : [u'a09m220', u'a09m310', u'a09m350', u'a09m400', u'a12m130',\n",
    "           u'a12m220',  u'a12m220S', u'a12m220L', u'a12m310', u'a12m350',\n",
    "           u'a12m400', u'a15m130', u'a15m135XL', u'a15m220', u'a15m310', u'a15m350', 'a15m400'],\n",
    "\n",
    "    'make_plots' : True,\n",
    "    'show_error_ellipses' : False,\n",
    "    'show_bs_histograms' : False,\n",
    "\n",
    "    'save_prior' : False,\n",
    "    'save_results' : True,\n",
    "}"
   ]
  },
  {
   "cell_type": "code",
   "execution_count": 45,
   "metadata": {
    "scrolled": false
   },
   "outputs": [
    {
     "name": "stdout",
     "output_type": "stream",
     "text": [
      "xpt nlo\n",
      "Making fits...\n",
      "100% complete Time (s):  0.463999986649\n",
      "Compiling results...\n"
     ]
    },
    {
     "name": "stderr",
     "output_type": "stream",
     "text": [
      "../fitter\\special_functions.py:10: RuntimeWarning: invalid value encountered in double_scalars\n",
      "  ysdev = np.abs(ss.kvp(n, gv.mean(g), 1)) * gv.sdev(g)\n"
     ]
    },
    {
     "name": "stdout",
     "output_type": "stream",
     "text": [
      "Done.\n",
      "Saving...\n",
      "Done.\n",
      "\n",
      "Total time (s):  11.7779998779 \n",
      "\n",
      "xpt nnlo\n",
      "Making fits...\n",
      "100% complete Time (s):  0.979000091553\n",
      "Compiling results...\n",
      "Done.\n",
      "Saving...\n",
      "Done.\n",
      "\n",
      "Total time (s):  12.881000042 \n",
      "\n",
      "xpt-taylor nlo\n",
      "Making fits...\n",
      "100% complete Time (s):  0.468999862671\n",
      "Compiling results...\n",
      "Done.\n",
      "Saving...\n",
      "Done.\n",
      "\n",
      "Total time (s):  8.63800001144 \n",
      "\n",
      "xpt-taylor nnlo\n",
      "Making fits...\n",
      "100% complete Time (s):  0.984000205994\n",
      "Compiling results...\n",
      "Done.\n",
      "Saving...\n",
      "Done.\n",
      "\n",
      "Total time (s):  9.89199995995 \n",
      "\n",
      "ma nlo\n",
      "Making fits...\n",
      "100% complete Time (s):  0.991000175476\n",
      "Compiling results...\n",
      "Done.\n",
      "Saving...\n",
      "Done.\n",
      "\n",
      "Total time (s):  54.1529998779 \n",
      "\n",
      "ma nnlo\n",
      "Making fits...\n",
      "100% complete Time (s):  2.49399995804\n",
      "Compiling results...\n",
      "Done.\n",
      "Saving...\n",
      "Done.\n",
      "\n",
      "Total time (s):  56.1860001087 \n",
      "\n",
      "ma-taylor nlo\n",
      "Making fits...\n",
      "100% complete Time (s):  1.11199998856\n",
      "Compiling results...\n",
      "Done.\n",
      "Saving...\n",
      "Done.\n",
      "\n",
      "Total time (s):  49.6940000057 \n",
      "\n",
      "ma-taylor nnlo\n",
      "Making fits...\n",
      "100% complete Time (s):  2.46700000763\n",
      "Compiling results...\n",
      "Done.\n",
      "Saving...\n",
      "Done.\n",
      "\n",
      "Total time (s):  53.6610000134 \n",
      "\n"
     ]
    }
   ],
   "source": [
    "for fit_type in ['xpt', 'xpt-taylor', 'ma', 'ma-taylor']:#, 'ma-old']:\n",
    "    for order_fit in ['nlo', 'nnlo']:#, 'nnnlo']:\n",
    "        \n",
    "        print fit_type, order_fit\n",
    "        \n",
    "        # Specify fit parameters\n",
    "        p_dict['order']['fit'] = order_fit\n",
    "        p_dict['fit_type'] = fit_type\n",
    "        \n",
    "        # Do fit\n",
    "        t0 = time.time()\n",
    "\n",
    "        # Load data\n",
    "        data_loader = dl.data_loader()\n",
    "        fit_data = data_loader.get_fit_data()\n",
    "\n",
    "        # Get prior\n",
    "        prior = None\n",
    "        if p_dict['use_prior']:\n",
    "            prior = data_loader.get_prior(p_dict['fit_type'])\n",
    "\n",
    "        # Make bootstrapper\n",
    "        bootstrapper = bs.bootstrapper(fit_data, prior=prior, order=p_dict['order'], F2=p_dict['F2'], chain_fits=p_dict['chained'],\n",
    "                                       fit_type=p_dict['fit_type'], bs_N=p_dict['bs_N'], abbrs=p_dict['abbrs'])\n",
    "\n",
    "        if p_dict['make_plots']:\n",
    "            data_loader.save_plots(\n",
    "                bootstrapper.make_plots(\n",
    "                    show_error_ellipses=p_dict['show_error_ellipses'], \n",
    "                    show_bootstrap_histograms=p_dict['show_bs_histograms']),\n",
    "                output_filename='fits/'+bootstrapper.fit_type+'_'+bootstrapper.order['fit']\n",
    "            )\n",
    "        else:\n",
    "            print bootstrapper\n",
    "\n",
    "        if p_dict['save_prior']:\n",
    "            print 'Saving prior...'\n",
    "            data_loader.save_prior(bootstrapper.create_prior_from_fit(), p_dict['fit_type'])\n",
    "\n",
    "        if p_dict['save_results']:\n",
    "            data_loader.save_fit_info(bootstrapper.get_fit_info())\n",
    "\n",
    "\n",
    "        t1 = time.time()\n",
    "        \n",
    "        #print test(bootstrapper)\n",
    "\n",
    "        print \"\\nTotal time (s): \", t1 - t0, \"\\n\""
   ]
  },
  {
   "cell_type": "code",
   "execution_count": 38,
   "metadata": {
    "collapsed": true
   },
   "outputs": [],
   "source": [
    "#bootstrapper.fits[0].show_plots(view='std')"
   ]
  },
  {
   "cell_type": "markdown",
   "metadata": {
    "collapsed": true
   },
   "source": [
    "### Compare with Andre"
   ]
  },
  {
   "cell_type": "code",
   "execution_count": 10,
   "metadata": {
    "collapsed": true
   },
   "outputs": [],
   "source": [
    "p_dict = {\n",
    "    'order' : {\n",
    "        'fit' : 'nnlo'\n",
    "    }, \n",
    "    'bs_N' : 1,  # if 0, use full list\n",
    "    'F2' : 'FKFpi', #'FKfpi', 'FpiFpi', 'FKFK'\n",
    "    'chained' : False,\n",
    "\n",
    "    'use_prior' : False,\n",
    "    'abbrs' : [u'a09m220', u'a09m310', u'a09m350', u'a09m400', u'a12m130',\n",
    "           u'a12m220',  u'a12m220S', u'a12m220L', u'a12m310', u'a12m350',\n",
    "           u'a12m400',  u'a15m135XL', u'a15m220', u'a15m310', u'a15m350', 'a15m400'],\n",
    "}"
   ]
  },
  {
   "cell_type": "code",
   "execution_count": 11,
   "metadata": {
    "scrolled": true
   },
   "outputs": [
    {
     "name": "stdout",
     "output_type": "stream",
     "text": [
      "Using default prior.\n",
      "Making fits...\n",
      "Done!\n",
      "100% complete Time (s):  0.541000127792\n",
      "Compiling results...\n",
      "\n",
      "Using default prior.\n",
      "Making fits...\n",
      "Done!\n",
      "100% complete Time (s):  0.585999965668\n",
      "Compiling results...\n",
      "\n",
      "Using default prior.\n",
      "Making fits...\n",
      "Done!\n",
      "100% complete Time (s):  0.532999992371\n",
      "Compiling results...\n",
      "\n",
      "Using default prior.\n",
      "Making fits...\n",
      "Done!\n",
      "100% complete Time (s):  0.574000120163\n",
      "Compiling results...\n",
      "\n",
      "Using default prior.\n",
      "Making fits...\n",
      "Done!\n",
      "100% complete Time (s):  0.47000002861\n",
      "Compiling results...\n",
      "\n",
      "Using default prior.\n",
      "Making fits...\n",
      "Done!\n",
      "100% complete Time (s):  0.544000148773\n",
      "Compiling results...\n",
      "\n",
      "Using default prior.\n",
      "Making fits...\n",
      "Done!\n",
      "100% complete Time (s):  0.65499997139\n",
      "Compiling results...\n",
      "\n",
      "Using default prior.\n",
      "Making fits...\n",
      "Done!\n",
      "100% complete Time (s):  0.555000066757\n",
      "Compiling results...\n",
      "\n",
      "Using default prior.\n",
      "Making fits...\n",
      "Done!\n",
      "100% complete Time (s):  1.25100016594\n",
      "Compiling results...\n",
      "\n",
      "Using default prior.\n",
      "Making fits...\n",
      "Done!\n",
      "100% complete Time (s):  2.40400004387\n",
      "Compiling results...\n",
      "\n",
      "Using default prior.\n",
      "Making fits...\n",
      "Done!\n",
      "100% complete Time (s):  0.891000032425\n",
      "Compiling results...\n",
      "\n",
      "Using default prior.\n",
      "Making fits...\n",
      "Done!\n",
      "100% complete Time (s):  2.28400015831\n",
      "Compiling results...\n",
      "\n",
      "Using default prior.\n",
      "Making fits...\n",
      "Done!\n",
      "100% complete Time (s):  1.48199987411\n",
      "Compiling results...\n",
      "\n",
      "Using default prior.\n",
      "Making fits...\n",
      "Done!\n",
      "100% complete Time (s):  2.60899996758\n",
      "Compiling results...\n",
      "\n",
      "Using default prior.\n",
      "Making fits...\n",
      "Done!\n",
      "100% complete Time (s):  0.980000019073\n",
      "Compiling results...\n",
      "\n",
      "Using default prior.\n",
      "Making fits...\n",
      "Done!\n",
      "100% complete Time (s):  2.39100003242\n",
      "Compiling results...\n",
      "\n",
      "Using default prior.\n",
      "Making fits...\n",
      "Done!\n",
      "100% complete Time (s):  0.548000097275\n",
      "Compiling results...\n",
      "\n",
      "Using default prior.\n",
      "Making fits...\n",
      "Done!\n",
      "100% complete Time (s):  0.671000003815\n",
      "Compiling results...\n",
      "\n",
      "Using default prior.\n",
      "Making fits...\n",
      "Done!\n",
      "100% complete Time (s):  0.445999860764\n",
      "Compiling results...\n",
      "\n",
      "Using default prior.\n",
      "Making fits...\n",
      "Done!\n",
      "100% complete Time (s):  0.689999818802\n",
      "Compiling results...\n",
      "\n",
      "Using default prior.\n",
      "Making fits...\n",
      "Done!\n",
      "100% complete Time (s):  0.535000085831\n",
      "Compiling results...\n",
      "\n",
      "Using default prior.\n",
      "Making fits...\n",
      "Done!\n",
      "100% complete Time (s):  0.504999876022\n",
      "Compiling results...\n",
      "\n",
      "Using default prior.\n",
      "Making fits...\n",
      "Done!\n",
      "100% complete Time (s):  0.446000099182\n",
      "Compiling results...\n",
      "\n",
      "Using default prior.\n",
      "Making fits...\n",
      "Done!\n",
      "100% complete Time (s):  0.454999923706\n",
      "Compiling results...\n",
      "\n",
      "Using default prior.\n",
      "Making fits...\n",
      "Done!\n",
      "100% complete Time (s):  0.537999868393\n",
      "Compiling results...\n",
      "\n",
      "Using default prior.\n",
      "Making fits...\n",
      "Done!\n",
      "100% complete Time (s):  1.49400019646\n",
      "Compiling results...\n",
      "\n",
      "Using default prior.\n",
      "Making fits...\n",
      "Done!\n",
      "100% complete Time (s):  0.52999997139\n",
      "Compiling results...\n",
      "\n",
      "Using default prior.\n",
      "Making fits...\n",
      "Done!\n",
      "100% complete Time (s):  1.48000001907\n",
      "Compiling results...\n",
      "\n",
      "Using default prior.\n",
      "Making fits...\n",
      "Done!\n",
      "100% complete Time (s):  0.611000061035\n",
      "Compiling results...\n",
      "\n",
      "Using default prior.\n",
      "Making fits...\n",
      "Done!\n",
      "100% complete Time (s):  1.52999997139\n",
      "Compiling results...\n",
      "\n",
      "Using default prior.\n",
      "Making fits...\n",
      "Done!\n",
      "100% complete Time (s):  0.59700012207\n",
      "Compiling results...\n",
      "\n",
      "Using default prior.\n",
      "Making fits...\n",
      "Done!\n",
      "100% complete Time (s):  1.44400000572\n",
      "Compiling results...\n",
      "\n"
     ]
    }
   ],
   "source": [
    "results_dict = {}\n",
    "\n",
    "for fit_type in ['xpt', 'ma', 'xpt-taylor', 'ma-taylor']:#, 'ma-old']:\n",
    "    results_dict[fit_type] = {}\n",
    "    for include_log2 in [True, False]:\n",
    "        results_dict[fit_type][include_log2] = {}\n",
    "        for include_log in [True, False]:\n",
    "            results_dict[fit_type][include_log2][include_log] = {}\n",
    "            for vol in [0, 10]:\n",
    "                results_dict[fit_type][include_log2][include_log][vol] = {}\n",
    "                #print fit_type, order_fit\n",
    "\n",
    "                # Specify fit parameters\n",
    "                p_dict['order']['include_log'] = include_log\n",
    "                p_dict['order']['include_log2'] = include_log2\n",
    "                p_dict['order']['vol'] = vol\n",
    "\n",
    "                p_dict['fit_type'] = fit_type\n",
    "\n",
    "                # Do fit\n",
    "\n",
    "                # Load data\n",
    "                data_loader = dl.data_loader()\n",
    "                fit_data = data_loader.get_fit_data()\n",
    "\n",
    "                # Get prior\n",
    "                prior = None\n",
    "\n",
    "                # Make bootstrapper\n",
    "                bootstrapper = bs.bootstrapper(fit_data, prior=prior, order=p_dict['order'], F2=p_dict['F2'], chain_fits=p_dict['chained'],\n",
    "                                               fit_type=p_dict['fit_type'], bs_N=p_dict['bs_N'], abbrs=p_dict['abbrs'])\n",
    "\n",
    "\n",
    "                results_dict[fit_type][include_log2][include_log][vol]['fit'] = bootstrapper.extrapolate_to_phys_point(include_su2_isospin_corrrection=False)\n",
    "                #results_dict[fit_type][include_log2][include_log][vol]['L5'] = bootstrapper.get_fit_parameters('L_5')\n",
    "                results_dict[fit_type][include_log2][include_log][vol]['info'] = bootstrapper.get_fit_info()\n",
    "                #results_dict[fit_type][include_log2][include_log][vol]['fit'] = \n",
    "                print "
   ]
  },
  {
   "cell_type": "code",
   "execution_count": 18,
   "metadata": {},
   "outputs": [
    {
     "name": "stdout",
     "output_type": "stream",
     "text": [
      "name                                  FK/Fpi            L5             k             p             s\n",
      "---\n",
      "xpt                               1.1811(25)  -0.00035(49)      2.3(2.1)      1.59(39)     -3.32(36)\n",
      "ma                                1.1812(23)   0.00041(57)     -0.8(2.4)      1.18(44)      1.17(40)\n",
      "xpt_FV                            1.1821(27)  -0.00059(49)      3.3(2.1)      1.36(39)     -3.85(36)\n",
      "ma_FV                             1.1811(23)   0.00034(57)     -0.5(2.4)      1.11(44)      0.96(40)\n",
      "xpt_alphaS                        1.1806(38)  -0.00037(50)      2.3(2.1)      1.59(39)     -2.9(2.8)\n",
      "ma_alphaS                         1.1820(36)   0.00043(57)     -0.9(2.4)      1.19(44)      0.4(2.8)\n",
      "xpt_alphaS_logSq                  1.1832(36)  -0.00032(50)      0.1(2.2)      2.24(40)     -2.9(2.8)\n",
      "ma_alphaS_logSq                   1.1855(36)   0.00006(58)     -1.3(2.4)      1.53(44)      0.4(2.8)\n"
     ]
    }
   ],
   "source": [
    "translator_dict = {\n",
    "    'xpt' : 'xpt-ratio', \n",
    "    'xpt-taylor' : 'xpt',\n",
    "    'ma' : 'ma-ratio', \n",
    "    'ma-taylor' : 'ma',\n",
    "}\n",
    "\n",
    "#print \"name   FK/Fpi   L5   k   p   s\"\n",
    "\n",
    "k = 30 - len(\"name\")\n",
    "output = \"name\" +k*' '\n",
    "\n",
    "for param in ['FK/Fpi', 'L5', 'k', 'p', 's']:\n",
    "    k = 14 - len(param)\n",
    "    output += k*\" \" + str(param)\n",
    "\n",
    "print output\n",
    "                        \n",
    "                        \n",
    "print \"---\"\n",
    "\n",
    "#for fit_type in results_dict.keys():\n",
    "    #for include_log2 in results_dict[fit_type].keys():\n",
    "for include_log2 in results_dict['ma'].keys():\n",
    "    for include_log in results_dict[fit_type][include_log2].keys():\n",
    "        for vol in results_dict[fit_type][include_log2][include_log].keys():\n",
    "            for fit_type in ['xpt-taylor', 'ma-taylor']:\n",
    "                \n",
    "                name = translator_dict[fit_type]\n",
    "                if vol > 0:\n",
    "                    name = name + '_FV'\n",
    "                    \n",
    "                if include_log:\n",
    "                    name = name + '_alphaS'\n",
    "                \n",
    "                if include_log2:\n",
    "                    name = name + '_logSq'\n",
    "                    \n",
    "                    \n",
    "                fit = results_dict[fit_type][include_log2][include_log][vol]['fit']\n",
    "                L5 = results_dict[fit_type][include_log2][include_log][vol]['info']['L_5']\n",
    "                Ak = results_dict[fit_type][include_log2][include_log][vol]['info']['A_k']\n",
    "                Ap = results_dict[fit_type][include_log2][include_log][vol]['info']['A_p']\n",
    "                Aa = results_dict[fit_type][include_log2][include_log][vol]['info']['A_a']\n",
    "                \n",
    "                if ((vol==0), include_log, include_log2) in [(1, 1, 1), (1, 1, 0), (1, 0, 0), (0, 0, 0)]:\n",
    "                    if len(name) > 0:\n",
    "                        k = 30 - len(name)\n",
    "                        output = name +k*' '\n",
    "                        \n",
    "                        for param in [fit, L5, Ak, Ap, Aa]:\n",
    "                            k = 14 - len(str(param))\n",
    "                            output += k*\" \" + str(param)\n",
    "                            \n",
    "                        print output\n",
    "                \n",
    "                    \n"
   ]
  },
  {
   "cell_type": "code",
   "execution_count": 23,
   "metadata": {},
   "outputs": [
    {
     "name": "stdout",
     "output_type": "stream",
     "text": [
      "1.13.3\n",
      "2.1.0\n",
      "9.2\n",
      "11.2\n"
     ]
    }
   ],
   "source": [
    "print np.__version__\n",
    "print matplotlib.__version__\n",
    "print gv.__version__\n",
    "print lsqfit.__version__"
   ]
  },
  {
   "cell_type": "code",
   "execution_count": 24,
   "metadata": {},
   "outputs": [
    {
     "ename": "NameError",
     "evalue": "name 'python__version__' is not defined",
     "output_type": "error",
     "traceback": [
      "\u001b[1;31m---------------------------------------------------------------------------\u001b[0m",
      "\u001b[1;31mNameError\u001b[0m                                 Traceback (most recent call last)",
      "\u001b[1;32m<ipython-input-24-c94fd0c2d4f5>\u001b[0m in \u001b[0;36m<module>\u001b[1;34m()\u001b[0m\n\u001b[1;32m----> 1\u001b[1;33m \u001b[1;32mprint\u001b[0m \u001b[0mpython__version__\u001b[0m\u001b[1;33m\u001b[0m\u001b[0m\n\u001b[0m",
      "\u001b[1;31mNameError\u001b[0m: name 'python__version__' is not defined"
     ]
    }
   ],
   "source": [
    "print python__version__"
   ]
  },
  {
   "cell_type": "code",
   "execution_count": null,
   "metadata": {
    "collapsed": true
   },
   "outputs": [],
   "source": []
  }
 ],
 "metadata": {
  "kernelspec": {
   "display_name": "Python 2",
   "language": "python",
   "name": "python2"
  },
  "language_info": {
   "codemirror_mode": {
    "name": "ipython",
    "version": 2
   },
   "file_extension": ".py",
   "mimetype": "text/x-python",
   "name": "python",
   "nbconvert_exporter": "python",
   "pygments_lexer": "ipython2",
   "version": "2.7.14"
  }
 },
 "nbformat": 4,
 "nbformat_minor": 2
}
