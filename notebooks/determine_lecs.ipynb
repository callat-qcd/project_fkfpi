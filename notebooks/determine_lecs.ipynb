{
 "cells": [
  {
   "cell_type": "markdown",
   "metadata": {},
   "source": [
    "### Import Modules"
   ]
  },
  {
   "cell_type": "code",
   "execution_count": 19,
   "metadata": {},
   "outputs": [],
   "source": [
    "import numpy as np\n",
    "import gvar as gv\n",
    "import lsqfit\n",
    "import sys\n",
    "import os\n",
    "import matplotlib\n",
    "import matplotlib.pyplot as plt\n",
    "import pandas as pd\n",
    "import h5py\n",
    "import time\n",
    "\n",
    "sys.path.append(\"../\")\n",
    "from fitter import data_loader as dl\n",
    "from fitter import bootstrapper as bs\n",
    "from fitter import fitter as fit\n",
    "from fitter import special_functions as sf\n",
    "\n",
    "for j in range(10): # Sometimes this needs to be loaded twice...\n",
    "    matplotlib.rcParams['figure.figsize'] = [10, 10]"
   ]
  },
  {
   "cell_type": "code",
   "execution_count": 88,
   "metadata": {},
   "outputs": [
    {
     "data": {
      "text/plain": [
       "<module 'fitter.special_functions' from '../fitter\\special_functions.pyc'>"
      ]
     },
     "execution_count": 88,
     "metadata": {},
     "output_type": "execute_result"
    }
   ],
   "source": [
    "reload(bs)\n",
    "reload(dl)\n",
    "reload(fit)\n",
    "reload(sf)"
   ]
  },
  {
   "cell_type": "markdown",
   "metadata": {},
   "source": [
    "### Specify fit parameters"
   ]
  },
  {
   "cell_type": "code",
   "execution_count": 89,
   "metadata": {
    "collapsed": true
   },
   "outputs": [],
   "source": [
    "p_dict = {\n",
    "    'order' : {\n",
    "        'fit' : 'nnlo', # 'nlo', 'nnlo', or 'nnnlo'\n",
    "        'vol' : 10, # max 10\n",
    "        'exclude' : [], # put LECs here\n",
    "        'include_log' : True, # alphaS\n",
    "        'include_log2' : True\n",
    "    }, \n",
    "    'bs_N' : 1,  # if 0, use full list\n",
    "    'fit_type' : 'ma', #'ma', 'ma-ratio, 'xpt', or 'xpt-ratio'; also 'simultaneous', 'ma-old'\n",
    "    'F2' : 'FpiFpi', #'FKFpi', 'FpiFpi', 'FKFK', 'F0F0' (HPQCD choice)\n",
    "    'chained' : False,\n",
    "    'bias_correct' : True,\n",
    "    'include_su2_isospin_corrrection' : False,\n",
    "    \n",
    "    'use_prior' : True,\n",
    "    'abbrs' : [u'a09m220', u'a09m310', u'a09m350', u'a09m400', u'a12m130',\n",
    "           u'a12m220',  u'a12m220S', u'a12m220L', u'a12m310', u'a12m350',\n",
    "           u'a12m400',  u'a15m135XL', u'a15m220', u'a15m310', u'a15m350', 'a15m400'], # u'a15m130'\n",
    "    \n",
    "    'make_plots' : False,\n",
    "    'show_error_ellipses' : False,\n",
    "    'show_bs_histograms' : False,\n",
    "    \n",
    "    'save_results' : False,\n",
    "}"
   ]
  },
  {
   "cell_type": "code",
   "execution_count": 90,
   "metadata": {
    "scrolled": false
   },
   "outputs": [
    {
     "name": "stdout",
     "output_type": "stream",
     "text": [
      "D:\\Documents\\School Work\\Research\\fk-fpi\\priors\\ma.csv\n",
      "Making fits...\n",
      "Done!\n",
      "100% complete Time (s):  2.47599983215\n",
      "Compiling results...\n",
      "\n",
      "Model: ma_FpiFpi_nnlo_FV_alphaS_logSq\n",
      "\n",
      "Fitting to nnlo \n",
      " with volume corrections O(10) \n",
      " chained: False \n",
      "Fitted/[FLAG] values at physical point (including SU(2) isospin corrections: False):\n",
      "\n",
      "F_K / F_pi = 1.1893(31) [1.1956(19)]   (delta_su2 = -0.00406(69))\n",
      "\n",
      "  Parameter    Result[0] / Prior[1]    Parameter    Result[0] / Prior[1]\n",
      "-----------------------------------  -----------------------------------\n",
      "   A_loga 0               0.50 (73)            1               0.0 (1.6)\n",
      "          1               0.00 (87)        A_a 0               0.70 (51)\n",
      "      L_5 0           -0.00030 (33)            1               0.00 (87)\n",
      "          1             0.0000 (50)        A_p 0               1.90 (15)\n",
      "      A_k 0              -0.3 (1.2)            1               0.0 (1.6)\n",
      "---\n",
      "boot0 fit results:\n",
      "Least Square Fit:\n",
      "  chi2/dof [dof] = 1.3 [16]    Q = 0.18    logGBF = 63.805\n",
      "\n",
      "Settings:\n",
      "  svdcut/n = 1e-12/0    tol = (1e-08*,1e-10,1e-10)    (itns/time = 10/1.6)\n",
      "  fitter = scipy_least_squares    method = trf\n",
      "\n",
      "\n",
      "Total time (s):  5.25100016594 \n",
      "\n"
     ]
    }
   ],
   "source": [
    "t0 = time.time()\n",
    "\n",
    "# Load data\n",
    "data_loader = dl.data_loader()\n",
    "fit_data = data_loader.get_fit_data()\n",
    "\n",
    "# Get prior\n",
    "prior = None\n",
    "if p_dict['use_prior']:\n",
    "    prior = data_loader.get_prior(fit_type=p_dict['fit_type'], F2=p_dict['F2'], include_FV=(p_dict['order']['vol']>0), \n",
    "                                 include_alphaS=p_dict['order']['include_log'], include_logSq=p_dict['order']['include_log2'])\n",
    "\n",
    "# Make bootstrapper\n",
    "bootstrapper = bs.bootstrapper(\n",
    "    fit_data, prior=prior, order=p_dict['order'], F2=p_dict['F2'], chain_fits=p_dict['chained'], \n",
    "    include_su2_isospin_corrrection=p_dict['include_su2_isospin_corrrection'],\n",
    "    fit_type=p_dict['fit_type'], bs_N=p_dict['bs_N'], abbrs=p_dict['abbrs'], bias_correct=p_dict['bias_correct']\n",
    ")\n",
    "\n",
    "if p_dict['make_plots']:\n",
    "    data_loader.save_plots(\n",
    "        bootstrapper.make_plots(\n",
    "            show_error_ellipses=p_dict['show_error_ellipses'], \n",
    "            show_bootstrap_histograms=p_dict['show_bs_histograms']),\n",
    "        output_filename='fits/'+bootstrapper.fit_type+'_'+bootstrapper.order['fit']\n",
    "    )\n",
    "else:\n",
    "    print bootstrapper\n",
    "    \n",
    "if p_dict['save_results']:\n",
    "    data_loader.save_fit_info(bootstrapper.get_fit_info())\n",
    "    \n",
    "    \n",
    "t1 = time.time()\n",
    "\n",
    "print \"\\nTotal time (s): \", t1 - t0, \"\\n\""
   ]
  },
  {
   "cell_type": "code",
   "execution_count": 71,
   "metadata": {},
   "outputs": [
    {
     "name": "stdout",
     "output_type": "stream",
     "text": [
      "a09m220 0.2672(67)\n",
      "a09m310 0.2672(67)\n",
      "a09m350 0.2672(67)\n",
      "a09m400 0.2672(67)\n",
      "a12m130 0.5185(94)\n",
      "a12m220 0.5185(94)\n",
      "a12m220L 0.5185(94)\n",
      "a12m220S 0.5185(94)\n",
      "a12m310 0.5185(94)\n",
      "a12m350 0.5185(94)\n",
      "a12m400 0.5185(94)\n",
      "a15m135XL 0.801(19)\n",
      "a15m220 0.801(19)\n",
      "a15m310 0.801(19)\n",
      "a15m350 0.801(19)\n",
      "a15m400 0.801(19)\n"
     ]
    }
   ],
   "source": [
    "def test(self):\n",
    "    w0_dict = {\n",
    "        'a15' : gv.gvar('0.1511(18)'),\n",
    "        'a12' : gv.gvar('0.1216(11)'),\n",
    "        'a09' : gv.gvar('0.0873(11)')\n",
    "    }\n",
    "    \n",
    "    gv_data = {}\n",
    "    \n",
    "    F0 = 131.5 / np.sqrt(2)\n",
    "    hbar_c = 197.327\n",
    "    \n",
    "    abbrs = self.abbrs\n",
    "    for abbr in abbrs:\n",
    "        gv_data[abbr] ={}\n",
    "        gv_data[abbr]['lam2_chi'] = (4 * np.pi *w0_dict[abbr[:3]] *F0 / hbar_c)**2\n",
    "        print abbr, gv_data[abbr]['lam2_chi']\n",
    "\n",
    "test(bootstrapper)"
   ]
  },
  {
   "cell_type": "code",
   "execution_count": 68,
   "metadata": {},
   "outputs": [
    {
     "data": {
      "text/plain": [
       "0.2899(11)"
      ]
     },
     "execution_count": 68,
     "metadata": {},
     "output_type": "execute_result"
    }
   ],
   "source": [
    "bootstrapper.fit_data['a09m220']['lam2_chi']"
   ]
  },
  {
   "cell_type": "code",
   "execution_count": 86,
   "metadata": {},
   "outputs": [
    {
     "data": {
      "text/plain": [
       "{u'a09m220': 0.2899(11),\n",
       " u'a09m310': 0.32727(98),\n",
       " u'a09m350': 0.3434(12),\n",
       " u'a09m400': 0.3694(11),\n",
       " u'a12m130': 0.5118(25),\n",
       " u'a12m220': 0.5441(24),\n",
       " u'a12m220L': 0.5463(24),\n",
       " u'a12m220S': 0.5434(29),\n",
       " u'a12m310': 0.5950(21),\n",
       " u'a12m350': 0.6266(29),\n",
       " u'a12m400': 0.6669(23),\n",
       " u'a15m135XL': 0.8069(37),\n",
       " u'a15m220': 0.8362(19),\n",
       " u'a15m310': 0.8954(21),\n",
       " u'a15m350': 0.9339(27),\n",
       " 'a15m400': 0.9950(31)}"
      ]
     },
     "execution_count": 86,
     "metadata": {},
     "output_type": "execute_result"
    }
   ],
   "source": [
    "{abbr : bootstrapper.fit_data[abbr]['lam2_chi'] for abbr in bootstrapper.fit_data.keys()}"
   ]
  },
  {
   "cell_type": "code",
   "execution_count": 61,
   "metadata": {},
   "outputs": [
    {
     "data": {
      "text/plain": [
       "'a09'"
      ]
     },
     "execution_count": 61,
     "metadata": {},
     "output_type": "execute_result"
    }
   ],
   "source": [
    "'a09m220'[:3]"
   ]
  },
  {
   "cell_type": "code",
   "execution_count": 57,
   "metadata": {},
   "outputs": [
    {
     "data": {
      "text/plain": [
       "214.64777129873062"
      ]
     },
     "execution_count": 57,
     "metadata": {},
     "output_type": "execute_result"
    }
   ],
   "source": [
    "hbar_c = 197.327\n",
    "\n",
    "fit_data['a09m220']['mpi'][0]* hbar_c / (0.09 )"
   ]
  },
  {
   "cell_type": "code",
   "execution_count": null,
   "metadata": {
    "collapsed": true
   },
   "outputs": [],
   "source": []
  },
  {
   "cell_type": "code",
   "execution_count": null,
   "metadata": {
    "collapsed": true
   },
   "outputs": [],
   "source": []
  },
  {
   "cell_type": "code",
   "execution_count": null,
   "metadata": {
    "collapsed": true
   },
   "outputs": [],
   "source": []
  },
  {
   "cell_type": "code",
   "execution_count": null,
   "metadata": {
    "collapsed": true
   },
   "outputs": [],
   "source": []
  }
 ],
 "metadata": {
  "kernelspec": {
   "display_name": "Python 2",
   "language": "python",
   "name": "python2"
  },
  "language_info": {
   "codemirror_mode": {
    "name": "ipython",
    "version": 2
   },
   "file_extension": ".py",
   "mimetype": "text/x-python",
   "name": "python",
   "nbconvert_exporter": "python",
   "pygments_lexer": "ipython2",
   "version": "2.7.14"
  }
 },
 "nbformat": 4,
 "nbformat_minor": 2
}
