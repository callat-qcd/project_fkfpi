{
 "cells": [
  {
   "cell_type": "markdown",
   "metadata": {},
   "source": [
    "### Import Modules"
   ]
  },
  {
   "cell_type": "code",
   "execution_count": 3,
   "metadata": {},
   "outputs": [],
   "source": [
    "import numpy as np\n",
    "import gvar as gv\n",
    "import lsqfit\n",
    "import sys\n",
    "import os\n",
    "import matplotlib\n",
    "import matplotlib.pyplot as plt\n",
    "import pandas as pd\n",
    "import h5py\n",
    "import time\n",
    "\n",
    "\n",
    "sys.path.append(\"../\")\n",
    "import fitter.data_loader as dl\n",
    "import fitter.bootstrapper as bs\n",
    "import fitter.fitter as fit\n",
    "import fitter.special_functions as sf\n",
    "\n",
    "for j in range(10): # Sometimes this needs to be loaded twice...\n",
    "    matplotlib.rcParams['figure.figsize'] = [10, 10]"
   ]
  },
  {
   "cell_type": "code",
   "execution_count": 12,
   "metadata": {},
   "outputs": [
    {
     "data": {
      "text/plain": [
       "<module 'fitter.bootstrapper' from '../fitter/bootstrapper.py'>"
      ]
     },
     "execution_count": 12,
     "metadata": {},
     "output_type": "execute_result"
    }
   ],
   "source": [
    "from importlib import reload\n",
    "reload(dl)\n",
    "reload(sf)\n",
    "reload(fit)\n",
    "reload(bs)"
   ]
  },
  {
   "cell_type": "markdown",
   "metadata": {},
   "source": [
    "### Specify fit parameters"
   ]
  },
  {
   "cell_type": "code",
   "execution_count": 13,
   "metadata": {},
   "outputs": [],
   "source": [
    "p_dict = {\n",
    "    'order' : {\n",
    "        'fit' : 'nnlo', # 'nlo', 'nnlo'\n",
    "        'vol' : 0, # max 10\n",
    "        'exclude' : [], # put LECs here\n",
    "        \n",
    "        # semi-nnlo corrections\n",
    "        'include_alpha_s' : True,\n",
    "        'include_log' : True, \n",
    "        'include_log2' : True,\n",
    "        'include_sunset' : True,\n",
    "        \n",
    "        # nnnlo corrections\n",
    "        'include_latt_n3lo' : True,\n",
    "    }, \n",
    "    'fit_type' : 'xpt-ratio', #'ma', 'ma-ratio, 'xpt', or 'xpt-ratio'; experimental: 'simultaneous', 'ma-old'\n",
    "    'F2' : 'FKFpi', #'FKFpi', 'FpiFpi', 'FKFK', 'F0F0' (HPQCD choice)\n",
    "    'use_bijnens_central_value' : False,\n",
    "    \n",
    "    'use_prior' : True,\n",
    "    'bias_correct' : True,\n",
    "    'include_su2_isospin_corrrection' : False,\n",
    "    'abbrs' : [u'a06m310L', u'a09m220', u'a09m310', u'a09m350', u'a09m400', u'a12m130',\n",
    "           u'a12m220',  u'a12m220S', u'a12m220L', u'a12m310', u'a12m350',\n",
    "           u'a12m400',  u'a15m135XL', u'a15m220', u'a15m310', u'a15m350', 'a15m400'], # u'a15m130'\n",
    "    \n",
    "    'make_plots' : False,\n",
    "    'show_error_ellipses' : False,\n",
    "    'show_bs_histograms' : False,\n",
    "    \n",
    "    'save_results' : False,\n",
    "    'save_pickles' : False,\n",
    "    'output_name' : 'fit_results',\n",
    "}"
   ]
  },
  {
   "cell_type": "code",
   "execution_count": 14,
   "metadata": {},
   "outputs": [
    {
     "name": "stdout",
     "output_type": "stream",
     "text": [
      "/mnt/Google/Documents/School Work/Research/fk-fpi/priors/xpt-ratio.csv\n",
      "Making fits...\n",
      "Done!\n",
      "100% complete\n",
      "Time (s):  15.096856117248535\n",
      "Compiling results...\n",
      "\n",
      "Model: xpt-ratio_FKFpi_nnlo_log_logSq_sunset_alphaS_a4\n",
      "\n",
      "Fitting to nnlo \n",
      " with volume corrections O(0) \n",
      "Fitted/[FLAG] values at physical point (including SU(2) isospin corrections: False):\n",
      "\n",
      "F_K / F_pi = 1.1899(51) [1.1956(19)]   (delta_su2 = -0.00408(70))\n",
      "\n",
      "  Parameter    Result[0] / Prior[1]    Parameter    Result[0] / Prior[1]\n",
      "-----------------------------------  -----------------------------------\n",
      "      A_a 0              -6.3 (3.5)            1            0.00000 (22)\n",
      "          1               0.0 (6.5)        L_3 0            -0.0005 (28)\n",
      "     A_aa 0                 56 (22)            1             0.0000 (31)\n",
      "          1                  0 (54)        L_4 0           -0.00008 (34)\n",
      "      A_k 0               2.4 (2.5)            1             0.0000 (50)\n",
      "          1               0.0 (5.8)        L_5 0             0.0006 (11)\n",
      "   A_loga 0              -2.3 (5.5)            1             0.0000 (50)\n",
      "          1               0.0 (6.5)        L_6 0             -3(100)e-06\n",
      "      A_p 0               6.6 (1.9)            1            0.00000 (10)\n",
      "          1               0.0 (5.8)        L_7 0           -0.00009 (33)\n",
      "      L_1 0             -7(240)e-06            1            0.00000 (34)\n",
      "          1            0.00000 (24)        L_8 0           -0.00001 (14)\n",
      "      L_2 0             -7(220)e-06            1            0.00000 (14)\n",
      "---\n",
      "boot0 fit results:\n",
      "Least Square Fit:\n",
      "  chi2/dof [dof] = 1.4 [17]    Q = 0.14    logGBF = 59.448\n",
      "\n",
      "Settings:\n",
      "  svdcut/n = 1e-12/0    tol = (1e-08*,1e-10,1e-10)    (itns/time = 34/15.1)\n",
      "\n",
      "\n",
      "Total time (s):  16.180505752563477 \n",
      "\n"
     ]
    }
   ],
   "source": [
    "t0 = time.time()\n",
    "\n",
    "# Load data\n",
    "data_loader = dl.data_loader()\n",
    "fit_data = data_loader.get_fit_data()\n",
    "phys_point_data = data_loader.get_phys_point_data()\n",
    "\n",
    "# Get prior\n",
    "prior = None\n",
    "if p_dict['use_prior']:\n",
    "    prior = data_loader.get_prior(fit_type=p_dict['fit_type'], order=p_dict['order']['fit'], F2=p_dict['F2'], \n",
    "                  include_log=p_dict['order']['include_log'], include_log2=p_dict['order']['include_log2'], \n",
    "                  include_sunset=p_dict['order']['include_sunset'], include_alpha_s=p_dict['order']['include_alpha_s'], \n",
    "                  include_latt_n3lo=p_dict['order']['include_latt_n3lo'], include_FV=(p_dict['order']['vol'] > 6), \n",
    "                  use_bijnens_central_value=p_dict['use_bijnens_central_value']\n",
    "             )\n",
    "    \n",
    "# Make bootstrapper\n",
    "bootstrapper = bs.bootstrapper(fit_data, phys_point_data, prior=prior, **p_dict)\n",
    "\n",
    "if p_dict['make_plots']:\n",
    "    data_loader.save_plots(\n",
    "        bootstrapper.make_plots(\n",
    "            show_error_ellipses=p_dict['show_error_ellipses'], \n",
    "            show_bootstrap_histograms=p_dict['show_bs_histograms']),\n",
    "        output_filename='fits/'+bootstrapper.fit_type+'_'+bootstrapper.order['fit']\n",
    "    )\n",
    "else:\n",
    "    print(bootstrapper)\n",
    "    \n",
    "if p_dict['save_results']:\n",
    "    data_loader.save_fit_info(bootstrapper.get_fit_info(),\n",
    "                              output_name=p_dict['output_name'], save_pickles=p_dict['save_pickles'])\n",
    "\n",
    "    \n",
    "    \n",
    "t1 = time.time()\n",
    "\n",
    "print(\"\\nTotal time (s): \", t1 - t0, \"\\n\")"
   ]
  },
  {
   "cell_type": "code",
   "execution_count": null,
   "metadata": {},
   "outputs": [],
   "source": []
  },
  {
   "cell_type": "code",
   "execution_count": 15,
   "metadata": {},
   "outputs": [
    {
     "name": "stdout",
     "output_type": "stream",
     "text": [
      "FK/Fpi = 1.1899(51) \n",
      "\n",
      "Partial Errors:\n",
      "               FK/Fpi\n",
      "---------------------\n",
      "       A_a:   0.00221\n",
      "      A_aa:   0.00123\n",
      "       A_k:   0.00037\n",
      "    A_loga:   0.00207\n",
      "       A_p:   0.00032\n",
      "       L_1:   0.00007\n",
      "       L_2:   0.00014\n",
      "       L_3:   0.00115\n",
      "       L_4:   0.00012\n",
      "       L_5:   0.00034\n",
      "       L_6:   0.00002\n",
      "       L_7:   0.00043\n",
      "       L_8:   0.00011\n",
      "       mpi:   0.00011\n",
      "        mk:   0.00017\n",
      "  lam2_chi:   0.00085\n",
      "input_data:   0.00355\n",
      "---------------------\n",
      "     total:   0.00510\n",
      "\n"
     ]
    },
    {
     "data": {
      "text/plain": [
       "{'disc': 0.0032681232514279036,\n",
       " 'chiral': 0.0013889266897505069,\n",
       " 'pp_input': 0.0008695804807734333,\n",
       " 'stat': 0.0035514807006431282}"
      ]
     },
     "execution_count": 15,
     "metadata": {},
     "output_type": "execute_result"
    }
   ],
   "source": [
    "bootstrapper.get_error_budget(print_budget=True)"
   ]
  },
  {
   "cell_type": "code",
   "execution_count": null,
   "metadata": {},
   "outputs": [],
   "source": []
  },
  {
   "cell_type": "code",
   "execution_count": 30,
   "metadata": {},
   "outputs": [
    {
     "name": "stdout",
     "output_type": "stream",
     "text": [
      "Saving...\n",
      "a/w0\n",
      "a\n",
      "L\n",
      "alpha_s\n",
      "mpi\n",
      "mk\n",
      "mss\n",
      "a2DI\n",
      "Fpi\n",
      "FK\n",
      "w0\n",
      "FK/Fpi_pm\n",
      "mju\n",
      "mru\n",
      "mjs\n",
      "mrs\n",
      "lam2_chi_kpi\n",
      "lam2_chi_pipi\n",
      "lam2_chi_kk\n",
      "lam2_chi_00\n",
      "lam2_chi\n",
      "Done.\n"
     ]
    }
   ],
   "source": [
    "    data_loader.save_fit_info(bootstrapper.get_fit_info(),\n",
    "                              output_name='test', save_pickles=True)"
   ]
  },
  {
   "cell_type": "code",
   "execution_count": 60,
   "metadata": {},
   "outputs": [
    {
     "name": "stdout",
     "output_type": "stream",
     "text": [
      "FK/Fpi = 1.1899(51) \n",
      "\n",
      "Partial Errors:\n",
      "               FK/Fpi\n",
      "---------------------\n",
      "       A_a:   0.00221\n",
      "      A_aa:   0.00123\n",
      "       A_k:   0.00037\n",
      "    A_loga:   0.00207\n",
      "       A_p:   0.00032\n",
      "       L_1:   0.00007\n",
      "       L_2:   0.00014\n",
      "       L_3:   0.00115\n",
      "       L_4:   0.00012\n",
      "       L_5:   0.00034\n",
      "       L_6:   0.00002\n",
      "       L_7:   0.00043\n",
      "       L_8:   0.00011\n",
      "       mpi:   0.00011\n",
      "        mk:   0.00017\n",
      "  lam2_chi:   0.00085\n",
      "input_data:   0.00355\n",
      "---------------------\n",
      "     total:   0.00510\n",
      "\n"
     ]
    },
    {
     "data": {
      "text/plain": [
       "{'disc': 0.0032681232514279036,\n",
       " 'chiral': 0.0013889266897505069,\n",
       " 'pp_input': 0.0008695804807734333,\n",
       " 'stat': 0.0035514807006431282}"
      ]
     },
     "execution_count": 60,
     "metadata": {},
     "output_type": "execute_result"
    }
   ],
   "source": [
    "    def get_error_budget(self, print_budget=False):\n",
    "        output = {}\n",
    "\n",
    "        fit_info = self.get_fit_info()\n",
    "        fk_fpi = fit_info['FK/Fpi']\n",
    "\n",
    "        inputs = {}\n",
    "        inputs.update(fit_info['prior'])\n",
    "        output['disc'] = fk_fpi.partialsdev([fit_info['prior'][key]\n",
    "                                             for key in ['A_a', 'A_aa', 'A_loga'] if key in fit_info['prior']])\n",
    "        output['chiral'] = fk_fpi.partialsdev([fit_info['prior'][key]\n",
    "                                               for key in (set(fit_info['prior']) - set(['A_a', 'A_aa', 'A_loga']))])\n",
    "\n",
    "        phys_point = {}\n",
    "        phys_point['mpi'] = fit_info['phys_point']['mpi']\n",
    "        phys_point['mk'] = fit_info['phys_point']['mk']\n",
    "        phys_point['lam2_chi'] = fit_info['phys_point']['lam2_chi']\n",
    "        inputs.update(phys_point)\n",
    "        output['pp_input'] = fk_fpi.partialsdev(phys_point)\n",
    "\n",
    "\n",
    "        # Since the input data is correlated,\n",
    "        # we only need to use a single variable as a proxy\n",
    "        # for all of the variables; we use 'lam2_chi'\n",
    "        prior = self.get_fit().prior\n",
    "        input_data = {}\n",
    "        input_data['input_data'] = prior['lam2_chi']\n",
    "        inputs.update(input_data)\n",
    "        output['stat'] = fk_fpi.partialsdev(input_data)\n",
    "\n",
    "\n",
    "        if print_budget:\n",
    "            print('FK/Fpi =', fit_info['FK/Fpi'], '\\n')\n",
    "            print(gv.fmt_errorbudget(outputs={'FK/Fpi' : fk_fpi}, inputs=inputs, percent=False, ndecimal=5, verify=True))\n",
    "\n",
    "        return output\n",
    "    \n",
    "    get_error_budget(bootstrapper, print_budget=True)"
   ]
  },
  {
   "cell_type": "code",
   "execution_count": 113,
   "metadata": {},
   "outputs": [
    {
     "name": "stdout",
     "output_type": "stream",
     "text": [
      "0.0\n",
      "0.005097019304120683\n"
     ]
    }
   ],
   "source": [
    "fit_info = data_loader.get_fit_info('test')['xpt-ratio_FKFpi_nnlo_log_logSq_sunset_alphaS_a4']\n",
    "print(fit_info['FK/Fpi'].deriv(fit_info['prior']['L_5']))\n",
    "print(fit_info['FK/Fpi'].partialsdev([fit_info['prior']['L_5']]))"
   ]
  },
  {
   "cell_type": "code",
   "execution_count": 112,
   "metadata": {},
   "outputs": [
    {
     "name": "stdout",
     "output_type": "stream",
     "text": [
      "0.06803861458414184\n",
      "0.0003401930729207092\n"
     ]
    }
   ],
   "source": [
    "fit_info = bootstrapper.get_fit_info()\n",
    "print(fit_info['FK/Fpi'].deriv(fit_info['prior']['L_5']))\n",
    "print(fit_info['FK/Fpi'].partialsdev([fit_info['prior']['L_5']]))"
   ]
  },
  {
   "cell_type": "code",
   "execution_count": null,
   "metadata": {},
   "outputs": [],
   "source": []
  },
  {
   "cell_type": "code",
   "execution_count": 50,
   "metadata": {},
   "outputs": [
    {
     "name": "stdout",
     "output_type": "stream",
     "text": [
      "{'A_a': 0.0(6.5), 'A_aa': 0(54), 'A_k': 0.0(5.8), 'A_loga': 0.0(6.5), 'A_p': 0.0(5.8), 'L_1': 0.00000(24), 'L_2': 0.00000(22), 'L_3': 0.0000(31), 'L_4': 0.0000(50), 'L_5': 0.0000(50), 'L_6': 0.00000(10), 'L_7': 0.00000(34), 'L_8': 0.00000(14), 'mpi': 134.80(30), 'mk': 494.20(30), 'lam2_chi': 1.599(12)e+06}\n",
      "FK/Fpi = 1.1899(51) \n",
      "\n",
      "Partial Errors:\n",
      "              FK/Fpi\n",
      "--------------------\n",
      "      A_a:   0.00221\n",
      "     A_aa:   0.00123\n",
      "      A_k:   0.00037\n",
      "   A_loga:   0.00207\n",
      "      A_p:   0.00032\n",
      "      L_1:   0.00007\n",
      "      L_2:   0.00014\n",
      "      L_3:   0.00115\n",
      "      L_4:   0.00012\n",
      "      L_5:   0.00034\n",
      "      L_6:   0.00002\n",
      "      L_7:   0.00043\n",
      "      L_8:   0.00011\n",
      "      mpi:   0.00011\n",
      "       mk:   0.00017\n",
      " lam2_chi:   0.00085\n",
      "--------------------\n",
      "    total:   0.00510\n",
      "\n"
     ]
    },
    {
     "name": "stderr",
     "output_type": "stream",
     "text": [
      "<ipython-input-50-05ac27f1e2d1>:35: UserWarning: FK/Fpi partial error 0.0036559427168060426  !=  total error 0.005097019304120683\n",
      "  print(gv.fmt_errorbudget(outputs={'FK/Fpi' : fk_fpi}, inputs=inputs, percent=False, ndecimal=5, verify=True))\n"
     ]
    },
    {
     "data": {
      "text/plain": [
       "{'disc': 0.0032681232514279036,\n",
       " 'chiral': 0.0013889266897505069,\n",
       " 'pp_input': 0.0008695804807734333}"
      ]
     },
     "execution_count": 50,
     "metadata": {},
     "output_type": "execute_result"
    }
   ],
   "source": [
    "    def get_error_budget(fit_info, print_budget=False):\n",
    "        output = {}\n",
    "        fk_fpi = fit_info['FK/Fpi']\n",
    "\n",
    "        inputs = {}\n",
    "        #inputs.update(fit_info['prior'])\n",
    "        for key in fit_info['prior']:\n",
    "            inputs[key] = fit_info['prior'][key]\n",
    "        output['disc'] = fk_fpi.partialsdev([fit_info['prior'][key]\n",
    "                                             for key in ['A_a', 'A_aa', 'A_loga'] if key in fit_info['prior']])\n",
    "        output['chiral'] = fk_fpi.partialsdev([fit_info['prior'][key]\n",
    "                                               for key in (set(fit_info['prior']) - set(['A_a', 'A_aa', 'A_loga']))])\n",
    "\n",
    "        phys_point = {}\n",
    "        phys_point['mpi'] = fit_info['phys_point']['mpi']\n",
    "        phys_point['mk'] = fit_info['phys_point']['mk']\n",
    "        phys_point['lam2_chi'] = fit_info['phys_point']['lam2_chi']\n",
    "        inputs.update(phys_point)\n",
    "        output['pp_input'] = fk_fpi.partialsdev(phys_point)\n",
    "\n",
    "\n",
    "        # Since the input data is correlated,\n",
    "        # we only need to use a single variable as a proxy\n",
    "        # for all of the variables; we use 'lam2_chi'\n",
    "        #prior = self.get_fit().prior\n",
    "        #input_data = {}\n",
    "        #input_data['input_data'] = prior['lam2_chi']\n",
    "        #inputs.update(input_data)\n",
    "        #output['stat'] = fk_fpi.partialsdev(input_data)\n",
    "        print(inputs)\n",
    "\n",
    "\n",
    "        if print_budget:\n",
    "            print('FK/Fpi =', fit_info['FK/Fpi'], '\\n')\n",
    "            print(gv.fmt_errorbudget(outputs={'FK/Fpi' : fk_fpi}, inputs=inputs, percent=False, ndecimal=5, verify=True))\n",
    "\n",
    "        return output\n",
    "    \n",
    "    get_error_budget(bootstrapper.get_fit_info(), print_budget=True)"
   ]
  },
  {
   "cell_type": "code",
   "execution_count": 96,
   "metadata": {},
   "outputs": [
    {
     "name": "stdout",
     "output_type": "stream",
     "text": [
      "[[ 1.          0.14852927  0.16854288  0.15795649 -0.14118969]\n",
      " [ 0.14852927  1.          0.78017949  0.40069967 -0.32779122]\n",
      " [ 0.16854288  0.78017949  1.          0.09405687  0.00951327]\n",
      " [ 0.15795649  0.40069967  0.09405687  1.         -0.99295323]\n",
      " [-0.14118969 -0.32779122  0.00951327 -0.99295323  1.        ]]\n"
     ]
    }
   ],
   "source": [
    "def test(self):\n",
    "    p = self.get_fit_info()['posterior']\n",
    "    \n",
    "    print(gv.evalcorr([p['A_a'], p['A_k'], p['A_p'], p['L_4'], p['L_5']]))\n",
    "    \n",
    "test(bootstrapper)"
   ]
  },
  {
   "cell_type": "code",
   "execution_count": 91,
   "metadata": {},
   "outputs": [
    {
     "name": "stdout",
     "output_type": "stream",
     "text": [
      "{('A_a', 'A_a'): array([[1.]]),('A_a', 'A_aa'): array([[-0.17241389]]),('A_a', 'A_k'): array([[0.14852927]]),('A_a', 'A_loga'): array([[-0.88879273]]),('A_a', 'A_p'): array([[0.16854288]]),('A_a', 'L_1'): array([[-0.00492822]]),('A_a', 'L_2'): array([[-0.00841322]]),('A_a', 'L_3'): array([[-0.06826485]]),('A_a', 'L_4'): array([[0.15795649]]),('A_a', 'L_5'): array([[-0.14118969]]),('A_a', 'L_6'): array([[-0.00303813]]),('A_a', 'L_7'): array([[-0.02727483]]),('A_a', 'L_8'): array([[-0.00830673]]),('A_aa', 'A_a'): array([[-0.17241389]]),('A_aa', 'A_aa'): array([[1.]]),('A_aa', 'A_k'): array([[-0.49685592]]),('A_aa', 'A_loga'): array([[-0.28948502]]),('A_aa', 'A_p'): array([[-0.37722297]]),('A_aa', 'L_1'): array([[0.01402727]]),('A_aa', 'L_2'): array([[0.02398072]]),('A_aa', 'L_3'): array([[0.19645954]]),('A_aa', 'L_4'): array([[-0.414266]]),('A_aa', 'L_5'): array([[0.37461416]]),('A_aa', 'L_6'): array([[0.00915482]]),('A_aa', 'L_7'): array([[0.07557115]]),('A_aa', 'L_8'): array([[0.02319223]]),('A_k', 'A_a'): array([[0.14852927]]),('A_k', 'A_aa'): array([[-0.49685592]]),('A_k', 'A_k'): array([[1.]]),('A_k', 'A_loga'): array([[0.01904673]]),('A_k', 'A_p'): array([[0.78017949]]),('A_k', 'L_1'): array([[0.02017376]]),('A_k', 'L_2'): array([[0.00803623]]),('A_k', 'L_3'): array([[0.03280101]]),('A_k', 'L_4'): array([[0.40069967]]),('A_k', 'L_5'): array([[-0.32779122]]),('A_k', 'L_6'): array([[0.05644689]]),('A_k', 'L_7'): array([[0.01286632]]),('A_k', 'L_8'): array([[0.03921271]]),('A_loga', 'A_a'): array([[-0.88879273]]),('A_loga', 'A_aa'): array([[-0.28948502]]),('A_loga', 'A_k'): array([[0.01904673]]),('A_loga', 'A_loga'): array([[1.]]),('A_loga', 'A_p'): array([[-0.03279364]]),('A_loga', 'L_1'): array([[-0.00097862]]),('A_loga', 'L_2'): array([[-0.00230446]]),('A_loga', 'L_3'): array([[-0.02214056]]),('A_loga', 'L_4'): array([[0.00880599]]),('A_loga', 'L_5'): array([[-0.01082162]]),('A_loga', 'L_6'): array([[-9.55958063e-05]]),('A_loga', 'L_7'): array([[-0.00802414]]),('A_loga', 'L_8'): array([[-0.00157255]]),('A_p', 'A_a'): array([[0.16854288]]),('A_p', 'A_aa'): array([[-0.37722297]]),('A_p', 'A_k'): array([[0.78017949]]),('A_p', 'A_loga'): array([[-0.03279364]]),('A_p', 'A_p'): array([[1.]]),('A_p', 'L_1'): array([[0.05163566]]),('A_p', 'L_2'): array([[0.06178015]]),('A_p', 'L_3'): array([[0.32231851]]),('A_p', 'L_4'): array([[0.09405687]]),('A_p', 'L_5'): array([[0.00951327]]),('A_p', 'L_6'): array([[0.03311016]]),('A_p', 'L_7'): array([[0.31269726]]),('A_p', 'L_8'): array([[0.11774264]]),('L_1', 'A_a'): array([[-0.00492822]]),('L_1', 'A_aa'): array([[0.01402727]]),('L_1', 'A_k'): array([[0.02017376]]),('L_1', 'A_loga'): array([[-0.00097862]]),('L_1', 'A_p'): array([[0.05163566]]),('L_1', 'L_1'): array([[1.]]),('L_1', 'L_2'): array([[-0.00143564]]),('L_1', 'L_3'): array([[-0.01156274]]),('L_1', 'L_4'): array([[-0.03566477]]),('L_1', 'L_5'): array([[0.03695314]]),('L_1', 'L_6'): array([[-0.00056797]]),('L_1', 'L_7'): array([[-0.00406994]]),('L_1', 'L_8'): array([[-0.00142013]]),('L_2', 'A_a'): array([[-0.00841322]]),('L_2', 'A_aa'): array([[0.02398072]]),('L_2', 'A_k'): array([[0.00803623]]),('L_2', 'A_loga'): array([[-0.00230446]]),('L_2', 'A_p'): array([[0.06178015]]),('L_2', 'L_1'): array([[-0.00143564]]),('L_2', 'L_2'): array([[1.]]),('L_2', 'L_3'): array([[-0.02362796]]),('L_2', 'L_4'): array([[-0.07686046]]),('L_2', 'L_5'): array([[0.0813996]]),('L_2', 'L_6'): array([[-0.00044895]]),('L_2', 'L_7'): array([[-0.00672647]]),('L_2', 'L_8'): array([[-0.0019147]]),('L_3', 'A_a'): array([[-0.06826485]]),('L_3', 'A_aa'): array([[0.19645954]]),('L_3', 'A_k'): array([[0.03280101]]),('L_3', 'A_loga'): array([[-0.02214056]]),('L_3', 'A_p'): array([[0.32231851]]),('L_3', 'L_1'): array([[-0.01156274]]),('L_3', 'L_2'): array([[-0.02362796]]),('L_3', 'L_3'): array([[1.]]),('L_3', 'L_4'): array([[-0.88789525]]),('L_3', 'L_5'): array([[0.92217905]]),('L_3', 'L_6'): array([[-0.00221153]]),('L_3', 'L_7'): array([[-0.05154185]]),('L_3', 'L_8'): array([[-0.01323854]]),('L_4', 'A_a'): array([[0.15795649]]),('L_4', 'A_aa'): array([[-0.414266]]),('L_4', 'A_k'): array([[0.40069967]]),('L_4', 'A_loga'): array([[0.00880599]]),('L_4', 'A_p'): array([[0.09405687]]),('L_4', 'L_1'): array([[-0.03566477]]),('L_4', 'L_2'): array([[-0.07686046]]),('L_4', 'L_3'): array([[-0.88789525]]),('L_4', 'L_4'): array([[1.]]),('L_4', 'L_5'): array([[-0.99295323]]),('L_4', 'L_6'): array([[-0.00624743]]),('L_4', 'L_7'): array([[0.12531893]]),('L_4', 'L_8'): array([[0.02071901]]),('L_5', 'A_a'): array([[-0.14118969]]),('L_5', 'A_aa'): array([[0.37461416]]),('L_5', 'A_k'): array([[-0.32779122]]),('L_5', 'A_loga'): array([[-0.01082162]]),('L_5', 'A_p'): array([[0.00951327]]),('L_5', 'L_1'): array([[0.03695314]]),('L_5', 'L_2'): array([[0.0813996]]),('L_5', 'L_3'): array([[0.92217905]]),('L_5', 'L_4'): array([[-0.99295323]]),('L_5', 'L_5'): array([[1.]]),('L_5', 'L_6'): array([[0.00464351]]),('L_5', 'L_7'): array([[-0.12465999]]),('L_5', 'L_8'): array([[-0.02210125]]),('L_6', 'A_a'): array([[-0.00303813]]),('L_6', 'A_aa'): array([[0.00915482]]),('L_6', 'A_k'): array([[0.05644689]]),('L_6', 'A_loga'): array([[-9.55958063e-05]]),('L_6', 'A_p'): array([[0.03311016]]),('L_6', 'L_1'): array([[-0.00056797]]),('L_6', 'L_2'): array([[-0.00044895]]),('L_6', 'L_3'): array([[-0.00221153]]),('L_6', 'L_4'): array([[-0.00624743]]),('L_6', 'L_5'): array([[0.00464351]]),('L_6', 'L_6'): array([[1.]]),('L_6', 'L_7'): array([[-0.00187402]]),('L_6', 'L_8'): array([[-0.00119789]]),('L_7', 'A_a'): array([[-0.02727483]]),('L_7', 'A_aa'): array([[0.07557115]]),('L_7', 'A_k'): array([[0.01286632]]),('L_7', 'A_loga'): array([[-0.00802414]]),('L_7', 'A_p'): array([[0.31269726]]),('L_7', 'L_1'): array([[-0.00406994]]),('L_7', 'L_2'): array([[-0.00672647]]),('L_7', 'L_3'): array([[-0.05154185]]),('L_7', 'L_4'): array([[0.12531893]]),('L_7', 'L_5'): array([[-0.12465999]]),('L_7', 'L_6'): array([[-0.00187402]]),('L_7', 'L_7'): array([[1.]]),('L_7', 'L_8'): array([[-0.00872845]]),('L_8', 'A_a'): array([[-0.00830673]]),('L_8', 'A_aa'): array([[0.02319223]]),('L_8', 'A_k'): array([[0.03921271]]),('L_8', 'A_loga'): array([[-0.00157255]]),('L_8', 'A_p'): array([[0.11774264]]),('L_8', 'L_1'): array([[-0.00142013]]),('L_8', 'L_2'): array([[-0.0019147]]),('L_8', 'L_3'): array([[-0.01323854]]),('L_8', 'L_4'): array([[0.02071901]]),('L_8', 'L_5'): array([[-0.02210125]]),('L_8', 'L_6'): array([[-0.00119789]]),('L_8', 'L_7'): array([[-0.00872845]]),('L_8', 'L_8'): array([[1.]])}\n"
     ]
    }
   ],
   "source": [
    "print(gv.evalcorr(bootstrapper.get_fit_info()['posterior']))"
   ]
  },
  {
   "cell_type": "code",
   "execution_count": null,
   "metadata": {},
   "outputs": [],
   "source": []
  },
  {
   "cell_type": "code",
   "execution_count": null,
   "metadata": {},
   "outputs": [],
   "source": [
    "aa"
   ]
  },
  {
   "cell_type": "code",
   "execution_count": null,
   "metadata": {},
   "outputs": [],
   "source": []
  },
  {
   "cell_type": "code",
   "execution_count": 101,
   "metadata": {
    "scrolled": false
   },
   "outputs": [
    {
     "data": {
      "text/plain": [
       "{'disc': 0.003268124383050167,\n",
       " 'chiral': 0.0013889343219109565,\n",
       " 'pp_input': 0.0008695707926884167,\n",
       " 'stat': 0.003551481248093458}"
      ]
     },
     "execution_count": 101,
     "metadata": {},
     "output_type": "execute_result"
    }
   ],
   "source": [
    "def get_error_budget(self, print_budget=False):\n",
    "    output = {}\n",
    "    \n",
    "    fit_info = self.get_fit_info()\n",
    "    fk_fpi = fit_info['FK/Fpi']\n",
    "    \n",
    "    inputs = {}\n",
    "    inputs.update(fit_info['prior'])\n",
    "    output['disc'] = fk_fpi.partialsdev([fit_info['prior'][key] \n",
    "                                         for key in ['A_a', 'A_aa', 'A_loga'] if key in fit_info['prior']])\n",
    "    output['chiral'] = fk_fpi.partialsdev([fit_info['prior'][key] \n",
    "                                           for key in (set(fit_info['prior']) - set(['A_a', 'A_aa', 'A_loga']))])\n",
    "    \n",
    "    phys_point = {}\n",
    "    phys_point['mpi'] = fit_info['phys_point']['mpi']\n",
    "    phys_point['mk'] = fit_info['phys_point']['mk']\n",
    "    phys_point['lam2_chi'] = fit_info['phys_point']['lam2_chi']\n",
    "    inputs.update(phys_point)\n",
    "    output['pp_input'] = fk_fpi.partialsdev(phys_point)\n",
    "    \n",
    "    \n",
    "    # Since the input data is correlated, \n",
    "    # we only need to use a single variable as a proxy\n",
    "    # for all of the variables; we use 'lam2_chi'\n",
    "    prior = self.get_fit().prior\n",
    "    input_data = {}\n",
    "    input_data['input_data'] = prior['lam2_chi']\n",
    "    inputs.update(input_data)\n",
    "    output['stat'] = fk_fpi.partialsdev(input_data)\n",
    "    \n",
    "        \n",
    "    if print_budget:\n",
    "        print('FK/Fpi =', fit_info['FK/Fpi'], '\\n')\n",
    "        print(gv.fmt_errorbudget(outputs={'FK/Fpi' : fk_fpi}, inputs=inputs, percent=False, ndecimal=5, verify=True))\n",
    "    \n",
    "    return output\n",
    "\n",
    "error_budget(bootstrapper)"
   ]
  },
  {
   "cell_type": "code",
   "execution_count": null,
   "metadata": {},
   "outputs": [],
   "source": []
  },
  {
   "cell_type": "code",
   "execution_count": 91,
   "metadata": {},
   "outputs": [
    {
     "data": {
      "text/plain": [
       "{'A_k', 'A_p', 'L_1', 'L_2', 'L_3', 'L_4', 'L_5', 'L_6', 'L_7', 'L_8'}"
      ]
     },
     "execution_count": 91,
     "metadata": {},
     "output_type": "execute_result"
    }
   ],
   "source": [
    "set(bootstrapper.get_fit_info()['prior']) - set(['A_a', 'A_aa', 'A_loga'])"
   ]
  },
  {
   "cell_type": "code",
   "execution_count": null,
   "metadata": {},
   "outputs": [],
   "source": []
  },
  {
   "cell_type": "code",
   "execution_count": 35,
   "metadata": {},
   "outputs": [],
   "source": [
    "whatever = lambda x : np.sqrt(np.sum(a**2 for a in x))"
   ]
  },
  {
   "cell_type": "code",
   "execution_count": 81,
   "metadata": {},
   "outputs": [
    {
     "name": "stderr",
     "output_type": "stream",
     "text": [
      "<ipython-input-35-bc94ca1931cf>:1: DeprecationWarning: Calling np.sum(generator) is deprecated, and in the future will give a different result. Use np.sum(np.fromiter(generator)) or the python sum builtin instead.\n",
      "  whatever = lambda x : np.sqrt(np.sum(a**2 for a in x))\n"
     ]
    },
    {
     "data": {
      "text/plain": [
       "0.0032683176100250723"
      ]
     },
     "execution_count": 81,
     "metadata": {},
     "output_type": "execute_result"
    }
   ],
   "source": [
    "whatever([0.00221, 0.00123, 0.00207])"
   ]
  },
  {
   "cell_type": "code",
   "execution_count": null,
   "metadata": {},
   "outputs": [],
   "source": []
  },
  {
   "cell_type": "code",
   "execution_count": null,
   "metadata": {},
   "outputs": [],
   "source": []
  },
  {
   "cell_type": "code",
   "execution_count": null,
   "metadata": {},
   "outputs": [],
   "source": []
  },
  {
   "cell_type": "code",
   "execution_count": 34,
   "metadata": {},
   "outputs": [
    {
     "ename": "NameError",
     "evalue": "name 'bootstrapper' is not defined",
     "output_type": "error",
     "traceback": [
      "\u001b[0;31m---------------------------------------------------------------------------\u001b[0m",
      "\u001b[0;31mNameError\u001b[0m                                 Traceback (most recent call last)",
      "\u001b[0;32m<ipython-input-34-f60586c39680>\u001b[0m in \u001b[0;36m<module>\u001b[0;34m\u001b[0m\n\u001b[1;32m     24\u001b[0m \u001b[0;34m\u001b[0m\u001b[0m\n\u001b[1;32m     25\u001b[0m \u001b[0;34m\u001b[0m\u001b[0m\n\u001b[0;32m---> 26\u001b[0;31m \u001b[0mbootstrapper\u001b[0m\u001b[0;34m.\u001b[0m\u001b[0mfk_fpi_fit_fcn\u001b[0m\u001b[0;34m(\u001b[0m\u001b[0mfit_data\u001b[0m\u001b[0;34m=\u001b[0m\u001b[0mfit_data\u001b[0m\u001b[0;34m,\u001b[0m \u001b[0mfit_parameters\u001b[0m\u001b[0;34m=\u001b[0m\u001b[0mfit_parameters\u001b[0m\u001b[0;34m,\u001b[0m \u001b[0mdebug\u001b[0m\u001b[0;34m=\u001b[0m\u001b[0;32mTrue\u001b[0m\u001b[0;34m)\u001b[0m\u001b[0;34m\u001b[0m\u001b[0;34m\u001b[0m\u001b[0m\n\u001b[0m",
      "\u001b[0;31mNameError\u001b[0m: name 'bootstrapper' is not defined"
     ]
    }
   ],
   "source": [
    "fit_data = {\n",
    "    'mpi' : 135.,\n",
    "    'mk' : 495.5,\n",
    "    'Fpi' : 92.2,\n",
    "    'FK' : 110.5,\n",
    "    'L' : np.inf, \n",
    "    'a/w0' : 0,\n",
    "}\n",
    "fit_data['lam2_chi'] = (4 *np.pi *fit_data['Fpi'])**2\n",
    "\n",
    "fit_parameters = {\n",
    "    'L_1' : 0.000372,\n",
    "    'L_2' : 0.000493,\n",
    "    'L_3' : -0.003070,\n",
    "    'L_4' : 0.000089,\n",
    "    'L_5' : 0.000377,\n",
    "    'L_6' : 0.000011,\n",
    "    'L_7' : -0.000340,\n",
    "    'L_8' : 0.000294,\n",
    "    'A_a' : 0.1,\n",
    "    'A_k' : -3.000000,\n",
    "    'A_p' : 4.000000\n",
    "}\n",
    "\n",
    "\n",
    "bootstrapper.fk_fpi_fit_fcn(fit_data=fit_data, fit_parameters=fit_parameters, debug=True)"
   ]
  },
  {
   "cell_type": "code",
   "execution_count": null,
   "metadata": {
    "collapsed": true
   },
   "outputs": [],
   "source": []
  }
 ],
 "metadata": {
  "kernelspec": {
   "display_name": "Python 3",
   "language": "python",
   "name": "python3"
  },
  "language_info": {
   "codemirror_mode": {
    "name": "ipython",
    "version": 3
   },
   "file_extension": ".py",
   "mimetype": "text/x-python",
   "name": "python",
   "nbconvert_exporter": "python",
   "pygments_lexer": "ipython3",
   "version": "3.8.1"
  }
 },
 "nbformat": 4,
 "nbformat_minor": 2
}
