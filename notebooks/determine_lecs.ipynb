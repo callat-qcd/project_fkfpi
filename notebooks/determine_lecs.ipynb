{
 "cells": [
  {
   "cell_type": "markdown",
   "metadata": {},
   "source": [
    "### Import Modules"
   ]
  },
  {
   "cell_type": "code",
   "execution_count": 7,
   "metadata": {
    "collapsed": true
   },
   "outputs": [],
   "source": [
    "import numpy as np\n",
    "import gvar as gv\n",
    "import lsqfit\n",
    "import sys\n",
    "import os\n",
    "import matplotlib\n",
    "import matplotlib.pyplot as plt\n",
    "import pandas as pd\n",
    "import h5py\n",
    "import time\n",
    "\n",
    "sys.path.append(\"../\")\n",
    "from fitter import data_loader as dl\n",
    "from fitter import bootstrapper as bs\n",
    "from fitter import fitter as fit\n",
    "from fitter import special_functions as sf\n",
    "\n",
    "matplotlib.rcParams['figure.figsize'] = [10, 10]"
   ]
  },
  {
   "cell_type": "code",
   "execution_count": 104,
   "metadata": {},
   "outputs": [
    {
     "data": {
      "text/plain": [
       "<module 'fitter.special_functions' from '../fitter\\special_functions.pyc'>"
      ]
     },
     "execution_count": 104,
     "metadata": {},
     "output_type": "execute_result"
    }
   ],
   "source": [
    "reload(bs)\n",
    "reload(dl)\n",
    "reload(fit)\n",
    "reload(sf)"
   ]
  },
  {
   "cell_type": "markdown",
   "metadata": {},
   "source": [
    "### Specify fit parameters"
   ]
  },
  {
   "cell_type": "code",
   "execution_count": 105,
   "metadata": {
    "collapsed": true
   },
   "outputs": [],
   "source": [
    "p_dict = {\n",
    "    'order' : {\n",
    "        'fit' : 'nlo', # 'nlo', 'nnlo', or 'nnnlo'\n",
    "        'latt_spacing' : 2, # no order 1 term -- starts at 2\n",
    "        'vol' : 8 # max 10\n",
    "    }, \n",
    "    'bs_N' : 1,  # if 0, use full list\n",
    "    'fit_type' : 'simultaneous', #'ma', 'ma-taylor, 'xpt', or 'xpt-taylor'; also 'simultaneous', 'ma-old'\n",
    "    'F2' : 'FKFpi', #'FKfpi', 'FpiFpi', 'FKFK'\n",
    "    \n",
    "    'use_prior' : True,\n",
    "    'abbrs' : [u'a09m220', u'a09m310', u'a09m350', u'a09m400', u'a12m130',\n",
    "           u'a12m220',  u'a12m220S', u'a12m310', u'a12m350',\n",
    "           u'a12m400', u'a15m220', u'a15m310', u'a15m350', 'a15m400'],\n",
    "    \n",
    "    'make_plots' : True,\n",
    "    'show_error_ellipses' : False,\n",
    "    'show_bs_histograms' : False,\n",
    "    \n",
    "    'save_prior' : False,\n",
    "    'save_results' : False,\n",
    "}"
   ]
  },
  {
   "cell_type": "markdown",
   "metadata": {},
   "source": [
    "### Do fit"
   ]
  },
  {
   "cell_type": "code",
   "execution_count": 106,
   "metadata": {},
   "outputs": [
    {
     "name": "stdout",
     "output_type": "stream",
     "text": [
      "Making fits...\n",
      "100% complete Time (s):  2.95800018311\n",
      "Compiling results...\n",
      "Done.\n",
      "\n",
      "Total time (s):  8.60299992561 \n",
      "\n"
     ]
    }
   ],
   "source": [
    "t0 = time.time()\n",
    "\n",
    "# Load data\n",
    "data_loader = dl.data_loader()\n",
    "fit_data = data_loader.get_fit_data()\n",
    "\n",
    "# Get prior\n",
    "prior = None\n",
    "if p_dict['use_prior']:\n",
    "    prior = data_loader.get_prior(p_dict['fit_type'])\n",
    "\n",
    "# Make bootstrapper\n",
    "bootstrapper = bs.bootstrapper(fit_data, prior=prior, order=p_dict['order'], F2=p_dict['F2'],\n",
    "                               fit_type=p_dict['fit_type'], bs_N=p_dict['bs_N'], abbrs=p_dict['abbrs'])\n",
    "\n",
    "if p_dict['make_plots']:\n",
    "    data_loader.save_plots(\n",
    "        bootstrapper.make_plots(\n",
    "            show_error_ellipses=p_dict['show_error_ellipses'], \n",
    "            show_bootstrap_histograms=p_dict['show_bs_histograms']),\n",
    "        output_filename=bootstrapper.fit_type+'_'+bootstrapper.order['fit']\n",
    "    )\n",
    "else:\n",
    "    print bootstrapper\n",
    "    \n",
    "if p_dict['save_prior']:\n",
    "    print 'Saving prior...'\n",
    "    data_loader.save_prior(bootstrapper.create_prior_from_fit(), p_dict['fit_type'])\n",
    "    \n",
    "if p_dict['save_results']:\n",
    "    data_loader.save_fit_info(bootstrapper.get_fit_info())\n",
    "    \n",
    "    \n",
    "t1 = time.time()\n",
    "\n",
    "print \"\\nTotal time (s): \", t1 - t0, \"\\n\""
   ]
  },
  {
   "cell_type": "code",
   "execution_count": 107,
   "metadata": {
    "scrolled": false
   },
   "outputs": [
    {
     "name": "stdout",
     "output_type": "stream",
     "text": [
      "Least Square Fit:\n",
      "  chi2/dof [dof] = 68 [28]    Q = 0    logGBF = -809.34\n",
      "\n",
      "Parameters:\n",
      "          mpi 0     0.098068 (66)       [ 0.097900 (67) ]  **\n",
      "              1      0.14102 (12)       [  0.14072 (12) ]  **\n",
      "              2      0.15807 (19)       [  0.15785 (19) ]  *\n",
      "              3      0.18119 (14)       [  0.18116 (14) ]  \n",
      "              4      0.08142 (25)       [  0.08126 (25) ]  \n",
      "              5      0.13446 (17)       [  0.13428 (17) ]  *\n",
      "              6      0.13612 (31)       [  0.13557 (32) ]  *\n",
      "              7      0.18889 (17)       [  0.18870 (17) ]  *\n",
      "              8      0.21411 (20)       [  0.21397 (20) ]  \n",
      "              9      0.24357 (16)       [  0.24347 (16) ]  \n",
      "             10      0.16538 (19)       [  0.16533 (19) ]  \n",
      "             11      0.23613 (30)       [  0.23601 (30) ]  \n",
      "             12      0.26483 (29)       [  0.26473 (29) ]  \n",
      "             13      0.30292 (30)       [  0.30281 (30) ]  \n",
      "           mk 0     0.228526 (98)       [ 0.228702 (99) ]  *\n",
      "              1      0.24090 (14)       [  0.24106 (14) ]  *\n",
      "              2      0.24694 (12)       [  0.24696 (12) ]  \n",
      "              3      0.25523 (12)       [  0.25523 (12) ]  \n",
      "              4      0.30191 (23)       [  0.30207 (23) ]  \n",
      "              5      0.30989 (17)       [  0.31001 (17) ]  \n",
      "              6      0.31026 (21)       [  0.31043 (21) ]  \n",
      "              7      0.32397 (21)       [  0.32414 (21) ]  \n",
      "              8      0.33301 (16)       [  0.33306 (16) ]  \n",
      "              9      0.34337 (14)       [  0.34341 (14) ]  \n",
      "             10      0.38683 (21)       [  0.38690 (21) ]  \n",
      "             11      0.40451 (24)       [  0.40457 (24) ]  \n",
      "             12      0.41364 (26)       [  0.41369 (27) ]  \n",
      "             13      0.42717 (26)       [  0.42723 (27) ]  \n",
      "     lam2_chi 0        0.379 (13)       [    0.319 (16) ]  ***\n",
      "              1        0.371 (15)       [    0.319 (16) ]  ***\n",
      "              2        0.358 (15)       [    0.319 (16) ]  **\n",
      "              3        0.357 (15)       [    0.319 (16) ]  **\n",
      "              4        0.654 (26)       [    0.605 (31) ]  *\n",
      "              5        0.674 (26)       [    0.605 (31) ]  **\n",
      "              6        0.648 (27)       [    0.605 (31) ]  *\n",
      "              7        0.689 (28)       [    0.605 (31) ]  **\n",
      "              8        0.705 (28)       [    0.605 (31) ]  ***\n",
      "              9        0.692 (29)       [    0.605 (31) ]  **\n",
      "             10        1.151 (36)       [    0.948 (49) ]  ****\n",
      "             11        1.070 (42)       [    0.948 (49) ]  **\n",
      "             12        1.081 (44)       [    0.948 (49) ]  **\n",
      "             13        1.072 (46)       [    0.948 (49) ]  **\n",
      "            a 0       0.0936 (13)       [   0.0880 (15) ]  ***\n",
      "              1       0.0936 (13)       [   0.0880 (15) ]  ***\n",
      "              2       0.0936 (13)       [   0.0880 (15) ]  ***\n",
      "              3       0.0936 (13)       [   0.0880 (15) ]  ***\n",
      "              4       0.1289 (17)       [   0.1213 (21) ]  ***\n",
      "              5       0.1289 (17)       [   0.1213 (21) ]  ***\n",
      "              6       0.1289 (17)       [   0.1213 (21) ]  ***\n",
      "              7       0.1289 (17)       [   0.1213 (21) ]  ***\n",
      "              8       0.1289 (17)       [   0.1213 (21) ]  ***\n",
      "              9       0.1289 (17)       [   0.1213 (21) ]  ***\n",
      "             10       0.1613 (22)       [   0.1518 (26) ]  ***\n",
      "             11       0.1613 (22)       [   0.1518 (26) ]  ***\n",
      "             12       0.1613 (22)       [   0.1518 (26) ]  ***\n",
      "             13       0.1613 (22)       [   0.1518 (26) ]  ***\n",
      "            L 0     48.00000 (48)       [ 48.00000 (48) ]  \n",
      "              1     32.00000 (32)       [ 32.00000 (32) ]  \n",
      "              2     32.00000 (32)       [ 32.00000 (32) ]  \n",
      "              3     32.00000 (32)       [ 32.00000 (32) ]  \n",
      "              4     48.00000 (48)       [ 48.00000 (48) ]  \n",
      "              5     32.00000 (32)       [ 32.00000 (32) ]  \n",
      "              6     24.00000 (24)       [ 24.00000 (24) ]  \n",
      "              7     24.00000 (24)       [ 24.00000 (24) ]  \n",
      "              8     24.00000 (24)       [ 24.00000 (24) ]  \n",
      "              9     24.00000 (24)       [ 24.00000 (24) ]  \n",
      "             10     24.00000 (24)       [ 24.00000 (24) ]  \n",
      "             11     16.00000 (16)       [ 16.00000 (16) ]  \n",
      "             12     16.00000 (16)       [ 16.00000 (16) ]  \n",
      "             13     16.00000 (16)       [ 16.00000 (16) ]  \n",
      "             w0        5.435 (83)       [     5.80 (10) ]  ***\n",
      "            L_5     0.000171 (15)       [   0.0000 (10) ]  \n",
      "         a2DI 0      0.00897 (38)       [  0.00515 (42) ]  *****\n",
      "              1      0.00629 (41)       [  0.00515 (42) ]  **\n",
      "              2      0.00543 (42)       [  0.00515 (42) ]  \n",
      "              3      0.00526 (42)       [  0.00515 (42) ]  \n",
      "              4       0.0690 (14)       [   0.0312 (26) ]  *****\n",
      "              5       0.0669 (14)       [   0.0312 (26) ]  *****\n",
      "              6       0.0678 (13)       [   0.0312 (26) ]  *****\n",
      "              7       0.0553 (18)       [   0.0312 (26) ]  *****\n",
      "              8       0.0388 (24)       [   0.0312 (26) ]  **\n",
      "              9       0.0379 (25)       [   0.0312 (26) ]  **\n",
      "             10       0.1636 (32)       [    0.087 (11) ]  *****\n",
      "             11       0.1599 (26)       [    0.087 (11) ]  *****\n",
      "             12       0.1329 (64)       [    0.087 (11) ]  ****\n",
      "             13       0.1291 (59)       [    0.087 (11) ]  ****\n",
      "          mss 0     0.309320 (74)       [ 0.309362 (74) ]  \n",
      "              1      0.31165 (11)       [  0.31169 (11) ]  \n",
      "              2      0.31243 (11)       [  0.31244 (11) ]  \n",
      "              3      0.31326 (11)       [  0.31327 (11) ]  \n",
      "              4      0.41420 (11)       [  0.41421 (11) ]  \n",
      "              5      0.41538 (12)       [  0.41539 (12) ]  \n",
      "              6      0.41575 (14)       [  0.41576 (14) ]  \n",
      "              7      0.41800 (16)       [  0.41802 (16) ]  \n",
      "              8      0.41970 (13)       [  0.41970 (13) ]  \n",
      "              9      0.42073 (13)       [  0.42073 (13) ]  \n",
      "             10      0.51496 (13)       [  0.51496 (13) ]  \n",
      "             11      0.51875 (16)       [  0.51876 (16) ]  \n",
      "             12      0.52008 (22)       [  0.52008 (22) ]  \n",
      "             13      0.52192 (22)       [  0.52193 (22) ]  \n",
      "          mju 0      0.10601 (22)       [  0.10893 (27) ]  *****\n",
      "              1      0.14506 (28)       [  0.14810 (37) ]  *****\n",
      "              2      0.16229 (48)       [  0.16553 (67) ]  ****\n",
      "              3      0.18457 (63)       [  0.18736 (90) ]  ***\n",
      "              4       0.1402 (12)       [   0.1493 (13) ]  *****\n",
      "              5      0.17161 (81)       [  0.17710 (88) ]  *****\n",
      "              6      0.17190 (82)       [  0.17710 (88) ]  *****\n",
      "              7      0.21326 (79)       [  0.21894 (91) ]  *****\n",
      "              8       0.2353 (10)       [   0.2404 (13) ]  ****\n",
      "              9      0.25775 (92)       [   0.2679 (16) ]  *****\n",
      "             10       0.2515 (20)       [   0.2557 (21) ]  *\n",
      "             11       0.3043 (13)       [   0.3061 (13) ]  *\n",
      "             12       0.3215 (30)       [   0.3310 (35) ]  **\n",
      "             13       0.3552 (22)       [   0.3595 (24) ]  *\n",
      "          mjs 0      0.23395 (28)       [  0.23001 (34) ]  *****\n",
      "              1      0.24568 (35)       [  0.24267 (42) ]  *****\n",
      "              2      0.25328 (65)       [  0.24995 (82) ]  ****\n",
      "              3      0.26064 (89)       [   0.2575 (12) ]  **\n",
      "              4      0.31142 (85)       [  0.30821 (87) ]  ***\n",
      "              5      0.32217 (76)       [  0.31875 (79) ]  ****\n",
      "              6      0.32196 (76)       [  0.31875 (79) ]  ****\n",
      "              7      0.33952 (91)       [   0.3345 (10) ]  *****\n",
      "              8       0.3519 (14)       [   0.3454 (17) ]  ***\n",
      "              9       0.3582 (10)       [   0.3548 (11) ]  ***\n",
      "             10      0.41155 (98)       [  0.41085 (99) ]  \n",
      "             11      0.43526 (93)       [  0.43463 (93) ]  \n",
      "             12       0.4514 (28)       [   0.4465 (30) ]  *\n",
      "             13       0.4651 (33)       [   0.4582 (36) ]  *\n",
      "          mru 0      0.23018 (37)       [  0.23284 (39) ]  *****\n",
      "              1      0.24468 (48)       [  0.24688 (51) ]  ****\n",
      "              2      0.25184 (59)       [  0.25278 (61) ]  *\n",
      "              3      0.25962 (79)       [  0.26040 (81) ]  \n",
      "              4       0.3220 (14)       [   0.3261 (14) ]  **\n",
      "              5      0.32937 (90)       [  0.33158 (91) ]  **\n",
      "              6      0.32952 (90)       [  0.33158 (91) ]  **\n",
      "              7      0.34147 (96)       [  0.34390 (98) ]  **\n",
      "              8       0.3425 (25)       [   0.3519 (28) ]  ***\n",
      "              9       0.3599 (12)       [   0.3621 (12) ]  *\n",
      "             10       0.4299 (16)       [   0.4308 (16) ]  \n",
      "             11       0.4504 (12)       [   0.4508 (12) ]  \n",
      "             12       0.4553 (37)       [   0.4591 (37) ]  *\n",
      "             13       0.4699 (20)       [   0.4710 (20) ]  \n",
      "          mrs 0      0.31165 (21)       [  0.31126 (21) ]  *\n",
      "              1      0.31536 (29)       [  0.31500 (29) ]  *\n",
      "              2      0.31631 (52)       [  0.31598 (53) ]  \n",
      "              3      0.31611 (61)       [  0.31589 (61) ]  \n",
      "              4      0.42731 (34)       [  0.42721 (34) ]  \n",
      "              5      0.42814 (34)       [  0.42800 (34) ]  \n",
      "              6      0.42812 (34)       [  0.42800 (34) ]  \n",
      "              7      0.43070 (43)       [  0.43046 (43) ]  \n",
      "              8       0.4328 (11)       [   0.4320 (11) ]  \n",
      "              9      0.43241 (70)       [  0.43203 (70) ]  \n",
      "             10      0.54172 (54)       [  0.54166 (54) ]  \n",
      "             11      0.54907 (74)       [  0.54898 (74) ]  \n",
      "             12       0.5532 (17)       [   0.5528 (17) ]  \n",
      "             13       0.5542 (17)       [   0.5538 (17) ]  \n",
      "           c_a2        -0.84 (32)       [    -0.84 (32) ]  \n",
      "        c_mpia2       -2e-14 +- 2       [     0.0 (2.0) ]  \n",
      "            L_4   -7e-19 +- 0.001       [   0.0000 (10) ]  \n",
      "\n",
      "Settings:\n",
      "  svdcut/n = 1e-12/14    tol = (1e-08*,1e-10,1e-10)    (itns/time = 32/3.0)\n",
      "  fitter = scipy_least_squares    method = trf\n",
      "\n"
     ]
    }
   ],
   "source": [
    "print bootstrapper.fits[0]"
   ]
  },
  {
   "cell_type": "code",
   "execution_count": null,
   "metadata": {
    "collapsed": true
   },
   "outputs": [],
   "source": []
  },
  {
   "cell_type": "markdown",
   "metadata": {},
   "source": [
    "### Or make all fits"
   ]
  },
  {
   "cell_type": "code",
   "execution_count": null,
   "metadata": {
    "collapsed": true
   },
   "outputs": [],
   "source": [
    "p_dict = {\n",
    "    'order' : {\n",
    "        'latt_spacing' : 2, # no order 1 term -- starts at 2\n",
    "        'vol' : 8 # max 10\n",
    "    }, \n",
    "    'bs_N' : 1,  # if 0, use full list\n",
    "    'F2' : 'FKFpi', #'FKfpi', 'FpiFpi', 'FKFK'\n",
    "\n",
    "    'use_prior' : True,\n",
    "    'abbrs' : [u'a09m220', u'a09m310', u'a09m350', u'a09m400', u'a12m130',\n",
    "           u'a12m220',  u'a12m220S', u'a12m310', u'a12m350',\n",
    "           u'a12m400', u'a15m220', u'a15m310', u'a15m350', 'a15m400'],\n",
    "\n",
    "    'make_plots' : True,\n",
    "    'show_error_ellipses' : False,\n",
    "    'show_bs_histograms' : False,\n",
    "\n",
    "    'save_prior' : False,\n",
    "    'save_results' : True,\n",
    "}"
   ]
  },
  {
   "cell_type": "code",
   "execution_count": 90,
   "metadata": {},
   "outputs": [
    {
     "name": "stdout",
     "output_type": "stream",
     "text": [
      "Making fits...\n",
      "100% complete Time (s):  0.364999771118\n",
      "Compiling results...\n",
      "Done.\n",
      "Saving...\n",
      "Done.\n",
      "\n",
      "Total time (s):  5.40900015831 \n",
      "\n",
      "Making fits...\n",
      "100% complete Time (s):  0.382999897003\n",
      "Compiling results...\n",
      "Done.\n",
      "Saving...\n",
      "Done.\n",
      "\n",
      "Total time (s):  5.37699985504 \n",
      "\n",
      "Making fits...\n",
      "100% complete Time (s):  0.406000137329\n",
      "Compiling results...\n",
      "Done.\n",
      "Saving...\n",
      "Done.\n",
      "\n",
      "Total time (s):  5.63899993896 \n",
      "\n",
      "Making fits...\n",
      "100% complete Time (s):  0.348000049591\n",
      "Compiling results...\n",
      "Done.\n",
      "Saving...\n",
      "Done.\n",
      "\n",
      "Total time (s):  5.35100007057 \n",
      "\n",
      "Making fits...\n",
      "100% complete Time (s):  0.333999872208\n",
      "Compiling results...\n",
      "Done.\n",
      "Saving...\n",
      "Done.\n",
      "\n",
      "Total time (s):  5.48699998856 \n",
      "\n",
      "Making fits...\n",
      "100% complete Time (s):  0.373000144958\n",
      "Compiling results...\n",
      "Done.\n",
      "Saving...\n",
      "Done.\n",
      "\n",
      "Total time (s):  5.55900001526 \n",
      "\n",
      "Making fits...\n",
      "100% complete Time (s):  0.893000125885\n",
      "Compiling results...\n",
      "Done.\n",
      "Saving...\n",
      "Done.\n",
      "\n",
      "Total time (s):  6.65600013733 \n",
      "\n",
      "Making fits...\n",
      "100% complete Time (s):  1.01699995995\n",
      "Compiling results...\n",
      "Done.\n",
      "Saving...\n",
      "Done.\n",
      "\n",
      "Total time (s):  7.04699993134 \n",
      "\n",
      "Making fits...\n",
      "100% complete Time (s):  0.996999979019\n",
      "Compiling results...\n",
      "Done.\n",
      "Saving...\n",
      "Done.\n",
      "\n",
      "Total time (s):  7.14500021935 \n",
      "\n",
      "Making fits...\n",
      "100% complete Time (s):  0.885999917984\n",
      "Compiling results...\n",
      "Done.\n",
      "Saving...\n",
      "Done.\n",
      "\n",
      "Total time (s):  7.13999986649 \n",
      "\n",
      "Making fits...\n",
      "100% complete Time (s):  1.46199989319\n",
      "Compiling results...\n",
      "Done.\n",
      "Saving...\n",
      "Done.\n",
      "\n",
      "Total time (s):  7.40499997139 \n",
      "\n",
      "Making fits...\n",
      "100% complete Time (s):  1.43700003624\n",
      "Compiling results...\n",
      "Done.\n",
      "Saving...\n",
      "Done.\n",
      "\n",
      "Total time (s):  7.76299977303 \n",
      "\n"
     ]
    }
   ],
   "source": [
    "for fit_type in ['xpt', 'xpt-taylor', 'ma', 'ma-taylor']:\n",
    "    for order_fit in ['nlo', 'nnlo', 'nnnlo']:\n",
    "        \n",
    "        print fit_Type, order_fit\n",
    "        \n",
    "        # Specify fit parameters\n",
    "        p_dict['order']['fit'] = order_fit\n",
    "        p_dict['fit_type'] = fit_type\n",
    "        \n",
    "        # Do fit\n",
    "        t0 = time.time()\n",
    "\n",
    "        # Load data\n",
    "        data_loader = dl.data_loader()\n",
    "        fit_data = data_loader.get_fit_data()\n",
    "\n",
    "        # Get prior\n",
    "        prior = None\n",
    "        if p_dict['use_prior']:\n",
    "            prior = data_loader.get_prior(p_dict['fit_type'])\n",
    "\n",
    "        # Make bootstrapper\n",
    "        bootstrapper = bs.bootstrapper(fit_data, prior=prior, order=p_dict['order'], F2=p_dict['F2'],\n",
    "                                       fit_type=p_dict['fit_type'], bs_N=p_dict['bs_N'], abbrs=p_dict['abbrs'])\n",
    "\n",
    "        if p_dict['make_plots']:\n",
    "            data_loader.save_plots(\n",
    "                bootstrapper.make_plots(\n",
    "                    show_error_ellipses=p_dict['show_error_ellipses'], \n",
    "                    show_bootstrap_histograms=p_dict['show_bs_histograms']),\n",
    "                output_filename=bootstrapper.fit_type+'_'+bootstrapper.order['fit']\n",
    "            )\n",
    "        else:\n",
    "            print bootstrapper\n",
    "\n",
    "        if p_dict['save_prior']:\n",
    "            print 'Saving prior...'\n",
    "            data_loader.save_prior(bootstrapper.create_prior_from_fit(), p_dict['fit_type'])\n",
    "\n",
    "        if p_dict['save_results']:\n",
    "            data_loader.save_fit_info(bootstrapper.get_fit_info())\n",
    "\n",
    "\n",
    "        t1 = time.time()\n",
    "\n",
    "        print \"\\nTotal time (s): \", t1 - t0, \"\\n\""
   ]
  },
  {
   "cell_type": "code",
   "execution_count": null,
   "metadata": {
    "collapsed": true
   },
   "outputs": [],
   "source": []
  },
  {
   "cell_type": "code",
   "execution_count": 92,
   "metadata": {},
   "outputs": [],
   "source": [
    "#bootstrapper.plot_parameter_histogram('L_5')"
   ]
  },
  {
   "cell_type": "code",
   "execution_count": null,
   "metadata": {
    "collapsed": true
   },
   "outputs": [],
   "source": []
  },
  {
   "cell_type": "code",
   "execution_count": 86,
   "metadata": {
    "collapsed": true
   },
   "outputs": [],
   "source": [
    "#print bootstrapper"
   ]
  },
  {
   "cell_type": "code",
   "execution_count": 87,
   "metadata": {
    "collapsed": true,
    "scrolled": false
   },
   "outputs": [],
   "source": [
    "#print bootstrapper.fits[0]"
   ]
  },
  {
   "cell_type": "code",
   "execution_count": null,
   "metadata": {
    "collapsed": true
   },
   "outputs": [],
   "source": []
  },
  {
   "cell_type": "code",
   "execution_count": 220,
   "metadata": {
    "collapsed": true,
    "scrolled": false
   },
   "outputs": [],
   "source": [
    "#print bootstrapper.fits[0]"
   ]
  },
  {
   "cell_type": "code",
   "execution_count": null,
   "metadata": {
    "collapsed": true
   },
   "outputs": [],
   "source": []
  },
  {
   "cell_type": "code",
   "execution_count": null,
   "metadata": {
    "collapsed": true
   },
   "outputs": [],
   "source": []
  },
  {
   "cell_type": "code",
   "execution_count": 214,
   "metadata": {
    "collapsed": true
   },
   "outputs": [],
   "source": [
    "#bootstrapper.fits[0].show_plots()"
   ]
  },
  {
   "cell_type": "code",
   "execution_count": 34,
   "metadata": {
    "collapsed": true,
    "scrolled": false
   },
   "outputs": [],
   "source": [
    "#print bootstrapper.fits[0]"
   ]
  },
  {
   "cell_type": "code",
   "execution_count": null,
   "metadata": {
    "collapsed": true
   },
   "outputs": [],
   "source": []
  }
 ],
 "metadata": {
  "kernelspec": {
   "display_name": "Python 2",
   "language": "python",
   "name": "python2"
  },
  "language_info": {
   "codemirror_mode": {
    "name": "ipython",
    "version": 2
   },
   "file_extension": ".py",
   "mimetype": "text/x-python",
   "name": "python",
   "nbconvert_exporter": "python",
   "pygments_lexer": "ipython2",
   "version": "2.7.14"
  }
 },
 "nbformat": 4,
 "nbformat_minor": 2
}
