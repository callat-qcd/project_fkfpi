{
 "cells": [
  {
   "cell_type": "markdown",
   "metadata": {},
   "source": [
    "### Import Modules"
   ]
  },
  {
   "cell_type": "code",
   "execution_count": 22,
   "metadata": {},
   "outputs": [],
   "source": [
    "import numpy as np\n",
    "import gvar as gv\n",
    "import lsqfit\n",
    "import sys\n",
    "import os\n",
    "import matplotlib\n",
    "import matplotlib.pyplot as plt\n",
    "import pandas as pd\n",
    "import h5py\n",
    "import time\n",
    "\n",
    "\n",
    "sys.path.append(\"../\")\n",
    "import fitter.data_loader as dl\n",
    "import fitter.fit_manager as fm\n",
    "import fitter.fitter as fit\n",
    "import fitter.special_functions as sf\n",
    "\n",
    "for j in range(10): # Sometimes this needs to be loaded twice...\n",
    "    matplotlib.rcParams['figure.figsize'] = [10, 10]"
   ]
  },
  {
   "cell_type": "code",
   "execution_count": 46,
   "metadata": {},
   "outputs": [
    {
     "data": {
      "text/plain": [
       "<module 'fitter.fit_manager' from '../fitter/fit_manager.py'>"
      ]
     },
     "execution_count": 46,
     "metadata": {},
     "output_type": "execute_result"
    }
   ],
   "source": [
    "from importlib import reload\n",
    "reload(dl)\n",
    "reload(sf)\n",
    "reload(fit)\n",
    "reload(fm)"
   ]
  },
  {
   "cell_type": "markdown",
   "metadata": {},
   "source": [
    "### Specify fit parameters"
   ]
  },
  {
   "cell_type": "code",
   "execution_count": 35,
   "metadata": {},
   "outputs": [],
   "source": [
    "p_dict = {\n",
    "    'collection_name' : 'test', \n",
    "    \n",
    "    'model_info' : {\n",
    "        'fit_type' : 'xpt',\n",
    "        'order' : 'nnlo', # 'nlo', 'nnlo', 'nnnlo'\n",
    "        'F2' : 'FpiFpi', #'FKFpi', 'FpiFpi', 'FKFK', 'F0F0' (HPQCD choice)\n",
    "\n",
    "        'include_FV' : True, # max 10\n",
    "        'exclude' : [], # put LECs here\n",
    "        'use_bijnens_central_value' : False,\n",
    "        \n",
    "        # semi-nnlo corrections\n",
    "        'include_alpha_s' : False,\n",
    "        'include_log' : False, \n",
    "        'include_log2' : False,\n",
    "        'include_sunset' : False,\n",
    "        \n",
    "        # nnnlo corrections\n",
    "        'include_latt_n3lo' : False,\n",
    "    }, \n",
    "     #'ma', 'ma-ratio', 'xpt', 'xpt-ratio', or 'poly'; experimental: 'simultaneous', 'ma-old'\n",
    "\n",
    "    'fast_susnet' : False,\n",
    "    'use_prior' : True,\n",
    "    'bias_correct' : True,\n",
    "    #'include_su2_isospin_corrrection' : False,\n",
    "    'abbrs' : [u'a06m310L', u'a09m220', u'a09m310', u'a09m350', u'a09m400', u'a12m130',\n",
    "           u'a12m220',  u'a12m220S', u'a12m220L', u'a12m310', u'a12m350',\n",
    "           u'a12m400',  u'a15m135XL', u'a15m220', u'a15m310', u'a15m350', 'a15m400'], # u'a15m130'\n",
    "    \n",
    "    'make_plots' : False,\n",
    "    'show_error_ellipses' : True,\n",
    "    \n",
    "    'save_results' : False,\n",
    "    'save_pickles' : True,\n",
    "    'output_name' : 'fit_results',\n",
    "}"
   ]
  },
  {
   "cell_type": "code",
   "execution_count": 7,
   "metadata": {},
   "outputs": [
    {
     "name": "stdout",
     "output_type": "stream",
     "text": [
      "Making fit...\n",
      "Done!\n",
      "Time (s):  1.047055959701538\n",
      "\n",
      "Model: xpt_FpiFpi_nnlo_FV\n",
      "\n",
      "Fitted/[FLAG] values at physical point:\n",
      "\tF_K / F_pi = 1.1904(27) [1.1957(19)]\t(delta_su2 = -0.00410(69))\n",
      "\n",
      "Parameters:\n",
      "            L_4    -0.0022 (13)      [   0.0000 (50) ]  \n",
      "            L_5   -0.00032 (30)      [   0.0000 (50) ]  \n",
      "            A_k      -1.1 (2.3)      [     0.0 (2.6) ]  \n",
      "            A_p       2.8 (1.3)      [     0.0 (2.6) ]  *\n",
      "            A_a      -3.40 (20)      [       0 (100) ]  \n",
      "\n",
      "Least Square Fit:\n",
      "  chi2/dof [dof] = 2.2 [17]    Q = 0.0038    logGBF = 57.671\n",
      "\n",
      "Settings:\n",
      "  svdcut/n = 1e-12/0    tol = (1e-08*,1e-10,1e-10)    (itns/time = 22/1.0)\n",
      "\n",
      "Error Budget (relative error):\n",
      "\tdisc: 3.12e-06\tchiral: 0.000394\tpp_input: 0.00152\tstat: 0.00165\n",
      "\n",
      "Total time (s):  2.0277462005615234 \n",
      "\n"
     ]
    }
   ],
   "source": [
    "t0 = time.time()\n",
    "\n",
    "# Load data\n",
    "data_loader = dl.data_loader()\n",
    "fit_data = data_loader.get_fit_data()\n",
    "phys_point_data = data_loader.get_phys_point_data()\n",
    "\n",
    "# Get prior\n",
    "prior = None\n",
    "if p_dict['use_prior']:\n",
    "    prior = data_loader.get_prior(**p_dict['model_info'], collection_name=p_dict['collection_name'])\n",
    "    \n",
    "# Make fit\n",
    "fit_manager = fm.fit_manager(fit_data, phys_point_data, prior=prior, **p_dict)\n",
    "\n",
    "if p_dict['make_plots']:\n",
    "    data_loader.save_plots(\n",
    "        fit_manager.make_plots(show_error_ellipses=p_dict['show_error_ellipses']),\n",
    "        output_filename=p_dict['collection_name']+'/fits/'+fit_manager.model\n",
    "    )\n",
    "else:\n",
    "    print(fit_manager)\n",
    "    \n",
    "if p_dict['save_results']:\n",
    "    data_loader.save_fit_info(\n",
    "        fit_manager.fit_info,\n",
    "        collection_name=p_dict['collection_name'], \n",
    "        save_pickles=p_dict['save_pickles']\n",
    "    )\n",
    "\n",
    "    \n",
    "    \n",
    "t1 = time.time()\n",
    "\n",
    "print(\"\\nTotal time (s): \", t1 - t0, \"\\n\")"
   ]
  },
  {
   "cell_type": "code",
   "execution_count": 8,
   "metadata": {
    "scrolled": false
   },
   "outputs": [
    {
     "name": "stdout",
     "output_type": "stream",
     "text": [
      "Partial Errors:\n",
      "                  FK/Fpi\n",
      "------------------------\n",
      "          A_a:   0.00000\n",
      "          A_k:   0.00022\n",
      "          A_p:   0.00039\n",
      "          L_4:   0.00011\n",
      "          L_5:   0.00009\n",
      "     phys:mpi:   0.00013\n",
      "      phys:mk:   0.00021\n",
      "phys:lam2_chi:   0.00179\n",
      "         stat:   0.00196\n",
      "------------------------\n",
      "        total:   0.00271\n",
      "\n"
     ]
    }
   ],
   "source": [
    "print(fit_manager.fmt_error_budget())"
   ]
  },
  {
   "cell_type": "code",
   "execution_count": null,
   "metadata": {},
   "outputs": [],
   "source": []
  },
  {
   "cell_type": "code",
   "execution_count": 34,
   "metadata": {},
   "outputs": [
    {
     "ename": "NameError",
     "evalue": "name 'bootstrapper' is not defined",
     "output_type": "error",
     "traceback": [
      "\u001b[0;31m---------------------------------------------------------------------------\u001b[0m",
      "\u001b[0;31mNameError\u001b[0m                                 Traceback (most recent call last)",
      "\u001b[0;32m<ipython-input-34-f60586c39680>\u001b[0m in \u001b[0;36m<module>\u001b[0;34m\u001b[0m\n\u001b[1;32m     24\u001b[0m \u001b[0;34m\u001b[0m\u001b[0m\n\u001b[1;32m     25\u001b[0m \u001b[0;34m\u001b[0m\u001b[0m\n\u001b[0;32m---> 26\u001b[0;31m \u001b[0mbootstrapper\u001b[0m\u001b[0;34m.\u001b[0m\u001b[0mfk_fpi_fit_fcn\u001b[0m\u001b[0;34m(\u001b[0m\u001b[0mfit_data\u001b[0m\u001b[0;34m=\u001b[0m\u001b[0mfit_data\u001b[0m\u001b[0;34m,\u001b[0m \u001b[0mfit_parameters\u001b[0m\u001b[0;34m=\u001b[0m\u001b[0mfit_parameters\u001b[0m\u001b[0;34m,\u001b[0m \u001b[0mdebug\u001b[0m\u001b[0;34m=\u001b[0m\u001b[0;32mTrue\u001b[0m\u001b[0;34m)\u001b[0m\u001b[0;34m\u001b[0m\u001b[0;34m\u001b[0m\u001b[0m\n\u001b[0m",
      "\u001b[0;31mNameError\u001b[0m: name 'bootstrapper' is not defined"
     ]
    }
   ],
   "source": [
    "fit_data = {\n",
    "    'mpi' : 135.,\n",
    "    'mk' : 495.5,\n",
    "    'Fpi' : 92.2,\n",
    "    'FK' : 110.5,\n",
    "    'L' : np.inf, \n",
    "    'a/w0' : 0,\n",
    "}\n",
    "fit_data['lam2_chi'] = (4 *np.pi *fit_data['Fpi'])**2\n",
    "\n",
    "fit_parameters = {\n",
    "    'L_1' : 0.000372,\n",
    "    'L_2' : 0.000493,\n",
    "    'L_3' : -0.003070,\n",
    "    'L_4' : 0.000089,\n",
    "    'L_5' : 0.000377,\n",
    "    'L_6' : 0.000011,\n",
    "    'L_7' : -0.000340,\n",
    "    'L_8' : 0.000294,\n",
    "    'A_a' : 0.1,\n",
    "    'A_k' : -3.000000,\n",
    "    'A_p' : 4.000000\n",
    "}\n",
    "\n",
    "\n",
    "fit_manager.fk_fpi_fit_fcn(fit_data=fit_data, fit_parameters=fit_parameters, debug=True)"
   ]
  },
  {
   "cell_type": "code",
   "execution_count": null,
   "metadata": {
    "collapsed": true
   },
   "outputs": [],
   "source": []
  }
 ],
 "metadata": {
  "kernelspec": {
   "display_name": "Python 3",
   "language": "python",
   "name": "python3"
  },
  "language_info": {
   "codemirror_mode": {
    "name": "ipython",
    "version": 3
   },
   "file_extension": ".py",
   "mimetype": "text/x-python",
   "name": "python",
   "nbconvert_exporter": "python",
   "pygments_lexer": "ipython3",
   "version": "3.8.2"
  }
 },
 "nbformat": 4,
 "nbformat_minor": 2
}
