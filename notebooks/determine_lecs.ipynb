{
 "cells": [
  {
   "cell_type": "markdown",
   "metadata": {},
   "source": [
    "### Import Modules"
   ]
  },
  {
   "cell_type": "code",
   "execution_count": 47,
   "metadata": {
    "collapsed": true
   },
   "outputs": [],
   "source": [
    "import numpy as np\n",
    "import gvar as gv\n",
    "import lsqfit\n",
    "import sys\n",
    "import os\n",
    "import matplotlib\n",
    "import matplotlib.pyplot as plt\n",
    "import pandas as pd\n",
    "import h5py\n",
    "import time\n",
    "\n",
    "sys.path.append(\"../\")\n",
    "from fitter import data_loader as dl\n",
    "from fitter import bootstrapper as bs\n",
    "from fitter import fitter as fit\n",
    "from fitter import special_functions as sf\n",
    "\n",
    "for j in range(10): # Sometimes this needs to be loaded twice...\n",
    "    matplotlib.rcParams['figure.figsize'] = [10, 10]"
   ]
  },
  {
   "cell_type": "code",
   "execution_count": 49,
   "metadata": {
    "collapsed": false
   },
   "outputs": [
    {
     "data": {
      "text/plain": [
       "<module 'fitter.special_functions' from '../fitter/special_functions.pyc'>"
      ]
     },
     "execution_count": 49,
     "metadata": {},
     "output_type": "execute_result"
    }
   ],
   "source": [
    "reload(bs)\n",
    "reload(dl)\n",
    "reload(fit)\n",
    "reload(sf)"
   ]
  },
  {
   "cell_type": "markdown",
   "metadata": {},
   "source": [
    "### Specify fit parameters"
   ]
  },
  {
   "cell_type": "code",
   "execution_count": 28,
   "metadata": {
    "collapsed": true
   },
   "outputs": [],
   "source": [
    "p_dict = {\n",
    "    'order' : {\n",
    "        'fit' : 'nlo', # 'nlo', 'nnlo', or 'nnnlo'\n",
    "        'vol' : 8 # max 10\n",
    "    }, \n",
    "    'bs_N' : 1,  # if 0, use full list\n",
    "    'fit_type' : 'xpt-taylor', #'ma', 'ma-taylor, 'xpt', or 'xpt-taylor'; also 'simultaneous', 'ma-old'\n",
    "    'F2' : 'FKFpi', #'FKfpi', 'FpiFpi', 'FKFK'\n",
    "    \n",
    "    'use_prior' : False,\n",
    "    'abbrs' : [u'a09m220', u'a09m310', u'a09m350', u'a09m400', u'a12m130',\n",
    "           u'a12m220',  u'a12m220S', u'a12m310', u'a12m350',\n",
    "           u'a12m400', u'a15m220', u'a15m310', u'a15m350', 'a15m400'],\n",
    "    \n",
    "    'make_plots' : True,\n",
    "    'show_error_ellipses' : False,\n",
    "    'show_bs_histograms' : False,\n",
    "    \n",
    "    'save_prior' : False,\n",
    "    'save_results' : False,\n",
    "}"
   ]
  },
  {
   "cell_type": "markdown",
   "metadata": {},
   "source": [
    "### Do fit"
   ]
  },
  {
   "cell_type": "code",
   "execution_count": 29,
   "metadata": {
    "collapsed": false,
    "scrolled": true
   },
   "outputs": [
    {
     "name": "stdout",
     "output_type": "stream",
     "text": [
      "Using default prior.\n",
      "Making fits...\n",
      "100% complete Time (s):  0.372256994247\n",
      "Compiling results...\n",
      "Done.\n",
      "\n",
      "Total time (s):  5.73826003075 \n",
      "\n"
     ]
    }
   ],
   "source": [
    "t0 = time.time()\n",
    "\n",
    "# Load data\n",
    "data_loader = dl.data_loader()\n",
    "fit_data = data_loader.get_fit_data()\n",
    "\n",
    "# Get prior\n",
    "prior = None\n",
    "if p_dict['use_prior']:\n",
    "    prior = data_loader.get_prior(p_dict['fit_type'])\n",
    "\n",
    "# Make bootstrapper\n",
    "bootstrapper = bs.bootstrapper(fit_data, prior=prior, order=p_dict['order'], F2=p_dict['F2'],\n",
    "                               fit_type=p_dict['fit_type'], bs_N=p_dict['bs_N'], abbrs=p_dict['abbrs'])\n",
    "\n",
    "if p_dict['make_plots']:\n",
    "    data_loader.save_plots(\n",
    "        bootstrapper.make_plots(\n",
    "            show_error_ellipses=p_dict['show_error_ellipses'], \n",
    "            show_bootstrap_histograms=p_dict['show_bs_histograms']),\n",
    "        output_filename=bootstrapper.fit_type+'_'+bootstrapper.order['fit']\n",
    "    )\n",
    "else:\n",
    "    print bootstrapper\n",
    "    \n",
    "if False: #p_dict['save_prior']:\n",
    "    print 'Saving prior...'\n",
    "    data_loader.save_prior(bootstrapper.create_prior_from_fit(), p_dict['fit_type'])\n",
    "    \n",
    "if p_dict['save_results']:\n",
    "    data_loader.save_fit_info(bootstrapper.get_fit_info())\n",
    "    \n",
    "    \n",
    "t1 = time.time()\n",
    "\n",
    "print \"\\nTotal time (s): \", t1 - t0, \"\\n\""
   ]
  },
  {
   "cell_type": "code",
   "execution_count": 22,
   "metadata": {
    "collapsed": true
   },
   "outputs": [],
   "source": [
    "myfit = bootstrapper.fits[0]"
   ]
  },
  {
   "cell_type": "code",
   "execution_count": 25,
   "metadata": {
    "collapsed": false
   },
   "outputs": [
    {
     "data": {
      "text/plain": [
       "BufferDict([('mpi', array([6.65491974e-05, 1.18907520e-04, 1.94264299e-04, 1.44152825e-04,\n",
       "       2.47567722e-04, 1.74591039e-04, 3.16631509e-04, 1.68716994e-04,\n",
       "       2.01975052e-04, 1.63326009e-04, 1.86459309e-04, 2.97297713e-04,\n",
       "       2.89473383e-04, 3.03481609e-04])), ('mk', array([9.87188715e-05, 1.39753944e-04, 1.18677093e-04, 1.23954989e-04,\n",
       "       2.27785883e-04, 1.70332816e-04, 2.12615307e-04, 2.07414419e-04,\n",
       "       1.59972495e-04, 1.41836084e-04, 2.06529783e-04, 2.41664605e-04,\n",
       "       2.64537372e-04, 2.64896696e-04])), ('mss', array([7.40163784e-05, 1.05929825e-04, 1.05298574e-04, 1.08070049e-04,\n",
       "       1.05393558e-04, 1.16792382e-04, 1.43230670e-04, 1.58676720e-04,\n",
       "       1.33100200e-04, 1.25779834e-04, 1.30922159e-04, 1.64787083e-04,\n",
       "       2.21221492e-04, 2.20367015e-04])), ('mju', array([0.00026616, 0.00036636, 0.00067445, 0.00090075, 0.00131229,\n",
       "       0.00087781, 0.00087781, 0.00090659, 0.00125692, 0.00159482,\n",
       "       0.00212134, 0.00132647, 0.00348649, 0.00235276])), ('mjs', array([0.00034111, 0.00042231, 0.00081614, 0.00115022, 0.00086622,\n",
       "       0.00079052, 0.00079052, 0.00099572, 0.00167821, 0.00108822,\n",
       "       0.00098658, 0.00093275, 0.00297365, 0.0035659 ])), ('mru', array([0.00039242, 0.00050935, 0.00060913, 0.0008055 , 0.00141703,\n",
       "       0.00091224, 0.00091224, 0.00098363, 0.00279363, 0.00124098,\n",
       "       0.00158875, 0.00117126, 0.00374599, 0.00202877])), ('mrs', array([0.00021141, 0.00029188, 0.00052669, 0.00060932, 0.00034411,\n",
       "       0.00033912, 0.00033912, 0.00043382, 0.00111285, 0.00070056,\n",
       "       0.00054275, 0.00073587, 0.00168284, 0.00173179])), ('a2DI', array([0.00042252, 0.00042252, 0.00042252, 0.00042252, 0.00262651,\n",
       "       0.00262651, 0.00262651, 0.00262651, 0.00262651, 0.00262651,\n",
       "       0.01058125, 0.01058125, 0.01058125, 0.01058125])), ('lam2_chi', array([0.00103749, 0.00098201, 0.0010908 , 0.00108264, 0.00305594,\n",
       "       0.00210738, 0.00255366, 0.00172955, 0.00175224, 0.00171109,\n",
       "       0.0018567 , 0.00198554, 0.00237067, 0.00269658])), ('L', array([0.00048, 0.00032, 0.00032, 0.00032, 0.00048, 0.00032, 0.00024,\n",
       "       0.00024, 0.00024, 0.00024, 0.00024, 0.00016, 0.00016, 0.00016])), ('a/w0', array([0.0003, 0.0003, 0.0003, 0.0003, 0.0005, 0.0005, 0.0005, 0.0005,\n",
       "       0.0005, 0.0005, 0.0003, 0.0003, 0.0003, 0.0003])), ('L_5', 9.625823613313785e-06)])"
      ]
     },
     "execution_count": 25,
     "metadata": {},
     "output_type": "execute_result"
    }
   ],
   "source": [
    "myfit.psdev"
   ]
  },
  {
   "cell_type": "code",
   "execution_count": 69,
   "metadata": {
    "collapsed": false
   },
   "outputs": [
    {
     "data": {
      "text/plain": [
       "BufferDict([('xpt-taylor_nnlo', array([1.1434(28), 1.1101(24), 1.0994(23), 1.0810(22), 1.1600(52),\n",
       "       1.1306(32), 1.1378(40), 1.1033(26), 1.0876(28), 1.0739(22),\n",
       "       1.1263(19), 1.1015(19), 1.0884(19), 1.0713(20)], dtype=object))])"
      ]
     },
     "execution_count": 69,
     "metadata": {},
     "output_type": "execute_result"
    }
   ],
   "source": [
    "myfit.data"
   ]
  },
  {
   "cell_type": "code",
   "execution_count": 66,
   "metadata": {
    "collapsed": false
   },
   "outputs": [
    {
     "data": {
      "text/plain": [
       "0.9682(30)"
      ]
     },
     "execution_count": 66,
     "metadata": {},
     "output_type": "execute_result"
    }
   ],
   "source": [
    "def test(self):\n",
    "    temp_prior  = {}\n",
    "    for key in self.get_fit_parameters().keys():\n",
    "        #temp_prior[key] = gv.gvar(0, 0)\n",
    "        if True: #key in ['L_5']:\n",
    "            value = np.random.normal(gv.mean(self.get_fit_parameters(key)), gv.sdev(self.get_fit_parameters(key)))\n",
    "            temp_prior[key] = value\n",
    "        \n",
    "    return self.fk_fpi_fit_fcn(fit_parameters=temp_prior)\n",
    "\n",
    "test(bootstrapper)"
   ]
  },
  {
   "cell_type": "code",
   "execution_count": 76,
   "metadata": {
    "collapsed": false
   },
   "outputs": [
    {
     "data": {
      "text/plain": [
       "1.1745(47)"
      ]
     },
     "execution_count": 76,
     "metadata": {},
     "output_type": "execute_result"
    }
   ],
   "source": [
    "myarray = [test(bootstrapper) for j in range(100)]\n",
    "np.median(myarray)"
   ]
  },
  {
   "cell_type": "code",
   "execution_count": null,
   "metadata": {
    "collapsed": true
   },
   "outputs": [],
   "source": []
  },
  {
   "cell_type": "code",
   "execution_count": 116,
   "metadata": {
    "collapsed": false
   },
   "outputs": [
    {
     "name": "stdout",
     "output_type": "stream",
     "text": [
      "A_ap is hopeless: -0.00001(18) vs 0.00106834119412\n",
      "A_ak is hopeless: -0.00004(53) vs 0.00106834119412\n",
      "A_aa is hopeless: -2(1035)e-08 vs 0.00106834119412\n"
     ]
    }
   ],
   "source": [
    "def test(self):\n",
    "    temp_data = self._make_fit_data(0)\n",
    "    eps2_a = np.median((temp_data['a/w0'] / (4 *np.pi))**2)\n",
    "    eps2_k = np.median((temp_data['mk'])**2 / temp_data['lam2_chi'])\n",
    "    eps2_pi = np.median((temp_data['mpi'])**2 / temp_data['lam2_chi'])\n",
    "    temp = self.fits[0].fcn_p\n",
    "    fk_fpi = (np.median(temp[temp.keys()[0]]))\n",
    "    \n",
    "    for key in self.get_fit_parameters():\n",
    "        value = 0\n",
    "        if key == 'A_a':\n",
    "            value = self.get_fit_parameters(key) *eps2_a\n",
    "            \n",
    "        elif key == 'A_k':\n",
    "            value = self.get_fit_parameters(key) *eps2_k\n",
    "            \n",
    "        elif key == 'A_p':\n",
    "            value = self.get_fit_parameters(key) *eps2_pi\n",
    "        \n",
    "        elif key == 'A_aa':\n",
    "            value = self.get_fit_parameters(key) *eps2_a**2\n",
    "            \n",
    "        elif key == 'A_ak':\n",
    "            value = self.get_fit_parameters(key) *eps2_a *eps2_k\n",
    "            \n",
    "        elif key == 'A_ap':\n",
    "            value = self.get_fit_parameters(key) *eps2_a *eps2_pi\n",
    "            \n",
    "        elif key == 'A_kk':\n",
    "            value = self.get_fit_parameters(key) *eps2_k**2\n",
    "            \n",
    "        elif key == 'A_kp':\n",
    "            value = self.get_fit_parameters(key) *eps2_k *eps2_pi\n",
    "            \n",
    "        elif key == 'A_pp':\n",
    "            value = self.get_fit_parameters(key) *eps2_pi**2\n",
    "        \n",
    "        value = value *(eps2_k - eps2_pi)\n",
    "        if key not in ['L_4', 'L_5']:\n",
    "            if ((np.abs(gv.mean(value)+gv.sdev(value)) < gv.sdev(fk_fpi)) \n",
    "                    and (np.abs(gv.mean(value)-gv.sdev(value)) < gv.sdev(fk_fpi))):\n",
    "                print key, \"is hopeless:\", value, 'vs', gv.sdev(fk_fpi)\n",
    "    \n",
    "test(bootstrapper)"
   ]
  },
  {
   "cell_type": "code",
   "execution_count": null,
   "metadata": {
    "collapsed": true
   },
   "outputs": [],
   "source": []
  },
  {
   "cell_type": "markdown",
   "metadata": {},
   "source": [
    "### Or make all fits"
   ]
  },
  {
   "cell_type": "code",
   "execution_count": 50,
   "metadata": {
    "collapsed": true
   },
   "outputs": [],
   "source": [
    "p_dict = {\n",
    "    'order' : {\n",
    "        'vol' : 8 # max 10\n",
    "    }, \n",
    "    'bs_N' : 1,  # if 0, use full list\n",
    "    'F2' : 'FKFpi', #'FKfpi', 'FpiFpi', 'FKFK'\n",
    "\n",
    "    'use_prior' : False,\n",
    "    'abbrs' : [u'a09m220', u'a09m310', u'a09m350', u'a09m400', u'a12m130',\n",
    "           u'a12m220',  u'a12m220S', u'a12m310', u'a12m350',\n",
    "           u'a12m400', u'a15m220', u'a15m310', u'a15m350', 'a15m400'],\n",
    "\n",
    "    'make_plots' : True,\n",
    "    'show_error_ellipses' : False,\n",
    "    'show_bs_histograms' : False,\n",
    "\n",
    "    'save_prior' : False,\n",
    "    'save_results' : True,\n",
    "}"
   ]
  },
  {
   "cell_type": "code",
   "execution_count": 51,
   "metadata": {
    "collapsed": false,
    "scrolled": true
   },
   "outputs": [
    {
     "name": "stdout",
     "output_type": "stream",
     "text": [
      "xpt nlo\n",
      "Using default prior.\n",
      "Making fits...\n",
      "100% complete Time (s):  0.528932094574\n",
      "Compiling results...\n",
      "Done.\n",
      "Saving...\n",
      "Done.\n",
      "\n",
      "Total time (s):  7.46955084801 \n",
      "\n",
      "xpt nnlo\n",
      "Using default prior.\n",
      "Making fits...\n",
      "100% complete Time (s):  1.46111679077\n",
      "Compiling results...\n",
      "Done.\n",
      "Saving...\n",
      "Done.\n",
      "\n",
      "Total time (s):  10.4104230404 \n",
      "\n",
      "xpt-taylor nlo\n",
      "Using default prior.\n",
      "Making fits...\n",
      "100% complete Time (s):  0.602602005005\n",
      "Compiling results...\n",
      "Done.\n",
      "Saving...\n",
      "Done.\n",
      "\n",
      "Total time (s):  6.98909497261 \n",
      "\n",
      "xpt-taylor nnlo\n",
      "Using default prior.\n",
      "Making fits...\n",
      "100% complete Time (s):  1.10137295723\n",
      "Compiling results...\n",
      "Done.\n",
      "Saving...\n",
      "Done.\n",
      "\n",
      "Total time (s):  7.74492096901 \n",
      "\n",
      "ma nlo\n",
      "Using default prior.\n",
      "Making fits...\n",
      "100% complete Time (s):  1.70426797867\n",
      "Compiling results...\n",
      "Done.\n",
      "Saving...\n",
      "Done.\n",
      "\n",
      "Total time (s):  41.2194199562 \n",
      "\n",
      "ma nnlo\n",
      "Using default prior.\n",
      "Making fits...\n",
      "100% complete Time (s):  2.62448692322\n",
      "Compiling results...\n",
      "Done.\n",
      "Saving...\n",
      "Done.\n",
      "\n",
      "Total time (s):  40.6861710548 \n",
      "\n",
      "ma-taylor nlo\n",
      "Using default prior.\n",
      "Making fits...\n",
      "100% complete Time (s):  1.86272406578\n",
      "Compiling results...\n",
      "Done.\n",
      "Saving...\n",
      "Done.\n",
      "\n",
      "Total time (s):  36.9246530533 \n",
      "\n",
      "ma-taylor nnlo\n",
      "Using default prior.\n",
      "Making fits...\n",
      "100% complete Time (s):  3.04147601128\n",
      "Compiling results...\n",
      "Done.\n",
      "Saving...\n",
      "Done.\n",
      "\n",
      "Total time (s):  38.6414840221 \n",
      "\n"
     ]
    }
   ],
   "source": [
    "for fit_type in ['xpt', 'xpt-taylor', 'ma', 'ma-taylor']:#, 'ma-old']:\n",
    "    for order_fit in ['nlo', 'nnlo']:#, 'nnnlo']:\n",
    "        \n",
    "        print fit_type, order_fit\n",
    "        \n",
    "        # Specify fit parameters\n",
    "        p_dict['order']['fit'] = order_fit\n",
    "        p_dict['fit_type'] = fit_type\n",
    "        \n",
    "        # Do fit\n",
    "        t0 = time.time()\n",
    "\n",
    "        # Load data\n",
    "        data_loader = dl.data_loader()\n",
    "        fit_data = data_loader.get_fit_data()\n",
    "\n",
    "        # Get prior\n",
    "        prior = None\n",
    "        if p_dict['use_prior']:\n",
    "            prior = data_loader.get_prior(p_dict['fit_type'])\n",
    "\n",
    "        # Make bootstrapper\n",
    "        bootstrapper = bs.bootstrapper(fit_data, prior=prior, order=p_dict['order'], F2=p_dict['F2'],\n",
    "                                       fit_type=p_dict['fit_type'], bs_N=p_dict['bs_N'], abbrs=p_dict['abbrs'])\n",
    "\n",
    "        if p_dict['make_plots']:\n",
    "            data_loader.save_plots(\n",
    "                bootstrapper.make_plots(\n",
    "                    show_error_ellipses=p_dict['show_error_ellipses'], \n",
    "                    show_bootstrap_histograms=p_dict['show_bs_histograms']),\n",
    "                output_filename=bootstrapper.fit_type+'_'+bootstrapper.order['fit']\n",
    "            )\n",
    "        else:\n",
    "            print bootstrapper\n",
    "\n",
    "        if p_dict['save_prior']:\n",
    "            print 'Saving prior...'\n",
    "            data_loader.save_prior(bootstrapper.create_prior_from_fit(), p_dict['fit_type'])\n",
    "\n",
    "        if p_dict['save_results']:\n",
    "            data_loader.save_fit_info(bootstrapper.get_fit_info())\n",
    "\n",
    "\n",
    "        t1 = time.time()\n",
    "        \n",
    "        #print test(bootstrapper)\n",
    "\n",
    "        print \"\\nTotal time (s): \", t1 - t0, \"\\n\""
   ]
  },
  {
   "cell_type": "code",
   "execution_count": 38,
   "metadata": {
    "collapsed": true
   },
   "outputs": [],
   "source": [
    "#bootstrapper.fits[0].show_plots(view='std')"
   ]
  },
  {
   "cell_type": "code",
   "execution_count": null,
   "metadata": {
    "collapsed": true
   },
   "outputs": [],
   "source": []
  }
 ],
 "metadata": {
  "kernelspec": {
   "display_name": "Python 2",
   "language": "python",
   "name": "python2"
  },
  "language_info": {
   "codemirror_mode": {
    "name": "ipython",
    "version": 2
   },
   "file_extension": ".py",
   "mimetype": "text/x-python",
   "name": "python",
   "nbconvert_exporter": "python",
   "pygments_lexer": "ipython2",
   "version": "2.7.13"
  }
 },
 "nbformat": 4,
 "nbformat_minor": 2
}
