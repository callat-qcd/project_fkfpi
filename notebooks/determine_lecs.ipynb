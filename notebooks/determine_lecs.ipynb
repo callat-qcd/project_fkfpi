{
 "cells": [
  {
   "cell_type": "markdown",
   "metadata": {},
   "source": [
    "### Import Modules"
   ]
  },
  {
   "cell_type": "code",
   "execution_count": 30,
   "metadata": {
    "collapsed": true
   },
   "outputs": [],
   "source": [
    "import numpy as np\n",
    "import gvar as gv\n",
    "import lsqfit\n",
    "import sys\n",
    "import os\n",
    "import matplotlib\n",
    "import matplotlib.pyplot as plt\n",
    "import pandas as pd\n",
    "import h5py\n",
    "\n",
    "sys.path.append(\"../\")\n",
    "from fitter import data_loader as dl\n",
    "from fitter import bootstrapper as bs\n",
    "from fitter import fitter as fit\n",
    "\n",
    "matplotlib.rcParams['figure.figsize'] = [10, 10]"
   ]
  },
  {
   "cell_type": "code",
   "execution_count": 112,
   "metadata": {},
   "outputs": [
    {
     "data": {
      "text/plain": [
       "<module 'fitter.fitter' from '../fitter\\fitter.pyc'>"
      ]
     },
     "execution_count": 112,
     "metadata": {},
     "output_type": "execute_result"
    }
   ],
   "source": [
    "reload(bs)\n",
    "reload(dl)\n",
    "reload(fit)"
   ]
  },
  {
   "cell_type": "markdown",
   "metadata": {},
   "source": [
    "### Load data"
   ]
  },
  {
   "cell_type": "code",
   "execution_count": 113,
   "metadata": {
    "collapsed": true
   },
   "outputs": [],
   "source": [
    "data_loader = dl.data_loader()\n",
    "\n",
    "fit_data = data_loader.get_fit_data()\n",
    "prior = data_loader.get_prior()"
   ]
  },
  {
   "cell_type": "code",
   "execution_count": 115,
   "metadata": {},
   "outputs": [],
   "source": [
    "bootstrapper = bs.bootstrapper(fit_data, prior=prior, order=0, bs_N=500)"
   ]
  },
  {
   "cell_type": "code",
   "execution_count": 124,
   "metadata": {
    "scrolled": true
   },
   "outputs": [
    {
     "name": "stdout",
     "output_type": "stream",
     "text": [
      "Making fits...\n",
      "100% complete                                                                                                                                                                                                               Time (s):  5.23500013351\n"
     ]
    }
   ],
   "source": [
    " bootstrapper.bootstrap_fits()"
   ]
  },
  {
   "cell_type": "code",
   "execution_count": 126,
   "metadata": {
    "scrolled": false
   },
   "outputs": [
    {
     "data": {
      "text/plain": [
       "0.00537(16)"
      ]
     },
     "execution_count": 126,
     "metadata": {},
     "output_type": "execute_result"
    }
   ],
   "source": [
    "to_gvar(bootstrapper.get_bootstrap_parameters()['l_5lam'])"
   ]
  },
  {
   "cell_type": "code",
   "execution_count": 127,
   "metadata": {},
   "outputs": [
    {
     "data": {
      "text/plain": [
       "BufferDict([('l_5lam', 0.0055(12))])"
      ]
     },
     "execution_count": 127,
     "metadata": {},
     "output_type": "execute_result"
    }
   ],
   "source": [
    "bootstrapper.get_fit_parameters()"
   ]
  },
  {
   "cell_type": "code",
   "execution_count": 135,
   "metadata": {},
   "outputs": [
    {
     "data": {
      "text/plain": [
       "{'fk_fpi': array([1.106(24), 1.086(20), 1.078(18), 1.064(15), 1.081(27), 1.051(24),\n",
       "        1.075(24), 1.071(24), 1.051(20), 1.044(18), 1.030(15), 1.192(27),\n",
       "        1.271(24), 1.110(21), 1.142(19), 1.074(16)], dtype=object)}"
      ]
     },
     "execution_count": 135,
     "metadata": {},
     "output_type": "execute_result"
    }
   ],
   "source": [
    "    def get_fit_fcn(self, prepped_data=None, fit_parameters=None):\n",
    "        if fit_parameters is None:\n",
    "            fit_parameters = self.get_fit_parameters()\n",
    "\n",
    "        models = fit.fitter(order=self.order)._make_models(fit_data)\n",
    "        return {model.datatag : model.fitfcn(p=fit_parameters, fit_data=prepped_data) for model in models}\n",
    "    \n",
    "    get_fit_fcn(bootstrapper, bootstrapper._make_fit_data(0))"
   ]
  },
  {
   "cell_type": "code",
   "execution_count": 136,
   "metadata": {},
   "outputs": [
    {
     "data": {
      "text/plain": [
       "[u'FK',\n",
       " u'Fpi',\n",
       " u'Fss',\n",
       " u'MpiL',\n",
       " u'a2DI',\n",
       " u'alpha_s',\n",
       " u'aw0',\n",
       " u'mjs',\n",
       " u'mju',\n",
       " u'mk',\n",
       " u'mpi',\n",
       " u'mq_l',\n",
       " u'mq_s',\n",
       " u'mres_l',\n",
       " u'mres_s',\n",
       " u'mrs',\n",
       " u'mru',\n",
       " u'mss',\n",
       " u'z0_k',\n",
       " u'z0_pi',\n",
       " u'z0_ss']"
      ]
     },
     "execution_count": 136,
     "metadata": {},
     "output_type": "execute_result"
    }
   ],
   "source": [
    "data_loader.get_variable_names()"
   ]
  },
  {
   "cell_type": "code",
   "execution_count": 118,
   "metadata": {},
   "outputs": [
    {
     "data": {
      "text/plain": [
       "[u'a09m220',\n",
       " u'a09m310',\n",
       " u'a09m350',\n",
       " u'a09m400',\n",
       " u'a12m130',\n",
       " u'a12m220',\n",
       " u'a12m220L',\n",
       " u'a12m220S',\n",
       " u'a12m310',\n",
       " u'a12m350',\n",
       " u'a12m400',\n",
       " u'a15m130',\n",
       " u'a15m220',\n",
       " u'a15m310',\n",
       " u'a15m350',\n",
       " u'a15m400']"
      ]
     },
     "execution_count": 118,
     "metadata": {},
     "output_type": "execute_result"
    }
   ],
   "source": [
    "data_loader.get_ensembles()"
   ]
  },
  {
   "cell_type": "markdown",
   "metadata": {},
   "source": [
    "### Bootstrap"
   ]
  },
  {
   "cell_type": "code",
   "execution_count": 8,
   "metadata": {
    "collapsed": true
   },
   "outputs": [],
   "source": [
    "bootstrapper = bs.bootstrapper(fit_data, prior=prior, order=0, bs_N=500)\n",
    "#bootstrapper.plot_parameters(xy_parameters=['a', 'm_pion'], color_parameter='V')\n",
    "#data_loader.save_plots(bootstrapper)\n",
    "#bootstrapper.plot_fit()"
   ]
  },
  {
   "cell_type": "code",
   "execution_count": 54,
   "metadata": {},
   "outputs": [
    {
     "name": "stdout",
     "output_type": "stream",
     "text": [
      "Fitting to $O(\\epsilon^4)$\n",
      "Fitted/[Experimental] values at physical point:\n",
      "$m_\\Omega$ (MeV)$=$1640(10) [1672.45(29)]\n",
      "\n",
      "          Parameter    Result[0] / Prior[1]            Parameter    Result[0] / Prior[1]\n",
      "-------------------------------------------  -------------------------------------------\n",
      "        t_A_omega 0             -39.9 (9.2)          m_omega_0 0               1595 (20)\n",
      "                  1                -25 (50)                    1              1630 (300)\n",
      "            c_2_a 0             -2852 (327)       beta_4_omega 0                140 (31)\n",
      "                  1            -3300 (1000)                    1               200 (500)\n",
      "  sigma_bar_omega 0               5.8 (1.4)           c_volume 0               387 (361)\n",
      "                  1                  5 (10)                    1            -1000 (2000)\n",
      "Total time (s):  0.0106558799744\n"
     ]
    }
   ],
   "source": [
    "import time\n",
    "t0 = time.time()\n",
    "print bootstrapper\n",
    "t1 = time.time()\n",
    "print \"Total time (s): \", t1 - t0\n",
    "\n",
    "#squared = lambda x : x**2\n",
    "#bootstrapper.plot_fit(xfcn=squared, xlabel='$m_{\\pi}^2$ (MeV)$^2$')\n",
    "#bootstrapper.plot_fit()\n",
    "\n",
    "#print bootstrapper.fits[1]"
   ]
  },
  {
   "cell_type": "code",
   "execution_count": null,
   "metadata": {
    "collapsed": true
   },
   "outputs": [],
   "source": []
  }
 ],
 "metadata": {
  "kernelspec": {
   "display_name": "Python 2",
   "language": "python",
   "name": "python2"
  },
  "language_info": {
   "codemirror_mode": {
    "name": "ipython",
    "version": 2
   },
   "file_extension": ".py",
   "mimetype": "text/x-python",
   "name": "python",
   "nbconvert_exporter": "python",
   "pygments_lexer": "ipython2",
   "version": "2.7.14"
  }
 },
 "nbformat": 4,
 "nbformat_minor": 2
}
