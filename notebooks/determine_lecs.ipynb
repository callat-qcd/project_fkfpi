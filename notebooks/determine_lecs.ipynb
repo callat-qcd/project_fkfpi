{
 "cells": [
  {
   "cell_type": "markdown",
   "metadata": {},
   "source": [
    "### Import Modules"
   ]
  },
  {
   "cell_type": "code",
   "execution_count": 1,
   "metadata": {},
   "outputs": [],
   "source": [
    "import numpy as np\n",
    "import gvar as gv\n",
    "import lsqfit\n",
    "import sys\n",
    "import os\n",
    "import matplotlib\n",
    "import matplotlib.pyplot as plt\n",
    "import pandas as pd\n",
    "import h5py\n",
    "import time\n",
    "\n",
    "\n",
    "sys.path.append(\"../\")\n",
    "import fitter.data_loader as dl\n",
    "import fitter.fit_manager as fm\n",
    "import fitter.fitter as fit\n",
    "import fitter.special_functions as sf\n",
    "\n",
    "for j in range(10): # Sometimes this needs to be loaded twice...\n",
    "    matplotlib.rcParams['figure.figsize'] = [10, 10]"
   ]
  },
  {
   "cell_type": "code",
   "execution_count": 113,
   "metadata": {},
   "outputs": [
    {
     "data": {
      "text/plain": [
       "<module 'fitter.fit_manager' from '../fitter/fit_manager.py'>"
      ]
     },
     "execution_count": 113,
     "metadata": {},
     "output_type": "execute_result"
    }
   ],
   "source": [
    "from importlib import reload\n",
    "reload(dl)\n",
    "reload(sf)\n",
    "reload(fit)\n",
    "reload(fm)"
   ]
  },
  {
   "cell_type": "markdown",
   "metadata": {},
   "source": [
    "### Specify fit parameters"
   ]
  },
  {
   "cell_type": "code",
   "execution_count": 114,
   "metadata": {},
   "outputs": [],
   "source": [
    "params = {\n",
    "    'collection_name' : 'test', \n",
    "    \n",
    "    'model_info' : {\n",
    "        'fit_type' : 'xpt-ratio', # 'ma', 'ma-ratio', 'xpt', 'xpt-ratio', or 'poly'\n",
    "        'order' : 'n2lo', # 'nlo', 'n2lo', 'n3lo'\n",
    "        'latt_ct' : 'n2lo', # n2lo : a^2; n3lo : a^4; etc\n",
    "        'F2' : 'FKFK', #'FKFpi', 'FpiFpi', 'FKFK', 'F0F0' (HPQCD choice)\n",
    "\n",
    "        'include_FV' : True, # max 10\n",
    "        'exclude' : [], # put LECs here\n",
    "        'use_bijnens_central_value' : True,\n",
    "        \n",
    "        # semi-nnlo corrections\n",
    "        'include_alpha_s' : False,\n",
    "        'include_log' : False, \n",
    "        'include_log2' : False,\n",
    "        'include_sunset' : False,\n",
    "    }, \n",
    "\n",
    "    'fast_susnet' : False,\n",
    "    'use_prior' : False,\n",
    "    'bias_correct' : True,\n",
    "    #'include_su2_isospin_corrrection' : False,\n",
    "    \n",
    "    'abbrs' : [u'a06m310L', u'a09m135', u'a09m220', u'a09m310', u'a09m350', u'a09m400', u'a12m130',\n",
    "           u'a12m220',  u'a12m220S', u'a12m220L', u'a12m310', u'a12m350',\n",
    "           u'a12m400',  u'a15m135XL', u'a15m220', u'a15m310', u'a15m350', 'a15m400'], # u'a15m130'\n",
    "    \n",
    "    'make_plots' : False,\n",
    "    'show_error_ellipses' : True,\n",
    "    \n",
    "    'save_results' : False,\n",
    "    'save_pickles' : True,\n",
    "}"
   ]
  },
  {
   "cell_type": "code",
   "execution_count": 115,
   "metadata": {
    "scrolled": false
   },
   "outputs": [
    {
     "name": "stdout",
     "output_type": "stream",
     "text": [
      "Using default prior.\n",
      "Making fit...\n",
      "Done!\n",
      "Time (s):  3.097900390625\n",
      "\n",
      "Model: xpt-ratio_FKFK_n2lo_FV_bijnens\n",
      "\n",
      "Fitted/[FLAG] values at physical point:\n",
      "\tF_K / F_pi = 1.1839(29) [1.1955(19)]\t(delta_su2 = -0.00391(69))\n",
      "\n",
      "Parameters:\n",
      "            L_4    -0.00369 (32)       [   0.0000 (50) ]  \n",
      "            L_5   -0.001054 (97)       [   0.0000 (50) ]  \n",
      "            A_k        0.7 (1.5)       [        0 (10) ]  \n",
      "            A_p       -1.56 (20)       [        0 (10) ]  \n",
      "            A_a       -6.12 (40)       [       0 (100) ]  \n",
      "\n",
      "Least Square Fit:\n",
      "  chi2/dof [dof] = 1.1 [18]    Q = 0.35    logGBF = 65.129\n",
      "\n",
      "Settings:\n",
      "  svdcut/n = 1e-12/0    tol = (1e-08*,1e-10,1e-10)    (itns/time = 43/3.0)\n",
      "\n",
      "Error Budget (relative error):\n",
      "  disc       5.2e-06\n",
      "  chiral     1.7e-04\n",
      "  pp_input   1.8e-03\n",
      "  stat       1.6e-03\n",
      "\n",
      "\n",
      "Total time (s):  4.1622607707977295 \n",
      "\n"
     ]
    }
   ],
   "source": [
    "t0 = time.time()\n",
    "\n",
    "# Load data\n",
    "data_loader = dl.data_loader()\n",
    "fit_data = data_loader.get_fit_data()\n",
    "phys_point_data = data_loader.get_phys_point_data()\n",
    "params['model_info']['name'] = data_loader.get_model_name_from_model_info(params['model_info'])\n",
    "\n",
    "# Get prior\n",
    "prior = None\n",
    "if params['use_prior']:\n",
    "    prior = data_loader.get_prior(model_info=params['model_info'], collection_name=params['collection_name'])\n",
    "    \n",
    "# Make fit\n",
    "fit_manager = fm.fit_manager(fit_data, phys_point_data, prior=prior, **params)\n",
    "\n",
    "if params['make_plots']:\n",
    "    data_loader.save_plots(\n",
    "        fit_manager.make_plots(show_error_ellipses=params['show_error_ellipses']),\n",
    "        output_filename=params['collection_name']+'/fits/'+fit_manager.model\n",
    "    )\n",
    "else:\n",
    "    print(fit_manager)\n",
    "    #print(fit_manager.fit)\n",
    "    \n",
    "if params['save_results']:\n",
    "    data_loader.save_fit_info(\n",
    "        fit_manager.fit_info,\n",
    "        collection_name=params['collection_name'], \n",
    "        save_pickles=params['save_pickles']\n",
    "    )\n",
    "\n",
    "    \n",
    "    \n",
    "t1 = time.time()\n",
    "\n",
    "print(\"\\nTotal time (s): \", t1 - t0, \"\\n\")"
   ]
  },
  {
   "cell_type": "code",
   "execution_count": null,
   "metadata": {},
   "outputs": [],
   "source": []
  },
  {
   "cell_type": "code",
   "execution_count": null,
   "metadata": {},
   "outputs": [],
   "source": []
  },
  {
   "cell_type": "code",
   "execution_count": 172,
   "metadata": {},
   "outputs": [
    {
     "name": "stdout",
     "output_type": "stream",
     "text": [
      "   1.151200:  nlo_xpt\n",
      "  -0.027653:  n2lo_ct\n",
      "   0.034615:  n2lo_ratio\n",
      "  -0.058106:  n2lo_scale\n",
      "   0.046610:  n2lo_log\n",
      "   0.018525:  n2lo_logSq\n",
      "   0.006131:  n2lo_sunset\n",
      "   0.003029:  n2lo_alphaS\n",
      "   0.007489:  n3lo_ct\n",
      "   -----\n",
      "   1.181839:  total\n",
      "\n"
     ]
    },
    {
     "data": {
      "text/plain": [
       "1.1818387362596905"
      ]
     },
     "execution_count": 172,
     "metadata": {},
     "output_type": "execute_result"
    }
   ],
   "source": [
    "fit_data = {\n",
    "    'mpi' : 135.0,\n",
    "    'mk' : 495.5,\n",
    "    'Fpi' : 92.2,\n",
    "    'FK' : 110.0,\n",
    "    'a/w0' : 0.8,\n",
    "    'mss' : 520.0,\n",
    "    'mju' : 200.0,\n",
    "    'mjs' : 510.0,\n",
    "    'mru' : 505.0,\n",
    "    'mrs' : 525.0,\n",
    "    'a2DI' : 160000.0,\n",
    "    'alpha_s' : 0.2,\n",
    "    'L' : 0.025925925925925925\n",
    "}\n",
    "fit_data['lam2_chi'] = (4 *np.pi *fit_data['FK']) * (4 *np.pi *fit_data['FK']) \n",
    "\n",
    "posterior = {\n",
    "    'L_1' : 0.000372,\n",
    "    'L_2' : 0.000493,\n",
    "    'L_3' : -0.00307,\n",
    "    'L_4' : 8.9e-05,\n",
    "    'L_5' : 0.000377,\n",
    "    'L_6' : 1.1e-05,\n",
    "    'L_7' : -0.00034,\n",
    "    'L_8' : 0.000294,\n",
    "    'A_k' : -3.0,\n",
    "    'A_p' : 4.0,\n",
    "    'A_a' : 1.5,\n",
    "    'A_loga' : 2.5,\n",
    "    'A_kp' : 2.1,\n",
    "    'A_kk' : 2.2,\n",
    "    'A_pp': 2.3,\n",
    "    'A_aa' : 2.4,\n",
    "    'A_ak' : 2.5,\n",
    "    'A_ap' : 2.6,\n",
    "}\n",
    "\n",
    "fit_manager.fk_fpi_fit_fcn(fit_data=fit_data, posterior=posterior, fit_type='xpt-ratio', debug=True)"
   ]
  },
  {
   "cell_type": "code",
   "execution_count": 144,
   "metadata": {},
   "outputs": [
    {
     "data": {
      "text/plain": [
       "-0.043072381578811894"
      ]
     },
     "execution_count": 144,
     "metadata": {},
     "output_type": "execute_result"
    }
   ],
   "source": [
    "p = {}\n",
    "p.update(posterior)\n",
    "p.update(fit_data)\n",
    "    \n",
    "def fitfcn_n2lo_pure_ct(p):\n",
    "    lam2_chi = p['lam2_chi']\n",
    "    eps2_a = (p['a/w0'])**2 / 4\n",
    "    eps2_pi = p['mpi']**2 / lam2_chi\n",
    "    eps2_k = p['mk']**2 / lam2_chi\n",
    "\n",
    "    output = (\n",
    "        + (eps2_a) *p['A_a']\n",
    "        + (eps2_k) *p['A_k']\n",
    "        + (eps2_pi) *p['A_p']\n",
    "    ) *(eps2_k - eps2_pi)\n",
    "\n",
    "    return output\n",
    "\n",
    "fitfcn_n2lo_pure_ct(p)"
   ]
  },
  {
   "cell_type": "code",
   "execution_count": 142,
   "metadata": {},
   "outputs": [
    {
     "data": {
      "text/plain": [
       "0.037161972221919796"
      ]
     },
     "execution_count": 142,
     "metadata": {},
     "output_type": "execute_result"
    }
   ],
   "source": [
    "p = {}\n",
    "p.update(posterior)\n",
    "p.update(fit_data)\n",
    "    \n",
    "def fitfcn_n3lo_pure_ct(p):\n",
    "    lam2_chi = p['lam2_chi']\n",
    "    eps2_a = (p['a/w0'])**2 / 4\n",
    "    eps2_pi = p['mpi']**2 / lam2_chi\n",
    "    eps2_k = p['mk']**2 / lam2_chi\n",
    "\n",
    "    output = (\n",
    "        + eps2_a *(\n",
    "            + eps2_a  *p['A_aa']\n",
    "            + eps2_k  *p['A_ak']\n",
    "            + eps2_pi *p['A_ap']\n",
    "        )\n",
    "        + eps2_k *(\n",
    "            + eps2_k  *p['A_kk']\n",
    "            + eps2_pi *p['A_kp']\n",
    "        )\n",
    "        + eps2_pi *(\n",
    "            + eps2_pi *p['A_pp']\n",
    "        )\n",
    "    ) *(eps2_k - eps2_pi)\n",
    "\n",
    "    return output\n",
    "\n",
    "fitfcn_n3lo_pure_ct(p)"
   ]
  },
  {
   "cell_type": "code",
   "execution_count": 174,
   "metadata": {},
   "outputs": [
    {
     "data": {
      "text/plain": [
       "0.05118595777803152"
      ]
     },
     "execution_count": 174,
     "metadata": {},
     "output_type": "execute_result"
    }
   ],
   "source": [
    "p = {}\n",
    "p.update(posterior)\n",
    "p.update(fit_data)\n",
    "\n",
    "def fitfcn_semi_n2lo_log_ct(p):\n",
    "    lam2_chi = p['lam2_chi']\n",
    "    eps2_pi = p['mpi']**2 / lam2_chi\n",
    "    eps2_k = p['mk']**2 / lam2_chi\n",
    "    eps2_eta = (4./3) *eps2_k  - (1./3) *eps2_pi\n",
    "\n",
    "    output = (\n",
    "        + sf.fcn_Cr_j(1, eps2_pi, eps2_k, p) *np.log(eps2_pi)\n",
    "        + sf.fcn_Cr_j(2, eps2_pi, eps2_k, p) *np.log(eps2_k)\n",
    "        + sf.fcn_Cr_j(3, eps2_pi, eps2_k, p) *np.log(eps2_eta)\n",
    "    )\n",
    "\n",
    "    output += (4 *np.pi)**2 *(eps2_k - eps2_pi) *(\n",
    "        + eps2_k *(\n",
    "            + 8 *(4 *np.pi)**2 *p['L_5']*(\n",
    "                + 8 *p['L_4'] + 3 *p['L_5'] - 16 *p['L_6'] - 8 *p['L_8']\n",
    "            )\n",
    "            - 2 *p['L_1'] - p['L_2'] - 1./18 *p['L_3'] +4./3 *p['L_5'] - 16 *p['L_7'] - 8 *p['L_8']\n",
    "        )\n",
    "        + eps2_pi *(\n",
    "            + 8 *(4 *np.pi)**2 *p['L_5']*(\n",
    "                + 4 *p['L_4'] + 5 *p['L_5'] - 8 *p['L_6'] - 8 *p['L_8']\n",
    "            )\n",
    "            - 2 *p['L_1'] - p['L_2'] - 5./18 *p['L_3'] - 4./3 *p['L_5'] + 16 *p['L_7'] + 8 *p['L_8']\n",
    "        )\n",
    "    )\n",
    "    return output\n",
    "\n",
    "fitfcn_semi_n2lo_log_ct(p)"
   ]
  },
  {
   "cell_type": "code",
   "execution_count": 173,
   "metadata": {},
   "outputs": [
    {
     "name": "stdout",
     "output_type": "stream",
     "text": [
      "0.17892752502325104\n"
     ]
    },
    {
     "data": {
      "text/plain": [
       "-0.0024157697513781384"
      ]
     },
     "execution_count": 173,
     "metadata": {},
     "output_type": "execute_result"
    }
   ],
   "source": [
    "p = {}\n",
    "p.update(posterior)\n",
    "p.update(fit_data)\n",
    "\n",
    "def fitfcn_n2lo_renormalization_ct(p, F2):\n",
    "    lam2_chi = p['lam2_chi']\n",
    "    eps2_pi = p['mpi']**2 / lam2_chi\n",
    "    eps2_k = p['mk']**2 / lam2_chi\n",
    "    eps2_eta = (4./3) *eps2_k  - (1./3) *eps2_pi\n",
    "\n",
    "    fcn_l = lambda x : x *np.log(x)\n",
    "    \n",
    "    dFK = -(\n",
    "            + 3./8 *fcn_l(eps2_pi) + 3./4 *fcn_l(eps2_k) + 3./8 *fcn_l(eps2_eta)\n",
    "            - 4 *(4*np.pi)**2 *(eps2_pi *p['L_4'] + eps2_k *(2 *p['L_4'] + p['L_5']))\n",
    "        )\n",
    "\n",
    "    dFpi = -(\n",
    "            + fcn_l(eps2_pi) + 1./2 *fcn_l(eps2_k)\n",
    "            - 4 *(4*np.pi)**2 *(eps2_pi *(p['L_4'] + p['L_5']) + 2 *eps2_k *p['L_4'])\n",
    "        )\n",
    "    \n",
    "    if F2 == 'FpiFpi':\n",
    "        pass\n",
    "    \n",
    "    elif F2 == 'FKFpi':\n",
    "        output = -3 / 4. *(eps2_k - eps2_pi) *(dFK + dFpi)\n",
    "        output += (dFK - dFpi)**2\n",
    "        \n",
    "    elif F2 == 'FKFK':\n",
    "        output = -3 / 2. *(eps2_k - eps2_pi) *dFK\n",
    "        output += 2 *(dFK - dFpi)**2\n",
    "\n",
    "    return output\n",
    "\n",
    "fitfcn_n2lo_renormalization_ct(p, F2='FKFK')"
   ]
  },
  {
   "cell_type": "code",
   "execution_count": null,
   "metadata": {},
   "outputs": [],
   "source": []
  },
  {
   "cell_type": "code",
   "execution_count": null,
   "metadata": {},
   "outputs": [],
   "source": []
  },
  {
   "cell_type": "code",
   "execution_count": null,
   "metadata": {},
   "outputs": [],
   "source": []
  },
  {
   "cell_type": "code",
   "execution_count": 14,
   "metadata": {},
   "outputs": [],
   "source": [
    "fit_manager.plot_parameters(xparam='A_k', show_prior=True);"
   ]
  },
  {
   "cell_type": "code",
   "execution_count": 15,
   "metadata": {},
   "outputs": [],
   "source": [
    "fit_manager.plot_parameters(xparam='A_k', show_posterior=True);"
   ]
  },
  {
   "cell_type": "code",
   "execution_count": null,
   "metadata": {},
   "outputs": [],
   "source": []
  },
  {
   "cell_type": "code",
   "execution_count": 61,
   "metadata": {},
   "outputs": [],
   "source": [
    "class Linear(lsqfit.MultiFitterModel):\n",
    "    def __init__(self, datatag, x, intercept, slope):\n",
    "        super(Linear, self).__init__(datatag)\n",
    "        # the independent variable\n",
    "        self.x = np.array(x)\n",
    "        # keys used to find the intercept and slope in a parameter dictionary\n",
    "        self.intercept = intercept\n",
    "        self.slope = slope\n",
    "\n",
    "    def fitfcn(self, p):\n",
    "        try:\n",
    "            print('Full p', p)\n",
    "            return p[self.intercept] + p[self.slope] * self.x\n",
    "        except KeyError:\n",
    "            print('Marginalized', p)\n",
    "            print(len(self.x) * [p[self.intercept]])\n",
    "            # slope parameter marginalized/omitted\n",
    "            return len(self.x) * [p[self.intercept]]\n",
    "\n",
    "    def buildprior(self, prior, mopt=None):\n",
    "        \" Extract the model's parameters from prior. \"\n",
    "        newprior = {}\n",
    "        newprior[self.intercept] = prior[self.intercept]\n",
    "        if mopt is None:\n",
    "            # slope parameter marginalized/omitted if mopt is not None\n",
    "            newprior[self.slope] = prior[self.slope]\n",
    "            \n",
    "        print(prior)\n",
    "        return newprior\n",
    "\n",
    "    def builddata(self, data):\n",
    "        \" Extract the model's fit data from data. \"\n",
    "        return data[self.datatag]\n",
    "    \n",
    "    \n"
   ]
  },
  {
   "cell_type": "code",
   "execution_count": 62,
   "metadata": {},
   "outputs": [],
   "source": [
    "data = gv.gvar(dict(\n",
    "    d1=['1.154(10)', '2.107(16)', '3.042(22)', '3.978(29)'],\n",
    "    d2=['0.692(10)', '1.196(16)', '1.657(22)', '2.189(29)'],\n",
    "    d3=['0.107(10)', '0.030(16)', '-0.027(22)', '-0.149(29)'],\n",
    "    d4=['0.002(10)', '-0.197(16)', '-0.382(22)', '-0.627(29)'],\n",
    "    ))\n",
    "\n",
    "models = [Linear('d'+str(j), x=[1, 2, 3, 4], intercept='a', slope='s'+str(j)) for j in range(1, 4)]\n",
    "prior = {}\n",
    "prior['a'] = gv.gvar('0(1)')\n",
    "prior['s1'] = gv.gvar('0(1)')\n",
    "prior['s2'] = gv.gvar('0(1)')\n",
    "prior['s3'] = gv.gvar('0(1)')\n",
    "prior['s4'] = gv.gvar('0(1)')"
   ]
  },
  {
   "cell_type": "code",
   "execution_count": 63,
   "metadata": {
    "scrolled": true
   },
   "outputs": [
    {
     "name": "stdout",
     "output_type": "stream",
     "text": [
      "{'a': 0.0(1.0), 's1': 0.0(1.0), 's2': 0.0(1.0), 's3': 0.0(1.0), 's4': 0.0(1.0)}\n",
      "{'a': 0.0(1.0), 's1': 0.0(1.0), 's2': 0.0(1.0), 's3': 0.0(1.0), 's4': 0.0(1.0)}\n",
      "{'a': 0.0(1.0), 's1': 0.0(1.0), 's2': 0.0(1.0), 's3': 0.0(1.0), 's4': 0.0(1.0)}\n",
      "{'a': 0.0(1.0), 's1': 0.0(1.0), 's2': 0.0(1.0), 's3': 0.0(1.0), 's4': 0.0(1.0)}\n",
      "{'a': 0.0(1.0), 's1': 0.0(1.0), 's2': 0.0(1.0), 's3': 0.0(1.0), 's4': 0.0(1.0)}\n",
      "{'a': 0.0(1.0), 's1': 0.0(1.0), 's2': 0.0(1.0), 's3': 0.0(1.0), 's4': 0.0(1.0)}\n",
      "Full p {'a': 0.0(1.0),'s1': 0.0(1.0),'s2': 0.0(1.0),'s3': 0.0(1.0)}\n",
      "Full p {'a': 0.0(1.0),'s1': 0.0(1.0),'s2': 0.0(1.0),'s3': 0.0(1.0)}\n",
      "Full p {'a': 0.0(1.0),'s1': 0.0(1.0),'s2': 0.0(1.0),'s3': 0.0(1.0)}\n",
      "{'a': 0.0(1.0), 's1': 0.0(1.0), 's2': 0.0(1.0), 's3': 0.0(1.0), 's4': 0.0(1.0)}\n",
      "{'a': 0.0(1.0), 's1': 0.0(1.0), 's2': 0.0(1.0), 's3': 0.0(1.0), 's4': 0.0(1.0)}\n",
      "{'a': 0.0(1.0), 's1': 0.0(1.0), 's2': 0.0(1.0), 's3': 0.0(1.0), 's4': 0.0(1.0)}\n",
      "Full p {'a': 0.0(1.0)}\n",
      "Marginalized {'a': 0.0(1.0)}\n",
      "[0.0(1.0), 0.0(1.0), 0.0(1.0), 0.0(1.0)]\n",
      "Full p {'a': 0.0(1.0)}\n",
      "Marginalized {'a': 0.0(1.0)}\n",
      "[0.0(1.0), 0.0(1.0), 0.0(1.0), 0.0(1.0)]\n",
      "Full p {'a': 0.0(1.0)}\n",
      "Marginalized {'a': 0.0(1.0)}\n",
      "[0.0(1.0), 0.0(1.0), 0.0(1.0), 0.0(1.0)]\n",
      "Full p {'a': 0.1}\n",
      "Marginalized {'a': 0.1}\n",
      "[0.1, 0.1, 0.1, 0.1]\n",
      "Full p {'a': 0.1}\n",
      "Marginalized {'a': 0.1}\n",
      "[0.1, 0.1, 0.1, 0.1]\n",
      "Full p {'a': 0.1}\n",
      "Marginalized {'a': 0.1}\n",
      "[0.1, 0.1, 0.1, 0.1]\n",
      "Full p {'a': 0.1(0)}\n",
      "Marginalized {'a': 0.1(0)}\n",
      "[0.1(0), 0.1(0), 0.1(0), 0.1(0)]\n",
      "Full p {'a': 0.1(0)}\n",
      "Marginalized {'a': 0.1(0)}\n",
      "[0.1(0), 0.1(0), 0.1(0), 0.1(0)]\n",
      "Full p {'a': 0.1(0)}\n",
      "Marginalized {'a': 0.1(0)}\n",
      "[0.1(0), 0.1(0), 0.1(0), 0.1(0)]\n",
      "Full p {'a': 0.19943484804211636}\n",
      "Marginalized {'a': 0.19943484804211636}\n",
      "[0.19943484804211636, 0.19943484804211636, 0.19943484804211636, 0.19943484804211636]\n",
      "Full p {'a': 0.19943484804211636}\n",
      "Marginalized {'a': 0.19943484804211636}\n",
      "[0.19943484804211636, 0.19943484804211636, 0.19943484804211636, 0.19943484804211636]\n",
      "Full p {'a': 0.19943484804211636}\n",
      "Marginalized {'a': 0.19943484804211636}\n",
      "[0.19943484804211636, 0.19943484804211636, 0.19943484804211636, 0.19943484804211636]\n",
      "Full p {'a': 0.199435(0)}\n",
      "Marginalized {'a': 0.199435(0)}\n",
      "[0.199435(0), 0.199435(0), 0.199435(0), 0.199435(0)]\n",
      "Full p {'a': 0.199435(0)}\n",
      "Marginalized {'a': 0.199435(0)}\n",
      "[0.199435(0), 0.199435(0), 0.199435(0), 0.199435(0)]\n",
      "Full p {'a': 0.199435(0)}\n",
      "Marginalized {'a': 0.199435(0)}\n",
      "[0.199435(0), 0.199435(0), 0.199435(0), 0.199435(0)]\n",
      "Full p {'a': 0.19953424975625375}\n",
      "Marginalized {'a': 0.19953424975625375}\n",
      "[0.19953424975625375, 0.19953424975625375, 0.19953424975625375, 0.19953424975625375]\n",
      "Full p {'a': 0.19953424975625375}\n",
      "Marginalized {'a': 0.19953424975625375}\n",
      "[0.19953424975625375, 0.19953424975625375, 0.19953424975625375, 0.19953424975625375]\n",
      "Full p {'a': 0.19953424975625375}\n",
      "Marginalized {'a': 0.19953424975625375}\n",
      "[0.19953424975625375, 0.19953424975625375, 0.19953424975625375, 0.19953424975625375]\n",
      "Full p {'a': 0.199534(0)}\n",
      "Marginalized {'a': 0.199534(0)}\n",
      "[0.199534(0), 0.199534(0), 0.199534(0), 0.199534(0)]\n",
      "Full p {'a': 0.199534(0)}\n",
      "Marginalized {'a': 0.199534(0)}\n",
      "[0.199534(0), 0.199534(0), 0.199534(0), 0.199534(0)]\n",
      "Full p {'a': 0.199534(0)}\n",
      "Marginalized {'a': 0.199534(0)}\n",
      "[0.199534(0), 0.199534(0), 0.199534(0), 0.199534(0)]\n",
      "Full p {'a': 0.1995342828864773}\n",
      "Marginalized {'a': 0.1995342828864773}\n",
      "[0.1995342828864773, 0.1995342828864773, 0.1995342828864773, 0.1995342828864773]\n",
      "Full p {'a': 0.1995342828864773}\n",
      "Marginalized {'a': 0.1995342828864773}\n",
      "[0.1995342828864773, 0.1995342828864773, 0.1995342828864773, 0.1995342828864773]\n",
      "Full p {'a': 0.1995342828864773}\n",
      "Marginalized {'a': 0.1995342828864773}\n",
      "[0.1995342828864773, 0.1995342828864773, 0.1995342828864773, 0.1995342828864773]\n",
      "Full p {'a': 0.199534(0)}\n",
      "Marginalized {'a': 0.199534(0)}\n",
      "[0.199534(0), 0.199534(0), 0.199534(0), 0.199534(0)]\n",
      "Full p {'a': 0.199534(0)}\n",
      "Marginalized {'a': 0.199534(0)}\n",
      "[0.199534(0), 0.199534(0), 0.199534(0), 0.199534(0)]\n",
      "Full p {'a': 0.199534(0)}\n",
      "Marginalized {'a': 0.199534(0)}\n",
      "[0.199534(0), 0.199534(0), 0.199534(0), 0.199534(0)]\n",
      "Full p {'a': 0.19953428289015837}\n",
      "Marginalized {'a': 0.19953428289015837}\n",
      "[0.19953428289015837, 0.19953428289015837, 0.19953428289015837, 0.19953428289015837]\n",
      "Full p {'a': 0.19953428289015837}\n",
      "Marginalized {'a': 0.19953428289015837}\n",
      "[0.19953428289015837, 0.19953428289015837, 0.19953428289015837, 0.19953428289015837]\n",
      "Full p {'a': 0.19953428289015837}\n",
      "Marginalized {'a': 0.19953428289015837}\n",
      "[0.19953428289015837, 0.19953428289015837, 0.19953428289015837, 0.19953428289015837]\n",
      "Full p {'a': 0.199534(0)}\n",
      "Marginalized {'a': 0.199534(0)}\n",
      "[0.199534(0), 0.199534(0), 0.199534(0), 0.199534(0)]\n",
      "Full p {'a': 0.199534(0)}\n",
      "Marginalized {'a': 0.199534(0)}\n",
      "[0.199534(0), 0.199534(0), 0.199534(0), 0.199534(0)]\n",
      "Full p {'a': 0.199534(0)}\n",
      "Marginalized {'a': 0.199534(0)}\n",
      "[0.199534(0), 0.199534(0), 0.199534(0), 0.199534(0)]\n",
      "Least Square Fit:\n",
      "  chi2/dof [dof] = 0.52 [12]    Q = 0.9    logGBF = 12.853\n",
      "\n",
      "Parameters:\n",
      "              a   0.1995 (90)     [  0.0 (1.0) ]  \n",
      "\n",
      "Settings:\n",
      "  svdcut/n = 1e-12/0    tol = (1e-08*,1e-10,1e-10)    (itns/time = 4/0.0)\n",
      "\n"
     ]
    }
   ],
   "source": [
    "fitter = lsqfit.MultiFitter(models=models)\n",
    "fit = fitter.lsqfit(data=data, prior=prior, mopt=True)\n",
    "print(fit)"
   ]
  },
  {
   "cell_type": "code",
   "execution_count": null,
   "metadata": {},
   "outputs": [],
   "source": []
  },
  {
   "cell_type": "code",
   "execution_count": 5,
   "metadata": {
    "scrolled": false
   },
   "outputs": [
    {
     "name": "stdout",
     "output_type": "stream",
     "text": [
      "Partial Errors:\n",
      "                  FK/Fpi\n",
      "------------------------\n",
      "          A_a:   0.00010\n",
      "         A_aa:   0.00020\n",
      "        A_aaa:   0.00202\n",
      "          A_k:   0.00004\n",
      "          A_p:   0.00000\n",
      "          L_1:   0.00003\n",
      "          L_2:   0.00008\n",
      "          L_3:   0.00032\n",
      "          L_4:   0.00005\n",
      "          L_5:   0.00003\n",
      "          L_6:   0.00000\n",
      "          L_7:   0.00001\n",
      "          L_8:   0.00000\n",
      "     phys:mpi:   0.00013\n",
      "      phys:mk:   0.00017\n",
      "phys:lam2_chi:   0.00140\n",
      "         stat:   0.00407\n",
      "------------------------\n",
      "        total:   0.00478\n",
      "\n"
     ]
    }
   ],
   "source": [
    "print(fit_manager.fmt_error_budget())"
   ]
  },
  {
   "cell_type": "code",
   "execution_count": 18,
   "metadata": {},
   "outputs": [],
   "source": [
    "fit_manager.plot_fit(param='mpi');"
   ]
  },
  {
   "cell_type": "code",
   "execution_count": 19,
   "metadata": {},
   "outputs": [],
   "source": [
    "fit_manager.plot_fit(param='a');"
   ]
  },
  {
   "cell_type": "code",
   "execution_count": 61,
   "metadata": {},
   "outputs": [
    {
     "name": "stdout",
     "output_type": "stream",
     "text": [
      "   1.2099:  nlo_xpt\n",
      "  -0.0828:  n2lo_ct\n",
      "   0.0000:  n2lo_ratio\n",
      "  -0.0987:  n2lo_scale\n",
      "   0.0044:  n3lo_a4\n",
      "   -----\n",
      "   1.0327:  total\n",
      "\n"
     ]
    },
    {
     "data": {
      "text/plain": [
       "1.0327388119613863"
      ]
     },
     "execution_count": 61,
     "metadata": {},
     "output_type": "execute_result"
    }
   ],
   "source": []
  },
  {
   "cell_type": "code",
   "execution_count": null,
   "metadata": {
    "collapsed": true
   },
   "outputs": [],
   "source": []
  }
 ],
 "metadata": {
  "kernelspec": {
   "display_name": "Python 3",
   "language": "python",
   "name": "python3"
  },
  "language_info": {
   "codemirror_mode": {
    "name": "ipython",
    "version": 3
   },
   "file_extension": ".py",
   "mimetype": "text/x-python",
   "name": "python",
   "nbconvert_exporter": "python",
   "pygments_lexer": "ipython3",
   "version": "3.8.2"
  }
 },
 "nbformat": 4,
 "nbformat_minor": 2
}
