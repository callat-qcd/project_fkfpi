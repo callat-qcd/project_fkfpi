{
 "cells": [
  {
   "cell_type": "markdown",
   "metadata": {},
   "source": [
    "### Import Modules"
   ]
  },
  {
   "cell_type": "code",
   "execution_count": 49,
   "metadata": {},
   "outputs": [],
   "source": [
    "import numpy as np\n",
    "import gvar as gv\n",
    "import lsqfit\n",
    "import sys\n",
    "import os\n",
    "import matplotlib\n",
    "import matplotlib.pyplot as plt\n",
    "import pandas as pd\n",
    "import h5py\n",
    "import time\n",
    "from importlib import reload\n",
    "\n",
    "sys.path.append(\"../\")\n",
    "from fitter import data_loader as dl\n",
    "from fitter import bootstrapper as bs\n",
    "from fitter import fitter as fit\n",
    "from fitter import special_functions as sf\n",
    "\n",
    "for j in range(10): # Sometimes this needs to be loaded twice...\n",
    "    matplotlib.rcParams['figure.figsize'] = [10, 10]"
   ]
  },
  {
   "cell_type": "code",
   "execution_count": 50,
   "metadata": {},
   "outputs": [
    {
     "data": {
      "text/plain": [
       "<module 'fitter.bootstrapper' from '../fitter/bootstrapper.py'>"
      ]
     },
     "execution_count": 50,
     "metadata": {},
     "output_type": "execute_result"
    }
   ],
   "source": [
    "reload(dl)\n",
    "reload(sf)\n",
    "reload(fit)\n",
    "reload(bs)"
   ]
  },
  {
   "cell_type": "markdown",
   "metadata": {},
   "source": [
    "### Specify fit parameters"
   ]
  },
  {
   "cell_type": "code",
   "execution_count": 51,
   "metadata": {},
   "outputs": [],
   "source": [
    "p_dict = {\n",
    "    'order' : {\n",
    "        'fit' : 'nnlo', # 'nlo', 'nnlo'\n",
    "        'vol' : 0, # max 10\n",
    "        'exclude' : [], # put LECs here\n",
    "        \n",
    "        # semi-nnlo corrections\n",
    "        'include_alpha_s' : True,\n",
    "        'include_log' : True, \n",
    "        'include_log2' : True,\n",
    "        'include_sunset' : True,\n",
    "        \n",
    "        # nnnlo corrections\n",
    "        'include_latt_n3lo' : True,\n",
    "    }, \n",
    "    'fit_type' : 'xpt-ratio', #'ma', 'ma-ratio, 'xpt', or 'xpt-ratio'; experimental: 'simultaneous', 'ma-old'\n",
    "    'F2' : 'FKFpi', #'FKFpi', 'FpiFpi', 'FKFK', 'F0F0' (HPQCD choice)\n",
    "    'use_bijnens_central_value' : False,\n",
    "    \n",
    "    'use_prior' : True,\n",
    "    'bias_correct' : True,\n",
    "    'include_su2_isospin_corrrection' : False,\n",
    "    'abbrs' : [u'a06m310L', u'a09m220', u'a09m310', u'a09m350', u'a09m400', u'a12m130',\n",
    "           u'a12m220',  u'a12m220S', u'a12m220L', u'a12m310', u'a12m350',\n",
    "           u'a12m400',  u'a15m135XL', u'a15m220', u'a15m310', u'a15m350', 'a15m400'], # u'a15m130'\n",
    "    \n",
    "    'make_plots' : False,\n",
    "    'show_error_ellipses' : False,\n",
    "    'show_bs_histograms' : False,\n",
    "    \n",
    "    'save_results' : False,\n",
    "    'save_pickles' : False,\n",
    "    'output_name' : 'fit_results',\n",
    "}"
   ]
  },
  {
   "cell_type": "code",
   "execution_count": 52,
   "metadata": {},
   "outputs": [
    {
     "name": "stdout",
     "output_type": "stream",
     "text": [
      "/mnt/Google/Documents/School Work/Research/fk-fpi/priors/xpt-ratio.csv\n",
      "Making fits...\n",
      "Done!\n",
      "100% complete\n",
      "Time (s):  8.716484308242798\n",
      "Compiling results...\n",
      "\n",
      "Model: xpt-ratio_FKFpi_nnlo_log_logSq_sunset_alphaS_a4\n",
      "\n",
      "Fitting to nnlo \n",
      " with volume corrections O(0) \n",
      "Fitted/[FLAG] values at physical point (including SU(2) isospin corrections: False):\n",
      "\n",
      "F_K / F_pi = 1.1899(51) [1.1956(19)]   (delta_su2 = -0.00408(70))\n",
      "\n",
      "  Parameter    Result[0] / Prior[1]    Parameter    Result[0] / Prior[1]\n",
      "-----------------------------------  -----------------------------------\n",
      "      A_a 0              -6.3 (3.5)            1            0.00000 (22)\n",
      "          1               0.0 (6.5)        L_3 0            -0.0005 (28)\n",
      "     A_aa 0                 56 (22)            1             0.0000 (31)\n",
      "          1                  0 (54)        L_4 0           -0.00008 (34)\n",
      "      A_k 0               2.4 (2.5)            1             0.0000 (50)\n",
      "          1               0.0 (5.8)        L_5 0             0.0006 (11)\n",
      "   A_loga 0              -2.3 (5.5)            1             0.0000 (50)\n",
      "          1               0.0 (6.5)        L_6 0             -3(100)e-06\n",
      "      A_p 0               6.6 (1.9)            1            0.00000 (10)\n",
      "          1               0.0 (5.8)        L_7 0           -0.00009 (33)\n",
      "      L_1 0             -7(240)e-06            1            0.00000 (34)\n",
      "          1            0.00000 (24)        L_8 0           -0.00001 (14)\n",
      "      L_2 0             -7(220)e-06            1            0.00000 (14)\n",
      "---\n",
      "boot0 fit results:\n",
      "Least Square Fit:\n",
      "  chi2/dof [dof] = 1.4 [17]    Q = 0.14    logGBF = 59.448\n",
      "\n",
      "Settings:\n",
      "  svdcut/n = 1e-12/0    tol = (1e-08,1e-10,1e-10*)    (itns/time = 19/8.7)\n",
      "  fitter = scipy_least_squares    method = trf\n",
      "\n",
      "\n",
      "Total time (s):  9.81313443183899 \n",
      "\n"
     ]
    }
   ],
   "source": [
    "t0 = time.time()\n",
    "\n",
    "# Load data\n",
    "data_loader = dl.data_loader()\n",
    "fit_data = data_loader.get_fit_data()\n",
    "phys_point_data = data_loader.get_phys_point_data()\n",
    "\n",
    "# Get prior\n",
    "prior = None\n",
    "if p_dict['use_prior']:\n",
    "    prior = data_loader.get_prior(fit_type=p_dict['fit_type'], order=p_dict['order']['fit'], F2=p_dict['F2'], \n",
    "                  include_log=p_dict['order']['include_log'], include_log2=p_dict['order']['include_log2'], \n",
    "                  include_sunset=p_dict['order']['include_sunset'], include_alpha_s=p_dict['order']['include_alpha_s'], \n",
    "                  include_latt_n3lo=p_dict['order']['include_latt_n3lo'], include_FV=(p_dict['order']['vol'] > 6), \n",
    "                  use_bijnens_central_value=p_dict['use_bijnens_central_value']\n",
    "             )\n",
    "    \n",
    "# Make bootstrapper\n",
    "bootstrapper = bs.bootstrapper(fit_data, phys_point_data, prior=prior, **p_dict)\n",
    "\n",
    "if p_dict['make_plots']:\n",
    "    data_loader.save_plots(\n",
    "        bootstrapper.make_plots(\n",
    "            show_error_ellipses=p_dict['show_error_ellipses'], \n",
    "            show_bootstrap_histograms=p_dict['show_bs_histograms']),\n",
    "        output_filename='fits/'+bootstrapper.fit_type+'_'+bootstrapper.order['fit']\n",
    "    )\n",
    "else:\n",
    "    print(bootstrapper)\n",
    "    \n",
    "if p_dict['save_results']:\n",
    "    data_loader.save_fit_info(bootstrapper.get_fit_info(),\n",
    "                              output_name=p_dict['output_name'], save_pickles=p_dict['save_pickles'])\n",
    "\n",
    "    \n",
    "    \n",
    "t1 = time.time()\n",
    "\n",
    "print(\"\\nTotal time (s): \", t1 - t0, \"\\n\")"
   ]
  },
  {
   "cell_type": "code",
   "execution_count": null,
   "metadata": {},
   "outputs": [],
   "source": []
  },
  {
   "cell_type": "code",
   "execution_count": 84,
   "metadata": {},
   "outputs": [
    {
     "name": "stdout",
     "output_type": "stream",
     "text": [
      "E = 6.40(39) \n",
      "\n",
      "Partial Errors:\n",
      "                   E\n",
      "--------------------\n",
      "        m:      0.39\n",
      "        p:      0.39\n",
      "--------------------\n",
      "    total:      0.39\n",
      "\n"
     ]
    },
    {
     "name": "stderr",
     "output_type": "stream",
     "text": [
      "<ipython-input-84-52bc4adc7b08>:5: UserWarning: m and p double count errors\n",
      "  print(gv.fmt_errorbudget(outputs={'E' : E}, inputs={'m' : m, 'p' : p}, percent=False, verify=True))\n",
      "<ipython-input-84-52bc4adc7b08>:5: UserWarning: E partial error 0.5543618612158775  !=  total error 0.3919930312969427\n",
      "  print(gv.fmt_errorbudget(outputs={'E' : E}, inputs={'m' : m, 'p' : p}, percent=False, verify=True))\n"
     ]
    }
   ],
   "source": [
    "m, p = gv.gvar([5, 4], [[0.1, 0.01], [0.02, 0.2]])\n",
    "E = np.sqrt(m**2 + p**2)\n",
    "\n",
    "print('E =', E, '\\n')\n",
    "print(gv.fmt_errorbudget(outputs={'E' : E}, inputs={'m' : m, 'p' : p}, percent=False, verify=True))"
   ]
  },
  {
   "cell_type": "code",
   "execution_count": 75,
   "metadata": {
    "scrolled": true
   },
   "outputs": [
    {
     "data": {
      "text/plain": [
       "6.40(39)"
      ]
     },
     "execution_count": 75,
     "metadata": {},
     "output_type": "execute_result"
    }
   ],
   "source": [
    "E"
   ]
  },
  {
   "cell_type": "code",
   "execution_count": null,
   "metadata": {},
   "outputs": [],
   "source": []
  },
  {
   "cell_type": "code",
   "execution_count": null,
   "metadata": {},
   "outputs": [],
   "source": []
  },
  {
   "cell_type": "code",
   "execution_count": 140,
   "metadata": {},
   "outputs": [
    {
     "name": "stdout",
     "output_type": "stream",
     "text": [
      "Saving...\n",
      "a/w0\n",
      "a\n",
      "L\n",
      "alpha_s\n",
      "mpi\n",
      "mk\n",
      "mss\n",
      "a2DI\n",
      "Fpi\n",
      "FK\n",
      "w0\n",
      "FK/Fpi_pm\n",
      "mju\n",
      "mru\n",
      "mjs\n",
      "mrs\n",
      "lam2_chi_kpi\n",
      "lam2_chi_pipi\n",
      "lam2_chi_kk\n",
      "lam2_chi_00\n",
      "lam2_chi\n",
      "Done.\n"
     ]
    }
   ],
   "source": [
    "    data_loader.save_fit_info(bootstrapper.get_fit_info(),\n",
    "                              output_name='test', save_pickles=True)"
   ]
  },
  {
   "cell_type": "code",
   "execution_count": null,
   "metadata": {},
   "outputs": [],
   "source": []
  },
  {
   "cell_type": "code",
   "execution_count": 26,
   "metadata": {},
   "outputs": [
    {
     "ename": "NameError",
     "evalue": "name 'data_loader' is not defined",
     "output_type": "error",
     "traceback": [
      "\u001b[0;31m---------------------------------------------------------------------------\u001b[0m",
      "\u001b[0;31mNameError\u001b[0m                                 Traceback (most recent call last)",
      "\u001b[0;32m<ipython-input-26-68ae7e71f56b>\u001b[0m in \u001b[0;36m<module>\u001b[0;34m\u001b[0m\n\u001b[0;32m----> 1\u001b[0;31m \u001b[0mfit_info\u001b[0m \u001b[0;34m=\u001b[0m \u001b[0mdata_loader\u001b[0m\u001b[0;34m.\u001b[0m\u001b[0mget_fit_info\u001b[0m\u001b[0;34m(\u001b[0m\u001b[0;34m'test'\u001b[0m\u001b[0;34m)\u001b[0m\u001b[0;34m[\u001b[0m\u001b[0;34m'xpt-ratio_FKFpi_nnlo_log_logSq_sunset_alphaS_a4'\u001b[0m\u001b[0;34m]\u001b[0m\u001b[0;34m\u001b[0m\u001b[0;34m\u001b[0m\u001b[0m\n\u001b[0m\u001b[1;32m      2\u001b[0m \u001b[0mfit_info\u001b[0m\u001b[0;34m[\u001b[0m\u001b[0;34m'FK/Fpi'\u001b[0m\u001b[0;34m]\u001b[0m\u001b[0;34m.\u001b[0m\u001b[0mpartialsdev\u001b[0m\u001b[0;34m(\u001b[0m\u001b[0mfit_info\u001b[0m\u001b[0;34m[\u001b[0m\u001b[0;34m'phys_point'\u001b[0m\u001b[0;34m]\u001b[0m\u001b[0;34m[\u001b[0m\u001b[0;34m'lam2_chi'\u001b[0m\u001b[0;34m]\u001b[0m\u001b[0;34m)\u001b[0m\u001b[0;34m\u001b[0m\u001b[0;34m\u001b[0m\u001b[0m\n",
      "\u001b[0;31mNameError\u001b[0m: name 'data_loader' is not defined"
     ]
    }
   ],
   "source": [
    "fit_info = data_loader.get_fit_info('test')['xpt-ratio_FKFpi_nnlo_log_logSq_sunset_alphaS_a4']\n",
    "fit_info['FK/Fpi'].partialsdev(fit_info['phys_point']['lam2_chi'])"
   ]
  },
  {
   "cell_type": "code",
   "execution_count": 96,
   "metadata": {},
   "outputs": [
    {
     "name": "stdout",
     "output_type": "stream",
     "text": [
      "[[ 1.          0.14852927  0.16854288  0.15795649 -0.14118969]\n",
      " [ 0.14852927  1.          0.78017949  0.40069967 -0.32779122]\n",
      " [ 0.16854288  0.78017949  1.          0.09405687  0.00951327]\n",
      " [ 0.15795649  0.40069967  0.09405687  1.         -0.99295323]\n",
      " [-0.14118969 -0.32779122  0.00951327 -0.99295323  1.        ]]\n"
     ]
    }
   ],
   "source": [
    "def test(self):\n",
    "    p = self.get_fit_info()['posterior']\n",
    "    \n",
    "    print(gv.evalcorr([p['A_a'], p['A_k'], p['A_p'], p['L_4'], p['L_5']]))\n",
    "    \n",
    "test(bootstrapper)"
   ]
  },
  {
   "cell_type": "code",
   "execution_count": 91,
   "metadata": {},
   "outputs": [
    {
     "name": "stdout",
     "output_type": "stream",
     "text": [
      "{('A_a', 'A_a'): array([[1.]]),('A_a', 'A_aa'): array([[-0.17241389]]),('A_a', 'A_k'): array([[0.14852927]]),('A_a', 'A_loga'): array([[-0.88879273]]),('A_a', 'A_p'): array([[0.16854288]]),('A_a', 'L_1'): array([[-0.00492822]]),('A_a', 'L_2'): array([[-0.00841322]]),('A_a', 'L_3'): array([[-0.06826485]]),('A_a', 'L_4'): array([[0.15795649]]),('A_a', 'L_5'): array([[-0.14118969]]),('A_a', 'L_6'): array([[-0.00303813]]),('A_a', 'L_7'): array([[-0.02727483]]),('A_a', 'L_8'): array([[-0.00830673]]),('A_aa', 'A_a'): array([[-0.17241389]]),('A_aa', 'A_aa'): array([[1.]]),('A_aa', 'A_k'): array([[-0.49685592]]),('A_aa', 'A_loga'): array([[-0.28948502]]),('A_aa', 'A_p'): array([[-0.37722297]]),('A_aa', 'L_1'): array([[0.01402727]]),('A_aa', 'L_2'): array([[0.02398072]]),('A_aa', 'L_3'): array([[0.19645954]]),('A_aa', 'L_4'): array([[-0.414266]]),('A_aa', 'L_5'): array([[0.37461416]]),('A_aa', 'L_6'): array([[0.00915482]]),('A_aa', 'L_7'): array([[0.07557115]]),('A_aa', 'L_8'): array([[0.02319223]]),('A_k', 'A_a'): array([[0.14852927]]),('A_k', 'A_aa'): array([[-0.49685592]]),('A_k', 'A_k'): array([[1.]]),('A_k', 'A_loga'): array([[0.01904673]]),('A_k', 'A_p'): array([[0.78017949]]),('A_k', 'L_1'): array([[0.02017376]]),('A_k', 'L_2'): array([[0.00803623]]),('A_k', 'L_3'): array([[0.03280101]]),('A_k', 'L_4'): array([[0.40069967]]),('A_k', 'L_5'): array([[-0.32779122]]),('A_k', 'L_6'): array([[0.05644689]]),('A_k', 'L_7'): array([[0.01286632]]),('A_k', 'L_8'): array([[0.03921271]]),('A_loga', 'A_a'): array([[-0.88879273]]),('A_loga', 'A_aa'): array([[-0.28948502]]),('A_loga', 'A_k'): array([[0.01904673]]),('A_loga', 'A_loga'): array([[1.]]),('A_loga', 'A_p'): array([[-0.03279364]]),('A_loga', 'L_1'): array([[-0.00097862]]),('A_loga', 'L_2'): array([[-0.00230446]]),('A_loga', 'L_3'): array([[-0.02214056]]),('A_loga', 'L_4'): array([[0.00880599]]),('A_loga', 'L_5'): array([[-0.01082162]]),('A_loga', 'L_6'): array([[-9.55958063e-05]]),('A_loga', 'L_7'): array([[-0.00802414]]),('A_loga', 'L_8'): array([[-0.00157255]]),('A_p', 'A_a'): array([[0.16854288]]),('A_p', 'A_aa'): array([[-0.37722297]]),('A_p', 'A_k'): array([[0.78017949]]),('A_p', 'A_loga'): array([[-0.03279364]]),('A_p', 'A_p'): array([[1.]]),('A_p', 'L_1'): array([[0.05163566]]),('A_p', 'L_2'): array([[0.06178015]]),('A_p', 'L_3'): array([[0.32231851]]),('A_p', 'L_4'): array([[0.09405687]]),('A_p', 'L_5'): array([[0.00951327]]),('A_p', 'L_6'): array([[0.03311016]]),('A_p', 'L_7'): array([[0.31269726]]),('A_p', 'L_8'): array([[0.11774264]]),('L_1', 'A_a'): array([[-0.00492822]]),('L_1', 'A_aa'): array([[0.01402727]]),('L_1', 'A_k'): array([[0.02017376]]),('L_1', 'A_loga'): array([[-0.00097862]]),('L_1', 'A_p'): array([[0.05163566]]),('L_1', 'L_1'): array([[1.]]),('L_1', 'L_2'): array([[-0.00143564]]),('L_1', 'L_3'): array([[-0.01156274]]),('L_1', 'L_4'): array([[-0.03566477]]),('L_1', 'L_5'): array([[0.03695314]]),('L_1', 'L_6'): array([[-0.00056797]]),('L_1', 'L_7'): array([[-0.00406994]]),('L_1', 'L_8'): array([[-0.00142013]]),('L_2', 'A_a'): array([[-0.00841322]]),('L_2', 'A_aa'): array([[0.02398072]]),('L_2', 'A_k'): array([[0.00803623]]),('L_2', 'A_loga'): array([[-0.00230446]]),('L_2', 'A_p'): array([[0.06178015]]),('L_2', 'L_1'): array([[-0.00143564]]),('L_2', 'L_2'): array([[1.]]),('L_2', 'L_3'): array([[-0.02362796]]),('L_2', 'L_4'): array([[-0.07686046]]),('L_2', 'L_5'): array([[0.0813996]]),('L_2', 'L_6'): array([[-0.00044895]]),('L_2', 'L_7'): array([[-0.00672647]]),('L_2', 'L_8'): array([[-0.0019147]]),('L_3', 'A_a'): array([[-0.06826485]]),('L_3', 'A_aa'): array([[0.19645954]]),('L_3', 'A_k'): array([[0.03280101]]),('L_3', 'A_loga'): array([[-0.02214056]]),('L_3', 'A_p'): array([[0.32231851]]),('L_3', 'L_1'): array([[-0.01156274]]),('L_3', 'L_2'): array([[-0.02362796]]),('L_3', 'L_3'): array([[1.]]),('L_3', 'L_4'): array([[-0.88789525]]),('L_3', 'L_5'): array([[0.92217905]]),('L_3', 'L_6'): array([[-0.00221153]]),('L_3', 'L_7'): array([[-0.05154185]]),('L_3', 'L_8'): array([[-0.01323854]]),('L_4', 'A_a'): array([[0.15795649]]),('L_4', 'A_aa'): array([[-0.414266]]),('L_4', 'A_k'): array([[0.40069967]]),('L_4', 'A_loga'): array([[0.00880599]]),('L_4', 'A_p'): array([[0.09405687]]),('L_4', 'L_1'): array([[-0.03566477]]),('L_4', 'L_2'): array([[-0.07686046]]),('L_4', 'L_3'): array([[-0.88789525]]),('L_4', 'L_4'): array([[1.]]),('L_4', 'L_5'): array([[-0.99295323]]),('L_4', 'L_6'): array([[-0.00624743]]),('L_4', 'L_7'): array([[0.12531893]]),('L_4', 'L_8'): array([[0.02071901]]),('L_5', 'A_a'): array([[-0.14118969]]),('L_5', 'A_aa'): array([[0.37461416]]),('L_5', 'A_k'): array([[-0.32779122]]),('L_5', 'A_loga'): array([[-0.01082162]]),('L_5', 'A_p'): array([[0.00951327]]),('L_5', 'L_1'): array([[0.03695314]]),('L_5', 'L_2'): array([[0.0813996]]),('L_5', 'L_3'): array([[0.92217905]]),('L_5', 'L_4'): array([[-0.99295323]]),('L_5', 'L_5'): array([[1.]]),('L_5', 'L_6'): array([[0.00464351]]),('L_5', 'L_7'): array([[-0.12465999]]),('L_5', 'L_8'): array([[-0.02210125]]),('L_6', 'A_a'): array([[-0.00303813]]),('L_6', 'A_aa'): array([[0.00915482]]),('L_6', 'A_k'): array([[0.05644689]]),('L_6', 'A_loga'): array([[-9.55958063e-05]]),('L_6', 'A_p'): array([[0.03311016]]),('L_6', 'L_1'): array([[-0.00056797]]),('L_6', 'L_2'): array([[-0.00044895]]),('L_6', 'L_3'): array([[-0.00221153]]),('L_6', 'L_4'): array([[-0.00624743]]),('L_6', 'L_5'): array([[0.00464351]]),('L_6', 'L_6'): array([[1.]]),('L_6', 'L_7'): array([[-0.00187402]]),('L_6', 'L_8'): array([[-0.00119789]]),('L_7', 'A_a'): array([[-0.02727483]]),('L_7', 'A_aa'): array([[0.07557115]]),('L_7', 'A_k'): array([[0.01286632]]),('L_7', 'A_loga'): array([[-0.00802414]]),('L_7', 'A_p'): array([[0.31269726]]),('L_7', 'L_1'): array([[-0.00406994]]),('L_7', 'L_2'): array([[-0.00672647]]),('L_7', 'L_3'): array([[-0.05154185]]),('L_7', 'L_4'): array([[0.12531893]]),('L_7', 'L_5'): array([[-0.12465999]]),('L_7', 'L_6'): array([[-0.00187402]]),('L_7', 'L_7'): array([[1.]]),('L_7', 'L_8'): array([[-0.00872845]]),('L_8', 'A_a'): array([[-0.00830673]]),('L_8', 'A_aa'): array([[0.02319223]]),('L_8', 'A_k'): array([[0.03921271]]),('L_8', 'A_loga'): array([[-0.00157255]]),('L_8', 'A_p'): array([[0.11774264]]),('L_8', 'L_1'): array([[-0.00142013]]),('L_8', 'L_2'): array([[-0.0019147]]),('L_8', 'L_3'): array([[-0.01323854]]),('L_8', 'L_4'): array([[0.02071901]]),('L_8', 'L_5'): array([[-0.02210125]]),('L_8', 'L_6'): array([[-0.00119789]]),('L_8', 'L_7'): array([[-0.00872845]]),('L_8', 'L_8'): array([[1.]])}\n"
     ]
    }
   ],
   "source": [
    "print(gv.evalcorr(bootstrapper.get_fit_info()['posterior']))"
   ]
  },
  {
   "cell_type": "code",
   "execution_count": null,
   "metadata": {},
   "outputs": [],
   "source": []
  },
  {
   "cell_type": "code",
   "execution_count": null,
   "metadata": {},
   "outputs": [],
   "source": [
    "aa"
   ]
  },
  {
   "cell_type": "code",
   "execution_count": null,
   "metadata": {},
   "outputs": [],
   "source": []
  },
  {
   "cell_type": "code",
   "execution_count": 98,
   "metadata": {
    "scrolled": false
   },
   "outputs": [
    {
     "name": "stdout",
     "output_type": "stream",
     "text": [
      "FK/Fpi = 1.1899(51) \n",
      "\n",
      "Partial Errors:\n",
      "                             FK/Fpi\n",
      "-----------------------------------\n",
      "               prior:A_a:   0.00355\n",
      "              prior:A_aa:   0.00355\n",
      "               prior:A_k:   0.00355\n",
      "            prior:A_loga:   0.00355\n",
      "               prior:A_p:   0.00355\n",
      "               prior:L_1:   0.00355\n",
      "               prior:L_2:   0.00355\n",
      "               prior:L_3:   0.00355\n",
      "               prior:L_4:   0.00355\n",
      "               prior:L_5:   0.00355\n",
      "               prior:L_6:   0.00355\n",
      "               prior:L_7:   0.00355\n",
      "               prior:L_8:   0.00355\n",
      "           posterior:A_a:   0.00502\n",
      "          posterior:A_aa:   0.00502\n",
      "           posterior:A_k:   0.00502\n",
      "        posterior:A_loga:   0.00502\n",
      "           posterior:A_p:   0.00502\n",
      "           posterior:L_1:   0.00502\n",
      "           posterior:L_2:   0.00502\n",
      "           posterior:L_3:   0.00502\n",
      "           posterior:L_4:   0.00502\n",
      "           posterior:L_5:   0.00502\n",
      "           posterior:L_6:   0.00502\n",
      "           posterior:L_7:   0.00502\n",
      "           posterior:L_8:   0.00502\n",
      "         phys_point:a/w0:   0.00087\n",
      "            phys_point:a:   0.00087\n",
      "            phys_point:L:   0.00087\n",
      "      phys_point:alpha_s:   0.00087\n",
      "          phys_point:mpi:   0.00087\n",
      "           phys_point:mk:   0.00087\n",
      "          phys_point:mss:   0.00087\n",
      "         phys_point:a2DI:   0.00087\n",
      "          phys_point:Fpi:   0.00087\n",
      "           phys_point:FK:   0.00087\n",
      "           phys_point:w0:   0.00087\n",
      "    phys_point:FK/Fpi_pm:   0.00087\n",
      "          phys_point:mju:   0.00087\n",
      "          phys_point:mru:   0.00087\n",
      "          phys_point:mjs:   0.00087\n",
      "          phys_point:mrs:   0.00087\n",
      " phys_point:lam2_chi_kpi:   0.00087\n",
      "phys_point:lam2_chi_pipi:   0.00087\n",
      "  phys_point:lam2_chi_kk:   0.00087\n",
      "  phys_point:lam2_chi_00:   0.00087\n",
      "     phys_point:lam2_chi:   0.00087\n",
      "-----------------------------------\n",
      "                   total:   0.00510\n",
      "\n"
     ]
    }
   ],
   "source": [
    "def error_budget(self):\n",
    "    fit_info = self.get_fit_info()\n",
    "    \n",
    "    inputs = {}\n",
    "    for key in list(fit_info['prior']):\n",
    "        inputs['prior:'+key] = fit_info['prior']\n",
    "    for key in list(fit_info['posterior']):\n",
    "        inputs['posterior:'+key] = fit_info['posterior']\n",
    "    for key in list(fit_info['phys_point']):\n",
    "        inputs['phys_point:'+key] = fit_info['phys_point']\n",
    "        \n",
    "    print('FK/Fpi =', fit_info['FK/Fpi'], '\\n')\n",
    "        \n",
    "    return gv.fmt_errorbudget(outputs={'FK/Fpi' : fit_info['FK/Fpi']}, inputs=inputs, percent=False, ndecimal=5, verify=False)\n",
    "\n",
    "print(error_budget(bootstrapper))"
   ]
  },
  {
   "cell_type": "code",
   "execution_count": null,
   "metadata": {},
   "outputs": [],
   "source": []
  },
  {
   "cell_type": "code",
   "execution_count": null,
   "metadata": {},
   "outputs": [],
   "source": []
  },
  {
   "cell_type": "code",
   "execution_count": 34,
   "metadata": {},
   "outputs": [
    {
     "ename": "NameError",
     "evalue": "name 'bootstrapper' is not defined",
     "output_type": "error",
     "traceback": [
      "\u001b[0;31m---------------------------------------------------------------------------\u001b[0m",
      "\u001b[0;31mNameError\u001b[0m                                 Traceback (most recent call last)",
      "\u001b[0;32m<ipython-input-34-f60586c39680>\u001b[0m in \u001b[0;36m<module>\u001b[0;34m\u001b[0m\n\u001b[1;32m     24\u001b[0m \u001b[0;34m\u001b[0m\u001b[0m\n\u001b[1;32m     25\u001b[0m \u001b[0;34m\u001b[0m\u001b[0m\n\u001b[0;32m---> 26\u001b[0;31m \u001b[0mbootstrapper\u001b[0m\u001b[0;34m.\u001b[0m\u001b[0mfk_fpi_fit_fcn\u001b[0m\u001b[0;34m(\u001b[0m\u001b[0mfit_data\u001b[0m\u001b[0;34m=\u001b[0m\u001b[0mfit_data\u001b[0m\u001b[0;34m,\u001b[0m \u001b[0mfit_parameters\u001b[0m\u001b[0;34m=\u001b[0m\u001b[0mfit_parameters\u001b[0m\u001b[0;34m,\u001b[0m \u001b[0mdebug\u001b[0m\u001b[0;34m=\u001b[0m\u001b[0;32mTrue\u001b[0m\u001b[0;34m)\u001b[0m\u001b[0;34m\u001b[0m\u001b[0;34m\u001b[0m\u001b[0m\n\u001b[0m",
      "\u001b[0;31mNameError\u001b[0m: name 'bootstrapper' is not defined"
     ]
    }
   ],
   "source": [
    "fit_data = {\n",
    "    'mpi' : 135.,\n",
    "    'mk' : 495.5,\n",
    "    'Fpi' : 92.2,\n",
    "    'FK' : 110.5,\n",
    "    'L' : np.inf, \n",
    "    'a/w0' : 0,\n",
    "}\n",
    "fit_data['lam2_chi'] = (4 *np.pi *fit_data['Fpi'])**2\n",
    "\n",
    "fit_parameters = {\n",
    "    'L_1' : 0.000372,\n",
    "    'L_2' : 0.000493,\n",
    "    'L_3' : -0.003070,\n",
    "    'L_4' : 0.000089,\n",
    "    'L_5' : 0.000377,\n",
    "    'L_6' : 0.000011,\n",
    "    'L_7' : -0.000340,\n",
    "    'L_8' : 0.000294,\n",
    "    'A_a' : 0.1,\n",
    "    'A_k' : -3.000000,\n",
    "    'A_p' : 4.000000\n",
    "}\n",
    "\n",
    "\n",
    "bootstrapper.fk_fpi_fit_fcn(fit_data=fit_data, fit_parameters=fit_parameters, debug=True)"
   ]
  },
  {
   "cell_type": "code",
   "execution_count": null,
   "metadata": {
    "collapsed": true
   },
   "outputs": [],
   "source": []
  }
 ],
 "metadata": {
  "kernelspec": {
   "display_name": "Python 3",
   "language": "python",
   "name": "python3"
  },
  "language_info": {
   "codemirror_mode": {
    "name": "ipython",
    "version": 3
   },
   "file_extension": ".py",
   "mimetype": "text/x-python",
   "name": "python",
   "nbconvert_exporter": "python",
   "pygments_lexer": "ipython3",
   "version": "3.8.1"
  }
 },
 "nbformat": 4,
 "nbformat_minor": 2
}
