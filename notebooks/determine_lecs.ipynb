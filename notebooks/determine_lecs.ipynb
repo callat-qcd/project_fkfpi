{
 "cells": [
  {
   "cell_type": "markdown",
   "metadata": {},
   "source": [
    "### Import Modules"
   ]
  },
  {
   "cell_type": "code",
   "execution_count": 46,
   "metadata": {
    "collapsed": true
   },
   "outputs": [],
   "source": [
    "import numpy as np\n",
    "import gvar as gv\n",
    "import lsqfit\n",
    "import sys\n",
    "import os\n",
    "import matplotlib\n",
    "import matplotlib.pyplot as plt\n",
    "import pandas as pd\n",
    "import h5py\n",
    "import time\n",
    "\n",
    "sys.path.append(\"../\")\n",
    "from fitter import data_loader as dl\n",
    "from fitter import bootstrapper as bs\n",
    "from fitter import fitter as fit\n",
    "\n",
    "matplotlib.rcParams['figure.figsize'] = [10, 10]"
   ]
  },
  {
   "cell_type": "code",
   "execution_count": 47,
   "metadata": {
    "collapsed": false
   },
   "outputs": [
    {
     "data": {
      "text/plain": [
       "<module 'fitter.fitter' from '../fitter/fitter.pyc'>"
      ]
     },
     "execution_count": 47,
     "metadata": {},
     "output_type": "execute_result"
    }
   ],
   "source": [
    "reload(bs)\n",
    "reload(dl)\n",
    "reload(fit)"
   ]
  },
  {
   "cell_type": "markdown",
   "metadata": {},
   "source": [
    "### Specify fit parameters"
   ]
  },
  {
   "cell_type": "code",
   "execution_count": 48,
   "metadata": {
    "collapsed": true
   },
   "outputs": [],
   "source": [
    "p_dict = {\n",
    "    'order_fit' : 1,\n",
    "    'order_latt_spacing' : 2, # no order 1 term -- starts at 2\n",
    "    'order_vol' : 1,\n",
    "    'bs_N' : 20,  # if 0, use full list\n",
    "    'fit_type' : 'xpt', #either 'mix' or 'xpt'\n",
    "    \n",
    "    'use_prior' : False,\n",
    "    'save_prior' : False,\n",
    "    'abbrs' : [u'a09m220', u'a09m310', u'a09m350', u'a09m400', u'a12m130',\n",
    "           u'a12m220',  u'a12m220S', u'a12m310', u'a12m350',\n",
    "           u'a12m400', u'a15m220', u'a15m310', u'a15m350',\n",
    "           u'a15m400'],\n",
    "    \n",
    "    'make_plots' : True,\n",
    "    'show_error_ellipses' : False,\n",
    "    'show_bs_histograms' : False\n",
    "}"
   ]
  },
  {
   "cell_type": "markdown",
   "metadata": {},
   "source": [
    "### Do fit"
   ]
  },
  {
   "cell_type": "code",
   "execution_count": 49,
   "metadata": {
    "collapsed": true
   },
   "outputs": [],
   "source": [
    "t0 = time.time()\n",
    "\n",
    "# Load data\n",
    "data_loader = dl.data_loader()\n",
    "fit_data = data_loader.get_fit_data()\n",
    "\n",
    "# Get prior\n",
    "prior = None\n",
    "if p_dict['use_prior']:\n",
    "    prior = data_loader.get_prior()\n",
    "\n",
    "# Make bootstrapper\n",
    "bootstrapper = bs.bootstrapper(fit_data, prior=prior, bs_N=p_dict['bs_N'], abbrs=p_dict['abbrs'],\n",
    "                               order_fit=p_dict['order_fit'], order_vol=p_dict['order_vol'],\n",
    "                               order_latt_spacing=p_dict['order_latt_spacing'],\n",
    "                               fit_type=p_dict['fit_type'])\n"
   ]
  },
  {
   "cell_type": "code",
   "execution_count": 50,
   "metadata": {
    "collapsed": false
   },
   "outputs": [
    {
     "name": "stdout",
     "output_type": "stream",
     "text": [
      "Making fits...\n",
      "100% complete  Time (s):  6.42548418045\n",
      "Compiling results...\n",
      "\n",
      "\n",
      "Fitting to order 1 \n",
      " with lattice corrections O(2) \n",
      " with volume corrections O(1) \n",
      "Fitted/[Experimental] values at physical point:\n",
      "\n",
      "F_K / F_pi = 1.1779(37) [1.201(46)]\n",
      "\n",
      "  Parameter    Result[0] / Prior[1]    Parameter    Result[0] / Prior[1]\n",
      "-----------------------------------  -----------------------------------\n",
      "  L_5_lam 0       ['0.000203 (27)']          1,1               0.0 (1.0)\n",
      "          1               0.00 (50)    c_mpia2 0           ['2.36 (31)']\n",
      "    c_a 0,0               0.12 (23)            1               2.00 (50)\n",
      "        0,1               0.1 (1.1)    c_vol 0,0               0.26 (13)\n",
      "        1,0               0.0 (1.0)          1,0               0.0 (1.0)\n",
      "---\n",
      "boot0 fit results:\n",
      "Least Square Fit:\n",
      "  chi2/dof [dof] = 1.1 [14]    Q = 0.37    logGBF = 48.295\n",
      "\n",
      "Settings:\n",
      "  svdcut/n = 1e-12/15    tol = (1e-08*,1e-10,1e-10)    (itns/time = 6/0.2)\n",
      "  fitter = scipy_least_squares    method = trf\n",
      "\n"
     ]
    }
   ],
   "source": [
    "print bootstrapper"
   ]
  },
  {
   "cell_type": "code",
   "execution_count": 57,
   "metadata": {
    "collapsed": false
   },
   "outputs": [
    {
     "name": "stdout",
     "output_type": "stream",
     "text": [
      "FK [ 0  1  2  3  4  5  6  7  8  9 10 11 12 13]\n",
      "Fpi [ 0  1  2  3  4  6  5  7  8  9 10 11 12 13]\n",
      "mpi [ 4  0  5  6  1  2 10  3  7  8 11  9 12 13]\n",
      "mk [ 0  1  2  3  4  5  6  7  8  9 10 11 12 13]\n",
      "mss [ 0  1  2  3  4  5  6  7  8  9 10 11 12 13]\n",
      "mru [ 0  1  2  3  4  5  6  7  8  9 10 11 12 13]\n",
      "mju [ 0  1  4  2  5  6  3  7  8 10  9 11 12 13]\n"
     ]
    }
   ],
   "source": [
    "def test(self):\n",
    "    for param in ['FK', 'Fpi', 'mpi', 'mk', 'mss', 'mru', 'mju']:\n",
    "        print param, np.argsort([self.fit_data[abbr][param][0] for abbr in self.abbrs])\n",
    "        \n",
    "test(bootstrapper)"
   ]
  },
  {
   "cell_type": "code",
   "execution_count": null,
   "metadata": {
    "collapsed": true
   },
   "outputs": [],
   "source": []
  },
  {
   "cell_type": "code",
   "execution_count": null,
   "metadata": {
    "collapsed": true
   },
   "outputs": [],
   "source": []
  },
  {
   "cell_type": "code",
   "execution_count": 21,
   "metadata": {
    "collapsed": false,
    "scrolled": false
   },
   "outputs": [
    {
     "data": {
      "image/png": "[encoded data removed]",
      "text/plain": [
       "<Figure size 720x720 with 2 Axes>"
      ]
     },
     "execution_count": 21,
     "metadata": {},
     "output_type": "execute_result"
    }
   ],
   "source": [
    "    def plot_parameters(self, xy_parameters, color_parameter=None,\n",
    "                        xfcn=None, xlabel=None, yfcn=None, ylabel=None, show_fit=True):\n",
    "        \n",
    "        # used to convert to phys units\n",
    "        hbar_c = 197.327\n",
    "        \n",
    "        if xlabel is None:\n",
    "            xlabel = self._fmt_key_as_latex(xy_parameters[0])\n",
    "        if ylabel is None:\n",
    "            ylabel = self._fmt_key_as_latex(xy_parameters[1])\n",
    "\n",
    "        if xfcn is None:\n",
    "            xfcn = lambda x : 1 * x\n",
    "        if yfcn is None:\n",
    "            yfcn = lambda y : 1 * y\n",
    "\n",
    "        plot_data = {}\n",
    "        myfcn = [xfcn, yfcn]\n",
    "        for j, parameter in enumerate(xy_parameters):\n",
    "            if parameter in ['FK/Fpi', 'FK / Fpi']:\n",
    "                plot_data[j] = {abbr :  myfcn[j](self.fit_data[abbr]['FK'] /self.fit_data[abbr]['Fpi']) for abbr in self.abbrs}\n",
    "            elif parameter in ['mpi', 'mju', 'mru', 'mk', 'mrs', 'mss', 'FK', 'Fpi']:\n",
    "                # Convert to physical units\n",
    "                \n",
    "                plot_data[j] = {}\n",
    "                for abbr in self.abbrs:\n",
    "                    plot_data[j][abbr] = myfcn[j](self.fit_data[abbr][parameter] *hbar_c / (self.fit_data[abbr]['a']))\n",
    "            else:\n",
    "                plot_data[j] = {abbr :  myfcn[j](self.fit_data[abbr][parameter]) for abbr in self.abbrs}\n",
    "\n",
    "        \n",
    "        if color_parameter is None:\n",
    "            color_parameter = 'a'\n",
    "\n",
    "        if color_parameter in ['a']:\n",
    "            color_data = {abbr : np.repeat(self.fit_data[abbr]['a'][0], self.bs_N).ravel() for abbr in self.abbrs}\n",
    "        elif color_parameter in ['L']:\n",
    "            color_data = {abbr : np.repeat(gv.mean(self.fit_data[abbr][color_parameter]), self.bs_N).ravel() for abbr in self.abbrs}\n",
    "        elif color_parameter == 'MpiL':\n",
    "            color_data = {abbr : gv.mean(self.fit_data[abbr][color_parameter]).ravel() for abbr in self.abbrs}\n",
    "        else:\n",
    "            color_data = {abbr : gv.mean(self.fit_data[abbr][color_parameter]).ravel() for abbr in self.abbrs}\n",
    "\n",
    "        # Color by lattice spacing/length\n",
    "        cmap = matplotlib.cm.get_cmap('rainbow')\n",
    "        min_max = lambda x : [np.min(x), np.max(x)]\n",
    "        minimum, maximum = min_max(np.concatenate([gv.mean(color_data[abbr]) for abbr in self.abbrs]))\n",
    "        norm = matplotlib.colors.Normalize(vmin=minimum, vmax=maximum)\n",
    "\n",
    "        # Get scatter plot & color data\n",
    "        x = np.zeros(self.bs_N * len(self.abbrs))\n",
    "        y = np.zeros(self.bs_N * len(self.abbrs))\n",
    "        z = np.zeros(self.bs_N * len(self.abbrs))\n",
    "        for j, abbr in enumerate(self.abbrs):\n",
    "            x[j*self.bs_N:(j+1)*self.bs_N] = gv.mean(plot_data[0][abbr])\n",
    "            y[j*self.bs_N:(j+1)*self.bs_N] = gv.mean(plot_data[1][abbr])\n",
    "            z[j*self.bs_N:(j+1)*self.bs_N] = gv.mean(color_data[abbr])\n",
    "\n",
    "        sc = plt.scatter(x, y, c=z, vmin=minimum, vmax=maximum,\n",
    "                         cmap=cmap, rasterized=True, marker=\".\", alpha=100.0/self.bs_N)\n",
    "\n",
    "        if ((show_fit)\n",
    "                and (xy_parameters[1] in ['FK/Fpi', 'FK / Fpi'])\n",
    "                and (xy_parameters[0] in['mpi', 'mju', 'mru', 'mk', 'mrs', 'mss', 'FK', 'Fpi'])):\n",
    "\n",
    "            plt.axvline(gv.mean(xfcn(self.get_phys_point_data(xy_parameters[0]))), label='Phys point')\n",
    "            y_phys = self.get_phys_point_data('FK/Fpi')\n",
    "            plt.errorbar(x=gv.mean(xfcn(self.get_phys_point_data(xy_parameters[0]))), xerr=0,\n",
    "                         y=gv.mean(y_phys), yerr=gv.sdev(y_phys), label='Exp',\n",
    "                        color='C0', marker='o', capsize=0.0, mec='white', ms=10.0, alpha=0.6,\n",
    "                             ecolor='C1', elinewidth=10.0)\n",
    "\n",
    "            colors = ['black', 'purple', 'green', 'red']\n",
    "            lattice_spacings = np.unique(self._make_fit_data(0)['a'])\n",
    "            for j, a in enumerate(np.append([gv.gvar('0(0)')], lattice_spacings)):\n",
    "                \n",
    "                minimum = np.nanmin([np.nanmin(\n",
    "                    self.fit_data[abbr][xy_parameters[0]] *hbar_c / (self.fit_data[abbr]['a'])\n",
    "                ) for abbr in self.abbrs])\n",
    "                maximum = np.nanmax([np.nanmax(\n",
    "                    self.fit_data[abbr][xy_parameters[0]] *hbar_c / (self.fit_data[abbr]['a'])\n",
    "                ) for abbr in self.abbrs])\n",
    "                minimum = gv.mean(minimum)\n",
    "                maximum = gv.mean(maximum)\n",
    "                delta = maximum - minimum\n",
    "\n",
    "                x = np.linspace(np.max((minimum - 0.05*delta, 0)), maximum + 0.05*delta)\n",
    "                \n",
    "\n",
    "\n",
    "                # Get phys point data, substituting x-data and current 'a' in loop\n",
    "                prepped_data = self.get_phys_point_data()\n",
    "                prepped_data[xy_parameters[0]] = x\n",
    "                prepped_data['a'] = a\n",
    "\n",
    "                y = self.fk_fpi_fit_fcn(fit_data=prepped_data)\n",
    "\n",
    "                pm = lambda g, k : gv.mean(g) + k*gv.sdev(g)\n",
    "                plt.plot(xfcn(x), pm(y, 0), '--', color=colors[j], label='$a=$%s (fm)'%(str(a)), rasterized=True)\n",
    "                plt.fill_between(xfcn(x), pm(y, -1), pm(y, 1), alpha=0.20, color=colors[j], rasterized=True)\n",
    "\n",
    "            plt.legend()\n",
    "\n",
    "        # Plot labels\n",
    "        plt.grid()\n",
    "        plt.xlabel(xlabel, fontsize = 24)\n",
    "        plt.ylabel(ylabel, fontsize = 24)\n",
    "\n",
    "        # Format colorbar\n",
    "        color_bar = plt.colorbar(sc)\n",
    "        color_bar.set_alpha(0.8)\n",
    "        color_bar.draw_all()\n",
    "        color_bar.set_label(self._fmt_key_as_latex(color_parameter), fontsize = 24)\n",
    "\n",
    "        # Set xlim, ylim -- only works if xy_parameters[i] is a vector, not a scalar\n",
    "        '''        min_max = lambda x : [np.min(x), np.max(x)]\n",
    "        try:\n",
    "            xmin, xmax = min_max(np.concatenate([gv.mean(plot_data[0][abbr]) for abbr in self.abbrs]))\n",
    "            ymin, ymax = min_max(np.concatenate([gv.mean(plot_data[1][abbr]) for abbr in self.abbrs]))\n",
    "            xdelta = xmax - xmin\n",
    "            ydelta = ymax - ymin\n",
    "            plt.xlim(xmin-0.05*xdelta, xmax+0.05*xdelta) #xmin-0.05*xdelta\n",
    "            plt.ylim(ymin-0.05*ydelta, ymax+0.05*ydelta)\n",
    "        except ValueError:\n",
    "            pass'''\n",
    "\n",
    "        fig = plt.gcf()\n",
    "        plt.close()\n",
    "        return fig\n",
    "    \n",
    "    squared = lambda x : x**2\n",
    "    plot_parameters(bootstrapper, xy_parameters=['mpi', 'FK/Fpi'],\n",
    "                    xfcn=squared, xlabel='$m_\\pi^2$ (MeV)$^2$', color_parameter='a', show_fit=True)"
   ]
  },
  {
   "cell_type": "code",
   "execution_count": 51,
   "metadata": {
    "collapsed": true
   },
   "outputs": [],
   "source": [
    "def fk_fpi_nlo_chiral_fcn(p, eps2_k):\n",
    "    # Constants\n",
    "    pi = np.pi\n",
    "\n",
    "    # Independent variables\n",
    "    lam2_chi = 16 *pi**2 *(p['Fpi'] *p['FK'])\n",
    "    eps2_pi = p['mpi']**2 / lam2_chi\n",
    "    #eps2_k = p['mk']**2 / lam2_chi\n",
    "    eps2_x = (4.0/3.0) *eps2_k - (1.0/3.0) *eps2_pi\n",
    "\n",
    "    l_pi, l_k, l_x = [np.log(eps2) for eps2 in [eps2_pi, eps2_k, eps2_x]]\n",
    "\n",
    "    output = (1.0\n",
    "             + 5.0/8.0 *(eps2_pi) *l_pi\n",
    "             - 1.0/4.0 *(eps2_k) *l_k\n",
    "             - 3.0/8.0 *(eps2_x) *l_x\n",
    "             + 4 *(eps2_k - eps2_pi) *(4*pi)**2 *p['L_5_lam']\n",
    "             )\n",
    "\n",
    "    return output"
   ]
  },
  {
   "cell_type": "code",
   "execution_count": 52,
   "metadata": {
    "collapsed": false
   },
   "outputs": [
    {
     "data": {
      "text/plain": [
       "array([0.000203(27)], dtype=object)"
      ]
     },
     "execution_count": 52,
     "metadata": {},
     "output_type": "execute_result"
    }
   ],
   "source": [
    "bootstrapper.get_fit_parameters('L_5_lam')"
   ]
  },
  {
   "cell_type": "code",
   "execution_count": 63,
   "metadata": {
    "collapsed": false
   },
   "outputs": [
    {
     "data": {
      "text/plain": [
       "array([15.8(1.4), 15.8(1.4), 15.5(1.4), 15.8(1.4), 15.6(1.4), 15.7(1.4),\n",
       "       15.7(1.4), 15.1(1.4), 15.5(1.4), 15.5(1.4), 16.0(1.4), 15.8(1.4),\n",
       "       15.7(1.4), 15.3(1.4), 15.7(1.4), 16.1(1.4), 15.9(1.4), 15.7(1.4),\n",
       "       15.5(1.4), 15.5(1.4)], dtype=object)"
      ]
     },
     "execution_count": 63,
     "metadata": {},
     "output_type": "execute_result"
    }
   ],
   "source": [
    "def shift_fk_fpi(self, abbr):\n",
    "    pi = np.pi\n",
    "    hbar_c = 197.327\n",
    "    lam2_chi = 16 *pi *self.get_phys_point_data('FK/Fpi')\n",
    "    \n",
    "    fkfpi_ens = self.fit_data[abbr]['FK'] / self.fit_data[abbr]['FK']\n",
    "    \n",
    "    \n",
    "    to_phys = lambda m : m *hbar_c / self.fit_data[abbr]['a']\n",
    "    eps2_k = (to_phys(self.fit_data[abbr]['mk']) / lam2_chi)**2\n",
    "    eps2_k_phys = (self.get_phys_point_data('mk') / lam2_chi)**2\n",
    "    eps2_pi = (to_phys(self.fit_data[abbr]['mpi']) / lam2_chi)**2\n",
    "    eps2_pi_phys = (self.get_phys_point_data('mpi') / lam2_chi)**2\n",
    "    \n",
    "    to_eta = lambda xk, xpi : (4.0/3.0) *xk - (1.0/3.0) *xpi\n",
    "    eps2_x = to_eta(eps2_k, eps2_pi)\n",
    "    eps2_x_phys = to_eta(eps2_k_phys, eps2_pi_phys)\n",
    "    \n",
    "    L_5_lam = self.get_fit_parameters('L_5_lam')\n",
    "    \n",
    "    delta = lambda xphys, xens : (xphys *np.log(xphys) - xens *np.log(xens))\n",
    "    shifted_fkfpi = (\n",
    "        fkfpi_ens\n",
    "        - (1.0/4.0) *delta(eps2_k_phys, eps2_k)\n",
    "        - (3.0/8.0) *delta(eps2_x_phys, eps2_x)\n",
    "        + 4 *(4*pi)**2 *(eps2_k_phys - eps2_k) *L_5_lam\n",
    "    )\n",
    "    \n",
    "    return shifted_fkfpi\n",
    "\n",
    "shift_fk_fpi(bootstrapper, 'a09m220')"
   ]
  },
  {
   "cell_type": "code",
   "execution_count": null,
   "metadata": {
    "collapsed": true
   },
   "outputs": [],
   "source": [
    "bootstrapper.get_phys_point_data"
   ]
  },
  {
   "cell_type": "code",
   "execution_count": null,
   "metadata": {
    "collapsed": true
   },
   "outputs": [],
   "source": []
  },
  {
   "cell_type": "code",
   "execution_count": 53,
   "metadata": {
    "collapsed": false
   },
   "outputs": [
    {
     "data": {
      "text/plain": [
       "array([1.1462(22), 1.1463(22), 1.1462(22), 1.1464(22), 1.1464(22),\n",
       "       1.1464(22), 1.1465(22), 1.1461(22), 1.1463(22), 1.1463(22),\n",
       "       1.1465(22), 1.1462(22), 1.1464(22), 1.1464(22), 1.1464(22),\n",
       "       1.1464(22), 1.1466(22), 1.1465(22), 1.1465(22), 1.1463(22)],\n",
       "      dtype=object)"
      ]
     },
     "execution_count": 53,
     "metadata": {},
     "output_type": "execute_result"
    }
   ],
   "source": [
    "def shift_fk_fpi(self):\n",
    "    abbr = 'a09m220'\n",
    "    input_data = self.fit_data[abbr]\n",
    "    input_data['L_5_lam'] = self.get_fit_parameters('L_5_lam')\n",
    "    \n",
    "    y = self.fit_data[abbr]['FK'] / self.fit_data[abbr]['Fpi']\n",
    "    \n",
    "    \n",
    "    sol = fsolve(self.fit_data)\n",
    "    \n",
    "    return fk_fpi_nlo_chiral_fcn(input_data)\n",
    "    \n",
    "    \n",
    "shift_fk_fpi(bootstrapper)"
   ]
  },
  {
   "cell_type": "code",
   "execution_count": null,
   "metadata": {
    "collapsed": true
   },
   "outputs": [],
   "source": [
    "fk_fpi_nlo_chiral_fcn(fit_data)"
   ]
  },
  {
   "cell_type": "code",
   "execution_count": 38,
   "metadata": {
    "collapsed": false
   },
   "outputs": [],
   "source": [
    "from scipy.optimize import fsolve\n",
    "\n",
    "f = lambda x : x**2"
   ]
  },
  {
   "cell_type": "code",
   "execution_count": 39,
   "metadata": {
    "collapsed": false
   },
   "outputs": [
    {
     "data": {
      "text/plain": [
       "array([3.46410162])"
      ]
     },
     "execution_count": 39,
     "metadata": {},
     "output_type": "execute_result"
    }
   ],
   "source": [
    "fsolve((lambda x : f(x)-12), 232)"
   ]
  },
  {
   "cell_type": "code",
   "execution_count": 25,
   "metadata": {
    "collapsed": true
   },
   "outputs": [],
   "source": [
    "y = 12"
   ]
  },
  {
   "cell_type": "code",
   "execution_count": null,
   "metadata": {
    "collapsed": true
   },
   "outputs": [],
   "source": []
  },
  {
   "cell_type": "code",
   "execution_count": 20,
   "metadata": {
    "collapsed": false
   },
   "outputs": [
    {
     "name": "stdout",
     "output_type": "stream",
     "text": [
      "1.07527115631\n",
      "1.4142112642\n",
      "1.2795366841\n",
      "2.33683372904\n",
      "2.01969232481\n",
      "1.56179745754\n",
      "1.49566433431\n",
      "2.36315110795\n",
      "1.35740396604\n",
      "1.10894737916\n",
      "1.24874487904\n",
      "0.832457013957\n",
      "0.768863274781\n",
      "3.08185573961\n",
      "1.62734389577\n",
      "1.24182918655\n",
      "1.56723063256\n",
      "2.24486532025\n",
      "1.78083626119\n",
      "0.990370099749\n"
     ]
    }
   ],
   "source": [
    "for fit in bootstrapper.fits:\n",
    "    print fit.chi2 / fit.dof"
   ]
  },
  {
   "cell_type": "code",
   "execution_count": 15,
   "metadata": {
    "collapsed": false
   },
   "outputs": [
    {
     "data": {
      "image/png": "[encoded data removed]",
      "text/plain": [
       "<Figure size 720x720 with 1 Axes>"
      ]
     },
     "metadata": {
      "needs_background": "light"
     },
     "output_type": "display_data"
    }
   ],
   "source": [
    "bootstrapper.fits[0].show_plots()"
   ]
  },
  {
   "cell_type": "code",
   "execution_count": null,
   "metadata": {
    "collapsed": true
   },
   "outputs": [],
   "source": []
  },
  {
   "cell_type": "code",
   "execution_count": 92,
   "metadata": {
    "collapsed": true
   },
   "outputs": [],
   "source": [
    "temp = [(4*np.pi)**2 *fit_data[abbr]['FK'][0]*fit_data[abbr]['Fpi'][0] for abbr in fit_data.keys()]"
   ]
  },
  {
   "cell_type": "code",
   "execution_count": 93,
   "metadata": {
    "collapsed": false
   },
   "outputs": [
    {
     "data": {
      "text/plain": [
       "[0.33142743488829551, 1.0659066704236386]"
      ]
     },
     "execution_count": 93,
     "metadata": {},
     "output_type": "execute_result"
    }
   ],
   "source": [
    "[np.min(temp), np.max(temp)]"
   ]
  },
  {
   "cell_type": "code",
   "execution_count": 322,
   "metadata": {
    "collapsed": false
   },
   "outputs": [
    {
     "ename": "ValueError",
     "evalue": "Argument shapes mismatched: (1L,) ()",
     "output_type": "error",
     "traceback": [
      "\u001b[1;31m---------------------------------------------------------------------------\u001b[0m",
      "\u001b[1;31mValueError\u001b[0m                                Traceback (most recent call last)",
      "\u001b[1;32m<ipython-input-322-a9f23b3fdaa3>\u001b[0m in \u001b[0;36m<module>\u001b[1;34m()\u001b[0m\n\u001b[1;32m----> 1\u001b[1;33m \u001b[0mbootstrapper\u001b[0m\u001b[1;33m.\u001b[0m\u001b[0mcreate_prior_from_fit\u001b[0m\u001b[1;33m(\u001b[0m\u001b[1;33m)\u001b[0m\u001b[1;33m\u001b[0m\u001b[0m\n\u001b[0m",
      "\u001b[1;32mD:\\Documents\\School Work\\Research\\fk-fpi\\fitter\\bootstrapper.py\u001b[0m in \u001b[0;36mcreate_prior_from_fit\u001b[1;34m(self)\u001b[0m\n\u001b[0;32m    188\u001b[0m             \u001b[1;31m#mean = gv.mean(self.fits[0].p[key])\u001b[0m\u001b[1;33m\u001b[0m\u001b[1;33m\u001b[0m\u001b[0m\n\u001b[0;32m    189\u001b[0m             \u001b[1;31m#unc = gv.sdev(self.fits[0].p[key])\u001b[0m\u001b[1;33m\u001b[0m\u001b[1;33m\u001b[0m\u001b[0m\n\u001b[1;32m--> 190\u001b[1;33m \u001b[1;33m\u001b[0m\u001b[0m\n\u001b[0m\u001b[0;32m    191\u001b[0m             \u001b[0moutput\u001b[0m\u001b[1;33m[\u001b[0m\u001b[0mkey\u001b[0m\u001b[1;33m]\u001b[0m \u001b[1;33m=\u001b[0m \u001b[0mgv\u001b[0m\u001b[1;33m.\u001b[0m\u001b[0mgvar\u001b[0m\u001b[1;33m(\u001b[0m\u001b[0mmean\u001b[0m\u001b[1;33m,\u001b[0m \u001b[0munc\u001b[0m\u001b[1;33m)\u001b[0m\u001b[1;33m\u001b[0m\u001b[0m\n\u001b[0;32m    192\u001b[0m \u001b[1;33m\u001b[0m\u001b[0m\n",
      "\u001b[1;32m_gvarcore.pyx\u001b[0m in \u001b[0;36mgvar._gvarcore.GVarFactory.__call__\u001b[1;34m()\u001b[0m\n",
      "\u001b[1;31mValueError\u001b[0m: Argument shapes mismatched: (1L,) ()"
     ]
    }
   ],
   "source": [
    "bootstrapper.create_prior_from_fit()"
   ]
  },
  {
   "cell_type": "code",
   "execution_count": null,
   "metadata": {
    "collapsed": true
   },
   "outputs": [],
   "source": []
  },
  {
   "cell_type": "code",
   "execution_count": null,
   "metadata": {
    "collapsed": true
   },
   "outputs": [],
   "source": []
  },
  {
   "cell_type": "code",
   "execution_count": null,
   "metadata": {
    "collapsed": false,
    "scrolled": false
   },
   "outputs": [
    {
     "name": "stdout",
     "output_type": "stream",
     "text": [
      "Making fits...\n",
      "100% complete  Time (s):  2.39598703384\n",
      "Getting bs fit parameters...\n",
      "38% complete "
     ]
    }
   ],
   "source": [
    "t0 = time.time()\n",
    "\n",
    "# Load data\n",
    "data_loader = dl.data_loader()\n",
    "fit_data = data_loader.get_fit_data()\n",
    "\n",
    "# Get prior\n",
    "prior = None\n",
    "if p_dict['use_prior']:\n",
    "    prior = data_loader.get_prior()\n",
    "\n",
    "# Make bootstrapper\n",
    "bootstrapper = bs.bootstrapper(fit_data, prior=prior, order=p_dict['order'], bs_N=p_dict['bs_N'], abbrs=p_dict['abbrs'])\n",
    "\n",
    "if p_dict['make_plots']:\n",
    "    data_loader.save_plots(bootstrapper.make_plots(\n",
    "        show_error_ellipses=p_dict['show_error_ellipses'], show_bootstrap_histograms=p_dict['show_bs_histograms']))\n",
    "else:\n",
    "    print bootstrapper\n",
    "    \n",
    "if p_dict['save_prior']:\n",
    "    print 'Saving prior...'\n",
    "    data_loader.save_prior(bootstrapper.create_prior_from_fit())\n",
    "    \n",
    "    \n",
    "t1 = time.time()\n",
    "\n",
    "print \"\\nTotal time (s): \", t1 - t0, \"\\n\""
   ]
  },
  {
   "cell_type": "code",
   "execution_count": null,
   "metadata": {
    "collapsed": true
   },
   "outputs": [],
   "source": []
  }
 ],
 "metadata": {
  "kernelspec": {
   "display_name": "Python 2",
   "language": "python",
   "name": "python2"
  },
  "language_info": {
   "codemirror_mode": {
    "name": "ipython",
    "version": 2
   },
   "file_extension": ".py",
   "mimetype": "text/x-python",
   "name": "python",
   "nbconvert_exporter": "python",
   "pygments_lexer": "ipython2",
   "version": "2.7.13"
  }
 },
 "nbformat": 4,
 "nbformat_minor": 2
}
