{
 "cells": [
  {
   "cell_type": "markdown",
   "metadata": {},
   "source": [
    "### Import Modules"
   ]
  },
  {
   "cell_type": "code",
   "execution_count": 26,
   "metadata": {
    "collapsed": false
   },
   "outputs": [],
   "source": [
    "import numpy as np\n",
    "import gvar as gv\n",
    "import lsqfit\n",
    "import sys\n",
    "import os\n",
    "import matplotlib\n",
    "import matplotlib.pyplot as plt\n",
    "import pandas as pd\n",
    "import h5py\n",
    "\n",
    "sys.path.append(\"../\")\n",
    "from fitter import data_loader as dl\n",
    "from fitter import bootstrapper as bs\n",
    "from fitter import fitter as fit\n",
    "\n",
    "matplotlib.rcParams['figure.figsize'] = [10, 10]"
   ]
  },
  {
   "cell_type": "code",
   "execution_count": 44,
   "metadata": {
    "collapsed": false
   },
   "outputs": [
    {
     "data": {
      "text/plain": [
       "<module 'fitter.fitter' from '../fitter/fitter.pyc'>"
      ]
     },
     "execution_count": 44,
     "metadata": {},
     "output_type": "execute_result"
    }
   ],
   "source": [
    "reload(bs)\n",
    "reload(dl)\n",
    "reload(fit)"
   ]
  },
  {
   "cell_type": "markdown",
   "metadata": {},
   "source": [
    "### Load data"
   ]
  },
  {
   "cell_type": "code",
   "execution_count": 45,
   "metadata": {
    "collapsed": true
   },
   "outputs": [],
   "source": [
    "data_loader = dl.data_loader()\n",
    "\n",
    "fit_data = data_loader.get_fit_data()\n",
    "prior = data_loader.get_prior()"
   ]
  },
  {
   "cell_type": "markdown",
   "metadata": {},
   "source": [
    "### Bootstrap"
   ]
  },
  {
   "cell_type": "code",
   "execution_count": 46,
   "metadata": {
    "collapsed": true
   },
   "outputs": [],
   "source": [
    "bootstrapper = bs.bootstrapper(fit_data, prior=prior, order=1, bs_N=50)\n",
    "#bootstrapper.plot_parameters(xy_parameters=['a', 'm_pion'], color_parameter='V')\n",
    "#data_loader.save_plots(bootstrapper)\n",
    "#bootstrapper.plot_fit()"
   ]
  },
  {
   "cell_type": "code",
   "execution_count": 47,
   "metadata": {
    "collapsed": false,
    "scrolled": false
   },
   "outputs": [
    {
     "name": "stdout",
     "output_type": "stream",
     "text": [
      "Making fits...\n",
      "100% complete  Time (s):  0.753967046738\n",
      "Getting bs fit parameters...\n",
      "100% complete \n",
      "\n",
      "Fitting to order 1 \n",
      "Fitted/[Experimental] values at physical point:\n",
      "\n",
      "\t\tF_K / F_pi = 1.10(12) [1.201(46)]\n",
      "\n",
      "  Parameter    Result[0] / Prior[1]    Parameter    Result[0] / Prior[1]\n",
      "-----------------------------------  -----------------------------------\n",
      "     l_ju 0              -1.4 (3.7)       l_ss 0               0.52 (23)\n",
      "          1               1.0 (1.0)            1               1.0 (1.0)\n",
      "     l_sj 0               0.9 (3.2)       l_rs 0              -3.0 (4.1)\n",
      "          1               1.0 (1.0)            1               1.0 (1.0)\n",
      "      l_x 0              -0.39 (17)       l_ru 0               0.8 (2.0)\n",
      "          1               1.0 (1.0)            1               1.0 (1.0)\n",
      "     l_pi 0              -0.68 (77)     l_5lam 0            -0.0007 (38)\n",
      "          1               1.0 (1.0)            1             0.0069 (34)\n",
      "\n",
      "Total time (s):  1.96081805229 \n",
      "\n",
      "Least Square Fit:\n",
      "  chi2/dof [dof] = 16 [16]    Q = 2.3e-45    logGBF = -68.181\n",
      "\n",
      "Parameters:\n",
      "         l_5lam   -0.00217 (46)      [ 0.0069 (34) ]  **\n",
      "           l_ju      -2.87 (57)      [   1.0 (1.0) ]  ***\n",
      "           l_pi     -0.482 (92)      [   1.0 (1.0) ]  *\n",
      "           l_rs      -3.94 (48)      [   1.0 (1.0) ]  ****\n",
      "           l_ru       1.28 (93)      [   1.0 (1.0) ]  \n",
      "           l_sj       0.44 (67)      [   1.0 (1.0) ]  \n",
      "           l_ss     0.5136 (95)      [   1.0 (1.0) ]  \n",
      "            l_x    -0.3875 (74)      [   1.0 (1.0) ]  *\n",
      "\n",
      "Settings:\n",
      "  svdcut/n = 1e-12/0    tol = (1e-08*,1e-10,1e-10)    (itns/time = 4/0.0)\n",
      "  fitter = scipy_least_squares    method = trf\n",
      "\n"
     ]
    }
   ],
   "source": [
    "import time\n",
    "t0 = time.time()\n",
    "print bootstrapper\n",
    "t1 = time.time()\n",
    "print \"\\nTotal time (s): \", t1 - t0, \"\\n\"\n",
    "\n",
    "#squared = lambda x : x**2\n",
    "#bootstrapper.plot_fit(xfcn=squared, xlabel='$m_{\\pi}^2$ (MeV)$^2$')\n",
    "#bootstrapper.plot_fit()\n",
    "\n",
    "print bootstrapper.fits[0]"
   ]
  },
  {
   "cell_type": "code",
   "execution_count": 48,
   "metadata": {
    "collapsed": false
   },
   "outputs": [
    {
     "name": "stdout",
     "output_type": "stream",
     "text": [
      "Done.\n"
     ]
    }
   ],
   "source": [
    "data_loader.save_plots([bootstrapper.plot_fit_bar_graph()])"
   ]
  },
  {
   "cell_type": "code",
   "execution_count": null,
   "metadata": {
    "collapsed": true
   },
   "outputs": [],
   "source": []
  }
 ],
 "metadata": {
  "kernelspec": {
   "display_name": "Python 2",
   "language": "python",
   "name": "python2"
  },
  "language_info": {
   "codemirror_mode": {
    "name": "ipython",
    "version": 2
   },
   "file_extension": ".py",
   "mimetype": "text/x-python",
   "name": "python",
   "nbconvert_exporter": "python",
   "pygments_lexer": "ipython2",
   "version": "2.7.13"
  }
 },
 "nbformat": 4,
 "nbformat_minor": 2
}
