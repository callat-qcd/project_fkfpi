{
 "cells": [
  {
   "cell_type": "markdown",
   "metadata": {},
   "source": [
    "### Import Modules"
   ]
  },
  {
   "cell_type": "code",
   "execution_count": 175,
   "metadata": {
    "collapsed": true
   },
   "outputs": [],
   "source": [
    "import numpy as np\n",
    "import gvar as gv\n",
    "import lsqfit\n",
    "import sys\n",
    "import os\n",
    "import matplotlib\n",
    "import matplotlib.pyplot as plt\n",
    "import pandas as pd\n",
    "import h5py\n",
    "import time\n",
    "\n",
    "sys.path.append(\"../\")\n",
    "from fitter import data_loader as dl\n",
    "from fitter import bootstrapper as bs\n",
    "from fitter import fitter as fit\n",
    "from fitter import special_functions as sf\n",
    "\n",
    "for j in range(10): # Sometimes this needs to be loaded twice...\n",
    "    matplotlib.rcParams['figure.figsize'] = [10, 10]"
   ]
  },
  {
   "cell_type": "code",
   "execution_count": 190,
   "metadata": {},
   "outputs": [
    {
     "data": {
      "text/plain": [
       "<module 'fitter.special_functions' from '../fitter\\special_functions.pyc'>"
      ]
     },
     "execution_count": 190,
     "metadata": {},
     "output_type": "execute_result"
    }
   ],
   "source": [
    "reload(bs)\n",
    "reload(dl)\n",
    "reload(fit)\n",
    "reload(sf)"
   ]
  },
  {
   "cell_type": "markdown",
   "metadata": {},
   "source": [
    "### Specify fit parameters"
   ]
  },
  {
   "cell_type": "code",
   "execution_count": 191,
   "metadata": {
    "collapsed": true
   },
   "outputs": [],
   "source": [
    "p_dict = {\n",
    "    'order' : {\n",
    "        'fit' : 'nnlo', # 'nlo', 'nnlo', or 'nnnlo'\n",
    "        'vol' : 0, # max 10\n",
    "        'exclude' : [], # put LECs here\n",
    "        'include_log' : True, # alphaS\n",
    "        'include_log2' : False\n",
    "    }, \n",
    "    'bs_N' : 1,  # if 0, use full list\n",
    "    'fit_type' : 'ma-taylor', #'ma', 'ma-taylor, 'xpt', or 'xpt-taylor'; also 'simultaneous', 'ma-old'\n",
    "    'F2' : 'FKFpi', #'FKfpi', 'FpiFpi', 'FKFK'\n",
    "    'chained' : False,\n",
    "    \n",
    "    'use_prior' : False,\n",
    "    'abbrs' : [u'a09m220', u'a09m310', u'a09m350', u'a09m400', u'a12m130',\n",
    "           u'a12m220',  u'a12m220S', u'a12m220L', u'a12m310', u'a12m350',\n",
    "           u'a12m400',  u'a15m135XL', u'a15m220', u'a15m310', u'a15m350', 'a15m400'], # u'a15m130'\n",
    "    \n",
    "    'make_plots' : False,\n",
    "    'show_error_ellipses' : False,\n",
    "    'show_bs_histograms' : False,\n",
    "    \n",
    "    'save_prior' : False,\n",
    "    'save_results' : False,\n",
    "}"
   ]
  },
  {
   "cell_type": "markdown",
   "metadata": {},
   "source": [
    "### Do fit"
   ]
  },
  {
   "cell_type": "code",
   "execution_count": 192,
   "metadata": {
    "scrolled": false
   },
   "outputs": [
    {
     "name": "stdout",
     "output_type": "stream",
     "text": [
      "Using default prior.\n",
      "Making fits...\n",
      "Done!\n",
      "100% complete Time (s):  1.32400012016\n",
      "Compiling results...\n",
      "\n",
      "\n",
      "Fit type: ma-taylor (F^2 = FKFpi, bsN = 1)\n",
      "\n",
      "Fitting to nnlo \n",
      " with volume corrections O(0) \n",
      " chained: False \n",
      "Fitted/[FLAG] values at physical point (including SU(2) isospin corrections):\n",
      "\n",
      "F_K / F_pi = 1.1807(41) [1.1932(19)]   (delta_su2 = -0.00197(22))\n",
      "\n",
      "  Parameter    Result[0] / Prior[1]    Parameter    Result[0] / Prior[1]\n",
      "-----------------------------------  -----------------------------------\n",
      "   A_loga 0               1.1 (4.2)            1               0.0 (5.0)\n",
      "          1               0.0 (5.0)        A_a 0               0.4 (2.8)\n",
      "      L_5 0            0.00043 (57)            1               0.0 (5.0)\n",
      "          1             0.0000 (50)        A_p 0               1.19 (44)\n",
      "      A_k 0              -0.9 (2.4)            1               0.0 (5.0)\n",
      "---\n",
      "boot0 fit results:\n",
      "Least Square Fit:\n",
      "  chi2/dof [dof] = 2 [16]    Q = 0.0096    logGBF = 54.984\n",
      "\n",
      "Settings:\n",
      "  svdcut/n = 1e-12/0    tol = (1e-08,1e-10,1e-10*)    (itns/time = 12/0.7)\n",
      "  fitter = scipy_least_squares    method = trf\n",
      "\n",
      "\n",
      "Total time (s):  2.76600003242 \n",
      "\n"
     ]
    }
   ],
   "source": [
    "t0 = time.time()\n",
    "\n",
    "# Load data\n",
    "data_loader = dl.data_loader()\n",
    "fit_data = data_loader.get_fit_data()\n",
    "\n",
    "# Get prior\n",
    "prior = None\n",
    "if p_dict['use_prior']:\n",
    "    prior = data_loader.get_prior(p_dict['fit_type'])\n",
    "\n",
    "# Make bootstrapper\n",
    "bootstrapper = bs.bootstrapper(fit_data, prior=prior, order=p_dict['order'], F2=p_dict['F2'], chain_fits=p_dict['chained'],\n",
    "                               fit_type=p_dict['fit_type'], bs_N=p_dict['bs_N'], abbrs=p_dict['abbrs'])\n",
    "\n",
    "if p_dict['make_plots']:\n",
    "    data_loader.save_plots(\n",
    "        bootstrapper.make_plots(\n",
    "            show_error_ellipses=p_dict['show_error_ellipses'], \n",
    "            show_bootstrap_histograms=p_dict['show_bs_histograms']),\n",
    "        output_filename='fits/'+bootstrapper.fit_type+'_'+bootstrapper.order['fit']\n",
    "    )\n",
    "else:\n",
    "    print bootstrapper\n",
    "    \n",
    "if p_dict['save_prior']:\n",
    "    print 'Saving prior...'\n",
    "    data_loader.save_prior(bootstrapper.create_prior_from_fit(), p_dict['fit_type'])\n",
    "    \n",
    "if p_dict['save_results']:\n",
    "    data_loader.save_fit_info(bootstrapper.get_fit_info())\n",
    "    \n",
    "    \n",
    "t1 = time.time()\n",
    "\n",
    "print \"\\nTotal time (s): \", t1 - t0, \"\\n\""
   ]
  },
  {
   "cell_type": "code",
   "execution_count": null,
   "metadata": {
    "collapsed": true
   },
   "outputs": [],
   "source": [
    "bootstrapper.order"
   ]
  },
  {
   "cell_type": "code",
   "execution_count": 183,
   "metadata": {},
   "outputs": [
    {
     "name": "stdout",
     "output_type": "stream",
     "text": [
      "ma_alphaS\n"
     ]
    }
   ],
   "source": [
    "translator_dict = {\n",
    "    'xpt' : 'xpt-ratio', \n",
    "    'xpt-taylor' : 'xpt',\n",
    "    'ma' : 'ma-ratio', \n",
    "    'ma-taylor' : 'ma',\n",
    "}\n",
    "\n",
    "def make_table(bootstrapper):\n",
    "    name = translator_dict[bootstrapper.fit_type]\n",
    "    if bootstrapper.order['vol'] > 0:\n",
    "        name = name + '_FV'\n",
    "\n",
    "    if bootstrapper.order['include_log']:\n",
    "        name = name + '_alphaS'\n",
    "\n",
    "    if bootstrapper.order['include_log2']:\n",
    "        name = name + '_logSq'\n",
    "        \n",
    "    print name\n",
    "    \n",
    "make_table(bootstrapper)"
   ]
  },
  {
   "cell_type": "code",
   "execution_count": 181,
   "metadata": {},
   "outputs": [
    {
     "data": {
      "text/plain": [
       "{'exclude': [],\n",
       " 'fit': 'nnlo',\n",
       " 'include_log': True,\n",
       " 'include_log2': False,\n",
       " 'vol': 0}"
      ]
     },
     "execution_count": 181,
     "metadata": {},
     "output_type": "execute_result"
    }
   ],
   "source": [
    "bootstrapper.order"
   ]
  },
  {
   "cell_type": "code",
   "execution_count": 193,
   "metadata": {},
   "outputs": [
    {
     "name": "stdout",
     "output_type": "stream",
     "text": [
      "1.1819(42)\n"
     ]
    }
   ],
   "source": [
    "print bootstrapper.extrapolate_to_phys_point(include_su2_isospin_corrrection=False)"
   ]
  },
  {
   "cell_type": "code",
   "execution_count": null,
   "metadata": {
    "collapsed": true
   },
   "outputs": [],
   "source": []
  },
  {
   "cell_type": "code",
   "execution_count": 9,
   "metadata": {},
   "outputs": [
    {
     "data": {
      "text/plain": [
       "(5001L,)"
      ]
     },
     "execution_count": 9,
     "metadata": {},
     "output_type": "execute_result"
    }
   ],
   "source": [
    "fit_data['a09m220']['mpi'].shape"
   ]
  },
  {
   "cell_type": "code",
   "execution_count": 289,
   "metadata": {
    "collapsed": true,
    "scrolled": false
   },
   "outputs": [],
   "source": [
    "#print bootstrapper.fits[0]"
   ]
  },
  {
   "cell_type": "code",
   "execution_count": 275,
   "metadata": {},
   "outputs": [
    {
     "name": "stdout",
     "output_type": "stream",
     "text": [
      "a09m220 0.43356000(43)\n",
      "a09m310 0.43356000(43)\n",
      "a09m350 0.43356000(43)\n",
      "a09m400 0.43356000(43)\n",
      "a12m130 0.53796000(54)\n",
      "a12m220 0.53796000(54)\n",
      "a12m220L 0.53796000(54)\n",
      "a12m220S 0.53796000(54)\n",
      "a12m310 0.53796000(54)\n",
      "a12m350 0.53796000(54)\n",
      "a12m400 0.53796000(54)\n",
      "a15m135XL 0.58801000(59)\n",
      "a15m220 0.58801000(59)\n",
      "a15m310 0.58801000(59)\n",
      "a15m350 0.58801000(59)\n",
      "a15m400 0.58801000(59)\n"
     ]
    }
   ],
   "source": [
    "for abbr in bootstrapper.abbrs:\n",
    "    print abbr, bootstrapper.fit_data[abbr]['alpha_s']"
   ]
  },
  {
   "cell_type": "code",
   "execution_count": 274,
   "metadata": {},
   "outputs": [
    {
     "name": "stdout",
     "output_type": "stream",
     "text": [
      "[0.43356000(43), 0.43356000(43), 0.43356000(43), 0.43356000(43), 0.53796000(54), 0.53796000(54), 0.53796000(54), 0.53796000(54), 0.53796000(54), 0.53796000(54), 0.53796000(54), 0.58801000(59), 0.58801000(59), 0.58801000(59), 0.58801000(59), 0.58801000(59)]\n"
     ]
    }
   ],
   "source": [
    "print [bootstrapper.fit_data[abbr]['alpha_s'] for abbr in bootstrapper.abbrs]"
   ]
  },
  {
   "cell_type": "code",
   "execution_count": null,
   "metadata": {
    "collapsed": true
   },
   "outputs": [],
   "source": [
    "def test(self):\n",
    "    p\n",
    "    "
   ]
  },
  {
   "cell_type": "code",
   "execution_count": 248,
   "metadata": {},
   "outputs": [
    {
     "name": "stdout",
     "output_type": "stream",
     "text": [
      "0.442983188623\n"
     ]
    }
   ],
   "source": [
    "def test(self):\n",
    "    temp = bootstrapper.fits[0].p\n",
    "    print gv.corr(temp['mpi'][0], temp['mk'][0])\n",
    "    \n",
    "test(bootstrapper)"
   ]
  },
  {
   "cell_type": "code",
   "execution_count": 235,
   "metadata": {},
   "outputs": [
    {
     "data": {
      "text/plain": [
       "1.1804(57)"
      ]
     },
     "execution_count": 235,
     "metadata": {},
     "output_type": "execute_result"
    }
   ],
   "source": [
    "bootstrapper.extrapolate_to_phys_point(include_su2_isospin_corrrection=False)"
   ]
  },
  {
   "cell_type": "code",
   "execution_count": 190,
   "metadata": {
    "scrolled": true
   },
   "outputs": [
    {
     "data": {
      "text/plain": [
       "0.46065693199088703"
      ]
     },
     "execution_count": 190,
     "metadata": {},
     "output_type": "execute_result"
    }
   ],
   "source": [
    "def test(self):\n",
    "    return gv.corr(self.fit_data['a09m220']['mpi'], self.fit_data['a09m220']['mk'])\n",
    "test(bootstrapper)"
   ]
  },
  {
   "cell_type": "code",
   "execution_count": 185,
   "metadata": {},
   "outputs": [
    {
     "name": "stdout",
     "output_type": "stream",
     "text": [
      "a09m220 1.1439(18) 1.1447(12)\n",
      "a09m310 1.1108(16) 1.11160(62)\n",
      "a09m350 1.0997(10) 1.09822(64)\n",
      "a09m400 1.08107(94) 1.08085(61)\n",
      "a12m130 1.1646(26) 1.1628(12)\n",
      "a12m220 1.1314(23) 1.13444(83)\n",
      "a12m220L 1.1279(29) 1.13362(82)\n",
      "a12m220S 1.1389(27) 1.13783(95)\n",
      "a12m310 1.1042(21) 1.10467(58)\n",
      "a12m350 1.0888(27) 1.09154(47)\n",
      "a12m400 1.0745(17) 1.07609(55)\n",
      "a15m135XL 1.1584(28) 1.1559(15)\n",
      "a15m220 1.1266(15) 1.12685(97)\n",
      "a15m310 1.1016(13) 1.10095(56)\n",
      "a15m350 1.08868(87) 1.08793(55)\n",
      "a15m400 1.07151(89) 1.07239(61)\n"
     ]
    }
   ],
   "source": [
    "def test(self):\n",
    "    for abbr in self.abbrs:\n",
    "        print abbr, self.fit_data[abbr]['FK/Fpi'], self.extrapolate_to_ensemble(abbr)\n",
    "\n",
    "test(bootstrapper)"
   ]
  },
  {
   "cell_type": "markdown",
   "metadata": {},
   "source": [
    "### Or make all fits"
   ]
  },
  {
   "cell_type": "code",
   "execution_count": 44,
   "metadata": {
    "collapsed": true
   },
   "outputs": [],
   "source": [
    "p_dict = {\n",
    "    'order' : {\n",
    "        'vol' : 5, # max 10\n",
    "        'exclude' : [],\n",
    "        'include_log2' : True\n",
    "    }, \n",
    "    'bs_N' : 1,  # if 0, use full list\n",
    "    'F2' : 'FKFpi', #'FKfpi', 'FpiFpi', 'FKFK'\n",
    "    'chained' : True,\n",
    "\n",
    "    'use_prior' : True,\n",
    "    'abbrs' : [u'a09m220', u'a09m310', u'a09m350', u'a09m400', u'a12m130',\n",
    "           u'a12m220',  u'a12m220S', u'a12m220L', u'a12m310', u'a12m350',\n",
    "           u'a12m400', u'a15m130', u'a15m135XL', u'a15m220', u'a15m310', u'a15m350', 'a15m400'],\n",
    "\n",
    "    'make_plots' : True,\n",
    "    'show_error_ellipses' : False,\n",
    "    'show_bs_histograms' : False,\n",
    "\n",
    "    'save_prior' : False,\n",
    "    'save_results' : True,\n",
    "}"
   ]
  },
  {
   "cell_type": "code",
   "execution_count": 45,
   "metadata": {
    "scrolled": false
   },
   "outputs": [
    {
     "name": "stdout",
     "output_type": "stream",
     "text": [
      "xpt nlo\n",
      "Making fits...\n",
      "100% complete Time (s):  0.463999986649\n",
      "Compiling results...\n"
     ]
    },
    {
     "name": "stderr",
     "output_type": "stream",
     "text": [
      "../fitter\\special_functions.py:10: RuntimeWarning: invalid value encountered in double_scalars\n",
      "  ysdev = np.abs(ss.kvp(n, gv.mean(g), 1)) * gv.sdev(g)\n"
     ]
    },
    {
     "name": "stdout",
     "output_type": "stream",
     "text": [
      "Done.\n",
      "Saving...\n",
      "Done.\n",
      "\n",
      "Total time (s):  11.7779998779 \n",
      "\n",
      "xpt nnlo\n",
      "Making fits...\n",
      "100% complete Time (s):  0.979000091553\n",
      "Compiling results...\n",
      "Done.\n",
      "Saving...\n",
      "Done.\n",
      "\n",
      "Total time (s):  12.881000042 \n",
      "\n",
      "xpt-taylor nlo\n",
      "Making fits...\n",
      "100% complete Time (s):  0.468999862671\n",
      "Compiling results...\n",
      "Done.\n",
      "Saving...\n",
      "Done.\n",
      "\n",
      "Total time (s):  8.63800001144 \n",
      "\n",
      "xpt-taylor nnlo\n",
      "Making fits...\n",
      "100% complete Time (s):  0.984000205994\n",
      "Compiling results...\n",
      "Done.\n",
      "Saving...\n",
      "Done.\n",
      "\n",
      "Total time (s):  9.89199995995 \n",
      "\n",
      "ma nlo\n",
      "Making fits...\n",
      "100% complete Time (s):  0.991000175476\n",
      "Compiling results...\n",
      "Done.\n",
      "Saving...\n",
      "Done.\n",
      "\n",
      "Total time (s):  54.1529998779 \n",
      "\n",
      "ma nnlo\n",
      "Making fits...\n",
      "100% complete Time (s):  2.49399995804\n",
      "Compiling results...\n",
      "Done.\n",
      "Saving...\n",
      "Done.\n",
      "\n",
      "Total time (s):  56.1860001087 \n",
      "\n",
      "ma-taylor nlo\n",
      "Making fits...\n",
      "100% complete Time (s):  1.11199998856\n",
      "Compiling results...\n",
      "Done.\n",
      "Saving...\n",
      "Done.\n",
      "\n",
      "Total time (s):  49.6940000057 \n",
      "\n",
      "ma-taylor nnlo\n",
      "Making fits...\n",
      "100% complete Time (s):  2.46700000763\n",
      "Compiling results...\n",
      "Done.\n",
      "Saving...\n",
      "Done.\n",
      "\n",
      "Total time (s):  53.6610000134 \n",
      "\n"
     ]
    }
   ],
   "source": [
    "for fit_type in ['xpt', 'xpt-taylor', 'ma', 'ma-taylor']:#, 'ma-old']:\n",
    "    for order_fit in ['nlo', 'nnlo']:#, 'nnnlo']:\n",
    "        \n",
    "        print fit_type, order_fit\n",
    "        \n",
    "        # Specify fit parameters\n",
    "        p_dict['order']['fit'] = order_fit\n",
    "        p_dict['fit_type'] = fit_type\n",
    "        \n",
    "        # Do fit\n",
    "        t0 = time.time()\n",
    "\n",
    "        # Load data\n",
    "        data_loader = dl.data_loader()\n",
    "        fit_data = data_loader.get_fit_data()\n",
    "\n",
    "        # Get prior\n",
    "        prior = None\n",
    "        if p_dict['use_prior']:\n",
    "            prior = data_loader.get_prior(p_dict['fit_type'])\n",
    "\n",
    "        # Make bootstrapper\n",
    "        bootstrapper = bs.bootstrapper(fit_data, prior=prior, order=p_dict['order'], F2=p_dict['F2'], chain_fits=p_dict['chained'],\n",
    "                                       fit_type=p_dict['fit_type'], bs_N=p_dict['bs_N'], abbrs=p_dict['abbrs'])\n",
    "\n",
    "        if p_dict['make_plots']:\n",
    "            data_loader.save_plots(\n",
    "                bootstrapper.make_plots(\n",
    "                    show_error_ellipses=p_dict['show_error_ellipses'], \n",
    "                    show_bootstrap_histograms=p_dict['show_bs_histograms']),\n",
    "                output_filename='fits/'+bootstrapper.fit_type+'_'+bootstrapper.order['fit']\n",
    "            )\n",
    "        else:\n",
    "            print bootstrapper\n",
    "\n",
    "        if p_dict['save_prior']:\n",
    "            print 'Saving prior...'\n",
    "            data_loader.save_prior(bootstrapper.create_prior_from_fit(), p_dict['fit_type'])\n",
    "\n",
    "        if p_dict['save_results']:\n",
    "            data_loader.save_fit_info(bootstrapper.get_fit_info())\n",
    "\n",
    "\n",
    "        t1 = time.time()\n",
    "        \n",
    "        #print test(bootstrapper)\n",
    "\n",
    "        print \"\\nTotal time (s): \", t1 - t0, \"\\n\""
   ]
  },
  {
   "cell_type": "code",
   "execution_count": 38,
   "metadata": {
    "collapsed": true
   },
   "outputs": [],
   "source": [
    "#bootstrapper.fits[0].show_plots(view='std')"
   ]
  },
  {
   "cell_type": "markdown",
   "metadata": {
    "collapsed": true
   },
   "source": [
    "### Compare with Andre"
   ]
  },
  {
   "cell_type": "code",
   "execution_count": 155,
   "metadata": {
    "collapsed": true
   },
   "outputs": [],
   "source": [
    "p_dict = {\n",
    "    'order' : {\n",
    "        'fit' : 'nnlo'\n",
    "    }, \n",
    "    'bs_N' : 1,  # if 0, use full list\n",
    "    'F2' : 'FKFpi', #'FKfpi', 'FpiFpi', 'FKFK'\n",
    "    'chained' : False,\n",
    "\n",
    "    'use_prior' : False,\n",
    "    'abbrs' : [u'a09m220', u'a09m310', u'a09m350', u'a09m400', u'a12m130',\n",
    "           u'a12m220',  u'a12m220S', u'a12m220L', u'a12m310', u'a12m350',\n",
    "           u'a12m400',  u'a15m135XL', u'a15m220', u'a15m310', u'a15m350', 'a15m400'],\n",
    "}"
   ]
  },
  {
   "cell_type": "code",
   "execution_count": 156,
   "metadata": {
    "scrolled": true
   },
   "outputs": [
    {
     "name": "stdout",
     "output_type": "stream",
     "text": [
      "Using default prior.\n",
      "Making fits...\n",
      "Done!\n",
      "100% complete Time (s):  0.96799993515\n",
      "Compiling results...\n",
      "\n",
      "Using default prior.\n",
      "Making fits...\n",
      "Done!\n",
      "100% complete Time (s):  0.999000072479\n",
      "Compiling results...\n",
      "\n",
      "Using default prior.\n",
      "Making fits...\n",
      "Done!\n",
      "100% complete Time (s):  0.982000112534\n",
      "Compiling results...\n",
      "\n",
      "Using default prior.\n",
      "Making fits...\n",
      "Done!\n",
      "100% complete Time (s):  1.09200000763\n",
      "Compiling results...\n",
      "\n",
      "Using default prior.\n",
      "Making fits...\n",
      "Done!\n",
      "100% complete Time (s):  1.05800008774\n",
      "Compiling results...\n",
      "\n",
      "Using default prior.\n",
      "Making fits...\n",
      "Done!\n",
      "100% complete Time (s):  1.10599994659\n",
      "Compiling results...\n",
      "\n",
      "Using default prior.\n",
      "Making fits...\n",
      "Done!\n",
      "100% complete Time (s):  0.983000040054\n",
      "Compiling results...\n",
      "\n",
      "Using default prior.\n",
      "Making fits...\n",
      "Done!\n",
      "100% complete Time (s):  0.925999879837\n",
      "Compiling results...\n",
      "\n",
      "Using default prior.\n",
      "Making fits...\n",
      "Done!\n",
      "100% complete Time (s):  1.49099993706\n",
      "Compiling results...\n",
      "\n",
      "Using default prior.\n",
      "Making fits...\n",
      "Done!\n",
      "100% complete Time (s):  2.75800013542\n",
      "Compiling results...\n",
      "\n",
      "Using default prior.\n",
      "Making fits...\n",
      "Done!\n",
      "100% complete Time (s):  1.51699995995\n",
      "Compiling results...\n",
      "\n",
      "Using default prior.\n",
      "Making fits...\n",
      "Done!\n",
      "100% complete Time (s):  3.07500004768\n",
      "Compiling results...\n",
      "\n",
      "Using default prior.\n",
      "Making fits...\n",
      "Done!\n",
      "100% complete Time (s):  1.54299998283\n",
      "Compiling results...\n",
      "\n",
      "Using default prior.\n",
      "Making fits...\n",
      "Done!\n",
      "100% complete Time (s):  3.35600018501\n",
      "Compiling results...\n",
      "\n",
      "Using default prior.\n",
      "Making fits...\n",
      "Done!\n",
      "100% complete Time (s):  1.40999984741\n",
      "Compiling results...\n",
      "\n",
      "Using default prior.\n",
      "Making fits...\n",
      "Done!\n",
      "100% complete Time (s):  2.81399989128\n",
      "Compiling results...\n",
      "\n",
      "Using default prior.\n",
      "Making fits...\n",
      "Done!\n",
      "100% complete Time (s):  0.963000059128\n",
      "Compiling results...\n",
      "\n",
      "Using default prior.\n",
      "Making fits...\n",
      "Done!\n",
      "100% complete Time (s):  1.12399983406\n",
      "Compiling results...\n",
      "\n",
      "Using default prior.\n",
      "Making fits...\n",
      "Done!\n",
      "100% complete Time (s):  0.84900021553\n",
      "Compiling results...\n",
      "\n",
      "Using default prior.\n",
      "Making fits...\n",
      "Done!\n",
      "100% complete Time (s):  1.07699990273\n",
      "Compiling results...\n",
      "\n",
      "Using default prior.\n",
      "Making fits...\n",
      "Done!\n",
      "100% complete Time (s):  0.927999973297\n",
      "Compiling results...\n",
      "\n",
      "Using default prior.\n",
      "Making fits...\n",
      "Done!\n",
      "100% complete Time (s):  0.982000112534\n",
      "Compiling results...\n",
      "\n",
      "Using default prior.\n",
      "Making fits...\n",
      "Done!\n",
      "100% complete Time (s):  0.946000099182\n",
      "Compiling results...\n",
      "\n",
      "Using default prior.\n",
      "Making fits...\n",
      "Done!\n",
      "100% complete Time (s):  0.929999828339\n",
      "Compiling results...\n",
      "\n",
      "Using default prior.\n",
      "Making fits...\n",
      "Done!\n",
      "100% complete Time (s):  1.03699994087\n",
      "Compiling results...\n",
      "\n",
      "Using default prior.\n",
      "Making fits...\n",
      "Done!\n",
      "100% complete Time (s):  1.92599987984\n",
      "Compiling results...\n",
      "\n",
      "Using default prior.\n",
      "Making fits...\n",
      "Done!\n",
      "100% complete Time (s):  0.967000007629\n",
      "Compiling results...\n",
      "\n",
      "Using default prior.\n",
      "Making fits...\n",
      "Done!\n",
      "100% complete Time (s):  2.00500011444\n",
      "Compiling results...\n",
      "\n",
      "Using default prior.\n",
      "Making fits...\n",
      "Done!\n",
      "100% complete Time (s):  1.07899999619\n",
      "Compiling results...\n",
      "\n",
      "Using default prior.\n",
      "Making fits...\n",
      "Done!\n",
      "100% complete Time (s):  2.06399989128\n",
      "Compiling results...\n",
      "\n",
      "Using default prior.\n",
      "Making fits...\n",
      "Done!\n",
      "100% complete Time (s):  1.01799988747\n",
      "Compiling results...\n",
      "\n",
      "Using default prior.\n",
      "Making fits...\n",
      "Done!\n",
      "100% complete Time (s):  2.05900001526\n",
      "Compiling results...\n",
      "\n"
     ]
    }
   ],
   "source": [
    "results_dict = {}\n",
    "\n",
    "for fit_type in ['xpt', 'ma', 'xpt-taylor', 'ma-taylor']:#, 'ma-old']:\n",
    "    results_dict[fit_type] = {}\n",
    "    for include_log2 in [True, False]:\n",
    "        results_dict[fit_type][include_log2] = {}\n",
    "        for include_log in [True, False]:\n",
    "            results_dict[fit_type][include_log2][include_log] = {}\n",
    "            for vol in [0, 10]:\n",
    "                results_dict[fit_type][include_log2][include_log][vol] = {}\n",
    "                #print fit_type, order_fit\n",
    "\n",
    "                # Specify fit parameters\n",
    "                p_dict['order']['include_log'] = include_log\n",
    "                p_dict['order']['include_log2'] = include_log2\n",
    "                p_dict['order']['vol'] = vol\n",
    "\n",
    "                p_dict['fit_type'] = fit_type\n",
    "\n",
    "                # Do fit\n",
    "\n",
    "                # Load data\n",
    "                data_loader = dl.data_loader()\n",
    "                fit_data = data_loader.get_fit_data()\n",
    "\n",
    "                # Get prior\n",
    "                prior = None\n",
    "\n",
    "                # Make bootstrapper\n",
    "                bootstrapper = bs.bootstrapper(fit_data, prior=prior, order=p_dict['order'], F2=p_dict['F2'], chain_fits=p_dict['chained'],\n",
    "                                               fit_type=p_dict['fit_type'], bs_N=p_dict['bs_N'], abbrs=p_dict['abbrs'])\n",
    "\n",
    "\n",
    "                results_dict[fit_type][include_log2][include_log][vol]['fit'] = bootstrapper.extrapolate_to_phys_point(include_su2_isospin_corrrection=False)\n",
    "                #results_dict[fit_type][include_log2][include_log][vol]['L5'] = bootstrapper.get_fit_parameters('L_5')\n",
    "                results_dict[fit_type][include_log2][include_log][vol]['info'] = bootstrapper.get_fit_info()\n",
    "                #results_dict[fit_type][include_log2][include_log][vol]['fit'] = \n",
    "                print "
   ]
  },
  {
   "cell_type": "code",
   "execution_count": 171,
   "metadata": {},
   "outputs": [],
   "source": [
    "translator_dict = {\n",
    "    'xpt' : 'xpt-ratio', \n",
    "    'xpt-taylor' : 'xpt',\n",
    "    'ma' : 'ma-ratio', \n",
    "    'ma-taylor' : 'ma',\n",
    "}"
   ]
  },
  {
   "cell_type": "code",
   "execution_count": 173,
   "metadata": {},
   "outputs": [
    {
     "name": "stdout",
     "output_type": "stream",
     "text": [
      "name                                  FK/Fpi            L5             k             p             s\n",
      "---\n",
      "xpt                               1.1809(52)  -0.00035(49)      2.3(2.1)      1.59(39)     -3.32(36)\n",
      "ma                                1.1811(31)   0.00041(57)     -0.8(2.4)      1.18(44)      1.17(40)\n",
      "xpt_FV                            1.1818(61)  -0.00059(49)      3.3(2.1)      1.36(39)     -3.85(36)\n",
      "ma_FV                             1.1810(33)   0.00034(57)     -0.5(2.4)      1.11(44)      0.96(40)\n",
      "xpt_FV_alphaS                     1.1811(67)  -0.00061(50)      3.4(2.1)      1.35(39)     -3.2(2.8)\n",
      "ma_FV_alphaS                      1.1816(43)   0.00036(58)     -0.6(2.4)      1.12(44)      0.3(2.8)\n",
      "xpt_FV_alphaS_logSq               1.1840(62)  -0.00071(50)      1.8(2.1)      1.90(39)     -3.2(2.8)\n",
      "ma_FV_alphaS_logSq                1.1852(47)  -0.00005(58)     -0.8(2.4)      1.43(44)      0.2(2.8)\n"
     ]
    }
   ],
   "source": [
    "#print \"name   FK/Fpi   L5   k   p   s\"\n",
    "\n",
    "k = 30 - len(\"name\")\n",
    "output = \"name\" +k*' '\n",
    "\n",
    "for param in ['FK/Fpi', 'L5', 'k', 'p', 's']:\n",
    "    k = 14 - len(param)\n",
    "    output += k*\" \" + str(param)\n",
    "\n",
    "print output\n",
    "                        \n",
    "                        \n",
    "print \"---\"\n",
    "\n",
    "#for fit_type in results_dict.keys():\n",
    "    #for include_log2 in results_dict[fit_type].keys():\n",
    "for include_log2 in results_dict['ma'].keys():\n",
    "    for include_log in results_dict[fit_type][include_log2].keys():\n",
    "        for vol in results_dict[fit_type][include_log2][include_log].keys():\n",
    "            for fit_type in ['xpt-taylor', 'ma-taylor']:\n",
    "                \n",
    "                name = translator_dict[fit_type]\n",
    "                if vol > 0:\n",
    "                    name = name + '_FV'\n",
    "                    \n",
    "                if include_log:\n",
    "                    name = name + '_alphaS'\n",
    "                \n",
    "                if include_log2:\n",
    "                    name = name + '_logSq'\n",
    "                    \n",
    "                    \n",
    "                fit = results_dict[fit_type][include_log2][include_log][vol]['fit']\n",
    "                L5 = results_dict[fit_type][include_log2][include_log][vol]['info']['L_5']\n",
    "                Ak = results_dict[fit_type][include_log2][include_log][vol]['info']['A_k']\n",
    "                Ap = results_dict[fit_type][include_log2][include_log][vol]['info']['A_p']\n",
    "                Aa = results_dict[fit_type][include_log2][include_log][vol]['info']['A_a']\n",
    "                \n",
    "                if ((vol>0), include_log, include_log2) in [(1, 1, 1), (1, 1, 0), (1, 0, 0), (0, 0, 0)]:\n",
    "                    if len(name) > 0:\n",
    "                        k = 30 - len(name)\n",
    "                        output = name +k*' '\n",
    "                        \n",
    "                        for param in [fit, L5, Ak, Ap, Aa]:\n",
    "                            k = 14 - len(str(param))\n",
    "                            output += k*\" \" + str(param)\n",
    "                            \n",
    "                        print output\n",
    "                \n",
    "                    \n"
   ]
  },
  {
   "cell_type": "code",
   "execution_count": 161,
   "metadata": {},
   "outputs": [
    {
     "data": {
      "text/plain": [
       "{'A_a': 0.96(40),\n",
       " 'A_k': -0.5(2.4),\n",
       " 'A_p': 1.11(44),\n",
       " 'L_5': 0.00034(57),\n",
       " 'Q': 0.045320451356663731,\n",
       " 'chi2/df': 1.6667686195604041,\n",
       " 'delta_su2': -0.00194(21),\n",
       " 'fit': 1.1798(33),\n",
       " 'logGBF': 57.919990652456242,\n",
       " 'name': 'ma-taylor_nnlo',\n",
       " 'vol corr': 10}"
      ]
     },
     "execution_count": 161,
     "metadata": {},
     "output_type": "execute_result"
    }
   ],
   "source": [
    "bootstrapper.get_fit_info()"
   ]
  },
  {
   "cell_type": "code",
   "execution_count": 137,
   "metadata": {},
   "outputs": [
    {
     "data": {
      "text/plain": [
       "True"
      ]
     },
     "execution_count": 137,
     "metadata": {},
     "output_type": "execute_result"
    }
   ],
   "source": [
    "(True, True, True) in [(1, 1, 1), (1, 1, 0), (1, 0, 0), (0, 0, 0)]"
   ]
  },
  {
   "cell_type": "code",
   "execution_count": 128,
   "metadata": {},
   "outputs": [
    {
     "data": {
      "text/plain": [
       "False"
      ]
     },
     "execution_count": 128,
     "metadata": {},
     "output_type": "execute_result"
    }
   ],
   "source": [
    "(True, True) == (True, False)"
   ]
  },
  {
   "cell_type": "code",
   "execution_count": 75,
   "metadata": {},
   "outputs": [
    {
     "data": {
      "text/plain": [
       "26"
      ]
     },
     "execution_count": 75,
     "metadata": {},
     "output_type": "execute_result"
    }
   ],
   "source": [
    "len('xpt-taylor_FV_alphaS_logSq')"
   ]
  },
  {
   "cell_type": "code",
   "execution_count": 47,
   "metadata": {},
   "outputs": [
    {
     "data": {
      "text/plain": [
       "20"
      ]
     },
     "execution_count": 47,
     "metadata": {},
     "output_type": "execute_result"
    }
   ],
   "source": [
    "len('xpt-taylor_FV_alphaS')"
   ]
  },
  {
   "cell_type": "code",
   "execution_count": null,
   "metadata": {
    "collapsed": true
   },
   "outputs": [],
   "source": []
  }
 ],
 "metadata": {
  "kernelspec": {
   "display_name": "Python 2",
   "language": "python",
   "name": "python2"
  },
  "language_info": {
   "codemirror_mode": {
    "name": "ipython",
    "version": 2
   },
   "file_extension": ".py",
   "mimetype": "text/x-python",
   "name": "python",
   "nbconvert_exporter": "python",
   "pygments_lexer": "ipython2",
   "version": "2.7.14"
  }
 },
 "nbformat": 4,
 "nbformat_minor": 2
}
