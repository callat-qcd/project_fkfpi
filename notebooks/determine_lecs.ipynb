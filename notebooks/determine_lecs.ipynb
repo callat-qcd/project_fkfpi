{
 "cells": [
  {
   "cell_type": "markdown",
   "metadata": {},
   "source": [
    "### Import Modules"
   ]
  },
  {
   "cell_type": "code",
   "execution_count": 121,
   "metadata": {
    "collapsed": true
   },
   "outputs": [],
   "source": [
    "import numpy as np\n",
    "import gvar as gv\n",
    "import lsqfit\n",
    "import sys\n",
    "import os\n",
    "import matplotlib\n",
    "import matplotlib.pyplot as plt\n",
    "import pandas as pd\n",
    "import h5py\n",
    "import time\n",
    "\n",
    "sys.path.append(\"../\")\n",
    "from fitter import data_loader as dl\n",
    "from fitter import bootstrapper as bs\n",
    "from fitter import fitter as fit\n",
    "from fitter import special_functions as sf\n",
    "\n",
    "for j in range(10): # Sometimes this needs to be loaded twice...\n",
    "    matplotlib.rcParams['figure.figsize'] = [10, 10]"
   ]
  },
  {
   "cell_type": "code",
   "execution_count": 123,
   "metadata": {},
   "outputs": [
    {
     "data": {
      "text/plain": [
       "<module 'fitter.special_functions' from '../fitter\\special_functions.pyc'>"
      ]
     },
     "execution_count": 123,
     "metadata": {},
     "output_type": "execute_result"
    }
   ],
   "source": [
    "reload(bs)\n",
    "reload(dl)\n",
    "reload(fit)\n",
    "reload(sf)"
   ]
  },
  {
   "cell_type": "markdown",
   "metadata": {},
   "source": [
    "### Specify fit parameters"
   ]
  },
  {
   "cell_type": "code",
   "execution_count": null,
   "metadata": {
    "collapsed": true
   },
   "outputs": [],
   "source": [
    "p_dict = {\n",
    "    'order' : {\n",
    "        'fit' : 'nnlo', # 'nlo', 'nnlo', or 'nnnlo'\n",
    "        'vol' : 0, # max 10\n",
    "        'exclude' : [], # put LECs here\n",
    "        'include_log' : True,\n",
    "        'include_log2' : True\n",
    "    }, \n",
    "    'bs_N' : 1,  # if 0, use full list\n",
    "    'fit_type' : 'ma', #'ma', 'ma-taylor, 'xpt', or 'xpt-taylor'; also 'simultaneous', 'ma-old'\n",
    "    'F2' : 'FKFpi', #'FKfpi', 'FpiFpi', 'FKFK'\n",
    "    'chained' : True,\n",
    "    'use_boot0' : False,\n",
    "    \n",
    "    'use_prior' : True,\n",
    "    'abbrs' : [u'a09m220', u'a09m310', u'a09m350', u'a09m400', u'a12m130',\n",
    "           u'a12m220',  u'a12m220S', u'a12m220L', u'a12m310', u'a12m350',\n",
    "           u'a12m400', u'a15m130', u'a15m135XL', u'a15m220', u'a15m310', u'a15m350', 'a15m400'],\n",
    "    \n",
    "    'make_plots' : True,\n",
    "    'show_error_ellipses' : False,\n",
    "    'show_bs_histograms' : False,\n",
    "    \n",
    "    'save_prior' : False,\n",
    "    'save_results' : False,\n",
    "}"
   ]
  },
  {
   "cell_type": "markdown",
   "metadata": {},
   "source": [
    "### Do fit"
   ]
  },
  {
   "cell_type": "code",
   "execution_count": null,
   "metadata": {
    "scrolled": false
   },
   "outputs": [
    {
     "name": "stdout",
     "output_type": "stream",
     "text": [
      "Making fits...\n",
      "100% complete Time (s):  2.10300016403\n",
      "Compiling results...\n"
     ]
    }
   ],
   "source": [
    "t0 = time.time()\n",
    "\n",
    "# Load data\n",
    "data_loader = dl.data_loader()\n",
    "fit_data = data_loader.get_fit_data()\n",
    "\n",
    "# Get prior\n",
    "prior = None\n",
    "if p_dict['use_prior']:\n",
    "    prior = data_loader.get_prior(p_dict['fit_type'])\n",
    "\n",
    "# Make bootstrapper\n",
    "bootstrapper = bs.bootstrapper(fit_data, prior=prior, order=p_dict['order'], F2=p_dict['F2'], chain_fits=p_dict['chained'],\n",
    "                               fit_type=p_dict['fit_type'], bs_N=p_dict['bs_N'], abbrs=p_dict['abbrs'], use_boot0=p_dict['use_boot0'])\n",
    "\n",
    "if p_dict['make_plots']:\n",
    "    data_loader.save_plots(\n",
    "        bootstrapper.make_plots(\n",
    "            show_error_ellipses=p_dict['show_error_ellipses'], \n",
    "            show_bootstrap_histograms=p_dict['show_bs_histograms']),\n",
    "        output_filename='fits/'+bootstrapper.fit_type+'_'+bootstrapper.order['fit']\n",
    "    )\n",
    "else:\n",
    "    print bootstrapper\n",
    "    \n",
    "if p_dict['save_prior']:\n",
    "    print 'Saving prior...'\n",
    "    data_loader.save_prior(bootstrapper.create_prior_from_fit(), p_dict['fit_type'])\n",
    "    \n",
    "if p_dict['save_results']:\n",
    "    data_loader.save_fit_info(bootstrapper.get_fit_info())\n",
    "    \n",
    "    \n",
    "t1 = time.time()\n",
    "\n",
    "print \"\\nTotal time (s): \", t1 - t0, \"\\n\""
   ]
  },
  {
   "cell_type": "code",
   "execution_count": null,
   "metadata": {
    "collapsed": true
   },
   "outputs": [],
   "source": []
  },
  {
   "cell_type": "markdown",
   "metadata": {},
   "source": [
    "### Or make all fits"
   ]
  },
  {
   "cell_type": "code",
   "execution_count": 44,
   "metadata": {
    "collapsed": true
   },
   "outputs": [],
   "source": [
    "p_dict = {\n",
    "    'order' : {\n",
    "        'vol' : 5, # max 10\n",
    "        'exclude' : [],\n",
    "        'include_log2' : True\n",
    "    }, \n",
    "    'bs_N' : 1,  # if 0, use full list\n",
    "    'F2' : 'FKFpi', #'FKfpi', 'FpiFpi', 'FKFK'\n",
    "    'chained' : True,\n",
    "\n",
    "    'use_prior' : True,\n",
    "    'abbrs' : [u'a09m220', u'a09m310', u'a09m350', u'a09m400', u'a12m130',\n",
    "           u'a12m220',  u'a12m220S', u'a12m220L', u'a12m310', u'a12m350',\n",
    "           u'a12m400', u'a15m130', u'a15m135XL', u'a15m220', u'a15m310', u'a15m350', 'a15m400'],\n",
    "\n",
    "    'make_plots' : True,\n",
    "    'show_error_ellipses' : False,\n",
    "    'show_bs_histograms' : False,\n",
    "\n",
    "    'save_prior' : False,\n",
    "    'save_results' : True,\n",
    "}"
   ]
  },
  {
   "cell_type": "code",
   "execution_count": 45,
   "metadata": {
    "scrolled": true
   },
   "outputs": [
    {
     "name": "stdout",
     "output_type": "stream",
     "text": [
      "xpt nlo\n",
      "Making fits...\n",
      "100% complete Time (s):  0.463999986649\n",
      "Compiling results...\n"
     ]
    },
    {
     "name": "stderr",
     "output_type": "stream",
     "text": [
      "../fitter\\special_functions.py:10: RuntimeWarning: invalid value encountered in double_scalars\n",
      "  ysdev = np.abs(ss.kvp(n, gv.mean(g), 1)) * gv.sdev(g)\n"
     ]
    },
    {
     "name": "stdout",
     "output_type": "stream",
     "text": [
      "Done.\n",
      "Saving...\n",
      "Done.\n",
      "\n",
      "Total time (s):  11.7779998779 \n",
      "\n",
      "xpt nnlo\n",
      "Making fits...\n",
      "100% complete Time (s):  0.979000091553\n",
      "Compiling results...\n",
      "Done.\n",
      "Saving...\n",
      "Done.\n",
      "\n",
      "Total time (s):  12.881000042 \n",
      "\n",
      "xpt-taylor nlo\n",
      "Making fits...\n",
      "100% complete Time (s):  0.468999862671\n",
      "Compiling results...\n",
      "Done.\n",
      "Saving...\n",
      "Done.\n",
      "\n",
      "Total time (s):  8.63800001144 \n",
      "\n",
      "xpt-taylor nnlo\n",
      "Making fits...\n",
      "100% complete Time (s):  0.984000205994\n",
      "Compiling results...\n",
      "Done.\n",
      "Saving...\n",
      "Done.\n",
      "\n",
      "Total time (s):  9.89199995995 \n",
      "\n",
      "ma nlo\n",
      "Making fits...\n",
      "100% complete Time (s):  0.991000175476\n",
      "Compiling results...\n",
      "Done.\n",
      "Saving...\n",
      "Done.\n",
      "\n",
      "Total time (s):  54.1529998779 \n",
      "\n",
      "ma nnlo\n",
      "Making fits...\n",
      "100% complete Time (s):  2.49399995804\n",
      "Compiling results...\n",
      "Done.\n",
      "Saving...\n",
      "Done.\n",
      "\n",
      "Total time (s):  56.1860001087 \n",
      "\n",
      "ma-taylor nlo\n",
      "Making fits...\n",
      "100% complete Time (s):  1.11199998856\n",
      "Compiling results...\n",
      "Done.\n",
      "Saving...\n",
      "Done.\n",
      "\n",
      "Total time (s):  49.6940000057 \n",
      "\n",
      "ma-taylor nnlo\n",
      "Making fits...\n",
      "100% complete Time (s):  2.46700000763\n",
      "Compiling results...\n",
      "Done.\n",
      "Saving...\n",
      "Done.\n",
      "\n",
      "Total time (s):  53.6610000134 \n",
      "\n"
     ]
    }
   ],
   "source": [
    "for fit_type in ['xpt', 'xpt-taylor', 'ma', 'ma-taylor']:#, 'ma-old']:\n",
    "    for order_fit in ['nlo', 'nnlo']:#, 'nnnlo']:\n",
    "        \n",
    "        print fit_type, order_fit\n",
    "        \n",
    "        # Specify fit parameters\n",
    "        p_dict['order']['fit'] = order_fit\n",
    "        p_dict['fit_type'] = fit_type\n",
    "        \n",
    "        # Do fit\n",
    "        t0 = time.time()\n",
    "\n",
    "        # Load data\n",
    "        data_loader = dl.data_loader()\n",
    "        fit_data = data_loader.get_fit_data()\n",
    "\n",
    "        # Get prior\n",
    "        prior = None\n",
    "        if p_dict['use_prior']:\n",
    "            prior = data_loader.get_prior(p_dict['fit_type'])\n",
    "\n",
    "        # Make bootstrapper\n",
    "        bootstrapper = bs.bootstrapper(fit_data, prior=prior, order=p_dict['order'], F2=p_dict['F2'], chain_fits=p_dict['chained'],\n",
    "                                       fit_type=p_dict['fit_type'], bs_N=p_dict['bs_N'], abbrs=p_dict['abbrs'])\n",
    "\n",
    "        if p_dict['make_plots']:\n",
    "            data_loader.save_plots(\n",
    "                bootstrapper.make_plots(\n",
    "                    show_error_ellipses=p_dict['show_error_ellipses'], \n",
    "                    show_bootstrap_histograms=p_dict['show_bs_histograms']),\n",
    "                output_filename='fits/'+bootstrapper.fit_type+'_'+bootstrapper.order['fit']\n",
    "            )\n",
    "        else:\n",
    "            print bootstrapper\n",
    "\n",
    "        if p_dict['save_prior']:\n",
    "            print 'Saving prior...'\n",
    "            data_loader.save_prior(bootstrapper.create_prior_from_fit(), p_dict['fit_type'])\n",
    "\n",
    "        if p_dict['save_results']:\n",
    "            data_loader.save_fit_info(bootstrapper.get_fit_info())\n",
    "\n",
    "\n",
    "        t1 = time.time()\n",
    "        \n",
    "        #print test(bootstrapper)\n",
    "\n",
    "        print \"\\nTotal time (s): \", t1 - t0, \"\\n\""
   ]
  },
  {
   "cell_type": "code",
   "execution_count": 38,
   "metadata": {
    "collapsed": true
   },
   "outputs": [],
   "source": [
    "#bootstrapper.fits[0].show_plots(view='std')"
   ]
  },
  {
   "cell_type": "code",
   "execution_count": null,
   "metadata": {
    "collapsed": true
   },
   "outputs": [],
   "source": []
  },
  {
   "cell_type": "code",
   "execution_count": null,
   "metadata": {
    "collapsed": true
   },
   "outputs": [],
   "source": []
  },
  {
   "cell_type": "code",
   "execution_count": null,
   "metadata": {
    "collapsed": true
   },
   "outputs": [],
   "source": []
  },
  {
   "cell_type": "code",
   "execution_count": null,
   "metadata": {
    "collapsed": true
   },
   "outputs": [],
   "source": []
  }
 ],
 "metadata": {
  "kernelspec": {
   "display_name": "Python 2",
   "language": "python",
   "name": "python2"
  },
  "language_info": {
   "codemirror_mode": {
    "name": "ipython",
    "version": 2
   },
   "file_extension": ".py",
   "mimetype": "text/x-python",
   "name": "python",
   "nbconvert_exporter": "python",
   "pygments_lexer": "ipython2",
   "version": "2.7.14"
  }
 },
 "nbformat": 4,
 "nbformat_minor": 2
}
