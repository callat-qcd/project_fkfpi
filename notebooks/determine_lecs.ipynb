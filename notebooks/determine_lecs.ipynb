{
 "cells": [
  {
   "cell_type": "markdown",
   "metadata": {},
   "source": [
    "### Import Modules"
   ]
  },
  {
   "cell_type": "code",
   "execution_count": 45,
   "metadata": {},
   "outputs": [],
   "source": [
    "import numpy as np\n",
    "import gvar as gv\n",
    "import lsqfit\n",
    "import sys\n",
    "import os\n",
    "import matplotlib\n",
    "import matplotlib.pyplot as plt\n",
    "import pandas as pd\n",
    "import h5py\n",
    "\n",
    "sys.path.append(\"../\")\n",
    "from fitter import data_loader as dl\n",
    "#from lec_fitter import bootstrapper as bs\n",
    "#from lec_fitter import fitter as fit\n",
    "\n",
    "matplotlib.rcParams['figure.figsize'] = [10, 10]"
   ]
  },
  {
   "cell_type": "code",
   "execution_count": 46,
   "metadata": {},
   "outputs": [
    {
     "data": {
      "text/plain": [
       "<module 'fitter.data_loader' from '../fitter\\data_loader.py'>"
      ]
     },
     "execution_count": 46,
     "metadata": {},
     "output_type": "execute_result"
    }
   ],
   "source": [
    "#reload(bs)\n",
    "reload(dl)\n",
    "#reload(fit)"
   ]
  },
  {
   "cell_type": "markdown",
   "metadata": {},
   "source": [
    "### Load data"
   ]
  },
  {
   "cell_type": "code",
   "execution_count": 47,
   "metadata": {
    "collapsed": true
   },
   "outputs": [],
   "source": [
    "data_loader = dl.data_loader()"
   ]
  },
  {
   "cell_type": "code",
   "execution_count": 50,
   "metadata": {},
   "outputs": [],
   "source": [
    "fit_data = data_loader.get_fit_data()"
   ]
  },
  {
   "cell_type": "code",
   "execution_count": 52,
   "metadata": {},
   "outputs": [
    {
     "data": {
      "text/plain": [
       "array([ 1.14343568,  1.1471648 ,  1.14522   , ...,  1.14810204,\n",
       "        1.14565144,  1.14475416])"
      ]
     },
     "execution_count": 52,
     "metadata": {},
     "output_type": "execute_result"
    }
   ],
   "source": [
    "fit_data['a09m220']['FK'] / fit_data['a09m220']['Fpi']"
   ]
  },
  {
   "cell_type": "code",
   "execution_count": null,
   "metadata": {
    "collapsed": true
   },
   "outputs": [],
   "source": []
  },
  {
   "cell_type": "code",
   "execution_count": null,
   "metadata": {
    "collapsed": true
   },
   "outputs": [],
   "source": []
  },
  {
   "cell_type": "markdown",
   "metadata": {},
   "source": [
    "### Bootstrap"
   ]
  },
  {
   "cell_type": "code",
   "execution_count": 52,
   "metadata": {
    "collapsed": true
   },
   "outputs": [],
   "source": [
    "bootstrapper = bs.bootstrapper(hyperon_data, strangeness=3, prior=prior, order=4, bs_N=500)\n",
    "#bootstrapper.plot_parameters(xy_parameters=['a', 'm_pion'], color_parameter='V')\n",
    "#data_loader.save_plots(bootstrapper)\n",
    "#bootstrapper.plot_fit()"
   ]
  },
  {
   "cell_type": "code",
   "execution_count": 54,
   "metadata": {},
   "outputs": [
    {
     "name": "stdout",
     "output_type": "stream",
     "text": [
      "Fitting to $O(\\epsilon^4)$\n",
      "Fitted/[Experimental] values at physical point:\n",
      "$m_\\Omega$ (MeV)$=$1640(10) [1672.45(29)]\n",
      "\n",
      "          Parameter    Result[0] / Prior[1]            Parameter    Result[0] / Prior[1]\n",
      "-------------------------------------------  -------------------------------------------\n",
      "        t_A_omega 0             -39.9 (9.2)          m_omega_0 0               1595 (20)\n",
      "                  1                -25 (50)                    1              1630 (300)\n",
      "            c_2_a 0             -2852 (327)       beta_4_omega 0                140 (31)\n",
      "                  1            -3300 (1000)                    1               200 (500)\n",
      "  sigma_bar_omega 0               5.8 (1.4)           c_volume 0               387 (361)\n",
      "                  1                  5 (10)                    1            -1000 (2000)\n",
      "Total time (s):  0.0106558799744\n"
     ]
    }
   ],
   "source": [
    "import time\n",
    "t0 = time.time()\n",
    "print bootstrapper\n",
    "t1 = time.time()\n",
    "print \"Total time (s): \", t1 - t0\n",
    "\n",
    "#squared = lambda x : x**2\n",
    "#bootstrapper.plot_fit(xfcn=squared, xlabel='$m_{\\pi}^2$ (MeV)$^2$')\n",
    "#bootstrapper.plot_fit()\n",
    "\n",
    "#print bootstrapper.fits[1]"
   ]
  },
  {
   "cell_type": "code",
   "execution_count": null,
   "metadata": {
    "collapsed": true
   },
   "outputs": [],
   "source": []
  }
 ],
 "metadata": {
  "kernelspec": {
   "display_name": "Python 2",
   "language": "python",
   "name": "python2"
  },
  "language_info": {
   "codemirror_mode": {
    "name": "ipython",
    "version": 2
   },
   "file_extension": ".py",
   "mimetype": "text/x-python",
   "name": "python",
   "nbconvert_exporter": "python",
   "pygments_lexer": "ipython2",
   "version": "2.7.14"
  }
 },
 "nbformat": 4,
 "nbformat_minor": 2
}
