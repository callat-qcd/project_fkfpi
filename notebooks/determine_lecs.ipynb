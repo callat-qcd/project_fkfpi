{
 "cells": [
  {
   "cell_type": "markdown",
   "metadata": {},
   "source": [
    "### Import Modules"
   ]
  },
  {
   "cell_type": "code",
   "execution_count": 335,
   "metadata": {
    "collapsed": true
   },
   "outputs": [],
   "source": [
    "import numpy as np\n",
    "import gvar as gv\n",
    "import lsqfit\n",
    "import sys\n",
    "import os\n",
    "import matplotlib\n",
    "import matplotlib.pyplot as plt\n",
    "import pandas as pd\n",
    "import h5py\n",
    "import time\n",
    "\n",
    "sys.path.append(\"../\")\n",
    "from fitter import data_loader as dl\n",
    "from fitter import bootstrapper as bs\n",
    "from fitter import fitter as fit\n",
    "\n",
    "matplotlib.rcParams['figure.figsize'] = [10, 10]"
   ]
  },
  {
   "cell_type": "code",
   "execution_count": 374,
   "metadata": {},
   "outputs": [
    {
     "data": {
      "text/plain": [
       "<module 'fitter.fitter' from '../fitter\\fitter.pyc'>"
      ]
     },
     "execution_count": 374,
     "metadata": {},
     "output_type": "execute_result"
    }
   ],
   "source": [
    "reload(bs)\n",
    "reload(dl)\n",
    "reload(fit)"
   ]
  },
  {
   "cell_type": "markdown",
   "metadata": {},
   "source": [
    "### Specify fit parameters"
   ]
  },
  {
   "cell_type": "code",
   "execution_count": 375,
   "metadata": {},
   "outputs": [],
   "source": [
    "p_dict = {\n",
    "    'order' : 1,\n",
    "    'bs_N' : 20,  # if 0, use full list\n",
    "    \n",
    "    'use_prior' : True,\n",
    "    'save_prior' : False,\n",
    "    'abbrs' : ['a09m400', 'a12m130', 'a12m220', 'a12m220L', \n",
    "               'a12m220S', 'a12m310', 'a12m350', 'a12m400', \n",
    "               'a15m220', 'a15m310'],\n",
    "    \n",
    "    'make_plots' : True,\n",
    "    'show_error_ellipses' : False,\n",
    "    'show_bs_histograms' : False\n",
    "}"
   ]
  },
  {
   "cell_type": "markdown",
   "metadata": {},
   "source": [
    "### Do fit"
   ]
  },
  {
   "cell_type": "code",
   "execution_count": 376,
   "metadata": {},
   "outputs": [],
   "source": [
    "t0 = time.time()\n",
    "\n",
    "# Load data\n",
    "data_loader = dl.data_loader()\n",
    "fit_data = data_loader.get_fit_data()\n",
    "\n",
    "# Get prior\n",
    "prior = None\n",
    "if p_dict['use_prior']:\n",
    "    prior = data_loader.get_prior()\n",
    "\n",
    "# Make bootstrapper\n",
    "bootstrapper = bs.bootstrapper(fit_data, prior=prior, order=p_dict['order'], bs_N=p_dict['bs_N'], abbrs=p_dict['abbrs'])\n"
   ]
  },
  {
   "cell_type": "code",
   "execution_count": 390,
   "metadata": {},
   "outputs": [],
   "source": [
    "#bootstrapper.plot_fit_bar_graph()"
   ]
  },
  {
   "cell_type": "code",
   "execution_count": 385,
   "metadata": {},
   "outputs": [
    {
     "ename": "TypeError",
     "evalue": "float() argument must be a string or a number",
     "output_type": "error",
     "traceback": [
      "\u001b[1;31m---------------------------------------------------------------------------\u001b[0m",
      "\u001b[1;31mTypeError\u001b[0m                                 Traceback (most recent call last)",
      "\u001b[1;32m<ipython-input-385-41fed067c776>\u001b[0m in \u001b[0;36m<module>\u001b[1;34m()\u001b[0m\n\u001b[0;32m      1\u001b[0m bootstrapper.plot_parameters(xy_parameters=['Fpi', 'FK/Fpi'],\n\u001b[1;32m----> 2\u001b[1;33m                     xlabel='$F_\\pi$ (MeV)', color_parameter='a')\n\u001b[0m",
      "\u001b[1;32mD:\\Documents\\School Work\\Research\\fk-fpi\\fitter\\bootstrapper.pyc\u001b[0m in \u001b[0;36mplot_parameters\u001b[1;34m(self, xy_parameters, color_parameter, xfcn, xlabel, yfcn, ylabel, show_fit)\u001b[0m\n\u001b[0;32m    511\u001b[0m             \u001b[0my\u001b[0m\u001b[1;33m[\u001b[0m\u001b[0mj\u001b[0m\u001b[1;33m*\u001b[0m\u001b[0mself\u001b[0m\u001b[1;33m.\u001b[0m\u001b[0mbs_N\u001b[0m\u001b[1;33m:\u001b[0m\u001b[1;33m(\u001b[0m\u001b[0mj\u001b[0m\u001b[1;33m+\u001b[0m\u001b[1;36m1\u001b[0m\u001b[1;33m)\u001b[0m\u001b[1;33m*\u001b[0m\u001b[0mself\u001b[0m\u001b[1;33m.\u001b[0m\u001b[0mbs_N\u001b[0m\u001b[1;33m]\u001b[0m \u001b[1;33m=\u001b[0m \u001b[0mgv\u001b[0m\u001b[1;33m.\u001b[0m\u001b[0mmean\u001b[0m\u001b[1;33m(\u001b[0m\u001b[0mplot_data\u001b[0m\u001b[1;33m[\u001b[0m\u001b[1;36m1\u001b[0m\u001b[1;33m]\u001b[0m\u001b[1;33m[\u001b[0m\u001b[0mabbr\u001b[0m\u001b[1;33m]\u001b[0m\u001b[1;33m)\u001b[0m\u001b[1;33m\u001b[0m\u001b[0m\n\u001b[0;32m    512\u001b[0m             \u001b[0mz\u001b[0m\u001b[1;33m[\u001b[0m\u001b[0mj\u001b[0m\u001b[1;33m*\u001b[0m\u001b[0mself\u001b[0m\u001b[1;33m.\u001b[0m\u001b[0mbs_N\u001b[0m\u001b[1;33m:\u001b[0m\u001b[1;33m(\u001b[0m\u001b[0mj\u001b[0m\u001b[1;33m+\u001b[0m\u001b[1;36m1\u001b[0m\u001b[1;33m)\u001b[0m\u001b[1;33m*\u001b[0m\u001b[0mself\u001b[0m\u001b[1;33m.\u001b[0m\u001b[0mbs_N\u001b[0m\u001b[1;33m]\u001b[0m \u001b[1;33m=\u001b[0m \u001b[0mcolor_data\u001b[0m\u001b[1;33m[\u001b[0m\u001b[0mabbr\u001b[0m\u001b[1;33m]\u001b[0m\u001b[1;33m\u001b[0m\u001b[0m\n\u001b[1;32m--> 513\u001b[1;33m \u001b[1;33m\u001b[0m\u001b[0m\n\u001b[0m\u001b[0;32m    514\u001b[0m         sc = plt.scatter(x, y, c=z, vmin=minimum, vmax=maximum,\n\u001b[0;32m    515\u001b[0m                          cmap=cmap, rasterized=True, marker=\".\", alpha=100.0/self.bs_N)\n",
      "\u001b[1;31mTypeError\u001b[0m: float() argument must be a string or a number"
     ]
    }
   ],
   "source": [
    "bootstrapper.plot_parameters(xy_parameters=['Fpi', 'FK/Fpi'],\n",
    "                    xlabel='$F_\\pi$ (MeV)', color_parameter='a')"
   ]
  },
  {
   "cell_type": "code",
   "execution_count": null,
   "metadata": {
    "collapsed": true
   },
   "outputs": [],
   "source": [
    "#    # xy_parameters is an array (eg, ['mpi', 'Fpi'])\n",
    "    def plot_parameters(self, xy_parameters, color_parameter=None,\n",
    "                        xfcn=None, xlabel=None, yfcn=None, ylabel=None, show_fit=True):\n",
    "        if xlabel is None:\n",
    "            xlabel = self._fmt_key_as_latex(xy_parameters[0])\n",
    "        if ylabel is None:\n",
    "            ylabel = self._fmt_key_as_latex(xy_parameters[1])\n",
    "\n",
    "        if xfcn is None:\n",
    "            xfcn = lambda x : 1 * x\n",
    "        if yfcn is None:\n",
    "            yfcn = lambda y : 1 * y\n",
    "\n",
    "        plot_data = {}\n",
    "        myfcn = [xfcn, yfcn]\n",
    "        for j, parameter in enumerate(xy_parameters):\n",
    "            if parameter in ['FK/Fpi', 'FK / Fpi']:\n",
    "                plot_data[j] = {abbr :  myfcn[j](self.fit_data[abbr]['FK'] /self.fit_data[abbr]['Fpi']) for abbr in self.abbrs}\n",
    "            elif parameter in ['mpi', 'mju', 'mru', 'mk', 'mrs', 'mss', 'FK', 'Fpi']:\n",
    "                # Convert to physical units\n",
    "                hbar_c = 197.327# used to convert to phys units\n",
    "                plot_data[j] = {}\n",
    "                for abbr in self.abbrs:\n",
    "                    plot_data[j][abbr] = myfcn[j](self.fit_data[abbr][parameter] *hbar_c / (self.fit_data[abbr]['aw0'] /self.w0))\n",
    "            else:\n",
    "                plot_data[j] = {abbr :  myfcn[j](self.fit_data[abbr][parameter]) for abbr in self.abbrs}\n",
    "\n",
    "\n",
    "        if color_parameter is None:\n",
    "            color_parameter = 'a'\n",
    "\n",
    "        if color_parameter in ['a']:\n",
    "            color_data = {abbr : np.repeat(self.fit_data[abbr]['aw0'][0]/self.w0, self.bs_N).ravel() for abbr in self.abbrs}\n",
    "        elif color_parameter in ['L']:\n",
    "            color_data = {abbr : np.repeat(gv.mean(self.fit_data[abbr][color_parameter]), self.bs_N).ravel() for abbr in self.abbrs}\n",
    "        elif color_parameter == 'MpiL':\n",
    "            color_data = {abbr : gv.mean(self.fit_data[abbr][color_parameter]).ravel() for abbr in self.abbrs}\n",
    "        else:\n",
    "            color_data = {abbr : gv.mean(self.fit_data[abbr][color_parameter]).ravel() for abbr in self.abbrs}\n",
    "\n",
    "        # Color by lattice spacing/length\n",
    "        cmap = matplotlib.cm.get_cmap('rainbow')\n",
    "        min_max = lambda x : [np.min(x), np.max(x)]\n",
    "        minimum, maximum = min_max(np.concatenate([color_data[abbr] for abbr in self.abbrs]))\n",
    "        norm = matplotlib.colors.Normalize(vmin=minimum, vmax=maximum)\n",
    "\n",
    "        # Get scatter plot & color data\n",
    "        x = np.zeros(self.bs_N * len(self.abbrs))\n",
    "        y = np.zeros(self.bs_N * len(self.abbrs))\n",
    "        z = np.zeros(self.bs_N * len(self.abbrs))\n",
    "        for j, abbr in enumerate(self.abbrs):\n",
    "            x[j*self.bs_N:(j+1)*self.bs_N] = gv.mean(plot_data[0][abbr])\n",
    "            y[j*self.bs_N:(j+1)*self.bs_N] = gv.mean(plot_data[1][abbr])\n",
    "            z[j*self.bs_N:(j+1)*self.bs_N] = color_data[abbr]\n",
    "\n",
    "        sc = plt.scatter(x, y, c=z, vmin=minimum, vmax=maximum,\n",
    "                         cmap=cmap, rasterized=True, marker=\".\", alpha=100.0/self.bs_N)\n",
    "\n",
    "        if ((show_fit)\n",
    "                and (xy_parameters[1] in ['FK/Fpi', 'FK / Fpi'])\n",
    "                and (xy_parameters[0] in['mpi', 'mju', 'mru', 'mk', 'mrs', 'mss', 'FK', 'Fpi'])):\n",
    "\n",
    "            plt.axvline(gv.mean(xfcn(self.get_phys_point_data(xy_parameters[0]))), label='Phys point')\n",
    "            y_phys = self.get_phys_point_data('FK/Fpi')\n",
    "            plt.errorbar(x=gv.mean(xfcn(self.get_phys_point_data(xy_parameters[0]))), xerr=0,\n",
    "                         y=gv.mean(y_phys), yerr=gv.sdev(y_phys), label='Exp',\n",
    "                        color='C0', marker='o', capsize=0.0, mec='white', ms=10.0, alpha=0.6,\n",
    "                             ecolor='C1', elinewidth=10.0)\n",
    "\n",
    "            colors = ['black', 'purple', 'green', 'red']\n",
    "            for j, a in enumerate([0.0, 0.09, 0.12, 0.15]):\n",
    "                minimum = np.nanmin([np.nanmin(\n",
    "                    self.fit_data[abbr][xy_parameters[0]] *hbar_c / (self.fit_data[abbr]['aw0'] /self.w0)\n",
    "                ) for abbr in self.abbrs])\n",
    "                maximum = np.nanmax([np.nanmax(\n",
    "                    self.fit_data[abbr][xy_parameters[0]] *hbar_c / (self.fit_data[abbr]['aw0'] /self.w0)\n",
    "                ) for abbr in self.abbrs])\n",
    "                delta = maximum - minimum\n",
    "\n",
    "                x = np.linspace(np.max((minimum - 0.05*delta, 0)), maximum + 0.05*delta)\n",
    "\n",
    "\n",
    "                # Get phys point data, substituting x-data and current 'a' in loop\n",
    "                prepped_data = self.get_phys_point_data()\n",
    "                prepped_data[xy_parameters[0]] = x\n",
    "                prepped_data['aw0'] = a*self.w0\n",
    "\n",
    "                y = self.fk_fpi_fit_fcn(fit_data=prepped_data)\n",
    "\n",
    "                pm = lambda g, k : gv.mean(g) + k*gv.sdev(g)\n",
    "                plt.plot(xfcn(x), pm(y, 0), '--', color=colors[j], label='$a=$%s (fm)'%(str(a)), rasterized=True)\n",
    "                plt.fill_between(xfcn(x), pm(y, -1), pm(y, 1), alpha=0.20, color=colors[j], rasterized=True)\n",
    "\n",
    "            plt.legend()\n",
    "\n",
    "        # Plot labels\n",
    "        plt.grid()\n",
    "        plt.xlabel(xlabel, fontsize = 24)\n",
    "        plt.ylabel(ylabel, fontsize = 24)\n",
    "\n",
    "        # Format colorbar\n",
    "        color_bar = plt.colorbar(sc)\n",
    "        color_bar.set_alpha(0.8)\n",
    "        color_bar.draw_all()\n",
    "        color_bar.set_label(self._fmt_key_as_latex(color_parameter), fontsize = 24)\n",
    "\n",
    "        # Set xlim, ylim -- only works if xy_parameters[i] is a vector, not a scalar\n",
    "        min_max = lambda x : [np.min(x), np.max(x)]\n",
    "        try:\n",
    "            xmin, xmax = min_max(np.concatenate([gv.mean(plot_data[0][abbr]) for abbr in self.abbrs]))\n",
    "            ymin, ymax = min_max(np.concatenate([gv.mean(plot_data[1][abbr]) for abbr in self.abbrs]))\n",
    "            xdelta = xmax - xmin\n",
    "            ydelta = ymax - ymin\n",
    "            plt.xlim(xmin-0.05*xdelta, xmax+0.05*xdelta) #xmin-0.05*xdelta\n",
    "            plt.ylim(ymin-0.05*ydelta, ymax+0.05*ydelta)\n",
    "        except ValueError:\n",
    "            pass\n",
    "\n",
    "        fig = plt.gcf()\n",
    "        plt.close()\n",
    "        return fig\n",
    "    \n",
    "    squared = lambda x : x**2\n",
    "    plot_parameters(bootstrapper, xy_parameters=['mpi', 'FK/Fpi'],\n",
    "                    xfcn=squared, xlabel='$m_\\pi^2$ (MeV)$^2$', color_parameter='a')"
   ]
  },
  {
   "cell_type": "code",
   "execution_count": 391,
   "metadata": {},
   "outputs": [],
   "source": [
    "#bootstrapper._make_fit(0).show_plots()"
   ]
  },
  {
   "cell_type": "code",
   "execution_count": null,
   "metadata": {
    "collapsed": true
   },
   "outputs": [],
   "source": []
  },
  {
   "cell_type": "code",
   "execution_count": null,
   "metadata": {
    "collapsed": true
   },
   "outputs": [],
   "source": []
  },
  {
   "cell_type": "code",
   "execution_count": 389,
   "metadata": {
    "scrolled": false
   },
   "outputs": [],
   "source": [
    "#print bootstrapper._make_fit(0)"
   ]
  },
  {
   "cell_type": "code",
   "execution_count": null,
   "metadata": {
    "collapsed": true
   },
   "outputs": [],
   "source": []
  },
  {
   "cell_type": "code",
   "execution_count": null,
   "metadata": {
    "collapsed": true
   },
   "outputs": [],
   "source": []
  },
  {
   "cell_type": "code",
   "execution_count": null,
   "metadata": {
    "scrolled": false
   },
   "outputs": [
    {
     "name": "stdout",
     "output_type": "stream",
     "text": [
      "Making fits...\n",
      "100% complete  Time (s):  2.39598703384\n",
      "Getting bs fit parameters...\n",
      "38% complete "
     ]
    }
   ],
   "source": [
    "t0 = time.time()\n",
    "\n",
    "# Load data\n",
    "data_loader = dl.data_loader()\n",
    "fit_data = data_loader.get_fit_data()\n",
    "\n",
    "# Get prior\n",
    "prior = None\n",
    "if p_dict['use_prior']:\n",
    "    prior = data_loader.get_prior()\n",
    "\n",
    "# Make bootstrapper\n",
    "bootstrapper = bs.bootstrapper(fit_data, prior=prior, order=p_dict['order'], bs_N=p_dict['bs_N'], abbrs=p_dict['abbrs'])\n",
    "\n",
    "if p_dict['make_plots']:\n",
    "    data_loader.save_plots(bootstrapper.make_plots(\n",
    "        show_error_ellipses=p_dict['show_error_ellipses'], show_bootstrap_histograms=p_dict['show_bs_histograms']))\n",
    "else:\n",
    "    print bootstrapper\n",
    "    \n",
    "if p_dict['save_prior']:\n",
    "    print 'Saving prior...'\n",
    "    data_loader.save_prior(bootstrapper.create_prior_from_fit())\n",
    "    \n",
    "    \n",
    "t1 = time.time()\n",
    "\n",
    "print \"\\nTotal time (s): \", t1 - t0, \"\\n\""
   ]
  },
  {
   "cell_type": "code",
   "execution_count": null,
   "metadata": {
    "collapsed": true
   },
   "outputs": [],
   "source": []
  }
 ],
 "metadata": {
  "kernelspec": {
   "display_name": "Python 2",
   "language": "python",
   "name": "python2"
  },
  "language_info": {
   "codemirror_mode": {
    "name": "ipython",
    "version": 2
   },
   "file_extension": ".py",
   "mimetype": "text/x-python",
   "name": "python",
   "nbconvert_exporter": "python",
   "pygments_lexer": "ipython2",
   "version": "2.7.14"
  }
 },
 "nbformat": 4,
 "nbformat_minor": 2
}
