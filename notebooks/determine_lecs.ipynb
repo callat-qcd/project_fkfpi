{
 "cells": [
  {
   "cell_type": "markdown",
   "metadata": {},
   "source": [
    "### Import Modules"
   ]
  },
  {
   "cell_type": "code",
   "execution_count": 1,
   "metadata": {
    "collapsed": true
   },
   "outputs": [],
   "source": [
    "import numpy as np\n",
    "import gvar as gv\n",
    "import lsqfit\n",
    "import sys\n",
    "import os\n",
    "import matplotlib\n",
    "import matplotlib.pyplot as plt\n",
    "import pandas as pd\n",
    "import h5py\n",
    "\n",
    "sys.path.append(\"../\")\n",
    "from fitter import data_loader as dl\n",
    "from fitter import bootstrapper as bs\n",
    "from fitter import fitter as fit\n",
    "\n",
    "matplotlib.rcParams['figure.figsize'] = [10, 10]"
   ]
  },
  {
   "cell_type": "code",
   "execution_count": 188,
   "metadata": {},
   "outputs": [
    {
     "data": {
      "text/plain": [
       "<module 'fitter.fitter' from '../fitter\\fitter.pyc'>"
      ]
     },
     "execution_count": 188,
     "metadata": {},
     "output_type": "execute_result"
    },
    {
     "name": "stdout",
     "output_type": "stream",
     "text": [
      "\n"
     ]
    }
   ],
   "source": [
    "reload(bs)\n",
    "reload(dl)\n",
    "reload(fit)"
   ]
  },
  {
   "cell_type": "markdown",
   "metadata": {},
   "source": [
    "### Load data"
   ]
  },
  {
   "cell_type": "code",
   "execution_count": 189,
   "metadata": {
    "collapsed": true
   },
   "outputs": [],
   "source": [
    "data_loader = dl.data_loader()\n",
    "\n",
    "fit_data = data_loader.get_fit_data()\n",
    "prior = data_loader.get_prior()"
   ]
  },
  {
   "cell_type": "markdown",
   "metadata": {},
   "source": [
    "### Bootstrap"
   ]
  },
  {
   "cell_type": "code",
   "execution_count": 190,
   "metadata": {},
   "outputs": [],
   "source": [
    "bootstrapper = bs.bootstrapper(fit_data, prior=prior, order=1, bs_N=5000)\n",
    "#bootstrapper.plot_parameters(xy_parameters=['a', 'm_pion'], color_parameter='V')\n",
    "#data_loader.save_plots(bootstrapper)\n",
    "#bootstrapper.plot_fit()"
   ]
  },
  {
   "cell_type": "code",
   "execution_count": 191,
   "metadata": {
    "scrolled": false
   },
   "outputs": [
    {
     "name": "stdout",
     "output_type": "stream",
     "text": [
      "Making fits...\n",
      "100% complete                                                                                                                                                                                                                                                                                                                                                                                                                                                                                                                                                                                                                                                                                                                                                                                                                                                                                                                                                                                                                                                         Time (s):  90.2980000973\n",
      "Getting bs fit parameters...\n",
      "100% complete                                                                                                                                                                                                                                                                                                                                                                                                                                                                                                                                                                                                                                                                                                                                                                                                                                                                                                                                                                                                                                                                                                                                                                                                                                                                                                                                                                                                                                                                                                                                                                                                                                                                                        \n",
      "\n",
      "Fitting to order 1 \n",
      "Fitted/[Experimental] values at physical point:\n",
      "\n",
      "\t\tF_K / F_pi = 1.09(13) [1.201(46)]\n",
      "\n",
      "  Parameter    Result[0] / Prior[1]    Parameter    Result[0] / Prior[1]\n",
      "-----------------------------------  -----------------------------------\n",
      "     l_ju 0              -0.7 (2.4)       l_ss 0               0.51 (11)\n",
      "          1               1.0 (1.0)            1               1.0 (1.0)\n",
      "     l_sj 0               1.0 (2.1)       l_rs 0              -1.2 (3.6)\n",
      "          1               1.0 (1.0)            1               1.0 (1.0)\n",
      "      l_x 0             -0.389 (82)       l_ru 0               1.0 (1.5)\n",
      "          1               1.0 (1.0)            1               1.0 (1.0)\n",
      "     l_pi 0              -0.46 (47)     l_5lam 0             0.0019 (99)\n",
      "          1               1.0 (1.0)            1             0.0069 (34)\n",
      "\n",
      "Total time (s):  220.236000061 \n",
      "\n",
      "Least Square Fit:\n",
      "  chi2/dof [dof] = 7.8 [16]    Q = 4.8e-19    logGBF = -1.2705\n",
      "\n",
      "Parameters:\n",
      "         l_5lam    0.0003 (17)      [ 0.0069 (34) ]  *\n",
      "           l_ju     -0.83 (53)      [   1.0 (1.0) ]  *\n",
      "           l_pi    -0.531 (90)      [   1.0 (1.0) ]  *\n",
      "           l_rs     -2.41 (56)      [   1.0 (1.0) ]  ***\n",
      "           l_ru      0.75 (93)      [   1.0 (1.0) ]  \n",
      "           l_sj      1.49 (67)      [   1.0 (1.0) ]  \n",
      "           l_ss     0.534 (11)      [   1.0 (1.0) ]  \n",
      "            l_x   -0.4073 (83)      [   1.0 (1.0) ]  *\n",
      "\n",
      "Settings:\n",
      "  svdcut/n = 1e-12/0    tol = (1e-08*,1e-10,1e-10)    (itns/time = 4/0.0)\n",
      "  fitter = scipy_least_squares    method = trf\n",
      "\n"
     ]
    }
   ],
   "source": [
    "import time\n",
    "t0 = time.time()\n",
    "print bootstrapper\n",
    "t1 = time.time()\n",
    "print \"\\nTotal time (s): \", t1 - t0, \"\\n\"\n",
    "\n",
    "#squared = lambda x : x**2\n",
    "#bootstrapper.plot_fit(xfcn=squared, xlabel='$m_{\\pi}^2$ (MeV)$^2$')\n",
    "#bootstrapper.plot_fit()\n",
    "\n",
    "print bootstrapper.fits[0]"
   ]
  },
  {
   "cell_type": "code",
   "execution_count": 194,
   "metadata": {},
   "outputs": [
    {
     "name": "stdout",
     "output_type": "stream",
     "text": [
      "Done.\n"
     ]
    }
   ],
   "source": [
    "data_loader.save_plots([bootstrapper.plot_fit_bar_graph()])"
   ]
  }
 ],
 "metadata": {
  "kernelspec": {
   "display_name": "Python 2",
   "language": "python",
   "name": "python2"
  },
  "language_info": {
   "codemirror_mode": {
    "name": "ipython",
    "version": 2
   },
   "file_extension": ".py",
   "mimetype": "text/x-python",
   "name": "python",
   "nbconvert_exporter": "python",
   "pygments_lexer": "ipython2",
   "version": "2.7.14"
  }
 },
 "nbformat": 4,
 "nbformat_minor": 2
}
