{
 "cells": [
  {
   "cell_type": "markdown",
   "metadata": {},
   "source": [
    "### Import Modules"
   ]
  },
  {
   "cell_type": "code",
   "execution_count": 1,
   "metadata": {
    "collapsed": true
   },
   "outputs": [],
   "source": [
    "import numpy as np\n",
    "import gvar as gv\n",
    "import lsqfit\n",
    "import sys\n",
    "import os\n",
    "import matplotlib\n",
    "import matplotlib.pyplot as plt\n",
    "import pandas as pd\n",
    "import h5py\n",
    "import time\n",
    "\n",
    "sys.path.append(\"../\")\n",
    "from fitter import data_loader as dl\n",
    "from fitter import bootstrapper as bs\n",
    "from fitter import fitter as fit\n",
    "from fitter import special_functions as sf\n",
    "\n",
    "matplotlib.rcParams['figure.figsize'] = [10, 10]"
   ]
  },
  {
   "cell_type": "code",
   "execution_count": 12,
   "metadata": {},
   "outputs": [
    {
     "data": {
      "text/plain": [
       "<module 'fitter.special_functions' from '../fitter\\special_functions.pyc'>"
      ]
     },
     "execution_count": 12,
     "metadata": {},
     "output_type": "execute_result"
    }
   ],
   "source": [
    "reload(bs)\n",
    "reload(dl)\n",
    "reload(fit)\n",
    "reload(sf)"
   ]
  },
  {
   "cell_type": "markdown",
   "metadata": {},
   "source": [
    "### Specify fit parameters"
   ]
  },
  {
   "cell_type": "code",
   "execution_count": 3,
   "metadata": {
    "collapsed": true
   },
   "outputs": [],
   "source": [
    "p_dict = {\n",
    "    'order' : {\n",
    "        'fit' : 'nlo', # 'nlo', 'nnlo', or 'nnnlo'\n",
    "        'latt_spacing' : 0, # no order 1 term -- starts at 2\n",
    "        'vol' : 8 # max 10\n",
    "    }, \n",
    "    'bs_N' : 1,  # if 0, use full list\n",
    "    'fit_type' : 'simultaneous', #'ma', 'ma-taylor, 'xpt', or 'xpt-taylor'; also 'simultaneous', 'ma-old'\n",
    "    'F2' : 'FKFpi', #'FKfpi', 'FpiFpi', 'FKFK'\n",
    "    \n",
    "    'use_prior' : False,\n",
    "    'abbrs' : [u'a09m220', u'a09m310', u'a09m350', u'a09m400', u'a12m130',\n",
    "           u'a12m220',  u'a12m220S', u'a12m310', u'a12m350',\n",
    "           u'a12m400', u'a15m220', u'a15m310', u'a15m350', 'a15m400'],\n",
    "    \n",
    "    'make_plots' : True,\n",
    "    'show_error_ellipses' : False,\n",
    "    'show_bs_histograms' : False,\n",
    "    \n",
    "    'save_prior' : False,\n",
    "    'save_results' : False,\n",
    "}"
   ]
  },
  {
   "cell_type": "markdown",
   "metadata": {},
   "source": [
    "### Do fit"
   ]
  },
  {
   "cell_type": "code",
   "execution_count": 4,
   "metadata": {
    "scrolled": false
   },
   "outputs": [
    {
     "name": "stdout",
     "output_type": "stream",
     "text": [
      "Using default prior.\n",
      "Making fits...\n",
      "100% complete Time (s):  1.27100014687\n",
      "Compiling results...\n"
     ]
    },
    {
     "name": "stderr",
     "output_type": "stream",
     "text": [
      "../fitter\\special_functions.py:10: RuntimeWarning: invalid value encountered in double_scalars\n",
      "  ysdev = np.abs(ss.kvp(n, gv.mean(g), 1)) * gv.sdev(g)\n"
     ]
    },
    {
     "name": "stdout",
     "output_type": "stream",
     "text": [
      "Done.\n",
      "\n",
      "Total time (s):  4.64499998093 \n",
      "\n"
     ]
    }
   ],
   "source": [
    "t0 = time.time()\n",
    "\n",
    "# Load data\n",
    "data_loader = dl.data_loader()\n",
    "fit_data = data_loader.get_fit_data()\n",
    "\n",
    "# Get prior\n",
    "prior = None\n",
    "if p_dict['use_prior']:\n",
    "    prior = data_loader.get_prior(p_dict['fit_type'])\n",
    "\n",
    "# Make bootstrapper\n",
    "bootstrapper = bs.bootstrapper(fit_data, prior=prior, order=p_dict['order'], F2=p_dict['F2'],\n",
    "                               fit_type=p_dict['fit_type'], bs_N=p_dict['bs_N'], abbrs=p_dict['abbrs'])\n",
    "\n",
    "if p_dict['make_plots']:\n",
    "    data_loader.save_plots(\n",
    "        bootstrapper.make_plots(\n",
    "            show_error_ellipses=p_dict['show_error_ellipses'], \n",
    "            show_bootstrap_histograms=p_dict['show_bs_histograms']),\n",
    "        output_filename=bootstrapper.fit_type+'_'+bootstrapper.order['fit']\n",
    "    )\n",
    "else:\n",
    "    print bootstrapper\n",
    "    \n",
    "if p_dict['save_prior']:\n",
    "    print 'Saving prior...'\n",
    "    data_loader.save_prior(bootstrapper.create_prior_from_fit(), p_dict['fit_type'])\n",
    "    \n",
    "if p_dict['save_results']:\n",
    "    data_loader.save_fit_info(bootstrapper.get_fit_info())\n",
    "    \n",
    "    \n",
    "t1 = time.time()\n",
    "\n",
    "print \"\\nTotal time (s): \", t1 - t0, \"\\n\""
   ]
  },
  {
   "cell_type": "code",
   "execution_count": 113,
   "metadata": {},
   "outputs": [
    {
     "name": "stdout",
     "output_type": "stream",
     "text": [
      "\n",
      "\n",
      "Fit type: simultaneous (F^2 = FKFpi, bsN = 1)\n",
      "\n",
      "Fitting to nlo \n",
      " with lattice corrections O(0) \n",
      " with volume corrections O(8) \n",
      "Fitted/[FLAG] values at physical point:\n",
      "\n",
      "F_K / F_pi = 1.10785(72) [1.1932(19)]\n",
      "\n",
      "  Parameter    Result[0] / Prior[1]    Parameter    Result[0] / Prior[1]\n",
      "-----------------------------------  -----------------------------------\n",
      "  c_mpia2 0             -7e-12 +- 1            1              0.000 (10)\n",
      "          1               0.0 (1.0)        L_5 0         -0.0005783 (91)\n",
      "      L_4 0          0.0001587 (38)            1            0.00020 (10)\n",
      "---\n",
      "boot0 fit results:\n",
      "Least Square Fit:\n",
      "  chi2/dof [dof] = 4.3e+02 [28]    Q = 0    logGBF = -5752.8\n",
      "\n",
      "Settings:\n",
      "  svdcut/n = 1e-12/14    tol = (1e-08*,1e-10,1e-10)    (itns/time = 47/1.3)\n",
      "  fitter = scipy_least_squares    method = trf\n",
      "\n"
     ]
    }
   ],
   "source": [
    "print bootstrapper"
   ]
  },
  {
   "cell_type": "code",
   "execution_count": 114,
   "metadata": {
    "scrolled": false
   },
   "outputs": [
    {
     "name": "stdout",
     "output_type": "stream",
     "text": [
      "Least Square Fit:\n",
      "  chi2/dof [dof] = 4.3e+02 [28]    Q = 0    logGBF = -5752.8\n",
      "\n",
      "Parameters:\n",
      "          mpi 0     0.097878 (67)       [ 0.097900 (67) ]  \n",
      "              1      0.14074 (12)       [  0.14072 (12) ]  \n",
      "              2      0.15833 (19)       [  0.15785 (19) ]  **\n",
      "              3      0.18014 (13)       [  0.18116 (14) ]  *****\n",
      "              4      0.08208 (25)       [  0.08126 (25) ]  ***\n",
      "              5      0.13423 (17)       [  0.13428 (17) ]  \n",
      "              6      0.13545 (31)       [  0.13557 (32) ]  \n",
      "              7      0.18871 (17)       [  0.18870 (17) ]  \n",
      "              8      0.21420 (20)       [  0.21397 (20) ]  *\n",
      "              9      0.24220 (15)       [  0.24347 (16) ]  *****\n",
      "             10      0.16518 (19)       [  0.16533 (19) ]  \n",
      "             11      0.23583 (30)       [  0.23601 (30) ]  \n",
      "             12      0.26500 (29)       [  0.26473 (29) ]  \n",
      "             13      0.30103 (28)       [  0.30281 (30) ]  *****\n",
      "           mk 0     0.228730 (99)       [ 0.228702 (99) ]  \n",
      "              1      0.24067 (14)       [  0.24106 (14) ]  **\n",
      "              2      0.24665 (12)       [  0.24696 (12) ]  **\n",
      "              3      0.25589 (12)       [  0.25523 (12) ]  *****\n",
      "              4      0.30271 (23)       [  0.30207 (23) ]  **\n",
      "              5      0.31010 (17)       [  0.31001 (17) ]  \n",
      "              6      0.31051 (21)       [  0.31043 (21) ]  \n",
      "              7      0.32373 (20)       [  0.32414 (21) ]  *\n",
      "              8      0.33282 (16)       [  0.33306 (16) ]  *\n",
      "              9      0.34425 (14)       [  0.34341 (14) ]  *****\n",
      "             10      0.38708 (21)       [  0.38690 (21) ]  \n",
      "             11      0.40412 (24)       [  0.40457 (24) ]  *\n",
      "             12      0.41314 (26)       [  0.41369 (27) ]  **\n",
      "             13      0.42851 (25)       [  0.42723 (27) ]  ****\n",
      "     lam2_chi 0        1.301 (25)       [     0.31 (36) ]  **\n",
      "              1        1.528 (22)       [     0.31 (36) ]  ***\n",
      "              2        1.479 (20)       [     0.31 (36) ]  ***\n",
      "              3        1.177 (28)       [     0.31 (36) ]  **\n",
      "              4        1.803 (47)       [     0.59 (69) ]  *\n",
      "              5        2.407 (46)       [     0.59 (69) ]  **\n",
      "              6        2.448 (45)       [     0.59 (69) ]  **\n",
      "              7        2.766 (40)       [     0.59 (69) ]  ***\n",
      "              8        2.680 (36)       [     0.59 (69) ]  ***\n",
      "              9        2.138 (51)       [     0.59 (69) ]  **\n",
      "             10        3.733 (72)       [     0.9 (1.1) ]  **\n",
      "             11        4.412 (59)       [     0.9 (1.1) ]  ***\n",
      "             12        4.260 (54)       [     0.9 (1.1) ]  ***\n",
      "             13        3.523 (66)       [     0.9 (1.1) ]  **\n",
      "            L 0     48.00000 (48)       [ 48.00000 (48) ]  \n",
      "              1     32.00000 (32)       [ 32.00000 (32) ]  \n",
      "              2     32.00000 (32)       [ 32.00000 (32) ]  \n",
      "              3     32.00000 (32)       [ 32.00000 (32) ]  \n",
      "              4     48.00000 (48)       [ 48.00000 (48) ]  \n",
      "              5     32.00000 (32)       [ 32.00000 (32) ]  \n",
      "              6     24.00000 (24)       [ 24.00000 (24) ]  \n",
      "              7     24.00000 (24)       [ 24.00000 (24) ]  \n",
      "              8     24.00000 (24)       [ 24.00000 (24) ]  \n",
      "              9     24.00000 (24)       [ 24.00000 (24) ]  \n",
      "             10     24.00000 (24)       [ 24.00000 (24) ]  \n",
      "             11     16.00000 (16)       [ 16.00000 (16) ]  \n",
      "             12     16.00000 (16)       [ 16.00000 (16) ]  \n",
      "             13     16.00000 (16)       [ 16.00000 (16) ]  \n",
      "         a/w0 0      0.51049 (30)       [  0.51050 (30) ]  \n",
      "              1      0.51067 (30)       [  0.51050 (30) ]  \n",
      "              2      0.51063 (30)       [  0.51050 (30) ]  \n",
      "              3      0.51040 (30)       [  0.51050 (30) ]  \n",
      "              4      0.70304 (50)       [  0.70360 (50) ]  *\n",
      "              5      0.70353 (50)       [  0.70360 (50) ]  \n",
      "              6      0.70357 (50)       [  0.70360 (50) ]  \n",
      "              7      0.70383 (50)       [  0.70360 (50) ]  \n",
      "              8      0.70376 (50)       [  0.70360 (50) ]  \n",
      "              9      0.70332 (50)       [  0.70360 (50) ]  \n",
      "             10      0.88038 (30)       [  0.88040 (30) ]  \n",
      "             11      0.88048 (30)       [  0.88040 (30) ]  \n",
      "             12      0.88045 (30)       [  0.88040 (30) ]  \n",
      "             13      0.88034 (30)       [  0.88040 (30) ]  \n",
      "            L_4    0.0001587 (38)       [    0.000 (10) ]  \n",
      "            L_5   -0.0005783 (91)       [  0.00020 (10) ]  *****\n",
      "        c_mpia2       -7e-12 +- 1       [     0.0 (1.0) ]  \n",
      "          mss 0     0.309362 (74)       [ 0.309362 (74) ]  \n",
      "              1      0.31169 (11)       [  0.31169 (11) ]  \n",
      "              2      0.31244 (11)       [  0.31244 (11) ]  \n",
      "              3      0.31327 (11)       [  0.31327 (11) ]  \n",
      "              4      0.41421 (11)       [  0.41421 (11) ]  \n",
      "              5      0.41539 (12)       [  0.41539 (12) ]  \n",
      "              6      0.41576 (14)       [  0.41576 (14) ]  \n",
      "              7      0.41802 (16)       [  0.41802 (16) ]  \n",
      "              8      0.41970 (13)       [  0.41970 (13) ]  \n",
      "              9      0.42073 (13)       [  0.42073 (13) ]  \n",
      "             10      0.51496 (13)       [  0.51496 (13) ]  \n",
      "             11      0.51876 (16)       [  0.51876 (16) ]  \n",
      "             12      0.52008 (22)       [  0.52008 (22) ]  \n",
      "             13      0.52193 (22)       [  0.52193 (22) ]  \n",
      "          mju 0      0.10893 (27)       [  0.10893 (27) ]  \n",
      "              1      0.14810 (37)       [  0.14810 (37) ]  \n",
      "              2      0.16553 (67)       [  0.16553 (67) ]  \n",
      "              3      0.18736 (90)       [  0.18736 (90) ]  \n",
      "              4       0.1493 (13)       [   0.1493 (13) ]  \n",
      "              5      0.17710 (88)       [  0.17710 (88) ]  \n",
      "              6      0.17710 (88)       [  0.17710 (88) ]  \n",
      "              7      0.21894 (91)       [  0.21894 (91) ]  \n",
      "              8       0.2404 (13)       [   0.2404 (13) ]  \n",
      "              9       0.2679 (16)       [   0.2679 (16) ]  \n",
      "             10       0.2557 (21)       [   0.2557 (21) ]  \n",
      "             11       0.3061 (13)       [   0.3061 (13) ]  \n",
      "             12       0.3310 (35)       [   0.3310 (35) ]  \n",
      "             13       0.3595 (24)       [   0.3595 (24) ]  \n",
      "          mjs 0      0.23001 (34)       [  0.23001 (34) ]  \n",
      "              1      0.24267 (42)       [  0.24267 (42) ]  \n",
      "              2      0.24995 (82)       [  0.24995 (82) ]  \n",
      "              3       0.2575 (12)       [   0.2575 (12) ]  \n",
      "              4      0.30821 (87)       [  0.30821 (87) ]  \n",
      "              5      0.31875 (79)       [  0.31875 (79) ]  \n",
      "              6      0.31875 (79)       [  0.31875 (79) ]  \n",
      "              7       0.3345 (10)       [   0.3345 (10) ]  \n",
      "              8       0.3454 (17)       [   0.3454 (17) ]  \n",
      "              9       0.3548 (11)       [   0.3548 (11) ]  \n",
      "             10      0.41085 (99)       [  0.41085 (99) ]  \n",
      "             11      0.43463 (93)       [  0.43463 (93) ]  \n",
      "             12       0.4465 (30)       [   0.4465 (30) ]  \n",
      "             13       0.4582 (36)       [   0.4582 (36) ]  \n",
      "          mru 0      0.23284 (39)       [  0.23284 (39) ]  \n",
      "              1      0.24688 (51)       [  0.24688 (51) ]  \n",
      "              2      0.25278 (61)       [  0.25278 (61) ]  \n",
      "              3      0.26040 (81)       [  0.26040 (81) ]  \n",
      "              4       0.3261 (14)       [   0.3261 (14) ]  \n",
      "              5      0.33158 (91)       [  0.33158 (91) ]  \n",
      "              6      0.33158 (91)       [  0.33158 (91) ]  \n",
      "              7      0.34390 (98)       [  0.34390 (98) ]  \n",
      "              8       0.3519 (28)       [   0.3519 (28) ]  \n",
      "              9       0.3621 (12)       [   0.3621 (12) ]  \n",
      "             10       0.4308 (16)       [   0.4308 (16) ]  \n",
      "             11       0.4508 (12)       [   0.4508 (12) ]  \n",
      "             12       0.4591 (37)       [   0.4591 (37) ]  \n",
      "             13       0.4710 (20)       [   0.4710 (20) ]  \n",
      "          mrs 0      0.31126 (21)       [  0.31126 (21) ]  \n",
      "              1      0.31500 (29)       [  0.31500 (29) ]  \n",
      "              2      0.31598 (53)       [  0.31598 (53) ]  \n",
      "              3      0.31589 (61)       [  0.31589 (61) ]  \n",
      "              4      0.42721 (34)       [  0.42721 (34) ]  \n",
      "              5      0.42800 (34)       [  0.42800 (34) ]  \n",
      "              6      0.42800 (34)       [  0.42800 (34) ]  \n",
      "              7      0.43046 (43)       [  0.43046 (43) ]  \n",
      "              8       0.4320 (11)       [   0.4320 (11) ]  \n",
      "              9      0.43203 (70)       [  0.43203 (70) ]  \n",
      "             10      0.54166 (54)       [  0.54166 (54) ]  \n",
      "             11      0.54898 (74)       [  0.54898 (74) ]  \n",
      "             12       0.5528 (17)       [   0.5528 (17) ]  \n",
      "             13       0.5538 (17)       [   0.5538 (17) ]  \n",
      "         a2DI 0      0.00515 (42)       [  0.00515 (42) ]  \n",
      "              1      0.00515 (42)       [  0.00515 (42) ]  \n",
      "              2      0.00515 (42)       [  0.00515 (42) ]  \n",
      "              3      0.00515 (42)       [  0.00515 (42) ]  \n",
      "              4       0.0312 (26)       [   0.0312 (26) ]  \n",
      "              5       0.0312 (26)       [   0.0312 (26) ]  \n",
      "              6       0.0312 (26)       [   0.0312 (26) ]  \n",
      "              7       0.0312 (26)       [   0.0312 (26) ]  \n",
      "              8       0.0312 (26)       [   0.0312 (26) ]  \n",
      "              9       0.0312 (26)       [   0.0312 (26) ]  \n",
      "             10        0.087 (11)       [    0.087 (11) ]  \n",
      "             11        0.087 (11)       [    0.087 (11) ]  \n",
      "             12        0.087 (11)       [    0.087 (11) ]  \n",
      "             13        0.087 (11)       [    0.087 (11) ]  \n",
      "\n",
      "Settings:\n",
      "  svdcut/n = 1e-12/14    tol = (1e-08*,1e-10,1e-10)    (itns/time = 47/1.3)\n",
      "  fitter = scipy_least_squares    method = trf\n",
      "\n"
     ]
    }
   ],
   "source": [
    "print bootstrapper.fits[0]"
   ]
  },
  {
   "cell_type": "code",
   "execution_count": null,
   "metadata": {
    "collapsed": true
   },
   "outputs": [],
   "source": []
  },
  {
   "cell_type": "markdown",
   "metadata": {},
   "source": [
    "### Or make all fits"
   ]
  },
  {
   "cell_type": "code",
   "execution_count": 13,
   "metadata": {
    "collapsed": true
   },
   "outputs": [],
   "source": [
    "p_dict = {\n",
    "    'order' : {\n",
    "        'latt_spacing' : 2, # no order 1 term -- starts at 2\n",
    "        'vol' : 8 # max 10\n",
    "    }, \n",
    "    'bs_N' : 1,  # if 0, use full list\n",
    "    'F2' : 'FKFpi', #'FKfpi', 'FpiFpi', 'FKFK'\n",
    "\n",
    "    'use_prior' : False,\n",
    "    'abbrs' : [u'a09m220', u'a09m310', u'a09m350', u'a09m400', u'a12m130',\n",
    "           u'a12m220',  u'a12m220S', u'a12m310', u'a12m350',\n",
    "           u'a12m400', u'a15m220', u'a15m310', u'a15m350', 'a15m400'],\n",
    "\n",
    "    'make_plots' : True,\n",
    "    'show_error_ellipses' : False,\n",
    "    'show_bs_histograms' : False,\n",
    "\n",
    "    'save_prior' : False,\n",
    "    'save_results' : True,\n",
    "}"
   ]
  },
  {
   "cell_type": "code",
   "execution_count": 14,
   "metadata": {
    "scrolled": true
   },
   "outputs": [
    {
     "name": "stdout",
     "output_type": "stream",
     "text": [
      "xpt nlo\n",
      "Using default prior.\n",
      "Making fits...\n",
      "100% complete Time (s):  0.271999835968\n",
      "Compiling results...\n",
      "Done.\n",
      "Saving...\n",
      "Done.\n",
      "\n",
      "Total time (s):  2.93600010872 \n",
      "\n",
      "xpt-taylor nlo\n",
      "Using default prior.\n",
      "Making fits...\n",
      "100% complete Time (s):  0.284999847412\n",
      "Compiling results...\n",
      "Done.\n",
      "Saving...\n",
      "Done.\n",
      "\n",
      "Total time (s):  2.95499992371 \n",
      "\n",
      "ma nlo\n",
      "Using default prior.\n",
      "Making fits...\n",
      "100% complete Time (s):  2.23399996758\n",
      "Compiling results...\n",
      "Done.\n",
      "Saving...\n",
      "Done.\n",
      "\n",
      "Total time (s):  6.32799983025 \n",
      "\n",
      "ma-taylor nlo\n",
      "Using default prior.\n",
      "Making fits...\n",
      "100% complete Time (s):  0.973999977112\n",
      "Compiling results...\n",
      "Done.\n",
      "Saving...\n",
      "Done.\n",
      "\n",
      "Total time (s):  4.74000000954 \n",
      "\n"
     ]
    }
   ],
   "source": [
    "for fit_type in ['xpt', 'xpt-taylor', 'ma', 'ma-taylor']:\n",
    "    for order_fit in ['nlo']: #['nlo', 'nnlo', 'nnnlo']:\n",
    "        \n",
    "        print fit_type, order_fit\n",
    "        \n",
    "        # Specify fit parameters\n",
    "        p_dict['order']['fit'] = order_fit\n",
    "        p_dict['fit_type'] = fit_type\n",
    "        \n",
    "        # Do fit\n",
    "        t0 = time.time()\n",
    "\n",
    "        # Load data\n",
    "        data_loader = dl.data_loader()\n",
    "        fit_data = data_loader.get_fit_data()\n",
    "\n",
    "        # Get prior\n",
    "        prior = None\n",
    "        if p_dict['use_prior']:\n",
    "            prior = data_loader.get_prior(p_dict['fit_type'])\n",
    "\n",
    "        # Make bootstrapper\n",
    "        bootstrapper = bs.bootstrapper(fit_data, prior=prior, order=p_dict['order'], F2=p_dict['F2'],\n",
    "                                       fit_type=p_dict['fit_type'], bs_N=p_dict['bs_N'], abbrs=p_dict['abbrs'])\n",
    "\n",
    "        if p_dict['make_plots']:\n",
    "            data_loader.save_plots(\n",
    "                bootstrapper.make_plots(\n",
    "                    show_error_ellipses=p_dict['show_error_ellipses'], \n",
    "                    show_bootstrap_histograms=p_dict['show_bs_histograms']),\n",
    "                output_filename=bootstrapper.fit_type+'_'+bootstrapper.order['fit']\n",
    "            )\n",
    "        else:\n",
    "            print bootstrapper\n",
    "\n",
    "        if p_dict['save_prior']:\n",
    "            print 'Saving prior...'\n",
    "            data_loader.save_prior(bootstrapper.create_prior_from_fit(), p_dict['fit_type'])\n",
    "\n",
    "        if p_dict['save_results']:\n",
    "            data_loader.save_fit_info(bootstrapper.get_fit_info())\n",
    "\n",
    "\n",
    "        t1 = time.time()\n",
    "\n",
    "        print \"\\nTotal time (s): \", t1 - t0, \"\\n\""
   ]
  },
  {
   "cell_type": "code",
   "execution_count": null,
   "metadata": {
    "collapsed": true
   },
   "outputs": [],
   "source": []
  },
  {
   "cell_type": "code",
   "execution_count": 92,
   "metadata": {
    "collapsed": true
   },
   "outputs": [],
   "source": [
    "#bootstrapper.plot_parameter_histogram('L_5')"
   ]
  },
  {
   "cell_type": "code",
   "execution_count": null,
   "metadata": {
    "collapsed": true
   },
   "outputs": [],
   "source": []
  },
  {
   "cell_type": "code",
   "execution_count": 86,
   "metadata": {
    "collapsed": true
   },
   "outputs": [],
   "source": [
    "#print bootstrapper"
   ]
  },
  {
   "cell_type": "code",
   "execution_count": 87,
   "metadata": {
    "collapsed": true,
    "scrolled": false
   },
   "outputs": [],
   "source": [
    "#print bootstrapper.fits[0]"
   ]
  },
  {
   "cell_type": "code",
   "execution_count": null,
   "metadata": {
    "collapsed": true
   },
   "outputs": [],
   "source": []
  },
  {
   "cell_type": "code",
   "execution_count": 214,
   "metadata": {
    "collapsed": true
   },
   "outputs": [],
   "source": [
    "#bootstrapper.fits[0].show_plots()"
   ]
  },
  {
   "cell_type": "code",
   "execution_count": null,
   "metadata": {
    "collapsed": true
   },
   "outputs": [],
   "source": []
  }
 ],
 "metadata": {
  "kernelspec": {
   "display_name": "Python 2",
   "language": "python",
   "name": "python2"
  },
  "language_info": {
   "codemirror_mode": {
    "name": "ipython",
    "version": 2
   },
   "file_extension": ".py",
   "mimetype": "text/x-python",
   "name": "python",
   "nbconvert_exporter": "python",
   "pygments_lexer": "ipython2",
   "version": "2.7.14"
  }
 },
 "nbformat": 4,
 "nbformat_minor": 2
}
