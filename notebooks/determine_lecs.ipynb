{
 "cells": [
  {
   "cell_type": "markdown",
   "metadata": {},
   "source": [
    "### Import Modules"
   ]
  },
  {
   "cell_type": "code",
   "execution_count": 157,
   "metadata": {},
   "outputs": [],
   "source": [
    "import numpy as np\n",
    "import gvar as gv\n",
    "import lsqfit\n",
    "import sys\n",
    "import os\n",
    "import matplotlib\n",
    "import matplotlib.pyplot as plt\n",
    "import pandas as pd\n",
    "import h5py\n",
    "import time\n",
    "from importlib import reload\n",
    "\n",
    "sys.path.append(\"../\")\n",
    "from fitter import data_loader as dl\n",
    "from fitter import bootstrapper as bs\n",
    "from fitter import fitter as fit\n",
    "from fitter import special_functions as sf\n",
    "\n",
    "for j in range(10): # Sometimes this needs to be loaded twice...\n",
    "    matplotlib.rcParams['figure.figsize'] = [10, 10]"
   ]
  },
  {
   "cell_type": "code",
   "execution_count": 216,
   "metadata": {},
   "outputs": [
    {
     "data": {
      "text/plain": [
       "<module 'fitter.bootstrapper' from '../fitter/bootstrapper.py'>"
      ]
     },
     "execution_count": 216,
     "metadata": {},
     "output_type": "execute_result"
    }
   ],
   "source": [
    "reload(dl)\n",
    "reload(sf)\n",
    "reload(fit)\n",
    "reload(bs)"
   ]
  },
  {
   "cell_type": "markdown",
   "metadata": {},
   "source": [
    "### Specify fit parameters"
   ]
  },
  {
   "cell_type": "code",
   "execution_count": 219,
   "metadata": {},
   "outputs": [],
   "source": [
    "p_dict = {\n",
    "    'order' : {\n",
    "        'fit' : 'nnlo', # 'nlo', 'nnlo'\n",
    "        'vol' : 10, # max 10\n",
    "        'exclude' : [], # put LECs here\n",
    "        \n",
    "        # semi-nnlo corrections\n",
    "        'include_alpha_s' : False,\n",
    "        'include_log' : True, \n",
    "        'include_log2' : True,\n",
    "        'include_sunset' : True,\n",
    "        \n",
    "        # nnnlo corrections\n",
    "        'include_latt_n3lo' : False,\n",
    "    }, \n",
    "    'fit_type' : 'xpt-ratio', #'ma', 'ma-ratio, 'xpt', or 'xpt-ratio'; experimental: 'simultaneous', 'ma-old'\n",
    "    'F2' : 'FpiFpi', #'FKFpi', 'FpiFpi', 'FKFK', 'F0F0' (HPQCD choice)\n",
    "    'use_bijnens_central_value' : True,\n",
    "    \n",
    "    'use_prior' : False,\n",
    "    'bias_correct' : True,\n",
    "    'include_su2_isospin_corrrection' : False,\n",
    "    'abbrs' : [u'a09m220', u'a09m310', u'a09m350', u'a09m400', u'a12m130',\n",
    "           u'a12m220',  u'a12m220S', u'a12m220L', u'a12m310', u'a12m350',\n",
    "           u'a12m400',  u'a15m135XL', u'a15m220', u'a15m310', u'a15m350', 'a15m400'], # u'a15m130'\n",
    "    \n",
    "    'make_plots' : False,\n",
    "    'show_error_ellipses' : False,\n",
    "    'show_bs_histograms' : False,\n",
    "    \n",
    "    'save_results' : False,\n",
    "}"
   ]
  },
  {
   "cell_type": "code",
   "execution_count": 220,
   "metadata": {},
   "outputs": [
    {
     "name": "stdout",
     "output_type": "stream",
     "text": [
      "Using default prior.\n",
      "Making fits...\n",
      "Done!\n",
      "100% complete\n",
      "Time (s):  5.322691202163696\n",
      "Compiling results...\n",
      "\n",
      "Model: xpt-ratio_FpiFpi_nnlo_log_logSq_sunset_FV_bijnens\n",
      "\n",
      "Fitting to nnlo \n",
      " with volume corrections O(10) \n",
      " chained: False \n",
      "Fitted/[FLAG] values at physical point (including SU(2) isospin corrections: False):\n",
      "\n",
      "F_K / F_pi = 1.1853(64) [1.1956(20)]   (delta_su2 = -0.00395(71))\n",
      "\n",
      "  Parameter    Result[0] / Prior[1]    Parameter    Result[0] / Prior[1]\n",
      "-----------------------------------  -----------------------------------\n",
      "      A_a 0              -3.03 (21)            1            -0.0031 (15)\n",
      "          1               0.0 (5.0)        L_4 0           -0.00092 (18)\n",
      "      A_k 0               4.3 (1.4)            1             0.0000 (50)\n",
      "          1               0.0 (5.0)        L_5 0           -0.00152 (47)\n",
      "      A_p 0              -1.7 (2.8)            1             0.0000 (50)\n",
      "          1               0.0 (5.0)        L_6 0           -0.00005 (10)\n",
      "      L_1 0            0.00030 (14)            1           -0.00006 (10)\n",
      "          1            0.00029 (14)        L_7 0           -0.00036 (17)\n",
      "      L_2 0            0.00035 (16)            1           -0.00034 (17)\n",
      "          1            0.00033 (16)        L_8 0            0.00020 (10)\n",
      "      L_3 0           -0.00164 (95)            1            0.00020 (10)\n",
      "---\n",
      "boot0 fit results:\n",
      "Least Square Fit:\n",
      "  chi2/dof [dof] = 0.71 [16]    Q = 0.78    logGBF = 62.818\n",
      "\n",
      "Settings:\n",
      "  svdcut/n = 1e-12/16    tol = (1e-08,1e-10,1e-10*)    (itns/time = 46/5.3)\n",
      "  fitter = scipy_least_squares    method = trf\n",
      "\n",
      "\n",
      "Total time (s):  6.598796844482422 \n",
      "\n"
     ]
    }
   ],
   "source": [
    "t0 = time.time()\n",
    "\n",
    "# Load data\n",
    "data_loader = dl.data_loader()\n",
    "fit_data = data_loader.get_fit_data()\n",
    "\n",
    "# Get prior\n",
    "prior = None\n",
    "if p_dict['use_prior']:\n",
    "    prior = data_loader.get_prior(fit_type=p_dict['fit_type'], order=p_dict['order']['fit'], F2=p_dict['F2'], \n",
    "                  include_log=p_dict['order']['include_log'], include_log2=p_dict['order']['include_log2'], \n",
    "                  include_sunset=p_dict['order']['include_sunset'], include_alpha_s=p_dict['order']['include_alpha_s'], \n",
    "                  include_latt_n3lo=p_dict['order']['include_latt_n3lo'], include_FV=(p_dict['order']['vol'] > 6), \n",
    "                  use_bijnens_central_value=p_dict['use_bijnens_central_value']\n",
    "             )\n",
    "    \n",
    "# Make bootstrapper\n",
    "bootstrapper = bs.bootstrapper(fit_data, prior=prior, **p_dict)\n",
    "\n",
    "if p_dict['make_plots']:\n",
    "    data_loader.save_plots(\n",
    "        bootstrapper.make_plots(\n",
    "            show_error_ellipses=p_dict['show_error_ellipses'], \n",
    "            show_bootstrap_histograms=p_dict['show_bs_histograms']),\n",
    "        output_filename='fits/'+bootstrapper.fit_type+'_'+bootstrapper.order['fit']\n",
    "    )\n",
    "else:\n",
    "    print(bootstrapper)\n",
    "    \n",
    "if p_dict['save_results']:\n",
    "    data_loader.save_fit_info(bootstrapper.get_fit_info())\n",
    "    \n",
    "    \n",
    "t1 = time.time()\n",
    "\n",
    "print(\"\\nTotal time (s): \", t1 - t0, \"\\n\")"
   ]
  },
  {
   "cell_type": "code",
   "execution_count": null,
   "metadata": {},
   "outputs": [],
   "source": []
  },
  {
   "cell_type": "code",
   "execution_count": null,
   "metadata": {},
   "outputs": [],
   "source": []
  },
  {
   "cell_type": "code",
   "execution_count": null,
   "metadata": {},
   "outputs": [],
   "source": []
  },
  {
   "cell_type": "code",
   "execution_count": null,
   "metadata": {},
   "outputs": [],
   "source": []
  },
  {
   "cell_type": "code",
   "execution_count": 5,
   "metadata": {},
   "outputs": [
    {
     "name": "stdout",
     "output_type": "stream",
     "text": [
      "1 + nlo 1.2098507616726104\n",
      "ct -0.08370923117181872\n",
      "extra ct 0.009271430036091247\n",
      "mu fix -0.0605200744906015\n",
      "FF 0.012421152702167185\n",
      "log 0.07901253947568393\n",
      "logSq 0.028598430896321657\n",
      "nnlo -0.014925752552156224\n",
      "p {'L_1': 0.000372, 'L_2': 0.000493, 'L_3': -0.00307, 'L_4': 8.9e-05, 'L_5': 0.000377, 'L_6': 1.1e-05, 'L_7': -0.00034, 'L_8': 0.000294, 'A_k': -3.0, 'A_p': 4.0, 'mpi': 135.0, 'mk': 495.5, 'Fpi': 92.2, 'FK': 110.5, 'lam2_chi': 1342398.8460313035}\n"
     ]
    },
    {
     "data": {
      "text/plain": [
       "1.1949250091204542"
      ]
     },
     "execution_count": 5,
     "metadata": {},
     "output_type": "execute_result"
    }
   ],
   "source": [
    "fit_data = {\n",
    "    'mpi' : 135.,\n",
    "    'mk' : 495.5,\n",
    "    'Fpi' : 92.2,\n",
    "    'FK' : 110.5\n",
    "}\n",
    "fit_data['lam2_chi'] = (4 *np.pi *fit_data['Fpi'])**2\n",
    "\n",
    "fit_parameters = {\n",
    "    'L_1' : 0.000372,\n",
    "    'L_2' : 0.000493,\n",
    "    'L_3' : -0.003070,\n",
    "    'L_4' : 0.000089,\n",
    "    'L_5' : 0.000377,\n",
    "    'L_6' : 0.000011,\n",
    "    'L_7' : -0.000340,\n",
    "    'L_8' : 0.000294,\n",
    "    'A_k' : -3.000000,\n",
    "    'A_p' : 4.000000\n",
    "}\n",
    "\n",
    "\n",
    "bootstrapper.fk_fpi_fit_fcn(fit_data=fit_data, fit_parameters=fit_parameters, debug=True)"
   ]
  },
  {
   "cell_type": "code",
   "execution_count": null,
   "metadata": {},
   "outputs": [],
   "source": []
  }
 ],
 "metadata": {
  "kernelspec": {
   "display_name": "Python 3",
   "language": "python",
   "name": "python3"
  },
  "language_info": {
   "codemirror_mode": {
    "name": "ipython",
    "version": 3
   },
   "file_extension": ".py",
   "mimetype": "text/x-python",
   "name": "python",
   "nbconvert_exporter": "python",
   "pygments_lexer": "ipython3",
   "version": "3.8.0"
  }
 },
 "nbformat": 4,
 "nbformat_minor": 2
}
