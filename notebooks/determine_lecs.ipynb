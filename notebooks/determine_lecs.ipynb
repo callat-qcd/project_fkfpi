{
 "cells": [
  {
   "cell_type": "markdown",
   "metadata": {},
   "source": [
    "### Import Modules"
   ]
  },
  {
   "cell_type": "code",
   "execution_count": 16,
   "metadata": {
    "collapsed": true
   },
   "outputs": [],
   "source": [
    "import numpy as np\n",
    "import gvar as gv\n",
    "import lsqfit\n",
    "import sys\n",
    "import os\n",
    "import matplotlib\n",
    "import matplotlib.pyplot as plt\n",
    "import pandas as pd\n",
    "import h5py\n",
    "import time\n",
    "\n",
    "sys.path.append(\"../\")\n",
    "from fitter import data_loader as dl\n",
    "from fitter import bootstrapper as bs\n",
    "from fitter import fitter as fit\n",
    "from fitter import special_functions as sf\n",
    "\n",
    "for j in range(10): # Sometimes this needs to be loaded twice...\n",
    "    matplotlib.rcParams['figure.figsize'] = [10, 10]"
   ]
  },
  {
   "cell_type": "code",
   "execution_count": 17,
   "metadata": {
    "collapsed": false
   },
   "outputs": [
    {
     "data": {
      "text/plain": [
       "<module 'fitter.special_functions' from '../fitter/special_functions.pyc'>"
      ]
     },
     "execution_count": 17,
     "metadata": {},
     "output_type": "execute_result"
    }
   ],
   "source": [
    "reload(bs)\n",
    "reload(dl)\n",
    "reload(fit)\n",
    "reload(sf)"
   ]
  },
  {
   "cell_type": "markdown",
   "metadata": {},
   "source": [
    "### Specify fit parameters"
   ]
  },
  {
   "cell_type": "code",
   "execution_count": 22,
   "metadata": {
    "collapsed": true
   },
   "outputs": [],
   "source": [
    "p_dict = {\n",
    "    'order' : {\n",
    "        'fit' : 'nnlo', # 'nlo', 'nnlo', or 'nnnlo'\n",
    "        'vol' : 0 # max 10\n",
    "    }, \n",
    "    'bs_N' : 1,  # if 0, use full list\n",
    "    'fit_type' : 'ma', #'ma', 'ma-taylor, 'xpt', or 'xpt-taylor'; also 'simultaneous', 'ma-old'\n",
    "    'F2' : 'FKFpi', #'FKfpi', 'FpiFpi', 'FKFK'\n",
    "    'chained' : False,\n",
    "    \n",
    "    'use_prior' : True,\n",
    "    'abbrs' : [u'a09m220', u'a09m310', u'a09m350', u'a09m400', u'a12m130',\n",
    "           u'a12m220',  u'a12m220S', u'a12m220L', u'a12m310', u'a12m350',\n",
    "           u'a12m400', u'a15m130', u'a15m220', u'a15m310', u'a15m350', 'a15m400'],\n",
    "    \n",
    "    'make_plots' : True,\n",
    "    'show_error_ellipses' : False,\n",
    "    'show_bs_histograms' : False,\n",
    "    \n",
    "    'save_prior' : False,\n",
    "    'save_results' : False,\n",
    "}"
   ]
  },
  {
   "cell_type": "markdown",
   "metadata": {},
   "source": [
    "### Do fit"
   ]
  },
  {
   "cell_type": "code",
   "execution_count": 21,
   "metadata": {
    "collapsed": false,
    "scrolled": false
   },
   "outputs": [
    {
     "name": "stdout",
     "output_type": "stream",
     "text": [
      "Making fits...\n",
      "100% complete Time (s):  0.598548173904\n",
      "Compiling results...\n",
      "\n",
      "\n",
      "Fit type: ma (F^2 = FKFpi, bsN = 1)\n",
      "\n",
      "Fitting to nnlo \n",
      " with volume corrections O(0) \n",
      " chained: False \n",
      "Fitted/[FLAG] values at physical point (including SU(2) isospin corrections):\n",
      "\n",
      "F_K / F_pi = 1.1856(71) [1.1932(19)]   (delta_su2 = -0.00211(28))\n",
      "\n",
      "  Parameter    Result[0] / Prior[1]    Parameter    Result[0] / Prior[1]\n",
      "-----------------------------------  -----------------------------------\n",
      "      L_5 0           -0.00058 (56)            1             0.0000 (10)\n",
      "          1             0.0000 (10)        A_a 0               1.5 (2.9)\n",
      "      A_k 0               3.6 (1.1)            1               0.0 (3.1)\n",
      "          1               0.0 (3.1)        A_p 0              -1.1 (1.7)\n",
      "      L_4 0            0.00015 (15)            1               0.0 (3.1)\n",
      "---\n",
      "boot0 fit results:\n",
      "Least Square Fit:\n",
      "  chi2/dof [dof] = 1.9 [16]    Q = 0.016    logGBF = 53.311\n",
      "\n",
      "Settings:\n",
      "  svdcut/n = 1e-12/0    tol = (1e-08,1e-10,1e-10*)    (itns/time = 8/0.4)\n",
      "  fitter = scipy_least_squares    method = trf\n",
      "\n",
      "\n",
      "Total time (s):  1.23556780815 \n",
      "\n"
     ]
    }
   ],
   "source": [
    "t0 = time.time()\n",
    "\n",
    "# Load data\n",
    "data_loader = dl.data_loader()\n",
    "fit_data = data_loader.get_fit_data()\n",
    "\n",
    "# Get prior\n",
    "prior = None\n",
    "if p_dict['use_prior']:\n",
    "    prior = data_loader.get_prior(p_dict['fit_type'])\n",
    "\n",
    "# Make bootstrapper\n",
    "bootstrapper = bs.bootstrapper(fit_data, prior=prior, order=p_dict['order'], F2=p_dict['F2'], chain_fits=p_dict['chained'],\n",
    "                               fit_type=p_dict['fit_type'], bs_N=p_dict['bs_N'], abbrs=p_dict['abbrs'])\n",
    "\n",
    "if p_dict['make_plots']:\n",
    "    data_loader.save_plots(\n",
    "        bootstrapper.make_plots(\n",
    "            show_error_ellipses=p_dict['show_error_ellipses'], \n",
    "            show_bootstrap_histograms=p_dict['show_bs_histograms']),\n",
    "        output_filename=bootstrapper.fit_type+'_'+bootstrapper.order['fit']\n",
    "    )\n",
    "else:\n",
    "    print bootstrapper\n",
    "    \n",
    "if p_dict['save_prior']:\n",
    "    print 'Saving prior...'\n",
    "    data_loader.save_prior(bootstrapper.create_prior_from_fit(), p_dict['fit_type'])\n",
    "    \n",
    "if p_dict['save_results']:\n",
    "    data_loader.save_fit_info(bootstrapper.get_fit_info())\n",
    "    \n",
    "    \n",
    "t1 = time.time()\n",
    "\n",
    "print \"\\nTotal time (s): \", t1 - t0, \"\\n\""
   ]
  },
  {
   "cell_type": "code",
   "execution_count": 18,
   "metadata": {
    "collapsed": false
   },
   "outputs": [
    {
     "data": {
      "text/plain": [
       "0.0000182(21)"
      ]
     },
     "execution_count": 18,
     "metadata": {},
     "output_type": "execute_result"
    }
   ],
   "source": [
    "eps2_p* eps2_p *(eps2_k - eps2_p)"
   ]
  },
  {
   "cell_type": "code",
   "execution_count": null,
   "metadata": {
    "collapsed": true
   },
   "outputs": [],
   "source": []
  },
  {
   "cell_type": "code",
   "execution_count": null,
   "metadata": {
    "collapsed": true
   },
   "outputs": [],
   "source": []
  },
  {
   "cell_type": "markdown",
   "metadata": {},
   "source": [
    "### Or make all fits"
   ]
  },
  {
   "cell_type": "code",
   "execution_count": 36,
   "metadata": {
    "collapsed": true
   },
   "outputs": [],
   "source": [
    "p_dict = {\n",
    "    'order' : {\n",
    "        'vol' : 8 # max 10\n",
    "    }, \n",
    "    'bs_N' : 1,  # if 0, use full list\n",
    "    'F2' : 'FKFpi', #'FKfpi', 'FpiFpi', 'FKFK'\n",
    "    'chained' : True,\n",
    "\n",
    "    'use_prior' : True,\n",
    "    'abbrs' : [u'a09m220', u'a09m310', u'a09m350', u'a09m400', u'a12m130',\n",
    "           u'a12m220', u'a12m220S', u'a12m220L', u'a12m310', u'a12m350',\n",
    "           u'a12m400', u'a15m130', u'a15m220', u'a15m310', u'a15m350', 'a15m400'], # \n",
    "\n",
    "    'make_plots' : True,\n",
    "    'show_error_ellipses' : False,\n",
    "    'show_bs_histograms' : False,\n",
    "\n",
    "    'save_prior' : False,\n",
    "    'save_results' : True,\n",
    "}"
   ]
  },
  {
   "cell_type": "code",
   "execution_count": 37,
   "metadata": {
    "collapsed": false,
    "scrolled": true
   },
   "outputs": [
    {
     "name": "stdout",
     "output_type": "stream",
     "text": [
      "xpt nlo\n",
      "Making fits...\n",
      "100% complete Time (s):  1.06042790413\n",
      "Compiling results...\n",
      "Done.\n",
      "Saving...\n",
      "Done.\n",
      "\n",
      "Total time (s):  10.8335719109 \n",
      "\n",
      "xpt nnlo\n",
      "Making fits...\n",
      "100% complete Time (s):  2.24040293694\n",
      "Compiling results...\n",
      "Done.\n",
      "Saving...\n",
      "Done.\n",
      "\n",
      "Total time (s):  13.4677140713 \n",
      "\n",
      "xpt nnnlo\n",
      "Making fits...\n",
      "100% complete Time (s):  7.63828396797\n",
      "Compiling results...\n",
      "Done.\n",
      "Saving...\n",
      "Done.\n",
      "\n",
      "Total time (s):  21.5267698765 \n",
      "\n",
      "xpt-taylor nlo\n",
      "Making fits...\n",
      "100% complete Time (s):  1.29018783569\n",
      "Compiling results...\n",
      "Done.\n",
      "Saving...\n",
      "Done.\n",
      "\n",
      "Total time (s):  9.58585500717 \n",
      "\n",
      "xpt-taylor nnlo\n",
      "Making fits...\n",
      "100% complete Time (s):  3.34227108955\n",
      "Compiling results...\n",
      "Done.\n",
      "Saving...\n",
      "Done.\n",
      "\n",
      "Total time (s):  12.7261469364 \n",
      "\n",
      "xpt-taylor nnnlo\n",
      "Making fits...\n",
      "100% complete Time (s):  4.56059002876\n",
      "Compiling results...\n",
      "Done.\n",
      "Saving...\n",
      "Done.\n",
      "\n",
      "Total time (s):  13.0083839893 \n",
      "\n",
      "ma nlo\n",
      "Making fits...\n",
      "100% complete Time (s):  2.08027505875\n",
      "Compiling results...\n",
      "Done.\n",
      "Saving...\n",
      "Done.\n",
      "\n",
      "Total time (s):  62.1392462254 \n",
      "\n",
      "ma nnlo\n",
      "Making fits...\n",
      "100% complete Time (s):  4.83484816551\n",
      "Compiling results...\n",
      "Done.\n",
      "Saving...\n",
      "Done.\n",
      "\n",
      "Total time (s):  62.4936361313 \n",
      "\n",
      "ma nnnlo\n",
      "Making fits...\n",
      "100% complete Time (s):  8.93022704124\n",
      "Compiling results...\n",
      "Done.\n",
      "Saving...\n",
      "Done.\n",
      "\n",
      "Total time (s):  69.6704828739 \n",
      "\n",
      "ma-taylor nlo\n",
      "Making fits...\n",
      "100% complete Time (s):  2.88041400909\n",
      "Compiling results...\n",
      "Done.\n",
      "Saving...\n",
      "Done.\n",
      "\n",
      "Total time (s):  52.9774229527 \n",
      "\n",
      "ma-taylor nnlo\n",
      "Making fits...\n",
      "100% complete Time (s):  4.54570293427\n",
      "Compiling results...\n",
      "Done.\n",
      "Saving...\n",
      "Done.\n",
      "\n",
      "Total time (s):  58.0198249817 \n",
      "\n",
      "ma-taylor nnnlo\n",
      "Making fits...\n",
      "100% complete Time (s):  7.75345110893\n",
      "Compiling results...\n",
      "Done.\n",
      "Saving...\n",
      "Done.\n",
      "\n",
      "Total time (s):  60.0775601864 \n",
      "\n"
     ]
    }
   ],
   "source": [
    "for fit_type in ['xpt', 'xpt-taylor', 'ma', 'ma-taylor']:#, 'ma-old']:\n",
    "    for order_fit in ['nlo', 'nnlo', 'nnnlo']:#, 'nnnlo']:\n",
    "        \n",
    "        print fit_type, order_fit\n",
    "        \n",
    "        # Specify fit parameters\n",
    "        p_dict['order']['fit'] = order_fit\n",
    "        p_dict['fit_type'] = fit_type\n",
    "        \n",
    "        # Do fit\n",
    "        t0 = time.time()\n",
    "\n",
    "        # Load data\n",
    "        data_loader = dl.data_loader()\n",
    "        fit_data = data_loader.get_fit_data()\n",
    "\n",
    "        # Get prior\n",
    "        prior = None\n",
    "        if p_dict['use_prior']:\n",
    "            prior = data_loader.get_prior(p_dict['fit_type'])\n",
    "\n",
    "        # Make bootstrapper\n",
    "        bootstrapper = bs.bootstrapper(fit_data, prior=prior, order=p_dict['order'], F2=p_dict['F2'], chain_fits=p_dict['chain_fits'],\n",
    "                                       fit_type=p_dict['fit_type'], bs_N=p_dict['bs_N'], abbrs=p_dict['abbrs'])\n",
    "\n",
    "        if p_dict['make_plots']:\n",
    "            data_loader.save_plots(\n",
    "                bootstrapper.make_plots(\n",
    "                    show_error_ellipses=p_dict['show_error_ellipses'], \n",
    "                    show_bootstrap_histograms=p_dict['show_bs_histograms']),\n",
    "                output_filename=bootstrapper.fit_type+'_'+bootstrapper.order['fit']\n",
    "            )\n",
    "        else:\n",
    "            print bootstrapper\n",
    "\n",
    "        if p_dict['save_prior']:\n",
    "            print 'Saving prior...'\n",
    "            data_loader.save_prior(bootstrapper.create_prior_from_fit(), p_dict['fit_type'])\n",
    "\n",
    "        if p_dict['save_results']:\n",
    "            data_loader.save_fit_info(bootstrapper.get_fit_info())\n",
    "\n",
    "\n",
    "        t1 = time.time()\n",
    "        \n",
    "        #print test(bootstrapper)\n",
    "\n",
    "        print \"\\nTotal time (s): \", t1 - t0, \"\\n\""
   ]
  },
  {
   "cell_type": "code",
   "execution_count": 38,
   "metadata": {
    "collapsed": true
   },
   "outputs": [],
   "source": [
    "#bootstrapper.fits[0].show_plots(view='std')"
   ]
  },
  {
   "cell_type": "code",
   "execution_count": null,
   "metadata": {
    "collapsed": true
   },
   "outputs": [],
   "source": []
  },
  {
   "cell_type": "code",
   "execution_count": null,
   "metadata": {
    "collapsed": true
   },
   "outputs": [],
   "source": []
  },
  {
   "cell_type": "code",
   "execution_count": null,
   "metadata": {
    "collapsed": true
   },
   "outputs": [],
   "source": []
  },
  {
   "cell_type": "code",
   "execution_count": null,
   "metadata": {
    "collapsed": true
   },
   "outputs": [],
   "source": []
  }
 ],
 "metadata": {
  "kernelspec": {
   "display_name": "Python 2",
   "language": "python",
   "name": "python2"
  },
  "language_info": {
   "codemirror_mode": {
    "name": "ipython",
    "version": 2
   },
   "file_extension": ".py",
   "mimetype": "text/x-python",
   "name": "python",
   "nbconvert_exporter": "python",
   "pygments_lexer": "ipython2",
   "version": "2.7.13"
  }
 },
 "nbformat": 4,
 "nbformat_minor": 2
}
