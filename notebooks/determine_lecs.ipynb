{
 "cells": [
  {
   "cell_type": "markdown",
   "metadata": {},
   "source": [
    "### Import Modules"
   ]
  },
  {
   "cell_type": "code",
   "execution_count": 196,
   "metadata": {
    "collapsed": true
   },
   "outputs": [],
   "source": [
    "import numpy as np\n",
    "import gvar as gv\n",
    "import lsqfit\n",
    "import sys\n",
    "import os\n",
    "import matplotlib\n",
    "import matplotlib.pyplot as plt\n",
    "import pandas as pd\n",
    "import h5py\n",
    "import time\n",
    "\n",
    "sys.path.append(\"../\")\n",
    "from fitter import data_loader as dl\n",
    "from fitter import bootstrapper as bs\n",
    "from fitter import fitter as fit\n",
    "from fitter import special_functions as sf\n",
    "\n",
    "matplotlib.rcParams['figure.figsize'] = [10, 10]"
   ]
  },
  {
   "cell_type": "code",
   "execution_count": 198,
   "metadata": {},
   "outputs": [
    {
     "data": {
      "text/plain": [
       "<module 'fitter.special_functions' from '../fitter\\special_functions.pyc'>"
      ]
     },
     "execution_count": 198,
     "metadata": {},
     "output_type": "execute_result"
    }
   ],
   "source": [
    "reload(bs)\n",
    "reload(dl)\n",
    "reload(fit)\n",
    "reload(sf)"
   ]
  },
  {
   "cell_type": "markdown",
   "metadata": {},
   "source": [
    "### Specify fit parameters"
   ]
  },
  {
   "cell_type": "code",
   "execution_count": 182,
   "metadata": {
    "collapsed": true
   },
   "outputs": [],
   "source": [
    "p_dict = {\n",
    "    'order' : {\n",
    "        'fit' : 'nnnlo', # 'nlo', 'nnlo', or 'nnnlo'\n",
    "        'vol' : 8 # max 10\n",
    "    }, \n",
    "    'bs_N' : 1,  # if 0, use full list\n",
    "    'fit_type' : 'ma-old', #'ma', 'ma-taylor, 'xpt', or 'xpt-taylor'; also 'simultaneous', 'ma-old'\n",
    "    'F2' : 'FKFpi', #'FKfpi', 'FpiFpi', 'FKFK'\n",
    "    \n",
    "    'use_prior' : False,\n",
    "    'abbrs' : [u'a09m220', u'a09m310', u'a09m350', u'a09m400', u'a12m130',\n",
    "           u'a12m220',  u'a12m220S', u'a12m310', u'a12m350',\n",
    "           u'a12m400', u'a15m220', u'a15m310', u'a15m350', 'a15m400'],\n",
    "    \n",
    "    'make_plots' : True,\n",
    "    'show_error_ellipses' : False,\n",
    "    'show_bs_histograms' : False,\n",
    "    \n",
    "    'save_prior' : False,\n",
    "    'save_results' : False,\n",
    "}"
   ]
  },
  {
   "cell_type": "markdown",
   "metadata": {},
   "source": [
    "### Do fit"
   ]
  },
  {
   "cell_type": "code",
   "execution_count": 183,
   "metadata": {
    "scrolled": false
   },
   "outputs": [
    {
     "name": "stdout",
     "output_type": "stream",
     "text": [
      "Using default prior.\n",
      "Making fits...\n",
      "100% complete Time (s):  16.745000124\n",
      "Compiling results...\n",
      "Done.\n",
      "\n",
      "Total time (s):  19.4849998951 \n",
      "\n"
     ]
    }
   ],
   "source": [
    "t0 = time.time()\n",
    "\n",
    "# Load data\n",
    "data_loader = dl.data_loader()\n",
    "fit_data = data_loader.get_fit_data()\n",
    "\n",
    "# Get prior\n",
    "prior = None\n",
    "if p_dict['use_prior']:\n",
    "    prior = data_loader.get_prior(p_dict['fit_type'])\n",
    "\n",
    "# Make bootstrapper\n",
    "bootstrapper = bs.bootstrapper(fit_data, prior=prior, order=p_dict['order'], F2=p_dict['F2'],\n",
    "                               fit_type=p_dict['fit_type'], bs_N=p_dict['bs_N'], abbrs=p_dict['abbrs'])\n",
    "\n",
    "if p_dict['make_plots']:\n",
    "    data_loader.save_plots(\n",
    "        bootstrapper.make_plots(\n",
    "            show_error_ellipses=p_dict['show_error_ellipses'], \n",
    "            show_bootstrap_histograms=p_dict['show_bs_histograms']),\n",
    "        output_filename=bootstrapper.fit_type+'_'+bootstrapper.order['fit']\n",
    "    )\n",
    "else:\n",
    "    print bootstrapper\n",
    "    \n",
    "if p_dict['save_prior']:\n",
    "    print 'Saving prior...'\n",
    "    data_loader.save_prior(bootstrapper.create_prior_from_fit(), p_dict['fit_type'])\n",
    "    \n",
    "if p_dict['save_results']:\n",
    "    data_loader.save_fit_info(bootstrapper.get_fit_info())\n",
    "    \n",
    "    \n",
    "t1 = time.time()\n",
    "\n",
    "print \"\\nTotal time (s): \", t1 - t0, \"\\n\""
   ]
  },
  {
   "cell_type": "code",
   "execution_count": null,
   "metadata": {
    "collapsed": true
   },
   "outputs": [],
   "source": []
  },
  {
   "cell_type": "markdown",
   "metadata": {},
   "source": [
    "### Or make all fits"
   ]
  },
  {
   "cell_type": "code",
   "execution_count": 199,
   "metadata": {
    "collapsed": true
   },
   "outputs": [],
   "source": [
    "p_dict = {\n",
    "    'order' : {\n",
    "        'vol' : 8 # max 10\n",
    "    }, \n",
    "    'bs_N' : 1,  # if 0, use full list\n",
    "    'F2' : 'FKFpi', #'FKfpi', 'FpiFpi', 'FKFK'\n",
    "\n",
    "    'use_prior' : False,\n",
    "    'abbrs' : [u'a09m220', u'a09m310', u'a09m350', u'a09m400', u'a12m130',\n",
    "           u'a12m220',  u'a12m220S', u'a12m310', u'a12m350',\n",
    "           u'a12m400', u'a15m220', u'a15m310', u'a15m350', 'a15m400'],\n",
    "\n",
    "    'make_plots' : True,\n",
    "    'show_error_ellipses' : False,\n",
    "    'show_bs_histograms' : False,\n",
    "\n",
    "    'save_prior' : False,\n",
    "    'save_results' : True,\n",
    "}"
   ]
  },
  {
   "cell_type": "code",
   "execution_count": 200,
   "metadata": {
    "scrolled": true
   },
   "outputs": [
    {
     "name": "stdout",
     "output_type": "stream",
     "text": [
      "xpt nlo\n",
      "Using default prior.\n",
      "Making fits...\n",
      "100% complete Time (s):  5.64100003242\n",
      "Compiling results...\n",
      "Done.\n",
      "Saving...\n",
      "Done.\n",
      "\n",
      "Total time (s):  8.38900017738 \n",
      "\n",
      "xpt nnlo\n",
      "Using default prior.\n",
      "Making fits...\n",
      "100% complete Time (s):  11.7650001049\n",
      "Compiling results...\n",
      "Done.\n",
      "Saving...\n",
      "Done.\n",
      "\n",
      "Total time (s):  14.7669999599 \n",
      "\n",
      "xpt nnnlo\n",
      "Using default prior.\n",
      "Making fits...\n",
      "100% complete Time (s):  19.2749998569\n",
      "Compiling results...\n",
      "Done.\n",
      "Saving...\n",
      "Done.\n",
      "\n",
      "Total time (s):  22.2400000095 \n",
      "\n",
      "xpt-taylor nlo\n",
      "Using default prior.\n",
      "Making fits...\n",
      "100% complete Time (s):  5.45999979973\n",
      "Compiling results...\n",
      "Done.\n",
      "Saving...\n",
      "Done.\n",
      "\n",
      "Total time (s):  8.4319999218 \n",
      "\n",
      "xpt-taylor nnlo\n",
      "Using default prior.\n",
      "Making fits...\n",
      "100% complete Time (s):  11.8489999771\n",
      "Compiling results...\n",
      "Done.\n",
      "Saving...\n",
      "Done.\n",
      "\n",
      "Total time (s):  14.6180000305 \n",
      "\n",
      "xpt-taylor nnnlo\n",
      "Using default prior.\n",
      "Making fits...\n",
      "100% complete Time (s):  19.5249998569\n",
      "Compiling results...\n",
      "Done.\n",
      "Saving...\n",
      "Done.\n",
      "\n",
      "Total time (s):  22.3990001678 \n",
      "\n",
      "ma nlo\n",
      "Using default prior.\n",
      "Making fits...\n",
      "100% complete Time (s):  6.67499995232\n",
      "Compiling results...\n",
      "Done.\n",
      "Saving...\n",
      "Done.\n",
      "\n",
      "Total time (s):  9.52099990845 \n",
      "\n",
      "ma nnlo\n",
      "Using default prior.\n",
      "Making fits...\n",
      "100% complete Time (s):  13.504999876\n",
      "Compiling results...\n",
      "Done.\n",
      "Saving...\n",
      "Done.\n",
      "\n",
      "Total time (s):  16.8970000744 \n",
      "\n",
      "ma nnnlo\n",
      "Using default prior.\n",
      "Making fits...\n",
      "100% complete Time (s):  21.870000124\n",
      "Compiling results...\n",
      "Done.\n",
      "Saving...\n",
      "Done.\n",
      "\n",
      "Total time (s):  25.7090001106 \n",
      "\n",
      "ma-taylor nlo\n",
      "Using default prior.\n",
      "Making fits...\n",
      "100% complete Time (s):  6.40300011635\n",
      "Compiling results...\n",
      "Done.\n",
      "Saving...\n",
      "Done.\n",
      "\n",
      "Total time (s):  9.20799994469 \n",
      "\n",
      "ma-taylor nnlo\n",
      "Using default prior.\n",
      "Making fits...\n",
      "100% complete Time (s):  13.7249999046\n",
      "Compiling results...\n",
      "Done.\n",
      "Saving...\n",
      "Done.\n",
      "\n",
      "Total time (s):  16.9719998837 \n",
      "\n",
      "ma-taylor nnnlo\n",
      "Using default prior.\n",
      "Making fits...\n",
      "100% complete Time (s):  22.3450000286\n",
      "Compiling results...\n",
      "Done.\n",
      "Saving...\n",
      "Done.\n",
      "\n",
      "Total time (s):  26.1499998569 \n",
      "\n",
      "ma-old nlo\n",
      "Using default prior.\n",
      "Making fits...\n",
      "100% complete Time (s):  5.66100001335\n",
      "Compiling results...\n",
      "Done.\n",
      "Saving...\n",
      "Done.\n",
      "\n",
      "Total time (s):  8.34000015259 \n",
      "\n",
      "ma-old nnlo\n",
      "Using default prior.\n",
      "Making fits...\n",
      "100% complete Time (s):  12.9150002003\n",
      "Compiling results...\n",
      "Done.\n",
      "Saving...\n",
      "Done.\n",
      "\n",
      "Total time (s):  15.5840001106 \n",
      "\n",
      "ma-old nnnlo\n",
      "Using default prior.\n",
      "Making fits...\n",
      "100% complete Time (s):  20.9650001526\n",
      "Compiling results...\n",
      "Done.\n",
      "Saving...\n",
      "Done.\n",
      "\n",
      "Total time (s):  23.9189999104 \n",
      "\n"
     ]
    }
   ],
   "source": [
    "for fit_type in ['xpt', 'xpt-taylor', 'ma', 'ma-taylor', 'ma-old']:\n",
    "    for order_fit in ['nlo', 'nnlo', 'nnnlo']:\n",
    "        \n",
    "        print fit_type, order_fit\n",
    "        \n",
    "        # Specify fit parameters\n",
    "        p_dict['order']['fit'] = order_fit\n",
    "        p_dict['fit_type'] = fit_type\n",
    "        \n",
    "        # Do fit\n",
    "        t0 = time.time()\n",
    "\n",
    "        # Load data\n",
    "        data_loader = dl.data_loader()\n",
    "        fit_data = data_loader.get_fit_data()\n",
    "\n",
    "        # Get prior\n",
    "        prior = None\n",
    "        if p_dict['use_prior']:\n",
    "            prior = data_loader.get_prior(p_dict['fit_type'])\n",
    "\n",
    "        # Make bootstrapper\n",
    "        bootstrapper = bs.bootstrapper(fit_data, prior=prior, order=p_dict['order'], F2=p_dict['F2'],\n",
    "                                       fit_type=p_dict['fit_type'], bs_N=p_dict['bs_N'], abbrs=p_dict['abbrs'])\n",
    "\n",
    "        if p_dict['make_plots']:\n",
    "            data_loader.save_plots(\n",
    "                bootstrapper.make_plots(\n",
    "                    show_error_ellipses=p_dict['show_error_ellipses'], \n",
    "                    show_bootstrap_histograms=p_dict['show_bs_histograms']),\n",
    "                output_filename=bootstrapper.fit_type+'_'+bootstrapper.order['fit']\n",
    "            )\n",
    "        else:\n",
    "            print bootstrapper\n",
    "\n",
    "        if p_dict['save_prior']:\n",
    "            print 'Saving prior...'\n",
    "            data_loader.save_prior(bootstrapper.create_prior_from_fit(), p_dict['fit_type'])\n",
    "\n",
    "        if p_dict['save_results']:\n",
    "            data_loader.save_fit_info(bootstrapper.get_fit_info())\n",
    "\n",
    "\n",
    "        t1 = time.time()\n",
    "\n",
    "        print \"\\nTotal time (s): \", t1 - t0, \"\\n\""
   ]
  },
  {
   "cell_type": "code",
   "execution_count": null,
   "metadata": {},
   "outputs": [],
   "source": [
    "#bootstrapper.fits[0].show_plots(view='std')"
   ]
  },
  {
   "cell_type": "code",
   "execution_count": 193,
   "metadata": {},
   "outputs": [
    {
     "name": "stdout",
     "output_type": "stream",
     "text": [
      "{'lam2_chi': array([0.328(40), 0.328(40), 0.328(40), 0.328(40), 0.624(75), 0.624(75),\n",
      "       0.624(75), 0.624(75), 0.624(75), 0.624(75), 0.98(12), 0.98(12),\n",
      "       0.98(12), 0.98(12)], dtype=object), 'mss': array([0.309362(74), 0.31169(11), 0.31244(11), 0.31327(11), 0.41421(11),\n",
      "       0.41539(12), 0.41576(14), 0.41802(16), 0.41970(13), 0.42073(13),\n",
      "       0.51496(13), 0.51876(16), 0.52008(22), 0.52193(22)], dtype=object), 'mrs': array([0.31126(21), 0.31500(29), 0.31598(53), 0.31589(61), 0.42721(34),\n",
      "       0.42800(34), 0.42800(34), 0.43046(43), 0.4320(11), 0.43203(70),\n",
      "       0.54166(54), 0.54898(74), 0.5528(17), 0.5538(17)], dtype=object), 'a2DI': array([0.00515(42), 0.00515(42), 0.00515(42), 0.00515(42), 0.0312(26),\n",
      "       0.0312(26), 0.0312(26), 0.0312(26), 0.0312(26), 0.0312(26),\n",
      "       0.087(11), 0.087(11), 0.087(11), 0.087(11)], dtype=object), 'mru': array([0.23284(39), 0.24688(51), 0.25278(61), 0.26040(81), 0.3261(14),\n",
      "       0.33158(91), 0.33158(91), 0.34390(98), 0.3519(28), 0.3621(12),\n",
      "       0.4308(16), 0.4508(12), 0.4591(37), 0.4710(20)], dtype=object), 'Fpi': array([0.042843(79), 0.045523(66), 0.046632(81), 0.048368(75), 0.05704(19),\n",
      "       0.05870(13), 0.05865(18), 0.06138(11), 0.06299(15), 0.06498(11),\n",
      "       0.072768(82), 0.075290(96), 0.07690(11), 0.07938(12)], dtype=object), 'a/w0': array([0.51050(30), 0.51050(30), 0.51050(30), 0.51050(30), 0.70360(50),\n",
      "       0.70360(50), 0.70360(50), 0.70360(50), 0.70360(50), 0.70360(50),\n",
      "       0.88040(30), 0.88040(30), 0.88040(30), 0.88040(30)], dtype=object), 'mk': array([0.228702(99), 0.24106(14), 0.24696(12), 0.25523(12), 0.30207(23),\n",
      "       0.31001(17), 0.31043(21), 0.32414(21), 0.33306(16), 0.34341(14),\n",
      "       0.38690(21), 0.40457(24), 0.41369(27), 0.42723(27)], dtype=object), 'mpi': array([0.097900(67), 0.14072(12), 0.15785(19), 0.18116(14), 0.08126(25),\n",
      "       0.13428(17), 0.13557(32), 0.18870(17), 0.21397(20), 0.24347(16),\n",
      "       0.16533(19), 0.23601(30), 0.26473(29), 0.30281(30)], dtype=object), 'mju': array([0.10893(27), 0.14810(37), 0.16553(67), 0.18736(90), 0.1493(13),\n",
      "       0.17710(88), 0.17710(88), 0.21894(91), 0.2404(13), 0.2679(16),\n",
      "       0.2557(21), 0.3061(13), 0.3310(35), 0.3595(24)], dtype=object), 'mjs': array([0.23001(34), 0.24267(42), 0.24995(82), 0.2575(12), 0.30821(87),\n",
      "       0.31875(79), 0.31875(79), 0.3345(10), 0.3454(17), 0.3548(11),\n",
      "       0.41085(99), 0.43463(93), 0.4465(30), 0.4582(36)], dtype=object), 'y': [1.1434(28), 1.1101(24), 1.0994(23), 1.0810(22), 1.1600(52), 1.1306(32), 1.1378(40), 1.1033(26), 1.0876(28), 1.0739(22), 1.1263(19), 1.1015(19), 1.0884(19), 1.0713(20)], 'FK': array([0.048988(82), 0.050533(80), 0.051268(64), 0.052287(67), 0.06616(20),\n",
      "       0.06636(11), 0.06673(11), 0.06772(10), 0.068511(74), 0.069786(74),\n",
      "       0.08196(11), 0.082934(93), 0.083701(83), 0.085036(91)], dtype=object), 'L': array([48.00000(48), 32.00000(32), 32.00000(32), 32.00000(32),\n",
      "       48.00000(48), 32.00000(32), 24.00000(24), 24.00000(24),\n",
      "       24.00000(24), 24.00000(24), 24.00000(24), 16.00000(16),\n",
      "       16.00000(16), 16.00000(16)], dtype=object)}\n"
     ]
    }
   ],
   "source": [
    "print bootstrapper._make_fit_data(0)"
   ]
  },
  {
   "cell_type": "code",
   "execution_count": null,
   "metadata": {
    "collapsed": true
   },
   "outputs": [],
   "source": []
  }
 ],
 "metadata": {
  "kernelspec": {
   "display_name": "Python 2",
   "language": "python",
   "name": "python2"
  },
  "language_info": {
   "codemirror_mode": {
    "name": "ipython",
    "version": 2
   },
   "file_extension": ".py",
   "mimetype": "text/x-python",
   "name": "python",
   "nbconvert_exporter": "python",
   "pygments_lexer": "ipython2",
   "version": "2.7.14"
  }
 },
 "nbformat": 4,
 "nbformat_minor": 2
}
