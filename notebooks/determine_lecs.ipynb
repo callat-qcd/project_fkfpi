{
 "cells": [
  {
   "cell_type": "markdown",
   "metadata": {},
   "source": [
    "### Import Modules"
   ]
  },
  {
   "cell_type": "code",
   "execution_count": 7,
   "metadata": {
    "collapsed": true
   },
   "outputs": [],
   "source": [
    "import numpy as np\n",
    "import gvar as gv\n",
    "import lsqfit\n",
    "import sys\n",
    "import os\n",
    "import matplotlib\n",
    "import matplotlib.pyplot as plt\n",
    "import pandas as pd\n",
    "import h5py\n",
    "import time\n",
    "\n",
    "sys.path.append(\"../\")\n",
    "from fitter import data_loader as dl\n",
    "from fitter import bootstrapper as bs\n",
    "from fitter import fitter as fit\n",
    "from fitter import special_functions as sf\n",
    "\n",
    "matplotlib.rcParams['figure.figsize'] = [10, 10]"
   ]
  },
  {
   "cell_type": "code",
   "execution_count": 22,
   "metadata": {
    "collapsed": false
   },
   "outputs": [
    {
     "data": {
      "text/plain": [
       "<module 'fitter.special_functions' from '../fitter/special_functions.pyc'>"
      ]
     },
     "execution_count": 22,
     "metadata": {},
     "output_type": "execute_result"
    }
   ],
   "source": [
    "reload(bs)\n",
    "reload(dl)\n",
    "reload(fit)\n",
    "reload(sf)"
   ]
  },
  {
   "cell_type": "markdown",
   "metadata": {},
   "source": [
    "### Specify fit parameters"
   ]
  },
  {
   "cell_type": "code",
   "execution_count": 26,
   "metadata": {
    "collapsed": true
   },
   "outputs": [],
   "source": [
    "p_dict = {\n",
    "    'order' : {\n",
    "        'fit' : 'nnlo', # 'nlo', 'nnlo', or 'nnnlo'\n",
    "        'vol' : 8 # max 10\n",
    "    }, \n",
    "    'bs_N' : 1,  # if 0, use full list\n",
    "    'fit_type' : 'ma', #'ma', 'ma-taylor, 'xpt', or 'xpt-taylor'; also 'simultaneous', 'ma-old'\n",
    "    'F2' : 'FKFpi', #'FKfpi', 'FpiFpi', 'FKFK'\n",
    "    \n",
    "    'use_prior' : False,\n",
    "    'abbrs' : [u'a09m220', u'a09m310', u'a09m350', u'a09m400', u'a12m130',\n",
    "           u'a12m220',  u'a12m220S', u'a12m310', u'a12m350',\n",
    "           u'a12m400', u'a15m220', u'a15m310', u'a15m350', 'a15m400'],\n",
    "    \n",
    "    'make_plots' : True,\n",
    "    'show_error_ellipses' : False,\n",
    "    'show_bs_histograms' : False,\n",
    "    \n",
    "    'save_prior' : False,\n",
    "    'save_results' : False,\n",
    "}"
   ]
  },
  {
   "cell_type": "markdown",
   "metadata": {},
   "source": [
    "### Do fit"
   ]
  },
  {
   "cell_type": "code",
   "execution_count": 27,
   "metadata": {
    "collapsed": false,
    "scrolled": true
   },
   "outputs": [
    {
     "name": "stdout",
     "output_type": "stream",
     "text": [
      "Using default prior.\n",
      "Making fits...\n",
      "100% complete Time (s):  2.21654176712\n",
      "Compiling results...\n",
      "Done.\n",
      "\n",
      "Total time (s):  6.35343599319 \n",
      "\n"
     ]
    }
   ],
   "source": [
    "t0 = time.time()\n",
    "\n",
    "# Load data\n",
    "data_loader = dl.data_loader()\n",
    "fit_data = data_loader.get_fit_data()\n",
    "\n",
    "# Get prior\n",
    "prior = None\n",
    "if p_dict['use_prior']:\n",
    "    prior = data_loader.get_prior(p_dict['fit_type'])\n",
    "\n",
    "# Make bootstrapper\n",
    "bootstrapper = bs.bootstrapper(fit_data, prior=prior, order=p_dict['order'], F2=p_dict['F2'],\n",
    "                               fit_type=p_dict['fit_type'], bs_N=p_dict['bs_N'], abbrs=p_dict['abbrs'])\n",
    "\n",
    "if p_dict['make_plots']:\n",
    "    data_loader.save_plots(\n",
    "        bootstrapper.make_plots(\n",
    "            show_error_ellipses=p_dict['show_error_ellipses'], \n",
    "            show_bootstrap_histograms=p_dict['show_bs_histograms']),\n",
    "        output_filename=bootstrapper.fit_type+'_'+bootstrapper.order['fit']\n",
    "    )\n",
    "else:\n",
    "    print bootstrapper\n",
    "    \n",
    "if False: #p_dict['save_prior']:\n",
    "    print 'Saving prior...'\n",
    "    data_loader.save_prior(bootstrapper.create_prior_from_fit(), p_dict['fit_type'])\n",
    "    \n",
    "if p_dict['save_results']:\n",
    "    data_loader.save_fit_info(bootstrapper.get_fit_info())\n",
    "    \n",
    "    \n",
    "t1 = time.time()\n",
    "\n",
    "print \"\\nTotal time (s): \", t1 - t0, \"\\n\""
   ]
  },
  {
   "cell_type": "code",
   "execution_count": 66,
   "metadata": {
    "collapsed": false
   },
   "outputs": [
    {
     "data": {
      "text/plain": [
       "0.9682(30)"
      ]
     },
     "execution_count": 66,
     "metadata": {},
     "output_type": "execute_result"
    }
   ],
   "source": [
    "def test(self):\n",
    "    temp_prior  = {}\n",
    "    for key in self.get_fit_parameters().keys():\n",
    "        #temp_prior[key] = gv.gvar(0, 0)\n",
    "        if True: #key in ['L_5']:\n",
    "            value = np.random.normal(gv.mean(self.get_fit_parameters(key)), gv.sdev(self.get_fit_parameters(key)))\n",
    "            temp_prior[key] = value\n",
    "        \n",
    "    return self.fk_fpi_fit_fcn(fit_parameters=temp_prior)\n",
    "\n",
    "test(bootstrapper)"
   ]
  },
  {
   "cell_type": "code",
   "execution_count": 76,
   "metadata": {
    "collapsed": false
   },
   "outputs": [
    {
     "data": {
      "text/plain": [
       "1.1745(47)"
      ]
     },
     "execution_count": 76,
     "metadata": {},
     "output_type": "execute_result"
    }
   ],
   "source": [
    "myarray = [test(bootstrapper) for j in range(100)]\n",
    "np.median(myarray)"
   ]
  },
  {
   "cell_type": "code",
   "execution_count": null,
   "metadata": {
    "collapsed": true
   },
   "outputs": [],
   "source": []
  },
  {
   "cell_type": "code",
   "execution_count": 116,
   "metadata": {
    "collapsed": false
   },
   "outputs": [
    {
     "name": "stdout",
     "output_type": "stream",
     "text": [
      "A_ap is hopeless: -0.00001(18) vs 0.00106834119412\n",
      "A_ak is hopeless: -0.00004(53) vs 0.00106834119412\n",
      "A_aa is hopeless: -2(1035)e-08 vs 0.00106834119412\n"
     ]
    }
   ],
   "source": [
    "def test(self):\n",
    "    temp_data = self._make_fit_data(0)\n",
    "    eps2_a = np.median((temp_data['a/w0'] / (4 *np.pi))**2)\n",
    "    eps2_k = np.median((temp_data['mk'])**2 / temp_data['lam2_chi'])\n",
    "    eps2_pi = np.median((temp_data['mpi'])**2 / temp_data['lam2_chi'])\n",
    "    temp = self.fits[0].fcn_p\n",
    "    fk_fpi = (np.median(temp[temp.keys()[0]]))\n",
    "    \n",
    "    for key in self.get_fit_parameters():\n",
    "        value = 0\n",
    "        if key == 'A_a':\n",
    "            value = self.get_fit_parameters(key) *eps2_a\n",
    "            \n",
    "        elif key == 'A_k':\n",
    "            value = self.get_fit_parameters(key) *eps2_k\n",
    "            \n",
    "        elif key == 'A_p':\n",
    "            value = self.get_fit_parameters(key) *eps2_pi\n",
    "        \n",
    "        elif key == 'A_aa':\n",
    "            value = self.get_fit_parameters(key) *eps2_a**2\n",
    "            \n",
    "        elif key == 'A_ak':\n",
    "            value = self.get_fit_parameters(key) *eps2_a *eps2_k\n",
    "            \n",
    "        elif key == 'A_ap':\n",
    "            value = self.get_fit_parameters(key) *eps2_a *eps2_pi\n",
    "            \n",
    "        elif key == 'A_kk':\n",
    "            value = self.get_fit_parameters(key) *eps2_k**2\n",
    "            \n",
    "        elif key == 'A_kp':\n",
    "            value = self.get_fit_parameters(key) *eps2_k *eps2_pi\n",
    "            \n",
    "        elif key == 'A_pp':\n",
    "            value = self.get_fit_parameters(key) *eps2_pi**2\n",
    "        \n",
    "        value = value *(eps2_k - eps2_pi)\n",
    "        if key not in ['L_4', 'L_5']:\n",
    "            if ((np.abs(gv.mean(value)+gv.sdev(value)) < gv.sdev(fk_fpi)) \n",
    "                    and (np.abs(gv.mean(value)-gv.sdev(value)) < gv.sdev(fk_fpi))):\n",
    "                print key, \"is hopeless:\", value, 'vs', gv.sdev(fk_fpi)\n",
    "    \n",
    "test(bootstrapper)"
   ]
  },
  {
   "cell_type": "code",
   "execution_count": null,
   "metadata": {
    "collapsed": true
   },
   "outputs": [],
   "source": []
  },
  {
   "cell_type": "markdown",
   "metadata": {},
   "source": [
    "### Or make all fits"
   ]
  },
  {
   "cell_type": "code",
   "execution_count": 30,
   "metadata": {
    "collapsed": true
   },
   "outputs": [],
   "source": [
    "p_dict = {\n",
    "    'order' : {\n",
    "        'vol' : 8 # max 10\n",
    "    }, \n",
    "    'bs_N' : 1,  # if 0, use full list\n",
    "    'F2' : 'FKFpi', #'FKfpi', 'FpiFpi', 'FKFK'\n",
    "\n",
    "    'use_prior' : False,\n",
    "    'abbrs' : [u'a09m220', u'a09m310', u'a09m350', u'a09m400', u'a12m130',\n",
    "           u'a12m220',  u'a12m220S', u'a12m310', u'a12m350',\n",
    "           u'a12m400', u'a15m220', u'a15m310', u'a15m350', 'a15m400'],\n",
    "\n",
    "    'make_plots' : True,\n",
    "    'show_error_ellipses' : False,\n",
    "    'show_bs_histograms' : False,\n",
    "\n",
    "    'save_prior' : False,\n",
    "    'save_results' : True,\n",
    "}"
   ]
  },
  {
   "cell_type": "code",
   "execution_count": 31,
   "metadata": {
    "collapsed": false,
    "scrolled": true
   },
   "outputs": [
    {
     "name": "stdout",
     "output_type": "stream",
     "text": [
      "xpt nlo\n",
      "Using default prior.\n",
      "Making fits...\n",
      "100% complete Time (s):  1.42708206177\n",
      "Compiling results...\n",
      "Done.\n",
      "Saving...\n",
      "Done.\n",
      "1.1335(13)\n",
      "\n",
      "Total time (s):  4.09499597549 \n",
      "\n",
      "xpt nnlo\n",
      "Using default prior.\n",
      "Making fits...\n",
      "100% complete Time (s):  1.88571190834\n",
      "Compiling results...\n",
      "Done.\n",
      "Saving...\n",
      "Done.\n",
      "1.1335(13)\n",
      "\n",
      "Total time (s):  4.6727180481 \n",
      "\n",
      "xpt nnnlo\n",
      "Using default prior.\n",
      "Making fits...\n",
      "100% complete Time (s):  1.98129487038\n",
      "Compiling results...\n",
      "Done.\n",
      "Saving...\n",
      "Done.\n",
      "1.1335(13)\n",
      "\n",
      "Total time (s):  4.87654495239 \n",
      "\n",
      "xpt-taylor nlo\n",
      "Using default prior.\n",
      "Making fits...\n",
      "100% complete Time (s):  2.09442901611\n",
      "Compiling results...\n",
      "Done.\n",
      "Saving...\n",
      "Done.\n",
      "1.1598(21)\n",
      "\n",
      "Total time (s):  5.65817093849 \n",
      "\n",
      "xpt-taylor nnlo\n",
      "Using default prior.\n",
      "Making fits...\n",
      "100% complete Time (s):  1.99474477768\n",
      "Compiling results...\n",
      "Done.\n",
      "Saving...\n",
      "Done.\n",
      "1.1598(21)\n",
      "\n",
      "Total time (s):  5.16720604897 \n",
      "\n",
      "xpt-taylor nnnlo\n",
      "Using default prior.\n",
      "Making fits...\n",
      "100% complete Time (s):  2.02389597893\n",
      "Compiling results...\n",
      "Done.\n",
      "Saving...\n",
      "Done.\n",
      "1.1598(21)\n",
      "\n",
      "Total time (s):  5.0934882164 \n",
      "\n",
      "ma nlo\n",
      "Using default prior.\n",
      "Making fits...\n",
      "100% complete Time (s):  2.61535906792\n",
      "Compiling results...\n",
      "Done.\n",
      "Saving...\n",
      "Done.\n",
      "1.1335(13)\n",
      "\n",
      "Total time (s):  7.08528494835 \n",
      "\n",
      "ma nnlo\n",
      "Using default prior.\n",
      "Making fits...\n",
      "100% complete Time (s):  3.18785190582\n",
      "Compiling results...\n",
      "Done.\n",
      "Saving...\n",
      "Done.\n",
      "1.1335(13)\n",
      "\n",
      "Total time (s):  7.74633002281 \n",
      "\n",
      "ma nnnlo\n",
      "Using default prior.\n",
      "Making fits...\n",
      "100% complete Time (s):  4.14833807945\n",
      "Compiling results...\n",
      "Done.\n",
      "Saving...\n",
      "Done.\n",
      "1.1335(13)\n",
      "\n",
      "Total time (s):  8.75713205338 \n",
      "\n",
      "ma-taylor nlo\n",
      "Using default prior.\n",
      "Making fits...\n",
      "100% complete Time (s):  2.42656803131\n",
      "Compiling results...\n",
      "Done.\n",
      "Saving...\n",
      "Done.\n",
      "1.1598(21)\n",
      "\n",
      "Total time (s):  7.03801703453 \n",
      "\n",
      "ma-taylor nnlo\n",
      "Using default prior.\n",
      "Making fits...\n",
      "100% complete Time (s):  3.12096095085\n",
      "Compiling results...\n",
      "Done.\n",
      "Saving...\n",
      "Done.\n",
      "1.1598(21)\n",
      "\n",
      "Total time (s):  8.69452595711 \n",
      "\n",
      "ma-taylor nnnlo\n",
      "Using default prior.\n",
      "Making fits...\n",
      "100% complete Time (s):  3.89947080612\n",
      "Compiling results...\n",
      "Done.\n",
      "Saving...\n",
      "Done.\n",
      "1.1598(21)\n",
      "\n",
      "Total time (s):  8.60468792915 \n",
      "\n",
      "ma-old nlo\n",
      "Using default prior.\n",
      "Making fits...\n",
      "100% complete Time (s):  1.72044301033\n",
      "Compiling results...\n",
      "Done.\n",
      "Saving...\n",
      "Done.\n",
      "1.1598(21)\n",
      "\n",
      "Total time (s):  4.92555499077 \n",
      "\n",
      "ma-old nnlo\n",
      "Using default prior.\n",
      "Making fits...\n",
      "100% complete Time (s):  1.99124598503\n",
      "Compiling results...\n",
      "Done.\n",
      "Saving...\n",
      "Done.\n",
      "1.1598(21)\n",
      "\n",
      "Total time (s):  5.07293510437 \n",
      "\n",
      "ma-old nnnlo\n",
      "Using default prior.\n",
      "Making fits...\n",
      "100% complete Time (s):  2.70180606842\n",
      "Compiling results...\n",
      "Done.\n",
      "Saving...\n",
      "Done.\n",
      "1.1598(21)\n",
      "\n",
      "Total time (s):  5.7664809227 \n",
      "\n"
     ]
    }
   ],
   "source": [
    "for fit_type in ['xpt', 'xpt-taylor', 'ma', 'ma-taylor', 'ma-old']:\n",
    "    for order_fit in ['nlo', 'nnlo', 'nnnlo']:\n",
    "        \n",
    "        print fit_type, order_fit\n",
    "        \n",
    "        # Specify fit parameters\n",
    "        p_dict['order']['fit'] = order_fit\n",
    "        p_dict['fit_type'] = fit_type\n",
    "        \n",
    "        # Do fit\n",
    "        t0 = time.time()\n",
    "\n",
    "        # Load data\n",
    "        data_loader = dl.data_loader()\n",
    "        fit_data = data_loader.get_fit_data()\n",
    "\n",
    "        # Get prior\n",
    "        prior = None\n",
    "        if p_dict['use_prior']:\n",
    "            prior = data_loader.get_prior(p_dict['fit_type'])\n",
    "\n",
    "        # Make bootstrapper\n",
    "        bootstrapper = bs.bootstrapper(fit_data, prior=prior, order=p_dict['order'], F2=p_dict['F2'],\n",
    "                                       fit_type=p_dict['fit_type'], bs_N=p_dict['bs_N'], abbrs=p_dict['abbrs'])\n",
    "\n",
    "        if p_dict['make_plots']:\n",
    "            data_loader.save_plots(\n",
    "                bootstrapper.make_plots(\n",
    "                    show_error_ellipses=p_dict['show_error_ellipses'], \n",
    "                    show_bootstrap_histograms=p_dict['show_bs_histograms']),\n",
    "                output_filename=bootstrapper.fit_type+'_'+bootstrapper.order['fit']\n",
    "            )\n",
    "        else:\n",
    "            print bootstrapper\n",
    "\n",
    "        if p_dict['save_prior']:\n",
    "            print 'Saving prior...'\n",
    "            data_loader.save_prior(bootstrapper.create_prior_from_fit(), p_dict['fit_type'])\n",
    "\n",
    "        if p_dict['save_results']:\n",
    "            data_loader.save_fit_info(bootstrapper.get_fit_info())\n",
    "\n",
    "\n",
    "        t1 = time.time()\n",
    "        \n",
    "        print test(bootstrapper)\n",
    "\n",
    "        print \"\\nTotal time (s): \", t1 - t0, \"\\n\""
   ]
  },
  {
   "cell_type": "code",
   "execution_count": 38,
   "metadata": {
    "collapsed": true
   },
   "outputs": [],
   "source": [
    "#bootstrapper.fits[0].show_plots(view='std')"
   ]
  },
  {
   "cell_type": "code",
   "execution_count": 33,
   "metadata": {
    "collapsed": false
   },
   "outputs": [
    {
     "data": {
      "text/plain": [
       "-1.4(7.9)"
      ]
     },
     "execution_count": 33,
     "metadata": {},
     "output_type": "execute_result"
    }
   ],
   "source": [
    "a = gv.gvar(0.8, 4)\n",
    "b = gv.gvar(0.5, 1)\n",
    "c = gv.gvar(-3.4, 7.2)\n",
    "\n",
    "a*b*c"
   ]
  },
  {
   "cell_type": "code",
   "execution_count": null,
   "metadata": {
    "collapsed": true
   },
   "outputs": [],
   "source": []
  }
 ],
 "metadata": {
  "kernelspec": {
   "display_name": "Python 2",
   "language": "python",
   "name": "python2"
  },
  "language_info": {
   "codemirror_mode": {
    "name": "ipython",
    "version": 2
   },
   "file_extension": ".py",
   "mimetype": "text/x-python",
   "name": "python",
   "nbconvert_exporter": "python",
   "pygments_lexer": "ipython2",
   "version": "2.7.13"
  }
 },
 "nbformat": 4,
 "nbformat_minor": 2
}
