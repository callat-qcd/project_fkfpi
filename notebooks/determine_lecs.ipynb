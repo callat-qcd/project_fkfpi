{
 "cells": [
  {
   "cell_type": "markdown",
   "metadata": {},
   "source": [
    "### Import Modules"
   ]
  },
  {
   "cell_type": "code",
   "execution_count": 81,
   "metadata": {
    "collapsed": true
   },
   "outputs": [],
   "source": [
    "import numpy as np\n",
    "import gvar as gv\n",
    "import lsqfit\n",
    "import sys\n",
    "import os\n",
    "import matplotlib\n",
    "import matplotlib.pyplot as plt\n",
    "import pandas as pd\n",
    "import h5py\n",
    "import time\n",
    "\n",
    "sys.path.append(\"../\")\n",
    "from fitter import data_loader as dl\n",
    "from fitter import bootstrapper as bs\n",
    "from fitter import fitter as fit\n",
    "from fitter import special_functions as sf\n",
    "\n",
    "for j in range(10): # Sometimes this needs to be loaded twice...\n",
    "    matplotlib.rcParams['figure.figsize'] = [10, 10]"
   ]
  },
  {
   "cell_type": "code",
   "execution_count": 82,
   "metadata": {},
   "outputs": [
    {
     "data": {
      "text/plain": [
       "<module 'fitter.special_functions' from '../fitter\\special_functions.pyc'>"
      ]
     },
     "execution_count": 82,
     "metadata": {},
     "output_type": "execute_result"
    }
   ],
   "source": [
    "reload(bs)\n",
    "reload(dl)\n",
    "reload(fit)\n",
    "reload(sf)"
   ]
  },
  {
   "cell_type": "markdown",
   "metadata": {},
   "source": [
    "### Specify fit parameters"
   ]
  },
  {
   "cell_type": "code",
   "execution_count": 83,
   "metadata": {
    "collapsed": true
   },
   "outputs": [],
   "source": [
    "p_dict = {\n",
    "    'order' : {\n",
    "        'fit' : 'nlo', # 'nlo', 'nnlo', or 'nnnlo'\n",
    "        'vol' : 0 # max 10\n",
    "    }, \n",
    "    'bs_N' : 1,  # if 0, use full list\n",
    "    'fit_type' : 'ma-taylor', #'ma', 'ma-taylor, 'xpt', or 'xpt-taylor'; also 'simultaneous', 'ma-old'\n",
    "    'F2' : 'FKFpi', #'FKfpi', 'FpiFpi', 'FKFK'\n",
    "    \n",
    "    'use_prior' : False,\n",
    "    'abbrs' : [u'a09m220', u'a09m310', u'a09m350', u'a09m400', u'a12m130',\n",
    "           u'a12m220',  u'a12m220S', u'a12m220L', u'a12m310', u'a12m350',\n",
    "           u'a12m400', u'a15m130', u'a15m220', u'a15m310', u'a15m350', 'a15m400'],\n",
    "    \n",
    "    'make_plots' : True,\n",
    "    'show_error_ellipses' : False,\n",
    "    'show_bs_histograms' : False,\n",
    "    \n",
    "    'save_prior' : False,\n",
    "    'save_results' : False,\n",
    "}"
   ]
  },
  {
   "cell_type": "markdown",
   "metadata": {},
   "source": [
    "### Do fit"
   ]
  },
  {
   "cell_type": "code",
   "execution_count": 84,
   "metadata": {
    "scrolled": true
   },
   "outputs": [
    {
     "name": "stdout",
     "output_type": "stream",
     "text": [
      "Using default prior.\n",
      "Making fits...\n",
      "100% complete Time (s):  0.868000030518\n",
      "Compiling results...\n",
      "Done.\n",
      "\n",
      "Total time (s):  11.7409999371 \n",
      "\n"
     ]
    }
   ],
   "source": [
    "t0 = time.time()\n",
    "\n",
    "# Load data\n",
    "data_loader = dl.data_loader()\n",
    "fit_data = data_loader.get_fit_data()\n",
    "\n",
    "# Get prior\n",
    "prior = None\n",
    "if p_dict['use_prior']:\n",
    "    prior = data_loader.get_prior(p_dict['fit_type'])\n",
    "\n",
    "# Make bootstrapper\n",
    "bootstrapper = bs.bootstrapper(fit_data, prior=prior, order=p_dict['order'], F2=p_dict['F2'],\n",
    "                               fit_type=p_dict['fit_type'], bs_N=p_dict['bs_N'], abbrs=p_dict['abbrs'])\n",
    "\n",
    "if p_dict['make_plots']:\n",
    "    data_loader.save_plots(\n",
    "        bootstrapper.make_plots(\n",
    "            show_error_ellipses=p_dict['show_error_ellipses'], \n",
    "            show_bootstrap_histograms=p_dict['show_bs_histograms']),\n",
    "        output_filename=bootstrapper.fit_type+'_'+bootstrapper.order['fit']\n",
    "    )\n",
    "else:\n",
    "    print bootstrapper\n",
    "    \n",
    "if False: #p_dict['save_prior']:\n",
    "    print 'Saving prior...'\n",
    "    data_loader.save_prior(bootstrapper.create_prior_from_fit(), p_dict['fit_type'])\n",
    "    \n",
    "if p_dict['save_results']:\n",
    "    data_loader.save_fit_info(bootstrapper.get_fit_info())\n",
    "    \n",
    "    \n",
    "t1 = time.time()\n",
    "\n",
    "print \"\\nTotal time (s): \", t1 - t0, \"\\n\""
   ]
  },
  {
   "cell_type": "code",
   "execution_count": 75,
   "metadata": {},
   "outputs": [
    {
     "data": {
      "text/plain": [
       "0.082934(93)"
      ]
     },
     "execution_count": 75,
     "metadata": {},
     "output_type": "execute_result"
    }
   ],
   "source": [
    "gv.gvar(0.08293398, 9.26821012236e-05)"
   ]
  },
  {
   "cell_type": "code",
   "execution_count": 74,
   "metadata": {},
   "outputs": [
    {
     "data": {
      "text/plain": [
       "0.9930(10)"
      ]
     },
     "execution_count": 74,
     "metadata": {},
     "output_type": "execute_result"
    }
   ],
   "source": [
    "np.sqrt(gv.gvar('0.9860(20)'))"
   ]
  },
  {
   "cell_type": "code",
   "execution_count": 80,
   "metadata": {},
   "outputs": [
    {
     "name": "stdout",
     "output_type": "stream",
     "text": [
      "('python version:', '2.7.14 |Anaconda custom (64-bit)| (default, Oct 15 2017, 03:34:40) [MSC v.1500 64 bit (AMD64)]')\n",
      "('numpy  version:', '1.13.3')\n",
      "('gvar   version:', '9.0.3')\n",
      "('lsqfit version:', '11.1')\n"
     ]
    }
   ],
   "source": [
    "print(\"python version:\", sys.version)\n",
    "print(\"numpy  version:\", np.__version__)\n",
    "print(\"gvar   version:\", gv.__version__)\n",
    "print(\"lsqfit version:\", lsqfit.__version__)"
   ]
  },
  {
   "cell_type": "code",
   "execution_count": 72,
   "metadata": {
    "scrolled": false
   },
   "outputs": [
    {
     "data": {
      "text/plain": [
       "1"
      ]
     },
     "execution_count": 72,
     "metadata": {},
     "output_type": "execute_result"
    }
   ],
   "source": [
    "bootstrapper.bs_N"
   ]
  },
  {
   "cell_type": "markdown",
   "metadata": {},
   "source": [
    "### Or make all fits"
   ]
  },
  {
   "cell_type": "code",
   "execution_count": 56,
   "metadata": {
    "collapsed": true
   },
   "outputs": [],
   "source": [
    "p_dict = {\n",
    "    'order' : {\n",
    "        'vol' : 0 # max 10\n",
    "    }, \n",
    "    'bs_N' : 1,  # if 0, use full list\n",
    "    'F2' : 'FKFpi', #'FKfpi', 'FpiFpi', 'FKFK'\n",
    "\n",
    "    'use_prior' : False,\n",
    "    'abbrs' : [u'a09m220', u'a09m310', u'a09m350', u'a09m400', u'a12m130',\n",
    "           u'a12m220',  u'a12m220S', u'a12m220L', u'a12m310', u'a12m350',\n",
    "           u'a12m400', u'a15m130', u'a15m220', u'a15m310', u'a15m350', 'a15m400'],\n",
    "\n",
    "    'make_plots' : True,\n",
    "    'show_error_ellipses' : False,\n",
    "    'show_bs_histograms' : False,\n",
    "\n",
    "    'save_prior' : False,\n",
    "    'save_results' : True,\n",
    "}"
   ]
  },
  {
   "cell_type": "code",
   "execution_count": 57,
   "metadata": {
    "scrolled": true
   },
   "outputs": [
    {
     "name": "stdout",
     "output_type": "stream",
     "text": [
      "xpt nlo\n",
      "Using default prior.\n",
      "Making fits...\n",
      "100% complete Time (s):  0.380999803543\n",
      "Compiling results...\n",
      "Done.\n",
      "Saving...\n",
      "Done.\n",
      "\n",
      "Total time (s):  5.24800014496 \n",
      "\n",
      "xpt nnlo\n",
      "Using default prior.\n",
      "Making fits...\n",
      "100% complete Time (s):  1.1369998455\n",
      "Compiling results...\n",
      "Done.\n",
      "Saving...\n",
      "Done.\n",
      "\n",
      "Total time (s):  6.46700000763 \n",
      "\n",
      "xpt-taylor nlo\n",
      "Using default prior.\n",
      "Making fits...\n",
      "100% complete Time (s):  0.539999961853\n",
      "Compiling results...\n",
      "Done.\n",
      "Saving...\n",
      "Done.\n",
      "\n",
      "Total time (s):  4.67000007629 \n",
      "\n",
      "xpt-taylor nnlo\n",
      "Using default prior.\n",
      "Making fits...\n",
      "100% complete Time (s):  1.14800000191\n",
      "Compiling results...\n",
      "Done.\n",
      "Saving...\n",
      "Done.\n",
      "\n",
      "Total time (s):  5.59099984169 \n",
      "\n",
      "ma nlo\n",
      "Using default prior.\n",
      "Making fits...\n",
      "100% complete Time (s):  0.686999797821\n",
      "Compiling results...\n",
      "Done.\n",
      "Saving...\n",
      "Done.\n",
      "\n",
      "Total time (s):  11.4289999008 \n",
      "\n",
      "ma nnlo\n",
      "Using default prior.\n",
      "Making fits...\n",
      "100% complete Time (s):  1.45600008965\n",
      "Compiling results...\n",
      "Done.\n",
      "Saving...\n",
      "Done.\n",
      "\n",
      "Total time (s):  12.7590000629 \n",
      "\n",
      "ma-taylor nlo\n",
      "Using default prior.\n",
      "Making fits...\n",
      "100% complete Time (s):  0.671999931335\n",
      "Compiling results...\n",
      "Done.\n",
      "Saving...\n",
      "Done.\n",
      "\n",
      "Total time (s):  10.1770000458 \n",
      "\n",
      "ma-taylor nnlo\n",
      "Using default prior.\n",
      "Making fits...\n",
      "100% complete Time (s):  1.47500014305\n",
      "Compiling results...\n",
      "Done.\n",
      "Saving...\n",
      "Done.\n",
      "\n",
      "Total time (s):  13.8359999657 \n",
      "\n"
     ]
    }
   ],
   "source": [
    "for fit_type in ['xpt', 'xpt-taylor', 'ma', 'ma-taylor']:#, 'ma-old']:\n",
    "    for order_fit in ['nlo', 'nnlo']:#, 'nnnlo']:\n",
    "        \n",
    "        print fit_type, order_fit\n",
    "        \n",
    "        # Specify fit parameters\n",
    "        p_dict['order']['fit'] = order_fit\n",
    "        p_dict['fit_type'] = fit_type\n",
    "        \n",
    "        # Do fit\n",
    "        t0 = time.time()\n",
    "\n",
    "        # Load data\n",
    "        data_loader = dl.data_loader()\n",
    "        fit_data = data_loader.get_fit_data()\n",
    "\n",
    "        # Get prior\n",
    "        prior = None\n",
    "        if p_dict['use_prior']:\n",
    "            prior = data_loader.get_prior(p_dict['fit_type'])\n",
    "\n",
    "        # Make bootstrapper\n",
    "        bootstrapper = bs.bootstrapper(fit_data, prior=prior, order=p_dict['order'], F2=p_dict['F2'],\n",
    "                                       fit_type=p_dict['fit_type'], bs_N=p_dict['bs_N'], abbrs=p_dict['abbrs'])\n",
    "\n",
    "        if p_dict['make_plots']:\n",
    "            data_loader.save_plots(\n",
    "                bootstrapper.make_plots(\n",
    "                    show_error_ellipses=p_dict['show_error_ellipses'], \n",
    "                    show_bootstrap_histograms=p_dict['show_bs_histograms']),\n",
    "                output_filename=bootstrapper.fit_type+'_'+bootstrapper.order['fit']\n",
    "            )\n",
    "        else:\n",
    "            print bootstrapper\n",
    "\n",
    "        if p_dict['save_prior']:\n",
    "            print 'Saving prior...'\n",
    "            data_loader.save_prior(bootstrapper.create_prior_from_fit(), p_dict['fit_type'])\n",
    "\n",
    "        if p_dict['save_results']:\n",
    "            data_loader.save_fit_info(bootstrapper.get_fit_info())\n",
    "\n",
    "\n",
    "        t1 = time.time()\n",
    "        \n",
    "        #print test(bootstrapper)\n",
    "\n",
    "        print \"\\nTotal time (s): \", t1 - t0, \"\\n\""
   ]
  },
  {
   "cell_type": "code",
   "execution_count": 38,
   "metadata": {
    "collapsed": true
   },
   "outputs": [],
   "source": [
    "#bootstrapper.fits[0].show_plots(view='std')"
   ]
  },
  {
   "cell_type": "code",
   "execution_count": null,
   "metadata": {
    "collapsed": true
   },
   "outputs": [],
   "source": []
  },
  {
   "cell_type": "code",
   "execution_count": null,
   "metadata": {
    "collapsed": true
   },
   "outputs": [],
   "source": []
  },
  {
   "cell_type": "code",
   "execution_count": null,
   "metadata": {
    "collapsed": true
   },
   "outputs": [],
   "source": []
  },
  {
   "cell_type": "code",
   "execution_count": null,
   "metadata": {
    "collapsed": true
   },
   "outputs": [],
   "source": []
  }
 ],
 "metadata": {
  "kernelspec": {
   "display_name": "Python 2",
   "language": "python",
   "name": "python2"
  },
  "language_info": {
   "codemirror_mode": {
    "name": "ipython",
    "version": 2
   },
   "file_extension": ".py",
   "mimetype": "text/x-python",
   "name": "python",
   "nbconvert_exporter": "python",
   "pygments_lexer": "ipython2",
   "version": "2.7.14"
  }
 },
 "nbformat": 4,
 "nbformat_minor": 2
}
