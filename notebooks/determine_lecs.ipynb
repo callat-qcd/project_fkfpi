{
 "cells": [
  {
   "cell_type": "markdown",
   "metadata": {},
   "source": [
    "### Import Modules"
   ]
  },
  {
   "cell_type": "code",
   "execution_count": 1,
   "metadata": {},
   "outputs": [],
   "source": [
    "import numpy as np\n",
    "import gvar as gv\n",
    "import lsqfit\n",
    "import sys\n",
    "import os\n",
    "import matplotlib\n",
    "import matplotlib.pyplot as plt\n",
    "import pandas as pd\n",
    "import h5py\n",
    "import time\n",
    "\n",
    "\n",
    "sys.path.append(\"../\")\n",
    "import fitter.data_loader as dl\n",
    "import fitter.bootstrapper as bs\n",
    "import fitter.fitter as fit\n",
    "import fitter.special_functions as sf\n",
    "\n",
    "for j in range(10): # Sometimes this needs to be loaded twice...\n",
    "    matplotlib.rcParams['figure.figsize'] = [10, 10]"
   ]
  },
  {
   "cell_type": "code",
   "execution_count": 35,
   "metadata": {},
   "outputs": [
    {
     "data": {
      "text/plain": [
       "<module 'fitter.bootstrapper' from '../fitter/bootstrapper.py'>"
      ]
     },
     "execution_count": 35,
     "metadata": {},
     "output_type": "execute_result"
    }
   ],
   "source": [
    "from importlib import reload\n",
    "reload(dl)\n",
    "reload(sf)\n",
    "reload(fit)\n",
    "reload(bs)"
   ]
  },
  {
   "cell_type": "markdown",
   "metadata": {},
   "source": [
    "### Specify fit parameters"
   ]
  },
  {
   "cell_type": "code",
   "execution_count": 29,
   "metadata": {},
   "outputs": [],
   "source": [
    "p_dict = {\n",
    "    'order' : {\n",
    "        'fit' : 'nnlo', # 'nlo', 'nnlo'\n",
    "        'vol' : 0, # max 10\n",
    "        'exclude' : [], # put LECs here\n",
    "        \n",
    "        # semi-nnlo corrections\n",
    "        'include_alpha_s' : True,\n",
    "        'include_log' : True, \n",
    "        'include_log2' : True,\n",
    "        'include_sunset' : True,\n",
    "        \n",
    "        # nnnlo corrections\n",
    "        'include_latt_n3lo' : True,\n",
    "    }, \n",
    "    'fit_type' : 'xpt-ratio', #'ma', 'ma-ratio, 'xpt', or 'xpt-ratio'; experimental: 'simultaneous', 'ma-old'\n",
    "    'F2' : 'FKFpi', #'FKFpi', 'FpiFpi', 'FKFK', 'F0F0' (HPQCD choice)\n",
    "    'use_bijnens_central_value' : False,\n",
    "    \n",
    "    'use_prior' : True,\n",
    "    'bias_correct' : True,\n",
    "    'include_su2_isospin_corrrection' : False,\n",
    "    'abbrs' : [u'a06m310L', u'a09m220', u'a09m310', u'a09m350', u'a09m400', u'a12m130',\n",
    "           u'a12m220',  u'a12m220S', u'a12m220L', u'a12m310', u'a12m350',\n",
    "           u'a12m400',  u'a15m135XL', u'a15m220', u'a15m310', u'a15m350', 'a15m400'], # u'a15m130'\n",
    "    \n",
    "    'make_plots' : False,\n",
    "    'show_error_ellipses' : False,\n",
    "    'show_bs_histograms' : False,\n",
    "    \n",
    "    'save_results' : False,\n",
    "    'save_pickles' : False,\n",
    "    'output_name' : 'fit_results',\n",
    "}"
   ]
  },
  {
   "cell_type": "code",
   "execution_count": 30,
   "metadata": {},
   "outputs": [
    {
     "name": "stdout",
     "output_type": "stream",
     "text": [
      "/mnt/Google/Documents/School Work/Research/fk-fpi/priors/xpt-ratio.csv\n",
      "Using default prior.\n",
      "Making fits...\n",
      "Done!\n",
      "100% complete\n",
      "Time (s):  22.19511914253235\n",
      "Compiling results...\n",
      "\n",
      "Model: xpt-ratio_FKFpi_nnlo_log_logSq_sunset_alphaS_a4\n",
      "\n",
      "Fitting to nnlo \n",
      " with volume corrections O(0) \n",
      "Fitted/[FLAG] values at physical point (including SU(2) isospin corrections: False):\n",
      "\n",
      "F_K / F_pi = 1.205(16) [1.1959(20)]   (delta_su2 = -0.00450(84))\n",
      "\n",
      "  Parameter    Result[0] / Prior[1]    Parameter    Result[0] / Prior[1]\n",
      "-----------------------------------  -----------------------------------\n",
      "      A_a 0                -20 (18)            1            0.00000 (22)\n",
      "          1                 0 (100)        L_3 0             0.0013 (27)\n",
      "     A_aa 0                 65 (34)            1             0.0000 (31)\n",
      "          1                0 (1000)        L_4 0           -0.00042 (31)\n",
      "      A_k 0               0.2 (2.8)            1             0.0000 (50)\n",
      "          1               0.0 (5.0)        L_5 0             0.0016 (10)\n",
      "   A_loga 0                 17 (30)            1             0.0000 (50)\n",
      "          1                 0 (100)        L_6 0             -5(100)e-06\n",
      "      A_p 0               4.9 (2.1)            1            0.00000 (10)\n",
      "          1               0.0 (5.0)        L_7 0           -0.00010 (33)\n",
      "      L_1 0             2(2358)e-07            1            0.00000 (34)\n",
      "          1            0.00000 (24)        L_8 0           -0.00002 (14)\n",
      "      L_2 0              7(220)e-06            1            0.00000 (14)\n",
      "---\n",
      "boot0 fit results:\n",
      "Least Square Fit:\n",
      "  chi2/dof [dof] = 1.2 [17]    Q = 0.25    logGBF = 54.281\n",
      "\n",
      "Settings:\n",
      "  svdcut/n = 1e-12/0    tol = (1e-08*,1e-10,1e-10)    (itns/time = 50/22.2)\n",
      "\n",
      "\n",
      "Total time (s):  23.2966091632843 \n",
      "\n"
     ]
    }
   ],
   "source": [
    "t0 = time.time()\n",
    "\n",
    "# Load data\n",
    "data_loader = dl.data_loader()\n",
    "fit_data = data_loader.get_fit_data()\n",
    "phys_point_data = data_loader.get_phys_point_data()\n",
    "\n",
    "# Get prior\n",
    "prior = None\n",
    "if p_dict['use_prior']:\n",
    "    prior = data_loader.get_prior(fit_type=p_dict['fit_type'], order=p_dict['order']['fit'], F2=p_dict['F2'], \n",
    "                  include_log=p_dict['order']['include_log'], include_log2=p_dict['order']['include_log2'], \n",
    "                  include_sunset=p_dict['order']['include_sunset'], include_alpha_s=p_dict['order']['include_alpha_s'], \n",
    "                  include_latt_n3lo=p_dict['order']['include_latt_n3lo'], include_FV=(p_dict['order']['vol'] > 6), \n",
    "                  use_bijnens_central_value=p_dict['use_bijnens_central_value']\n",
    "             )\n",
    "    \n",
    "# Make bootstrapper\n",
    "bootstrapper = bs.bootstrapper(fit_data, phys_point_data, prior=prior, **p_dict)\n",
    "\n",
    "if p_dict['make_plots']:\n",
    "    data_loader.save_plots(\n",
    "        bootstrapper.make_plots(\n",
    "            show_error_ellipses=p_dict['show_error_ellipses'], \n",
    "            show_bootstrap_histograms=p_dict['show_bs_histograms']),\n",
    "        output_filename='fits/'+bootstrapper.fit_type+'_'+bootstrapper.order['fit']\n",
    "    )\n",
    "else:\n",
    "    print(bootstrapper)\n",
    "    \n",
    "if p_dict['save_results']:\n",
    "    data_loader.save_fit_info(bootstrapper.get_fit_info(),\n",
    "                              output_name=p_dict['output_name'], save_pickles=p_dict['save_pickles'])\n",
    "\n",
    "    \n",
    "    \n",
    "t1 = time.time()\n",
    "\n",
    "print(\"\\nTotal time (s): \", t1 - t0, \"\\n\")"
   ]
  },
  {
   "cell_type": "code",
   "execution_count": null,
   "metadata": {},
   "outputs": [],
   "source": []
  },
  {
   "cell_type": "code",
   "execution_count": null,
   "metadata": {},
   "outputs": [],
   "source": []
  },
  {
   "cell_type": "code",
   "execution_count": null,
   "metadata": {},
   "outputs": [],
   "source": []
  },
  {
   "cell_type": "code",
   "execution_count": 34,
   "metadata": {},
   "outputs": [
    {
     "ename": "NameError",
     "evalue": "name 'bootstrapper' is not defined",
     "output_type": "error",
     "traceback": [
      "\u001b[0;31m---------------------------------------------------------------------------\u001b[0m",
      "\u001b[0;31mNameError\u001b[0m                                 Traceback (most recent call last)",
      "\u001b[0;32m<ipython-input-34-f60586c39680>\u001b[0m in \u001b[0;36m<module>\u001b[0;34m\u001b[0m\n\u001b[1;32m     24\u001b[0m \u001b[0;34m\u001b[0m\u001b[0m\n\u001b[1;32m     25\u001b[0m \u001b[0;34m\u001b[0m\u001b[0m\n\u001b[0;32m---> 26\u001b[0;31m \u001b[0mbootstrapper\u001b[0m\u001b[0;34m.\u001b[0m\u001b[0mfk_fpi_fit_fcn\u001b[0m\u001b[0;34m(\u001b[0m\u001b[0mfit_data\u001b[0m\u001b[0;34m=\u001b[0m\u001b[0mfit_data\u001b[0m\u001b[0;34m,\u001b[0m \u001b[0mfit_parameters\u001b[0m\u001b[0;34m=\u001b[0m\u001b[0mfit_parameters\u001b[0m\u001b[0;34m,\u001b[0m \u001b[0mdebug\u001b[0m\u001b[0;34m=\u001b[0m\u001b[0;32mTrue\u001b[0m\u001b[0;34m)\u001b[0m\u001b[0;34m\u001b[0m\u001b[0;34m\u001b[0m\u001b[0m\n\u001b[0m",
      "\u001b[0;31mNameError\u001b[0m: name 'bootstrapper' is not defined"
     ]
    }
   ],
   "source": [
    "fit_data = {\n",
    "    'mpi' : 135.,\n",
    "    'mk' : 495.5,\n",
    "    'Fpi' : 92.2,\n",
    "    'FK' : 110.5,\n",
    "    'L' : np.inf, \n",
    "    'a/w0' : 0,\n",
    "}\n",
    "fit_data['lam2_chi'] = (4 *np.pi *fit_data['Fpi'])**2\n",
    "\n",
    "fit_parameters = {\n",
    "    'L_1' : 0.000372,\n",
    "    'L_2' : 0.000493,\n",
    "    'L_3' : -0.003070,\n",
    "    'L_4' : 0.000089,\n",
    "    'L_5' : 0.000377,\n",
    "    'L_6' : 0.000011,\n",
    "    'L_7' : -0.000340,\n",
    "    'L_8' : 0.000294,\n",
    "    'A_a' : 0.1,\n",
    "    'A_k' : -3.000000,\n",
    "    'A_p' : 4.000000\n",
    "}\n",
    "\n",
    "\n",
    "bootstrapper.fk_fpi_fit_fcn(fit_data=fit_data, fit_parameters=fit_parameters, debug=True)"
   ]
  },
  {
   "cell_type": "code",
   "execution_count": null,
   "metadata": {
    "collapsed": true
   },
   "outputs": [],
   "source": []
  }
 ],
 "metadata": {
  "kernelspec": {
   "display_name": "Python 3",
   "language": "python",
   "name": "python3"
  },
  "language_info": {
   "codemirror_mode": {
    "name": "ipython",
    "version": 3
   },
   "file_extension": ".py",
   "mimetype": "text/x-python",
   "name": "python",
   "nbconvert_exporter": "python",
   "pygments_lexer": "ipython3",
   "version": "3.8.1"
  }
 },
 "nbformat": 4,
 "nbformat_minor": 2
}
