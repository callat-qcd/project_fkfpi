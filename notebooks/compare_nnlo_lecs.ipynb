{
 "cells": [
  {
   "cell_type": "code",
   "execution_count": 20,
   "metadata": {
    "collapsed": true
   },
   "outputs": [],
   "source": [
    "import numpy as np\n",
    "import gvar as gv\n",
    "import lsqfit\n",
    "import sys\n",
    "import os\n",
    "import matplotlib\n",
    "import matplotlib.pyplot as plt\n",
    "import pandas as pd\n",
    "import h5py\n",
    "import time\n",
    "\n",
    "sys.path.append(\"../\")\n",
    "from fitter import data_loader as dl\n",
    "from fitter import bootstrapper as bs\n",
    "from fitter import fitter as fit\n",
    "from fitter import special_functions as sf\n",
    "\n",
    "for j in range(10): # Sometimes this needs to be loaded twice...\n",
    "    matplotlib.rcParams['figure.figsize'] = [10, 10]"
   ]
  },
  {
   "cell_type": "code",
   "execution_count": 21,
   "metadata": {
    "collapsed": false
   },
   "outputs": [
    {
     "data": {
      "text/plain": [
       "<module 'fitter.special_functions' from '../fitter/special_functions.pyc'>"
      ]
     },
     "execution_count": 21,
     "metadata": {},
     "output_type": "execute_result"
    }
   ],
   "source": [
    "reload(bs)\n",
    "reload(dl)\n",
    "reload(fit)\n",
    "reload(sf)"
   ]
  },
  {
   "cell_type": "markdown",
   "metadata": {},
   "source": [
    "### Make fit"
   ]
  },
  {
   "cell_type": "code",
   "execution_count": 22,
   "metadata": {
    "collapsed": true
   },
   "outputs": [],
   "source": [
    "p_dict = {\n",
    "    'order' : {\n",
    "        'fit' : 'nnlo', # 'nlo', 'nnlo', or 'nnnlo'\n",
    "        'vol' : 0, # max 10\n",
    "        'exclude' : [] # put LECs here\n",
    "    }, \n",
    "    'bs_N' : 1,  # if 0, use full list\n",
    "    'fit_type' : 'ma', #'ma', 'ma-taylor, 'xpt', or 'xpt-taylor'; also 'simultaneous', 'ma-old'\n",
    "    'F2' : 'FKFpi', #'FKfpi', 'FpiFpi', 'FKFK'\n",
    "    'chained' : True,\n",
    "    \n",
    "    'use_prior' : True,\n",
    "    'abbrs' : [u'a09m220', u'a09m310', u'a09m350', u'a09m400', u'a12m130',\n",
    "           u'a12m220',  u'a12m220S', u'a12m220L', u'a12m310', u'a12m350',\n",
    "           u'a12m400', u'a15m130', u'a15m220', u'a15m310', u'a15m350', 'a15m400'],\n",
    "    \n",
    "    'make_plots' : False,\n",
    "    'show_error_ellipses' : False,\n",
    "    'show_bs_histograms' : False,\n",
    "    \n",
    "    'save_prior' : False,\n",
    "    'save_results' : False,\n",
    "}"
   ]
  },
  {
   "cell_type": "code",
   "execution_count": 23,
   "metadata": {
    "collapsed": false,
    "scrolled": true
   },
   "outputs": [
    {
     "name": "stdout",
     "output_type": "stream",
     "text": [
      "Making fits...\n",
      "100% complete Time (s):  1.09921121597\n",
      "Compiling results...\n",
      "\n",
      "\n",
      "Fit type: ma (F^2 = FKFpi, bsN = 1)\n",
      "\n",
      "Fitting to nnlo \n",
      " with volume corrections O(0) \n",
      " chained: True \n",
      "Fitted/[FLAG] values at physical point (including SU(2) isospin corrections):\n",
      "\n",
      "F_K / F_pi = 1.1940(42) [1.1932(19)]   (delta_su2 = -0.00235(24))\n",
      "\n",
      "  Parameter    Result[0] / Prior[1]    Parameter    Result[0] / Prior[1]\n",
      "-----------------------------------  -----------------------------------\n",
      "      L_4 0          -0.000333 (12)            1               0.0 (3.1)\n",
      "          1             0.0000 (10)        L_5 0           0.000795 (67)\n",
      "      A_a 0               6.2 (2.5)            1             0.0000 (10)\n",
      "---\n",
      "boot0 fit results:\n",
      "Least Square Fit:\n",
      "  chi2/dof [dof] = 2.6 [16]    Q = 0.00037    logGBF = 53.766\n",
      "\n",
      "Settings:\n",
      "  svdcut/n = 1e-12/0    tol = (1e-08*,1e-10,1e-10)    (itns/time = 5/0.3)\n",
      "  fitter = scipy_least_squares    method = trf\n",
      "\n",
      "\n",
      "Total time (s):  1.75135087967 \n",
      "\n",
      "Making fits...\n",
      "100% complete Time (s):  0.719767093658\n",
      "Compiling results...\n",
      "\n",
      "\n",
      "Fit type: ma (F^2 = FKFpi, bsN = 1)\n",
      "\n",
      "Fitting to nnlo \n",
      " with volume corrections O(0) \n",
      " chained: True \n",
      "Fitted/[FLAG] values at physical point (including SU(2) isospin corrections):\n",
      "\n",
      "F_K / F_pi = 1.1968(43) [1.1932(19)]   (delta_su2 = -0.00243(25))\n",
      "\n",
      "  Parameter    Result[0] / Prior[1]    Parameter    Result[0] / Prior[1]\n",
      "-----------------------------------  -----------------------------------\n",
      "      A_k 0               0.31 (25)            1             0.0000 (10)\n",
      "          1               0.0 (3.1)        L_5 0           0.000768 (85)\n",
      "      L_4 0          -0.000314 (30)            1             0.0000 (10)\n",
      "---\n",
      "boot0 fit results:\n",
      "Least Square Fit:\n",
      "  chi2/dof [dof] = 2.9 [16]    Q = 7.2e-05    logGBF = 49.146\n",
      "\n",
      "Settings:\n",
      "  svdcut/n = 1e-12/0    tol = (1e-08*,1e-10,1e-10)    (itns/time = 6/0.3)\n",
      "  fitter = scipy_least_squares    method = trf\n",
      "\n",
      "\n",
      "Total time (s):  1.48324394226 \n",
      "\n",
      "Making fits...\n",
      "100% complete Time (s):  1.11975216866\n",
      "Compiling results...\n",
      "\n",
      "\n",
      "Fit type: ma (F^2 = FKFpi, bsN = 1)\n",
      "\n",
      "Fitting to nnlo \n",
      " with volume corrections O(0) \n",
      " chained: True \n",
      "Fitted/[FLAG] values at physical point (including SU(2) isospin corrections):\n",
      "\n",
      "F_K / F_pi = 1.1948(43) [1.1932(19)]   (delta_su2 = -0.00237(24))\n",
      "\n",
      "  Parameter    Result[0] / Prior[1]    Parameter    Result[0] / Prior[1]\n",
      "-----------------------------------  -----------------------------------\n",
      "      L_5 0            0.00104 (15)            1             0.0000 (10)\n",
      "          1             0.0000 (10)        A_p 0               1.7 (1.1)\n",
      "      L_4 0          -0.000333 (15)            1               0.0 (3.1)\n",
      "---\n",
      "boot0 fit results:\n",
      "Least Square Fit:\n",
      "  chi2/dof [dof] = 2.9 [16]    Q = 0.0001    logGBF = 51.106\n",
      "\n",
      "Settings:\n",
      "  svdcut/n = 1e-12/0    tol = (1e-08,1e-10,1e-10*)    (itns/time = 6/0.5)\n",
      "  fitter = scipy_least_squares    method = trf\n",
      "\n",
      "\n",
      "Total time (s):  1.92996096611 \n",
      "\n"
     ]
    }
   ],
   "source": [
    "nnlo_lecs = ['A_a', 'A_k', 'A_p']\n",
    "for j in range(len(nnlo_lecs)):\n",
    "    p_dict['order']['exclude'] = nnlo_lecs[:j] + nnlo_lecs[j+1:]\n",
    "    \n",
    "    t0 = time.time()\n",
    "\n",
    "    # Load data\n",
    "    data_loader = dl.data_loader()\n",
    "    fit_data = data_loader.get_fit_data()\n",
    "\n",
    "    # Get prior\n",
    "    prior = None\n",
    "    if p_dict['use_prior']:\n",
    "        prior = data_loader.get_prior(p_dict['fit_type'])\n",
    "\n",
    "    # Make bootstrapper\n",
    "    bootstrapper = bs.bootstrapper(fit_data, prior=prior, order=p_dict['order'], F2=p_dict['F2'], chain_fits=p_dict['chained'],\n",
    "                                   fit_type=p_dict['fit_type'], bs_N=p_dict['bs_N'], abbrs=p_dict['abbrs'])\n",
    "\n",
    "    if p_dict['make_plots']:\n",
    "        data_loader.save_plots(\n",
    "            bootstrapper.make_plots(\n",
    "                show_error_ellipses=p_dict['show_error_ellipses'], \n",
    "                show_bootstrap_histograms=p_dict['show_bs_histograms']),\n",
    "            output_filename=bootstrapper.fit_type+'_'+bootstrapper.order['fit']\n",
    "        )\n",
    "    else:\n",
    "        print bootstrapper\n",
    "\n",
    "    if p_dict['save_prior']:\n",
    "        print 'Saving prior...'\n",
    "        data_loader.save_prior(bootstrapper.create_prior_from_fit(), p_dict['fit_type'])\n",
    "\n",
    "    if p_dict['save_results']:\n",
    "        data_loader.save_fit_info(bootstrapper.get_fit_info())\n",
    "\n",
    "\n",
    "    t1 = time.time()\n",
    "\n",
    "    print \"\\nTotal time (s): \", t1 - t0, \"\\n\""
   ]
  },
  {
   "cell_type": "code",
   "execution_count": null,
   "metadata": {
    "collapsed": true
   },
   "outputs": [],
   "source": []
  }
 ],
 "metadata": {
  "kernelspec": {
   "display_name": "Python 2",
   "language": "python",
   "name": "python2"
  },
  "language_info": {
   "codemirror_mode": {
    "name": "ipython",
    "version": 2
   },
   "file_extension": ".py",
   "mimetype": "text/x-python",
   "name": "python",
   "nbconvert_exporter": "python",
   "pygments_lexer": "ipython2",
   "version": "2.7.13"
  }
 },
 "nbformat": 4,
 "nbformat_minor": 2
}
