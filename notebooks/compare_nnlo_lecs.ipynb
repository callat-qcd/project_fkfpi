{
 "cells": [
  {
   "cell_type": "code",
   "execution_count": 70,
   "metadata": {
    "collapsed": true
   },
   "outputs": [],
   "source": [
    "import numpy as np\n",
    "import gvar as gv\n",
    "import lsqfit\n",
    "import sys\n",
    "import time\n",
    "import os\n",
    "import matplotlib\n",
    "import matplotlib.pyplot as plt\n",
    "import pandas as pd\n",
    "import h5py\n",
    "import itertools\n",
    "from collections import OrderedDict\n",
    "\n",
    "sys.path.append(\"../\")\n",
    "from fitter import data_loader as dl\n",
    "from fitter import bootstrapper as bs\n",
    "from fitter import fitter as fit\n",
    "from fitter import special_functions as sf\n",
    "from fitter import misc as ms\n",
    "\n",
    "for j in range(10): # Sometimes this needs to be loaded twice...\n",
    "    matplotlib.rcParams['figure.figsize'] = [10, 10]"
   ]
  },
  {
   "cell_type": "code",
   "execution_count": 71,
   "metadata": {},
   "outputs": [
    {
     "data": {
      "text/plain": [
       "<module 'fitter.misc' from '../fitter\\misc.pyc'>"
      ]
     },
     "execution_count": 71,
     "metadata": {},
     "output_type": "execute_result"
    }
   ],
   "source": [
    "reload(bs)\n",
    "reload(dl)\n",
    "reload(fit)\n",
    "reload(sf)\n",
    "reload(ms)"
   ]
  },
  {
   "cell_type": "markdown",
   "metadata": {},
   "source": [
    "### Make fit"
   ]
  },
  {
   "cell_type": "code",
   "execution_count": 55,
   "metadata": {
    "collapsed": true
   },
   "outputs": [],
   "source": [
    "p_dict = {\n",
    "    'order' : {\n",
    "        'fit' : 'nnlo', # 'nlo', 'nnlo', or 'nnnlo'\n",
    "        'vol' : 0, # max 10\n",
    "        'exclude' : [] # put LECs here\n",
    "    }, \n",
    "    'bs_N' : 1,  # if 0, use full list\n",
    "    'fit_type' : 'xpt-taylor', #'ma', 'ma-taylor, 'xpt', or 'xpt-taylor'; also 'simultaneous', 'ma-old'\n",
    "    'F2' : 'FKFpi', #'FKfpi', 'FpiFpi', 'FKFK'\n",
    "    'chained' : False,\n",
    "    \n",
    "    'use_prior' : True,\n",
    "    'abbrs' : [u'a09m220', u'a09m310', u'a09m350', u'a09m400', u'a12m130',\n",
    "           u'a12m220',  u'a12m220S', u'a12m220L', u'a12m310', u'a12m350',\n",
    "           u'a12m400', u'a15m130', u'a15m220', u'a15m310', u'a15m350', 'a15m400'],\n",
    "    \n",
    "    'make_plots' : False,\n",
    "    'show_error_ellipses' : False,\n",
    "    'show_bs_histograms' : False,\n",
    "}"
   ]
  },
  {
   "cell_type": "code",
   "execution_count": 56,
   "metadata": {
    "scrolled": true
   },
   "outputs": [
    {
     "name": "stdout",
     "output_type": "stream",
     "text": [
      "[]\n",
      "Making fits...\n",
      "100% complete Time (s):  0.302000045776\n",
      "Compiling results...\n",
      "\n",
      "Total time (s):  0.614000082016 \n",
      "\n",
      "['A_a']\n",
      "Making fits...\n",
      "100% complete Time (s):  0.332000017166\n",
      "Compiling results...\n",
      "\n",
      "Total time (s):  0.640999794006 \n",
      "\n",
      "['A_k']\n",
      "Making fits...\n",
      "100% complete Time (s):  0.355999946594\n",
      "Compiling results...\n",
      "\n",
      "Total time (s):  0.668999910355 \n",
      "\n",
      "['A_p']\n",
      "Making fits...\n",
      "100% complete Time (s):  0.248999834061\n",
      "Compiling results...\n",
      "\n",
      "Total time (s):  0.56200003624 \n",
      "\n",
      "['A_a', 'A_k']\n",
      "Making fits...\n",
      "100% complete Time (s):  0.252999782562\n",
      "Compiling results...\n",
      "\n",
      "Total time (s):  0.545000076294 \n",
      "\n",
      "['A_a', 'A_p']\n",
      "Making fits...\n",
      "100% complete Time (s):  0.232000112534\n",
      "Compiling results...\n",
      "\n",
      "Total time (s):  0.528000116348 \n",
      "\n",
      "['A_k', 'A_p']\n",
      "Making fits...\n",
      "100% complete Time (s):  0.191999912262\n",
      "Compiling results...\n",
      "\n",
      "Total time (s):  0.500999927521 \n",
      "\n",
      "['A_a', 'A_k', 'A_p']\n",
      "Making fits...\n",
      "100% complete Time (s):  0.226999998093\n",
      "Compiling results...\n",
      "\n",
      "Total time (s):  0.514999866486 \n",
      "\n"
     ]
    }
   ],
   "source": [
    "fit_results = OrderedDict()\n",
    "\n",
    "nnlo_lecs = ['A_a', 'A_k', 'A_p']\n",
    "for k in range(len(nnlo_lecs)+1):\n",
    "    for subset in itertools.combinations(nnlo_lecs, k):\n",
    "        print list(subset)\n",
    "        p_dict['order']['exclude'] = list(subset)\n",
    "        \n",
    "        included_lecs = list(set(nnlo_lecs).difference(subset))\n",
    "\n",
    "        t0 = time.time()\n",
    "\n",
    "        # Load data\n",
    "        data_loader = dl.data_loader()\n",
    "        fit_data = data_loader.get_fit_data()\n",
    "\n",
    "        # Get prior\n",
    "        prior = None\n",
    "        if p_dict['use_prior']:\n",
    "            prior = data_loader.get_prior(p_dict['fit_type'])\n",
    "\n",
    "        # Make bootstrapper\n",
    "        bootstrapper = bs.bootstrapper(fit_data, prior=prior, order=p_dict['order'], F2=p_dict['F2'], chain_fits=p_dict['chained'],\n",
    "                                       fit_type=p_dict['fit_type'], bs_N=p_dict['bs_N'], abbrs=p_dict['abbrs'])\n",
    "\n",
    "        if p_dict['make_plots']:\n",
    "            data_loader.save_plots(\n",
    "                bootstrapper.make_plots(\n",
    "                    show_error_ellipses=p_dict['show_error_ellipses'], \n",
    "                    show_bootstrap_histograms=p_dict['show_bs_histograms']),\n",
    "                output_filename=\"fits_by_lec/\"+bootstrapper.fit_type+'_'+bootstrapper.order['fit']+'_sans_'+str(p_dict['order']['exclude'])\n",
    "            )\n",
    "\n",
    "        # Save results for comparison\n",
    "        fit_results[str(included_lecs)] = bootstrapper.get_fit_info()\n",
    "\n",
    "        t1 = time.time()\n",
    "\n",
    "        print \"\\nTotal time (s): \", t1 - t0, \"\\n\""
   ]
  },
  {
   "cell_type": "code",
   "execution_count": 67,
   "metadata": {},
   "outputs": [
    {
     "name": "stdout",
     "output_type": "stream",
     "text": [
      "Done.\n"
     ]
    }
   ],
   "source": [
    "xlabel = '$F^\\pm_K/F^\\pm_\\pi$'\n",
    "title = bootstrapper.fit_type+\", chained: \"+str(bootstrapper.chain_fits)+\",\\nspecified NNLO LECS only\"\n",
    "filename = \"exclude_lecs/\"+bootstrapper.fit_type+\"__chained-\"+str(bootstrapper.chain_fits)+\"__exclude-n2lo\"\n",
    "fig = ms.plot_comparison('fit', fit_results, title=title, xlabel=xlabel, show_model_avg=True)\n",
    "data_loader.save_plots(fig, output_filename=filename)"
   ]
  },
  {
   "cell_type": "code",
   "execution_count": null,
   "metadata": {
    "collapsed": true
   },
   "outputs": [],
   "source": []
  }
 ],
 "metadata": {
  "kernelspec": {
   "display_name": "Python 2",
   "language": "python",
   "name": "python2"
  },
  "language_info": {
   "codemirror_mode": {
    "name": "ipython",
    "version": 2
   },
   "file_extension": ".py",
   "mimetype": "text/x-python",
   "name": "python",
   "nbconvert_exporter": "python",
   "pygments_lexer": "ipython2",
   "version": "2.7.14"
  }
 },
 "nbformat": 4,
 "nbformat_minor": 2
}
