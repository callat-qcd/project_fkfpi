{
 "cells": [
  {
   "cell_type": "code",
   "execution_count": 1,
   "metadata": {},
   "outputs": [],
   "source": [
    "import numpy as np\n",
    "import gvar as gv\n",
    "import lsqfit\n",
    "import sys\n",
    "import os\n",
    "import matplotlib\n",
    "import matplotlib.pyplot as plt\n",
    "import pandas as pd\n",
    "import h5py\n",
    "import time\n",
    "from importlib import reload\n",
    "\n",
    "sys.path.append(\"../\")\n",
    "from fitter import data_loader as dl\n",
    "from fitter import misc as ms\n",
    "from fitter import model_average as md\n",
    "from fitter import fitter as fit\n",
    "\n",
    "for j in range(10): # Sometimes this needs to be loaded twice...\n",
    "    matplotlib.rcParams['figure.figsize'] = [10, 10]"
   ]
  },
  {
   "cell_type": "code",
   "execution_count": 97,
   "metadata": {},
   "outputs": [
    {
     "data": {
      "text/plain": [
       "<module 'fitter.model_average' from '../fitter/model_average.py'>"
      ]
     },
     "execution_count": 97,
     "metadata": {},
     "output_type": "execute_result"
    }
   ],
   "source": [
    "reload(fit)\n",
    "reload(dl)\n",
    "reload(ms)\n",
    "reload(md)"
   ]
  },
  {
   "cell_type": "code",
   "execution_count": 53,
   "metadata": {},
   "outputs": [],
   "source": [
    "data_loader = dl.data_loader()\n",
    "fit_results = data_loader.get_fit_info('fit_results.csv')\n",
    "other_results = data_loader.get_fit_info('other_results.csv')"
   ]
  },
  {
   "cell_type": "code",
   "execution_count": 54,
   "metadata": {},
   "outputs": [],
   "source": [
    "model_average = md.model_average(fit_results)"
   ]
  },
  {
   "cell_type": "code",
   "execution_count": 41,
   "metadata": {},
   "outputs": [
    {
     "data": {
      "text/plain": [
       "1.1858(64)"
      ]
     },
     "execution_count": 41,
     "metadata": {},
     "output_type": "execute_result"
    }
   ],
   "source": [
    "# Default prior: 1.1816146689940248, 0.004646089658202027, 0.0038707693196171223\n",
    "model_average.average()"
   ]
  },
  {
   "cell_type": "code",
   "execution_count": 151,
   "metadata": {},
   "outputs": [
    {
     "data": {
      "text/plain": [
       "[1.1816146689940248, 0.004646089658202027, 0.0038707693196171223]"
      ]
     },
     "execution_count": 151,
     "metadata": {},
     "output_type": "execute_result"
    }
   ],
   "source": [
    "model_average.average(split_unc=True)"
   ]
  },
  {
   "cell_type": "code",
   "execution_count": 152,
   "metadata": {
    "scrolled": true
   },
   "outputs": [
    {
     "data": {
      "text/plain": [
       "[-0.0038465913486604034, 0.0006928628745722459, 0.00010860546787921822]"
      ]
     },
     "execution_count": 152,
     "metadata": {},
     "output_type": "execute_result"
    }
   ],
   "source": [
    "model_average.average(split_unc=True, param='delta_su2')"
   ]
  },
  {
   "cell_type": "markdown",
   "metadata": {},
   "source": [
    "### Make plots"
   ]
  },
  {
   "cell_type": "code",
   "execution_count": 43,
   "metadata": {},
   "outputs": [],
   "source": [
    "model_average.plot_fits('a');"
   ]
  },
  {
   "cell_type": "code",
   "execution_count": 44,
   "metadata": {},
   "outputs": [
    {
     "name": "stderr",
     "output_type": "stream",
     "text": [
      "../fitter/model_average.py:609: MatplotlibDeprecationWarning: Adding an axes using the same arguments as a previous axes currently reuses the earlier instance.  In a future version, a new instance will always be created and returned.  Meanwhile, this warning can be suppressed, and the future behavior ensured, by passing a unique label to each axes instance.\n",
      "  lidx95 = abs(cdf-0.025).argmin()\n"
     ]
    }
   ],
   "source": [
    "model_average.plot_histogram('FK/Fpi');"
   ]
  },
  {
   "cell_type": "code",
   "execution_count": 45,
   "metadata": {},
   "outputs": [],
   "source": [
    "model_average.plot_comparison(other_results=other_results, param='FK/Fpi_pm');"
   ]
  },
  {
   "cell_type": "code",
   "execution_count": null,
   "metadata": {},
   "outputs": [],
   "source": []
  },
  {
   "cell_type": "code",
   "execution_count": 62,
   "metadata": {},
   "outputs": [
    {
     "data": {
      "text/plain": [
       "{'Unnamed: 0': 96,\n",
       " 'name': 'ma-ratio_FKFK_nnlo',\n",
       " 'FK/Fpi': '1.1835(22)',\n",
       " 'delta_su2': '-0.00390(68)',\n",
       " 'logGBF': 49.062086144675035,\n",
       " 'chi2/df': 2.459374849755579,\n",
       " 'Q': 0.000967960649776293,\n",
       " 'vol': 0,\n",
       " 'L_4': '-0.001778(38)',\n",
       " 'L_5': '0.00100(12)',\n",
       " 'L_1': nan,\n",
       " 'L_2': nan,\n",
       " 'L_3': nan,\n",
       " 'L_6': nan,\n",
       " 'L_7': nan,\n",
       " 'L_8': nan,\n",
       " 'L_9': nan,\n",
       " 'A_a': '4.11(34)',\n",
       " 'A_k': '-0.21(58)',\n",
       " 'A_p': '-0.34(60)',\n",
       " 'A_loga': nan,\n",
       " 'A_aa': nan,\n",
       " 'prior': {'A_a': 0.0(4.1),\n",
       "  'A_k': 0.00(66),\n",
       "  'A_p': 0.00(66),\n",
       "  'L_4': 0.0000(50),\n",
       "  'L_5': 0.0000(50)},\n",
       " 'posterior': {'A_a': 4.11(34),\n",
       "  'A_k': -0.21(58),\n",
       "  'A_p': -0.34(60),\n",
       "  'L_4': -0.001778(38),\n",
       "  'L_5': 0.00100(12)},\n",
       " 'FK/Fpi_pm': 1.1812(22)}"
      ]
     },
     "execution_count": 62,
     "metadata": {},
     "output_type": "execute_result"
    }
   ],
   "source": [
    "model_average.fit_results['ma-ratio_FKFK_nnlo']"
   ]
  },
  {
   "cell_type": "code",
   "execution_count": null,
   "metadata": {},
   "outputs": [],
   "source": []
  },
  {
   "cell_type": "code",
   "execution_count": 78,
   "metadata": {
    "scrolled": false
   },
   "outputs": [
    {
     "name": "stdout",
     "output_type": "stream",
     "text": [
      "ma-ratio_FKFK_nnlo\n",
      "1.1835(22)\n",
      "1.1835(22)\n",
      "1.1835(22)\n",
      "1.1835(22)\n",
      "1.1835(22)\n"
     ]
    },
    {
     "ename": "NameError",
     "evalue": "name 's' is not defined",
     "output_type": "error",
     "traceback": [
      "\u001b[0;31m---------------------------------------------------------------------------\u001b[0m",
      "\u001b[0;31mNameError\u001b[0m                                 Traceback (most recent call last)",
      "\u001b[0;32m<ipython-input-78-e462d7747172>\u001b[0m in \u001b[0;36m<module>\u001b[0;34m\u001b[0m\n\u001b[1;32m     15\u001b[0m \u001b[0;34m\u001b[0m\u001b[0m\n\u001b[1;32m     16\u001b[0m \u001b[0;34m\u001b[0m\u001b[0m\n\u001b[0;32m---> 17\u001b[0;31m \u001b[0merror_budget\u001b[0m\u001b[0;34m(\u001b[0m\u001b[0mmodel_average\u001b[0m\u001b[0;34m)\u001b[0m\u001b[0;34m\u001b[0m\u001b[0;34m\u001b[0m\u001b[0m\n\u001b[0m\u001b[1;32m     18\u001b[0m \u001b[0;34m\u001b[0m\u001b[0m\n",
      "\u001b[0;32m<ipython-input-78-e462d7747172>\u001b[0m in \u001b[0;36merror_budget\u001b[0;34m(self)\u001b[0m\n\u001b[1;32m     11\u001b[0m             \u001b[0;31m#print(lec, fk_fpi.partialsdev(prior[lec]))\u001b[0m\u001b[0;34m\u001b[0m\u001b[0;34m\u001b[0m\u001b[0;34m\u001b[0m\u001b[0m\n\u001b[1;32m     12\u001b[0m \u001b[0;34m\u001b[0m\u001b[0m\n\u001b[0;32m---> 13\u001b[0;31m         \u001b[0ms\u001b[0m\u001b[0;34m\u001b[0m\u001b[0;34m\u001b[0m\u001b[0m\n\u001b[0m\u001b[1;32m     14\u001b[0m \u001b[0;34m\u001b[0m\u001b[0m\n\u001b[1;32m     15\u001b[0m \u001b[0;34m\u001b[0m\u001b[0m\n",
      "\u001b[0;31mNameError\u001b[0m: name 's' is not defined"
     ]
    }
   ],
   "source": [
    "def error_budget(self):\n",
    "    error = dict()\n",
    "    \n",
    "    #for base_model in np.unique([self._get_model_info_from_name(name)['base'] for name in self.fit_results]):\n",
    "    for model in list(self.fit_results)[:5]:\n",
    "        print(model)\n",
    "        prior = self.fit_results[model]['prior']\n",
    "        for lec in prior:\n",
    "            fk_fpi = self.fit_results[model]['FK/Fpi']\n",
    "            print(fk_fpi)\n",
    "            #print(lec, fk_fpi.partialsdev(prior[lec]))\n",
    "        \n",
    "    \n",
    "\n",
    "error_budget(model_average)\n",
    "\n"
   ]
  },
  {
   "cell_type": "code",
   "execution_count": 96,
   "metadata": {},
   "outputs": [],
   "source": [
    "# Problematic fit:\n",
    "#{'fit': 'nnlo', 'exclude': [], 'vol': 10, 'include_alpha_s': False, 'include_latt_n3lo': True, 'include_log': True, 'include_log2': True, 'include_sunset': True}\n"
   ]
  },
  {
   "cell_type": "code",
   "execution_count": null,
   "metadata": {},
   "outputs": [],
   "source": []
  },
  {
   "cell_type": "code",
   "execution_count": 92,
   "metadata": {},
   "outputs": [],
   "source": [
    "a = {}"
   ]
  },
  {
   "cell_type": "code",
   "execution_count": 93,
   "metadata": {},
   "outputs": [
    {
     "data": {
      "text/plain": [
       "10"
      ]
     },
     "execution_count": 93,
     "metadata": {},
     "output_type": "execute_result"
    }
   ],
   "source": [
    "a.setdefault('hi', 10)"
   ]
  },
  {
   "cell_type": "code",
   "execution_count": 89,
   "metadata": {},
   "outputs": [
    {
     "name": "stdout",
     "output_type": "stream",
     "text": [
      "12.747548783981962 12.747548783981962\n"
     ]
    }
   ],
   "source": [
    "m = gv.gvar(0.1, 0.01)\n",
    "v = gv.gvar(50, 0.5)\n",
    "E = 0.5 *m *v**2\n",
    "\n",
    "print(E.sdev, E.partialsdev([m, v]))"
   ]
  },
  {
   "cell_type": "code",
   "execution_count": null,
   "metadata": {},
   "outputs": [],
   "source": [
    "1184   {'chiral': 2.1129629629629427,'spacing_n2lo': 5.692592592592558,'spacing_n3lo': 0.0555555555555558}"
   ]
  },
  {
   "cell_type": "code",
   "execution_count": null,
   "metadata": {},
   "outputs": [],
   "source": []
  },
  {
   "cell_type": "code",
   "execution_count": null,
   "metadata": {},
   "outputs": [],
   "source": [
    "    tmp = fit_e.report_phys_point(phys_point)['phys']\n",
    "    Lchi_phys = phys_point['Lchi_'+FPK]\n",
    "    p_phys = dict()\n",
    "    p_phys[('phys','p2')] = phys_point['mpi']**2 / Lchi_phys**2\n",
    "    p_phys[('phys','k2')] = phys_point['mk']**2 / Lchi_phys**2\n",
    "    p_phys[('phys','e2')] = 4./3*p_phys[('phys','k2')] - 1./3 * p_phys[('phys','p2')]\n",
    "    print('stat',tmp.partialsdev(fit_e.fit.y))\n",
    "    for i in range(1,9):\n",
    "        print('L'+str(i), fit_e.fit.p['L'+str(i)], tmp.partialsdev(fit_e.fit.prior['L'+str(i)]))\n",
    "    for lec in ['p_4','k_4','s_4','saS_4','s_6']:\n",
    "        if lec in fit_e.fit.prior:\n",
    "            print(lec, fit_e.fit.p[lec], tmp.partialsdev(fit_e.fit.prior[lec]))\n",
    "    print('phys point','e_piSq = %s, e_KSq = %s'\n",
    "        %(str(p_phys[('phys','p2')]),str(p_phys[('phys','k2')])), \\\n",
    "            tmp.partialsdev(p_phys[('phys','p2')],p_phys[('phys','k2')]))"
   ]
  },
  {
   "cell_type": "code",
   "execution_count": null,
   "metadata": {},
   "outputs": [],
   "source": [
    "def error_budget(s,result_list):\n",
    "    err = dict()\n",
    "    for ansatz_truncate in s['ansatz']['type']:\n",
    "        result = result_list[ansatz_truncate]\n",
    "        fit = result['fit']\n",
    "        prior = fit.prior\n",
    "        priorc = result['phys']['priorc']\n",
    "        phys = result['phys']['result']\n",
    "        statistical = phys.partialsdev(fit.y,priorc['epi'],priorc['ed'])\n",
    "        # compile chiral and discretization and finite volume lists then splat as function input\n",
    "        X_list = []\n",
    "        d_list = []\n",
    "        k_list = []\n",
    "        v_list = []\n",
    "        at = ansatz_truncate.split('_')\n",
    "        ansatz = at[0]\n",
    "        n = int(at[1])\n",
    "        for key in prior.keys():\n",
    "            ks = key.split('_')\n",
    "            k = ks[-1]\n",
    "            if k[0] in ['c','g'] and ansatz_truncate in key:\n",
    "                X_list.append(prior[key])\n",
    "                k_list.append(key)\n",
    "            if k[0] in ['a','s','b'] and ansatz_truncate in key:\n",
    "                d_list.append(prior[key])\n",
    "                k_list.append(key)\n",
    "            if s['ansatz']['FVn'] is 3 and k[0] in ['f'] and ansatz_truncate in key:\n",
    "                v_list.append(prior[key])\n",
    "                k_list.append(key)\n",
    "        chiral      = phys.partialsdev(*X_list)\n",
    "        disc        = phys.partialsdev(*d_list)\n",
    "        if s['ansatz']['FVn'] is 3:\n",
    "            fv = phys.partialsdev(*v_list)\n",
    "        else:\n",
    "            fv = 0\n",
    "        pct = {'stat':[statistical/phys.mean*100],'chiral':[chiral/phys.mean*100],'disc':[disc/phys.mean*100],'fv':[fv/phys.mean*100],'total':[phys.sdev/phys.mean*100]}\n",
    "        std = {'stat':statistical,'chiral':chiral,'disc':disc,'fv':fv,'total':phys.sdev}\n",
    "        err[ansatz_truncate] = {'pct':pct,'std':std,'mean':phys.mean}\n",
    "    return err"
   ]
  },
  {
   "cell_type": "code",
   "execution_count": null,
   "metadata": {},
   "outputs": [],
   "source": []
  },
  {
   "cell_type": "code",
   "execution_count": null,
   "metadata": {},
   "outputs": [],
   "source": []
  },
  {
   "cell_type": "code",
   "execution_count": null,
   "metadata": {},
   "outputs": [],
   "source": []
  }
 ],
 "metadata": {
  "kernelspec": {
   "display_name": "Python 3",
   "language": "python",
   "name": "python3"
  },
  "language_info": {
   "codemirror_mode": {
    "name": "ipython",
    "version": 3
   },
   "file_extension": ".py",
   "mimetype": "text/x-python",
   "name": "python",
   "nbconvert_exporter": "python",
   "pygments_lexer": "ipython3",
   "version": "3.8.0"
  }
 },
 "nbformat": 4,
 "nbformat_minor": 2
}
