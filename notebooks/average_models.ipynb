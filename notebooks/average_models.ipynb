{
 "cells": [
  {
   "cell_type": "code",
   "execution_count": 1,
   "metadata": {},
   "outputs": [],
   "source": [
    "import numpy as np\n",
    "import gvar as gv\n",
    "import lsqfit\n",
    "import sys\n",
    "import os\n",
    "import matplotlib\n",
    "import matplotlib.pyplot as plt\n",
    "import pandas as pd\n",
    "import h5py\n",
    "import time\n",
    "\n",
    "\n",
    "sys.path.append(\"../\")\n",
    "import fitter.data_loader as dl\n",
    "import fitter.misc as ms\n",
    "import fitter.model_average as md\n",
    "#import fitter.fitter as fit\n",
    "\n",
    "for j in range(10): # Sometimes this needs to be loaded twice...\n",
    "    matplotlib.rcParams['figure.figsize'] = [10, 10]"
   ]
  },
  {
   "cell_type": "code",
   "execution_count": 2,
   "metadata": {},
   "outputs": [
    {
     "data": {
      "text/plain": [
       "<module 'fitter.misc' from '../fitter/misc.py'>"
      ]
     },
     "execution_count": 2,
     "metadata": {},
     "output_type": "execute_result"
    }
   ],
   "source": [
    "from importlib import reload\n",
    "reload(md)\n",
    "reload(dl)\n",
    "reload(ms)"
   ]
  },
  {
   "cell_type": "code",
   "execution_count": 6,
   "metadata": {},
   "outputs": [
    {
     "name": "stdout",
     "output_type": "stream",
     "text": [
      "FK/Fpi_pm: 1.1956(56)\n",
      "[FLAG:     1.1932(19)]\n",
      "\n",
      "---\n",
      "FK/Fpi:        1.1982(57) \n",
      "delta_su(2):  -0.00431(71) \n",
      "\n",
      "---\n",
      "Uncertainty: \n",
      "   Unexplained:  0.00390 \n",
      "   Explained:    0.00415 \n",
      "\n",
      "---\n",
      "Error Budget: \n",
      "   Chiral:       0.00066 \n",
      "   Phys Point:   0.00140 \n",
      "   Statistical:  0.00308 \n",
      "\n",
      "---\n",
      "Highest Weight: \n",
      "   0.091:  xpt_FKFK_n2lo_a4_FV\n",
      "   0.090:  xpt_FpiFpi_n2lo_log_logSq_sunset_alphaS_a4_FV_bijnens\n",
      "   0.088:  xpt_FKFpi_n3lo_log_logSq_sunset_a4_a6_FV_bijnens\n",
      "   0.083:  xpt_FKFK_n2lo_alphaS_a4_FV\n",
      "   0.081:  xpt_FKFpi_n2lo_log_logSq_sunset_a4_FV_bijnens\n",
      "\n"
     ]
    }
   ],
   "source": [
    "data_loader = dl.data_loader()\n",
    "fit_results = data_loader.get_fit_results('andre_models_optimized_priors')\n",
    "#other_results = data_loader.get_fit_results('optimized_priors_a4')\n",
    "other_results = data_loader.get_fit_results('other_collabs')\n",
    "\n",
    "model_average = md.model_average(fit_results)\n",
    "print(model_average)\n",
    "#model_average.plot_histogram('FK/Fpi', vary_choice='include_latt_n3lo')"
   ]
  },
  {
   "cell_type": "code",
   "execution_count": 10,
   "metadata": {},
   "outputs": [],
   "source": [
    "model_average.plot_comparison(param='A_p', show_model_avg=True);"
   ]
  },
  {
   "cell_type": "code",
   "execution_count": 9,
   "metadata": {},
   "outputs": [],
   "source": [
    "model_average.plot_comparison(param='L_5', show_model_avg=True);"
   ]
  },
  {
   "cell_type": "code",
   "execution_count": null,
   "metadata": {},
   "outputs": [],
   "source": []
  },
  {
   "cell_type": "code",
   "execution_count": 65,
   "metadata": {},
   "outputs": [],
   "source": []
  },
  {
   "cell_type": "code",
   "execution_count": 28,
   "metadata": {},
   "outputs": [
    {
     "name": "stdout",
     "output_type": "stream",
     "text": [
      "poly_FKFK_n2lo 2.8692253002452946e-48 1.22(18)\n",
      "A_a 0(111)\n",
      "--\n",
      "poly_FKFK_n2lo_a4 1.7679638536860084e-26 0.73(13)\n",
      "A_a 0(86)\n",
      "A_aa 0(792)\n",
      "--\n",
      "poly_FKFK_n2lo_a4_a6 2.5727614247537618e-26 0.73(13)\n",
      "A_a 0(66)\n",
      "A_aa 0(844)\n",
      "--\n",
      "poly_FKFK_n3lo_a4 1.356159897281221e-06 1.2188(71)\n",
      "A_a 0(60)\n",
      "A_aa 0(736)\n",
      "--\n",
      "poly_FKFK_n3lo_a4_a6 1.4836834964071734e-08 1.2107(62)\n",
      "A_a 0.0(7.7)\n",
      "A_aa 0(1020)\n",
      "--\n",
      "poly_FKFK_nlo 0.0 1.403(13)\n",
      "A_a 0(13)\n",
      "--\n",
      "poly_FKFK_nlo_a4 0.0 1.442(14)\n",
      "A_a 0(33)\n",
      "A_aa 0(1010)\n",
      "--\n",
      "poly_FKFK_nlo_a4_a6 0.0 1.442(14)\n",
      "A_a 0(33)\n",
      "A_aa 0(997)\n",
      "--\n",
      "poly_FKFpi_n2lo 3.0280518382904652e-58 1.47(15)\n",
      "A_a 0(72)\n",
      "--\n",
      "poly_FKFpi_n2lo_a4 4.948663041049588e-28 0.79(11)\n",
      "A_a 0(116)\n",
      "A_aa 0(911)\n",
      "--\n",
      "poly_FKFpi_n2lo_a4_a6 1.4147507068358337e-34 1.57(16)\n",
      "A_a 0(140)\n",
      "A_aa 0(1160)\n",
      "--\n",
      "poly_FKFpi_n3lo_a4 5.0958647548088395e-26 0.987(40)\n",
      "A_a 0(612)\n",
      "A_aa 0(993)\n",
      "--\n",
      "poly_FKFpi_n3lo_a4_a6 9.51031908170298e-21 1.143(15)\n",
      "A_a 0(57)\n",
      "A_aa 0(1060)\n",
      "--\n",
      "poly_FKFpi_nlo 0.0 1.473(12)\n",
      "A_a 0(17)\n",
      "--\n",
      "poly_FKFpi_nlo_a4 0.0 1.394(12)\n",
      "A_a 0(16)\n",
      "A_aa 0(1110)\n",
      "--\n",
      "poly_FKFpi_nlo_a4_a6 0.0 1.395(12)\n",
      "A_a 0(15)\n",
      "A_aa 0(1040)\n",
      "--\n",
      "poly_FpiFpi_n2lo 6.507635313254529e-49 1.60(19)\n",
      "A_a 0(32)\n",
      "--\n",
      "poly_FpiFpi_n2lo_a4 2.9413237026795866e-23 0.86(14)\n",
      "A_a 0(128)\n",
      "A_aa 0(931)\n",
      "--\n",
      "poly_FpiFpi_n2lo_a4_a6 8.54427934248506e-22 0.82(15)\n",
      "A_a 0(179)\n",
      "A_aa 0(1400)\n",
      "--\n",
      "poly_FpiFpi_n3lo_a4 2.2822955182422602e-23 0.87(13)\n",
      "A_a 0(151)\n",
      "A_aa 0(879)\n",
      "--\n",
      "poly_FpiFpi_n3lo_a4_a6 4.823556598001368e-19 0.82(11)\n",
      "A_a 0(241)\n",
      "A_aa 0(745)\n",
      "--\n",
      "poly_FpiFpi_nlo 0.0 1.533(19)\n",
      "A_a 0(18)\n",
      "--\n",
      "poly_FpiFpi_nlo_a4 0.0 1.580(21)\n",
      "A_a 0(34)\n",
      "A_aa 0(978)\n",
      "--\n",
      "poly_FpiFpi_nlo_a4_a6 0.0 1.580(21)\n",
      "A_a 0(35)\n",
      "A_aa 0(977)\n",
      "--\n"
     ]
    }
   ],
   "source": [
    "for model in model_average.get_model_names():\n",
    "    fit_info = model_average.fit_results[model]\n",
    "    prior = model_average._get_fit_prior(model)\n",
    "    print(model, fit_info['Q'],  fit_info['FK/Fpi'])\n",
    "    for key in ['A_a', 'A_loga', 'A_aa']:\n",
    "        if key in prior:\n",
    "            print(key, prior[key])\n",
    "    print('--')"
   ]
  },
  {
   "cell_type": "markdown",
   "metadata": {},
   "source": [
    "### Make plots"
   ]
  },
  {
   "cell_type": "code",
   "execution_count": 55,
   "metadata": {
    "scrolled": false
   },
   "outputs": [],
   "source": [
    "model_average.plot_fits('mpi');"
   ]
  },
  {
   "cell_type": "code",
   "execution_count": 23,
   "metadata": {},
   "outputs": [],
   "source": [
    "model_average.plot_histogram('FK/Fpi_pm', vary_choice='latt_ct');"
   ]
  },
  {
   "cell_type": "code",
   "execution_count": 57,
   "metadata": {},
   "outputs": [],
   "source": [
    "model_average.average('FK');"
   ]
  },
  {
   "cell_type": "code",
   "execution_count": 58,
   "metadata": {},
   "outputs": [],
   "source": [
    "model_average.plot_comparison(other_results=other_results, param='FK/Fpi_pm', show_model_avg=True);"
   ]
  },
  {
   "cell_type": "code",
   "execution_count": null,
   "metadata": {},
   "outputs": [],
   "source": []
  },
  {
   "cell_type": "code",
   "execution_count": null,
   "metadata": {},
   "outputs": [],
   "source": []
  },
  {
   "cell_type": "code",
   "execution_count": null,
   "metadata": {},
   "outputs": [],
   "source": []
  },
  {
   "cell_type": "code",
   "execution_count": null,
   "metadata": {},
   "outputs": [],
   "source": []
  }
 ],
 "metadata": {
  "kernelspec": {
   "display_name": "Python 3",
   "language": "python",
   "name": "python3"
  },
  "language_info": {
   "codemirror_mode": {
    "name": "ipython",
    "version": 3
   },
   "file_extension": ".py",
   "mimetype": "text/x-python",
   "name": "python",
   "nbconvert_exporter": "python",
   "pygments_lexer": "ipython3",
   "version": "3.8.2"
  }
 },
 "nbformat": 4,
 "nbformat_minor": 2
}
