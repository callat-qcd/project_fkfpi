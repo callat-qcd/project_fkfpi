{
 "cells": [
  {
   "cell_type": "code",
   "execution_count": 9,
   "metadata": {},
   "outputs": [],
   "source": [
    "import numpy as np\n",
    "import gvar as gv\n",
    "import lsqfit\n",
    "import sys\n",
    "import os\n",
    "import matplotlib\n",
    "import matplotlib.pyplot as plt\n",
    "import pandas as pd\n",
    "import h5py\n",
    "import time\n",
    "\n",
    "\n",
    "sys.path.append(\"../\")\n",
    "import fitter.data_loader as dl\n",
    "import fitter.misc as ms\n",
    "import fitter.model_average as md\n",
    "#import fitter.fitter as fit\n",
    "\n",
    "for j in range(10): # Sometimes this needs to be loaded twice...\n",
    "    matplotlib.rcParams['figure.figsize'] = [10, 10]"
   ]
  },
  {
   "cell_type": "code",
   "execution_count": 10,
   "metadata": {},
   "outputs": [
    {
     "data": {
      "text/plain": [
       "<module 'fitter.misc' from '../fitter/misc.py'>"
      ]
     },
     "execution_count": 10,
     "metadata": {},
     "output_type": "execute_result"
    }
   ],
   "source": [
    "from importlib import reload\n",
    "reload(md)\n",
    "reload(dl)\n",
    "reload(ms)"
   ]
  },
  {
   "cell_type": "code",
   "execution_count": 11,
   "metadata": {},
   "outputs": [
    {
     "name": "stdout",
     "output_type": "stream",
     "text": [
      "FK/Fpi_pm: 1.1951(82)\n",
      "[FLAG:     1.1932(19)]\n",
      "\n",
      "---\n",
      "FK/Fpi:        1.1977(83) \n",
      "delta_su(2):  -0.00430(73) \n",
      "\n",
      "---\n",
      "Uncertainty: \n",
      "   Unexplained: 0.00547 \n",
      "   Explained:   0.00625 \n",
      "\n",
      "---\n",
      "Error Budget: \n",
      "   Chiral:      0.000915 \n",
      "   Phys Point:  0.00157 \n",
      "   Statistical: 0.00478 \n",
      "\n"
     ]
    }
   ],
   "source": [
    "data_loader = dl.data_loader()\n",
    "fit_results = data_loader.get_fit_results('default_priors')\n",
    "#other_results = data_loader.get_fit_results('optimized_priors_a4')\n",
    "other_results = data_loader.get_fit_results('other_collabs')\n",
    "\n",
    "model_average = md.model_average(fit_results)\n",
    "print(model_average)\n",
    "#model_average.plot_histogram('FK/Fpi', vary_choice='include_latt_n3lo')"
   ]
  },
  {
   "cell_type": "code",
   "execution_count": null,
   "metadata": {},
   "outputs": [],
   "source": []
  },
  {
   "cell_type": "code",
   "execution_count": 16,
   "metadata": {},
   "outputs": [
    {
     "name": "stdout",
     "output_type": "stream",
     "text": [
      "xpt_FpiFpi_nnlo_FV 0.003753475005480116 1.1904(27)\n",
      "A_a 0(100)\n",
      "--\n"
     ]
    }
   ],
   "source": [
    "for model in model_average.get_model_names():\n",
    "    fit_info = model_average.fit_results[model]\n",
    "    prior = model_average._get_fit_prior(model)\n",
    "    print(model, fit_info['Q'],  fit_info['FK/Fpi'])\n",
    "    for key in ['A_a', 'A_loga', 'A_aa']:\n",
    "        if key in prior:\n",
    "            print(key, prior[key])\n",
    "    print('--')"
   ]
  },
  {
   "cell_type": "markdown",
   "metadata": {},
   "source": [
    "### Make plots"
   ]
  },
  {
   "cell_type": "code",
   "execution_count": 5,
   "metadata": {},
   "outputs": [],
   "source": [
    "model_average.plot_fits('a');"
   ]
  },
  {
   "cell_type": "code",
   "execution_count": 13,
   "metadata": {},
   "outputs": [],
   "source": [
    "model_average.plot_histogram('FK/Fpi_pm', vary_choice='F2');"
   ]
  },
  {
   "cell_type": "code",
   "execution_count": null,
   "metadata": {},
   "outputs": [],
   "source": [
    "model_average.average('FK')"
   ]
  },
  {
   "cell_type": "code",
   "execution_count": 15,
   "metadata": {},
   "outputs": [],
   "source": [
    "model_average.plot_comparison(other_results=other_results, param='FK/Fpi_pm', show_model_avg=True);"
   ]
  },
  {
   "cell_type": "code",
   "execution_count": 16,
   "metadata": {},
   "outputs": [],
   "source": [
    "model_average.plot_comparison(other_results=other_results, param='FK/Fpi_pm', show_model_avg=True);"
   ]
  },
  {
   "cell_type": "code",
   "execution_count": null,
   "metadata": {},
   "outputs": [],
   "source": []
  },
  {
   "cell_type": "code",
   "execution_count": null,
   "metadata": {},
   "outputs": [],
   "source": []
  },
  {
   "cell_type": "code",
   "execution_count": null,
   "metadata": {},
   "outputs": [],
   "source": []
  },
  {
   "cell_type": "code",
   "execution_count": null,
   "metadata": {},
   "outputs": [],
   "source": []
  }
 ],
 "metadata": {
  "kernelspec": {
   "display_name": "Python 3",
   "language": "python",
   "name": "python3"
  },
  "language_info": {
   "codemirror_mode": {
    "name": "ipython",
    "version": 3
   },
   "file_extension": ".py",
   "mimetype": "text/x-python",
   "name": "python",
   "nbconvert_exporter": "python",
   "pygments_lexer": "ipython3",
   "version": "3.8.2"
  }
 },
 "nbformat": 4,
 "nbformat_minor": 2
}
