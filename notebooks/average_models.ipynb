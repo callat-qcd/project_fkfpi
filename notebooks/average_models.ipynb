{
 "cells": [
  {
   "cell_type": "code",
   "execution_count": 61,
   "metadata": {},
   "outputs": [],
   "source": [
    "import numpy as np\n",
    "import gvar as gv\n",
    "import lsqfit\n",
    "import sys\n",
    "import os\n",
    "import matplotlib\n",
    "import matplotlib.pyplot as plt\n",
    "import pandas as pd\n",
    "import h5py\n",
    "import time\n",
    "\n",
    "\n",
    "sys.path.append(\"../\")\n",
    "import fitter.data_loader as dl\n",
    "import fitter.misc as ms\n",
    "import fitter.model_average as md\n",
    "#import fitter.fitter as fit\n",
    "\n",
    "for j in range(10): # Sometimes this needs to be loaded twice...\n",
    "    matplotlib.rcParams['figure.figsize'] = [10, 10]"
   ]
  },
  {
   "cell_type": "code",
   "execution_count": 74,
   "metadata": {},
   "outputs": [
    {
     "data": {
      "text/plain": [
       "<module 'fitter.misc' from '../fitter/misc.py'>"
      ]
     },
     "execution_count": 74,
     "metadata": {},
     "output_type": "execute_result"
    }
   ],
   "source": [
    "from importlib import reload\n",
    "reload(md)\n",
    "#reload(fit)\n",
    "reload(dl)\n",
    "reload(ms)"
   ]
  },
  {
   "cell_type": "code",
   "execution_count": 75,
   "metadata": {},
   "outputs": [
    {
     "name": "stdout",
     "output_type": "stream",
     "text": [
      "FK/Fpi_pm = 1.206(18) \t [FLAG: 1.1932(19)] \n",
      "\n",
      "---\n",
      "FK/Fpi =      1.209(19) \n",
      "delta_su(2) = -0.00461(88) \n",
      "\n",
      "---\n",
      "Uncertainty: \n",
      "   Unexplained: 0.0114 \n",
      "   Explained:   0.0146 \n",
      "\n",
      "---\n",
      "Error Budget: \n",
      "   Chiral:      0.00121 \n",
      "   Phys Point:  0.00151 \n",
      "   Statistical: 0.00998 \n",
      "\n"
     ]
    }
   ],
   "source": [
    "data_loader = dl.data_loader()\n",
    "fit_results = data_loader.get_fit_info('optimized_priors')\n",
    "#other_results = data_loader.get_fit_info('optimized_priors_a4')\n",
    "#other_results = data_loader.get_fit_info('other_collabs')\n",
    "\n",
    "model_average = md.model_average(fit_results)\n",
    "print(model_average)\n",
    "#model_average.plot_histogram('FK/Fpi', vary_choice='include_latt_n3lo')"
   ]
  },
  {
   "cell_type": "code",
   "execution_count": null,
   "metadata": {},
   "outputs": [],
   "source": []
  },
  {
   "cell_type": "code",
   "execution_count": 19,
   "metadata": {},
   "outputs": [
    {
     "name": "stdout",
     "output_type": "stream",
     "text": [
      "xpt_FpiFpi_nnlo_log_logSq_sunset_FV_bijnens 0.03419350094958941 1.1881(28)\n",
      "A_a -10(10)\n",
      "--\n",
      "xpt_FpiFpi_nnlo_log_logSq_sunset_a4_FV_bijnens 0.8220959613321732 1.2031(45)\n",
      "A_a -10(10)\n",
      "A_aa 100(100)\n",
      "--\n",
      "xpt_FpiFpi_nnlo_log_logSq_sunset_alphaS_FV_bijnens 0.11334930003863086 1.2003(65)\n",
      "A_a -10(10)\n",
      "A_loga 0(10)\n",
      "--\n",
      "xpt_FpiFpi_nnlo_log_logSq_sunset_alphaS_a4_FV_bijnens 0.8220561289104072 1.2044(65)\n",
      "A_a -10(10)\n",
      "A_loga 0(10)\n",
      "A_aa 100(100)\n",
      "--\n"
     ]
    }
   ],
   "source": [
    "for model in model_average.get_model_names():\n",
    "    fit_info = model_average.fit_results[model]\n",
    "    prior = model_average._get_fit_prior(model)\n",
    "    print(model, fit_info['Q'],  fit_info['FK/Fpi'])\n",
    "    for key in ['A_a', 'A_loga', 'A_aa']:\n",
    "        if key in prior:\n",
    "            print(key, prior[key])\n",
    "    print('--')"
   ]
  },
  {
   "cell_type": "code",
   "execution_count": null,
   "metadata": {},
   "outputs": [],
   "source": []
  },
  {
   "cell_type": "code",
   "execution_count": null,
   "metadata": {},
   "outputs": [],
   "source": []
  },
  {
   "cell_type": "code",
   "execution_count": null,
   "metadata": {},
   "outputs": [],
   "source": []
  },
  {
   "cell_type": "code",
   "execution_count": null,
   "metadata": {},
   "outputs": [],
   "source": [
    "data_loader = dl.data_loader()\n",
    "fit_results = data_loader.get_fit_info('wide_priors_a4')\n",
    "other_results = data_loader.get_fit_info('other_collabs')\n",
    "\n",
    "model_average = md.model_average(fit_results)\n",
    "print(model_average.average())\n",
    "#model_average.plot_histogram('FK/Fpi', vary_choice='include_latt_n3lo')"
   ]
  },
  {
   "cell_type": "code",
   "execution_count": null,
   "metadata": {},
   "outputs": [],
   "source": []
  },
  {
   "cell_type": "code",
   "execution_count": 14,
   "metadata": {},
   "outputs": [
    {
     "name": "stdout",
     "output_type": "stream",
     "text": [
      "1.200(23)\n"
     ]
    }
   ],
   "source": [
    "data_loader = dl.data_loader()\n",
    "fit_results = data_loader.get_fit_info('wide_priors')\n",
    "other_results = data_loader.get_fit_info('other_collabs')\n",
    "\n",
    "model_average = md.model_average(fit_results)\n",
    "print(model_average.average('FK/Fpi_pm'))\n",
    "#model_average.plot_histogram('FK/Fpi', vary_choice='include_latt_n3lo')"
   ]
  },
  {
   "cell_type": "code",
   "execution_count": 26,
   "metadata": {},
   "outputs": [
    {
     "name": "stdout",
     "output_type": "stream",
     "text": [
      "1.1884(83)\n"
     ]
    }
   ],
   "source": [
    "data_loader = dl.data_loader()\n",
    "fit_results = data_loader.get_fit_info('optimized_priors')\n",
    "other_results = data_loader.get_fit_info('other_collabs')\n",
    "\n",
    "model_average = md.model_average(fit_results)\n",
    "print(model_average.average('FK/Fpi_pm'))\n",
    "#model_average.plot_histogram('FK/Fpi', vary_choice='include_latt_n3lo')"
   ]
  },
  {
   "cell_type": "code",
   "execution_count": null,
   "metadata": {},
   "outputs": [],
   "source": []
  },
  {
   "cell_type": "code",
   "execution_count": 37,
   "metadata": {},
   "outputs": [
    {
     "ename": "NameError",
     "evalue": "name 'name' is not defined",
     "output_type": "error",
     "traceback": [
      "\u001b[0;31m---------------------------------------------------------------------------\u001b[0m",
      "\u001b[0;31mNameError\u001b[0m                                 Traceback (most recent call last)",
      "\u001b[0;32m<ipython-input-37-64b250449321>\u001b[0m in \u001b[0;36m<module>\u001b[0;34m\u001b[0m\n\u001b[1;32m      3\u001b[0m     \u001b[0;32mreturn\u001b[0m \u001b[0mself\u001b[0m\u001b[0;34m.\u001b[0m\u001b[0mfitfcn\u001b[0m\u001b[0;34m(\u001b[0m\u001b[0mmodel\u001b[0m\u001b[0;34m,\u001b[0m \u001b[0mdata\u001b[0m\u001b[0;34m)\u001b[0m\u001b[0;34m\u001b[0m\u001b[0;34m\u001b[0m\u001b[0m\n\u001b[1;32m      4\u001b[0m \u001b[0;34m\u001b[0m\u001b[0m\n\u001b[0;32m----> 5\u001b[0;31m \u001b[0mextrapolate_to_phys_point\u001b[0m\u001b[0;34m(\u001b[0m\u001b[0mmodel_average\u001b[0m\u001b[0;34m,\u001b[0m \u001b[0;34m'ma-ratio_FKFK_nnlo'\u001b[0m\u001b[0;34m)\u001b[0m\u001b[0;34m\u001b[0m\u001b[0;34m\u001b[0m\u001b[0m\n\u001b[0m",
      "\u001b[0;32m<ipython-input-37-64b250449321>\u001b[0m in \u001b[0;36mextrapolate_to_phys_point\u001b[0;34m(self, model)\u001b[0m\n\u001b[1;32m      1\u001b[0m \u001b[0;32mdef\u001b[0m \u001b[0mextrapolate_to_phys_point\u001b[0m\u001b[0;34m(\u001b[0m\u001b[0mself\u001b[0m\u001b[0;34m,\u001b[0m \u001b[0mmodel\u001b[0m\u001b[0;34m)\u001b[0m\u001b[0;34m:\u001b[0m\u001b[0;34m\u001b[0m\u001b[0;34m\u001b[0m\u001b[0m\n\u001b[1;32m      2\u001b[0m     \u001b[0mdata\u001b[0m \u001b[0;34m=\u001b[0m \u001b[0mself\u001b[0m\u001b[0;34m.\u001b[0m\u001b[0m_get_phys_point_data\u001b[0m\u001b[0;34m(\u001b[0m\u001b[0mmodel\u001b[0m\u001b[0;34m)\u001b[0m\u001b[0;34m\u001b[0m\u001b[0;34m\u001b[0m\u001b[0m\n\u001b[0;32m----> 3\u001b[0;31m     \u001b[0;32mreturn\u001b[0m \u001b[0mself\u001b[0m\u001b[0;34m.\u001b[0m\u001b[0mfitfcn\u001b[0m\u001b[0;34m(\u001b[0m\u001b[0mmodel\u001b[0m\u001b[0;34m,\u001b[0m \u001b[0mdata\u001b[0m\u001b[0;34m)\u001b[0m\u001b[0;34m\u001b[0m\u001b[0;34m\u001b[0m\u001b[0m\n\u001b[0m\u001b[1;32m      4\u001b[0m \u001b[0;34m\u001b[0m\u001b[0m\n\u001b[1;32m      5\u001b[0m \u001b[0mextrapolate_to_phys_point\u001b[0m\u001b[0;34m(\u001b[0m\u001b[0mmodel_average\u001b[0m\u001b[0;34m,\u001b[0m \u001b[0;34m'ma-ratio_FKFK_nnlo'\u001b[0m\u001b[0;34m)\u001b[0m\u001b[0;34m\u001b[0m\u001b[0;34m\u001b[0m\u001b[0m\n",
      "\u001b[0;32m/mnt/Google/Documents/School Work/Research/fk-fpi/fitter/model_average.py\u001b[0m in \u001b[0;36mfitfcn\u001b[0;34m(self, model, data, p)\u001b[0m\n\u001b[1;32m    200\u001b[0m \u001b[0;34m\u001b[0m\u001b[0m\n\u001b[1;32m    201\u001b[0m         \u001b[0;32mif\u001b[0m \u001b[0mp\u001b[0m \u001b[0;32mis\u001b[0m \u001b[0;32mNone\u001b[0m\u001b[0;34m:\u001b[0m\u001b[0;34m\u001b[0m\u001b[0;34m\u001b[0m\u001b[0m\n\u001b[0;32m--> 202\u001b[0;31m             \u001b[0mp\u001b[0m \u001b[0;34m=\u001b[0m \u001b[0mself\u001b[0m\u001b[0;34m.\u001b[0m\u001b[0m_get_fit_parameters\u001b[0m\u001b[0;34m(\u001b[0m\u001b[0mname\u001b[0m\u001b[0;34m)\u001b[0m\u001b[0;34m\u001b[0m\u001b[0;34m\u001b[0m\u001b[0m\n\u001b[0m\u001b[1;32m    203\u001b[0m \u001b[0;34m\u001b[0m\u001b[0m\n\u001b[1;32m    204\u001b[0m         order = {\n",
      "\u001b[0;31mNameError\u001b[0m: name 'name' is not defined"
     ]
    }
   ],
   "source": [
    "def extrapolate_to_phys_point(self, model):\n",
    "    data = self._get_phys_point_data(model)\n",
    "    return self.fitfcn(model, data)\n",
    "    \n",
    "extrapolate_to_phys_point(model_average, 'ma-ratio_FKFK_nnlo')"
   ]
  },
  {
   "cell_type": "code",
   "execution_count": null,
   "metadata": {},
   "outputs": [],
   "source": []
  },
  {
   "cell_type": "code",
   "execution_count": null,
   "metadata": {},
   "outputs": [],
   "source": []
  },
  {
   "cell_type": "code",
   "execution_count": 49,
   "metadata": {},
   "outputs": [
    {
     "data": {
      "text/plain": [
       "[1.208894300932465, 0.011444465236350471, 0.014573587284458279]"
      ]
     },
     "execution_count": 49,
     "metadata": {},
     "output_type": "execute_result"
    }
   ],
   "source": [
    "model_average.average(split_unc=True)"
   ]
  },
  {
   "cell_type": "code",
   "execution_count": 50,
   "metadata": {
    "scrolled": true
   },
   "outputs": [
    {
     "data": {
      "text/plain": [
       "[-0.004612132891777643, 0.0007748436732248578, 0.0004082237334586551]"
      ]
     },
     "execution_count": 50,
     "metadata": {},
     "output_type": "execute_result"
    }
   ],
   "source": [
    "model_average.average(split_unc=True, param='delta_su2')"
   ]
  },
  {
   "cell_type": "markdown",
   "metadata": {},
   "source": [
    "### Make plots"
   ]
  },
  {
   "cell_type": "code",
   "execution_count": 45,
   "metadata": {},
   "outputs": [
    {
     "data": {
      "text/plain": [
       "{'name': 'ma-ratio_FKFK_nnlo',\n",
       " 'FK/Fpi': 1.1817(32),\n",
       " 'delta_su2': -0.00385(69),\n",
       " 'logGBF': 49.633386158699054,\n",
       " 'chi2/df': 2.1772502580563553,\n",
       " 'Q': 0.003351270553529335,\n",
       " 'prior': {'A_a': 0(100),\n",
       "  'A_k': 0.0(8.7),\n",
       "  'A_p': 0.0(8.7),\n",
       "  'L_4': 0.0000(50),\n",
       "  'L_5': 0.0000(50)},\n",
       " 'posterior': {'A_a': -2.6(1.1),\n",
       "  'A_k': 12.4(3.2),\n",
       "  'A_p': -1.8(1.5),\n",
       "  'L_4': 0.00061(31),\n",
       "  'L_5': -0.00184(80)},\n",
       " 'phys_point': {'a/w0': 0(0),\n",
       "  'a': 0(0),\n",
       "  'L': inf(0),\n",
       "  'alpha_s': 0(0),\n",
       "  'mpi': 134.80(30),\n",
       "  'mk': 494.20(30),\n",
       "  'mss': 685.78(44),\n",
       "  'a2DI': 0(0),\n",
       "  'Fpi': 92.07(57),\n",
       "  'FK': 109.96(49),\n",
       "  'w0': 0.175(10),\n",
       "  'FK/Fpi_pm': 1.1932(19),\n",
       "  'mju': 134.80(30),\n",
       "  'mru': 494.20(30),\n",
       "  'mjs': 494.20(30),\n",
       "  'mrs': 685.78(44),\n",
       "  'lam2_chi_kpi': 1.599(12)e+06,\n",
       "  'lam2_chi_pipi': 1.338(16)e+06,\n",
       "  'lam2_chi_kk': 1.909(17)e+06,\n",
       "  'lam2_chi_00': 1.3653(21)e+06,\n",
       "  'lam2_chi': 1.909(17)e+06},\n",
       " 'error_budget': {'disc': 2.364000837639449e-06,\n",
       "  'chiral': 0.00026478866923653166,\n",
       "  'pp_input': 0.0025294433504133114,\n",
       "  'stat': 0.0018497615667101344},\n",
       " 'FK/Fpi_pm': 1.1795(31)}"
      ]
     },
     "execution_count": 45,
     "metadata": {},
     "output_type": "execute_result"
    }
   ],
   "source": [
    "model_average.fit_results['ma-ratio_FKFK_nnlo']"
   ]
  },
  {
   "cell_type": "code",
   "execution_count": 7,
   "metadata": {},
   "outputs": [],
   "source": [
    "model_average.plot_fits('a');"
   ]
  },
  {
   "cell_type": "code",
   "execution_count": 13,
   "metadata": {},
   "outputs": [],
   "source": [
    "model_average.plot_histogram('FK/Fpi_pm', vary_choice='F2');"
   ]
  },
  {
   "cell_type": "code",
   "execution_count": null,
   "metadata": {},
   "outputs": [],
   "source": [
    "model_average.average('FK')"
   ]
  },
  {
   "cell_type": "code",
   "execution_count": 15,
   "metadata": {},
   "outputs": [],
   "source": [
    "model_average.plot_comparison(other_results=other_results, param='FK/Fpi_pm', show_model_avg=True);"
   ]
  },
  {
   "cell_type": "code",
   "execution_count": 16,
   "metadata": {},
   "outputs": [],
   "source": [
    "model_average.plot_comparison(other_results=other_results, param='FK/Fpi_pm', show_model_avg=True);"
   ]
  },
  {
   "cell_type": "code",
   "execution_count": null,
   "metadata": {},
   "outputs": [],
   "source": []
  },
  {
   "cell_type": "code",
   "execution_count": null,
   "metadata": {},
   "outputs": [],
   "source": []
  },
  {
   "cell_type": "code",
   "execution_count": null,
   "metadata": {},
   "outputs": [],
   "source": []
  },
  {
   "cell_type": "code",
   "execution_count": null,
   "metadata": {},
   "outputs": [],
   "source": [
    "fk_fpi.partia"
   ]
  },
  {
   "cell_type": "code",
   "execution_count": null,
   "metadata": {},
   "outputs": [],
   "source": [
    "gv.corr()"
   ]
  },
  {
   "cell_type": "code",
   "execution_count": 37,
   "metadata": {
    "scrolled": false
   },
   "outputs": [
    {
     "name": "stdout",
     "output_type": "stream",
     "text": [
      "\n",
      " ma-ratio_FKFK_nnlo_logSq_sunset_alphaS_a4\n",
      "-0.3448807729671478\n",
      "1.1917(49)\n",
      "A_a 0.004933798483224514\n",
      "A_a 0.004933798483224514\n",
      "eps2_pi -0.0\n",
      "0.4002125335950465\n",
      "1.1917(49)\n",
      "A_aa 0.004933798483224514\n",
      "A_aa 0.004933798483224514\n",
      "eps2_pi -0.0\n",
      "-0.3744168762403517\n",
      "1.1917(49)\n",
      "A_k 0.004933798483224514\n",
      "A_k 0.004933798483224514\n",
      "eps2_pi -0.0\n",
      "0.020955100691821178\n",
      "1.1917(49)\n",
      "A_loga 0.004933798483224514\n",
      "A_loga 0.004933798483224514\n",
      "eps2_pi -0.0\n",
      "0.31979027791883713\n",
      "1.1917(49)\n",
      "A_p 0.004933798483224514\n",
      "A_p 0.004933798483224514\n",
      "eps2_pi -0.0\n",
      "-0.020483401723443522\n",
      "1.1917(49)\n",
      "L_4 0.004933798483224514\n",
      "L_4 0.004933798483224514\n",
      "eps2_pi -0.0\n",
      "0.06063067618050976\n",
      "1.1917(49)\n",
      "L_5 0.004933798483224514\n",
      "L_5 0.004933798483224514\n",
      "eps2_pi -0.0\n"
     ]
    }
   ],
   "source": [
    "def error_budget(self):\n",
    "    error = dict()\n",
    "    \n",
    "    #for base_model in np.unique([self._get_model_info_from_name(name)['base'] for name in self.fit_results]):\n",
    "    for model in list(self.fit_results)[12:13]:\n",
    "        print('\\n', model)\n",
    "        prior = self.fit_results[model]['prior']\n",
    "        posterior = self.fit_results[model]['posterior']\n",
    "        for lec in prior:\n",
    "            fk_fpi = self.fit_results[model]['FK/Fpi']\n",
    "            #print(gv.corr(fk_fpi, prior[lec]))\n",
    "            print(fk_fpi)\n",
    "            print(lec, fk_fpi.partialsdev(prior[lec]))\n",
    "            print(lec, fk_fpi.partialsdev(posterior[lec]))\n",
    "            \n",
    "            phys_point_data = self._get_phys_point_data(model)\n",
    "            eps2_pi = phys_point_data['mpi']**2 / phys_point_data['lam2_chi']\n",
    "            print('eps2_pi', fk_fpi.partialsdev(eps2_pi))\n",
    "        \n",
    "    \n",
    "\n",
    "error_budget(model_average)\n",
    "\n"
   ]
  },
  {
   "cell_type": "code",
   "execution_count": 96,
   "metadata": {},
   "outputs": [],
   "source": [
    "# Problematic fit:\n",
    "#{'fit': 'nnlo', 'exclude': [], 'vol': 10, 'include_alpha_s': False, 'include_latt_n3lo': True, 'include_log': True, 'include_log2': True, 'include_sunset': True}\n"
   ]
  },
  {
   "cell_type": "code",
   "execution_count": null,
   "metadata": {},
   "outputs": [],
   "source": []
  },
  {
   "cell_type": "code",
   "execution_count": 92,
   "metadata": {},
   "outputs": [],
   "source": [
    "a = {}"
   ]
  },
  {
   "cell_type": "code",
   "execution_count": 93,
   "metadata": {},
   "outputs": [
    {
     "data": {
      "text/plain": [
       "10"
      ]
     },
     "execution_count": 93,
     "metadata": {},
     "output_type": "execute_result"
    }
   ],
   "source": [
    "a.setdefault('hi', 10)"
   ]
  },
  {
   "cell_type": "code",
   "execution_count": 24,
   "metadata": {},
   "outputs": [
    {
     "name": "stdout",
     "output_type": "stream",
     "text": [
      "12.747548783981962 12.747548783981962\n"
     ]
    }
   ],
   "source": [
    "m = gv.gvar(0.1, 0.01)\n",
    "v = gv.gvar(50, 0.5)\n",
    "E = 0.5 *m *v**2\n",
    "\n",
    "print(E.sdev, E.partialsdev([m, v]))"
   ]
  },
  {
   "cell_type": "code",
   "execution_count": null,
   "metadata": {},
   "outputs": [],
   "source": []
  },
  {
   "cell_type": "code",
   "execution_count": null,
   "metadata": {},
   "outputs": [],
   "source": [
    "    tmp = fit_e.report_phys_point(phys_point)['phys']\n",
    "    Lchi_phys = phys_point['Lchi_'+FPK]\n",
    "    p_phys = dict()\n",
    "    p_phys[('phys','p2')] = phys_point['mpi']**2 / Lchi_phys**2\n",
    "    p_phys[('phys','k2')] = phys_point['mk']**2 / Lchi_phys**2\n",
    "    p_phys[('phys','e2')] = 4./3*p_phys[('phys','k2')] - 1./3 * p_phys[('phys','p2')]\n",
    "    print('stat',tmp.partialsdev(fit_e.fit.y))\n",
    "    for i in range(1,9):\n",
    "        print('L'+str(i), fit_e.fit.p['L'+str(i)], tmp.partialsdev(fit_e.fit.prior['L'+str(i)]))\n",
    "    for lec in ['p_4','k_4','s_4','saS_4','s_6']:\n",
    "        if lec in fit_e.fit.prior:\n",
    "            print(lec, fit_e.fit.p[lec], tmp.partialsdev(fit_e.fit.prior[lec]))\n",
    "    print('phys point','e_piSq = %s, e_KSq = %s'\n",
    "        %(str(p_phys[('phys','p2')]),str(p_phys[('phys','k2')])), \\\n",
    "            tmp.partialsdev(p_phys[('phys','p2')],p_phys[('phys','k2')]))"
   ]
  },
  {
   "cell_type": "code",
   "execution_count": null,
   "metadata": {},
   "outputs": [],
   "source": [
    "def error_budget(s,result_list):\n",
    "    err = dict()\n",
    "    for ansatz_truncate in s['ansatz']['type']:\n",
    "        result = result_list[ansatz_truncate]\n",
    "        fit = result['fit']\n",
    "        prior = fit.prior\n",
    "        priorc = result['phys']['priorc']\n",
    "        phys = result['phys']['result']\n",
    "        statistical = phys.partialsdev(fit.y,priorc['epi'],priorc['ed'])\n",
    "        # compile chiral and discretization and finite volume lists then splat as function input\n",
    "        X_list = []\n",
    "        d_list = []\n",
    "        k_list = []\n",
    "        v_list = []\n",
    "        at = ansatz_truncate.split('_')\n",
    "        ansatz = at[0]\n",
    "        n = int(at[1])\n",
    "        for key in prior.keys():\n",
    "            ks = key.split('_')\n",
    "            k = ks[-1]\n",
    "            if k[0] in ['c','g'] and ansatz_truncate in key:\n",
    "                X_list.append(prior[key])\n",
    "                k_list.append(key)\n",
    "            if k[0] in ['a','s','b'] and ansatz_truncate in key:\n",
    "                d_list.append(prior[key])\n",
    "                k_list.append(key)\n",
    "            if s['ansatz']['FVn'] is 3 and k[0] in ['f'] and ansatz_truncate in key:\n",
    "                v_list.append(prior[key])\n",
    "                k_list.append(key)\n",
    "        chiral      = phys.partialsdev(*X_list)\n",
    "        disc        = phys.partialsdev(*d_list)\n",
    "        if s['ansatz']['FVn'] is 3:\n",
    "            fv = phys.partialsdev(*v_list)\n",
    "        else:\n",
    "            fv = 0\n",
    "        pct = {'stat':[statistical/phys.mean*100],'chiral':[chiral/phys.mean*100],'disc':[disc/phys.mean*100],'fv':[fv/phys.mean*100],'total':[phys.sdev/phys.mean*100]}\n",
    "        std = {'stat':statistical,'chiral':chiral,'disc':disc,'fv':fv,'total':phys.sdev}\n",
    "        err[ansatz_truncate] = {'pct':pct,'std':std,'mean':phys.mean}\n",
    "    return err"
   ]
  },
  {
   "cell_type": "code",
   "execution_count": null,
   "metadata": {},
   "outputs": [],
   "source": []
  },
  {
   "cell_type": "code",
   "execution_count": null,
   "metadata": {},
   "outputs": [],
   "source": []
  },
  {
   "cell_type": "code",
   "execution_count": null,
   "metadata": {},
   "outputs": [],
   "source": []
  }
 ],
 "metadata": {
  "kernelspec": {
   "display_name": "Python 3",
   "language": "python",
   "name": "python3"
  },
  "language_info": {
   "codemirror_mode": {
    "name": "ipython",
    "version": 3
   },
   "file_extension": ".py",
   "mimetype": "text/x-python",
   "name": "python",
   "nbconvert_exporter": "python",
   "pygments_lexer": "ipython3",
   "version": "3.8.1"
  }
 },
 "nbformat": 4,
 "nbformat_minor": 2
}
