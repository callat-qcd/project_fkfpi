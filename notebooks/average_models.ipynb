{
 "cells": [
  {
   "cell_type": "code",
   "execution_count": 34,
   "metadata": {},
   "outputs": [],
   "source": [
    "import numpy as np\n",
    "import gvar as gv\n",
    "import lsqfit\n",
    "import sys\n",
    "import os\n",
    "import matplotlib\n",
    "import matplotlib.pyplot as plt\n",
    "import pandas as pd\n",
    "import h5py\n",
    "import time\n",
    "from importlib import reload\n",
    "\n",
    "sys.path.append(\"../\")\n",
    "from fitter import data_loader as dl\n",
    "from fitter import misc as ms\n",
    "from fitter import model_average as md\n",
    "from fitter import fitter as fit\n",
    "\n",
    "for j in range(10): # Sometimes this needs to be loaded twice...\n",
    "    matplotlib.rcParams['figure.figsize'] = [10, 10]"
   ]
  },
  {
   "cell_type": "code",
   "execution_count": 35,
   "metadata": {},
   "outputs": [
    {
     "data": {
      "text/plain": [
       "<module 'fitter.model_average' from '../fitter/model_average.py'>"
      ]
     },
     "execution_count": 35,
     "metadata": {},
     "output_type": "execute_result"
    }
   ],
   "source": [
    "reload(fit)\n",
    "reload(dl)\n",
    "reload(ms)\n",
    "reload(md)"
   ]
  },
  {
   "cell_type": "code",
   "execution_count": 33,
   "metadata": {},
   "outputs": [
    {
     "name": "stdout",
     "output_type": "stream",
     "text": [
      "1.1849(75)\n"
     ]
    }
   ],
   "source": [
    "data_loader = dl.data_loader()\n",
    "fit_results = data_loader.get_fit_info('optimized_priors')\n",
    "other_results = data_loader.get_fit_info('other_collabs')\n",
    "\n",
    "model_average = md.model_average(fit_results)\n",
    "print(model_average.average())\n",
    "#model_average.plot_histogram('FK/Fpi', vary_choice='include_latt_n3lo')"
   ]
  },
  {
   "cell_type": "code",
   "execution_count": 7,
   "metadata": {},
   "outputs": [
    {
     "data": {
      "text/plain": [
       "[1.1847568705162668, 0.0044389731729688195, 0.006376919461733499]"
      ]
     },
     "execution_count": 7,
     "metadata": {},
     "output_type": "execute_result"
    }
   ],
   "source": [
    "model_average.average(split_unc=True)"
   ]
  },
  {
   "cell_type": "code",
   "execution_count": 8,
   "metadata": {
    "scrolled": true
   },
   "outputs": [
    {
     "data": {
      "text/plain": [
       "[-0.003936014392724492, 0.000694076051118404, 0.00017862519500043072]"
      ]
     },
     "execution_count": 8,
     "metadata": {},
     "output_type": "execute_result"
    }
   ],
   "source": [
    "model_average.average(split_unc=True, param='delta_su2')"
   ]
  },
  {
   "cell_type": "markdown",
   "metadata": {},
   "source": [
    "### Make plots"
   ]
  },
  {
   "cell_type": "code",
   "execution_count": 7,
   "metadata": {},
   "outputs": [],
   "source": [
    "model_average.plot_fits('a');"
   ]
  },
  {
   "cell_type": "code",
   "execution_count": 117,
   "metadata": {},
   "outputs": [],
   "source": [
    "model_average.plot_histogram('FK/Fpi');"
   ]
  },
  {
   "cell_type": "code",
   "execution_count": 14,
   "metadata": {},
   "outputs": [],
   "source": [
    "model_average.plot_comparison(other_results=other_results, param='FK/Fpi_pm');"
   ]
  },
  {
   "cell_type": "code",
   "execution_count": null,
   "metadata": {},
   "outputs": [],
   "source": []
  },
  {
   "cell_type": "code",
   "execution_count": null,
   "metadata": {},
   "outputs": [],
   "source": []
  },
  {
   "cell_type": "code",
   "execution_count": null,
   "metadata": {},
   "outputs": [],
   "source": [
    "fk_fpi.partia"
   ]
  },
  {
   "cell_type": "code",
   "execution_count": null,
   "metadata": {},
   "outputs": [],
   "source": [
    "gv.corr()"
   ]
  },
  {
   "cell_type": "code",
   "execution_count": 37,
   "metadata": {
    "scrolled": false
   },
   "outputs": [
    {
     "name": "stdout",
     "output_type": "stream",
     "text": [
      "\n",
      " ma-ratio_FKFK_nnlo_logSq_sunset_alphaS_a4\n",
      "-0.3448807729671478\n",
      "1.1917(49)\n",
      "A_a 0.004933798483224514\n",
      "A_a 0.004933798483224514\n",
      "eps2_pi -0.0\n",
      "0.4002125335950465\n",
      "1.1917(49)\n",
      "A_aa 0.004933798483224514\n",
      "A_aa 0.004933798483224514\n",
      "eps2_pi -0.0\n",
      "-0.3744168762403517\n",
      "1.1917(49)\n",
      "A_k 0.004933798483224514\n",
      "A_k 0.004933798483224514\n",
      "eps2_pi -0.0\n",
      "0.020955100691821178\n",
      "1.1917(49)\n",
      "A_loga 0.004933798483224514\n",
      "A_loga 0.004933798483224514\n",
      "eps2_pi -0.0\n",
      "0.31979027791883713\n",
      "1.1917(49)\n",
      "A_p 0.004933798483224514\n",
      "A_p 0.004933798483224514\n",
      "eps2_pi -0.0\n",
      "-0.020483401723443522\n",
      "1.1917(49)\n",
      "L_4 0.004933798483224514\n",
      "L_4 0.004933798483224514\n",
      "eps2_pi -0.0\n",
      "0.06063067618050976\n",
      "1.1917(49)\n",
      "L_5 0.004933798483224514\n",
      "L_5 0.004933798483224514\n",
      "eps2_pi -0.0\n"
     ]
    }
   ],
   "source": [
    "def error_budget(self):\n",
    "    error = dict()\n",
    "    \n",
    "    #for base_model in np.unique([self._get_model_info_from_name(name)['base'] for name in self.fit_results]):\n",
    "    for model in list(self.fit_results)[12:13]:\n",
    "        print('\\n', model)\n",
    "        prior = self.fit_results[model]['prior']\n",
    "        posterior = self.fit_results[model]['posterior']\n",
    "        for lec in prior:\n",
    "            fk_fpi = self.fit_results[model]['FK/Fpi']\n",
    "            #print(gv.corr(fk_fpi, prior[lec]))\n",
    "            print(fk_fpi)\n",
    "            print(lec, fk_fpi.partialsdev(prior[lec]))\n",
    "            print(lec, fk_fpi.partialsdev(posterior[lec]))\n",
    "            \n",
    "            phys_point_data = self._get_phys_point_data(model)\n",
    "            eps2_pi = phys_point_data['mpi']**2 / phys_point_data['lam2_chi']\n",
    "            print('eps2_pi', fk_fpi.partialsdev(eps2_pi))\n",
    "        \n",
    "    \n",
    "\n",
    "error_budget(model_average)\n",
    "\n"
   ]
  },
  {
   "cell_type": "code",
   "execution_count": 96,
   "metadata": {},
   "outputs": [],
   "source": [
    "# Problematic fit:\n",
    "#{'fit': 'nnlo', 'exclude': [], 'vol': 10, 'include_alpha_s': False, 'include_latt_n3lo': True, 'include_log': True, 'include_log2': True, 'include_sunset': True}\n"
   ]
  },
  {
   "cell_type": "code",
   "execution_count": null,
   "metadata": {},
   "outputs": [],
   "source": []
  },
  {
   "cell_type": "code",
   "execution_count": 92,
   "metadata": {},
   "outputs": [],
   "source": [
    "a = {}"
   ]
  },
  {
   "cell_type": "code",
   "execution_count": 93,
   "metadata": {},
   "outputs": [
    {
     "data": {
      "text/plain": [
       "10"
      ]
     },
     "execution_count": 93,
     "metadata": {},
     "output_type": "execute_result"
    }
   ],
   "source": [
    "a.setdefault('hi', 10)"
   ]
  },
  {
   "cell_type": "code",
   "execution_count": 24,
   "metadata": {},
   "outputs": [
    {
     "name": "stdout",
     "output_type": "stream",
     "text": [
      "12.747548783981962 12.747548783981962\n"
     ]
    }
   ],
   "source": [
    "m = gv.gvar(0.1, 0.01)\n",
    "v = gv.gvar(50, 0.5)\n",
    "E = 0.5 *m *v**2\n",
    "\n",
    "print(E.sdev, E.partialsdev([m, v]))"
   ]
  },
  {
   "cell_type": "code",
   "execution_count": null,
   "metadata": {},
   "outputs": [],
   "source": []
  },
  {
   "cell_type": "code",
   "execution_count": null,
   "metadata": {},
   "outputs": [],
   "source": [
    "    tmp = fit_e.report_phys_point(phys_point)['phys']\n",
    "    Lchi_phys = phys_point['Lchi_'+FPK]\n",
    "    p_phys = dict()\n",
    "    p_phys[('phys','p2')] = phys_point['mpi']**2 / Lchi_phys**2\n",
    "    p_phys[('phys','k2')] = phys_point['mk']**2 / Lchi_phys**2\n",
    "    p_phys[('phys','e2')] = 4./3*p_phys[('phys','k2')] - 1./3 * p_phys[('phys','p2')]\n",
    "    print('stat',tmp.partialsdev(fit_e.fit.y))\n",
    "    for i in range(1,9):\n",
    "        print('L'+str(i), fit_e.fit.p['L'+str(i)], tmp.partialsdev(fit_e.fit.prior['L'+str(i)]))\n",
    "    for lec in ['p_4','k_4','s_4','saS_4','s_6']:\n",
    "        if lec in fit_e.fit.prior:\n",
    "            print(lec, fit_e.fit.p[lec], tmp.partialsdev(fit_e.fit.prior[lec]))\n",
    "    print('phys point','e_piSq = %s, e_KSq = %s'\n",
    "        %(str(p_phys[('phys','p2')]),str(p_phys[('phys','k2')])), \\\n",
    "            tmp.partialsdev(p_phys[('phys','p2')],p_phys[('phys','k2')]))"
   ]
  },
  {
   "cell_type": "code",
   "execution_count": null,
   "metadata": {},
   "outputs": [],
   "source": [
    "def error_budget(s,result_list):\n",
    "    err = dict()\n",
    "    for ansatz_truncate in s['ansatz']['type']:\n",
    "        result = result_list[ansatz_truncate]\n",
    "        fit = result['fit']\n",
    "        prior = fit.prior\n",
    "        priorc = result['phys']['priorc']\n",
    "        phys = result['phys']['result']\n",
    "        statistical = phys.partialsdev(fit.y,priorc['epi'],priorc['ed'])\n",
    "        # compile chiral and discretization and finite volume lists then splat as function input\n",
    "        X_list = []\n",
    "        d_list = []\n",
    "        k_list = []\n",
    "        v_list = []\n",
    "        at = ansatz_truncate.split('_')\n",
    "        ansatz = at[0]\n",
    "        n = int(at[1])\n",
    "        for key in prior.keys():\n",
    "            ks = key.split('_')\n",
    "            k = ks[-1]\n",
    "            if k[0] in ['c','g'] and ansatz_truncate in key:\n",
    "                X_list.append(prior[key])\n",
    "                k_list.append(key)\n",
    "            if k[0] in ['a','s','b'] and ansatz_truncate in key:\n",
    "                d_list.append(prior[key])\n",
    "                k_list.append(key)\n",
    "            if s['ansatz']['FVn'] is 3 and k[0] in ['f'] and ansatz_truncate in key:\n",
    "                v_list.append(prior[key])\n",
    "                k_list.append(key)\n",
    "        chiral      = phys.partialsdev(*X_list)\n",
    "        disc        = phys.partialsdev(*d_list)\n",
    "        if s['ansatz']['FVn'] is 3:\n",
    "            fv = phys.partialsdev(*v_list)\n",
    "        else:\n",
    "            fv = 0\n",
    "        pct = {'stat':[statistical/phys.mean*100],'chiral':[chiral/phys.mean*100],'disc':[disc/phys.mean*100],'fv':[fv/phys.mean*100],'total':[phys.sdev/phys.mean*100]}\n",
    "        std = {'stat':statistical,'chiral':chiral,'disc':disc,'fv':fv,'total':phys.sdev}\n",
    "        err[ansatz_truncate] = {'pct':pct,'std':std,'mean':phys.mean}\n",
    "    return err"
   ]
  },
  {
   "cell_type": "code",
   "execution_count": null,
   "metadata": {},
   "outputs": [],
   "source": []
  },
  {
   "cell_type": "code",
   "execution_count": null,
   "metadata": {},
   "outputs": [],
   "source": []
  },
  {
   "cell_type": "code",
   "execution_count": null,
   "metadata": {},
   "outputs": [],
   "source": []
  }
 ],
 "metadata": {
  "kernelspec": {
   "display_name": "Python 3",
   "language": "python",
   "name": "python3"
  },
  "language_info": {
   "codemirror_mode": {
    "name": "ipython",
    "version": 3
   },
   "file_extension": ".py",
   "mimetype": "text/x-python",
   "name": "python",
   "nbconvert_exporter": "python",
   "pygments_lexer": "ipython3",
   "version": "3.8.1"
  }
 },
 "nbformat": 4,
 "nbformat_minor": 2
}
