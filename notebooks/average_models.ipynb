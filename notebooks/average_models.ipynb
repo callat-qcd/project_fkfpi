{
 "cells": [
  {
   "cell_type": "code",
   "execution_count": 1,
   "metadata": {},
   "outputs": [],
   "source": [
    "import numpy as np\n",
    "import gvar as gv\n",
    "import lsqfit\n",
    "import sys\n",
    "import os\n",
    "import matplotlib\n",
    "import matplotlib.pyplot as plt\n",
    "import pandas as pd\n",
    "import h5py\n",
    "import time\n",
    "\n",
    "\n",
    "sys.path.append(\"../\")\n",
    "import fitter.data_loader as dl\n",
    "import fitter.misc as ms\n",
    "import fitter.model_average as md\n",
    "#import fitter.fitter as fit\n",
    "\n",
    "for j in range(10): # Sometimes this needs to be loaded twice...\n",
    "    matplotlib.rcParams['figure.figsize'] = [10, 10]"
   ]
  },
  {
   "cell_type": "code",
   "execution_count": 2,
   "metadata": {},
   "outputs": [
    {
     "data": {
      "text/plain": [
       "<module 'fitter.misc' from '../fitter/misc.py'>"
      ]
     },
     "execution_count": 2,
     "metadata": {},
     "output_type": "execute_result"
    }
   ],
   "source": [
    "from importlib import reload\n",
    "reload(md)\n",
    "reload(dl)\n",
    "reload(ms)"
   ]
  },
  {
   "cell_type": "code",
   "execution_count": 3,
   "metadata": {},
   "outputs": [
    {
     "name": "stdout",
     "output_type": "stream",
     "text": [
      "FK/Fpi_pm = 1.206(18) \t [FLAG: 1.1932(19)] \n",
      "\n",
      "---\n",
      "FK/Fpi      =  1.209(19) \n",
      "delta_su(2) = -0.00461(88) \n",
      "\n",
      "---\n",
      "Uncertainty: \n",
      "   Unexplained: 0.0114 \n",
      "   Explained:   0.0146 \n",
      "\n",
      "---\n",
      "Error Budget: \n",
      "   Chiral:      0.00121 \n",
      "   Phys Point:  0.00151 \n",
      "   Statistical: 0.00998 \n",
      "\n"
     ]
    }
   ],
   "source": [
    "data_loader = dl.data_loader()\n",
    "fit_results = data_loader.get_fit_results('optimized_priors')\n",
    "#other_results = data_loader.get_fit_results('optimized_priors_a4')\n",
    "other_results = data_loader.get_fit_results('other_collabs')\n",
    "\n",
    "model_average = md.model_average(fit_results)\n",
    "print(model_average)\n",
    "#model_average.plot_histogram('FK/Fpi', vary_choice='include_latt_n3lo')"
   ]
  },
  {
   "cell_type": "code",
   "execution_count": 19,
   "metadata": {},
   "outputs": [
    {
     "name": "stdout",
     "output_type": "stream",
     "text": [
      "xpt_FpiFpi_nnlo_log_logSq_sunset_FV_bijnens 0.03419350094958941 1.1881(28)\n",
      "A_a -10(10)\n",
      "--\n",
      "xpt_FpiFpi_nnlo_log_logSq_sunset_a4_FV_bijnens 0.8220959613321732 1.2031(45)\n",
      "A_a -10(10)\n",
      "A_aa 100(100)\n",
      "--\n",
      "xpt_FpiFpi_nnlo_log_logSq_sunset_alphaS_FV_bijnens 0.11334930003863086 1.2003(65)\n",
      "A_a -10(10)\n",
      "A_loga 0(10)\n",
      "--\n",
      "xpt_FpiFpi_nnlo_log_logSq_sunset_alphaS_a4_FV_bijnens 0.8220561289104072 1.2044(65)\n",
      "A_a -10(10)\n",
      "A_loga 0(10)\n",
      "A_aa 100(100)\n",
      "--\n"
     ]
    }
   ],
   "source": [
    "for model in model_average.get_model_names():\n",
    "    fit_info = model_average.fit_results[model]\n",
    "    prior = model_average._get_fit_prior(model)\n",
    "    print(model, fit_info['Q'],  fit_info['FK/Fpi'])\n",
    "    for key in ['A_a', 'A_loga', 'A_aa']:\n",
    "        if key in prior:\n",
    "            print(key, prior[key])\n",
    "    print('--')"
   ]
  },
  {
   "cell_type": "code",
   "execution_count": null,
   "metadata": {},
   "outputs": [],
   "source": []
  },
  {
   "cell_type": "code",
   "execution_count": null,
   "metadata": {},
   "outputs": [],
   "source": []
  },
  {
   "cell_type": "markdown",
   "metadata": {},
   "source": [
    "### Make plots"
   ]
  },
  {
   "cell_type": "code",
   "execution_count": 5,
   "metadata": {},
   "outputs": [],
   "source": [
    "model_average.plot_fits('a');"
   ]
  },
  {
   "cell_type": "code",
   "execution_count": 13,
   "metadata": {},
   "outputs": [],
   "source": [
    "model_average.plot_histogram('FK/Fpi_pm', vary_choice='F2');"
   ]
  },
  {
   "cell_type": "code",
   "execution_count": null,
   "metadata": {},
   "outputs": [],
   "source": [
    "model_average.average('FK')"
   ]
  },
  {
   "cell_type": "code",
   "execution_count": 15,
   "metadata": {},
   "outputs": [],
   "source": [
    "model_average.plot_comparison(other_results=other_results, param='FK/Fpi_pm', show_model_avg=True);"
   ]
  },
  {
   "cell_type": "code",
   "execution_count": 16,
   "metadata": {},
   "outputs": [],
   "source": [
    "model_average.plot_comparison(other_results=other_results, param='FK/Fpi_pm', show_model_avg=True);"
   ]
  },
  {
   "cell_type": "code",
   "execution_count": null,
   "metadata": {},
   "outputs": [],
   "source": []
  },
  {
   "cell_type": "code",
   "execution_count": null,
   "metadata": {},
   "outputs": [],
   "source": []
  },
  {
   "cell_type": "code",
   "execution_count": null,
   "metadata": {},
   "outputs": [],
   "source": []
  },
  {
   "cell_type": "code",
   "execution_count": null,
   "metadata": {},
   "outputs": [],
   "source": []
  }
 ],
 "metadata": {
  "kernelspec": {
   "display_name": "Python 3",
   "language": "python",
   "name": "python3"
  },
  "language_info": {
   "codemirror_mode": {
    "name": "ipython",
    "version": 3
   },
   "file_extension": ".py",
   "mimetype": "text/x-python",
   "name": "python",
   "nbconvert_exporter": "python",
   "pygments_lexer": "ipython3",
   "version": "3.8.1"
  }
 },
 "nbformat": 4,
 "nbformat_minor": 2
}
