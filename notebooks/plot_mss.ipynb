{
 "cells": [
  {
   "cell_type": "code",
   "execution_count": 1,
   "metadata": {
    "collapsed": true
   },
   "outputs": [],
   "source": [
    "import numpy as np\n",
    "import gvar as gv\n",
    "import lsqfit\n",
    "import sys\n",
    "import os\n",
    "import matplotlib\n",
    "import matplotlib.pyplot as plt\n",
    "import pandas as pd\n",
    "import h5py\n",
    "import time\n",
    "\n",
    "sys.path.append(\"../\")\n",
    "from fitter import data_loader as dl\n",
    "from fitter import bootstrapper as bs\n",
    "from fitter import fitter as fit\n",
    "from fitter import special_functions as sf\n",
    "\n",
    "for j in range(10): # Sometimes this needs to be loaded twice...\n",
    "    matplotlib.rcParams['figure.figsize'] = [10, 10]"
   ]
  },
  {
   "cell_type": "code",
   "execution_count": 2,
   "metadata": {},
   "outputs": [
    {
     "data": {
      "text/plain": [
       "<module 'fitter.special_functions' from '../fitter\\special_functions.pyc'>"
      ]
     },
     "execution_count": 2,
     "metadata": {},
     "output_type": "execute_result"
    }
   ],
   "source": [
    "reload(bs)\n",
    "reload(dl)\n",
    "reload(fit)\n",
    "reload(sf)"
   ]
  },
  {
   "cell_type": "markdown",
   "metadata": {},
   "source": [
    "### Get data"
   ]
  },
  {
   "cell_type": "code",
   "execution_count": 3,
   "metadata": {
    "collapsed": true
   },
   "outputs": [],
   "source": [
    "data_loader = dl.data_loader()"
   ]
  },
  {
   "cell_type": "code",
   "execution_count": 4,
   "metadata": {
    "collapsed": true
   },
   "outputs": [],
   "source": [
    "abbrs = data_loader.get_ensembles()\n",
    "data = data_loader.get_fit_data()\n",
    "mss = {abbr : data[abbr]['mss'] for abbr in sorted(abbrs)}\n",
    "mk = {abbr : data[abbr]['mk'] for abbr in sorted(abbrs)}\n",
    "mpi = {abbr : data[abbr]['mpi'] for abbr in sorted(abbrs)}\n",
    "\n",
    "to_gvar = lambda arr : gv.gvar(arr[0], arr[1])\n",
    "aw0 = {abbr : to_gvar(data[abbr]['aw0']) for abbr in sorted(abbrs)}"
   ]
  },
  {
   "cell_type": "markdown",
   "metadata": {},
   "source": [
    "### Make plot"
   ]
  },
  {
   "cell_type": "code",
   "execution_count": 5,
   "metadata": {},
   "outputs": [
    {
     "name": "stdout",
     "output_type": "stream",
     "text": [
      "Done.\n"
     ]
    }
   ],
   "source": [
    "def plot_mss(mss, mk, mpi, aw0):\n",
    "    \n",
    "    abbrs = sorted(aw0.keys())\n",
    "    bs_N = len(mss[abbrs[0]])\n",
    "    plot_data = {\n",
    "        0 : {abbr : mss[abbr]**2 for abbr in abbrs},\n",
    "        1 : {abbr : 2*mk[abbr]**2 - mpi[abbr]**2 for abbr in abbrs}\n",
    "    }\n",
    "    color_data = {abbr : np.repeat(aw0[abbr], bs_N) for abbr in abbrs}\n",
    "    \n",
    "    # Color by lattice spacing/length\n",
    "    cmap = matplotlib.cm.get_cmap('rainbow')\n",
    "    min_max = lambda x : [np.min(x), np.max(x)]\n",
    "    minimum, maximum = min_max(np.concatenate([gv.mean(color_data[abbr]) for abbr in abbrs]))\n",
    "    norm = matplotlib.colors.Normalize(vmin=minimum, vmax=maximum)\n",
    "    \n",
    "    # Get scatter plot & color data\n",
    "    \n",
    "    x = np.zeros(bs_N * len(abbrs))\n",
    "    y = np.zeros(bs_N * len(abbrs))\n",
    "    z = np.zeros(bs_N * len(abbrs))\n",
    "    for j, abbr in enumerate(abbrs):\n",
    "        x[j*bs_N:(j+1)*bs_N] = gv.mean(plot_data[0][abbr])\n",
    "        y[j*bs_N:(j+1)*bs_N] = gv.mean(plot_data[1][abbr])\n",
    "        z[j*bs_N:(j+1)*bs_N] = gv.mean(color_data[abbr])\n",
    "\n",
    "    # Plot data\n",
    "    sc = plt.scatter(x, y, c=z, vmin=minimum, vmax=maximum,\n",
    "                     cmap=cmap, rasterized=True, marker=\"o\")\n",
    "    \n",
    "    # Plot labels\n",
    "    plt.grid()\n",
    "    plt.xlabel('$m_{ss}^2$', fontsize = 24)\n",
    "    plt.ylabel('$2m_{K}^2 - m_\\pi^2$', fontsize = 24)\n",
    "\n",
    "    # Format colorbar\n",
    "    color_bar = plt.colorbar(sc)\n",
    "    color_bar.set_alpha(0.8)\n",
    "    color_bar.draw_all()\n",
    "    color_bar.set_label('$a/w_0$', fontsize = 24)\n",
    "    \n",
    "    # Set xlim, ylim -- only works if xy_parameters[i] is a vector, not a scalar\n",
    "    min_max = lambda x : [np.min(x), np.max(x)]\n",
    "    xmin, xmax = min_max(np.concatenate([gv.mean(plot_data[0][abbr]) for abbr in abbrs]))\n",
    "    ymin, ymax = min_max(np.concatenate([gv.mean(plot_data[1][abbr]) for abbr in abbrs]))\n",
    "    xdelta = xmax - xmin\n",
    "    ydelta = ymax - ymin\n",
    "    plt.xlim(xmin-0.05*xdelta, xmax+0.05*xdelta) #xmin-0.05*xdelta\n",
    "    plt.ylim(ymin-0.05*ydelta, ymax+0.05*ydelta)\n",
    "\n",
    "    fig = plt.gcf()\n",
    "    plt.close()\n",
    "    return fig\n",
    "    \n",
    "fig = plot_mss(mss, mk, mpi, aw0)\n",
    "data_loader.save_plots(fig, output_filename='mss_vs_mk_mpi')"
   ]
  },
  {
   "cell_type": "code",
   "execution_count": null,
   "metadata": {
    "collapsed": true
   },
   "outputs": [],
   "source": []
  }
 ],
 "metadata": {
  "kernelspec": {
   "display_name": "Python 2",
   "language": "python",
   "name": "python2"
  },
  "language_info": {
   "codemirror_mode": {
    "name": "ipython",
    "version": 2
   },
   "file_extension": ".py",
   "mimetype": "text/x-python",
   "name": "python",
   "nbconvert_exporter": "python",
   "pygments_lexer": "ipython2",
   "version": "2.7.14"
  }
 },
 "nbformat": 4,
 "nbformat_minor": 2
}
