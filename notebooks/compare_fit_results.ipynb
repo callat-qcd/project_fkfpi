{
 "cells": [
  {
   "cell_type": "code",
   "execution_count": 30,
   "metadata": {
    "collapsed": true
   },
   "outputs": [],
   "source": [
    "import numpy as np\n",
    "import gvar as gv\n",
    "import lsqfit\n",
    "import sys\n",
    "import os\n",
    "import matplotlib\n",
    "import matplotlib.pyplot as plt\n",
    "import pandas as pd\n",
    "import h5py\n",
    "import time\n",
    "\n",
    "sys.path.append(\"../\")\n",
    "from fitter import data_loader as dl\n",
    "\n",
    "matplotlib.rcParams['figure.figsize'] = [10, 10]"
   ]
  },
  {
   "cell_type": "code",
   "execution_count": 36,
   "metadata": {},
   "outputs": [
    {
     "data": {
      "text/plain": [
       "<module 'fitter.data_loader' from '../fitter\\data_loader.pyc'>"
      ]
     },
     "execution_count": 36,
     "metadata": {},
     "output_type": "execute_result"
    }
   ],
   "source": [
    "reload(dl)"
   ]
  },
  {
   "cell_type": "markdown",
   "metadata": {},
   "source": [
    "### Make fit comparison plot (saved to /tmp/)"
   ]
  },
  {
   "cell_type": "code",
   "execution_count": 41,
   "metadata": {
    "collapsed": true
   },
   "outputs": [],
   "source": [
    "data_loader = dl.data_loader()\n",
    "fit_results = data_loader.get_fit_info(whose='mine')\n",
    "other_results = data_loader.get_fit_info(whose='others')"
   ]
  },
  {
   "cell_type": "code",
   "execution_count": 42,
   "metadata": {},
   "outputs": [
    {
     "name": "stdout",
     "output_type": "stream",
     "text": [
      "Done.\n"
     ]
    }
   ],
   "source": [
    "# These axes compare fits\n",
    "ax_fits = plt.axes([0.10,0.10,0.59,0.8])\n",
    "\n",
    "y=0\n",
    "labels = np.array([])\n",
    "for results in [fit_results, other_results]:\n",
    "    plt.axhline(y-0.5, ls='--')\n",
    "    for name in sorted(results.keys()):\n",
    "        x = gv.mean(gv.gvar(results[name]['fit']))\n",
    "        xerr = gv.sdev(gv.gvar(results[name]['fit']))\n",
    "        plt.errorbar(x=x, y=y, xerr=xerr, yerr=0.0,\n",
    "                     fmt = 'ro', capsize=0.0, mec='white', ms=25.0, alpha=0.6,\n",
    "                     ecolor='b', elinewidth=25.0)\n",
    "        y = y + 1\n",
    "        labels = np.append(labels, str(name))\n",
    "        \n",
    "ymax = y\n",
    "   \n",
    "\n",
    "plt.yticks(range(len(labels)), labels, fontsize=15, rotation=65)\n",
    "plt.ylim(-1, y)\n",
    "\n",
    "#plt.title(particle+\", \"+abbr, fontsize=30)\n",
    "plt.xlabel('$F_K/F_\\pi$', fontsize=24)\n",
    "\n",
    "plt.grid(ls='--')\n",
    "\n",
    "# These axes compare the Q-values\n",
    "ax_Q = plt.axes([0.70,0.10,0.09,0.8])\n",
    "\n",
    "y=0\n",
    "labels = np.array([])\n",
    "for results in [fit_results]:\n",
    "    for name in sorted(results.keys()):\n",
    "        x = gv.mean(gv.gvar(results[name]['Q']))\n",
    "        plt.axvline(x, ls='--', alpha=0.4)\n",
    "        plt.scatter(x=x, y=y, color='r')\n",
    "        y = y + 1\n",
    "        labels = np.append(labels, str(name))\n",
    "\n",
    "for ti in np.arange(5)/4.0:\n",
    "    plt.axvline(ti, ls='--', alpha=0.2)\n",
    "\n",
    "plt.yticks([])\n",
    "plt.xlim(-0.05, 1.05)\n",
    "plt.ylim(-1, ymax)\n",
    "plt.xlabel(\"$Q$\", fontsize=24)\n",
    "\n",
    "\n",
    "# These axes compare the reduced chi2\n",
    "ax_chi2 = plt.axes([0.80,0.10,0.1,0.8])\n",
    "\n",
    "y=0\n",
    "labels = np.array([])\n",
    "for results in [fit_results]:\n",
    "    for name in sorted(results.keys()):\n",
    "        x = gv.mean(gv.gvar(results[name]['chi2/df']))\n",
    "        plt.axvline(x, ls='--', alpha=0.4)\n",
    "        plt.scatter(x=x, y=y, color='r')\n",
    "        y = y + 1\n",
    "        labels = np.append(labels, str(name))\n",
    "\n",
    "for ti in np.arange(9)/4.0:\n",
    "    plt.axvline(ti, ls='--', alpha=0.2)\n",
    "\n",
    "plt.yticks([])\n",
    "plt.xlim(0.25, 1.75)\n",
    "plt.ylim(-1, ymax)\n",
    "plt.xlabel(r\"$\\chi^2_\\nu$\", fontsize=24)\n",
    "\n",
    "fig = plt.gcf()\n",
    "plt.close()\n",
    "\n",
    "data_loader.save_plots(fig, output_filename='fit_comparison')"
   ]
  },
  {
   "cell_type": "markdown",
   "metadata": {},
   "source": [
    "### Make LEC comparison plot (saved to /tmp/)"
   ]
  },
  {
   "cell_type": "code",
   "execution_count": 43,
   "metadata": {
    "collapsed": true
   },
   "outputs": [],
   "source": [
    "data_loader = dl.data_loader()\n",
    "fit_results = data_loader.get_fit_info(whose='mine')\n",
    "other_results = data_loader.get_fit_info(whose='others')"
   ]
  },
  {
   "cell_type": "code",
   "execution_count": 44,
   "metadata": {},
   "outputs": [
    {
     "name": "stdout",
     "output_type": "stream",
     "text": [
      "Done.\n"
     ]
    }
   ],
   "source": [
    "lecs = ['L_4', 'L_5', # nlo terms\n",
    "        'A_22', 'M_400', 'M_220', 'M_202', # nnlo terms\n",
    "        'A_42', 'A_24', 'A_2220', 'A_2202', # nnnlo terms\n",
    "        'c_a2', 'c_a3', 'c_a4', 'c_mpia2'] # lattice terms\n",
    "\n",
    "figs = []\n",
    "for lec in lecs: \n",
    "    # These axes compare fits\n",
    "    # These axes compare fits\n",
    "    ax_fits = plt.axes([0.10,0.10,0.59,0.8])\n",
    "\n",
    "    y=0\n",
    "    labels = np.array([])\n",
    "    for results in [fit_results]:\n",
    "        plt.axhline(y-0.5, ls='--')\n",
    "        for name in sorted(results.keys()):\n",
    "            if lec in results[name].keys():\n",
    "                x = gv.mean(gv.gvar(results[name][lec]))\n",
    "                xerr = gv.sdev(gv.gvar(results[name][lec]))\n",
    "                plt.errorbar(x=x, y=y, xerr=xerr, yerr=0.0,\n",
    "                             fmt = 'ro', capsize=0.0, mec='white', ms=25.0, alpha=0.6,\n",
    "                             ecolor='b', elinewidth=25.0)\n",
    "                y = y + 1\n",
    "                labels = np.append(labels, str(name))\n",
    "\n",
    "    ymax = y\n",
    "\n",
    "\n",
    "    plt.yticks(range(len(labels)), labels, fontsize=15, rotation=65)\n",
    "    plt.ylim(-1, y)\n",
    "\n",
    "    #plt.title(particle+\", \"+abbr, fontsize=30)\n",
    "    plt.xlabel(lec, fontsize=24)\n",
    "\n",
    "    plt.grid(ls='--')\n",
    "\n",
    "    # These axes compare the Q-values\n",
    "    ax_Q = plt.axes([0.70,0.10,0.09,0.8])\n",
    "\n",
    "    y=0\n",
    "    labels = np.array([])\n",
    "    for results in [fit_results]:\n",
    "        for name in sorted(results.keys()):\n",
    "            if lec in results[name].keys():\n",
    "                x = gv.mean(gv.gvar(results[name]['Q']))\n",
    "                plt.axvline(x, ls='--', alpha=0.4)\n",
    "                plt.scatter(x=x, y=y, color='r')\n",
    "                y = y + 1\n",
    "                labels = np.append(labels, str(name))\n",
    "\n",
    "    for ti in np.arange(5)/4.0:\n",
    "        plt.axvline(ti, ls='--', alpha=0.2)\n",
    "\n",
    "    plt.yticks([])\n",
    "    plt.xlim(-0.05, 1.05)\n",
    "    plt.ylim(-1, ymax)\n",
    "    plt.xlabel(\"$Q$\", fontsize=24)\n",
    "\n",
    "\n",
    "    # These axes compare the reduced chi2\n",
    "    ax_chi2 = plt.axes([0.80,0.10,0.1,0.8])\n",
    "\n",
    "    y=0\n",
    "    labels = np.array([])\n",
    "    for results in [fit_results]:\n",
    "        for name in sorted(results.keys()):\n",
    "            if lec in results[name].keys():\n",
    "                x = gv.mean(gv.gvar(results[name]['chi2/df']))\n",
    "                plt.axvline(x, ls='--', alpha=0.4)\n",
    "                plt.scatter(x=x, y=y, color='r')\n",
    "                y = y + 1\n",
    "                labels = np.append(labels, str(name))\n",
    "\n",
    "    for ti in np.arange(9)/4.0:\n",
    "        plt.axvline(ti, ls='--', alpha=0.2)\n",
    "\n",
    "    plt.yticks([])\n",
    "    plt.xlim(0.25, 1.75)\n",
    "    plt.ylim(-1, ymax)\n",
    "    plt.xlabel(r\"$\\chi^2_\\nu$\", fontsize=24)\n",
    "    \n",
    "    #plt.show()\n",
    "\n",
    "    fig = plt.gcf()\n",
    "    plt.close()\n",
    "    figs.append(fig)\n",
    "\n",
    "data_loader.save_plots(figs, output_filename='lec_comparison')"
   ]
  },
  {
   "cell_type": "code",
   "execution_count": null,
   "metadata": {
    "collapsed": true
   },
   "outputs": [],
   "source": []
  },
  {
   "cell_type": "code",
   "execution_count": null,
   "metadata": {
    "collapsed": true
   },
   "outputs": [],
   "source": []
  }
 ],
 "metadata": {
  "kernelspec": {
   "display_name": "Python 2",
   "language": "python",
   "name": "python2"
  },
  "language_info": {
   "codemirror_mode": {
    "name": "ipython",
    "version": 2
   },
   "file_extension": ".py",
   "mimetype": "text/x-python",
   "name": "python",
   "nbconvert_exporter": "python",
   "pygments_lexer": "ipython2",
   "version": "2.7.14"
  }
 },
 "nbformat": 4,
 "nbformat_minor": 2
}
