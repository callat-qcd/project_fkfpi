{
 "cells": [
  {
   "cell_type": "code",
   "execution_count": 4,
   "metadata": {
    "collapsed": true
   },
   "outputs": [],
   "source": [
    "import numpy as np\n",
    "import gvar as gv\n",
    "import lsqfit\n",
    "import sys\n",
    "import os\n",
    "import matplotlib\n",
    "import matplotlib.pyplot as plt\n",
    "import pandas as pd\n",
    "import h5py\n",
    "import time\n",
    "\n",
    "sys.path.append(\"../\")\n",
    "from fitter import data_loader as dl\n",
    "\n",
    "for j in range(10): # Sometimes this needs to be loaded twice...\n",
    "    matplotlib.rcParams['figure.figsize'] = [10, 10]"
   ]
  },
  {
   "cell_type": "code",
   "execution_count": 5,
   "metadata": {
    "collapsed": false
   },
   "outputs": [
    {
     "data": {
      "text/plain": [
       "<module 'fitter.data_loader' from '../fitter/data_loader.pyc'>"
      ]
     },
     "execution_count": 5,
     "metadata": {},
     "output_type": "execute_result"
    }
   ],
   "source": [
    "reload(dl)"
   ]
  },
  {
   "cell_type": "code",
   "execution_count": 6,
   "metadata": {
    "collapsed": true
   },
   "outputs": [],
   "source": [
    "def model_average(results):\n",
    "    \n",
    "    # calculate P( M_k | D )\n",
    "    prob_Mk_given_D = lambda model_k : (\n",
    "         np.exp(results[model_k]['logGBF']) / np.sum([np.exp(results[model_l]['logGBF']) for model_l in results.keys()]) \n",
    "    )\n",
    "    \n",
    "    # Get central value\n",
    "    expct_y = 0\n",
    "    for model in results.keys():\n",
    "        expct_y += gv.mean(gv.gvar(results[model]['fit'])) *prob_Mk_given_D(model)\n",
    "    \n",
    "    # Get variance\n",
    "    var_y = 0\n",
    "    for model in results.keys():\n",
    "        var_y += gv.var(gv.gvar(results[model]['fit'])) *prob_Mk_given_D(model)\n",
    "    for model in results.keys():\n",
    "        var_y += (gv.mean(gv.gvar(results[model]['fit'])))**2 *prob_Mk_given_D(model)\n",
    "        \n",
    "    var_y -= (expct_y)**2\n",
    "    \n",
    "    return gv.gvar(expct_y, np.sqrt(var_y))"
   ]
  },
  {
   "cell_type": "code",
   "execution_count": 7,
   "metadata": {
    "collapsed": true
   },
   "outputs": [],
   "source": [
    "colors = []"
   ]
  },
  {
   "cell_type": "markdown",
   "metadata": {},
   "source": [
    "### Make fit comparison plot (saved to /tmp/)"
   ]
  },
  {
   "cell_type": "code",
   "execution_count": 8,
   "metadata": {
    "collapsed": true
   },
   "outputs": [],
   "source": [
    "data_loader = dl.data_loader()\n",
    "fit_results = data_loader.get_fit_info(whose='mine')\n",
    "other_results = data_loader.get_fit_info(whose='others')"
   ]
  },
  {
   "cell_type": "code",
   "execution_count": 9,
   "metadata": {
    "collapsed": false
   },
   "outputs": [
    {
     "name": "stdout",
     "output_type": "stream",
     "text": [
      "Done.\n"
     ]
    }
   ],
   "source": [
    "# These axes compare fits\n",
    "ax_fits = plt.axes([0.10,0.10,0.49,0.8])\n",
    "\n",
    "y=0\n",
    "labels = np.array([])\n",
    "for results in [fit_results, other_results]:\n",
    "    plt.axhline(y-0.5, ls='--')\n",
    "    for name in sorted(results.keys()):\n",
    "        x = gv.mean(gv.gvar(results[name]['fit']))\n",
    "        xerr = gv.sdev(gv.gvar(results[name]['fit']))\n",
    "        plt.errorbar(x=x, y=y, xerr=xerr, yerr=0.0,\n",
    "                     fmt = 'ro', capsize=0.0, mec='white', ms=25.0, alpha=0.6,\n",
    "                     ecolor='b', elinewidth=25.0)\n",
    "        y = y + 1\n",
    "        labels = np.append(labels, str(name))\n",
    "        \n",
    "        # Add band for FLAG\n",
    "        if name == 'FLAG':\n",
    "            plt.axvspan(x-xerr, x+xerr, alpha=0.3, color='g', label='FLAG')\n",
    "\n",
    "ymax = y\n",
    "            \n",
    "# Show model average\n",
    "avg = model_average(fit_results)\n",
    "pm = lambda g, k : gv.mean(g) + k*gv.sdev(g)\n",
    "plt.axvspan(pm(avg, -1), pm(avg, +1), alpha=0.3, color='m', label='model avg')\n",
    "plt.axvline(pm(avg, 0), ls='-.', color='m')\n",
    "        \n",
    "plt.legend()\n",
    "\n",
    "plt.yticks(range(len(labels)), labels, fontsize=15, rotation=65)\n",
    "plt.ylim(-1, y)\n",
    "\n",
    "#plt.title(particle+\", \"+abbr, fontsize=30)\n",
    "plt.xlabel('$F_K/F_\\pi$', fontsize=24)\n",
    "\n",
    "plt.grid(ls='--')\n",
    "\n",
    "# These axes compare the logGBFs\n",
    "ax_logGBF = plt.axes([0.60,0.10,0.09,0.8])\n",
    "\n",
    "# Get max logGBF\n",
    "logGBF_max = np.nanmax([gv.mean(gv.gvar(fit_results[model]['logGBF'])) \n",
    "                       for model in fit_results.keys()])\n",
    "\n",
    "y=0\n",
    "labels = np.array([])\n",
    "for results in [fit_results]:\n",
    "    for name in sorted(results.keys()):\n",
    "        logGBF = gv.mean(gv.gvar(results[name]['logGBF']))\n",
    "        x = np.exp(logGBF - logGBF_max)\n",
    "        \n",
    "        plt.axvline(x, ls='--', alpha=0.4)\n",
    "        plt.scatter(x=x, y=y, color='r')\n",
    "        y = y + 1\n",
    "        labels = np.append(labels, str(name))\n",
    "\n",
    "plt.yticks([])\n",
    "#plt.xlim(-0.05, 1.05)\n",
    "plt.ylim(-1, ymax)\n",
    "plt.xlabel(\"Norm\\nGBF\", fontsize=24)\n",
    "\n",
    "# These axes compare the Q-values\n",
    "ax_Q = plt.axes([0.70,0.10,0.09,0.8])\n",
    "\n",
    "y=0\n",
    "labels = np.array([])\n",
    "for results in [fit_results]:\n",
    "    for name in sorted(results.keys()):\n",
    "        x = gv.mean(gv.gvar(results[name]['Q']))\n",
    "        plt.axvline(x, ls='--', alpha=0.4)\n",
    "        plt.scatter(x=x, y=y, color='r')\n",
    "        y = y + 1\n",
    "        labels = np.append(labels, str(name))\n",
    "\n",
    "#for ti in np.arange(5)/4.0:\n",
    "#    plt.axvline(ti, ls='--', alpha=0.2)\n",
    "\n",
    "plt.yticks([])\n",
    "plt.xlim(-0.05, 1.05)\n",
    "plt.ylim(-1, ymax)\n",
    "plt.xlabel(\"$Q$\", fontsize=24)\n",
    "\n",
    "\n",
    "# These axes compare the reduced chi2\n",
    "ax_chi2 = plt.axes([0.80,0.10,0.1,0.8])\n",
    "\n",
    "y=0\n",
    "labels = np.array([])\n",
    "for results in [fit_results]:\n",
    "    for name in sorted(results.keys()):\n",
    "        x = gv.mean(gv.gvar(results[name]['chi2/df']))\n",
    "        plt.axvline(x, ls='--', alpha=0.4)\n",
    "        plt.scatter(x=x, y=y, color='r')\n",
    "        y = y + 1\n",
    "        labels = np.append(labels, str(name))\n",
    "\n",
    "#for ti in np.arange(9)/4.0:\n",
    "#    plt.axvline(ti, ls='--', alpha=0.2)\n",
    "\n",
    "plt.yticks([])\n",
    "plt.xlim(0.25, 1.75)\n",
    "plt.ylim(-1, ymax)\n",
    "plt.xlabel(r\"$\\chi^2_\\nu$\", fontsize=24)\n",
    "\n",
    "fig = plt.gcf()\n",
    "plt.close()\n",
    "\n",
    "data_loader.save_plots(fig, output_filename='fit_comparison')"
   ]
  },
  {
   "cell_type": "markdown",
   "metadata": {},
   "source": [
    "### Make LEC comparison plot (saved to /tmp/)"
   ]
  },
  {
   "cell_type": "code",
   "execution_count": 10,
   "metadata": {
    "collapsed": true
   },
   "outputs": [],
   "source": [
    "data_loader = dl.data_loader()\n",
    "fit_results = data_loader.get_fit_info(whose='mine')\n",
    "other_results = data_loader.get_fit_info(whose='others')"
   ]
  },
  {
   "cell_type": "code",
   "execution_count": 11,
   "metadata": {
    "collapsed": false
   },
   "outputs": [
    {
     "name": "stdout",
     "output_type": "stream",
     "text": [
      "Done.\n"
     ]
    }
   ],
   "source": [
    "lecs = ['L_4', 'L_5', # nlo terms\n",
    "             'A_a', 'A_k', 'A_p', # nnlo terms\n",
    "             'A_aa', 'A_ak', 'A_ap', # nnnlo terms\n",
    "             'A_kk', 'A_kp', 'A_pp'] # more nnnlo terms\n",
    "\n",
    "figs = []\n",
    "for lec in lecs: \n",
    "    # These axes compare fits\n",
    "    # These axes compare fits\n",
    "    ax_fits = plt.axes([0.10,0.10,0.49,0.8])\n",
    "\n",
    "    y=0\n",
    "    labels = np.array([])\n",
    "    for results in [fit_results]:\n",
    "        plt.axhline(y-0.5, ls='--')\n",
    "        for name in sorted(results.keys()):\n",
    "            if lec in results[name].keys():\n",
    "                x = gv.mean(gv.gvar(results[name][lec]))\n",
    "                xerr = gv.sdev(gv.gvar(results[name][lec]))\n",
    "                plt.errorbar(x=x, y=y, xerr=xerr, yerr=0.0,\n",
    "                             fmt = 'ro', capsize=0.0, mec='white', ms=25.0, alpha=0.6,\n",
    "                             ecolor='b', elinewidth=25.0)\n",
    "                y = y + 1\n",
    "                labels = np.append(labels, str(name))\n",
    "\n",
    "    ymax = y\n",
    "\n",
    "\n",
    "    plt.yticks(range(len(labels)), labels, fontsize=15, rotation=65)\n",
    "    plt.ylim(-1, y)\n",
    "\n",
    "    #plt.title(particle+\", \"+abbr, fontsize=30)\n",
    "    plt.xlabel(lec, fontsize=24)\n",
    "\n",
    "    plt.grid(ls='--')\n",
    "\n",
    "    # These axes compare the logGBFs\n",
    "    ax_logGBF = plt.axes([0.60,0.10,0.09,0.8])\n",
    "\n",
    "    # Get max logGBF\n",
    "    logGBF_max = np.nanmax([gv.mean(gv.gvar(fit_results[model]['logGBF'])) \n",
    "                           for model in fit_results.keys()])\n",
    "\n",
    "    y=0\n",
    "    labels = np.array([])\n",
    "    for results in [fit_results]:\n",
    "        for name in sorted(results.keys()):\n",
    "            logGBF = gv.mean(gv.gvar(results[name]['logGBF']))\n",
    "            x = np.exp(logGBF - logGBF_max)\n",
    "\n",
    "            plt.axvline(x, ls='--', alpha=0.4)\n",
    "            plt.scatter(x=x, y=y, color='r')\n",
    "            y = y + 1\n",
    "            labels = np.append(labels, str(name))\n",
    "\n",
    "    plt.yticks([])\n",
    "    #plt.xlim(-0.05, 1.05)\n",
    "    plt.ylim(-1, ymax)\n",
    "    plt.xlabel(\"Norm\\nGBF\", fontsize=24)\n",
    "    \n",
    "    # These axes compare the Q-values\n",
    "    ax_Q = plt.axes([0.70,0.10,0.09,0.8])\n",
    "\n",
    "    y=0\n",
    "    labels = np.array([])\n",
    "    for results in [fit_results]:\n",
    "        for name in sorted(results.keys()):\n",
    "            if lec in results[name].keys():\n",
    "                x = gv.mean(gv.gvar(results[name]['Q']))\n",
    "                plt.axvline(x, ls='--', alpha=0.4)\n",
    "                plt.scatter(x=x, y=y, color='r')\n",
    "                y = y + 1\n",
    "                labels = np.append(labels, str(name))\n",
    "\n",
    "    #for ti in np.arange(5)/4.0:\n",
    "    #    plt.axvline(ti, ls='--', alpha=0.2)\n",
    "\n",
    "    plt.yticks([])\n",
    "    plt.xlim(-0.05, 1.05)\n",
    "    plt.ylim(-1, ymax)\n",
    "    plt.xlabel(\"$Q$\", fontsize=24)\n",
    "\n",
    "\n",
    "    # These axes compare the reduced chi2\n",
    "    ax_chi2 = plt.axes([0.80,0.10,0.1,0.8])\n",
    "\n",
    "    y=0\n",
    "    labels = np.array([])\n",
    "    for results in [fit_results]:\n",
    "        for name in sorted(results.keys()):\n",
    "            if lec in results[name].keys():\n",
    "                x = gv.mean(gv.gvar(results[name]['chi2/df']))\n",
    "                plt.axvline(x, ls='--', alpha=0.4)\n",
    "                plt.scatter(x=x, y=y, color='r')\n",
    "                y = y + 1\n",
    "                labels = np.append(labels, str(name))\n",
    "\n",
    "    #for ti in np.arange(9)/4.0:\n",
    "    #    plt.axvline(ti, ls='--', alpha=0.2)\n",
    "\n",
    "    plt.yticks([])\n",
    "    plt.xlim(0.25, 1.75)\n",
    "    plt.ylim(-1, ymax)\n",
    "    plt.xlabel(r\"$\\chi^2_\\nu$\", fontsize=24)\n",
    "    \n",
    "    #plt.show()\n",
    "\n",
    "    fig = plt.gcf()\n",
    "    plt.close()\n",
    "    figs.append(fig)\n",
    "\n",
    "data_loader.save_plots(figs, output_filename='lec_comparison')"
   ]
  },
  {
   "cell_type": "code",
   "execution_count": null,
   "metadata": {
    "collapsed": true
   },
   "outputs": [],
   "source": []
  }
 ],
 "metadata": {
  "kernelspec": {
   "display_name": "Python 2",
   "language": "python",
   "name": "python2"
  },
  "language_info": {
   "codemirror_mode": {
    "name": "ipython",
    "version": 2
   },
   "file_extension": ".py",
   "mimetype": "text/x-python",
   "name": "python",
   "nbconvert_exporter": "python",
   "pygments_lexer": "ipython2",
   "version": "2.7.13"
  }
 },
 "nbformat": 4,
 "nbformat_minor": 2
}
