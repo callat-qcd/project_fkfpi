{
 "cells": [
  {
   "cell_type": "code",
   "execution_count": 1,
   "metadata": {},
   "outputs": [],
   "source": [
    "import numpy as np\n",
    "import gvar as gv\n",
    "import lsqfit\n",
    "import sys\n",
    "import os\n",
    "import matplotlib\n",
    "import matplotlib.pyplot as plt\n",
    "import pandas as pd\n",
    "import h5py\n",
    "import time\n",
    "from importlib import reload\n",
    "\n",
    "sys.path.append(\"../\")\n",
    "from fitter import data_loader as dl\n",
    "from fitter import bootstrapper as bs\n",
    "from fitter import fitter as fit\n",
    "from fitter import special_functions as sf\n",
    "\n",
    "for j in range(10): # Sometimes this needs to be loaded twice...\n",
    "    matplotlib.rcParams['figure.figsize'] = [10, 10]"
   ]
  },
  {
   "cell_type": "code",
   "execution_count": 133,
   "metadata": {
    "scrolled": true
   },
   "outputs": [
    {
     "data": {
      "text/plain": [
       "<module 'fitter.special_functions' from '../fitter/special_functions.py'>"
      ]
     },
     "execution_count": 133,
     "metadata": {},
     "output_type": "execute_result"
    }
   ],
   "source": [
    "reload(bs)\n",
    "reload(dl)\n",
    "reload(fit)\n",
    "reload(sf)"
   ]
  },
  {
   "cell_type": "markdown",
   "metadata": {},
   "source": [
    "### Title"
   ]
  },
  {
   "cell_type": "code",
   "execution_count": 134,
   "metadata": {},
   "outputs": [],
   "source": [
    "p_dict = {\n",
    "    'order' : {\n",
    "        'fit' : 'nnlo', # 'nlo', 'nnlo'\n",
    "        'vol' : 0, # max 10\n",
    "        'exclude' : [], # put LECs here\n",
    "        \n",
    "        # semi-nnlo corrections\n",
    "        'include_alpha_s' : False,\n",
    "        'include_log' : False, \n",
    "        'include_log2' : False,\n",
    "        'include_sunset' : False,\n",
    "        \n",
    "        # nnnlo corrections\n",
    "        'include_latt_n3lo' : True,\n",
    "    }, \n",
    "    'fit_type' : 'ma-ratio', #'ma', 'ma-ratio, 'xpt', or 'xpt-ratio'; experimental: 'simultaneous', 'ma-old'\n",
    "    'F2' : 'FKFpi', #'FKFpi', 'FpiFpi', 'FKFK', 'F0F0' (HPQCD choice)\n",
    "    'use_bijnens_central_value' : True,\n",
    "    'fast_sunset' : True,\n",
    "    \n",
    "    \n",
    "    'bias_correct' : True,\n",
    "    'include_su2_isospin_corrrection' : False,   \n",
    "    'abbrs' : [u'a06m310L', u'a09m220', u'a09m310', u'a09m350', u'a09m400', u'a12m130',\n",
    "           u'a12m220',  u'a12m220S', u'a12m220L', u'a12m310', u'a12m350',\n",
    "           u'a12m400',  u'a15m135XL', u'a15m220', u'a15m310', u'a15m350', 'a15m400'], # u'a15m130'\n",
    "}"
   ]
  },
  {
   "cell_type": "code",
   "execution_count": 135,
   "metadata": {
    "scrolled": false
   },
   "outputs": [
    {
     "name": "stdout",
     "output_type": "stream",
     "text": [
      "Using default prior.\n",
      "1   {'chiral': 5.0,'spacing_n2lo': 5.0,'spacing_n3lo': 50.0}\n",
      "2   {'chiral': 5.25,'spacing_n2lo': 5.0,'spacing_n3lo': 50.0}\n",
      "3   {'chiral': 5.0,'spacing_n2lo': 5.25,'spacing_n3lo': 50.0}\n",
      "4   {'chiral': 5.0,'spacing_n2lo': 5.0,'spacing_n3lo': 52.5}\n",
      "5   {'chiral': 5.167,'spacing_n2lo': 4.75,'spacing_n3lo': 51.67}\n",
      "6   {'chiral': 5.25,'spacing_n2lo': 4.5,'spacing_n3lo': 52.5}\n",
      "7   {'chiral': 5.333,'spacing_n2lo': 4.667,'spacing_n3lo': 49.17}\n",
      "8   {'chiral': 5.5,'spacing_n2lo': 4.5,'spacing_n3lo': 47.5}\n",
      "9   {'chiral': 5.667,'spacing_n2lo': 4.333,'spacing_n3lo': 50.0}\n",
      "10   {'chiral': 6.0,'spacing_n2lo': 4.0,'spacing_n3lo': 50.0}\n",
      "11   {'chiral': 5.917,'spacing_n2lo': 3.667,'spacing_n3lo': 50.0}\n",
      "12   {'chiral': 6.25,'spacing_n2lo': 3.0,'spacing_n3lo': 50.0}\n",
      "13   {'chiral': 6.583,'spacing_n2lo': 3.167,'spacing_n3lo': 45.83}\n",
      "14   {'chiral': 7.25,'spacing_n2lo': 2.5,'spacing_n3lo': 42.5}\n",
      "15   {'chiral': 7.5,'spacing_n2lo': 1.833,'spacing_n3lo': 47.5}\n",
      "16   {'chiral': 8.5,'spacing_n2lo': 0.5,'spacing_n3lo': 47.5}\n",
      "17   {'chiral': 8.667,'spacing_n2lo': 1e-05,'spacing_n3lo': 43.33}\n",
      "18   {'chiral': 10.0,'spacing_n2lo': 2.0,'spacing_n3lo': 40.0}\n",
      "19   {'chiral': 10.03,'spacing_n2lo': 1.0,'spacing_n3lo': 38.89}\n",
      "20   {'chiral': 10.88,'spacing_n2lo': 1.5,'spacing_n3lo': 43.98}\n",
      "21   {'chiral': 8.158,'spacing_n2lo': 1.5,'spacing_n3lo': 42.87}\n",
      "22   {'chiral': 9.403,'spacing_n2lo': 1.167,'spacing_n3lo': 35.89}\n",
      "23   {'chiral': 9.855,'spacing_n2lo': 1.5,'spacing_n3lo': 30.09}\n",
      "24   {'chiral': 10.88,'spacing_n2lo': 0.167,'spacing_n3lo': 32.0}\n",
      "25   {'chiral': 12.24,'spacing_n2lo': 0.5,'spacing_n3lo': 26.57}\n",
      "26   {'chiral': 9.571,'spacing_n2lo': 0.111,'spacing_n3lo': 31.39}\n",
      "27   {'chiral': 9.342,'spacing_n2lo': 0.333,'spacing_n3lo': 27.64}\n",
      "28   {'chiral': 11.38,'spacing_n2lo': 1.333,'spacing_n3lo': 16.49}\n",
      "29   {'chiral': 11.21,'spacing_n2lo': 0.278,'spacing_n3lo': 20.66}\n",
      "30   {'chiral': 11.89,'spacing_n2lo': 1.167,'spacing_n3lo': 15.95}\n",
      "31   {'chiral': 10.41,'spacing_n2lo': 1.129,'spacing_n3lo': 11.19}\n",
      "32   {'chiral': 10.17,'spacing_n2lo': 1.61,'spacing_n3lo': 0.79}\n",
      "33   {'chiral': 9.261,'spacing_n2lo': 0.173,'spacing_n3lo': 23.17}\n",
      "34   {'chiral': 11.25,'spacing_n2lo': 0.72,'spacing_n3lo': 9.04}\n",
      "35   {'chiral': 12.2,'spacing_n2lo': 0.914,'spacing_n3lo': 0.26}\n",
      "36   {'chiral': 9.404,'spacing_n2lo': 1.07,'spacing_n3lo': 8.273}\n",
      "37   {'chiral': 8.501,'spacing_n2lo': 1.466,'spacing_n3lo': 2.08}\n",
      "38   {'chiral': 10.85,'spacing_n2lo': 2.037,'spacing_n3lo': 8.297}\n",
      "39   {'chiral': 9.657,'spacing_n2lo': 0.639,'spacing_n3lo': 15.3}\n",
      "40   {'chiral': 9.195,'spacing_n2lo': 0.754,'spacing_n3lo': 6.423}\n",
      "41   {'chiral': 8.588,'spacing_n2lo': 0.567,'spacing_n3lo': 4.04}\n",
      "42   {'chiral': 9.236,'spacing_n2lo': 1.196,'spacing_n3lo': 5.193}\n",
      "43   {'chiral': 6.3,'spacing_n2lo': 1.433,'spacing_n3lo': 1.498}\n",
      "44   {'chiral': 7.582,'spacing_n2lo': 0.665,'spacing_n3lo': 5.074}\n",
      "45   {'chiral': 7.122,'spacing_n2lo': 0.264,'spacing_n3lo': 6.571}\n",
      "46   {'chiral': 5.437,'spacing_n2lo': 0.313,'spacing_n3lo': 2.88}\n",
      "47   {'chiral': 3.538,'spacing_n2lo': 0.128,'spacing_n3lo': 1.723}\n",
      "48   {'chiral': 7.798,'spacing_n2lo': 0.67,'spacing_n3lo': 7.496}\n",
      "49   {'chiral': 7.423,'spacing_n2lo': 0.145,'spacing_n3lo': 5.996}\n",
      "50   {'chiral': 4.733,'spacing_n2lo': 0.0857,'spacing_n3lo': 6.258}\n",
      "51   {'chiral': 5.697,'spacing_n2lo': 0.0775,'spacing_n3lo': 5.704}\n",
      "52   {'chiral': 5.249,'spacing_n2lo': 0.093,'spacing_n3lo': 3.149}\n",
      "53   {'chiral': 4.313,'spacing_n2lo': 0.0075,'spacing_n3lo': 1.438}\n",
      "54   {'chiral': 3.499,'spacing_n2lo': 0.177,'spacing_n3lo': 1.826}\n",
      "55   {'chiral': 6.442,'spacing_n2lo': 0.153,'spacing_n3lo': 4.954}\n",
      "56   {'chiral': 5.722,'spacing_n2lo': 0.295,'spacing_n3lo': 1.618}\n",
      "57   {'chiral': 5.734,'spacing_n2lo': 0.404,'spacing_n3lo': 0.425}\n",
      "58   {'chiral': 4.497,'spacing_n2lo': 0.314,'spacing_n3lo': 0.144}\n",
      "59   {'chiral': 5.956,'spacing_n2lo': 0.193,'spacing_n3lo': 3.752}\n",
      "60   {'chiral': 5.848,'spacing_n2lo': 0.0743,'spacing_n3lo': 2.799}\n",
      "61   {'chiral': 6.053,'spacing_n2lo': 0.045,'spacing_n3lo': 2.759}\n",
      "62   {'chiral': 6.572,'spacing_n2lo': 0.262,'spacing_n3lo': 2.27}\n",
      "63   {'chiral': 6.275,'spacing_n2lo': 0.208,'spacing_n3lo': 0.679}\n",
      "64   {'chiral': 6.435,'spacing_n2lo': 0.216,'spacing_n3lo': 0.857}\n",
      "65   {'chiral': 5.461,'spacing_n2lo': 0.103,'spacing_n3lo': 1.101}\n",
      "66   {'chiral': 4.906,'spacing_n2lo': 0.024,'spacing_n3lo': 0.516}\n",
      "67   {'chiral': 6.137,'spacing_n2lo': 0.0577,'spacing_n3lo': 1.408}\n",
      "68   {'chiral': 6.345,'spacing_n2lo': 0.234,'spacing_n3lo': 1.303}\n",
      "69   {'chiral': 5.862,'spacing_n2lo': 0.201,'spacing_n3lo': 0.634}\n",
      "70   {'chiral': 5.365,'spacing_n2lo': 0.0331,'spacing_n3lo': 1.416}\n",
      "71   {'chiral': 5.592,'spacing_n2lo': 0.0769,'spacing_n3lo': 1.232}\n",
      "72   {'chiral': 6.266,'spacing_n2lo': 0.121,'spacing_n3lo': 1.082}\n",
      "73   {'chiral': 6.065,'spacing_n2lo': 0.116,'spacing_n3lo': 1.086}\n",
      "74   {'chiral': 6.001,'spacing_n2lo': 0.0339,'spacing_n3lo': 1.85}\n",
      "75   {'chiral': 5.966,'spacing_n2lo': 0.0248,'spacing_n3lo': 1.546}\n",
      "76   {'chiral': 5.612,'spacing_n2lo': 0.0874,'spacing_n3lo': 1.168}\n",
      "77   {'chiral': 6.17,'spacing_n2lo': 0.0752,'spacing_n3lo': 1.301}\n",
      "78   {'chiral': 5.736,'spacing_n2lo': 0.0765,'spacing_n3lo': 1.249}\n",
      "79   {'chiral': 5.478,'spacing_n2lo': 0.0098,'spacing_n3lo': 1.556}\n",
      "80   {'chiral': 5.918,'spacing_n2lo': 0.0894,'spacing_n3lo': 1.204}\n",
      "81   {'chiral': 6.135,'spacing_n2lo': 0.0397,'spacing_n3lo': 1.498}\n",
      "82   {'chiral': 5.743,'spacing_n2lo': 0.0755,'spacing_n3lo': 1.251}\n",
      "83   {'chiral': 5.632,'spacing_n2lo': 0.136,'spacing_n3lo': 0.923}\n",
      "84   {'chiral': 5.882,'spacing_n2lo': 0.0526,'spacing_n3lo': 1.39}\n",
      "85   {'chiral': 5.959,'spacing_n2lo': 0.0685,'spacing_n3lo': 1.314}\n",
      "86   {'chiral': 5.792,'spacing_n2lo': 0.0745,'spacing_n3lo': 1.265}\n",
      "87   {'chiral': 5.985,'spacing_n2lo': 0.0688,'spacing_n3lo': 1.322}\n",
      "88   {'chiral': 5.804,'spacing_n2lo': 0.0738,'spacing_n3lo': 1.269}\n",
      "89   {'chiral': 5.734,'spacing_n2lo': 0.0445,'spacing_n3lo': 1.412}\n",
      "90   {'chiral': 5.872,'spacing_n2lo': 0.0782,'spacing_n3lo': 1.256}\n",
      "91   {'chiral': 5.763,'spacing_n2lo': 0.0984,'spacing_n3lo': 1.137}\n",
      "92   {'chiral': 5.852,'spacing_n2lo': 0.0641,'spacing_n3lo': 1.327}\n",
      "93   {'chiral': 5.893,'spacing_n2lo': 0.0696,'spacing_n3lo': 1.303}\n",
      "94   {'chiral': 5.817,'spacing_n2lo': 0.0733,'spacing_n3lo': 1.274}\n",
      "95   {'chiral': 5.777,'spacing_n2lo': 0.0626,'spacing_n3lo': 1.324}\n",
      "96   {'chiral': 5.848,'spacing_n2lo': 0.0743,'spacing_n3lo': 1.273}\n",
      "97   {'chiral': 5.874,'spacing_n2lo': 0.0673,'spacing_n3lo': 1.314}\n",
      "98   {'chiral': 5.822,'spacing_n2lo': 0.0722,'spacing_n3lo': 1.28}\n",
      "99   {'chiral': 5.806,'spacing_n2lo': 0.0824,'spacing_n3lo': 1.224}\n",
      "100   {'chiral': 5.841,'spacing_n2lo': 0.0687,'spacing_n3lo': 1.301}\n",
      "101   {'chiral': 5.857,'spacing_n2lo': 0.0702,'spacing_n3lo': 1.295}\n",
      "102   {'chiral': 5.827,'spacing_n2lo': 0.0725,'spacing_n3lo': 1.279}\n",
      "103   {'chiral': 5.812,'spacing_n2lo': 0.068,'spacing_n3lo': 1.3}\n",
      "104   {'chiral': 5.839,'spacing_n2lo': 0.0727,'spacing_n3lo': 1.28}\n",
      "105   {'chiral': 5.849,'spacing_n2lo': 0.0704,'spacing_n3lo': 1.293}\n",
      "106   {'chiral': 5.829,'spacing_n2lo': 0.0718,'spacing_n3lo': 1.283}\n",
      "107   {'chiral': 5.822,'spacing_n2lo': 0.076,'spacing_n3lo': 1.26}\n",
      "108   {'chiral': 5.836,'spacing_n2lo': 0.0705,'spacing_n3lo': 1.291}\n",
      "109   {'chiral': 5.827,'spacing_n2lo': 0.0742,'spacing_n3lo': 1.27}\n",
      "110   {'chiral': 5.829,'spacing_n2lo': 0.0733,'spacing_n3lo': 1.275}\n",
      "111   {'chiral': 5.838,'spacing_n2lo': 0.0727,'spacing_n3lo': 1.28}\n",
      "112   {'chiral': 5.83,'spacing_n2lo': 0.0726,'spacing_n3lo': 1.279}\n",
      "113   {'chiral': 5.82,'spacing_n2lo': 0.0724,'spacing_n3lo': 1.278}\n",
      "114   {'chiral': 5.834,'spacing_n2lo': 0.0726,'spacing_n3lo': 1.28}\n",
      "115   {'chiral': 5.829,'spacing_n2lo': 0.073,'spacing_n3lo': 1.277}\n",
      "116   {'chiral': 5.829,'spacing_n2lo': 0.0726,'spacing_n3lo': 1.279}\n",
      "117   {'chiral': 5.834,'spacing_n2lo': 0.073,'spacing_n3lo': 1.277}\n",
      "118   {'chiral': 5.834,'spacing_n2lo': 0.073,'spacing_n3lo': 1.277}\n",
      "119   {'chiral': 5.834,'spacing_n2lo': 0.073,'spacing_n3lo': 1.277}\n",
      "\n",
      "Total time (s):  82.83034753799438 \n",
      "\n"
     ]
    }
   ],
   "source": [
    "t0 = time.time()\n",
    "\n",
    "# Load data\n",
    "data_loader = dl.data_loader()\n",
    "fit_data = data_loader.get_fit_data()\n",
    "\n",
    "# Make bootstrapper\n",
    "bootstrapper = bs.bootstrapper(fit_data, prior=None, **p_dict)\n",
    "\n",
    "new_prior = bootstrapper.create_prior_from_fit()\n",
    "#data_loader.save_prior(new_prior, bootstrapper.get_name())\n",
    "    \n",
    "t1 = time.time()\n",
    "\n",
    "print(\"\\nTotal time (s): \", t1 - t0, \"\\n\")"
   ]
  },
  {
   "cell_type": "code",
   "execution_count": 136,
   "metadata": {},
   "outputs": [
    {
     "name": "stdout",
     "output_type": "stream",
     "text": [
      "\n",
      "Model: ma-ratio_FKFpi_nnlo_a4_bijnens\n",
      "\n",
      "Fitting to nnlo \n",
      " with volume corrections O(0) \n",
      "Fitted/[FLAG] values at physical point (including SU(2) isospin corrections: False):\n",
      "\n",
      "F_K / F_pi = 1.1905(23) [1.1957(19)]   (delta_su2 = -0.00410(69))\n",
      "\n",
      "  Parameter    Result[0] / Prior[1]    Parameter    Result[0] / Prior[1]\n",
      "-----------------------------------  -----------------------------------\n",
      "      A_a 0             -0.004 (73)        A_p 0               5.2 (1.1)\n",
      "          1               0.0 (5.0)            1               0.0 (5.0)\n",
      "     A_aa 0          -0.003 (1.269)        L_4 0           0.000045 (76)\n",
      "          1                  0 (50)            1             0.0000 (50)\n",
      "      A_k 0               6.22 (76)        L_5 0              6(202)e-06\n",
      "          1               0.0 (5.0)            1             0.0000 (50)\n",
      "---\n",
      "boot0 fit results:\n",
      "Least Square Fit:\n",
      "  chi2/dof [dof] = 2.6 [17]    Q = 0.00033    logGBF = 51.894\n",
      "\n",
      "Settings:\n",
      "  svdcut/n = 1e-12/0    tol = (1e-08*,1e-10,1e-10)    (itns/time = 2/0.2)\n",
      "  fitter = scipy_least_squares    method = trf\n",
      "\n"
     ]
    }
   ],
   "source": [
    "print(bootstrapper)"
   ]
  },
  {
   "cell_type": "code",
   "execution_count": null,
   "metadata": {},
   "outputs": [],
   "source": []
  },
  {
   "cell_type": "code",
   "execution_count": null,
   "metadata": {},
   "outputs": [],
   "source": []
  },
  {
   "cell_type": "code",
   "execution_count": null,
   "metadata": {
    "collapsed": true
   },
   "outputs": [],
   "source": []
  }
 ],
 "metadata": {
  "kernelspec": {
   "display_name": "Python 3",
   "language": "python",
   "name": "python3"
  },
  "language_info": {
   "codemirror_mode": {
    "name": "ipython",
    "version": 3
   },
   "file_extension": ".py",
   "mimetype": "text/x-python",
   "name": "python",
   "nbconvert_exporter": "python",
   "pygments_lexer": "ipython3",
   "version": "3.8.1"
  }
 },
 "nbformat": 4,
 "nbformat_minor": 2
}
