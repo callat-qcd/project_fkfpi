{
 "cells": [
  {
   "cell_type": "code",
   "execution_count": 90,
   "metadata": {},
   "outputs": [],
   "source": [
    "import numpy as np\n",
    "import gvar as gv\n",
    "import lsqfit\n",
    "import sys\n",
    "import os\n",
    "import matplotlib\n",
    "import matplotlib.pyplot as plt\n",
    "import pandas as pd\n",
    "import h5py\n",
    "import time\n",
    "\n",
    "\n",
    "sys.path.append(\"../\")\n",
    "import fitter.data_loader as dl\n",
    "import fitter.fit_manager as fm\n",
    "import fitter.fitter as fit\n",
    "import fitter.special_functions as sf\n",
    "\n",
    "for j in range(10): # Sometimes this needs to be loaded twice...\n",
    "    matplotlib.rcParams['figure.figsize'] = [10, 10]"
   ]
  },
  {
   "cell_type": "code",
   "execution_count": 180,
   "metadata": {
    "scrolled": false
   },
   "outputs": [
    {
     "data": {
      "text/plain": [
       "<module 'fitter.fitter' from '../fitter/fitter.py'>"
      ]
     },
     "execution_count": 180,
     "metadata": {},
     "output_type": "execute_result"
    }
   ],
   "source": [
    "from importlib import reload\n",
    "reload(fm)\n",
    "reload(dl)\n",
    "reload(fit)"
   ]
  },
  {
   "cell_type": "markdown",
   "metadata": {},
   "source": [
    "### Title"
   ]
  },
  {
   "cell_type": "code",
   "execution_count": 181,
   "metadata": {},
   "outputs": [],
   "source": [
    "params = {\n",
    "    'collection_name' : 'test', \n",
    "    \n",
    "    'model_info' : {\n",
    "        'fit_type' : 'xpt', # 'ma', 'ma-ratio', 'xpt', 'xpt-ratio', or 'poly'\n",
    "        'order' : 'n2lo', # 'nlo', 'n2lo', 'n3lo'\n",
    "        'latt_ct' : 'n3lo',\n",
    "        'F2' : 'FKFK', #'FKFpi', 'FpiFpi', 'FKFK', 'F0F0' (HPQCD choice)\n",
    "\n",
    "        'include_FV' : True, # max 10\n",
    "        'exclude' : [], # put LECs here\n",
    "        'use_bijnens_central_value' : True,\n",
    "        \n",
    "        # semi-nnlo corrections\n",
    "        'include_alpha_s' : False,\n",
    "        'include_log' : False, \n",
    "        'include_log2' : False,\n",
    "        'include_sunset' : False,\n",
    "    }, \n",
    "\n",
    "    'fast_susnet' : True,\n",
    "    'use_prior' : False,\n",
    "    'bias_correct' : True,\n",
    "    #'include_su2_isospin_corrrection' : False,\n",
    "    \n",
    "    'abbrs' : [u'a06m310L', u'a09m220', u'a09m310', u'a09m350', u'a09m400', u'a12m130',\n",
    "           u'a12m220',  u'a12m220S', u'a12m220L', u'a12m310', u'a12m350',\n",
    "           u'a12m400',  u'a15m135XL', u'a15m220', u'a15m310', u'a15m350', 'a15m400'], # u'a15m130'\n",
    "}"
   ]
  },
  {
   "cell_type": "code",
   "execution_count": 182,
   "metadata": {
    "scrolled": false
   },
   "outputs": [
    {
     "name": "stdout",
     "output_type": "stream",
     "text": [
      "Using default prior.\n",
      "1   {'chiral': 1.0}\n",
      "-2.779942594303269\n",
      "2   {'chiral': 2.0}\n",
      "-3.4730897748632144\n",
      "3   {'chiral': 3.0}\n",
      "-3.878554882971379\n",
      "4   {'chiral': 4.0}\n",
      "-4.16623695542316\n",
      "5   {'chiral': 6.0}\n",
      "-4.571702063531324\n",
      "6   {'chiral': 8.0}\n",
      "-4.859384135983105\n",
      "7   {'chiral': 8.0}\n",
      "-4.859384135983105\n",
      "8   {'chiral': 5.0}\n",
      "-4.3893805067373695\n",
      "9   {'chiral': 4.0}\n",
      "-4.16623695542316\n",
      "10   {'chiral': 5.5}\n",
      "-4.484690686541694\n",
      "11   {'chiral': 6.0}\n",
      "-4.571702063531324\n",
      "12   {'chiral': 5.25}\n",
      "-4.438170670906802\n",
      "13   {'chiral': 5.75}\n",
      "-4.529142449112528\n",
      "14   {'chiral': 5.38}\n",
      "-4.4626309684769625\n",
      "15   {'chiral': 5.62}\n",
      "-4.506274258208869\n",
      "16   {'chiral': 5.44}\n",
      "-4.47372165517112\n",
      "17   {'chiral': 5.56}\n",
      "-4.49554070256576\n",
      "18   {'chiral': 5.47}\n",
      "-4.479221210737159\n",
      "19   {'chiral': 5.44}\n",
      "-4.47372165517112\n",
      "20   {'chiral': 5.48}\n",
      "-4.481047695263193\n",
      "21   {'chiral': 5.47}\n",
      "-4.479221210737159\n",
      "{'chiral': 5.47}\n",
      "\n",
      "Total time (s):  13.985905408859253 \n",
      "\n"
     ]
    }
   ],
   "source": [
    "t0 = time.time()\n",
    "\n",
    "# Load data\n",
    "data_loader = dl.data_loader()\n",
    "fit_data = data_loader.get_fit_data()\n",
    "phys_point_data = data_loader.get_phys_point_data()\n",
    "params['model_info']['name'] = data_loader.get_model_name_from_model_info(params['model_info'])\n",
    "\n",
    "\n",
    "# Make bootstrapper\n",
    "fit_manager = fm.fit_manager(fit_data, phys_point_data, prior=None, **params)\n",
    "\n",
    "new_prior = fit_manager.create_prior_from_fit()\n",
    "#data_loader.save_prior(new_prior, bootstrapper.get_name())\n",
    "    \n",
    "t1 = time.time()\n",
    "\n",
    "print(\"\\nTotal time (s): \", t1 - t0, \"\\n\")"
   ]
  },
  {
   "cell_type": "code",
   "execution_count": 183,
   "metadata": {},
   "outputs": [
    {
     "name": "stdout",
     "output_type": "stream",
     "text": [
      "\n",
      "Model: xpt_FKFK_n2lo_a4_FV_bijnens\n",
      "\n",
      "Fitted/[FLAG] values at physical point:\n",
      "\tF_K / F_pi = 1.1926(38) [1.1957(19)]\t(delta_su2 = -0.00416(70))\n",
      "\n",
      "Parameters:\n",
      "            L_4    -0.0018 (25)      [   0.0000 (50) ]  \n",
      "            L_5    0.00036 (79)      [   0.0000 (50) ]  \n",
      "            A_k       1.0 (4.6)      [     0.0 (5.5) ]  \n",
      "            A_p       0.3 (2.8)      [     0.0 (5.5) ]  \n",
      "            A_a     -10.9 (1.5)      [       0 (100) ]  \n",
      "           A_aa         80 (22)      [      0 (1000) ]  \n",
      "\n",
      "Least Square Fit:\n",
      "  chi2/dof [dof] = 0.72 [17]    Q = 0.79    logGBF = 65.478\n",
      "\n",
      "Settings:\n",
      "  svdcut/n = 1e-12/0    tol = (1e-08*,1e-10,1e-10)    (itns/time = 10/0.5)\n",
      "\n",
      "Error Budget (relative error):\n",
      "  disc: 7.46e-05\n",
      "  chiral: 0.00077\n",
      "  pp_input: 0.00112\n",
      "  stat: 0.0029\n",
      "\n"
     ]
    }
   ],
   "source": [
    "print(fit_manager)"
   ]
  },
  {
   "cell_type": "code",
   "execution_count": 127,
   "metadata": {},
   "outputs": [
    {
     "name": "stdout",
     "output_type": "stream",
     "text": [
      "\n",
      "Model: xpt_FKFK_n2lo_a4_FV_bijnens\n",
      "\n",
      "Fitted/[FLAG] values at physical point:\n",
      "\tF_K / F_pi = 1.1927(33) [1.1957(19)]\t(delta_su2 = -0.00416(70))\n",
      "\n",
      "Parameters:\n",
      "            L_4     -0.00224 (11)       [   0.0000 (50) ]  \n",
      "            L_5     0.000422 (88)       [   0.0000 (50) ]  \n",
      "            A_k    0.00001 (1562)       [    0.000 (16) ]  \n",
      "            A_p   -9e-07 +- 0.016       [    0.000 (16) ]  \n",
      "            A_a       -11.0 (1.4)       [       0 (100) ]  \n",
      "           A_aa           81 (18)       [      0 (1000) ]  \n",
      "\n",
      "Least Square Fit:\n",
      "  chi2/dof [dof] = 0.72 [17]    Q = 0.78    logGBF = 66.457\n",
      "\n",
      "Settings:\n",
      "  svdcut/n = 1e-12/0    tol = (1e-08,1e-10,1e-10)    (itns/time = 1*/0.2)\n",
      "\n",
      "Error Budget (relative error):\n",
      "  disc: 5.35e-05\n",
      "  chiral: 4.8e-05\n",
      "  pp_input: 0.00109\n",
      "  stat: 0.00259\n",
      "\n"
     ]
    }
   ],
   "source": [
    "print(fit_manager)"
   ]
  },
  {
   "cell_type": "code",
   "execution_count": 115,
   "metadata": {},
   "outputs": [
    {
     "name": "stdout",
     "output_type": "stream",
     "text": [
      "\n",
      "Model: xpt_FKFK_n2lo_a4_FV_bijnens\n",
      "\n",
      "Fitted/[FLAG] values at physical point:\n",
      "\tF_K / F_pi = 1.1927(33) [1.1957(19)]\t(delta_su2 = -0.00416(70))\n",
      "\n",
      "Parameters:\n",
      "            L_4     -0.00224 (11)       [   0.0000 (50) ]  \n",
      "            L_5     0.000422 (88)       [   0.0000 (50) ]  \n",
      "            A_k    0.00001 (1560)       [    0.000 (16) ]  \n",
      "            A_p   -9e-07 +- 0.016       [    0.000 (16) ]  \n",
      "            A_a       -11.0 (1.4)       [       0 (100) ]  \n",
      "           A_aa           81 (18)       [      0 (1000) ]  \n",
      "\n",
      "Least Square Fit:\n",
      "  chi2/dof [dof] = 0.72 [17]    Q = 0.78    logGBF = 66.457\n",
      "\n",
      "Settings:\n",
      "  svdcut/n = 1e-12/0    tol = (1e-08,1e-10,1e-10)    (itns/time = 1*/0.2)\n",
      "\n",
      "Error Budget (relative error):\n",
      "  disc: 5.35e-05\n",
      "  chiral: 4.8e-05\n",
      "  pp_input: 0.00109\n",
      "  stat: 0.00259\n",
      "\n"
     ]
    }
   ],
   "source": [
    "print(fit_manager)"
   ]
  },
  {
   "cell_type": "code",
   "execution_count": 105,
   "metadata": {},
   "outputs": [
    {
     "name": "stdout",
     "output_type": "stream",
     "text": [
      "Partial Errors:\n",
      "                  FK/Fpi\n",
      "------------------------\n",
      "          A_a:   0.00004\n",
      "         A_aa:   0.00005\n",
      "          A_k:   0.00001\n",
      "          A_p:   0.00001\n",
      "          L_4:   0.00003\n",
      "          L_5:   0.00005\n",
      "     phys:mpi:   0.00012\n",
      "      phys:mk:   0.00021\n",
      "phys:lam2_chi:   0.00128\n",
      "         stat:   0.00308\n",
      "------------------------\n",
      "        total:   0.00335\n",
      "\n"
     ]
    }
   ],
   "source": [
    "print(fit_manager.fmt_error_budget())"
   ]
  },
  {
   "cell_type": "code",
   "execution_count": 19,
   "metadata": {},
   "outputs": [
    {
     "data": {
      "text/plain": [
       "{'A_a': 0(100),\n",
       " 'A_aa': 0(1000),\n",
       " 'A_k': 0.0(1.0)e-05,\n",
       " 'A_p': 0.0(1.0)e-05,\n",
       " 'L_4': 0.0000(50),\n",
       " 'L_5': 0.0000(50)}"
      ]
     },
     "execution_count": 19,
     "metadata": {},
     "output_type": "execute_result"
    }
   ],
   "source": [
    "new_prior"
   ]
  },
  {
   "cell_type": "code",
   "execution_count": 18,
   "metadata": {},
   "outputs": [
    {
     "name": "stdout",
     "output_type": "stream",
     "text": [
      "\n",
      "Model: xpt_FKFK_n2lo_a4_FV_bijnens\n",
      "\n",
      "Fitted/[FLAG] values at physical point:\n",
      "\tF_K / F_pi = 1.1927(33) [1.1957(19)]\t(delta_su2 = -0.00416(70))\n",
      "\n",
      "Parameters:\n",
      "            L_4     -0.00224 (11)       [   0.0000 (50) ]  \n",
      "            L_5     0.000422 (88)       [   0.0000 (50) ]  \n",
      "            A_k    5e-12 +- 1e-05       [  0.0(1.0)e-05 ]  \n",
      "            A_p   -4e-13 +- 1e-05       [  0.0(1.0)e-05 ]  \n",
      "            A_a       -11.0 (1.4)       [       0 (100) ]  \n",
      "           A_aa           81 (18)       [      0 (1000) ]  \n",
      "\n",
      "Least Square Fit:\n",
      "  chi2/dof [dof] = 0.72 [17]    Q = 0.78    logGBF = 66.457\n",
      "\n",
      "Settings:\n",
      "  svdcut/n = 1e-12/0    tol = (1e-08*,1e-10,1e-10)    (itns/time = 5/0.3)\n",
      "\n",
      "Error Budget (relative error):\n",
      "\tdisc: 5.35e-05\tchiral: 4.69e-05\tpp_input: 0.00109\tstat: 0.00259\n"
     ]
    }
   ],
   "source": [
    "print(fit_manager)"
   ]
  },
  {
   "cell_type": "code",
   "execution_count": null,
   "metadata": {},
   "outputs": [],
   "source": []
  },
  {
   "cell_type": "code",
   "execution_count": null,
   "metadata": {},
   "outputs": [],
   "source": []
  },
  {
   "cell_type": "code",
   "execution_count": null,
   "metadata": {
    "collapsed": true
   },
   "outputs": [],
   "source": []
  }
 ],
 "metadata": {
  "kernelspec": {
   "display_name": "Python 3",
   "language": "python",
   "name": "python3"
  },
  "language_info": {
   "codemirror_mode": {
    "name": "ipython",
    "version": 3
   },
   "file_extension": ".py",
   "mimetype": "text/x-python",
   "name": "python",
   "nbconvert_exporter": "python",
   "pygments_lexer": "ipython3",
   "version": "3.8.2"
  }
 },
 "nbformat": 4,
 "nbformat_minor": 2
}
