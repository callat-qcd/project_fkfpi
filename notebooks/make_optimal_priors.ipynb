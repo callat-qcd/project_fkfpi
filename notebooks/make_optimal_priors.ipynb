{
 "cells": [
  {
   "cell_type": "code",
   "execution_count": 1,
   "metadata": {},
   "outputs": [],
   "source": [
    "import numpy as np\n",
    "import gvar as gv\n",
    "import lsqfit\n",
    "import sys\n",
    "import os\n",
    "import matplotlib\n",
    "import matplotlib.pyplot as plt\n",
    "import pandas as pd\n",
    "import h5py\n",
    "import time\n",
    "from importlib import reload\n",
    "\n",
    "sys.path.append(\"../\")\n",
    "from fitter import data_loader as dl\n",
    "from fitter import bootstrapper as bs\n",
    "from fitter import fitter as fit\n",
    "from fitter import special_functions as sf\n",
    "\n",
    "for j in range(10): # Sometimes this needs to be loaded twice...\n",
    "    matplotlib.rcParams['figure.figsize'] = [10, 10]"
   ]
  },
  {
   "cell_type": "code",
   "execution_count": 3,
   "metadata": {},
   "outputs": [
    {
     "data": {
      "text/plain": [
       "<module 'fitter.special_functions' from '../fitter/special_functions.py'>"
      ]
     },
     "execution_count": 3,
     "metadata": {},
     "output_type": "execute_result"
    }
   ],
   "source": [
    "reload(bs)\n",
    "reload(dl)\n",
    "reload(fit)\n",
    "reload(sf)"
   ]
  },
  {
   "cell_type": "markdown",
   "metadata": {},
   "source": [
    "### Title"
   ]
  },
  {
   "cell_type": "code",
   "execution_count": 4,
   "metadata": {},
   "outputs": [],
   "source": [
    "p_dict = {\n",
    "    'order' : {\n",
    "        'fit' : 'nnlo', # 'nlo', 'nnlo', or 'nnnlo'\n",
    "        'vol' : 0, # max 10\n",
    "        'include_log' : False, # alphaS\n",
    "        'include_log2' : True\n",
    "    }, \n",
    "    'fit_type' : 'ma-ratio', #'ma', 'ma-ratio, 'xpt', or 'xpt-ratio'; also 'simultaneous', 'ma-old'\n",
    "    'F2' : 'FKFK', #'FKFpi', 'FpiFpi', 'FKFK'\n",
    "    'bias_correct' : True,\n",
    "    \n",
    "    'abbrs' : [u'a09m220', u'a09m310', u'a09m350', u'a09m400', u'a12m130',\n",
    "           u'a12m220',  u'a12m220S', u'a12m220L', u'a12m310', u'a12m350',\n",
    "           u'a12m400',  u'a15m135XL', u'a15m220', u'a15m310', u'a15m350', 'a15m400'], # u'a15m130'\n",
    "}"
   ]
  },
  {
   "cell_type": "code",
   "execution_count": 19,
   "metadata": {
    "scrolled": true
   },
   "outputs": [
    {
     "name": "stdout",
     "output_type": "stream",
     "text": [
      "\n",
      "Total time (s):  0.0003299713134765625 \n",
      "\n"
     ]
    }
   ],
   "source": [
    "t0 = time.time()\n",
    "\n",
    "if p_dict['order']['vol'] > 0:\n",
    "    include_FV = True\n",
    "else:\n",
    "    include_FV = False\n",
    "    \n",
    "name = p_dict['fit_type'] +'_'+ p_dict['F2']\n",
    "if include_FV:\n",
    "    name = name + '_FV'\n",
    "if p_dict['order']['include_log']:\n",
    "    name = name + '_alphaS'\n",
    "if p_dict['order']['include_log2']:\n",
    "    name = name + '_logSq'\n",
    "\n",
    "print(name)\n",
    "\n",
    "# Load data\n",
    "data_loader = dl.data_loader()\n",
    "fit_data = data_loader.get_fit_data()\n",
    "\n",
    "\n",
    "bootstrapper = bs.bootstrapper(fit_data, prior=None, order=p_dict['order'], F2=p_dict['F2'], \n",
    "                               fit_type=p_dict['fit_type'], abbrs=p_dict['abbrs'], bias_correct=p_dict['bias_correct'])\n",
    "\n",
    "new_prior = bootstrapper.create_prior_from_fit()\n",
    "data_loader.save_prior(new_prior, fit_type=p_dict['fit_type'], F2=p_dict['F2'], \n",
    "                       include_FV=include_FV, include_alphaS=p_dict['order']['include_log'], include_logSq=p_dict['order']['include_log2'])\n",
    "\n",
    "t1 = time.time()\n",
    "\n",
    "\n",
    "print(\"\\nTotal time (s): \", t1 - t0, \"\\n\")"
   ]
  },
  {
   "cell_type": "code",
   "execution_count": null,
   "metadata": {
    "collapsed": true
   },
   "outputs": [],
   "source": []
  }
 ],
 "metadata": {
  "kernelspec": {
   "display_name": "Python 3",
   "language": "python",
   "name": "python3"
  },
  "language_info": {
   "codemirror_mode": {
    "name": "ipython",
    "version": 3
   },
   "file_extension": ".py",
   "mimetype": "text/x-python",
   "name": "python",
   "nbconvert_exporter": "python",
   "pygments_lexer": "ipython3",
   "version": "3.8.0"
  }
 },
 "nbformat": 4,
 "nbformat_minor": 2
}
