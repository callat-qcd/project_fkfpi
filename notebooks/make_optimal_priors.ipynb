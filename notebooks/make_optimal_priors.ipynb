{
 "cells": [
  {
   "cell_type": "code",
   "execution_count": 1,
   "metadata": {},
   "outputs": [],
   "source": [
    "import numpy as np\n",
    "import gvar as gv\n",
    "import lsqfit\n",
    "import sys\n",
    "import os\n",
    "import matplotlib\n",
    "import matplotlib.pyplot as plt\n",
    "import pandas as pd\n",
    "import h5py\n",
    "import time\n",
    "from importlib import reload\n",
    "\n",
    "sys.path.append(\"../\")\n",
    "from fitter import data_loader as dl\n",
    "from fitter import bootstrapper as bs\n",
    "from fitter import fitter as fit\n",
    "from fitter import special_functions as sf\n",
    "\n",
    "for j in range(10): # Sometimes this needs to be loaded twice...\n",
    "    matplotlib.rcParams['figure.figsize'] = [10, 10]"
   ]
  },
  {
   "cell_type": "code",
   "execution_count": 6,
   "metadata": {},
   "outputs": [
    {
     "data": {
      "text/plain": [
       "<module 'fitter.special_functions' from '../fitter/special_functions.py'>"
      ]
     },
     "execution_count": 6,
     "metadata": {},
     "output_type": "execute_result"
    }
   ],
   "source": [
    "reload(bs)\n",
    "reload(dl)\n",
    "reload(fit)\n",
    "reload(sf)"
   ]
  },
  {
   "cell_type": "markdown",
   "metadata": {},
   "source": [
    "### Title"
   ]
  },
  {
   "cell_type": "code",
   "execution_count": 4,
   "metadata": {},
   "outputs": [],
   "source": [
    "p_dict = {\n",
    "    'order' : {\n",
    "        'fit' : 'nnlo', # 'nlo', 'nnlo'\n",
    "        'vol' : 0, # max 10\n",
    "        'exclude' : [], # put LECs here\n",
    "        \n",
    "        # semi-nnlo corrections\n",
    "        'include_alpha_s' : False,\n",
    "        'include_log' : True, \n",
    "        'include_log2' : True,\n",
    "        'include_sunset' : False,\n",
    "        \n",
    "        # nnnlo corrections\n",
    "        'include_latt_n3lo' : False,\n",
    "    }, \n",
    "    'fit_type' : 'xpt-ratio', #'ma', 'ma-ratio, 'xpt', or 'xpt-ratio'; experimental: 'simultaneous', 'ma-old'\n",
    "    'F2' : 'FpiFpi', #'FKFpi', 'FpiFpi', 'FKFK', 'F0F0' (HPQCD choice)\n",
    "    'use_bijnens_central_value' : True,\n",
    "    \n",
    "    \n",
    "    'bias_correct' : True,\n",
    "    'include_su2_isospin_corrrection' : False,   \n",
    "    'abbrs' : [u'a09m220', u'a09m310', u'a09m350', u'a09m400', u'a12m130',\n",
    "           u'a12m220',  u'a12m220S', u'a12m220L', u'a12m310', u'a12m350',\n",
    "           u'a12m400',  u'a15m135XL', u'a15m220', u'a15m310', u'a15m350', 'a15m400'], # u'a15m130'\n",
    "    \n",
    "    'save_results' : False,\n",
    "}"
   ]
  },
  {
   "cell_type": "code",
   "execution_count": 5,
   "metadata": {
    "scrolled": true
   },
   "outputs": [
    {
     "name": "stdout",
     "output_type": "stream",
     "text": [
      "Using default prior.\n",
      "{'chiral': 1.0,'spacing_n2lo': 1.0}\n",
      "{'chiral': 1.05,'spacing_n2lo': 1.0}\n",
      "{'chiral': 1.0,'spacing_n2lo': 1.05}\n",
      "{'chiral': 1.0499999999999998,'spacing_n2lo': 1.0499999999999998}\n",
      "{'chiral': 1.0749999999999997,'spacing_n2lo': 1.0749999999999997}\n",
      "{'chiral': 1.0249999999999997,'spacing_n2lo': 1.125}\n",
      "{'chiral': 1.0999999999999996,'spacing_n2lo': 1.1499999999999997}\n",
      "{'chiral': 1.1499999999999995,'spacing_n2lo': 1.1999999999999997}\n",
      "{'chiral': 1.1999999999999995,'spacing_n2lo': 1.1499999999999995}\n",
      "{'chiral': 1.2874999999999992,'spacing_n2lo': 1.1624999999999992}\n",
      "{'chiral': 1.362499999999999,'spacing_n2lo': 1.2874999999999992}\n",
      "{'chiral': 1.5062499999999988,'spacing_n2lo': 1.393749999999999}\n",
      "{'chiral': 1.6437499999999985,'spacing_n2lo': 1.3562499999999984}\n",
      "{'chiral': 1.8906249999999982,'spacing_n2lo': 1.4343749999999975}\n",
      "{'chiral': 2.109374999999998,'spacing_n2lo': 1.6656249999999972}\n",
      "{'chiral': 2.5203124999999966,'spacing_n2lo': 1.9171874999999963}\n",
      "{'chiral': 2.904687499999996,'spacing_n2lo': 1.9578124999999948}\n",
      "{'chiral': 3.6039062499999943,'spacing_n2lo': 2.2398437499999932}\n",
      "{'chiral': 4.233593749999993,'spacing_n2lo': 2.722656249999992}\n",
      "{'chiral': 5.40507812499999,'spacing_n2lo': 3.3667968749999897}\n",
      "{'chiral': 5.31718749999999,'spacing_n2lo': 3.045312499999989}\n",
      "{'chiral': 5.946874999999988,'spacing_n2lo': 3.5281249999999877}\n",
      "{'chiral': 4.189648437499993,'spacing_n2lo': 2.5619140624999917}\n",
      "{'chiral': 3.106054687499995,'spacing_n2lo': 2.2392578124999947}\n",
      "{'chiral': 4.764404296874991,'spacing_n2lo': 2.8437988281249904}\n",
      "{'chiral': 3.6588378906249943,'spacing_n2lo': 2.4407714843749932}\n",
      "{'chiral': 4.4880126953124915,'spacing_n2lo': 2.743041992187491}\n",
      "{'chiral': 4.531958007812492,'spacing_n2lo': 2.9037841796874915}\n",
      "{'chiral': 4.275225830078117,'spacing_n2lo': 2.647381591796867}\n",
      "{'chiral': 4.529644775390616,'spacing_n2lo': 2.667767333984366}\n",
      "{'chiral': 4.6776702880859276,'spacing_n2lo': 2.640322875976553}\n",
      "{'chiral': 4.316857910156241,'spacing_n2lo': 2.5721069335937417}\n",
      "{'chiral': 4.445223999023429,'spacing_n2lo': 2.700308227539054}\n",
      "{'chiral': 4.6996429443359276,'spacing_n2lo': 2.720693969726553}\n",
      "{'chiral': 4.38133010864257,'spacing_n2lo': 2.665709686279288}\n",
      "{'chiral': 4.296909332275383,'spacing_n2lo': 2.698250579833976}\n",
      "{'chiral': 4.471460914611807,'spacing_n2lo': 2.6753881454467683}\n",
      "{'chiral': 4.407567024230947,'spacing_n2lo': 2.6407896041870025}\n",
      "{'chiral': 4.3887385368347065,'spacing_n2lo': 2.6110302925109767}\n",
      "{'chiral': 4.31743621826171,'spacing_n2lo': 2.6311111450195224}\n",
      "{'chiral': 4.432954740524282,'spacing_n2lo': 2.6643188953399566}\n",
      "{'chiral': 4.459191656112661,'spacing_n2lo': 2.639398813247671}\n",
      "{'chiral': 4.400795495510092,'spacing_n2lo': 2.659131968021384}\n",
      "{'chiral': 4.375407779216756,'spacing_n2lo': 2.63560267686843}\n",
      "{'chiral': 4.418568000197401,'spacing_n2lo': 2.657139840722075}\n",
      "{'chiral': 4.411796471476545,'spacing_n2lo': 2.675482204556456}\n",
      "{'chiral': 4.408624386042346,'spacing_n2lo': 2.649462754279366}\n",
      "{'chiral': 4.3908518813550375,'spacing_n2lo': 2.651454881578675}\n",
      "{'chiral': 4.41163897048681,'spacing_n2lo': 2.655718600936225}\n",
      "{'chiral': 4.419467861019065,'spacing_n2lo': 2.6460493871942075}\n",
      "{'chiral': 4.405463586887335,'spacing_n2lo': 2.65586132281459}\n",
      "{'chiral': 4.402449002442871,'spacing_n2lo': 2.649605476157731}\n",
      "{'chiral': 4.405609801597881,'spacing_n2lo': 2.643206907622507}\n",
      "{'chiral': 4.405500140564971,'spacing_n2lo': 2.6526977190165693}\n",
      "{'chiral': 4.405536694242608,'spacing_n2lo': 2.6495341152185485}\n",
      "{'chiral': 4.40704398646484,'spacing_n2lo': 2.652662038546978}\n",
      "{'chiral': 4.407117093820114,'spacing_n2lo': 2.6463348309509365}\n",
      "{'chiral': 4.407062263303659,'spacing_n2lo': 2.6510802366479673}\n",
      "{'chiral': 4.407080540142477,'spacing_n2lo': 2.649498434748957}\n",
      "{'chiral': 4.407834186253593,'spacing_n2lo': 2.651062396413172}\n",
      "{'chiral': 4.40787073993123,'spacing_n2lo': 2.647898792615151}\n",
      "{'chiral': 4.409414585831099,'spacing_n2lo': 2.6478631121455596}\n",
      "{'chiral': 4.407664051564632,'spacing_n2lo': 2.6490896040981076}\n",
      "{'chiral': 4.408247562986788,'spacing_n2lo': 2.6486807734472584}\n",
      "{'chiral': 4.407852463092412,'spacing_n2lo': 2.6494805945141615}\n",
      "{'chiral': 4.408229286147971,'spacing_n2lo': 2.6502625753462685}\n",
      "{'chiral': 4.408242993777083,'spacing_n2lo': 2.6490762239220107}\n",
      "{'chiral': 4.409014916727018,'spacing_n2lo': 2.649058383687215}\n",
      "{'chiral': 4.408143076501063,'spacing_n2lo': 2.649375041807425}\n",
      "{'chiral': 4.408724303318366,'spacing_n2lo': 2.6491639363939514}\n",
      "{'chiral': 4.408288383205389,'spacing_n2lo': 2.6493222654540567}\n",
      "{'chiral': 4.408433689909715,'spacing_n2lo': 2.6492694891006883}\n",
      "{'chiral': 4.408383731271705,'spacing_n2lo': 2.6494188980433955}\n",
      "{'chiral': 4.408674344680357,'spacing_n2lo': 2.6493133453366586}\n",
      "{'chiral': 4.408601691328194,'spacing_n2lo': 2.649339733513343}\n",
      "{'chiral': 4.408529037976031,'spacing_n2lo': 2.649366121690027}\n",
      "{'chiral': 4.408504058657026,'spacing_n2lo': 2.6494408261613804}\n",
      "{'chiral': 4.408649365361351,'spacing_n2lo': 2.649388049808013}\n",
      "{'chiral': 4.408540385333107,'spacing_n2lo': 2.6494276320730386}\n",
      "{'chiral': 4.4085767120091885,'spacing_n2lo': 2.6494144379846967}\n",
      "{'chiral': 4.4085642223496855,'spacing_n2lo': 2.649451790220373}\n",
      "{'chiral': 4.408624386042346,'spacing_n2lo': 2.649462754279366}\n",
      "{'chiral': 4.408624386042346,'spacing_n2lo': 2.649462754279366}\n",
      "Saving...\n",
      "Done.\n",
      "\n",
      "Total time (s):  46.029563665390015 \n",
      "\n"
     ]
    }
   ],
   "source": [
    "t0 = time.time()\n",
    "\n",
    "# Load data\n",
    "data_loader = dl.data_loader()\n",
    "fit_data = data_loader.get_fit_data()\n",
    "\n",
    "# Make bootstrapper\n",
    "bootstrapper = bs.bootstrapper(fit_data, prior=None, **p_dict)\n",
    "\n",
    "new_prior = bootstrapper.create_prior_from_fit()\n",
    "data_loader.save_prior(new_prior, bootstrapper.get_name())\n",
    "    \n",
    "t1 = time.time()\n",
    "\n",
    "print(\"\\nTotal time (s): \", t1 - t0, \"\\n\")"
   ]
  },
  {
   "cell_type": "code",
   "execution_count": null,
   "metadata": {},
   "outputs": [],
   "source": []
  },
  {
   "cell_type": "code",
   "execution_count": null,
   "metadata": {},
   "outputs": [],
   "source": []
  },
  {
   "cell_type": "code",
   "execution_count": null,
   "metadata": {
    "collapsed": true
   },
   "outputs": [],
   "source": []
  }
 ],
 "metadata": {
  "kernelspec": {
   "display_name": "Python 3",
   "language": "python",
   "name": "python3"
  },
  "language_info": {
   "codemirror_mode": {
    "name": "ipython",
    "version": 3
   },
   "file_extension": ".py",
   "mimetype": "text/x-python",
   "name": "python",
   "nbconvert_exporter": "python",
   "pygments_lexer": "ipython3",
   "version": "3.8.0"
  }
 },
 "nbformat": 4,
 "nbformat_minor": 2
}
