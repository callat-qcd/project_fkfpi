{
 "cells": [
  {
   "cell_type": "code",
   "execution_count": 113,
   "metadata": {},
   "outputs": [],
   "source": [
    "import numpy as np\n",
    "import gvar as gv\n",
    "import lsqfit\n",
    "import sys\n",
    "import os\n",
    "import matplotlib\n",
    "import matplotlib.pyplot as plt\n",
    "import pandas as pd\n",
    "import h5py\n",
    "import time\n",
    "\n",
    "\n",
    "sys.path.append(\"../\")\n",
    "import fitter.data_loader as dl\n",
    "import fitter.fit_manager as fm\n",
    "import fitter.fitter as fit\n",
    "import fitter.special_functions as sf\n",
    "\n",
    "for j in range(10): # Sometimes this needs to be loaded twice...\n",
    "    matplotlib.rcParams['figure.figsize'] = [10, 10]"
   ]
  },
  {
   "cell_type": "code",
   "execution_count": 114,
   "metadata": {
    "scrolled": false
   },
   "outputs": [
    {
     "data": {
      "text/plain": [
       "<module 'fitter.fitter' from '../fitter/fitter.py'>"
      ]
     },
     "execution_count": 114,
     "metadata": {},
     "output_type": "execute_result"
    }
   ],
   "source": [
    "from importlib import reload\n",
    "reload(fm)\n",
    "reload(dl)\n",
    "reload(fit)"
   ]
  },
  {
   "cell_type": "markdown",
   "metadata": {},
   "source": [
    "### Title"
   ]
  },
  {
   "cell_type": "code",
   "execution_count": 115,
   "metadata": {},
   "outputs": [],
   "source": [
    "params = {\n",
    "    'collection_name' : 'test', \n",
    "    \n",
    "    'model_info' : {\n",
    "        'fit_type' : 'xpt', # 'ma', 'ma-ratio', 'xpt', 'xpt-ratio', or 'poly'\n",
    "        'order' : 'n3lo', # 'nlo', 'n2lo', 'n3lo'\n",
    "        'latt_ct' : 'n4lo',\n",
    "        'F2' : 'FKFK', #'FKFpi', 'FpiFpi', 'FKFK', 'F0F0' (HPQCD choice)\n",
    "\n",
    "        'include_FV' : True, # max 10\n",
    "        'exclude' : [], # put LECs here\n",
    "        'use_bijnens_central_value' : True,\n",
    "        \n",
    "        # semi-nnlo corrections\n",
    "        'include_alpha_s' : False,\n",
    "        'include_log' : False, \n",
    "        'include_log2' : False,\n",
    "        'include_sunset' : False,\n",
    "    }, \n",
    "\n",
    "    'fast_susnet' : True,\n",
    "    'use_prior' : False,\n",
    "    'bias_correct' : True,\n",
    "    #'include_su2_isospin_corrrection' : False,\n",
    "    \n",
    "    'abbrs' : [u'a06m310L', u'a09m220', u'a09m310', u'a09m350', u'a09m400', u'a12m130',\n",
    "           u'a12m220',  u'a12m220S', u'a12m220L', u'a12m310', u'a12m350',\n",
    "           u'a12m400',  u'a15m135XL', u'a15m220', u'a15m310', u'a15m350', 'a15m400'], # u'a15m130'\n",
    "}"
   ]
  },
  {
   "cell_type": "code",
   "execution_count": 116,
   "metadata": {
    "scrolled": false
   },
   "outputs": [
    {
     "name": "stdout",
     "output_type": "stream",
     "text": [
      "Using default prior.\n",
      "1   {'chiral_n2lo': 1.0,'chiral_n3lo': 1.0,'latt_n2lo': 100.0,'latt_n3lo': 1000.0,'latt_n4lo': 1000.0}\n",
      "2   {'chiral_n2lo': 2.0,'chiral_n3lo': 1.0,'latt_n2lo': 100.0,'latt_n3lo': 1000.0,'latt_n4lo': 1000.0}\n",
      "3   {'chiral_n2lo': 1.0,'chiral_n3lo': 2.0,'latt_n2lo': 100.0,'latt_n3lo': 1000.0,'latt_n4lo': 1000.0}\n",
      "4   {'chiral_n2lo': 1.0,'chiral_n3lo': 1.0,'latt_n2lo': 101.0,'latt_n3lo': 1000.0,'latt_n4lo': 1000.0}\n",
      "5   {'chiral_n2lo': 1.0,'chiral_n3lo': 1.0,'latt_n2lo': 100.0,'latt_n3lo': 1000.0,'latt_n4lo': 1000.0}\n",
      "6   {'chiral_n2lo': 1.0,'chiral_n3lo': 1.0,'latt_n2lo': 100.0,'latt_n3lo': 1000.0,'latt_n4lo': 1000.0}\n",
      "7   {'chiral_n2lo': 0.01,'chiral_n3lo': 1.4,'latt_n2lo': 100.0,'latt_n3lo': 1000.0,'latt_n4lo': 1000.0}\n",
      "8   {'chiral_n2lo': 1.0,'chiral_n3lo': 1.6,'latt_n2lo': 101.0,'latt_n3lo': 1000.0,'latt_n4lo': 1000.0}\n",
      "9   {'chiral_n2lo': 0.6,'chiral_n3lo': 0.16,'latt_n2lo': 101.0,'latt_n3lo': 1000.0,'latt_n4lo': 1000.0}\n",
      "10   {'chiral_n2lo': 0.44,'chiral_n3lo': 0.824,'latt_n2lo': 99.4,'latt_n3lo': 1000.0,'latt_n4lo': 1000.0}\n",
      "11   {'chiral_n2lo': 0.16,'chiral_n3lo': 0.736,'latt_n2lo': 98.6,'latt_n3lo': 1000.0,'latt_n4lo': 1000.0}\n",
      "12   {'chiral_n2lo': 0.104,'chiral_n3lo': 0.718,'latt_n2lo': 99.8,'latt_n3lo': 1000.0,'latt_n4lo': 1000.0}\n",
      "13   {'chiral_n2lo': 0.254,'chiral_n3lo': 0.606,'latt_n2lo': 99.7,'latt_n3lo': 1000.0,'latt_n4lo': 1000.0}\n",
      "14   {'chiral_n2lo': 0.756,'chiral_n3lo': 0.448,'latt_n2lo': 99.6,'latt_n3lo': 1000.0,'latt_n4lo': 1000.0}\n",
      "15   {'chiral_n2lo': 0.317,'chiral_n3lo': 0.586,'latt_n2lo': 99.7,'latt_n3lo': 1000.0,'latt_n4lo': 1000.0}\n",
      "16   {'chiral_n2lo': 0.723,'chiral_n3lo': 1.46,'latt_n2lo': 98.7,'latt_n3lo': 1000.0,'latt_n4lo': 1000.0}\n",
      "17   {'chiral_n2lo': 0.269,'chiral_n3lo': 0.485,'latt_n2lo': 100.0,'latt_n3lo': 1000.0,'latt_n4lo': 1000.0}\n",
      "18   {'chiral_n2lo': 0.0153,'chiral_n3lo': 0.148,'latt_n2lo': 98.8,'latt_n3lo': 1000.0,'latt_n4lo': 1000.0}\n",
      "19   {'chiral_n2lo': 0.023,'chiral_n3lo': 0.922,'latt_n2lo': 98.0,'latt_n3lo': 1000.0,'latt_n4lo': 1000.0}\n",
      "20   {'chiral_n2lo': 0.419,'chiral_n3lo': 0.0633,'latt_n2lo': 98.8,'latt_n3lo': 1000.0,'latt_n4lo': 1000.0}\n",
      "21   {'chiral_n2lo': 0.107,'chiral_n3lo': 0.01,'latt_n2lo': 97.8,'latt_n3lo': 1000.0,'latt_n4lo': 1000.0}\n",
      "22   {'chiral_n2lo': 0.295,'chiral_n3lo': 0.248,'latt_n2lo': 96.7,'latt_n3lo': 1000.0,'latt_n4lo': 1000.0}\n",
      "23   {'chiral_n2lo': 0.401,'chiral_n3lo': 0.467,'latt_n2lo': 97.0,'latt_n3lo': 1000.0,'latt_n4lo': 1000.0}\n",
      "24   {'chiral_n2lo': 0.161,'chiral_n3lo': 1.05,'latt_n2lo': 95.8,'latt_n3lo': 1000.0,'latt_n4lo': 1000.0}\n",
      "25   {'chiral_n2lo': 0.189,'chiral_n3lo': 1.94,'latt_n2lo': 93.8,'latt_n3lo': 1000.0,'latt_n4lo': 1010.0}\n",
      "26   {'chiral_n2lo': 0.258,'chiral_n3lo': 0.845,'latt_n2lo': 95.7,'latt_n3lo': 1000.0,'latt_n4lo': 1000.0}\n",
      "27   {'chiral_n2lo': 0.597,'chiral_n3lo': 1.3,'latt_n2lo': 94.1,'latt_n3lo': 1000.0,'latt_n4lo': 1000.0}\n",
      "28   {'chiral_n2lo': 0.166,'chiral_n3lo': 2.15,'latt_n2lo': 94.7,'latt_n3lo': 1000.0,'latt_n4lo': 1010.0}\n",
      "29   {'chiral_n2lo': 0.0786,'chiral_n3lo': 0.0146,'latt_n2lo': 97.6,'latt_n3lo': 1000.0,'latt_n4lo': 1000.0}\n",
      "30   {'chiral_n2lo': 0.0579,'chiral_n3lo': 0.118,'latt_n2lo': 95.1,'latt_n3lo': 1000.0,'latt_n4lo': 1000.0}\n",
      "31   {'chiral_n2lo': 0.0984,'chiral_n3lo': 0.284,'latt_n2lo': 93.7,'latt_n3lo': 1000.0,'latt_n4lo': 1000.0}\n",
      "32   {'chiral_n2lo': 0.487,'chiral_n3lo': 0.272,'latt_n2lo': 94.8,'latt_n3lo': 1000.0,'latt_n4lo': 1000.0}\n",
      "33   {'chiral_n2lo': 0.391,'chiral_n3lo': 0.868,'latt_n2lo': 93.1,'latt_n3lo': 1000.0,'latt_n4lo': 1010.0}\n",
      "34   {'chiral_n2lo': 0.0555,'chiral_n3lo': 0.853,'latt_n2lo': 92.5,'latt_n3lo': 1000.0,'latt_n4lo': 1000.0}\n",
      "35   {'chiral_n2lo': 0.0641,'chiral_n3lo': 1.16,'latt_n2lo': 90.4,'latt_n3lo': 1000.0,'latt_n4lo': 1010.0}\n",
      "36   {'chiral_n2lo': 0.55,'chiral_n3lo': 0.0894,'latt_n2lo': 91.2,'latt_n3lo': 1000.0,'latt_n4lo': 1010.0}\n",
      "37   {'chiral_n2lo': 0.248,'chiral_n3lo': 0.01,'latt_n2lo': 89.6,'latt_n3lo': 1000.0,'latt_n4lo': 1010.0}\n",
      "38   {'chiral_n2lo': 0.243,'chiral_n3lo': 0.428,'latt_n2lo': 86.6,'latt_n3lo': 1000.0,'latt_n4lo': 1010.0}\n",
      "39   {'chiral_n2lo': 0.0782,'chiral_n3lo': 0.288,'latt_n2lo': 87.2,'latt_n3lo': 1010.0,'latt_n4lo': 1010.0}\n",
      "40   {'chiral_n2lo': 0.17,'chiral_n3lo': 0.54,'latt_n2lo': 86.6,'latt_n3lo': 1010.0,'latt_n4lo': 1010.0}\n",
      "41   {'chiral_n2lo': 0.291,'chiral_n3lo': 0.511,'latt_n2lo': 83.1,'latt_n3lo': 1010.0,'latt_n4lo': 1010.0}\n",
      "42   {'chiral_n2lo': 0.485,'chiral_n3lo': 0.908,'latt_n2lo': 77.8,'latt_n3lo': 1010.0,'latt_n4lo': 1010.0}\n",
      "43   {'chiral_n2lo': 0.384,'chiral_n3lo': 0.464,'latt_n2lo': 80.2,'latt_n3lo': 1010.0,'latt_n4lo': 1010.0}\n",
      "44   {'chiral_n2lo': 0.103,'chiral_n3lo': 0.879,'latt_n2lo': 76.9,'latt_n3lo': 1010.0,'latt_n4lo': 1010.0}\n",
      "45   {'chiral_n2lo': 0.186,'chiral_n3lo': 1.9,'latt_n2lo': 70.2,'latt_n3lo': 1010.0,'latt_n4lo': 1010.0}\n",
      "46   {'chiral_n2lo': 0.223,'chiral_n3lo': 0.885,'latt_n2lo': 73.4,'latt_n3lo': 1010.0,'latt_n4lo': 1010.0}\n",
      "47   {'chiral_n2lo': 0.471,'chiral_n3lo': 0.195,'latt_n2lo': 68.7,'latt_n3lo': 1010.0,'latt_n4lo': 1010.0}\n",
      "48   {'chiral_n2lo': 0.792,'chiral_n3lo': 0.0233,'latt_n2lo': 59.7,'latt_n3lo': 1010.0,'latt_n4lo': 1020.0}\n",
      "49   {'chiral_n2lo': 0.278,'chiral_n3lo': 0.145,'latt_n2lo': 57.9,'latt_n3lo': 1010.0,'latt_n4lo': 1020.0}\n",
      "50   {'chiral_n2lo': 0.296,'chiral_n3lo': 0.01,'latt_n2lo': 43.6,'latt_n3lo': 1020.0,'latt_n4lo': 1020.0}\n",
      "51   {'chiral_n2lo': 1.18,'chiral_n3lo': 1.22,'latt_n2lo': 49.7,'latt_n3lo': 1010.0,'latt_n4lo': 1020.0}\n",
      "52   {'chiral_n2lo': 0.584,'chiral_n3lo': 2.52,'latt_n2lo': 40.8,'latt_n3lo': 1020.0,'latt_n4lo': 1020.0}\n",
      "53   {'chiral_n2lo': 0.991,'chiral_n3lo': 1.38,'latt_n2lo': 32.3,'latt_n3lo': 1020.0,'latt_n4lo': 1030.0}\n",
      "54   {'chiral_n2lo': 1.37,'chiral_n3lo': 1.63,'latt_n2lo': 11.8,'latt_n3lo': 1020.0,'latt_n4lo': 1040.0}\n",
      "55   {'chiral_n2lo': 1.5,'chiral_n3lo': 0.264,'latt_n2lo': 12.0,'latt_n3lo': 1020.0,'latt_n4lo': 1040.0}\n",
      "56   {'chiral_n2lo': 1.18,'chiral_n3lo': 2.23,'latt_n2lo': 3.45,'latt_n3lo': 1030.0,'latt_n4lo': 1040.0}\n",
      "57   {'chiral_n2lo': 0.889,'chiral_n3lo': 0.576,'latt_n2lo': 45.6,'latt_n3lo': 1010.0,'latt_n4lo': 1020.0}\n",
      "58   {'chiral_n2lo': 0.682,'chiral_n3lo': 0.774,'latt_n2lo': 11.8,'latt_n3lo': 1020.0,'latt_n4lo': 1040.0}\n",
      "59   {'chiral_n2lo': 0.435,'chiral_n3lo': 0.549,'latt_n2lo': 7.1,'latt_n3lo': 1030.0,'latt_n4lo': 1040.0}\n",
      "60   {'chiral_n2lo': 0.886,'chiral_n3lo': 1.5,'latt_n2lo': 2.37,'latt_n3lo': 1030.0,'latt_n4lo': 1040.0}\n",
      "61   {'chiral_n2lo': 0.888,'chiral_n3lo': 0.807,'latt_n2lo': 34.8,'latt_n3lo': 1020.0,'latt_n4lo': 1030.0}\n",
      "62   {'chiral_n2lo': 1.31,'chiral_n3lo': 1.13,'latt_n2lo': 4.77,'latt_n3lo': 1030.0,'latt_n4lo': 1040.0}\n",
      "63   {'chiral_n2lo': 0.766,'chiral_n3lo': 1.61,'latt_n2lo': 31.8,'latt_n3lo': 1020.0,'latt_n4lo': 1030.0}\n",
      "64   {'chiral_n2lo': 1.79,'chiral_n3lo': 2.03,'latt_n2lo': 2.7,'latt_n3lo': 1030.0,'latt_n4lo': 1040.0}\n",
      "65   {'chiral_n2lo': 0.669,'chiral_n3lo': 0.51,'latt_n2lo': 32.0,'latt_n3lo': 1020.0,'latt_n4lo': 1030.0}\n",
      "66   {'chiral_n2lo': 1.11,'chiral_n3lo': 1.11,'latt_n2lo': 4.95,'latt_n3lo': 1030.0,'latt_n4lo': 1040.0}\n",
      "67   {'chiral_n2lo': 0.944,'chiral_n3lo': 0.882,'latt_n2lo': 27.4,'latt_n3lo': 1020.0,'latt_n4lo': 1030.0}\n",
      "68   {'chiral_n2lo': 1.3,'chiral_n3lo': 0.016,'latt_n2lo': 6.17,'latt_n3lo': 1030.0,'latt_n4lo': 1040.0}\n",
      "69   {'chiral_n2lo': 1.65,'chiral_n3lo': 0.917,'latt_n2lo': 4.37,'latt_n3lo': 1030.0,'latt_n4lo': 1040.0}\n",
      "70   {'chiral_n2lo': 0.915,'chiral_n3lo': 0.612,'latt_n2lo': 22.9,'latt_n3lo': 1020.0,'latt_n4lo': 1030.0}\n",
      "71   {'chiral_n2lo': 0.865,'chiral_n3lo': 1.65,'latt_n2lo': 28.2,'latt_n3lo': 1020.0,'latt_n4lo': 1030.0}\n",
      "72   {'chiral_n2lo': 1.19,'chiral_n3lo': 0.424,'latt_n2lo': 11.7,'latt_n3lo': 1020.0,'latt_n4lo': 1040.0}\n",
      "73   {'chiral_n2lo': 1.32,'chiral_n3lo': 0.6,'latt_n2lo': 1.0,'latt_n3lo': 1030.0,'latt_n4lo': 1040.0}\n",
      "74   {'chiral_n2lo': 1.04,'chiral_n3lo': 0.812,'latt_n2lo': 20.7,'latt_n3lo': 1020.0,'latt_n4lo': 1030.0}\n",
      "75   {'chiral_n2lo': 1.4,'chiral_n3lo': 0.95,'latt_n2lo': 4.26,'latt_n3lo': 1030.0,'latt_n4lo': 1040.0}\n",
      "76   {'chiral_n2lo': 1.04,'chiral_n3lo': 0.696,'latt_n2lo': 18.3,'latt_n3lo': 1020.0,'latt_n4lo': 1030.0}\n",
      "77   {'chiral_n2lo': 1.28,'chiral_n3lo': 0.704,'latt_n2lo': 5.51,'latt_n3lo': 1030.0,'latt_n4lo': 1040.0}\n",
      "78   {'chiral_n2lo': 1.1,'chiral_n3lo': 0.785,'latt_n2lo': 16.9,'latt_n3lo': 1020.0,'latt_n4lo': 1030.0}\n"
     ]
    },
    {
     "name": "stdout",
     "output_type": "stream",
     "text": [
      "79   {'chiral_n2lo': 1.3,'chiral_n3lo': 0.855,'latt_n2lo': 7.41,'latt_n3lo': 1030.0,'latt_n4lo': 1040.0}\n",
      "80   {'chiral_n2lo': 1.1,'chiral_n3lo': 0.736,'latt_n2lo': 15.5,'latt_n3lo': 1020.0,'latt_n4lo': 1040.0}\n",
      "81   {'chiral_n2lo': 1.24,'chiral_n3lo': 0.747,'latt_n2lo': 8.22,'latt_n3lo': 1030.0,'latt_n4lo': 1040.0}\n",
      "82   {'chiral_n2lo': 1.21,'chiral_n3lo': 0.756,'latt_n2lo': 10.4,'latt_n3lo': 1020.0,'latt_n4lo': 1040.0}\n",
      "83   {'chiral_n2lo': 1.28,'chiral_n3lo': 0.804,'latt_n2lo': 7.52,'latt_n3lo': 1030.0,'latt_n4lo': 1040.0}\n",
      "84   {'chiral_n2lo': 1.15,'chiral_n3lo': 0.753,'latt_n2lo': 13.5,'latt_n3lo': 1020.0,'latt_n4lo': 1040.0}\n",
      "85   {'chiral_n2lo': 0.74,'chiral_n3lo': 1.47,'latt_n2lo': 11.7,'latt_n3lo': 1020.0,'latt_n4lo': 1040.0}\n",
      "86   {'chiral_n2lo': 0.613,'chiral_n3lo': 0.0406,'latt_n2lo': 11.9,'latt_n3lo': 1020.0,'latt_n4lo': 1040.0}\n",
      "87   {'chiral_n2lo': 0.233,'chiral_n3lo': 0.754,'latt_n2lo': 12.0,'latt_n3lo': 1020.0,'latt_n4lo': 1040.0}\n",
      "88   {'chiral_n2lo': 0.474,'chiral_n3lo': 0.315,'latt_n2lo': 9.47,'latt_n3lo': 1020.0,'latt_n4lo': 1040.0}\n",
      "89   {'chiral_n2lo': 0.121,'chiral_n3lo': 0.136,'latt_n2lo': 12.2,'latt_n3lo': 1020.0,'latt_n4lo': 1040.0}\n",
      "90   {'chiral_n2lo': 0.422,'chiral_n3lo': 0.175,'latt_n2lo': 13.2,'latt_n3lo': 1020.0,'latt_n4lo': 1040.0}\n",
      "91   {'chiral_n2lo': 0.293,'chiral_n3lo': 0.352,'latt_n2lo': 11.2,'latt_n3lo': 1020.0,'latt_n4lo': 1040.0}\n",
      "92   {'chiral_n2lo': 1.04,'chiral_n3lo': 0.316,'latt_n2lo': 11.0,'latt_n3lo': 1020.0,'latt_n4lo': 1040.0}\n",
      "93   {'chiral_n2lo': 0.253,'chiral_n3lo': 1.14,'latt_n2lo': 11.0,'latt_n3lo': 1020.0,'latt_n4lo': 1040.0}\n",
      "94   {'chiral_n2lo': 0.569,'chiral_n3lo': 1.21,'latt_n2lo': 10.5,'latt_n3lo': 1020.0,'latt_n4lo': 1040.0}\n",
      "95   {'chiral_n2lo': 0.257,'chiral_n3lo': 0.715,'latt_n2lo': 10.9,'latt_n3lo': 1020.0,'latt_n4lo': 1040.0}\n",
      "96   {'chiral_n2lo': 0.654,'chiral_n3lo': 1.16,'latt_n2lo': 13.4,'latt_n3lo': 1020.0,'latt_n4lo': 1030.0}\n",
      "97   {'chiral_n2lo': 0.192,'chiral_n3lo': 0.0546,'latt_n2lo': 10.5,'latt_n3lo': 1020.0,'latt_n4lo': 1040.0}\n",
      "98   {'chiral_n2lo': 0.428,'chiral_n3lo': 0.185,'latt_n2lo': 10.4,'latt_n3lo': 1020.0,'latt_n4lo': 1040.0}\n",
      "99   {'chiral_n2lo': 0.263,'chiral_n3lo': 0.0498,'latt_n2lo': 10.8,'latt_n3lo': 1020.0,'latt_n4lo': 1040.0}\n",
      "100   {'chiral_n2lo': 0.0531,'chiral_n3lo': 1.01,'latt_n2lo': 11.2,'latt_n3lo': 1020.0,'latt_n4lo': 1040.0}\n",
      "101   {'chiral_n2lo': 0.348,'chiral_n3lo': 0.0813,'latt_n2lo': 9.54,'latt_n3lo': 1020.0,'latt_n4lo': 1040.0}\n",
      "102   {'chiral_n2lo': 0.01,'chiral_n3lo': 0.122,'latt_n2lo': 11.6,'latt_n3lo': 1020.0,'latt_n4lo': 1040.0}\n",
      "103   {'chiral_n2lo': 0.3,'chiral_n3lo': 1.15,'latt_n2lo': 10.7,'latt_n3lo': 1020.0,'latt_n4lo': 1040.0}\n",
      "104   {'chiral_n2lo': 0.0352,'chiral_n3lo': 0.47,'latt_n2lo': 11.1,'latt_n3lo': 1020.0,'latt_n4lo': 1040.0}\n",
      "105   {'chiral_n2lo': 0.0983,'chiral_n3lo': 1.05,'latt_n2lo': 11.2,'latt_n3lo': 1020.0,'latt_n4lo': 1040.0}\n",
      "106   {'chiral_n2lo': 0.168,'chiral_n3lo': 0.273,'latt_n2lo': 10.9,'latt_n3lo': 1020.0,'latt_n4lo': 1040.0}\n",
      "107   {'chiral_n2lo': 0.185,'chiral_n3lo': 0.266,'latt_n2lo': 10.7,'latt_n3lo': 1020.0,'latt_n4lo': 1040.0}\n",
      "108   {'chiral_n2lo': 0.334,'chiral_n3lo': 0.0489,'latt_n2lo': 11.2,'latt_n3lo': 1020.0,'latt_n4lo': 1040.0}\n",
      "109   {'chiral_n2lo': 0.114,'chiral_n3lo': 0.0251,'latt_n2lo': 10.9,'latt_n3lo': 1020.0,'latt_n4lo': 1040.0}\n",
      "110   {'chiral_n2lo': 0.243,'chiral_n3lo': 0.0655,'latt_n2lo': 11.6,'latt_n3lo': 1020.0,'latt_n4lo': 1040.0}\n",
      "111   {'chiral_n2lo': 0.0833,'chiral_n3lo': 0.0246,'latt_n2lo': 10.7,'latt_n3lo': 1020.0,'latt_n4lo': 1040.0}\n",
      "112   {'chiral_n2lo': 0.277,'chiral_n3lo': 0.374,'latt_n2lo': 11.4,'latt_n3lo': 1020.0,'latt_n4lo': 1040.0}\n",
      "113   {'chiral_n2lo': 0.0697,'chiral_n3lo': 0.106,'latt_n2lo': 10.9,'latt_n3lo': 1020.0,'latt_n4lo': 1040.0}\n",
      "114   {'chiral_n2lo': 0.0692,'chiral_n3lo': 0.106,'latt_n2lo': 10.2,'latt_n3lo': 1020.0,'latt_n4lo': 1040.0}\n",
      "115   {'chiral_n2lo': 0.0145,'chiral_n3lo': 0.0651,'latt_n2lo': 11.2,'latt_n3lo': 1020.0,'latt_n4lo': 1040.0}\n",
      "116   {'chiral_n2lo': 0.164,'chiral_n3lo': 0.425,'latt_n2lo': 11.0,'latt_n3lo': 1020.0,'latt_n4lo': 1040.0}\n",
      "117   {'chiral_n2lo': 0.085,'chiral_n3lo': 0.0988,'latt_n2lo': 10.9,'latt_n3lo': 1020.0,'latt_n4lo': 1040.0}\n",
      "118   {'chiral_n2lo': 0.0111,'chiral_n3lo': 0.546,'latt_n2lo': 10.8,'latt_n3lo': 1020.0,'latt_n4lo': 1040.0}\n",
      "119   {'chiral_n2lo': 0.0236,'chiral_n3lo': 0.216,'latt_n2lo': 11.0,'latt_n3lo': 1020.0,'latt_n4lo': 1040.0}\n",
      "120   {'chiral_n2lo': 0.126,'chiral_n3lo': 0.0458,'latt_n2lo': 11.1,'latt_n3lo': 1020.0,'latt_n4lo': 1040.0}\n",
      "121   {'chiral_n2lo': 0.0539,'chiral_n3lo': 0.01,'latt_n2lo': 10.9,'latt_n3lo': 1020.0,'latt_n4lo': 1040.0}\n",
      "122   {'chiral_n2lo': 0.126,'chiral_n3lo': 0.0521,'latt_n2lo': 11.2,'latt_n3lo': 1020.0,'latt_n4lo': 1040.0}\n",
      "123   {'chiral_n2lo': 0.0309,'chiral_n3lo': 0.01,'latt_n2lo': 10.9,'latt_n3lo': 1020.0,'latt_n4lo': 1040.0}\n",
      "124   {'chiral_n2lo': 0.0102,'chiral_n3lo': 0.0658,'latt_n2lo': 10.6,'latt_n3lo': 1020.0,'latt_n4lo': 1040.0}\n",
      "125   {'chiral_n2lo': 0.0134,'chiral_n3lo': 0.0324,'latt_n2lo': 11.1,'latt_n3lo': 1020.0,'latt_n4lo': 1040.0}\n",
      "126   {'chiral_n2lo': 0.0888,'chiral_n3lo': 0.151,'latt_n2lo': 10.9,'latt_n3lo': 1020.0,'latt_n4lo': 1040.0}\n",
      "127   {'chiral_n2lo': 0.0415,'chiral_n3lo': 0.0364,'latt_n2lo': 10.9,'latt_n3lo': 1020.0,'latt_n4lo': 1040.0}\n",
      "128   {'chiral_n2lo': 0.0203,'chiral_n3lo': 0.265,'latt_n2lo': 10.9,'latt_n3lo': 1020.0,'latt_n4lo': 1040.0}\n",
      "129   {'chiral_n2lo': 0.0126,'chiral_n3lo': 0.0958,'latt_n2lo': 11.0,'latt_n3lo': 1020.0,'latt_n4lo': 1040.0}\n",
      "130   {'chiral_n2lo': 0.106,'chiral_n3lo': 0.138,'latt_n2lo': 11.0,'latt_n3lo': 1020.0,'latt_n4lo': 1040.0}\n",
      "131   {'chiral_n2lo': 0.0258,'chiral_n3lo': 0.0453,'latt_n2lo': 10.9,'latt_n3lo': 1020.0,'latt_n4lo': 1040.0}\n",
      "132   {'chiral_n2lo': 0.01,'chiral_n3lo': 0.0319,'latt_n2lo': 10.8,'latt_n3lo': 1020.0,'latt_n4lo': 1040.0}\n",
      "133   {'chiral_n2lo': 0.0521,'chiral_n3lo': 0.01,'latt_n2lo': 10.9,'latt_n3lo': 1020.0,'latt_n4lo': 1040.0}\n",
      "134   {'chiral_n2lo': 0.0256,'chiral_n3lo': 0.01,'latt_n2lo': 10.9,'latt_n3lo': 1020.0,'latt_n4lo': 1040.0}\n",
      "135   {'chiral_n2lo': 0.0261,'chiral_n3lo': 0.145,'latt_n2lo': 10.8,'latt_n3lo': 1020.0,'latt_n4lo': 1040.0}\n",
      "136   {'chiral_n2lo': 0.01,'chiral_n3lo': 0.0357,'latt_n2lo': 10.9,'latt_n3lo': 1020.0,'latt_n4lo': 1040.0}\n",
      "137   {'chiral_n2lo': 0.0704,'chiral_n3lo': 0.0164,'latt_n2lo': 10.8,'latt_n3lo': 1020.0,'latt_n4lo': 1040.0}\n",
      "138   {'chiral_n2lo': 0.0135,'chiral_n3lo': 0.0232,'latt_n2lo': 10.9,'latt_n3lo': 1020.0,'latt_n4lo': 1040.0}\n",
      "139   {'chiral_n2lo': 0.0334,'chiral_n3lo': 0.0153,'latt_n2lo': 11.0,'latt_n3lo': 1020.0,'latt_n4lo': 1040.0}\n",
      "140   {'chiral_n2lo': 0.01,'chiral_n3lo': 0.0201,'latt_n2lo': 10.8,'latt_n3lo': 1020.0,'latt_n4lo': 1040.0}\n",
      "141   {'chiral_n2lo': 0.0233,'chiral_n3lo': 0.01,'latt_n2lo': 11.0,'latt_n3lo': 1020.0,'latt_n4lo': 1040.0}\n",
      "142   {'chiral_n2lo': 0.01,'chiral_n3lo': 0.0142,'latt_n2lo': 10.9,'latt_n3lo': 1020.0,'latt_n4lo': 1040.0}\n",
      "143   {'chiral_n2lo': 0.0137,'chiral_n3lo': 0.0147,'latt_n2lo': 10.9,'latt_n3lo': 1020.0,'latt_n4lo': 1040.0}\n",
      "144   {'chiral_n2lo': 0.0244,'chiral_n3lo': 0.0373,'latt_n2lo': 10.9,'latt_n3lo': 1020.0,'latt_n4lo': 1040.0}\n",
      "145   {'chiral_n2lo': 0.0118,'chiral_n3lo': 0.0167,'latt_n2lo': 10.9,'latt_n3lo': 1020.0,'latt_n4lo': 1040.0}\n",
      "146   {'chiral_n2lo': 0.0392,'chiral_n3lo': 0.01,'latt_n2lo': 10.9,'latt_n3lo': 1020.0,'latt_n4lo': 1040.0}\n",
      "147   {'chiral_n2lo': 0.01,'chiral_n3lo': 0.01,'latt_n2lo': 10.9,'latt_n3lo': 1020.0,'latt_n4lo': 1040.0}\n",
      "148   {'chiral_n2lo': 0.01,'chiral_n3lo': 0.032,'latt_n2lo': 10.9,'latt_n3lo': 1020.0,'latt_n4lo': 1040.0}\n",
      "149   {'chiral_n2lo': 0.01,'chiral_n3lo': 0.0284,'latt_n2lo': 10.9,'latt_n3lo': 1020.0,'latt_n4lo': 1040.0}\n",
      "150   {'chiral_n2lo': 0.011,'chiral_n3lo': 0.0489,'latt_n2lo': 10.9,'latt_n3lo': 1020.0,'latt_n4lo': 1040.0}\n",
      "151   {'chiral_n2lo': 0.01,'chiral_n3lo': 0.0118,'latt_n2lo': 10.9,'latt_n3lo': 1020.0,'latt_n4lo': 1040.0}\n",
      "152   {'chiral_n2lo': 0.019,'chiral_n3lo': 0.01,'latt_n2lo': 10.8,'latt_n3lo': 1020.0,'latt_n4lo': 1040.0}\n",
      "153   {'chiral_n2lo': 0.01,'chiral_n3lo': 0.01,'latt_n2lo': 10.9,'latt_n3lo': 1020.0,'latt_n4lo': 1040.0}\n",
      "154   {'chiral_n2lo': 0.01,'chiral_n3lo': 0.0299,'latt_n2lo': 10.9,'latt_n3lo': 1020.0,'latt_n4lo': 1040.0}\n"
     ]
    },
    {
     "name": "stdout",
     "output_type": "stream",
     "text": [
      "155   {'chiral_n2lo': 0.01,'chiral_n3lo': 0.0138,'latt_n2lo': 10.9,'latt_n3lo': 1020.0,'latt_n4lo': 1040.0}\n",
      "156   {'chiral_n2lo': 0.0191,'chiral_n3lo': 0.0274,'latt_n2lo': 10.9,'latt_n3lo': 1020.0,'latt_n4lo': 1040.0}\n",
      "157   {'chiral_n2lo': 0.01,'chiral_n3lo': 0.01,'latt_n2lo': 10.9,'latt_n3lo': 1020.0,'latt_n4lo': 1040.0}\n",
      "158   {'chiral_n2lo': 0.01,'chiral_n3lo': 0.0114,'latt_n2lo': 10.9,'latt_n3lo': 1020.0,'latt_n4lo': 1040.0}\n",
      "159   {'chiral_n2lo': 0.01,'chiral_n3lo': 0.0211,'latt_n2lo': 10.9,'latt_n3lo': 1020.0,'latt_n4lo': 1040.0}\n",
      "160   {'chiral_n2lo': 0.01,'chiral_n3lo': 0.01,'latt_n2lo': 10.9,'latt_n3lo': 1020.0,'latt_n4lo': 1040.0}\n",
      "161   {'chiral_n2lo': 0.01,'chiral_n3lo': 0.0112,'latt_n2lo': 10.9,'latt_n3lo': 1020.0,'latt_n4lo': 1040.0}\n",
      "162   {'chiral_n2lo': 0.01,'chiral_n3lo': 0.0199,'latt_n2lo': 10.9,'latt_n3lo': 1020.0,'latt_n4lo': 1040.0}\n",
      "163   {'chiral_n2lo': 0.01,'chiral_n3lo': 0.01,'latt_n2lo': 10.9,'latt_n3lo': 1020.0,'latt_n4lo': 1040.0}\n",
      "164   {'chiral_n2lo': 0.01,'chiral_n3lo': 0.01,'latt_n2lo': 10.9,'latt_n3lo': 1020.0,'latt_n4lo': 1040.0}\n",
      "165   {'chiral_n2lo': 0.01,'chiral_n3lo': 0.0112,'latt_n2lo': 10.9,'latt_n3lo': 1020.0,'latt_n4lo': 1040.0}\n",
      "166   {'chiral_n2lo': 0.01,'chiral_n3lo': 0.01,'latt_n2lo': 10.9,'latt_n3lo': 1020.0,'latt_n4lo': 1040.0}\n",
      "167   {'chiral_n2lo': 0.01,'chiral_n3lo': 0.01,'latt_n2lo': 10.9,'latt_n3lo': 1020.0,'latt_n4lo': 1040.0}\n",
      "168   {'chiral_n2lo': 0.0102,'chiral_n3lo': 0.01,'latt_n2lo': 10.9,'latt_n3lo': 1020.0,'latt_n4lo': 1040.0}\n",
      "169   {'chiral_n2lo': 0.01,'chiral_n3lo': 0.01,'latt_n2lo': 10.9,'latt_n3lo': 1020.0,'latt_n4lo': 1040.0}\n",
      "170   {'chiral_n2lo': 0.01,'chiral_n3lo': 0.01,'latt_n2lo': 10.9,'latt_n3lo': 1020.0,'latt_n4lo': 1040.0}\n",
      "171   {'chiral_n2lo': 0.01,'chiral_n3lo': 0.01,'latt_n2lo': 10.9,'latt_n3lo': 1020.0,'latt_n4lo': 1040.0}\n",
      "172   {'chiral_n2lo': 0.01,'chiral_n3lo': 0.01,'latt_n2lo': 10.9,'latt_n3lo': 1020.0,'latt_n4lo': 1040.0}\n",
      "173   {'chiral_n2lo': 0.01,'chiral_n3lo': 0.01,'latt_n2lo': 10.9,'latt_n3lo': 1020.0,'latt_n4lo': 1040.0}\n",
      "174   {'chiral_n2lo': 0.01,'chiral_n3lo': 0.01,'latt_n2lo': 10.9,'latt_n3lo': 1020.0,'latt_n4lo': 1040.0}\n",
      "175   {'chiral_n2lo': 0.01,'chiral_n3lo': 0.01,'latt_n2lo': 10.9,'latt_n3lo': 1020.0,'latt_n4lo': 1040.0}\n",
      "{'chiral_n2lo': 0.01,'chiral_n3lo': 0.01,'latt_n2lo': 10.9,'latt_n3lo': 1020.0,'latt_n4lo': 1040.0}\n",
      "\n",
      "Total time (s):  108.01900839805603 \n",
      "\n"
     ]
    }
   ],
   "source": [
    "t0 = time.time()\n",
    "\n",
    "# Load data\n",
    "data_loader = dl.data_loader()\n",
    "fit_data = data_loader.get_fit_data()\n",
    "phys_point_data = data_loader.get_phys_point_data()\n",
    "params['model_info']['name'] = data_loader.get_model_name_from_model_info(params['model_info'])\n",
    "\n",
    "\n",
    "# Make bootstrapper\n",
    "fit_manager = fm.fit_manager(fit_data, phys_point_data, prior=None, **params)\n",
    "\n",
    "new_prior = fit_manager.create_prior_from_fit()\n",
    "#data_loader.save_prior(new_prior, bootstrapper.get_name())\n",
    "    \n",
    "t1 = time.time()\n",
    "\n",
    "print(\"\\nTotal time (s): \", t1 - t0, \"\\n\")"
   ]
  },
  {
   "cell_type": "code",
   "execution_count": 117,
   "metadata": {},
   "outputs": [
    {
     "name": "stdout",
     "output_type": "stream",
     "text": [
      "\n",
      "Model: xpt_FKFK_n3lo_a4_a6_FV_bijnens\n",
      "\n",
      "Fitted/[FLAG] values at physical point:\n",
      "\tF_K / F_pi = 1.1924(34) [1.1957(19)]\t(delta_su2 = -0.00415(70))\n",
      "\n",
      "Parameters:\n",
      "            L_4   -0.00224 (11)      [   0.0000 (50) ]  \n",
      "            L_5   0.000414 (87)      [   0.0000 (50) ]  \n",
      "            A_k    6(10000)e-06      [    0.000 (10) ]  \n",
      "            A_p   -2(10000)e-06      [    0.000 (10) ]  \n",
      "            A_a     -10.8 (1.4)      [        0 (11) ]  \n",
      "           A_aa         79 (20)      [      0 (1020) ]  \n",
      "           A_ak   -3(10000)e-06      [    0.000 (10) ]  \n",
      "           A_ap   -8(10000)e-06      [    0.000 (10) ]  \n",
      "           A_kk   3e-07 +- 0.01      [    0.000 (10) ]  \n",
      "           A_kp   -3(10000)e-06      [    0.000 (10) ]  \n",
      "           A_pp   -7(10000)e-06      [    0.000 (10) ]  \n",
      "          A_aaa       -6 (1034)      [      0 (1040) ]  \n",
      "\n",
      "Least Square Fit:\n",
      "  chi2/dof [dof] = 0.78 [17]    Q = 0.72    logGBF = 68.147\n",
      "\n",
      "Settings:\n",
      "  svdcut/n = 1e-12/0    tol = (1e-08,1e-10,1e-10)    (itns/time = 1*/0.3)\n",
      "\n",
      "Error Budget (relative error):\n",
      "  disc: 0.000457\n",
      "  chiral: 4.71e-05\n",
      "  pp_input: 0.00109\n",
      "  stat: 0.00255\n",
      "\n"
     ]
    }
   ],
   "source": [
    "print(fit_manager)"
   ]
  },
  {
   "cell_type": "code",
   "execution_count": null,
   "metadata": {},
   "outputs": [],
   "source": []
  },
  {
   "cell_type": "code",
   "execution_count": 108,
   "metadata": {},
   "outputs": [
    {
     "name": "stdout",
     "output_type": "stream",
     "text": [
      "\n",
      "Model: xpt_FKFK_n3lo_a4_FV_bijnens\n",
      "\n",
      "Fitted/[FLAG] values at physical point:\n",
      "\tF_K / F_pi = 1.1924(33) [1.1957(19)]\t(delta_su2 = -0.00415(70))\n",
      "\n",
      "Parameters:\n",
      "            L_4    -0.00224 (11)       [   0.0000 (50) ]  \n",
      "            L_5    0.000414 (88)       [   0.0000 (50) ]  \n",
      "            A_k   0.00002 (1920)       [    0.000 (19) ]  \n",
      "            A_p    -7(19200)e-06       [    0.000 (19) ]  \n",
      "            A_a      -10.8 (1.4)       [        0 (11) ]  \n",
      "           A_aa          79 (17)       [      0 (1080) ]  \n",
      "           A_ak    -0.0003 (975)       [    0.000 (98) ]  \n",
      "           A_ap    -0.0007 (975)       [    0.000 (98) ]  \n",
      "           A_kk   0.00003 (9750)       [    0.000 (98) ]  \n",
      "           A_kp    -0.0003 (975)       [    0.000 (98) ]  \n",
      "           A_pp    -0.0006 (975)       [    0.000 (98) ]  \n",
      "\n",
      "Least Square Fit:\n",
      "  chi2/dof [dof] = 0.78 [17]    Q = 0.72    logGBF = 68.095\n",
      "\n",
      "Settings:\n",
      "  svdcut/n = 1e-12/0    tol = (1e-08*,1e-10,1e-10)    (itns/time = 7/0.6)\n",
      "\n",
      "Error Budget (relative error):\n",
      "  disc: 0.000307\n",
      "  chiral: 6.1e-05\n",
      "  pp_input: 0.00109\n",
      "  stat: 0.00255\n",
      "\n"
     ]
    }
   ],
   "source": [
    "print(fit_manager)"
   ]
  },
  {
   "cell_type": "code",
   "execution_count": null,
   "metadata": {},
   "outputs": [],
   "source": []
  },
  {
   "cell_type": "code",
   "execution_count": 100,
   "metadata": {},
   "outputs": [
    {
     "name": "stdout",
     "output_type": "stream",
     "text": [
      "\n",
      "Model: xpt_FKFK_n2lo_a4_FV_bijnens\n",
      "\n",
      "Fitted/[FLAG] values at physical point:\n",
      "\tF_K / F_pi = 1.1924(33) [1.1957(19)]\t(delta_su2 = -0.00415(70))\n",
      "\n",
      "Parameters:\n",
      "            L_4   -0.00224 (11)      [   0.0000 (50) ]  \n",
      "            L_5   0.000414 (87)      [   0.0000 (50) ]  \n",
      "            A_k    6(10000)e-06      [    0.000 (10) ]  \n",
      "            A_p   -2(10000)e-06      [    0.000 (10) ]  \n",
      "            A_a     -10.8 (1.4)      [        0 (11) ]  \n",
      "           A_aa         79 (17)      [      0 (1050) ]  \n",
      "\n",
      "Least Square Fit:\n",
      "  chi2/dof [dof] = 0.78 [17]    Q = 0.72    logGBF = 68.124\n",
      "\n",
      "Settings:\n",
      "  svdcut/n = 1e-12/0    tol = (1e-08*,1e-10,1e-10)    (itns/time = 8/0.6)\n",
      "\n",
      "Error Budget (relative error):\n",
      "  disc: 0.00031\n",
      "  chiral: 4.68e-05\n",
      "  pp_input: 0.00109\n",
      "  stat: 0.00255\n",
      "\n"
     ]
    }
   ],
   "source": [
    "print(fit_manager)"
   ]
  },
  {
   "cell_type": "code",
   "execution_count": 5,
   "metadata": {},
   "outputs": [
    {
     "name": "stdout",
     "output_type": "stream",
     "text": [
      "\n",
      "Model: xpt_FKFK_n2lo_a4_FV_bijnens\n",
      "\n",
      "Fitted/[FLAG] values at physical point:\n",
      "\tF_K / F_pi = 1.1926(38) [1.1957(19)]\t(delta_su2 = -0.00416(70))\n",
      "\n",
      "Parameters:\n",
      "            L_4    -0.0018 (25)      [   0.0000 (50) ]  \n",
      "            L_5    0.00036 (79)      [   0.0000 (50) ]  \n",
      "            A_k       1.0 (4.6)      [     0.0 (5.5) ]  \n",
      "            A_p       0.3 (2.8)      [     0.0 (5.5) ]  \n",
      "            A_a     -10.9 (1.5)      [     0 (18000) ]  \n",
      "           A_aa         81 (22)      [     0 (35600) ]  \n",
      "\n",
      "Least Square Fit:\n",
      "  chi2/dof [dof] = 0.72 [17]    Q = 0.79    logGBF = 56.725\n",
      "\n",
      "Settings:\n",
      "  svdcut/n = 1e-12/0    tol = (1e-08*,1e-10,1e-10)    (itns/time = 14/0.7)\n",
      "\n",
      "Error Budget (relative error):\n",
      "  disc: 1.75e-06\n",
      "  chiral: 0.000771\n",
      "  pp_input: 0.00112\n",
      "  stat: 0.0029\n",
      "\n"
     ]
    }
   ],
   "source": [
    "print(fit_manager)"
   ]
  },
  {
   "cell_type": "code",
   "execution_count": 202,
   "metadata": {},
   "outputs": [
    {
     "name": "stdout",
     "output_type": "stream",
     "text": [
      "\n",
      "Model: xpt_FKFK_n2lo_a4_FV_bijnens\n",
      "\n",
      "Fitted/[FLAG] values at physical point:\n",
      "\tF_K / F_pi = 1.1926(38) [1.1957(19)]\t(delta_su2 = -0.00416(70))\n",
      "\n",
      "Parameters:\n",
      "            L_4    -0.0018 (25)      [   0.0000 (50) ]  \n",
      "            L_5    0.00036 (79)      [   0.0000 (50) ]  \n",
      "            A_k       1.0 (4.6)      [     0.0 (5.5) ]  \n",
      "            A_p       0.3 (2.8)      [     0.0 (5.5) ]  \n",
      "            A_a     -10.9 (1.5)      [      0 (1000) ]  \n",
      "           A_aa         80 (22)      [      0 (1000) ]  \n",
      "\n",
      "Least Square Fit:\n",
      "  chi2/dof [dof] = 0.72 [17]    Q = 0.79    logGBF = 63.182\n",
      "\n",
      "Settings:\n",
      "  svdcut/n = 1e-12/0    tol = (1e-08,1e-10,1e-10)    (itns/time = 1*/0.3)\n",
      "\n",
      "Error Budget (relative error):\n",
      "  disc: 6.2e-05\n",
      "  chiral: 0.00077\n",
      "  pp_input: 0.00112\n",
      "  stat: 0.0029\n",
      "\n"
     ]
    }
   ],
   "source": [
    "print(fit_manager)"
   ]
  },
  {
   "cell_type": "code",
   "execution_count": 127,
   "metadata": {},
   "outputs": [
    {
     "name": "stdout",
     "output_type": "stream",
     "text": [
      "\n",
      "Model: xpt_FKFK_n2lo_a4_FV_bijnens\n",
      "\n",
      "Fitted/[FLAG] values at physical point:\n",
      "\tF_K / F_pi = 1.1927(33) [1.1957(19)]\t(delta_su2 = -0.00416(70))\n",
      "\n",
      "Parameters:\n",
      "            L_4     -0.00224 (11)       [   0.0000 (50) ]  \n",
      "            L_5     0.000422 (88)       [   0.0000 (50) ]  \n",
      "            A_k    0.00001 (1562)       [    0.000 (16) ]  \n",
      "            A_p   -9e-07 +- 0.016       [    0.000 (16) ]  \n",
      "            A_a       -11.0 (1.4)       [       0 (100) ]  \n",
      "           A_aa           81 (18)       [      0 (1000) ]  \n",
      "\n",
      "Least Square Fit:\n",
      "  chi2/dof [dof] = 0.72 [17]    Q = 0.78    logGBF = 66.457\n",
      "\n",
      "Settings:\n",
      "  svdcut/n = 1e-12/0    tol = (1e-08,1e-10,1e-10)    (itns/time = 1*/0.2)\n",
      "\n",
      "Error Budget (relative error):\n",
      "  disc: 5.35e-05\n",
      "  chiral: 4.8e-05\n",
      "  pp_input: 0.00109\n",
      "  stat: 0.00259\n",
      "\n"
     ]
    }
   ],
   "source": [
    "print(fit_manager)"
   ]
  },
  {
   "cell_type": "code",
   "execution_count": 105,
   "metadata": {},
   "outputs": [
    {
     "name": "stdout",
     "output_type": "stream",
     "text": [
      "Partial Errors:\n",
      "                  FK/Fpi\n",
      "------------------------\n",
      "          A_a:   0.00004\n",
      "         A_aa:   0.00005\n",
      "          A_k:   0.00001\n",
      "          A_p:   0.00001\n",
      "          L_4:   0.00003\n",
      "          L_5:   0.00005\n",
      "     phys:mpi:   0.00012\n",
      "      phys:mk:   0.00021\n",
      "phys:lam2_chi:   0.00128\n",
      "         stat:   0.00308\n",
      "------------------------\n",
      "        total:   0.00335\n",
      "\n"
     ]
    }
   ],
   "source": [
    "print(fit_manager.fmt_error_budget())"
   ]
  },
  {
   "cell_type": "code",
   "execution_count": 19,
   "metadata": {},
   "outputs": [
    {
     "data": {
      "text/plain": [
       "{'A_a': 0(100),\n",
       " 'A_aa': 0(1000),\n",
       " 'A_k': 0.0(1.0)e-05,\n",
       " 'A_p': 0.0(1.0)e-05,\n",
       " 'L_4': 0.0000(50),\n",
       " 'L_5': 0.0000(50)}"
      ]
     },
     "execution_count": 19,
     "metadata": {},
     "output_type": "execute_result"
    }
   ],
   "source": [
    "new_prior"
   ]
  },
  {
   "cell_type": "code",
   "execution_count": 18,
   "metadata": {},
   "outputs": [
    {
     "name": "stdout",
     "output_type": "stream",
     "text": [
      "\n",
      "Model: xpt_FKFK_n2lo_a4_FV_bijnens\n",
      "\n",
      "Fitted/[FLAG] values at physical point:\n",
      "\tF_K / F_pi = 1.1927(33) [1.1957(19)]\t(delta_su2 = -0.00416(70))\n",
      "\n",
      "Parameters:\n",
      "            L_4     -0.00224 (11)       [   0.0000 (50) ]  \n",
      "            L_5     0.000422 (88)       [   0.0000 (50) ]  \n",
      "            A_k    5e-12 +- 1e-05       [  0.0(1.0)e-05 ]  \n",
      "            A_p   -4e-13 +- 1e-05       [  0.0(1.0)e-05 ]  \n",
      "            A_a       -11.0 (1.4)       [       0 (100) ]  \n",
      "           A_aa           81 (18)       [      0 (1000) ]  \n",
      "\n",
      "Least Square Fit:\n",
      "  chi2/dof [dof] = 0.72 [17]    Q = 0.78    logGBF = 66.457\n",
      "\n",
      "Settings:\n",
      "  svdcut/n = 1e-12/0    tol = (1e-08*,1e-10,1e-10)    (itns/time = 5/0.3)\n",
      "\n",
      "Error Budget (relative error):\n",
      "\tdisc: 5.35e-05\tchiral: 4.69e-05\tpp_input: 0.00109\tstat: 0.00259\n"
     ]
    }
   ],
   "source": [
    "print(fit_manager)"
   ]
  },
  {
   "cell_type": "code",
   "execution_count": null,
   "metadata": {},
   "outputs": [],
   "source": []
  },
  {
   "cell_type": "code",
   "execution_count": null,
   "metadata": {},
   "outputs": [],
   "source": []
  },
  {
   "cell_type": "code",
   "execution_count": null,
   "metadata": {
    "collapsed": true
   },
   "outputs": [],
   "source": []
  }
 ],
 "metadata": {
  "kernelspec": {
   "display_name": "Python 3",
   "language": "python",
   "name": "python3"
  },
  "language_info": {
   "codemirror_mode": {
    "name": "ipython",
    "version": 3
   },
   "file_extension": ".py",
   "mimetype": "text/x-python",
   "name": "python",
   "nbconvert_exporter": "python",
   "pygments_lexer": "ipython3",
   "version": "3.8.2"
  }
 },
 "nbformat": 4,
 "nbformat_minor": 2
}
